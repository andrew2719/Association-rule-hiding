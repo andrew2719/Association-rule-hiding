{
 "cells": [
  {
   "cell_type": "code",
   "execution_count": 197,
   "metadata": {},
   "outputs": [],
   "source": [
    "# Data Handling\n",
    "#===================\n",
    "import pandas as pd\n",
    "\n",
    "# Data Handling\n",
    "#===================\n",
    "from mlxtend.frequent_patterns import apriori, association_rules\n",
    "\n",
    "# Visualization\n",
    "#===================\n",
    "import matplotlib.pyplot as plt\n",
    "import seaborn as sns\n",
    "import plotly.express as px\n",
    "import os\n",
    "# Warnings\n",
    "#===================\n",
    "import warnings\n",
    "warnings.filterwarnings('ignore')"
   ]
  },
  {
   "cell_type": "code",
   "execution_count": 198,
   "metadata": {},
   "outputs": [],
   "source": [
    "transactions_original = pd.read_csv('transactions_lists.csv')\n",
    "modified_txn_05 = pd.read_csv('modified_txn_final_05.csv')\n",
    "modified_txn_045 = pd.read_csv('modified_txn_final_045.csv')\n",
    "modified_txn_04 = pd.read_csv('modified_txn_final_04.csv')"
   ]
  },
  {
   "cell_type": "code",
   "execution_count": 199,
   "metadata": {},
   "outputs": [],
   "source": [
    "rules_to_hide_05 = pd.read_csv('rules_to_hide_df_05.csv')\n",
    "rules_to_hide_045 = pd.read_csv('rules_to_hide_df_045.csv')\n",
    "rules_to_hide_04 = pd.read_csv('rules_to_hide_df_04.csv')"
   ]
  },
  {
   "cell_type": "code",
   "execution_count": 200,
   "metadata": {},
   "outputs": [],
   "source": [
    "# # make the ruls to hide with antecedents and consequents drop remaining columns\n",
    "# rules_to_hide_05 = rules_to_hide_05[['antecedents', 'consequents']]\n",
    "# # rules_to_hide_05\n",
    "# # 0\tfrozenset({'1358'})\tfrozenset({'1359'}) , the frozenset is string, we need to remove that\n",
    "# # change this format to just 1358, 1359 frozensets\n",
    "\n",
    "# rules_to_hide_05['antecedents'] = rules_to_hide_05['antecedents'].apply(lambda x: x.replace('frozenset({', '').replace('})', ''))\n",
    "# rules_to_hide_05['consequents'] = rules_to_hide_05['consequents'].apply(lambda x: x.replace('frozenset({', '').replace('})', ''))\n",
    "\n",
    "# # \"'1358'\" from this to 1358\n",
    "# rules_to_hide_05['antecedents'] = rules_to_hide_05['antecedents'].apply(lambda x: x.replace(\"'\", ''))\n",
    "# rules_to_hide_05['consequents'] = rules_to_hide_05['consequents'].apply(lambda x: x.replace(\"'\", ''))\n",
    "\n",
    "# # rules_to_hide_05\n",
    "# # make into frozensets\n",
    "# rules_to_hide_05['antecedents'] = rules_to_hide_05['antecedents'].apply(lambda x: frozenset(x.split(', ')))\n",
    "# rules_to_hide_05['consequents'] = rules_to_hide_05['consequents'].apply(lambda x: frozenset(x.split(', ')))\n",
    "\n",
    "# rules_to_hide_05\n",
    "\n"
   ]
  },
  {
   "cell_type": "code",
   "execution_count": 201,
   "metadata": {},
   "outputs": [],
   "source": [
    "def formating_rules_to_hide_dfs(df):\n",
    "    # make the ruls to hide with antecedents and consequents drop remaining columns\n",
    "    df = df[['antecedents', 'consequents']]\n",
    "    # rules_to_hide_05\n",
    "    # 0\tfrozenset({'1358'})\tfrozenset({'1359'}) , the frozenset is string, we need to remove that\n",
    "    # change this format to just 1358, 1359 frozensets\n",
    "\n",
    "    df['antecedents'] = df['antecedents'].apply(lambda x: x.replace('frozenset({', '').replace('})', ''))\n",
    "    df['consequents'] = df['consequents'].apply(lambda x: x.replace('frozenset({', '').replace('})', ''))\n",
    "\n",
    "    # \"'1358'\" from this to 1358\n",
    "    df['antecedents'] = df['antecedents'].apply(lambda x: x.replace(\"'\", ''))\n",
    "    df['consequents'] = df['consequents'].apply(lambda x: x.replace(\"'\", ''))\n",
    "\n",
    "    # rules_to_hide_05\n",
    "    # make into frozensets\n",
    "    df['antecedents'] = df['antecedents'].apply(lambda x: frozenset(x.split(', ')))\n",
    "    df['consequents'] = df['consequents'].apply(lambda x: frozenset(x.split(', ')))\n",
    "\n",
    "    return df\n",
    "\n",
    "rules_to_hide_05 = formating_rules_to_hide_dfs(rules_to_hide_05)\n",
    "rules_to_hide_045 = formating_rules_to_hide_dfs(rules_to_hide_045)\n",
    "rules_to_hide_04 = formating_rules_to_hide_dfs(rules_to_hide_04)"
   ]
  },
  {
   "cell_type": "code",
   "execution_count": 241,
   "metadata": {},
   "outputs": [
    {
     "data": {
      "text/plain": [
       "(5, 12, 30)"
      ]
     },
     "execution_count": 241,
     "metadata": {},
     "output_type": "execute_result"
    }
   ],
   "source": [
    "len(rules_to_hide_05), len(rules_to_hide_045), len(rules_to_hide_04)"
   ]
  },
  {
   "cell_type": "code",
   "execution_count": 202,
   "metadata": {},
   "outputs": [],
   "source": [
    "# # transactions_original = transactions_original.astype(str)\n",
    "# # result_df = pd.DataFrame({'ItemName': transactions_original.apply(lambda x: ', '.join(x.dropna()), axis=1)})\n",
    "# # # result_df\n",
    "# # # delete if there is nan\n",
    "# # result_df = result_df[result_df['ItemName'] != 'nan']\n",
    "# # result_df\n",
    "\n",
    "# # for each row, make them into a list of items, and exclude nan\n",
    "# transactions_original = transactions_original.apply(lambda x: x.dropna().tolist(), axis=1)\n",
    "# # each value in the list make them as int instead of float\n",
    "# transactions_original = transactions_original.apply(lambda x: list(map(int, x)))\n",
    "# # now change the int to string\n",
    "# transactions_original = transactions_original.apply(lambda x: list(map(str, x)))\n",
    "# # convert the list of items to a string separated by \", \"\n",
    "# transactions_original = transactions_original.apply(lambda x: ', '.join(x))\n",
    "# #create a new column ItemName and assign the string to it\n",
    "# transactions_original = pd.DataFrame({'ItemName': transactions_original})\n"
   ]
  },
  {
   "cell_type": "code",
   "execution_count": 203,
   "metadata": {},
   "outputs": [],
   "source": [
    "\n",
    "def transaform_data(data):\n",
    "    data = data.apply(lambda x: x.dropna().tolist(), axis=1)\n",
    "    data = data.apply(lambda x: list(map(int, x)))\n",
    "    data = data.apply(lambda x: list(map(str, x)))\n",
    "    data = data.apply(lambda x: ', '.join(x))\n",
    "    data = pd.DataFrame({'ItemName': data})\n",
    "    return data\n",
    "\n",
    "\n",
    "transactions_original = transaform_data(transactions_original)\n",
    "modified_txn_05 = transaform_data(modified_txn_05)\n",
    "modified_txn_045 = transaform_data(modified_txn_045)\n",
    "modified_txn_04 = transaform_data(modified_txn_04)\n"
   ]
  },
  {
   "cell_type": "code",
   "execution_count": 204,
   "metadata": {},
   "outputs": [],
   "source": [
    "# item_df_transactions_original = transactions_original['ItemName'].str.split(', ', expand=True).applymap(lambda x: x.strip() if x else x)\n",
    "def item_df_conversion(data):\n",
    "    item_df = data['ItemName'].str.split(', ', expand=True).applymap(lambda x: x.strip() if x else x)\n",
    "    return item_df\n",
    "\n",
    "item_df_transactions_original = item_df_conversion(transactions_original)\n",
    "item_df_modified_txn_05 = item_df_conversion(modified_txn_05)\n",
    "item_df_modified_txn_045 = item_df_conversion(modified_txn_045)\n",
    "item_df_modified_txn_04 = item_df_conversion(modified_txn_04)\n"
   ]
  },
  {
   "cell_type": "code",
   "execution_count": 205,
   "metadata": {},
   "outputs": [],
   "source": [
    "\n",
    "def one_hot_encoding(data):\n",
    "    df_encoded = pd.get_dummies(data, prefix='', prefix_sep='').groupby(level=0, axis=1).max()\n",
    "    return df_encoded\n",
    "\n",
    "df_encoded_transactions_original = one_hot_encoding(item_df_transactions_original)\n",
    "df_encoded_modified_txn_05 = one_hot_encoding(item_df_modified_txn_05)\n",
    "df_encoded_modified_txn_045 = one_hot_encoding(item_df_modified_txn_045)\n",
    "df_encoded_modified_txn_04 = one_hot_encoding(item_df_modified_txn_04)\n"
   ]
  },
  {
   "cell_type": "code",
   "execution_count": 206,
   "metadata": {},
   "outputs": [],
   "source": [
    "\n",
    "def binary_encoding(data):\n",
    "    df_binary = data.copy()\n",
    "    df_binary = df_binary.astype('bool').astype('int')\n",
    "    return df_binary\n",
    "\n",
    "df_binary_transactions_original = binary_encoding(df_encoded_transactions_original)\n",
    "df_binary_modified_txn_05 = binary_encoding(df_encoded_modified_txn_05)\n",
    "df_binary_modified_txn_045 = binary_encoding(df_encoded_modified_txn_045)\n",
    "df_binary_modified_txn_04 = binary_encoding(df_encoded_modified_txn_04)"
   ]
  },
  {
   "cell_type": "code",
   "execution_count": 244,
   "metadata": {},
   "outputs": [
    {
     "name": "stdout",
     "output_type": "stream",
     "text": [
      "(150, 1619) (150, 1619) (150, 1619) (150, 1616)\n"
     ]
    }
   ],
   "source": [
    "print(df_binary_transactions_original.shape, df_binary_modified_txn_05.shape, df_binary_modified_txn_045.shape, df_binary_modified_txn_04.shape)"
   ]
  },
  {
   "cell_type": "code",
   "execution_count": 207,
   "metadata": {},
   "outputs": [],
   "source": [
    "from mlxtend.frequent_patterns import apriori, association_rules\n",
    "\n",
    "def mine_association_rules(df_one_hot, min_support=0.025, min_confidence=0.5):\n",
    "\n",
    "    # Convert items to boolean columns\n",
    "    # df_encoded = df_encoded\n",
    "    \n",
    "    # Perform association rule mining\n",
    "    frequent_itemsets = apriori(df_one_hot, min_support=min_support, use_colnames=True)\n",
    "    rules = association_rules(frequent_itemsets, metric=\"confidence\", min_threshold=min_confidence)\n",
    "    \n",
    "    return rules\n",
    "\n",
    "# # Now, use the function and display the association rules\n",
    "# rules = mine_association_rules(items_df)\n",
    "# print(\"Association Rules:\")\n",
    "# print(rules.head())"
   ]
  },
  {
   "cell_type": "code",
   "execution_count": 208,
   "metadata": {},
   "outputs": [],
   "source": [
    "# before\n",
    "before_05 = mine_association_rules(df_encoded_transactions_original, min_support=0.05, min_confidence=0.5)\n",
    "before_045 = mine_association_rules(df_encoded_transactions_original, min_support=0.045, min_confidence=0.5)\n",
    "before_04 = mine_association_rules(df_encoded_transactions_original, min_support=0.04, min_confidence=0.5)\n",
    "\n",
    "# after\n",
    "after_05 = mine_association_rules(df_encoded_modified_txn_05, min_support=0.05, min_confidence=0.5)\n",
    "after_045 = mine_association_rules(df_encoded_modified_txn_045, min_support=0.045, min_confidence=0.5)\n",
    "after_04 = mine_association_rules(df_encoded_modified_txn_04, min_support=0.04, min_confidence=0.5)"
   ]
  },
  {
   "cell_type": "code",
   "execution_count": 209,
   "metadata": {},
   "outputs": [
    {
     "data": {
      "text/plain": [
       "(17, 40, 102, 4, 6, 10)"
      ]
     },
     "execution_count": 209,
     "metadata": {},
     "output_type": "execute_result"
    }
   ],
   "source": [
    "len(before_05), len(before_045), len(before_04), len(after_05), len(after_045), len(after_04)"
   ]
  },
  {
   "cell_type": "code",
   "execution_count": 243,
   "metadata": {},
   "outputs": [
    {
     "name": "stdout",
     "output_type": "stream",
     "text": [
      "(150, 1) (150, 1) (150, 1) (150, 1)\n"
     ]
    }
   ],
   "source": []
  },
  {
   "cell_type": "code",
   "execution_count": 211,
   "metadata": {},
   "outputs": [],
   "source": [
    "\n",
    "def analysis_fuc(before,after,selected_rules):\n",
    "    before_temp = before.copy()\n",
    "    before_temp = before_temp[['antecedents', 'consequents']]\n",
    "\n",
    "    after_temp = after.copy()\n",
    "    after_temp = after_temp[['antecedents', 'consequents']]\n",
    "\n",
    "    selected_rules_temp = selected_rules.copy()\n",
    "    selected_rules_temp = selected_rules_temp[['antecedents', 'consequents']]\n",
    "\n",
    "    # check if the after_05 is in the rules_to_hide_05\n",
    "    common_in_after_and_selected = pd.merge(after_temp, selected_rules_temp, on=['antecedents', 'consequents'], how='inner')\n",
    "    # common_rules_05\n",
    "\n",
    "    common_in_before_after = pd.merge(after_temp, before_temp, on=['antecedents', 'consequents'], how='inner')\n",
    "    # common_rules_05_big\n",
    "\n",
    "    return common_in_after_and_selected, common_in_before_after\n",
    "\n",
    "common_in_after_and_selected_05, common_in_before_after_05 = analysis_fuc(before_05, after_05, rules_to_hide_05)\n",
    "common_in_after_and_selected_045, common_in_before_after_045 = analysis_fuc(before_045, after_045, rules_to_hide_045)\n",
    "common_in_after_and_selected_04, common_in_before_after_04 = analysis_fuc(before_04, after_04, rules_to_hide_04)\n",
    "\n",
    "def rules_that_are_only_in_after(before, after):\n",
    "    before_temp = before.copy()\n",
    "    before_temp = before_temp[['antecedents', 'consequents']]\n",
    "\n",
    "    after_temp = after.copy()\n",
    "    after_temp = after_temp[['antecedents', 'consequents']]\n",
    "\n",
    "    # check if the after_05 is in the rules_to_hide_05\n",
    "    only_in_after = pd.merge(after_temp, before_temp, on=['antecedents', 'consequents'], how='outer', indicator=True).query('_merge==\"left_only\"').drop('_merge', axis=1)\n",
    "    return only_in_after\n",
    "\n",
    "only_in_after_05 = rules_that_are_only_in_after(before_05, after_05)\n",
    "only_in_after_045 = rules_that_are_only_in_after(before_045, after_045)\n",
    "only_in_after_04 = rules_that_are_only_in_after(before_04, after_04)\n"
   ]
  },
  {
   "cell_type": "code",
   "execution_count": 238,
   "metadata": {},
   "outputs": [
    {
     "data": {
      "text/html": [
       "<div>\n",
       "<style scoped>\n",
       "    .dataframe tbody tr th:only-of-type {\n",
       "        vertical-align: middle;\n",
       "    }\n",
       "\n",
       "    .dataframe tbody tr th {\n",
       "        vertical-align: top;\n",
       "    }\n",
       "\n",
       "    .dataframe thead th {\n",
       "        text-align: right;\n",
       "    }\n",
       "</style>\n",
       "<table border=\"1\" class=\"dataframe\">\n",
       "  <thead>\n",
       "    <tr style=\"text-align: right;\">\n",
       "      <th></th>\n",
       "      <th>antecedents</th>\n",
       "      <th>consequents</th>\n",
       "      <th>antecedent support</th>\n",
       "      <th>consequent support</th>\n",
       "      <th>support</th>\n",
       "      <th>confidence</th>\n",
       "      <th>lift</th>\n",
       "      <th>leverage</th>\n",
       "      <th>conviction</th>\n",
       "      <th>zhangs_metric</th>\n",
       "    </tr>\n",
       "  </thead>\n",
       "  <tbody>\n",
       "    <tr>\n",
       "      <th>0</th>\n",
       "      <td>(1358)</td>\n",
       "      <td>(1359)</td>\n",
       "      <td>0.073333</td>\n",
       "      <td>0.080000</td>\n",
       "      <td>0.073333</td>\n",
       "      <td>1.000000</td>\n",
       "      <td>12.500000</td>\n",
       "      <td>0.067467</td>\n",
       "      <td>inf</td>\n",
       "      <td>0.992806</td>\n",
       "    </tr>\n",
       "    <tr>\n",
       "      <th>1</th>\n",
       "      <td>(1359)</td>\n",
       "      <td>(1358)</td>\n",
       "      <td>0.080000</td>\n",
       "      <td>0.073333</td>\n",
       "      <td>0.073333</td>\n",
       "      <td>0.916667</td>\n",
       "      <td>12.500000</td>\n",
       "      <td>0.067467</td>\n",
       "      <td>11.120000</td>\n",
       "      <td>1.000000</td>\n",
       "    </tr>\n",
       "    <tr>\n",
       "      <th>2</th>\n",
       "      <td>(1659)</td>\n",
       "      <td>(724)</td>\n",
       "      <td>0.093333</td>\n",
       "      <td>0.080000</td>\n",
       "      <td>0.060000</td>\n",
       "      <td>0.642857</td>\n",
       "      <td>8.035714</td>\n",
       "      <td>0.052533</td>\n",
       "      <td>2.576000</td>\n",
       "      <td>0.965686</td>\n",
       "    </tr>\n",
       "    <tr>\n",
       "      <th>3</th>\n",
       "      <td>(724)</td>\n",
       "      <td>(1659)</td>\n",
       "      <td>0.080000</td>\n",
       "      <td>0.093333</td>\n",
       "      <td>0.060000</td>\n",
       "      <td>0.750000</td>\n",
       "      <td>8.035714</td>\n",
       "      <td>0.052533</td>\n",
       "      <td>3.626667</td>\n",
       "      <td>0.951691</td>\n",
       "    </tr>\n",
       "    <tr>\n",
       "      <th>4</th>\n",
       "      <td>(1661)</td>\n",
       "      <td>(724)</td>\n",
       "      <td>0.080000</td>\n",
       "      <td>0.080000</td>\n",
       "      <td>0.053333</td>\n",
       "      <td>0.666667</td>\n",
       "      <td>8.333333</td>\n",
       "      <td>0.046933</td>\n",
       "      <td>2.760000</td>\n",
       "      <td>0.956522</td>\n",
       "    </tr>\n",
       "    <tr>\n",
       "      <th>5</th>\n",
       "      <td>(724)</td>\n",
       "      <td>(1661)</td>\n",
       "      <td>0.080000</td>\n",
       "      <td>0.080000</td>\n",
       "      <td>0.053333</td>\n",
       "      <td>0.666667</td>\n",
       "      <td>8.333333</td>\n",
       "      <td>0.046933</td>\n",
       "      <td>2.760000</td>\n",
       "      <td>0.956522</td>\n",
       "    </tr>\n",
       "    <tr>\n",
       "      <th>6</th>\n",
       "      <td>(1927)</td>\n",
       "      <td>(1934)</td>\n",
       "      <td>0.080000</td>\n",
       "      <td>0.093333</td>\n",
       "      <td>0.053333</td>\n",
       "      <td>0.666667</td>\n",
       "      <td>7.142857</td>\n",
       "      <td>0.045867</td>\n",
       "      <td>2.720000</td>\n",
       "      <td>0.934783</td>\n",
       "    </tr>\n",
       "    <tr>\n",
       "      <th>7</th>\n",
       "      <td>(1934)</td>\n",
       "      <td>(1927)</td>\n",
       "      <td>0.093333</td>\n",
       "      <td>0.080000</td>\n",
       "      <td>0.053333</td>\n",
       "      <td>0.571429</td>\n",
       "      <td>7.142857</td>\n",
       "      <td>0.045867</td>\n",
       "      <td>2.146667</td>\n",
       "      <td>0.948529</td>\n",
       "    </tr>\n",
       "    <tr>\n",
       "      <th>8</th>\n",
       "      <td>(1927)</td>\n",
       "      <td>(1935)</td>\n",
       "      <td>0.080000</td>\n",
       "      <td>0.120000</td>\n",
       "      <td>0.053333</td>\n",
       "      <td>0.666667</td>\n",
       "      <td>5.555556</td>\n",
       "      <td>0.043733</td>\n",
       "      <td>2.640000</td>\n",
       "      <td>0.891304</td>\n",
       "    </tr>\n",
       "    <tr>\n",
       "      <th>9</th>\n",
       "      <td>(1930)</td>\n",
       "      <td>(1935)</td>\n",
       "      <td>0.073333</td>\n",
       "      <td>0.120000</td>\n",
       "      <td>0.053333</td>\n",
       "      <td>0.727273</td>\n",
       "      <td>6.060606</td>\n",
       "      <td>0.044533</td>\n",
       "      <td>3.226667</td>\n",
       "      <td>0.901079</td>\n",
       "    </tr>\n",
       "    <tr>\n",
       "      <th>10</th>\n",
       "      <td>(1935)</td>\n",
       "      <td>(1934)</td>\n",
       "      <td>0.120000</td>\n",
       "      <td>0.093333</td>\n",
       "      <td>0.060000</td>\n",
       "      <td>0.500000</td>\n",
       "      <td>5.357143</td>\n",
       "      <td>0.048800</td>\n",
       "      <td>1.813333</td>\n",
       "      <td>0.924242</td>\n",
       "    </tr>\n",
       "    <tr>\n",
       "      <th>11</th>\n",
       "      <td>(1934)</td>\n",
       "      <td>(1935)</td>\n",
       "      <td>0.093333</td>\n",
       "      <td>0.120000</td>\n",
       "      <td>0.060000</td>\n",
       "      <td>0.642857</td>\n",
       "      <td>5.357143</td>\n",
       "      <td>0.048800</td>\n",
       "      <td>2.464000</td>\n",
       "      <td>0.897059</td>\n",
       "    </tr>\n",
       "    <tr>\n",
       "      <th>12</th>\n",
       "      <td>(1937)</td>\n",
       "      <td>(1935)</td>\n",
       "      <td>0.080000</td>\n",
       "      <td>0.120000</td>\n",
       "      <td>0.053333</td>\n",
       "      <td>0.666667</td>\n",
       "      <td>5.555556</td>\n",
       "      <td>0.043733</td>\n",
       "      <td>2.640000</td>\n",
       "      <td>0.891304</td>\n",
       "    </tr>\n",
       "    <tr>\n",
       "      <th>13</th>\n",
       "      <td>(1939)</td>\n",
       "      <td>(1935)</td>\n",
       "      <td>0.073333</td>\n",
       "      <td>0.120000</td>\n",
       "      <td>0.066667</td>\n",
       "      <td>0.909091</td>\n",
       "      <td>7.575758</td>\n",
       "      <td>0.057867</td>\n",
       "      <td>9.680000</td>\n",
       "      <td>0.936691</td>\n",
       "    </tr>\n",
       "    <tr>\n",
       "      <th>14</th>\n",
       "      <td>(1935)</td>\n",
       "      <td>(1939)</td>\n",
       "      <td>0.120000</td>\n",
       "      <td>0.073333</td>\n",
       "      <td>0.066667</td>\n",
       "      <td>0.555556</td>\n",
       "      <td>7.575758</td>\n",
       "      <td>0.057867</td>\n",
       "      <td>2.085000</td>\n",
       "      <td>0.986364</td>\n",
       "    </tr>\n",
       "    <tr>\n",
       "      <th>15</th>\n",
       "      <td>(2307)</td>\n",
       "      <td>(2312)</td>\n",
       "      <td>0.093333</td>\n",
       "      <td>0.080000</td>\n",
       "      <td>0.053333</td>\n",
       "      <td>0.571429</td>\n",
       "      <td>7.142857</td>\n",
       "      <td>0.045867</td>\n",
       "      <td>2.146667</td>\n",
       "      <td>0.948529</td>\n",
       "    </tr>\n",
       "    <tr>\n",
       "      <th>16</th>\n",
       "      <td>(2312)</td>\n",
       "      <td>(2307)</td>\n",
       "      <td>0.080000</td>\n",
       "      <td>0.093333</td>\n",
       "      <td>0.053333</td>\n",
       "      <td>0.666667</td>\n",
       "      <td>7.142857</td>\n",
       "      <td>0.045867</td>\n",
       "      <td>2.720000</td>\n",
       "      <td>0.934783</td>\n",
       "    </tr>\n",
       "  </tbody>\n",
       "</table>\n",
       "</div>"
      ],
      "text/plain": [
       "   antecedents consequents  antecedent support  consequent support   support  \\\n",
       "0       (1358)      (1359)            0.073333            0.080000  0.073333   \n",
       "1       (1359)      (1358)            0.080000            0.073333  0.073333   \n",
       "2       (1659)       (724)            0.093333            0.080000  0.060000   \n",
       "3        (724)      (1659)            0.080000            0.093333  0.060000   \n",
       "4       (1661)       (724)            0.080000            0.080000  0.053333   \n",
       "5        (724)      (1661)            0.080000            0.080000  0.053333   \n",
       "6       (1927)      (1934)            0.080000            0.093333  0.053333   \n",
       "7       (1934)      (1927)            0.093333            0.080000  0.053333   \n",
       "8       (1927)      (1935)            0.080000            0.120000  0.053333   \n",
       "9       (1930)      (1935)            0.073333            0.120000  0.053333   \n",
       "10      (1935)      (1934)            0.120000            0.093333  0.060000   \n",
       "11      (1934)      (1935)            0.093333            0.120000  0.060000   \n",
       "12      (1937)      (1935)            0.080000            0.120000  0.053333   \n",
       "13      (1939)      (1935)            0.073333            0.120000  0.066667   \n",
       "14      (1935)      (1939)            0.120000            0.073333  0.066667   \n",
       "15      (2307)      (2312)            0.093333            0.080000  0.053333   \n",
       "16      (2312)      (2307)            0.080000            0.093333  0.053333   \n",
       "\n",
       "    confidence       lift  leverage  conviction  zhangs_metric  \n",
       "0     1.000000  12.500000  0.067467         inf       0.992806  \n",
       "1     0.916667  12.500000  0.067467   11.120000       1.000000  \n",
       "2     0.642857   8.035714  0.052533    2.576000       0.965686  \n",
       "3     0.750000   8.035714  0.052533    3.626667       0.951691  \n",
       "4     0.666667   8.333333  0.046933    2.760000       0.956522  \n",
       "5     0.666667   8.333333  0.046933    2.760000       0.956522  \n",
       "6     0.666667   7.142857  0.045867    2.720000       0.934783  \n",
       "7     0.571429   7.142857  0.045867    2.146667       0.948529  \n",
       "8     0.666667   5.555556  0.043733    2.640000       0.891304  \n",
       "9     0.727273   6.060606  0.044533    3.226667       0.901079  \n",
       "10    0.500000   5.357143  0.048800    1.813333       0.924242  \n",
       "11    0.642857   5.357143  0.048800    2.464000       0.897059  \n",
       "12    0.666667   5.555556  0.043733    2.640000       0.891304  \n",
       "13    0.909091   7.575758  0.057867    9.680000       0.936691  \n",
       "14    0.555556   7.575758  0.057867    2.085000       0.986364  \n",
       "15    0.571429   7.142857  0.045867    2.146667       0.948529  \n",
       "16    0.666667   7.142857  0.045867    2.720000       0.934783  "
      ]
     },
     "execution_count": 238,
     "metadata": {},
     "output_type": "execute_result"
    }
   ],
   "source": [
    "before_05"
   ]
  },
  {
   "cell_type": "code",
   "execution_count": 239,
   "metadata": {},
   "outputs": [
    {
     "data": {
      "text/html": [
       "<div>\n",
       "<style scoped>\n",
       "    .dataframe tbody tr th:only-of-type {\n",
       "        vertical-align: middle;\n",
       "    }\n",
       "\n",
       "    .dataframe tbody tr th {\n",
       "        vertical-align: top;\n",
       "    }\n",
       "\n",
       "    .dataframe thead th {\n",
       "        text-align: right;\n",
       "    }\n",
       "</style>\n",
       "<table border=\"1\" class=\"dataframe\">\n",
       "  <thead>\n",
       "    <tr style=\"text-align: right;\">\n",
       "      <th></th>\n",
       "      <th>antecedents</th>\n",
       "      <th>consequents</th>\n",
       "    </tr>\n",
       "  </thead>\n",
       "  <tbody>\n",
       "    <tr>\n",
       "      <th>0</th>\n",
       "      <td>(1358)</td>\n",
       "      <td>(1359)</td>\n",
       "    </tr>\n",
       "    <tr>\n",
       "      <th>1</th>\n",
       "      <td>(1359)</td>\n",
       "      <td>(1358)</td>\n",
       "    </tr>\n",
       "    <tr>\n",
       "      <th>2</th>\n",
       "      <td>(1939)</td>\n",
       "      <td>(1935)</td>\n",
       "    </tr>\n",
       "    <tr>\n",
       "      <th>3</th>\n",
       "      <td>(724)</td>\n",
       "      <td>(1659)</td>\n",
       "    </tr>\n",
       "    <tr>\n",
       "      <th>4</th>\n",
       "      <td>(1930)</td>\n",
       "      <td>(1935)</td>\n",
       "    </tr>\n",
       "  </tbody>\n",
       "</table>\n",
       "</div>"
      ],
      "text/plain": [
       "  antecedents consequents\n",
       "0      (1358)      (1359)\n",
       "1      (1359)      (1358)\n",
       "2      (1939)      (1935)\n",
       "3       (724)      (1659)\n",
       "4      (1930)      (1935)"
      ]
     },
     "execution_count": 239,
     "metadata": {},
     "output_type": "execute_result"
    }
   ],
   "source": [
    "rules_to_hide_05"
   ]
  },
  {
   "cell_type": "code",
   "execution_count": 240,
   "metadata": {},
   "outputs": [
    {
     "data": {
      "text/html": [
       "<div>\n",
       "<style scoped>\n",
       "    .dataframe tbody tr th:only-of-type {\n",
       "        vertical-align: middle;\n",
       "    }\n",
       "\n",
       "    .dataframe tbody tr th {\n",
       "        vertical-align: top;\n",
       "    }\n",
       "\n",
       "    .dataframe thead th {\n",
       "        text-align: right;\n",
       "    }\n",
       "</style>\n",
       "<table border=\"1\" class=\"dataframe\">\n",
       "  <thead>\n",
       "    <tr style=\"text-align: right;\">\n",
       "      <th></th>\n",
       "      <th>antecedents</th>\n",
       "      <th>consequents</th>\n",
       "      <th>antecedent support</th>\n",
       "      <th>consequent support</th>\n",
       "      <th>support</th>\n",
       "      <th>confidence</th>\n",
       "      <th>lift</th>\n",
       "      <th>leverage</th>\n",
       "      <th>conviction</th>\n",
       "      <th>zhangs_metric</th>\n",
       "    </tr>\n",
       "  </thead>\n",
       "  <tbody>\n",
       "    <tr>\n",
       "      <th>0</th>\n",
       "      <td>(1927)</td>\n",
       "      <td>(1934)</td>\n",
       "      <td>0.080000</td>\n",
       "      <td>0.093333</td>\n",
       "      <td>0.053333</td>\n",
       "      <td>0.666667</td>\n",
       "      <td>7.142857</td>\n",
       "      <td>0.045867</td>\n",
       "      <td>2.720000</td>\n",
       "      <td>0.934783</td>\n",
       "    </tr>\n",
       "    <tr>\n",
       "      <th>1</th>\n",
       "      <td>(1934)</td>\n",
       "      <td>(1927)</td>\n",
       "      <td>0.093333</td>\n",
       "      <td>0.080000</td>\n",
       "      <td>0.053333</td>\n",
       "      <td>0.571429</td>\n",
       "      <td>7.142857</td>\n",
       "      <td>0.045867</td>\n",
       "      <td>2.146667</td>\n",
       "      <td>0.948529</td>\n",
       "    </tr>\n",
       "    <tr>\n",
       "      <th>2</th>\n",
       "      <td>(2307)</td>\n",
       "      <td>(2312)</td>\n",
       "      <td>0.093333</td>\n",
       "      <td>0.080000</td>\n",
       "      <td>0.053333</td>\n",
       "      <td>0.571429</td>\n",
       "      <td>7.142857</td>\n",
       "      <td>0.045867</td>\n",
       "      <td>2.146667</td>\n",
       "      <td>0.948529</td>\n",
       "    </tr>\n",
       "    <tr>\n",
       "      <th>3</th>\n",
       "      <td>(2312)</td>\n",
       "      <td>(2307)</td>\n",
       "      <td>0.080000</td>\n",
       "      <td>0.093333</td>\n",
       "      <td>0.053333</td>\n",
       "      <td>0.666667</td>\n",
       "      <td>7.142857</td>\n",
       "      <td>0.045867</td>\n",
       "      <td>2.720000</td>\n",
       "      <td>0.934783</td>\n",
       "    </tr>\n",
       "  </tbody>\n",
       "</table>\n",
       "</div>"
      ],
      "text/plain": [
       "  antecedents consequents  antecedent support  consequent support   support  \\\n",
       "0      (1927)      (1934)            0.080000            0.093333  0.053333   \n",
       "1      (1934)      (1927)            0.093333            0.080000  0.053333   \n",
       "2      (2307)      (2312)            0.093333            0.080000  0.053333   \n",
       "3      (2312)      (2307)            0.080000            0.093333  0.053333   \n",
       "\n",
       "   confidence      lift  leverage  conviction  zhangs_metric  \n",
       "0    0.666667  7.142857  0.045867    2.720000       0.934783  \n",
       "1    0.571429  7.142857  0.045867    2.146667       0.948529  \n",
       "2    0.571429  7.142857  0.045867    2.146667       0.948529  \n",
       "3    0.666667  7.142857  0.045867    2.720000       0.934783  "
      ]
     },
     "execution_count": 240,
     "metadata": {},
     "output_type": "execute_result"
    }
   ],
   "source": [
    "after_05"
   ]
  },
  {
   "cell_type": "code",
   "execution_count": 212,
   "metadata": {},
   "outputs": [],
   "source": [
    "# from common_in_after_and_before_X check with the before_X and after_X and merge those support, confidence, lift values\n",
    "def merge_common_in_before_after(common_in_before_after, before, after):\n",
    "    common_in_before_after_temp = common_in_before_after.copy()\n",
    "    before_temp = before.copy()\n",
    "    after_temp = after.copy()\n",
    "\n",
    "    common_in_before_after_temp = pd.merge(common_in_before_after_temp, before_temp, on=['antecedents', 'consequents'], how='inner')\n",
    "    common_in_before_after_temp = pd.merge(common_in_before_after_temp, after_temp, on=['antecedents', 'consequents'], how='inner')\n",
    "    return common_in_before_after_temp\n",
    "\n",
    "merged_common_in_before_after_05 = merge_common_in_before_after(common_in_before_after_05, before_05, after_05)\n",
    "merged_common_in_before_after_045 = merge_common_in_before_after(common_in_before_after_045, before_045, after_045)\n",
    "merged_common_in_before_after_04 = merge_common_in_before_after(common_in_before_after_04, before_04, after_04)\n",
    "\n",
    "merge_common_in_after_selected_05 = merge_common_in_before_after(common_in_after_and_selected_05, before_05, after_05)\n",
    "merge_common_in_after_selected_045 = merge_common_in_before_after(common_in_after_and_selected_045, before_045, after_045)\n",
    "merge_common_in_after_selected_04 = merge_common_in_before_after(common_in_after_and_selected_04, before_04, after_04)"
   ]
  },
  {
   "cell_type": "code",
   "execution_count": 223,
   "metadata": {},
   "outputs": [
    {
     "data": {
      "text/html": [
       "<div>\n",
       "<style scoped>\n",
       "    .dataframe tbody tr th:only-of-type {\n",
       "        vertical-align: middle;\n",
       "    }\n",
       "\n",
       "    .dataframe tbody tr th {\n",
       "        vertical-align: top;\n",
       "    }\n",
       "\n",
       "    .dataframe thead th {\n",
       "        text-align: right;\n",
       "    }\n",
       "</style>\n",
       "<table border=\"1\" class=\"dataframe\">\n",
       "  <thead>\n",
       "    <tr style=\"text-align: right;\">\n",
       "      <th></th>\n",
       "      <th>antecedents</th>\n",
       "      <th>consequents</th>\n",
       "    </tr>\n",
       "  </thead>\n",
       "  <tbody>\n",
       "    <tr>\n",
       "      <th>0</th>\n",
       "      <td>(1377)</td>\n",
       "      <td>(2571)</td>\n",
       "    </tr>\n",
       "    <tr>\n",
       "      <th>1</th>\n",
       "      <td>(2571)</td>\n",
       "      <td>(1377)</td>\n",
       "    </tr>\n",
       "    <tr>\n",
       "      <th>2</th>\n",
       "      <td>(828)</td>\n",
       "      <td>(1377)</td>\n",
       "    </tr>\n",
       "    <tr>\n",
       "      <th>3</th>\n",
       "      <td>(1377)</td>\n",
       "      <td>(828)</td>\n",
       "    </tr>\n",
       "    <tr>\n",
       "      <th>4</th>\n",
       "      <td>(1913)</td>\n",
       "      <td>(1636)</td>\n",
       "    </tr>\n",
       "    <tr>\n",
       "      <th>5</th>\n",
       "      <td>(1636)</td>\n",
       "      <td>(1913)</td>\n",
       "    </tr>\n",
       "    <tr>\n",
       "      <th>6</th>\n",
       "      <td>(2307)</td>\n",
       "      <td>(2312)</td>\n",
       "    </tr>\n",
       "    <tr>\n",
       "      <th>7</th>\n",
       "      <td>(2312)</td>\n",
       "      <td>(2307)</td>\n",
       "    </tr>\n",
       "    <tr>\n",
       "      <th>8</th>\n",
       "      <td>(2808)</td>\n",
       "      <td>(2312)</td>\n",
       "    </tr>\n",
       "    <tr>\n",
       "      <th>9</th>\n",
       "      <td>(2312)</td>\n",
       "      <td>(2808)</td>\n",
       "    </tr>\n",
       "  </tbody>\n",
       "</table>\n",
       "</div>"
      ],
      "text/plain": [
       "  antecedents consequents\n",
       "0      (1377)      (2571)\n",
       "1      (2571)      (1377)\n",
       "2       (828)      (1377)\n",
       "3      (1377)       (828)\n",
       "4      (1913)      (1636)\n",
       "5      (1636)      (1913)\n",
       "6      (2307)      (2312)\n",
       "7      (2312)      (2307)\n",
       "8      (2808)      (2312)\n",
       "9      (2312)      (2808)"
      ]
     },
     "execution_count": 223,
     "metadata": {},
     "output_type": "execute_result"
    }
   ],
   "source": []
  },
  {
   "cell_type": "code",
   "execution_count": 252,
   "metadata": {},
   "outputs": [
    {
     "data": {
      "application/vnd.plotly.v1+json": {
       "config": {
        "plotlyServerURL": "https://plot.ly"
       },
       "data": [
        {
         "hovertemplate": "type=before<br>support=%{x}<br>confidence=%{y}<br>lift=%{z}<extra></extra>",
         "legendgroup": "before",
         "marker": {
          "color": "#636efa",
          "opacity": 0.7,
          "symbol": "circle"
         },
         "mode": "markers",
         "name": "before",
         "scene": "scene",
         "showlegend": true,
         "type": "scatter3d",
         "x": [
          0.07333333333333333,
          0.07333333333333333,
          0.06,
          0.06,
          0.05333333333333334,
          0.05333333333333334,
          0.05333333333333334,
          0.05333333333333334,
          0.05333333333333334,
          0.05333333333333334,
          0.06,
          0.06,
          0.05333333333333334,
          0.06666666666666667,
          0.06666666666666667,
          0.05333333333333334,
          0.05333333333333334
         ],
         "y": [
          1,
          0.9166666666666666,
          0.6428571428571428,
          0.75,
          0.6666666666666667,
          0.6666666666666667,
          0.6666666666666667,
          0.5714285714285714,
          0.6666666666666667,
          0.7272727272727273,
          0.5,
          0.6428571428571428,
          0.6666666666666667,
          0.9090909090909091,
          0.5555555555555556,
          0.5714285714285714,
          0.6666666666666667
         ],
         "z": [
          12.5,
          12.5,
          8.035714285714285,
          8.035714285714285,
          8.333333333333334,
          8.333333333333334,
          7.142857142857143,
          7.142857142857142,
          5.555555555555556,
          6.060606060606061,
          5.357142857142857,
          5.357142857142857,
          5.555555555555556,
          7.575757575757576,
          7.575757575757576,
          7.142857142857142,
          7.142857142857143
         ]
        },
        {
         "hovertemplate": "type=after<br>support=%{x}<br>confidence=%{y}<br>lift=%{z}<extra></extra>",
         "legendgroup": "after",
         "marker": {
          "color": "#EF553B",
          "opacity": 0.7,
          "symbol": "circle"
         },
         "mode": "markers",
         "name": "after",
         "scene": "scene",
         "showlegend": true,
         "type": "scatter3d",
         "x": [
          0.05333333333333334,
          0.05333333333333334,
          0.05333333333333334,
          0.05333333333333334
         ],
         "y": [
          0.6666666666666667,
          0.5714285714285714,
          0.5714285714285714,
          0.6666666666666667
         ],
         "z": [
          7.142857142857143,
          7.142857142857142,
          7.142857142857142,
          7.142857142857143
         ]
        },
        {
         "hovertemplate": "type=common_in_before_after<br>support=%{x}<br>confidence=%{y}<br>lift=%{z}<extra></extra>",
         "legendgroup": "common_in_before_after",
         "marker": {
          "color": "#00cc96",
          "opacity": 0.7,
          "symbol": "circle"
         },
         "mode": "markers",
         "name": "common_in_before_after",
         "scene": "scene",
         "showlegend": true,
         "type": "scatter3d",
         "x": [
          null,
          null,
          null,
          null
         ],
         "y": [
          null,
          null,
          null,
          null
         ],
         "z": [
          null,
          null,
          null,
          null
         ]
        }
       ],
       "layout": {
        "height": 500,
        "legend": {
         "title": {
          "text": "type"
         },
         "tracegroupgap": 0
        },
        "margin": {
         "t": 60
        },
        "scene": {
         "domain": {
          "x": [
           0,
           1
          ],
          "y": [
           0,
           1
          ]
         },
         "xaxis": {
          "title": {
           "text": "support"
          }
         },
         "yaxis": {
          "title": {
           "text": "confidence"
          }
         },
         "zaxis": {
          "title": {
           "text": "lift"
          }
         }
        },
        "template": {
         "data": {
          "bar": [
           {
            "error_x": {
             "color": "#2a3f5f"
            },
            "error_y": {
             "color": "#2a3f5f"
            },
            "marker": {
             "line": {
              "color": "#E5ECF6",
              "width": 0.5
             },
             "pattern": {
              "fillmode": "overlay",
              "size": 10,
              "solidity": 0.2
             }
            },
            "type": "bar"
           }
          ],
          "barpolar": [
           {
            "marker": {
             "line": {
              "color": "#E5ECF6",
              "width": 0.5
             },
             "pattern": {
              "fillmode": "overlay",
              "size": 10,
              "solidity": 0.2
             }
            },
            "type": "barpolar"
           }
          ],
          "carpet": [
           {
            "aaxis": {
             "endlinecolor": "#2a3f5f",
             "gridcolor": "white",
             "linecolor": "white",
             "minorgridcolor": "white",
             "startlinecolor": "#2a3f5f"
            },
            "baxis": {
             "endlinecolor": "#2a3f5f",
             "gridcolor": "white",
             "linecolor": "white",
             "minorgridcolor": "white",
             "startlinecolor": "#2a3f5f"
            },
            "type": "carpet"
           }
          ],
          "choropleth": [
           {
            "colorbar": {
             "outlinewidth": 0,
             "ticks": ""
            },
            "type": "choropleth"
           }
          ],
          "contour": [
           {
            "colorbar": {
             "outlinewidth": 0,
             "ticks": ""
            },
            "colorscale": [
             [
              0,
              "#0d0887"
             ],
             [
              0.1111111111111111,
              "#46039f"
             ],
             [
              0.2222222222222222,
              "#7201a8"
             ],
             [
              0.3333333333333333,
              "#9c179e"
             ],
             [
              0.4444444444444444,
              "#bd3786"
             ],
             [
              0.5555555555555556,
              "#d8576b"
             ],
             [
              0.6666666666666666,
              "#ed7953"
             ],
             [
              0.7777777777777778,
              "#fb9f3a"
             ],
             [
              0.8888888888888888,
              "#fdca26"
             ],
             [
              1,
              "#f0f921"
             ]
            ],
            "type": "contour"
           }
          ],
          "contourcarpet": [
           {
            "colorbar": {
             "outlinewidth": 0,
             "ticks": ""
            },
            "type": "contourcarpet"
           }
          ],
          "heatmap": [
           {
            "colorbar": {
             "outlinewidth": 0,
             "ticks": ""
            },
            "colorscale": [
             [
              0,
              "#0d0887"
             ],
             [
              0.1111111111111111,
              "#46039f"
             ],
             [
              0.2222222222222222,
              "#7201a8"
             ],
             [
              0.3333333333333333,
              "#9c179e"
             ],
             [
              0.4444444444444444,
              "#bd3786"
             ],
             [
              0.5555555555555556,
              "#d8576b"
             ],
             [
              0.6666666666666666,
              "#ed7953"
             ],
             [
              0.7777777777777778,
              "#fb9f3a"
             ],
             [
              0.8888888888888888,
              "#fdca26"
             ],
             [
              1,
              "#f0f921"
             ]
            ],
            "type": "heatmap"
           }
          ],
          "heatmapgl": [
           {
            "colorbar": {
             "outlinewidth": 0,
             "ticks": ""
            },
            "colorscale": [
             [
              0,
              "#0d0887"
             ],
             [
              0.1111111111111111,
              "#46039f"
             ],
             [
              0.2222222222222222,
              "#7201a8"
             ],
             [
              0.3333333333333333,
              "#9c179e"
             ],
             [
              0.4444444444444444,
              "#bd3786"
             ],
             [
              0.5555555555555556,
              "#d8576b"
             ],
             [
              0.6666666666666666,
              "#ed7953"
             ],
             [
              0.7777777777777778,
              "#fb9f3a"
             ],
             [
              0.8888888888888888,
              "#fdca26"
             ],
             [
              1,
              "#f0f921"
             ]
            ],
            "type": "heatmapgl"
           }
          ],
          "histogram": [
           {
            "marker": {
             "pattern": {
              "fillmode": "overlay",
              "size": 10,
              "solidity": 0.2
             }
            },
            "type": "histogram"
           }
          ],
          "histogram2d": [
           {
            "colorbar": {
             "outlinewidth": 0,
             "ticks": ""
            },
            "colorscale": [
             [
              0,
              "#0d0887"
             ],
             [
              0.1111111111111111,
              "#46039f"
             ],
             [
              0.2222222222222222,
              "#7201a8"
             ],
             [
              0.3333333333333333,
              "#9c179e"
             ],
             [
              0.4444444444444444,
              "#bd3786"
             ],
             [
              0.5555555555555556,
              "#d8576b"
             ],
             [
              0.6666666666666666,
              "#ed7953"
             ],
             [
              0.7777777777777778,
              "#fb9f3a"
             ],
             [
              0.8888888888888888,
              "#fdca26"
             ],
             [
              1,
              "#f0f921"
             ]
            ],
            "type": "histogram2d"
           }
          ],
          "histogram2dcontour": [
           {
            "colorbar": {
             "outlinewidth": 0,
             "ticks": ""
            },
            "colorscale": [
             [
              0,
              "#0d0887"
             ],
             [
              0.1111111111111111,
              "#46039f"
             ],
             [
              0.2222222222222222,
              "#7201a8"
             ],
             [
              0.3333333333333333,
              "#9c179e"
             ],
             [
              0.4444444444444444,
              "#bd3786"
             ],
             [
              0.5555555555555556,
              "#d8576b"
             ],
             [
              0.6666666666666666,
              "#ed7953"
             ],
             [
              0.7777777777777778,
              "#fb9f3a"
             ],
             [
              0.8888888888888888,
              "#fdca26"
             ],
             [
              1,
              "#f0f921"
             ]
            ],
            "type": "histogram2dcontour"
           }
          ],
          "mesh3d": [
           {
            "colorbar": {
             "outlinewidth": 0,
             "ticks": ""
            },
            "type": "mesh3d"
           }
          ],
          "parcoords": [
           {
            "line": {
             "colorbar": {
              "outlinewidth": 0,
              "ticks": ""
             }
            },
            "type": "parcoords"
           }
          ],
          "pie": [
           {
            "automargin": true,
            "type": "pie"
           }
          ],
          "scatter": [
           {
            "fillpattern": {
             "fillmode": "overlay",
             "size": 10,
             "solidity": 0.2
            },
            "type": "scatter"
           }
          ],
          "scatter3d": [
           {
            "line": {
             "colorbar": {
              "outlinewidth": 0,
              "ticks": ""
             }
            },
            "marker": {
             "colorbar": {
              "outlinewidth": 0,
              "ticks": ""
             }
            },
            "type": "scatter3d"
           }
          ],
          "scattercarpet": [
           {
            "marker": {
             "colorbar": {
              "outlinewidth": 0,
              "ticks": ""
             }
            },
            "type": "scattercarpet"
           }
          ],
          "scattergeo": [
           {
            "marker": {
             "colorbar": {
              "outlinewidth": 0,
              "ticks": ""
             }
            },
            "type": "scattergeo"
           }
          ],
          "scattergl": [
           {
            "marker": {
             "colorbar": {
              "outlinewidth": 0,
              "ticks": ""
             }
            },
            "type": "scattergl"
           }
          ],
          "scattermapbox": [
           {
            "marker": {
             "colorbar": {
              "outlinewidth": 0,
              "ticks": ""
             }
            },
            "type": "scattermapbox"
           }
          ],
          "scatterpolar": [
           {
            "marker": {
             "colorbar": {
              "outlinewidth": 0,
              "ticks": ""
             }
            },
            "type": "scatterpolar"
           }
          ],
          "scatterpolargl": [
           {
            "marker": {
             "colorbar": {
              "outlinewidth": 0,
              "ticks": ""
             }
            },
            "type": "scatterpolargl"
           }
          ],
          "scatterternary": [
           {
            "marker": {
             "colorbar": {
              "outlinewidth": 0,
              "ticks": ""
             }
            },
            "type": "scatterternary"
           }
          ],
          "surface": [
           {
            "colorbar": {
             "outlinewidth": 0,
             "ticks": ""
            },
            "colorscale": [
             [
              0,
              "#0d0887"
             ],
             [
              0.1111111111111111,
              "#46039f"
             ],
             [
              0.2222222222222222,
              "#7201a8"
             ],
             [
              0.3333333333333333,
              "#9c179e"
             ],
             [
              0.4444444444444444,
              "#bd3786"
             ],
             [
              0.5555555555555556,
              "#d8576b"
             ],
             [
              0.6666666666666666,
              "#ed7953"
             ],
             [
              0.7777777777777778,
              "#fb9f3a"
             ],
             [
              0.8888888888888888,
              "#fdca26"
             ],
             [
              1,
              "#f0f921"
             ]
            ],
            "type": "surface"
           }
          ],
          "table": [
           {
            "cells": {
             "fill": {
              "color": "#EBF0F8"
             },
             "line": {
              "color": "white"
             }
            },
            "header": {
             "fill": {
              "color": "#C8D4E3"
             },
             "line": {
              "color": "white"
             }
            },
            "type": "table"
           }
          ]
         },
         "layout": {
          "annotationdefaults": {
           "arrowcolor": "#2a3f5f",
           "arrowhead": 0,
           "arrowwidth": 1
          },
          "autotypenumbers": "strict",
          "coloraxis": {
           "colorbar": {
            "outlinewidth": 0,
            "ticks": ""
           }
          },
          "colorscale": {
           "diverging": [
            [
             0,
             "#8e0152"
            ],
            [
             0.1,
             "#c51b7d"
            ],
            [
             0.2,
             "#de77ae"
            ],
            [
             0.3,
             "#f1b6da"
            ],
            [
             0.4,
             "#fde0ef"
            ],
            [
             0.5,
             "#f7f7f7"
            ],
            [
             0.6,
             "#e6f5d0"
            ],
            [
             0.7,
             "#b8e186"
            ],
            [
             0.8,
             "#7fbc41"
            ],
            [
             0.9,
             "#4d9221"
            ],
            [
             1,
             "#276419"
            ]
           ],
           "sequential": [
            [
             0,
             "#0d0887"
            ],
            [
             0.1111111111111111,
             "#46039f"
            ],
            [
             0.2222222222222222,
             "#7201a8"
            ],
            [
             0.3333333333333333,
             "#9c179e"
            ],
            [
             0.4444444444444444,
             "#bd3786"
            ],
            [
             0.5555555555555556,
             "#d8576b"
            ],
            [
             0.6666666666666666,
             "#ed7953"
            ],
            [
             0.7777777777777778,
             "#fb9f3a"
            ],
            [
             0.8888888888888888,
             "#fdca26"
            ],
            [
             1,
             "#f0f921"
            ]
           ],
           "sequentialminus": [
            [
             0,
             "#0d0887"
            ],
            [
             0.1111111111111111,
             "#46039f"
            ],
            [
             0.2222222222222222,
             "#7201a8"
            ],
            [
             0.3333333333333333,
             "#9c179e"
            ],
            [
             0.4444444444444444,
             "#bd3786"
            ],
            [
             0.5555555555555556,
             "#d8576b"
            ],
            [
             0.6666666666666666,
             "#ed7953"
            ],
            [
             0.7777777777777778,
             "#fb9f3a"
            ],
            [
             0.8888888888888888,
             "#fdca26"
            ],
            [
             1,
             "#f0f921"
            ]
           ]
          },
          "colorway": [
           "#636efa",
           "#EF553B",
           "#00cc96",
           "#ab63fa",
           "#FFA15A",
           "#19d3f3",
           "#FF6692",
           "#B6E880",
           "#FF97FF",
           "#FECB52"
          ],
          "font": {
           "color": "#2a3f5f"
          },
          "geo": {
           "bgcolor": "white",
           "lakecolor": "white",
           "landcolor": "#E5ECF6",
           "showlakes": true,
           "showland": true,
           "subunitcolor": "white"
          },
          "hoverlabel": {
           "align": "left"
          },
          "hovermode": "closest",
          "mapbox": {
           "style": "light"
          },
          "paper_bgcolor": "white",
          "plot_bgcolor": "#E5ECF6",
          "polar": {
           "angularaxis": {
            "gridcolor": "white",
            "linecolor": "white",
            "ticks": ""
           },
           "bgcolor": "#E5ECF6",
           "radialaxis": {
            "gridcolor": "white",
            "linecolor": "white",
            "ticks": ""
           }
          },
          "scene": {
           "xaxis": {
            "backgroundcolor": "#E5ECF6",
            "gridcolor": "white",
            "gridwidth": 2,
            "linecolor": "white",
            "showbackground": true,
            "ticks": "",
            "zerolinecolor": "white"
           },
           "yaxis": {
            "backgroundcolor": "#E5ECF6",
            "gridcolor": "white",
            "gridwidth": 2,
            "linecolor": "white",
            "showbackground": true,
            "ticks": "",
            "zerolinecolor": "white"
           },
           "zaxis": {
            "backgroundcolor": "#E5ECF6",
            "gridcolor": "white",
            "gridwidth": 2,
            "linecolor": "white",
            "showbackground": true,
            "ticks": "",
            "zerolinecolor": "white"
           }
          },
          "shapedefaults": {
           "line": {
            "color": "#2a3f5f"
           }
          },
          "ternary": {
           "aaxis": {
            "gridcolor": "white",
            "linecolor": "white",
            "ticks": ""
           },
           "baxis": {
            "gridcolor": "white",
            "linecolor": "white",
            "ticks": ""
           },
           "bgcolor": "#E5ECF6",
           "caxis": {
            "gridcolor": "white",
            "linecolor": "white",
            "ticks": ""
           }
          },
          "title": {
           "x": 0.05
          },
          "xaxis": {
           "automargin": true,
           "gridcolor": "white",
           "linecolor": "white",
           "ticks": "",
           "title": {
            "standoff": 15
           },
           "zerolinecolor": "white",
           "zerolinewidth": 2
          },
          "yaxis": {
           "automargin": true,
           "gridcolor": "white",
           "linecolor": "white",
           "ticks": "",
           "title": {
            "standoff": 15
           },
           "zerolinecolor": "white",
           "zerolinewidth": 2
          }
         }
        },
        "width": 900
       }
      },
      "text/html": [
       "<div>                            <div id=\"30bf6f76-9d79-4681-ae74-9f6919719bce\" class=\"plotly-graph-div\" style=\"height:500px; width:900px;\"></div>            <script type=\"text/javascript\">                require([\"plotly\"], function(Plotly) {                    window.PLOTLYENV=window.PLOTLYENV || {};                                    if (document.getElementById(\"30bf6f76-9d79-4681-ae74-9f6919719bce\")) {                    Plotly.newPlot(                        \"30bf6f76-9d79-4681-ae74-9f6919719bce\",                        [{\"hovertemplate\":\"type=before\\u003cbr\\u003esupport=%{x}\\u003cbr\\u003econfidence=%{y}\\u003cbr\\u003elift=%{z}\\u003cextra\\u003e\\u003c\\u002fextra\\u003e\",\"legendgroup\":\"before\",\"marker\":{\"color\":\"#636efa\",\"opacity\":0.7,\"symbol\":\"circle\"},\"mode\":\"markers\",\"name\":\"before\",\"scene\":\"scene\",\"showlegend\":true,\"x\":[0.07333333333333333,0.07333333333333333,0.06,0.06,0.05333333333333334,0.05333333333333334,0.05333333333333334,0.05333333333333334,0.05333333333333334,0.05333333333333334,0.06,0.06,0.05333333333333334,0.06666666666666667,0.06666666666666667,0.05333333333333334,0.05333333333333334],\"y\":[1.0,0.9166666666666666,0.6428571428571428,0.75,0.6666666666666667,0.6666666666666667,0.6666666666666667,0.5714285714285714,0.6666666666666667,0.7272727272727273,0.5,0.6428571428571428,0.6666666666666667,0.9090909090909091,0.5555555555555556,0.5714285714285714,0.6666666666666667],\"z\":[12.5,12.5,8.035714285714285,8.035714285714285,8.333333333333334,8.333333333333334,7.142857142857143,7.142857142857142,5.555555555555556,6.060606060606061,5.357142857142857,5.357142857142857,5.555555555555556,7.575757575757576,7.575757575757576,7.142857142857142,7.142857142857143],\"type\":\"scatter3d\"},{\"hovertemplate\":\"type=after\\u003cbr\\u003esupport=%{x}\\u003cbr\\u003econfidence=%{y}\\u003cbr\\u003elift=%{z}\\u003cextra\\u003e\\u003c\\u002fextra\\u003e\",\"legendgroup\":\"after\",\"marker\":{\"color\":\"#EF553B\",\"opacity\":0.7,\"symbol\":\"circle\"},\"mode\":\"markers\",\"name\":\"after\",\"scene\":\"scene\",\"showlegend\":true,\"x\":[0.05333333333333334,0.05333333333333334,0.05333333333333334,0.05333333333333334],\"y\":[0.6666666666666667,0.5714285714285714,0.5714285714285714,0.6666666666666667],\"z\":[7.142857142857143,7.142857142857142,7.142857142857142,7.142857142857143],\"type\":\"scatter3d\"},{\"hovertemplate\":\"type=common_in_before_after\\u003cbr\\u003esupport=%{x}\\u003cbr\\u003econfidence=%{y}\\u003cbr\\u003elift=%{z}\\u003cextra\\u003e\\u003c\\u002fextra\\u003e\",\"legendgroup\":\"common_in_before_after\",\"marker\":{\"color\":\"#00cc96\",\"opacity\":0.7,\"symbol\":\"circle\"},\"mode\":\"markers\",\"name\":\"common_in_before_after\",\"scene\":\"scene\",\"showlegend\":true,\"x\":[null,null,null,null],\"y\":[null,null,null,null],\"z\":[null,null,null,null],\"type\":\"scatter3d\"}],                        {\"template\":{\"data\":{\"histogram2dcontour\":[{\"type\":\"histogram2dcontour\",\"colorbar\":{\"outlinewidth\":0,\"ticks\":\"\"},\"colorscale\":[[0.0,\"#0d0887\"],[0.1111111111111111,\"#46039f\"],[0.2222222222222222,\"#7201a8\"],[0.3333333333333333,\"#9c179e\"],[0.4444444444444444,\"#bd3786\"],[0.5555555555555556,\"#d8576b\"],[0.6666666666666666,\"#ed7953\"],[0.7777777777777778,\"#fb9f3a\"],[0.8888888888888888,\"#fdca26\"],[1.0,\"#f0f921\"]]}],\"choropleth\":[{\"type\":\"choropleth\",\"colorbar\":{\"outlinewidth\":0,\"ticks\":\"\"}}],\"histogram2d\":[{\"type\":\"histogram2d\",\"colorbar\":{\"outlinewidth\":0,\"ticks\":\"\"},\"colorscale\":[[0.0,\"#0d0887\"],[0.1111111111111111,\"#46039f\"],[0.2222222222222222,\"#7201a8\"],[0.3333333333333333,\"#9c179e\"],[0.4444444444444444,\"#bd3786\"],[0.5555555555555556,\"#d8576b\"],[0.6666666666666666,\"#ed7953\"],[0.7777777777777778,\"#fb9f3a\"],[0.8888888888888888,\"#fdca26\"],[1.0,\"#f0f921\"]]}],\"heatmap\":[{\"type\":\"heatmap\",\"colorbar\":{\"outlinewidth\":0,\"ticks\":\"\"},\"colorscale\":[[0.0,\"#0d0887\"],[0.1111111111111111,\"#46039f\"],[0.2222222222222222,\"#7201a8\"],[0.3333333333333333,\"#9c179e\"],[0.4444444444444444,\"#bd3786\"],[0.5555555555555556,\"#d8576b\"],[0.6666666666666666,\"#ed7953\"],[0.7777777777777778,\"#fb9f3a\"],[0.8888888888888888,\"#fdca26\"],[1.0,\"#f0f921\"]]}],\"heatmapgl\":[{\"type\":\"heatmapgl\",\"colorbar\":{\"outlinewidth\":0,\"ticks\":\"\"},\"colorscale\":[[0.0,\"#0d0887\"],[0.1111111111111111,\"#46039f\"],[0.2222222222222222,\"#7201a8\"],[0.3333333333333333,\"#9c179e\"],[0.4444444444444444,\"#bd3786\"],[0.5555555555555556,\"#d8576b\"],[0.6666666666666666,\"#ed7953\"],[0.7777777777777778,\"#fb9f3a\"],[0.8888888888888888,\"#fdca26\"],[1.0,\"#f0f921\"]]}],\"contourcarpet\":[{\"type\":\"contourcarpet\",\"colorbar\":{\"outlinewidth\":0,\"ticks\":\"\"}}],\"contour\":[{\"type\":\"contour\",\"colorbar\":{\"outlinewidth\":0,\"ticks\":\"\"},\"colorscale\":[[0.0,\"#0d0887\"],[0.1111111111111111,\"#46039f\"],[0.2222222222222222,\"#7201a8\"],[0.3333333333333333,\"#9c179e\"],[0.4444444444444444,\"#bd3786\"],[0.5555555555555556,\"#d8576b\"],[0.6666666666666666,\"#ed7953\"],[0.7777777777777778,\"#fb9f3a\"],[0.8888888888888888,\"#fdca26\"],[1.0,\"#f0f921\"]]}],\"surface\":[{\"type\":\"surface\",\"colorbar\":{\"outlinewidth\":0,\"ticks\":\"\"},\"colorscale\":[[0.0,\"#0d0887\"],[0.1111111111111111,\"#46039f\"],[0.2222222222222222,\"#7201a8\"],[0.3333333333333333,\"#9c179e\"],[0.4444444444444444,\"#bd3786\"],[0.5555555555555556,\"#d8576b\"],[0.6666666666666666,\"#ed7953\"],[0.7777777777777778,\"#fb9f3a\"],[0.8888888888888888,\"#fdca26\"],[1.0,\"#f0f921\"]]}],\"mesh3d\":[{\"type\":\"mesh3d\",\"colorbar\":{\"outlinewidth\":0,\"ticks\":\"\"}}],\"scatter\":[{\"fillpattern\":{\"fillmode\":\"overlay\",\"size\":10,\"solidity\":0.2},\"type\":\"scatter\"}],\"parcoords\":[{\"type\":\"parcoords\",\"line\":{\"colorbar\":{\"outlinewidth\":0,\"ticks\":\"\"}}}],\"scatterpolargl\":[{\"type\":\"scatterpolargl\",\"marker\":{\"colorbar\":{\"outlinewidth\":0,\"ticks\":\"\"}}}],\"bar\":[{\"error_x\":{\"color\":\"#2a3f5f\"},\"error_y\":{\"color\":\"#2a3f5f\"},\"marker\":{\"line\":{\"color\":\"#E5ECF6\",\"width\":0.5},\"pattern\":{\"fillmode\":\"overlay\",\"size\":10,\"solidity\":0.2}},\"type\":\"bar\"}],\"scattergeo\":[{\"type\":\"scattergeo\",\"marker\":{\"colorbar\":{\"outlinewidth\":0,\"ticks\":\"\"}}}],\"scatterpolar\":[{\"type\":\"scatterpolar\",\"marker\":{\"colorbar\":{\"outlinewidth\":0,\"ticks\":\"\"}}}],\"histogram\":[{\"marker\":{\"pattern\":{\"fillmode\":\"overlay\",\"size\":10,\"solidity\":0.2}},\"type\":\"histogram\"}],\"scattergl\":[{\"type\":\"scattergl\",\"marker\":{\"colorbar\":{\"outlinewidth\":0,\"ticks\":\"\"}}}],\"scatter3d\":[{\"type\":\"scatter3d\",\"line\":{\"colorbar\":{\"outlinewidth\":0,\"ticks\":\"\"}},\"marker\":{\"colorbar\":{\"outlinewidth\":0,\"ticks\":\"\"}}}],\"scattermapbox\":[{\"type\":\"scattermapbox\",\"marker\":{\"colorbar\":{\"outlinewidth\":0,\"ticks\":\"\"}}}],\"scatterternary\":[{\"type\":\"scatterternary\",\"marker\":{\"colorbar\":{\"outlinewidth\":0,\"ticks\":\"\"}}}],\"scattercarpet\":[{\"type\":\"scattercarpet\",\"marker\":{\"colorbar\":{\"outlinewidth\":0,\"ticks\":\"\"}}}],\"carpet\":[{\"aaxis\":{\"endlinecolor\":\"#2a3f5f\",\"gridcolor\":\"white\",\"linecolor\":\"white\",\"minorgridcolor\":\"white\",\"startlinecolor\":\"#2a3f5f\"},\"baxis\":{\"endlinecolor\":\"#2a3f5f\",\"gridcolor\":\"white\",\"linecolor\":\"white\",\"minorgridcolor\":\"white\",\"startlinecolor\":\"#2a3f5f\"},\"type\":\"carpet\"}],\"table\":[{\"cells\":{\"fill\":{\"color\":\"#EBF0F8\"},\"line\":{\"color\":\"white\"}},\"header\":{\"fill\":{\"color\":\"#C8D4E3\"},\"line\":{\"color\":\"white\"}},\"type\":\"table\"}],\"barpolar\":[{\"marker\":{\"line\":{\"color\":\"#E5ECF6\",\"width\":0.5},\"pattern\":{\"fillmode\":\"overlay\",\"size\":10,\"solidity\":0.2}},\"type\":\"barpolar\"}],\"pie\":[{\"automargin\":true,\"type\":\"pie\"}]},\"layout\":{\"autotypenumbers\":\"strict\",\"colorway\":[\"#636efa\",\"#EF553B\",\"#00cc96\",\"#ab63fa\",\"#FFA15A\",\"#19d3f3\",\"#FF6692\",\"#B6E880\",\"#FF97FF\",\"#FECB52\"],\"font\":{\"color\":\"#2a3f5f\"},\"hovermode\":\"closest\",\"hoverlabel\":{\"align\":\"left\"},\"paper_bgcolor\":\"white\",\"plot_bgcolor\":\"#E5ECF6\",\"polar\":{\"bgcolor\":\"#E5ECF6\",\"angularaxis\":{\"gridcolor\":\"white\",\"linecolor\":\"white\",\"ticks\":\"\"},\"radialaxis\":{\"gridcolor\":\"white\",\"linecolor\":\"white\",\"ticks\":\"\"}},\"ternary\":{\"bgcolor\":\"#E5ECF6\",\"aaxis\":{\"gridcolor\":\"white\",\"linecolor\":\"white\",\"ticks\":\"\"},\"baxis\":{\"gridcolor\":\"white\",\"linecolor\":\"white\",\"ticks\":\"\"},\"caxis\":{\"gridcolor\":\"white\",\"linecolor\":\"white\",\"ticks\":\"\"}},\"coloraxis\":{\"colorbar\":{\"outlinewidth\":0,\"ticks\":\"\"}},\"colorscale\":{\"sequential\":[[0.0,\"#0d0887\"],[0.1111111111111111,\"#46039f\"],[0.2222222222222222,\"#7201a8\"],[0.3333333333333333,\"#9c179e\"],[0.4444444444444444,\"#bd3786\"],[0.5555555555555556,\"#d8576b\"],[0.6666666666666666,\"#ed7953\"],[0.7777777777777778,\"#fb9f3a\"],[0.8888888888888888,\"#fdca26\"],[1.0,\"#f0f921\"]],\"sequentialminus\":[[0.0,\"#0d0887\"],[0.1111111111111111,\"#46039f\"],[0.2222222222222222,\"#7201a8\"],[0.3333333333333333,\"#9c179e\"],[0.4444444444444444,\"#bd3786\"],[0.5555555555555556,\"#d8576b\"],[0.6666666666666666,\"#ed7953\"],[0.7777777777777778,\"#fb9f3a\"],[0.8888888888888888,\"#fdca26\"],[1.0,\"#f0f921\"]],\"diverging\":[[0,\"#8e0152\"],[0.1,\"#c51b7d\"],[0.2,\"#de77ae\"],[0.3,\"#f1b6da\"],[0.4,\"#fde0ef\"],[0.5,\"#f7f7f7\"],[0.6,\"#e6f5d0\"],[0.7,\"#b8e186\"],[0.8,\"#7fbc41\"],[0.9,\"#4d9221\"],[1,\"#276419\"]]},\"xaxis\":{\"gridcolor\":\"white\",\"linecolor\":\"white\",\"ticks\":\"\",\"title\":{\"standoff\":15},\"zerolinecolor\":\"white\",\"automargin\":true,\"zerolinewidth\":2},\"yaxis\":{\"gridcolor\":\"white\",\"linecolor\":\"white\",\"ticks\":\"\",\"title\":{\"standoff\":15},\"zerolinecolor\":\"white\",\"automargin\":true,\"zerolinewidth\":2},\"scene\":{\"xaxis\":{\"backgroundcolor\":\"#E5ECF6\",\"gridcolor\":\"white\",\"linecolor\":\"white\",\"showbackground\":true,\"ticks\":\"\",\"zerolinecolor\":\"white\",\"gridwidth\":2},\"yaxis\":{\"backgroundcolor\":\"#E5ECF6\",\"gridcolor\":\"white\",\"linecolor\":\"white\",\"showbackground\":true,\"ticks\":\"\",\"zerolinecolor\":\"white\",\"gridwidth\":2},\"zaxis\":{\"backgroundcolor\":\"#E5ECF6\",\"gridcolor\":\"white\",\"linecolor\":\"white\",\"showbackground\":true,\"ticks\":\"\",\"zerolinecolor\":\"white\",\"gridwidth\":2}},\"shapedefaults\":{\"line\":{\"color\":\"#2a3f5f\"}},\"annotationdefaults\":{\"arrowcolor\":\"#2a3f5f\",\"arrowhead\":0,\"arrowwidth\":1},\"geo\":{\"bgcolor\":\"white\",\"landcolor\":\"#E5ECF6\",\"subunitcolor\":\"white\",\"showland\":true,\"showlakes\":true,\"lakecolor\":\"white\"},\"title\":{\"x\":0.05},\"mapbox\":{\"style\":\"light\"}}},\"scene\":{\"domain\":{\"x\":[0.0,1.0],\"y\":[0.0,1.0]},\"xaxis\":{\"title\":{\"text\":\"support\"}},\"yaxis\":{\"title\":{\"text\":\"confidence\"}},\"zaxis\":{\"title\":{\"text\":\"lift\"}}},\"legend\":{\"title\":{\"text\":\"type\"},\"tracegroupgap\":0},\"margin\":{\"t\":60},\"width\":900,\"height\":500},                        {\"responsive\": true}                    ).then(function(){\n",
       "                            \n",
       "var gd = document.getElementById('30bf6f76-9d79-4681-ae74-9f6919719bce');\n",
       "var x = new MutationObserver(function (mutations, observer) {{\n",
       "        var display = window.getComputedStyle(gd).display;\n",
       "        if (!display || display === 'none') {{\n",
       "            console.log([gd, 'removed!']);\n",
       "            Plotly.purge(gd);\n",
       "            observer.disconnect();\n",
       "        }}\n",
       "}});\n",
       "\n",
       "// Listen for the removal of the full notebook cells\n",
       "var notebookContainer = gd.closest('#notebook-container');\n",
       "if (notebookContainer) {{\n",
       "    x.observe(notebookContainer, {childList: true});\n",
       "}}\n",
       "\n",
       "// Listen for the clearing of the current output cell\n",
       "var outputEl = gd.closest('.output');\n",
       "if (outputEl) {{\n",
       "    x.observe(outputEl, {childList: true});\n",
       "}}\n",
       "\n",
       "                        })                };                });            </script>        </div>"
      ]
     },
     "metadata": {},
     "output_type": "display_data"
    },
    {
     "data": {
      "application/vnd.plotly.v1+json": {
       "config": {
        "plotlyServerURL": "https://plot.ly"
       },
       "data": [
        {
         "hovertemplate": "type=before<br>support=%{x}<br>confidence=%{y}<br>lift=%{z}<extra></extra>",
         "legendgroup": "before",
         "marker": {
          "color": "#636efa",
          "opacity": 0.7,
          "symbol": "circle"
         },
         "mode": "markers",
         "name": "before",
         "scene": "scene",
         "showlegend": true,
         "type": "scatter3d",
         "x": [
          0.07333333333333333,
          0.07333333333333333,
          0.04666666666666667,
          0.04666666666666667,
          0.04666666666666667,
          0.04666666666666667,
          0.04666666666666667,
          0.04666666666666667,
          0.04666666666666667,
          0.04666666666666667,
          0.06,
          0.06,
          0.05333333333333334,
          0.05333333333333334,
          0.05333333333333334,
          0.05333333333333334,
          0.05333333333333334,
          0.05333333333333334,
          0.06,
          0.06,
          0.05333333333333334,
          0.06666666666666667,
          0.06666666666666667,
          0.04666666666666667,
          0.04666666666666667,
          0.04666666666666667,
          0.04666666666666667,
          0.04666666666666667,
          0.05333333333333334,
          0.05333333333333334,
          0.04666666666666667,
          0.04666666666666667,
          0.04666666666666667,
          0.04666666666666667,
          0.04666666666666667,
          0.04666666666666667,
          0.04666666666666667,
          0.04666666666666667,
          0.04666666666666667,
          0.04666666666666667
         ],
         "y": [
          1,
          0.9166666666666666,
          0.5833333333333334,
          0.7000000000000001,
          0.5833333333333334,
          0.5833333333333334,
          0.5833333333333334,
          0.7000000000000001,
          0.875,
          0.7000000000000001,
          0.6428571428571428,
          0.75,
          0.6666666666666667,
          0.6666666666666667,
          0.6666666666666667,
          0.5714285714285714,
          0.6666666666666667,
          0.7272727272727273,
          0.5,
          0.6428571428571428,
          0.6666666666666667,
          0.9090909090909091,
          0.5555555555555556,
          0.5833333333333334,
          0.6363636363636364,
          0.5833333333333334,
          0.5833333333333334,
          0.5833333333333334,
          0.5714285714285714,
          0.6666666666666667,
          0.875,
          0.875,
          1,
          0.7777777777777778,
          0.6363636363636364,
          0.7000000000000001,
          1,
          0.875,
          0.6363636363636364,
          0.5833333333333334
         ],
         "z": [
          12.5,
          12.5,
          8.75,
          8.75,
          7.291666666666667,
          7.291666666666667,
          8.75,
          8.75,
          13.125,
          13.125,
          8.035714285714285,
          8.035714285714285,
          8.333333333333334,
          8.333333333333334,
          7.142857142857143,
          7.142857142857142,
          5.555555555555556,
          6.060606060606061,
          5.357142857142857,
          5.357142857142857,
          5.555555555555556,
          7.575757575757576,
          7.575757575757576,
          4.861111111111112,
          7.954545454545454,
          7.954545454545455,
          7.291666666666667,
          7.291666666666667,
          7.142857142857142,
          7.142857142857143,
          8.203125,
          18.75,
          18.75,
          10.606060606060606,
          10.606060606060606,
          8.75,
          8.333333333333334,
          11.931818181818182,
          11.931818181818182,
          8.75
         ]
        },
        {
         "hovertemplate": "type=after<br>support=%{x}<br>confidence=%{y}<br>lift=%{z}<extra></extra>",
         "legendgroup": "after",
         "marker": {
          "color": "#EF553B",
          "opacity": 0.7,
          "symbol": "circle"
         },
         "mode": "markers",
         "name": "after",
         "scene": "scene",
         "showlegend": true,
         "type": "scatter3d",
         "x": [
          0.04666666666666667,
          0.04666666666666667,
          0.05333333333333334,
          0.05333333333333334,
          0.05333333333333334,
          0.05333333333333334
         ],
         "y": [
          0.5833333333333334,
          0.5833333333333334,
          0.6666666666666667,
          0.5714285714285714,
          0.5714285714285714,
          0.6666666666666667
         ],
         "z": [
          7.291666666666667,
          7.291666666666667,
          7.142857142857143,
          7.142857142857142,
          7.142857142857142,
          7.142857142857143
         ]
        },
        {
         "hovertemplate": "type=common_in_before_after<br>support=%{x}<br>confidence=%{y}<br>lift=%{z}<extra></extra>",
         "legendgroup": "common_in_before_after",
         "marker": {
          "color": "#00cc96",
          "opacity": 0.7,
          "symbol": "circle"
         },
         "mode": "markers",
         "name": "common_in_before_after",
         "scene": "scene",
         "showlegend": true,
         "type": "scatter3d",
         "x": [
          null,
          null,
          null,
          null,
          null,
          null
         ],
         "y": [
          null,
          null,
          null,
          null,
          null,
          null
         ],
         "z": [
          null,
          null,
          null,
          null,
          null,
          null
         ]
        }
       ],
       "layout": {
        "height": 500,
        "legend": {
         "title": {
          "text": "type"
         },
         "tracegroupgap": 0
        },
        "margin": {
         "t": 60
        },
        "scene": {
         "domain": {
          "x": [
           0,
           1
          ],
          "y": [
           0,
           1
          ]
         },
         "xaxis": {
          "title": {
           "text": "support"
          }
         },
         "yaxis": {
          "title": {
           "text": "confidence"
          }
         },
         "zaxis": {
          "title": {
           "text": "lift"
          }
         }
        },
        "template": {
         "data": {
          "bar": [
           {
            "error_x": {
             "color": "#2a3f5f"
            },
            "error_y": {
             "color": "#2a3f5f"
            },
            "marker": {
             "line": {
              "color": "#E5ECF6",
              "width": 0.5
             },
             "pattern": {
              "fillmode": "overlay",
              "size": 10,
              "solidity": 0.2
             }
            },
            "type": "bar"
           }
          ],
          "barpolar": [
           {
            "marker": {
             "line": {
              "color": "#E5ECF6",
              "width": 0.5
             },
             "pattern": {
              "fillmode": "overlay",
              "size": 10,
              "solidity": 0.2
             }
            },
            "type": "barpolar"
           }
          ],
          "carpet": [
           {
            "aaxis": {
             "endlinecolor": "#2a3f5f",
             "gridcolor": "white",
             "linecolor": "white",
             "minorgridcolor": "white",
             "startlinecolor": "#2a3f5f"
            },
            "baxis": {
             "endlinecolor": "#2a3f5f",
             "gridcolor": "white",
             "linecolor": "white",
             "minorgridcolor": "white",
             "startlinecolor": "#2a3f5f"
            },
            "type": "carpet"
           }
          ],
          "choropleth": [
           {
            "colorbar": {
             "outlinewidth": 0,
             "ticks": ""
            },
            "type": "choropleth"
           }
          ],
          "contour": [
           {
            "colorbar": {
             "outlinewidth": 0,
             "ticks": ""
            },
            "colorscale": [
             [
              0,
              "#0d0887"
             ],
             [
              0.1111111111111111,
              "#46039f"
             ],
             [
              0.2222222222222222,
              "#7201a8"
             ],
             [
              0.3333333333333333,
              "#9c179e"
             ],
             [
              0.4444444444444444,
              "#bd3786"
             ],
             [
              0.5555555555555556,
              "#d8576b"
             ],
             [
              0.6666666666666666,
              "#ed7953"
             ],
             [
              0.7777777777777778,
              "#fb9f3a"
             ],
             [
              0.8888888888888888,
              "#fdca26"
             ],
             [
              1,
              "#f0f921"
             ]
            ],
            "type": "contour"
           }
          ],
          "contourcarpet": [
           {
            "colorbar": {
             "outlinewidth": 0,
             "ticks": ""
            },
            "type": "contourcarpet"
           }
          ],
          "heatmap": [
           {
            "colorbar": {
             "outlinewidth": 0,
             "ticks": ""
            },
            "colorscale": [
             [
              0,
              "#0d0887"
             ],
             [
              0.1111111111111111,
              "#46039f"
             ],
             [
              0.2222222222222222,
              "#7201a8"
             ],
             [
              0.3333333333333333,
              "#9c179e"
             ],
             [
              0.4444444444444444,
              "#bd3786"
             ],
             [
              0.5555555555555556,
              "#d8576b"
             ],
             [
              0.6666666666666666,
              "#ed7953"
             ],
             [
              0.7777777777777778,
              "#fb9f3a"
             ],
             [
              0.8888888888888888,
              "#fdca26"
             ],
             [
              1,
              "#f0f921"
             ]
            ],
            "type": "heatmap"
           }
          ],
          "heatmapgl": [
           {
            "colorbar": {
             "outlinewidth": 0,
             "ticks": ""
            },
            "colorscale": [
             [
              0,
              "#0d0887"
             ],
             [
              0.1111111111111111,
              "#46039f"
             ],
             [
              0.2222222222222222,
              "#7201a8"
             ],
             [
              0.3333333333333333,
              "#9c179e"
             ],
             [
              0.4444444444444444,
              "#bd3786"
             ],
             [
              0.5555555555555556,
              "#d8576b"
             ],
             [
              0.6666666666666666,
              "#ed7953"
             ],
             [
              0.7777777777777778,
              "#fb9f3a"
             ],
             [
              0.8888888888888888,
              "#fdca26"
             ],
             [
              1,
              "#f0f921"
             ]
            ],
            "type": "heatmapgl"
           }
          ],
          "histogram": [
           {
            "marker": {
             "pattern": {
              "fillmode": "overlay",
              "size": 10,
              "solidity": 0.2
             }
            },
            "type": "histogram"
           }
          ],
          "histogram2d": [
           {
            "colorbar": {
             "outlinewidth": 0,
             "ticks": ""
            },
            "colorscale": [
             [
              0,
              "#0d0887"
             ],
             [
              0.1111111111111111,
              "#46039f"
             ],
             [
              0.2222222222222222,
              "#7201a8"
             ],
             [
              0.3333333333333333,
              "#9c179e"
             ],
             [
              0.4444444444444444,
              "#bd3786"
             ],
             [
              0.5555555555555556,
              "#d8576b"
             ],
             [
              0.6666666666666666,
              "#ed7953"
             ],
             [
              0.7777777777777778,
              "#fb9f3a"
             ],
             [
              0.8888888888888888,
              "#fdca26"
             ],
             [
              1,
              "#f0f921"
             ]
            ],
            "type": "histogram2d"
           }
          ],
          "histogram2dcontour": [
           {
            "colorbar": {
             "outlinewidth": 0,
             "ticks": ""
            },
            "colorscale": [
             [
              0,
              "#0d0887"
             ],
             [
              0.1111111111111111,
              "#46039f"
             ],
             [
              0.2222222222222222,
              "#7201a8"
             ],
             [
              0.3333333333333333,
              "#9c179e"
             ],
             [
              0.4444444444444444,
              "#bd3786"
             ],
             [
              0.5555555555555556,
              "#d8576b"
             ],
             [
              0.6666666666666666,
              "#ed7953"
             ],
             [
              0.7777777777777778,
              "#fb9f3a"
             ],
             [
              0.8888888888888888,
              "#fdca26"
             ],
             [
              1,
              "#f0f921"
             ]
            ],
            "type": "histogram2dcontour"
           }
          ],
          "mesh3d": [
           {
            "colorbar": {
             "outlinewidth": 0,
             "ticks": ""
            },
            "type": "mesh3d"
           }
          ],
          "parcoords": [
           {
            "line": {
             "colorbar": {
              "outlinewidth": 0,
              "ticks": ""
             }
            },
            "type": "parcoords"
           }
          ],
          "pie": [
           {
            "automargin": true,
            "type": "pie"
           }
          ],
          "scatter": [
           {
            "fillpattern": {
             "fillmode": "overlay",
             "size": 10,
             "solidity": 0.2
            },
            "type": "scatter"
           }
          ],
          "scatter3d": [
           {
            "line": {
             "colorbar": {
              "outlinewidth": 0,
              "ticks": ""
             }
            },
            "marker": {
             "colorbar": {
              "outlinewidth": 0,
              "ticks": ""
             }
            },
            "type": "scatter3d"
           }
          ],
          "scattercarpet": [
           {
            "marker": {
             "colorbar": {
              "outlinewidth": 0,
              "ticks": ""
             }
            },
            "type": "scattercarpet"
           }
          ],
          "scattergeo": [
           {
            "marker": {
             "colorbar": {
              "outlinewidth": 0,
              "ticks": ""
             }
            },
            "type": "scattergeo"
           }
          ],
          "scattergl": [
           {
            "marker": {
             "colorbar": {
              "outlinewidth": 0,
              "ticks": ""
             }
            },
            "type": "scattergl"
           }
          ],
          "scattermapbox": [
           {
            "marker": {
             "colorbar": {
              "outlinewidth": 0,
              "ticks": ""
             }
            },
            "type": "scattermapbox"
           }
          ],
          "scatterpolar": [
           {
            "marker": {
             "colorbar": {
              "outlinewidth": 0,
              "ticks": ""
             }
            },
            "type": "scatterpolar"
           }
          ],
          "scatterpolargl": [
           {
            "marker": {
             "colorbar": {
              "outlinewidth": 0,
              "ticks": ""
             }
            },
            "type": "scatterpolargl"
           }
          ],
          "scatterternary": [
           {
            "marker": {
             "colorbar": {
              "outlinewidth": 0,
              "ticks": ""
             }
            },
            "type": "scatterternary"
           }
          ],
          "surface": [
           {
            "colorbar": {
             "outlinewidth": 0,
             "ticks": ""
            },
            "colorscale": [
             [
              0,
              "#0d0887"
             ],
             [
              0.1111111111111111,
              "#46039f"
             ],
             [
              0.2222222222222222,
              "#7201a8"
             ],
             [
              0.3333333333333333,
              "#9c179e"
             ],
             [
              0.4444444444444444,
              "#bd3786"
             ],
             [
              0.5555555555555556,
              "#d8576b"
             ],
             [
              0.6666666666666666,
              "#ed7953"
             ],
             [
              0.7777777777777778,
              "#fb9f3a"
             ],
             [
              0.8888888888888888,
              "#fdca26"
             ],
             [
              1,
              "#f0f921"
             ]
            ],
            "type": "surface"
           }
          ],
          "table": [
           {
            "cells": {
             "fill": {
              "color": "#EBF0F8"
             },
             "line": {
              "color": "white"
             }
            },
            "header": {
             "fill": {
              "color": "#C8D4E3"
             },
             "line": {
              "color": "white"
             }
            },
            "type": "table"
           }
          ]
         },
         "layout": {
          "annotationdefaults": {
           "arrowcolor": "#2a3f5f",
           "arrowhead": 0,
           "arrowwidth": 1
          },
          "autotypenumbers": "strict",
          "coloraxis": {
           "colorbar": {
            "outlinewidth": 0,
            "ticks": ""
           }
          },
          "colorscale": {
           "diverging": [
            [
             0,
             "#8e0152"
            ],
            [
             0.1,
             "#c51b7d"
            ],
            [
             0.2,
             "#de77ae"
            ],
            [
             0.3,
             "#f1b6da"
            ],
            [
             0.4,
             "#fde0ef"
            ],
            [
             0.5,
             "#f7f7f7"
            ],
            [
             0.6,
             "#e6f5d0"
            ],
            [
             0.7,
             "#b8e186"
            ],
            [
             0.8,
             "#7fbc41"
            ],
            [
             0.9,
             "#4d9221"
            ],
            [
             1,
             "#276419"
            ]
           ],
           "sequential": [
            [
             0,
             "#0d0887"
            ],
            [
             0.1111111111111111,
             "#46039f"
            ],
            [
             0.2222222222222222,
             "#7201a8"
            ],
            [
             0.3333333333333333,
             "#9c179e"
            ],
            [
             0.4444444444444444,
             "#bd3786"
            ],
            [
             0.5555555555555556,
             "#d8576b"
            ],
            [
             0.6666666666666666,
             "#ed7953"
            ],
            [
             0.7777777777777778,
             "#fb9f3a"
            ],
            [
             0.8888888888888888,
             "#fdca26"
            ],
            [
             1,
             "#f0f921"
            ]
           ],
           "sequentialminus": [
            [
             0,
             "#0d0887"
            ],
            [
             0.1111111111111111,
             "#46039f"
            ],
            [
             0.2222222222222222,
             "#7201a8"
            ],
            [
             0.3333333333333333,
             "#9c179e"
            ],
            [
             0.4444444444444444,
             "#bd3786"
            ],
            [
             0.5555555555555556,
             "#d8576b"
            ],
            [
             0.6666666666666666,
             "#ed7953"
            ],
            [
             0.7777777777777778,
             "#fb9f3a"
            ],
            [
             0.8888888888888888,
             "#fdca26"
            ],
            [
             1,
             "#f0f921"
            ]
           ]
          },
          "colorway": [
           "#636efa",
           "#EF553B",
           "#00cc96",
           "#ab63fa",
           "#FFA15A",
           "#19d3f3",
           "#FF6692",
           "#B6E880",
           "#FF97FF",
           "#FECB52"
          ],
          "font": {
           "color": "#2a3f5f"
          },
          "geo": {
           "bgcolor": "white",
           "lakecolor": "white",
           "landcolor": "#E5ECF6",
           "showlakes": true,
           "showland": true,
           "subunitcolor": "white"
          },
          "hoverlabel": {
           "align": "left"
          },
          "hovermode": "closest",
          "mapbox": {
           "style": "light"
          },
          "paper_bgcolor": "white",
          "plot_bgcolor": "#E5ECF6",
          "polar": {
           "angularaxis": {
            "gridcolor": "white",
            "linecolor": "white",
            "ticks": ""
           },
           "bgcolor": "#E5ECF6",
           "radialaxis": {
            "gridcolor": "white",
            "linecolor": "white",
            "ticks": ""
           }
          },
          "scene": {
           "xaxis": {
            "backgroundcolor": "#E5ECF6",
            "gridcolor": "white",
            "gridwidth": 2,
            "linecolor": "white",
            "showbackground": true,
            "ticks": "",
            "zerolinecolor": "white"
           },
           "yaxis": {
            "backgroundcolor": "#E5ECF6",
            "gridcolor": "white",
            "gridwidth": 2,
            "linecolor": "white",
            "showbackground": true,
            "ticks": "",
            "zerolinecolor": "white"
           },
           "zaxis": {
            "backgroundcolor": "#E5ECF6",
            "gridcolor": "white",
            "gridwidth": 2,
            "linecolor": "white",
            "showbackground": true,
            "ticks": "",
            "zerolinecolor": "white"
           }
          },
          "shapedefaults": {
           "line": {
            "color": "#2a3f5f"
           }
          },
          "ternary": {
           "aaxis": {
            "gridcolor": "white",
            "linecolor": "white",
            "ticks": ""
           },
           "baxis": {
            "gridcolor": "white",
            "linecolor": "white",
            "ticks": ""
           },
           "bgcolor": "#E5ECF6",
           "caxis": {
            "gridcolor": "white",
            "linecolor": "white",
            "ticks": ""
           }
          },
          "title": {
           "x": 0.05
          },
          "xaxis": {
           "automargin": true,
           "gridcolor": "white",
           "linecolor": "white",
           "ticks": "",
           "title": {
            "standoff": 15
           },
           "zerolinecolor": "white",
           "zerolinewidth": 2
          },
          "yaxis": {
           "automargin": true,
           "gridcolor": "white",
           "linecolor": "white",
           "ticks": "",
           "title": {
            "standoff": 15
           },
           "zerolinecolor": "white",
           "zerolinewidth": 2
          }
         }
        },
        "width": 900
       }
      },
      "text/html": [
       "<div>                            <div id=\"2f227aba-8c22-4539-9858-bae6fab5555c\" class=\"plotly-graph-div\" style=\"height:500px; width:900px;\"></div>            <script type=\"text/javascript\">                require([\"plotly\"], function(Plotly) {                    window.PLOTLYENV=window.PLOTLYENV || {};                                    if (document.getElementById(\"2f227aba-8c22-4539-9858-bae6fab5555c\")) {                    Plotly.newPlot(                        \"2f227aba-8c22-4539-9858-bae6fab5555c\",                        [{\"hovertemplate\":\"type=before\\u003cbr\\u003esupport=%{x}\\u003cbr\\u003econfidence=%{y}\\u003cbr\\u003elift=%{z}\\u003cextra\\u003e\\u003c\\u002fextra\\u003e\",\"legendgroup\":\"before\",\"marker\":{\"color\":\"#636efa\",\"opacity\":0.7,\"symbol\":\"circle\"},\"mode\":\"markers\",\"name\":\"before\",\"scene\":\"scene\",\"showlegend\":true,\"x\":[0.07333333333333333,0.07333333333333333,0.04666666666666667,0.04666666666666667,0.04666666666666667,0.04666666666666667,0.04666666666666667,0.04666666666666667,0.04666666666666667,0.04666666666666667,0.06,0.06,0.05333333333333334,0.05333333333333334,0.05333333333333334,0.05333333333333334,0.05333333333333334,0.05333333333333334,0.06,0.06,0.05333333333333334,0.06666666666666667,0.06666666666666667,0.04666666666666667,0.04666666666666667,0.04666666666666667,0.04666666666666667,0.04666666666666667,0.05333333333333334,0.05333333333333334,0.04666666666666667,0.04666666666666667,0.04666666666666667,0.04666666666666667,0.04666666666666667,0.04666666666666667,0.04666666666666667,0.04666666666666667,0.04666666666666667,0.04666666666666667],\"y\":[1.0,0.9166666666666666,0.5833333333333334,0.7000000000000001,0.5833333333333334,0.5833333333333334,0.5833333333333334,0.7000000000000001,0.875,0.7000000000000001,0.6428571428571428,0.75,0.6666666666666667,0.6666666666666667,0.6666666666666667,0.5714285714285714,0.6666666666666667,0.7272727272727273,0.5,0.6428571428571428,0.6666666666666667,0.9090909090909091,0.5555555555555556,0.5833333333333334,0.6363636363636364,0.5833333333333334,0.5833333333333334,0.5833333333333334,0.5714285714285714,0.6666666666666667,0.875,0.875,1.0,0.7777777777777778,0.6363636363636364,0.7000000000000001,1.0,0.875,0.6363636363636364,0.5833333333333334],\"z\":[12.5,12.5,8.75,8.75,7.291666666666667,7.291666666666667,8.75,8.75,13.125,13.125,8.035714285714285,8.035714285714285,8.333333333333334,8.333333333333334,7.142857142857143,7.142857142857142,5.555555555555556,6.060606060606061,5.357142857142857,5.357142857142857,5.555555555555556,7.575757575757576,7.575757575757576,4.861111111111112,7.954545454545454,7.954545454545455,7.291666666666667,7.291666666666667,7.142857142857142,7.142857142857143,8.203125,18.75,18.75,10.606060606060606,10.606060606060606,8.75,8.333333333333334,11.931818181818182,11.931818181818182,8.75],\"type\":\"scatter3d\"},{\"hovertemplate\":\"type=after\\u003cbr\\u003esupport=%{x}\\u003cbr\\u003econfidence=%{y}\\u003cbr\\u003elift=%{z}\\u003cextra\\u003e\\u003c\\u002fextra\\u003e\",\"legendgroup\":\"after\",\"marker\":{\"color\":\"#EF553B\",\"opacity\":0.7,\"symbol\":\"circle\"},\"mode\":\"markers\",\"name\":\"after\",\"scene\":\"scene\",\"showlegend\":true,\"x\":[0.04666666666666667,0.04666666666666667,0.05333333333333334,0.05333333333333334,0.05333333333333334,0.05333333333333334],\"y\":[0.5833333333333334,0.5833333333333334,0.6666666666666667,0.5714285714285714,0.5714285714285714,0.6666666666666667],\"z\":[7.291666666666667,7.291666666666667,7.142857142857143,7.142857142857142,7.142857142857142,7.142857142857143],\"type\":\"scatter3d\"},{\"hovertemplate\":\"type=common_in_before_after\\u003cbr\\u003esupport=%{x}\\u003cbr\\u003econfidence=%{y}\\u003cbr\\u003elift=%{z}\\u003cextra\\u003e\\u003c\\u002fextra\\u003e\",\"legendgroup\":\"common_in_before_after\",\"marker\":{\"color\":\"#00cc96\",\"opacity\":0.7,\"symbol\":\"circle\"},\"mode\":\"markers\",\"name\":\"common_in_before_after\",\"scene\":\"scene\",\"showlegend\":true,\"x\":[null,null,null,null,null,null],\"y\":[null,null,null,null,null,null],\"z\":[null,null,null,null,null,null],\"type\":\"scatter3d\"}],                        {\"template\":{\"data\":{\"histogram2dcontour\":[{\"type\":\"histogram2dcontour\",\"colorbar\":{\"outlinewidth\":0,\"ticks\":\"\"},\"colorscale\":[[0.0,\"#0d0887\"],[0.1111111111111111,\"#46039f\"],[0.2222222222222222,\"#7201a8\"],[0.3333333333333333,\"#9c179e\"],[0.4444444444444444,\"#bd3786\"],[0.5555555555555556,\"#d8576b\"],[0.6666666666666666,\"#ed7953\"],[0.7777777777777778,\"#fb9f3a\"],[0.8888888888888888,\"#fdca26\"],[1.0,\"#f0f921\"]]}],\"choropleth\":[{\"type\":\"choropleth\",\"colorbar\":{\"outlinewidth\":0,\"ticks\":\"\"}}],\"histogram2d\":[{\"type\":\"histogram2d\",\"colorbar\":{\"outlinewidth\":0,\"ticks\":\"\"},\"colorscale\":[[0.0,\"#0d0887\"],[0.1111111111111111,\"#46039f\"],[0.2222222222222222,\"#7201a8\"],[0.3333333333333333,\"#9c179e\"],[0.4444444444444444,\"#bd3786\"],[0.5555555555555556,\"#d8576b\"],[0.6666666666666666,\"#ed7953\"],[0.7777777777777778,\"#fb9f3a\"],[0.8888888888888888,\"#fdca26\"],[1.0,\"#f0f921\"]]}],\"heatmap\":[{\"type\":\"heatmap\",\"colorbar\":{\"outlinewidth\":0,\"ticks\":\"\"},\"colorscale\":[[0.0,\"#0d0887\"],[0.1111111111111111,\"#46039f\"],[0.2222222222222222,\"#7201a8\"],[0.3333333333333333,\"#9c179e\"],[0.4444444444444444,\"#bd3786\"],[0.5555555555555556,\"#d8576b\"],[0.6666666666666666,\"#ed7953\"],[0.7777777777777778,\"#fb9f3a\"],[0.8888888888888888,\"#fdca26\"],[1.0,\"#f0f921\"]]}],\"heatmapgl\":[{\"type\":\"heatmapgl\",\"colorbar\":{\"outlinewidth\":0,\"ticks\":\"\"},\"colorscale\":[[0.0,\"#0d0887\"],[0.1111111111111111,\"#46039f\"],[0.2222222222222222,\"#7201a8\"],[0.3333333333333333,\"#9c179e\"],[0.4444444444444444,\"#bd3786\"],[0.5555555555555556,\"#d8576b\"],[0.6666666666666666,\"#ed7953\"],[0.7777777777777778,\"#fb9f3a\"],[0.8888888888888888,\"#fdca26\"],[1.0,\"#f0f921\"]]}],\"contourcarpet\":[{\"type\":\"contourcarpet\",\"colorbar\":{\"outlinewidth\":0,\"ticks\":\"\"}}],\"contour\":[{\"type\":\"contour\",\"colorbar\":{\"outlinewidth\":0,\"ticks\":\"\"},\"colorscale\":[[0.0,\"#0d0887\"],[0.1111111111111111,\"#46039f\"],[0.2222222222222222,\"#7201a8\"],[0.3333333333333333,\"#9c179e\"],[0.4444444444444444,\"#bd3786\"],[0.5555555555555556,\"#d8576b\"],[0.6666666666666666,\"#ed7953\"],[0.7777777777777778,\"#fb9f3a\"],[0.8888888888888888,\"#fdca26\"],[1.0,\"#f0f921\"]]}],\"surface\":[{\"type\":\"surface\",\"colorbar\":{\"outlinewidth\":0,\"ticks\":\"\"},\"colorscale\":[[0.0,\"#0d0887\"],[0.1111111111111111,\"#46039f\"],[0.2222222222222222,\"#7201a8\"],[0.3333333333333333,\"#9c179e\"],[0.4444444444444444,\"#bd3786\"],[0.5555555555555556,\"#d8576b\"],[0.6666666666666666,\"#ed7953\"],[0.7777777777777778,\"#fb9f3a\"],[0.8888888888888888,\"#fdca26\"],[1.0,\"#f0f921\"]]}],\"mesh3d\":[{\"type\":\"mesh3d\",\"colorbar\":{\"outlinewidth\":0,\"ticks\":\"\"}}],\"scatter\":[{\"fillpattern\":{\"fillmode\":\"overlay\",\"size\":10,\"solidity\":0.2},\"type\":\"scatter\"}],\"parcoords\":[{\"type\":\"parcoords\",\"line\":{\"colorbar\":{\"outlinewidth\":0,\"ticks\":\"\"}}}],\"scatterpolargl\":[{\"type\":\"scatterpolargl\",\"marker\":{\"colorbar\":{\"outlinewidth\":0,\"ticks\":\"\"}}}],\"bar\":[{\"error_x\":{\"color\":\"#2a3f5f\"},\"error_y\":{\"color\":\"#2a3f5f\"},\"marker\":{\"line\":{\"color\":\"#E5ECF6\",\"width\":0.5},\"pattern\":{\"fillmode\":\"overlay\",\"size\":10,\"solidity\":0.2}},\"type\":\"bar\"}],\"scattergeo\":[{\"type\":\"scattergeo\",\"marker\":{\"colorbar\":{\"outlinewidth\":0,\"ticks\":\"\"}}}],\"scatterpolar\":[{\"type\":\"scatterpolar\",\"marker\":{\"colorbar\":{\"outlinewidth\":0,\"ticks\":\"\"}}}],\"histogram\":[{\"marker\":{\"pattern\":{\"fillmode\":\"overlay\",\"size\":10,\"solidity\":0.2}},\"type\":\"histogram\"}],\"scattergl\":[{\"type\":\"scattergl\",\"marker\":{\"colorbar\":{\"outlinewidth\":0,\"ticks\":\"\"}}}],\"scatter3d\":[{\"type\":\"scatter3d\",\"line\":{\"colorbar\":{\"outlinewidth\":0,\"ticks\":\"\"}},\"marker\":{\"colorbar\":{\"outlinewidth\":0,\"ticks\":\"\"}}}],\"scattermapbox\":[{\"type\":\"scattermapbox\",\"marker\":{\"colorbar\":{\"outlinewidth\":0,\"ticks\":\"\"}}}],\"scatterternary\":[{\"type\":\"scatterternary\",\"marker\":{\"colorbar\":{\"outlinewidth\":0,\"ticks\":\"\"}}}],\"scattercarpet\":[{\"type\":\"scattercarpet\",\"marker\":{\"colorbar\":{\"outlinewidth\":0,\"ticks\":\"\"}}}],\"carpet\":[{\"aaxis\":{\"endlinecolor\":\"#2a3f5f\",\"gridcolor\":\"white\",\"linecolor\":\"white\",\"minorgridcolor\":\"white\",\"startlinecolor\":\"#2a3f5f\"},\"baxis\":{\"endlinecolor\":\"#2a3f5f\",\"gridcolor\":\"white\",\"linecolor\":\"white\",\"minorgridcolor\":\"white\",\"startlinecolor\":\"#2a3f5f\"},\"type\":\"carpet\"}],\"table\":[{\"cells\":{\"fill\":{\"color\":\"#EBF0F8\"},\"line\":{\"color\":\"white\"}},\"header\":{\"fill\":{\"color\":\"#C8D4E3\"},\"line\":{\"color\":\"white\"}},\"type\":\"table\"}],\"barpolar\":[{\"marker\":{\"line\":{\"color\":\"#E5ECF6\",\"width\":0.5},\"pattern\":{\"fillmode\":\"overlay\",\"size\":10,\"solidity\":0.2}},\"type\":\"barpolar\"}],\"pie\":[{\"automargin\":true,\"type\":\"pie\"}]},\"layout\":{\"autotypenumbers\":\"strict\",\"colorway\":[\"#636efa\",\"#EF553B\",\"#00cc96\",\"#ab63fa\",\"#FFA15A\",\"#19d3f3\",\"#FF6692\",\"#B6E880\",\"#FF97FF\",\"#FECB52\"],\"font\":{\"color\":\"#2a3f5f\"},\"hovermode\":\"closest\",\"hoverlabel\":{\"align\":\"left\"},\"paper_bgcolor\":\"white\",\"plot_bgcolor\":\"#E5ECF6\",\"polar\":{\"bgcolor\":\"#E5ECF6\",\"angularaxis\":{\"gridcolor\":\"white\",\"linecolor\":\"white\",\"ticks\":\"\"},\"radialaxis\":{\"gridcolor\":\"white\",\"linecolor\":\"white\",\"ticks\":\"\"}},\"ternary\":{\"bgcolor\":\"#E5ECF6\",\"aaxis\":{\"gridcolor\":\"white\",\"linecolor\":\"white\",\"ticks\":\"\"},\"baxis\":{\"gridcolor\":\"white\",\"linecolor\":\"white\",\"ticks\":\"\"},\"caxis\":{\"gridcolor\":\"white\",\"linecolor\":\"white\",\"ticks\":\"\"}},\"coloraxis\":{\"colorbar\":{\"outlinewidth\":0,\"ticks\":\"\"}},\"colorscale\":{\"sequential\":[[0.0,\"#0d0887\"],[0.1111111111111111,\"#46039f\"],[0.2222222222222222,\"#7201a8\"],[0.3333333333333333,\"#9c179e\"],[0.4444444444444444,\"#bd3786\"],[0.5555555555555556,\"#d8576b\"],[0.6666666666666666,\"#ed7953\"],[0.7777777777777778,\"#fb9f3a\"],[0.8888888888888888,\"#fdca26\"],[1.0,\"#f0f921\"]],\"sequentialminus\":[[0.0,\"#0d0887\"],[0.1111111111111111,\"#46039f\"],[0.2222222222222222,\"#7201a8\"],[0.3333333333333333,\"#9c179e\"],[0.4444444444444444,\"#bd3786\"],[0.5555555555555556,\"#d8576b\"],[0.6666666666666666,\"#ed7953\"],[0.7777777777777778,\"#fb9f3a\"],[0.8888888888888888,\"#fdca26\"],[1.0,\"#f0f921\"]],\"diverging\":[[0,\"#8e0152\"],[0.1,\"#c51b7d\"],[0.2,\"#de77ae\"],[0.3,\"#f1b6da\"],[0.4,\"#fde0ef\"],[0.5,\"#f7f7f7\"],[0.6,\"#e6f5d0\"],[0.7,\"#b8e186\"],[0.8,\"#7fbc41\"],[0.9,\"#4d9221\"],[1,\"#276419\"]]},\"xaxis\":{\"gridcolor\":\"white\",\"linecolor\":\"white\",\"ticks\":\"\",\"title\":{\"standoff\":15},\"zerolinecolor\":\"white\",\"automargin\":true,\"zerolinewidth\":2},\"yaxis\":{\"gridcolor\":\"white\",\"linecolor\":\"white\",\"ticks\":\"\",\"title\":{\"standoff\":15},\"zerolinecolor\":\"white\",\"automargin\":true,\"zerolinewidth\":2},\"scene\":{\"xaxis\":{\"backgroundcolor\":\"#E5ECF6\",\"gridcolor\":\"white\",\"linecolor\":\"white\",\"showbackground\":true,\"ticks\":\"\",\"zerolinecolor\":\"white\",\"gridwidth\":2},\"yaxis\":{\"backgroundcolor\":\"#E5ECF6\",\"gridcolor\":\"white\",\"linecolor\":\"white\",\"showbackground\":true,\"ticks\":\"\",\"zerolinecolor\":\"white\",\"gridwidth\":2},\"zaxis\":{\"backgroundcolor\":\"#E5ECF6\",\"gridcolor\":\"white\",\"linecolor\":\"white\",\"showbackground\":true,\"ticks\":\"\",\"zerolinecolor\":\"white\",\"gridwidth\":2}},\"shapedefaults\":{\"line\":{\"color\":\"#2a3f5f\"}},\"annotationdefaults\":{\"arrowcolor\":\"#2a3f5f\",\"arrowhead\":0,\"arrowwidth\":1},\"geo\":{\"bgcolor\":\"white\",\"landcolor\":\"#E5ECF6\",\"subunitcolor\":\"white\",\"showland\":true,\"showlakes\":true,\"lakecolor\":\"white\"},\"title\":{\"x\":0.05},\"mapbox\":{\"style\":\"light\"}}},\"scene\":{\"domain\":{\"x\":[0.0,1.0],\"y\":[0.0,1.0]},\"xaxis\":{\"title\":{\"text\":\"support\"}},\"yaxis\":{\"title\":{\"text\":\"confidence\"}},\"zaxis\":{\"title\":{\"text\":\"lift\"}}},\"legend\":{\"title\":{\"text\":\"type\"},\"tracegroupgap\":0},\"margin\":{\"t\":60},\"width\":900,\"height\":500},                        {\"responsive\": true}                    ).then(function(){\n",
       "                            \n",
       "var gd = document.getElementById('2f227aba-8c22-4539-9858-bae6fab5555c');\n",
       "var x = new MutationObserver(function (mutations, observer) {{\n",
       "        var display = window.getComputedStyle(gd).display;\n",
       "        if (!display || display === 'none') {{\n",
       "            console.log([gd, 'removed!']);\n",
       "            Plotly.purge(gd);\n",
       "            observer.disconnect();\n",
       "        }}\n",
       "}});\n",
       "\n",
       "// Listen for the removal of the full notebook cells\n",
       "var notebookContainer = gd.closest('#notebook-container');\n",
       "if (notebookContainer) {{\n",
       "    x.observe(notebookContainer, {childList: true});\n",
       "}}\n",
       "\n",
       "// Listen for the clearing of the current output cell\n",
       "var outputEl = gd.closest('.output');\n",
       "if (outputEl) {{\n",
       "    x.observe(outputEl, {childList: true});\n",
       "}}\n",
       "\n",
       "                        })                };                });            </script>        </div>"
      ]
     },
     "metadata": {},
     "output_type": "display_data"
    },
    {
     "data": {
      "application/vnd.plotly.v1+json": {
       "config": {
        "plotlyServerURL": "https://plot.ly"
       },
       "data": [
        {
         "hovertemplate": "type=before<br>support=%{x}<br>confidence=%{y}<br>lift=%{z}<extra></extra>",
         "legendgroup": "before",
         "marker": {
          "color": "#636efa",
          "opacity": 0.7,
          "symbol": "circle"
         },
         "mode": "markers",
         "name": "before",
         "scene": "scene",
         "showlegend": true,
         "type": "scatter3d",
         "x": [
          0.07333333333333333,
          0.07333333333333333,
          0.04,
          0.04,
          0.04666666666666667,
          0.04666666666666667,
          0.04666666666666667,
          0.04666666666666667,
          0.04,
          0.04,
          0.04666666666666667,
          0.04666666666666667,
          0.04666666666666667,
          0.04666666666666667,
          0.04,
          0.04,
          0.04,
          0.04,
          0.04,
          0.06,
          0.06,
          0.04,
          0.05333333333333334,
          0.05333333333333334,
          0.04,
          0.04,
          0.04,
          0.04,
          0.04,
          0.04,
          0.04,
          0.04,
          0.04,
          0.04,
          0.04,
          0.04,
          0.04,
          0.05333333333333334,
          0.05333333333333334,
          0.05333333333333334,
          0.04,
          0.04,
          0.04,
          0.05333333333333334,
          0.04,
          0.04,
          0.04,
          0.04,
          0.04,
          0.04,
          0.06,
          0.06,
          0.04,
          0.05333333333333334,
          0.06666666666666667,
          0.06666666666666667,
          0.04666666666666667,
          0.04666666666666667,
          0.04666666666666667,
          0.04666666666666667,
          0.04666666666666667,
          0.05333333333333334,
          0.05333333333333334,
          0.04,
          0.04,
          0.04666666666666667,
          0.04666666666666667,
          0.04666666666666667,
          0.04,
          0.04,
          0.04,
          0.04666666666666667,
          0.04666666666666667,
          0.04,
          0.04,
          0.04,
          0.04,
          0.04,
          0.04,
          0.04,
          0.04,
          0.04,
          0.04,
          0.04,
          0.04,
          0.04,
          0.04,
          0.04,
          0.04,
          0.04,
          0.04,
          0.04,
          0.04,
          0.04,
          0.04,
          0.04,
          0.04,
          0.04666666666666667,
          0.04666666666666667,
          0.04666666666666667,
          0.04666666666666667,
          0.04666666666666667
         ],
         "y": [
          1,
          0.9166666666666666,
          0.5,
          0.5,
          0.5833333333333334,
          0.7000000000000001,
          0.5833333333333334,
          0.5833333333333334,
          0.6,
          0.5,
          0.5833333333333334,
          0.7000000000000001,
          0.875,
          0.7000000000000001,
          0.6666666666666667,
          0.75,
          0.6666666666666667,
          0.5,
          0.5,
          0.6428571428571428,
          0.75,
          0.75,
          0.6666666666666667,
          0.6666666666666667,
          0.8571428571428571,
          0.5454545454545454,
          0.8571428571428571,
          0.8571428571428571,
          0.5454545454545454,
          0.6666666666666667,
          0.5454545454545454,
          0.5454545454545454,
          0.5454545454545454,
          0.5454545454545454,
          0.5,
          0.5454545454545454,
          0.5454545454545454,
          0.6666666666666667,
          0.5714285714285714,
          0.6666666666666667,
          0.5,
          0.5,
          0.5454545454545454,
          0.7272727272727273,
          0.5454545454545454,
          0.5,
          0.5454545454545454,
          0.5454545454545454,
          0.5454545454545454,
          0.5,
          0.5,
          0.6428571428571428,
          0.5454545454545454,
          0.6666666666666667,
          0.9090909090909091,
          0.5555555555555556,
          0.5833333333333334,
          0.6363636363636364,
          0.5833333333333334,
          0.5833333333333334,
          0.5833333333333334,
          0.5714285714285714,
          0.6666666666666667,
          0.6666666666666667,
          0.5,
          0.875,
          0.875,
          1,
          0.5454545454545454,
          0.6666666666666667,
          0.5454545454545454,
          0.7777777777777778,
          0.6363636363636364,
          1,
          1,
          1,
          0.75,
          1,
          0.5,
          0.5454545454545454,
          0.75,
          0.75,
          0.6666666666666667,
          0.5,
          0.75,
          1,
          0.6666666666666667,
          0.5454545454545454,
          1,
          0.6,
          0.75,
          0.5454545454545454,
          0.5454545454545454,
          0.6,
          1,
          0.6666666666666667,
          0.5454545454545454,
          0.7000000000000001,
          1,
          0.875,
          0.6363636363636364,
          0.5833333333333334
         ],
         "z": [
          12.5,
          12.5,
          6.25,
          6.25,
          8.75,
          8.75,
          7.291666666666667,
          7.291666666666667,
          7.5,
          7.5,
          8.75,
          8.75,
          13.125,
          13.125,
          12.5,
          12.5,
          8.333333333333334,
          8.333333333333334,
          4.6875,
          8.035714285714285,
          8.035714285714285,
          8.035714285714285,
          8.333333333333334,
          8.333333333333334,
          11.688311688311687,
          11.688311688311687,
          18.36734693877551,
          18.36734693877551,
          5.844155844155844,
          9.090909090909092,
          9.09090909090909,
          7.438016528925619,
          7.438016528925619,
          4.545454545454545,
          6.818181818181818,
          6.8181818181818175,
          5.844155844155844,
          7.142857142857143,
          7.142857142857142,
          5.555555555555556,
          6.25,
          6.25,
          5.844155844155844,
          6.060606060606061,
          6.8181818181818175,
          6.818181818181818,
          7.438016528925619,
          7.438016528925619,
          6.8181818181818175,
          6.818181818181818,
          5.357142857142857,
          5.357142857142857,
          5.844155844155844,
          5.555555555555556,
          7.575757575757576,
          7.575757575757576,
          4.861111111111112,
          7.954545454545454,
          7.954545454545455,
          7.291666666666667,
          7.291666666666667,
          7.142857142857142,
          7.142857142857143,
          8.333333333333334,
          8.333333333333334,
          8.203125,
          18.75,
          18.75,
          5.113636363636363,
          9.090909090909092,
          9.09090909090909,
          10.606060606060606,
          10.606060606060606,
          25,
          25,
          10.714285714285714,
          10.227272727272727,
          12.5,
          12.5,
          10.227272727272727,
          8.035714285714285,
          6.25,
          8.333333333333334,
          8.333333333333334,
          8.035714285714285,
          8.333333333333334,
          9.090909090909092,
          9.09090909090909,
          8.333333333333334,
          8.181818181818182,
          10.227272727272727,
          10.227272727272727,
          8.181818181818182,
          6.428571428571428,
          8.333333333333334,
          9.090909090909092,
          9.09090909090909,
          8.75,
          8.333333333333334,
          11.931818181818182,
          11.931818181818182,
          8.75
         ]
        },
        {
         "hovertemplate": "type=after<br>support=%{x}<br>confidence=%{y}<br>lift=%{z}<extra></extra>",
         "legendgroup": "after",
         "marker": {
          "color": "#EF553B",
          "opacity": 0.7,
          "symbol": "circle"
         },
         "mode": "markers",
         "name": "after",
         "scene": "scene",
         "showlegend": true,
         "type": "scatter3d",
         "x": [
          0.04666666666666667,
          0.04666666666666667,
          0.04,
          0.04,
          0.04,
          0.04,
          0.05333333333333334,
          0.05333333333333334,
          0.04,
          0.04
         ],
         "y": [
          0.5833333333333334,
          0.5833333333333334,
          0.6,
          0.5,
          0.6666666666666667,
          0.5,
          0.5714285714285714,
          0.6666666666666667,
          0.6666666666666667,
          0.5
         ],
         "z": [
          7.291666666666667,
          7.291666666666667,
          7.5,
          7.5,
          8.333333333333334,
          8.333333333333334,
          7.142857142857142,
          7.142857142857143,
          8.333333333333334,
          8.333333333333334
         ]
        },
        {
         "hovertemplate": "type=common_in_before_after<br>support=%{x}<br>confidence=%{y}<br>lift=%{z}<extra></extra>",
         "legendgroup": "common_in_before_after",
         "marker": {
          "color": "#00cc96",
          "opacity": 0.7,
          "symbol": "circle"
         },
         "mode": "markers",
         "name": "common_in_before_after",
         "scene": "scene",
         "showlegend": true,
         "type": "scatter3d",
         "x": [
          null,
          null,
          null,
          null,
          null,
          null,
          null,
          null,
          null,
          null
         ],
         "y": [
          null,
          null,
          null,
          null,
          null,
          null,
          null,
          null,
          null,
          null
         ],
         "z": [
          null,
          null,
          null,
          null,
          null,
          null,
          null,
          null,
          null,
          null
         ]
        }
       ],
       "layout": {
        "height": 500,
        "legend": {
         "title": {
          "text": "type"
         },
         "tracegroupgap": 0
        },
        "margin": {
         "t": 60
        },
        "scene": {
         "domain": {
          "x": [
           0,
           1
          ],
          "y": [
           0,
           1
          ]
         },
         "xaxis": {
          "title": {
           "text": "support"
          }
         },
         "yaxis": {
          "title": {
           "text": "confidence"
          }
         },
         "zaxis": {
          "title": {
           "text": "lift"
          }
         }
        },
        "template": {
         "data": {
          "bar": [
           {
            "error_x": {
             "color": "#2a3f5f"
            },
            "error_y": {
             "color": "#2a3f5f"
            },
            "marker": {
             "line": {
              "color": "#E5ECF6",
              "width": 0.5
             },
             "pattern": {
              "fillmode": "overlay",
              "size": 10,
              "solidity": 0.2
             }
            },
            "type": "bar"
           }
          ],
          "barpolar": [
           {
            "marker": {
             "line": {
              "color": "#E5ECF6",
              "width": 0.5
             },
             "pattern": {
              "fillmode": "overlay",
              "size": 10,
              "solidity": 0.2
             }
            },
            "type": "barpolar"
           }
          ],
          "carpet": [
           {
            "aaxis": {
             "endlinecolor": "#2a3f5f",
             "gridcolor": "white",
             "linecolor": "white",
             "minorgridcolor": "white",
             "startlinecolor": "#2a3f5f"
            },
            "baxis": {
             "endlinecolor": "#2a3f5f",
             "gridcolor": "white",
             "linecolor": "white",
             "minorgridcolor": "white",
             "startlinecolor": "#2a3f5f"
            },
            "type": "carpet"
           }
          ],
          "choropleth": [
           {
            "colorbar": {
             "outlinewidth": 0,
             "ticks": ""
            },
            "type": "choropleth"
           }
          ],
          "contour": [
           {
            "colorbar": {
             "outlinewidth": 0,
             "ticks": ""
            },
            "colorscale": [
             [
              0,
              "#0d0887"
             ],
             [
              0.1111111111111111,
              "#46039f"
             ],
             [
              0.2222222222222222,
              "#7201a8"
             ],
             [
              0.3333333333333333,
              "#9c179e"
             ],
             [
              0.4444444444444444,
              "#bd3786"
             ],
             [
              0.5555555555555556,
              "#d8576b"
             ],
             [
              0.6666666666666666,
              "#ed7953"
             ],
             [
              0.7777777777777778,
              "#fb9f3a"
             ],
             [
              0.8888888888888888,
              "#fdca26"
             ],
             [
              1,
              "#f0f921"
             ]
            ],
            "type": "contour"
           }
          ],
          "contourcarpet": [
           {
            "colorbar": {
             "outlinewidth": 0,
             "ticks": ""
            },
            "type": "contourcarpet"
           }
          ],
          "heatmap": [
           {
            "colorbar": {
             "outlinewidth": 0,
             "ticks": ""
            },
            "colorscale": [
             [
              0,
              "#0d0887"
             ],
             [
              0.1111111111111111,
              "#46039f"
             ],
             [
              0.2222222222222222,
              "#7201a8"
             ],
             [
              0.3333333333333333,
              "#9c179e"
             ],
             [
              0.4444444444444444,
              "#bd3786"
             ],
             [
              0.5555555555555556,
              "#d8576b"
             ],
             [
              0.6666666666666666,
              "#ed7953"
             ],
             [
              0.7777777777777778,
              "#fb9f3a"
             ],
             [
              0.8888888888888888,
              "#fdca26"
             ],
             [
              1,
              "#f0f921"
             ]
            ],
            "type": "heatmap"
           }
          ],
          "heatmapgl": [
           {
            "colorbar": {
             "outlinewidth": 0,
             "ticks": ""
            },
            "colorscale": [
             [
              0,
              "#0d0887"
             ],
             [
              0.1111111111111111,
              "#46039f"
             ],
             [
              0.2222222222222222,
              "#7201a8"
             ],
             [
              0.3333333333333333,
              "#9c179e"
             ],
             [
              0.4444444444444444,
              "#bd3786"
             ],
             [
              0.5555555555555556,
              "#d8576b"
             ],
             [
              0.6666666666666666,
              "#ed7953"
             ],
             [
              0.7777777777777778,
              "#fb9f3a"
             ],
             [
              0.8888888888888888,
              "#fdca26"
             ],
             [
              1,
              "#f0f921"
             ]
            ],
            "type": "heatmapgl"
           }
          ],
          "histogram": [
           {
            "marker": {
             "pattern": {
              "fillmode": "overlay",
              "size": 10,
              "solidity": 0.2
             }
            },
            "type": "histogram"
           }
          ],
          "histogram2d": [
           {
            "colorbar": {
             "outlinewidth": 0,
             "ticks": ""
            },
            "colorscale": [
             [
              0,
              "#0d0887"
             ],
             [
              0.1111111111111111,
              "#46039f"
             ],
             [
              0.2222222222222222,
              "#7201a8"
             ],
             [
              0.3333333333333333,
              "#9c179e"
             ],
             [
              0.4444444444444444,
              "#bd3786"
             ],
             [
              0.5555555555555556,
              "#d8576b"
             ],
             [
              0.6666666666666666,
              "#ed7953"
             ],
             [
              0.7777777777777778,
              "#fb9f3a"
             ],
             [
              0.8888888888888888,
              "#fdca26"
             ],
             [
              1,
              "#f0f921"
             ]
            ],
            "type": "histogram2d"
           }
          ],
          "histogram2dcontour": [
           {
            "colorbar": {
             "outlinewidth": 0,
             "ticks": ""
            },
            "colorscale": [
             [
              0,
              "#0d0887"
             ],
             [
              0.1111111111111111,
              "#46039f"
             ],
             [
              0.2222222222222222,
              "#7201a8"
             ],
             [
              0.3333333333333333,
              "#9c179e"
             ],
             [
              0.4444444444444444,
              "#bd3786"
             ],
             [
              0.5555555555555556,
              "#d8576b"
             ],
             [
              0.6666666666666666,
              "#ed7953"
             ],
             [
              0.7777777777777778,
              "#fb9f3a"
             ],
             [
              0.8888888888888888,
              "#fdca26"
             ],
             [
              1,
              "#f0f921"
             ]
            ],
            "type": "histogram2dcontour"
           }
          ],
          "mesh3d": [
           {
            "colorbar": {
             "outlinewidth": 0,
             "ticks": ""
            },
            "type": "mesh3d"
           }
          ],
          "parcoords": [
           {
            "line": {
             "colorbar": {
              "outlinewidth": 0,
              "ticks": ""
             }
            },
            "type": "parcoords"
           }
          ],
          "pie": [
           {
            "automargin": true,
            "type": "pie"
           }
          ],
          "scatter": [
           {
            "fillpattern": {
             "fillmode": "overlay",
             "size": 10,
             "solidity": 0.2
            },
            "type": "scatter"
           }
          ],
          "scatter3d": [
           {
            "line": {
             "colorbar": {
              "outlinewidth": 0,
              "ticks": ""
             }
            },
            "marker": {
             "colorbar": {
              "outlinewidth": 0,
              "ticks": ""
             }
            },
            "type": "scatter3d"
           }
          ],
          "scattercarpet": [
           {
            "marker": {
             "colorbar": {
              "outlinewidth": 0,
              "ticks": ""
             }
            },
            "type": "scattercarpet"
           }
          ],
          "scattergeo": [
           {
            "marker": {
             "colorbar": {
              "outlinewidth": 0,
              "ticks": ""
             }
            },
            "type": "scattergeo"
           }
          ],
          "scattergl": [
           {
            "marker": {
             "colorbar": {
              "outlinewidth": 0,
              "ticks": ""
             }
            },
            "type": "scattergl"
           }
          ],
          "scattermapbox": [
           {
            "marker": {
             "colorbar": {
              "outlinewidth": 0,
              "ticks": ""
             }
            },
            "type": "scattermapbox"
           }
          ],
          "scatterpolar": [
           {
            "marker": {
             "colorbar": {
              "outlinewidth": 0,
              "ticks": ""
             }
            },
            "type": "scatterpolar"
           }
          ],
          "scatterpolargl": [
           {
            "marker": {
             "colorbar": {
              "outlinewidth": 0,
              "ticks": ""
             }
            },
            "type": "scatterpolargl"
           }
          ],
          "scatterternary": [
           {
            "marker": {
             "colorbar": {
              "outlinewidth": 0,
              "ticks": ""
             }
            },
            "type": "scatterternary"
           }
          ],
          "surface": [
           {
            "colorbar": {
             "outlinewidth": 0,
             "ticks": ""
            },
            "colorscale": [
             [
              0,
              "#0d0887"
             ],
             [
              0.1111111111111111,
              "#46039f"
             ],
             [
              0.2222222222222222,
              "#7201a8"
             ],
             [
              0.3333333333333333,
              "#9c179e"
             ],
             [
              0.4444444444444444,
              "#bd3786"
             ],
             [
              0.5555555555555556,
              "#d8576b"
             ],
             [
              0.6666666666666666,
              "#ed7953"
             ],
             [
              0.7777777777777778,
              "#fb9f3a"
             ],
             [
              0.8888888888888888,
              "#fdca26"
             ],
             [
              1,
              "#f0f921"
             ]
            ],
            "type": "surface"
           }
          ],
          "table": [
           {
            "cells": {
             "fill": {
              "color": "#EBF0F8"
             },
             "line": {
              "color": "white"
             }
            },
            "header": {
             "fill": {
              "color": "#C8D4E3"
             },
             "line": {
              "color": "white"
             }
            },
            "type": "table"
           }
          ]
         },
         "layout": {
          "annotationdefaults": {
           "arrowcolor": "#2a3f5f",
           "arrowhead": 0,
           "arrowwidth": 1
          },
          "autotypenumbers": "strict",
          "coloraxis": {
           "colorbar": {
            "outlinewidth": 0,
            "ticks": ""
           }
          },
          "colorscale": {
           "diverging": [
            [
             0,
             "#8e0152"
            ],
            [
             0.1,
             "#c51b7d"
            ],
            [
             0.2,
             "#de77ae"
            ],
            [
             0.3,
             "#f1b6da"
            ],
            [
             0.4,
             "#fde0ef"
            ],
            [
             0.5,
             "#f7f7f7"
            ],
            [
             0.6,
             "#e6f5d0"
            ],
            [
             0.7,
             "#b8e186"
            ],
            [
             0.8,
             "#7fbc41"
            ],
            [
             0.9,
             "#4d9221"
            ],
            [
             1,
             "#276419"
            ]
           ],
           "sequential": [
            [
             0,
             "#0d0887"
            ],
            [
             0.1111111111111111,
             "#46039f"
            ],
            [
             0.2222222222222222,
             "#7201a8"
            ],
            [
             0.3333333333333333,
             "#9c179e"
            ],
            [
             0.4444444444444444,
             "#bd3786"
            ],
            [
             0.5555555555555556,
             "#d8576b"
            ],
            [
             0.6666666666666666,
             "#ed7953"
            ],
            [
             0.7777777777777778,
             "#fb9f3a"
            ],
            [
             0.8888888888888888,
             "#fdca26"
            ],
            [
             1,
             "#f0f921"
            ]
           ],
           "sequentialminus": [
            [
             0,
             "#0d0887"
            ],
            [
             0.1111111111111111,
             "#46039f"
            ],
            [
             0.2222222222222222,
             "#7201a8"
            ],
            [
             0.3333333333333333,
             "#9c179e"
            ],
            [
             0.4444444444444444,
             "#bd3786"
            ],
            [
             0.5555555555555556,
             "#d8576b"
            ],
            [
             0.6666666666666666,
             "#ed7953"
            ],
            [
             0.7777777777777778,
             "#fb9f3a"
            ],
            [
             0.8888888888888888,
             "#fdca26"
            ],
            [
             1,
             "#f0f921"
            ]
           ]
          },
          "colorway": [
           "#636efa",
           "#EF553B",
           "#00cc96",
           "#ab63fa",
           "#FFA15A",
           "#19d3f3",
           "#FF6692",
           "#B6E880",
           "#FF97FF",
           "#FECB52"
          ],
          "font": {
           "color": "#2a3f5f"
          },
          "geo": {
           "bgcolor": "white",
           "lakecolor": "white",
           "landcolor": "#E5ECF6",
           "showlakes": true,
           "showland": true,
           "subunitcolor": "white"
          },
          "hoverlabel": {
           "align": "left"
          },
          "hovermode": "closest",
          "mapbox": {
           "style": "light"
          },
          "paper_bgcolor": "white",
          "plot_bgcolor": "#E5ECF6",
          "polar": {
           "angularaxis": {
            "gridcolor": "white",
            "linecolor": "white",
            "ticks": ""
           },
           "bgcolor": "#E5ECF6",
           "radialaxis": {
            "gridcolor": "white",
            "linecolor": "white",
            "ticks": ""
           }
          },
          "scene": {
           "xaxis": {
            "backgroundcolor": "#E5ECF6",
            "gridcolor": "white",
            "gridwidth": 2,
            "linecolor": "white",
            "showbackground": true,
            "ticks": "",
            "zerolinecolor": "white"
           },
           "yaxis": {
            "backgroundcolor": "#E5ECF6",
            "gridcolor": "white",
            "gridwidth": 2,
            "linecolor": "white",
            "showbackground": true,
            "ticks": "",
            "zerolinecolor": "white"
           },
           "zaxis": {
            "backgroundcolor": "#E5ECF6",
            "gridcolor": "white",
            "gridwidth": 2,
            "linecolor": "white",
            "showbackground": true,
            "ticks": "",
            "zerolinecolor": "white"
           }
          },
          "shapedefaults": {
           "line": {
            "color": "#2a3f5f"
           }
          },
          "ternary": {
           "aaxis": {
            "gridcolor": "white",
            "linecolor": "white",
            "ticks": ""
           },
           "baxis": {
            "gridcolor": "white",
            "linecolor": "white",
            "ticks": ""
           },
           "bgcolor": "#E5ECF6",
           "caxis": {
            "gridcolor": "white",
            "linecolor": "white",
            "ticks": ""
           }
          },
          "title": {
           "x": 0.05
          },
          "xaxis": {
           "automargin": true,
           "gridcolor": "white",
           "linecolor": "white",
           "ticks": "",
           "title": {
            "standoff": 15
           },
           "zerolinecolor": "white",
           "zerolinewidth": 2
          },
          "yaxis": {
           "automargin": true,
           "gridcolor": "white",
           "linecolor": "white",
           "ticks": "",
           "title": {
            "standoff": 15
           },
           "zerolinecolor": "white",
           "zerolinewidth": 2
          }
         }
        },
        "width": 900
       }
      },
      "text/html": [
       "<div>                            <div id=\"8af10d6d-82a1-40ab-aa30-9695beb438a1\" class=\"plotly-graph-div\" style=\"height:500px; width:900px;\"></div>            <script type=\"text/javascript\">                require([\"plotly\"], function(Plotly) {                    window.PLOTLYENV=window.PLOTLYENV || {};                                    if (document.getElementById(\"8af10d6d-82a1-40ab-aa30-9695beb438a1\")) {                    Plotly.newPlot(                        \"8af10d6d-82a1-40ab-aa30-9695beb438a1\",                        [{\"hovertemplate\":\"type=before\\u003cbr\\u003esupport=%{x}\\u003cbr\\u003econfidence=%{y}\\u003cbr\\u003elift=%{z}\\u003cextra\\u003e\\u003c\\u002fextra\\u003e\",\"legendgroup\":\"before\",\"marker\":{\"color\":\"#636efa\",\"opacity\":0.7,\"symbol\":\"circle\"},\"mode\":\"markers\",\"name\":\"before\",\"scene\":\"scene\",\"showlegend\":true,\"x\":[0.07333333333333333,0.07333333333333333,0.04,0.04,0.04666666666666667,0.04666666666666667,0.04666666666666667,0.04666666666666667,0.04,0.04,0.04666666666666667,0.04666666666666667,0.04666666666666667,0.04666666666666667,0.04,0.04,0.04,0.04,0.04,0.06,0.06,0.04,0.05333333333333334,0.05333333333333334,0.04,0.04,0.04,0.04,0.04,0.04,0.04,0.04,0.04,0.04,0.04,0.04,0.04,0.05333333333333334,0.05333333333333334,0.05333333333333334,0.04,0.04,0.04,0.05333333333333334,0.04,0.04,0.04,0.04,0.04,0.04,0.06,0.06,0.04,0.05333333333333334,0.06666666666666667,0.06666666666666667,0.04666666666666667,0.04666666666666667,0.04666666666666667,0.04666666666666667,0.04666666666666667,0.05333333333333334,0.05333333333333334,0.04,0.04,0.04666666666666667,0.04666666666666667,0.04666666666666667,0.04,0.04,0.04,0.04666666666666667,0.04666666666666667,0.04,0.04,0.04,0.04,0.04,0.04,0.04,0.04,0.04,0.04,0.04,0.04,0.04,0.04,0.04,0.04,0.04,0.04,0.04,0.04,0.04,0.04,0.04,0.04,0.04666666666666667,0.04666666666666667,0.04666666666666667,0.04666666666666667,0.04666666666666667],\"y\":[1.0,0.9166666666666666,0.5,0.5,0.5833333333333334,0.7000000000000001,0.5833333333333334,0.5833333333333334,0.6,0.5,0.5833333333333334,0.7000000000000001,0.875,0.7000000000000001,0.6666666666666667,0.75,0.6666666666666667,0.5,0.5,0.6428571428571428,0.75,0.75,0.6666666666666667,0.6666666666666667,0.8571428571428571,0.5454545454545454,0.8571428571428571,0.8571428571428571,0.5454545454545454,0.6666666666666667,0.5454545454545454,0.5454545454545454,0.5454545454545454,0.5454545454545454,0.5,0.5454545454545454,0.5454545454545454,0.6666666666666667,0.5714285714285714,0.6666666666666667,0.5,0.5,0.5454545454545454,0.7272727272727273,0.5454545454545454,0.5,0.5454545454545454,0.5454545454545454,0.5454545454545454,0.5,0.5,0.6428571428571428,0.5454545454545454,0.6666666666666667,0.9090909090909091,0.5555555555555556,0.5833333333333334,0.6363636363636364,0.5833333333333334,0.5833333333333334,0.5833333333333334,0.5714285714285714,0.6666666666666667,0.6666666666666667,0.5,0.875,0.875,1.0,0.5454545454545454,0.6666666666666667,0.5454545454545454,0.7777777777777778,0.6363636363636364,1.0,1.0,1.0,0.75,1.0,0.5,0.5454545454545454,0.75,0.75,0.6666666666666667,0.5,0.75,1.0,0.6666666666666667,0.5454545454545454,1.0,0.6,0.75,0.5454545454545454,0.5454545454545454,0.6,1.0,0.6666666666666667,0.5454545454545454,0.7000000000000001,1.0,0.875,0.6363636363636364,0.5833333333333334],\"z\":[12.5,12.5,6.25,6.25,8.75,8.75,7.291666666666667,7.291666666666667,7.5,7.5,8.75,8.75,13.125,13.125,12.5,12.5,8.333333333333334,8.333333333333334,4.6875,8.035714285714285,8.035714285714285,8.035714285714285,8.333333333333334,8.333333333333334,11.688311688311687,11.688311688311687,18.36734693877551,18.36734693877551,5.844155844155844,9.090909090909092,9.09090909090909,7.438016528925619,7.438016528925619,4.545454545454545,6.818181818181818,6.8181818181818175,5.844155844155844,7.142857142857143,7.142857142857142,5.555555555555556,6.25,6.25,5.844155844155844,6.060606060606061,6.8181818181818175,6.818181818181818,7.438016528925619,7.438016528925619,6.8181818181818175,6.818181818181818,5.357142857142857,5.357142857142857,5.844155844155844,5.555555555555556,7.575757575757576,7.575757575757576,4.861111111111112,7.954545454545454,7.954545454545455,7.291666666666667,7.291666666666667,7.142857142857142,7.142857142857143,8.333333333333334,8.333333333333334,8.203125,18.75,18.75,5.113636363636363,9.090909090909092,9.09090909090909,10.606060606060606,10.606060606060606,25.0,25.0,10.714285714285714,10.227272727272727,12.5,12.5,10.227272727272727,8.035714285714285,6.25,8.333333333333334,8.333333333333334,8.035714285714285,8.333333333333334,9.090909090909092,9.09090909090909,8.333333333333334,8.181818181818182,10.227272727272727,10.227272727272727,8.181818181818182,6.428571428571428,8.333333333333334,9.090909090909092,9.09090909090909,8.75,8.333333333333334,11.931818181818182,11.931818181818182,8.75],\"type\":\"scatter3d\"},{\"hovertemplate\":\"type=after\\u003cbr\\u003esupport=%{x}\\u003cbr\\u003econfidence=%{y}\\u003cbr\\u003elift=%{z}\\u003cextra\\u003e\\u003c\\u002fextra\\u003e\",\"legendgroup\":\"after\",\"marker\":{\"color\":\"#EF553B\",\"opacity\":0.7,\"symbol\":\"circle\"},\"mode\":\"markers\",\"name\":\"after\",\"scene\":\"scene\",\"showlegend\":true,\"x\":[0.04666666666666667,0.04666666666666667,0.04,0.04,0.04,0.04,0.05333333333333334,0.05333333333333334,0.04,0.04],\"y\":[0.5833333333333334,0.5833333333333334,0.6,0.5,0.6666666666666667,0.5,0.5714285714285714,0.6666666666666667,0.6666666666666667,0.5],\"z\":[7.291666666666667,7.291666666666667,7.5,7.5,8.333333333333334,8.333333333333334,7.142857142857142,7.142857142857143,8.333333333333334,8.333333333333334],\"type\":\"scatter3d\"},{\"hovertemplate\":\"type=common_in_before_after\\u003cbr\\u003esupport=%{x}\\u003cbr\\u003econfidence=%{y}\\u003cbr\\u003elift=%{z}\\u003cextra\\u003e\\u003c\\u002fextra\\u003e\",\"legendgroup\":\"common_in_before_after\",\"marker\":{\"color\":\"#00cc96\",\"opacity\":0.7,\"symbol\":\"circle\"},\"mode\":\"markers\",\"name\":\"common_in_before_after\",\"scene\":\"scene\",\"showlegend\":true,\"x\":[null,null,null,null,null,null,null,null,null,null],\"y\":[null,null,null,null,null,null,null,null,null,null],\"z\":[null,null,null,null,null,null,null,null,null,null],\"type\":\"scatter3d\"}],                        {\"template\":{\"data\":{\"histogram2dcontour\":[{\"type\":\"histogram2dcontour\",\"colorbar\":{\"outlinewidth\":0,\"ticks\":\"\"},\"colorscale\":[[0.0,\"#0d0887\"],[0.1111111111111111,\"#46039f\"],[0.2222222222222222,\"#7201a8\"],[0.3333333333333333,\"#9c179e\"],[0.4444444444444444,\"#bd3786\"],[0.5555555555555556,\"#d8576b\"],[0.6666666666666666,\"#ed7953\"],[0.7777777777777778,\"#fb9f3a\"],[0.8888888888888888,\"#fdca26\"],[1.0,\"#f0f921\"]]}],\"choropleth\":[{\"type\":\"choropleth\",\"colorbar\":{\"outlinewidth\":0,\"ticks\":\"\"}}],\"histogram2d\":[{\"type\":\"histogram2d\",\"colorbar\":{\"outlinewidth\":0,\"ticks\":\"\"},\"colorscale\":[[0.0,\"#0d0887\"],[0.1111111111111111,\"#46039f\"],[0.2222222222222222,\"#7201a8\"],[0.3333333333333333,\"#9c179e\"],[0.4444444444444444,\"#bd3786\"],[0.5555555555555556,\"#d8576b\"],[0.6666666666666666,\"#ed7953\"],[0.7777777777777778,\"#fb9f3a\"],[0.8888888888888888,\"#fdca26\"],[1.0,\"#f0f921\"]]}],\"heatmap\":[{\"type\":\"heatmap\",\"colorbar\":{\"outlinewidth\":0,\"ticks\":\"\"},\"colorscale\":[[0.0,\"#0d0887\"],[0.1111111111111111,\"#46039f\"],[0.2222222222222222,\"#7201a8\"],[0.3333333333333333,\"#9c179e\"],[0.4444444444444444,\"#bd3786\"],[0.5555555555555556,\"#d8576b\"],[0.6666666666666666,\"#ed7953\"],[0.7777777777777778,\"#fb9f3a\"],[0.8888888888888888,\"#fdca26\"],[1.0,\"#f0f921\"]]}],\"heatmapgl\":[{\"type\":\"heatmapgl\",\"colorbar\":{\"outlinewidth\":0,\"ticks\":\"\"},\"colorscale\":[[0.0,\"#0d0887\"],[0.1111111111111111,\"#46039f\"],[0.2222222222222222,\"#7201a8\"],[0.3333333333333333,\"#9c179e\"],[0.4444444444444444,\"#bd3786\"],[0.5555555555555556,\"#d8576b\"],[0.6666666666666666,\"#ed7953\"],[0.7777777777777778,\"#fb9f3a\"],[0.8888888888888888,\"#fdca26\"],[1.0,\"#f0f921\"]]}],\"contourcarpet\":[{\"type\":\"contourcarpet\",\"colorbar\":{\"outlinewidth\":0,\"ticks\":\"\"}}],\"contour\":[{\"type\":\"contour\",\"colorbar\":{\"outlinewidth\":0,\"ticks\":\"\"},\"colorscale\":[[0.0,\"#0d0887\"],[0.1111111111111111,\"#46039f\"],[0.2222222222222222,\"#7201a8\"],[0.3333333333333333,\"#9c179e\"],[0.4444444444444444,\"#bd3786\"],[0.5555555555555556,\"#d8576b\"],[0.6666666666666666,\"#ed7953\"],[0.7777777777777778,\"#fb9f3a\"],[0.8888888888888888,\"#fdca26\"],[1.0,\"#f0f921\"]]}],\"surface\":[{\"type\":\"surface\",\"colorbar\":{\"outlinewidth\":0,\"ticks\":\"\"},\"colorscale\":[[0.0,\"#0d0887\"],[0.1111111111111111,\"#46039f\"],[0.2222222222222222,\"#7201a8\"],[0.3333333333333333,\"#9c179e\"],[0.4444444444444444,\"#bd3786\"],[0.5555555555555556,\"#d8576b\"],[0.6666666666666666,\"#ed7953\"],[0.7777777777777778,\"#fb9f3a\"],[0.8888888888888888,\"#fdca26\"],[1.0,\"#f0f921\"]]}],\"mesh3d\":[{\"type\":\"mesh3d\",\"colorbar\":{\"outlinewidth\":0,\"ticks\":\"\"}}],\"scatter\":[{\"fillpattern\":{\"fillmode\":\"overlay\",\"size\":10,\"solidity\":0.2},\"type\":\"scatter\"}],\"parcoords\":[{\"type\":\"parcoords\",\"line\":{\"colorbar\":{\"outlinewidth\":0,\"ticks\":\"\"}}}],\"scatterpolargl\":[{\"type\":\"scatterpolargl\",\"marker\":{\"colorbar\":{\"outlinewidth\":0,\"ticks\":\"\"}}}],\"bar\":[{\"error_x\":{\"color\":\"#2a3f5f\"},\"error_y\":{\"color\":\"#2a3f5f\"},\"marker\":{\"line\":{\"color\":\"#E5ECF6\",\"width\":0.5},\"pattern\":{\"fillmode\":\"overlay\",\"size\":10,\"solidity\":0.2}},\"type\":\"bar\"}],\"scattergeo\":[{\"type\":\"scattergeo\",\"marker\":{\"colorbar\":{\"outlinewidth\":0,\"ticks\":\"\"}}}],\"scatterpolar\":[{\"type\":\"scatterpolar\",\"marker\":{\"colorbar\":{\"outlinewidth\":0,\"ticks\":\"\"}}}],\"histogram\":[{\"marker\":{\"pattern\":{\"fillmode\":\"overlay\",\"size\":10,\"solidity\":0.2}},\"type\":\"histogram\"}],\"scattergl\":[{\"type\":\"scattergl\",\"marker\":{\"colorbar\":{\"outlinewidth\":0,\"ticks\":\"\"}}}],\"scatter3d\":[{\"type\":\"scatter3d\",\"line\":{\"colorbar\":{\"outlinewidth\":0,\"ticks\":\"\"}},\"marker\":{\"colorbar\":{\"outlinewidth\":0,\"ticks\":\"\"}}}],\"scattermapbox\":[{\"type\":\"scattermapbox\",\"marker\":{\"colorbar\":{\"outlinewidth\":0,\"ticks\":\"\"}}}],\"scatterternary\":[{\"type\":\"scatterternary\",\"marker\":{\"colorbar\":{\"outlinewidth\":0,\"ticks\":\"\"}}}],\"scattercarpet\":[{\"type\":\"scattercarpet\",\"marker\":{\"colorbar\":{\"outlinewidth\":0,\"ticks\":\"\"}}}],\"carpet\":[{\"aaxis\":{\"endlinecolor\":\"#2a3f5f\",\"gridcolor\":\"white\",\"linecolor\":\"white\",\"minorgridcolor\":\"white\",\"startlinecolor\":\"#2a3f5f\"},\"baxis\":{\"endlinecolor\":\"#2a3f5f\",\"gridcolor\":\"white\",\"linecolor\":\"white\",\"minorgridcolor\":\"white\",\"startlinecolor\":\"#2a3f5f\"},\"type\":\"carpet\"}],\"table\":[{\"cells\":{\"fill\":{\"color\":\"#EBF0F8\"},\"line\":{\"color\":\"white\"}},\"header\":{\"fill\":{\"color\":\"#C8D4E3\"},\"line\":{\"color\":\"white\"}},\"type\":\"table\"}],\"barpolar\":[{\"marker\":{\"line\":{\"color\":\"#E5ECF6\",\"width\":0.5},\"pattern\":{\"fillmode\":\"overlay\",\"size\":10,\"solidity\":0.2}},\"type\":\"barpolar\"}],\"pie\":[{\"automargin\":true,\"type\":\"pie\"}]},\"layout\":{\"autotypenumbers\":\"strict\",\"colorway\":[\"#636efa\",\"#EF553B\",\"#00cc96\",\"#ab63fa\",\"#FFA15A\",\"#19d3f3\",\"#FF6692\",\"#B6E880\",\"#FF97FF\",\"#FECB52\"],\"font\":{\"color\":\"#2a3f5f\"},\"hovermode\":\"closest\",\"hoverlabel\":{\"align\":\"left\"},\"paper_bgcolor\":\"white\",\"plot_bgcolor\":\"#E5ECF6\",\"polar\":{\"bgcolor\":\"#E5ECF6\",\"angularaxis\":{\"gridcolor\":\"white\",\"linecolor\":\"white\",\"ticks\":\"\"},\"radialaxis\":{\"gridcolor\":\"white\",\"linecolor\":\"white\",\"ticks\":\"\"}},\"ternary\":{\"bgcolor\":\"#E5ECF6\",\"aaxis\":{\"gridcolor\":\"white\",\"linecolor\":\"white\",\"ticks\":\"\"},\"baxis\":{\"gridcolor\":\"white\",\"linecolor\":\"white\",\"ticks\":\"\"},\"caxis\":{\"gridcolor\":\"white\",\"linecolor\":\"white\",\"ticks\":\"\"}},\"coloraxis\":{\"colorbar\":{\"outlinewidth\":0,\"ticks\":\"\"}},\"colorscale\":{\"sequential\":[[0.0,\"#0d0887\"],[0.1111111111111111,\"#46039f\"],[0.2222222222222222,\"#7201a8\"],[0.3333333333333333,\"#9c179e\"],[0.4444444444444444,\"#bd3786\"],[0.5555555555555556,\"#d8576b\"],[0.6666666666666666,\"#ed7953\"],[0.7777777777777778,\"#fb9f3a\"],[0.8888888888888888,\"#fdca26\"],[1.0,\"#f0f921\"]],\"sequentialminus\":[[0.0,\"#0d0887\"],[0.1111111111111111,\"#46039f\"],[0.2222222222222222,\"#7201a8\"],[0.3333333333333333,\"#9c179e\"],[0.4444444444444444,\"#bd3786\"],[0.5555555555555556,\"#d8576b\"],[0.6666666666666666,\"#ed7953\"],[0.7777777777777778,\"#fb9f3a\"],[0.8888888888888888,\"#fdca26\"],[1.0,\"#f0f921\"]],\"diverging\":[[0,\"#8e0152\"],[0.1,\"#c51b7d\"],[0.2,\"#de77ae\"],[0.3,\"#f1b6da\"],[0.4,\"#fde0ef\"],[0.5,\"#f7f7f7\"],[0.6,\"#e6f5d0\"],[0.7,\"#b8e186\"],[0.8,\"#7fbc41\"],[0.9,\"#4d9221\"],[1,\"#276419\"]]},\"xaxis\":{\"gridcolor\":\"white\",\"linecolor\":\"white\",\"ticks\":\"\",\"title\":{\"standoff\":15},\"zerolinecolor\":\"white\",\"automargin\":true,\"zerolinewidth\":2},\"yaxis\":{\"gridcolor\":\"white\",\"linecolor\":\"white\",\"ticks\":\"\",\"title\":{\"standoff\":15},\"zerolinecolor\":\"white\",\"automargin\":true,\"zerolinewidth\":2},\"scene\":{\"xaxis\":{\"backgroundcolor\":\"#E5ECF6\",\"gridcolor\":\"white\",\"linecolor\":\"white\",\"showbackground\":true,\"ticks\":\"\",\"zerolinecolor\":\"white\",\"gridwidth\":2},\"yaxis\":{\"backgroundcolor\":\"#E5ECF6\",\"gridcolor\":\"white\",\"linecolor\":\"white\",\"showbackground\":true,\"ticks\":\"\",\"zerolinecolor\":\"white\",\"gridwidth\":2},\"zaxis\":{\"backgroundcolor\":\"#E5ECF6\",\"gridcolor\":\"white\",\"linecolor\":\"white\",\"showbackground\":true,\"ticks\":\"\",\"zerolinecolor\":\"white\",\"gridwidth\":2}},\"shapedefaults\":{\"line\":{\"color\":\"#2a3f5f\"}},\"annotationdefaults\":{\"arrowcolor\":\"#2a3f5f\",\"arrowhead\":0,\"arrowwidth\":1},\"geo\":{\"bgcolor\":\"white\",\"landcolor\":\"#E5ECF6\",\"subunitcolor\":\"white\",\"showland\":true,\"showlakes\":true,\"lakecolor\":\"white\"},\"title\":{\"x\":0.05},\"mapbox\":{\"style\":\"light\"}}},\"scene\":{\"domain\":{\"x\":[0.0,1.0],\"y\":[0.0,1.0]},\"xaxis\":{\"title\":{\"text\":\"support\"}},\"yaxis\":{\"title\":{\"text\":\"confidence\"}},\"zaxis\":{\"title\":{\"text\":\"lift\"}}},\"legend\":{\"title\":{\"text\":\"type\"},\"tracegroupgap\":0},\"margin\":{\"t\":60},\"width\":900,\"height\":500},                        {\"responsive\": true}                    ).then(function(){\n",
       "                            \n",
       "var gd = document.getElementById('8af10d6d-82a1-40ab-aa30-9695beb438a1');\n",
       "var x = new MutationObserver(function (mutations, observer) {{\n",
       "        var display = window.getComputedStyle(gd).display;\n",
       "        if (!display || display === 'none') {{\n",
       "            console.log([gd, 'removed!']);\n",
       "            Plotly.purge(gd);\n",
       "            observer.disconnect();\n",
       "        }}\n",
       "}});\n",
       "\n",
       "// Listen for the removal of the full notebook cells\n",
       "var notebookContainer = gd.closest('#notebook-container');\n",
       "if (notebookContainer) {{\n",
       "    x.observe(notebookContainer, {childList: true});\n",
       "}}\n",
       "\n",
       "// Listen for the clearing of the current output cell\n",
       "var outputEl = gd.closest('.output');\n",
       "if (outputEl) {{\n",
       "    x.observe(outputEl, {childList: true});\n",
       "}}\n",
       "\n",
       "                        })                };                });            </script>        </div>"
      ]
     },
     "metadata": {},
     "output_type": "display_data"
    }
   ],
   "source": [
    "# 3d plot between support, confidence, lift for before_05, after_05, common_in_after_and_selected_05, common_in_before_after_05\n",
    "# if they are in commons dont display their native color\n",
    "\n",
    "\n",
    "def plot_3d(before, after, common_in_after_and_selected, common_in_before_after):\n",
    "    before_temp = before.copy()\n",
    "    after_temp = after.copy()\n",
    "    common_in_after_and_selected_temp = common_in_after_and_selected.copy()\n",
    "    common_in_before_after_temp = common_in_before_after.copy()\n",
    "\n",
    "    before_temp['type'] = 'before'\n",
    "    after_temp['type'] = 'after'\n",
    "    common_in_after_and_selected_temp['type'] = 'common_in_after_and_selected'\n",
    "    common_in_before_after_temp['type'] = 'common_in_before_after'\n",
    "\n",
    "    # merge all the dataframes\n",
    "    merged_df = pd.concat([before_temp, after_temp, common_in_after_and_selected_temp, common_in_before_after_temp])\n",
    "    # print(merged_df)\n",
    "\n",
    "    fig = px.scatter_3d(merged_df, x='support', y='confidence', z='lift', color='type', opacity=0.7)\n",
    "    # reduce the plot size to a square size\n",
    "    \n",
    "    fig.update_layout(width=900, height=500)\n",
    "    fig.show()\n",
    "\n",
    "\n",
    "\n",
    "plot_3d(before_05, after_05, common_in_after_and_selected_05, common_in_before_after_05)\n",
    "plot_3d(before_045, after_045, common_in_after_and_selected_045, common_in_before_after_045)\n",
    "plot_3d(before_04, after_04, common_in_after_and_selected_04, common_in_before_after_04)\n"
   ]
  },
  {
   "cell_type": "code",
   "execution_count": 214,
   "metadata": {},
   "outputs": [
    {
     "name": "stdout",
     "output_type": "stream",
     "text": [
      "diff 42\n",
      "total 3970\n",
      "utility_preservation 0.9894206549118388\n",
      "diff 115\n",
      "total 3970\n",
      "utility_preservation 0.9710327455919395\n",
      "diff 190\n",
      "total 3970\n",
      "utility_preservation 0.9521410579345089\n"
     ]
    }
   ],
   "source": [
    "\n",
    "def tradeoffs(df1,df2):\n",
    "    df_binary_1 = df1\n",
    "    df_binary_2 = df2\n",
    "\n",
    "    no_colums_df_1 = df_binary_1.shape[1]\n",
    "    no_colums_df_2 = df_binary_2.shape[1]\n",
    "\n",
    "    diff = 0\n",
    "    for i in range(df_binary_1.shape[0]):\n",
    "        diff += abs(df_binary_1.iloc[i].sum() - df_binary_2.iloc[i].sum())\n",
    "\n",
    "    print(\"diff\",diff)\n",
    "    total = 0\n",
    "    for i in range(df_binary_1.shape[0]):\n",
    "        total += df_binary_1.iloc[i].sum()\n",
    "    \n",
    "    print(\"total\",total)\n",
    "\n",
    "    utility_preservation = 1 - (diff / total)\n",
    "    print(\"utility_preservation\",utility_preservation)\n",
    "    return utility_preservation\n",
    "\n",
    "tradeoffs_05 = tradeoffs(df_binary_transactions_original, df_binary_modified_txn_05)\n",
    "tradeoffs_045 = tradeoffs(df_binary_transactions_original, df_binary_modified_txn_045)\n",
    "tradeoffs_04 = tradeoffs(df_binary_transactions_original, df_binary_modified_txn_04)\n",
    "\n",
    "\n",
    "# print(\"shapes before and after\",df_binary_1.shape, df_binary_2.shape)\n",
    "# # print(df_binary_1.sum(axis=1).sum(), df_binary_2.sum(axis=1).sum())\n",
    "\n",
    "# # utility_preservation = df_binary_2.sum(axis=1).sum() / df_binary_1.sum(axis=1).sum()\n",
    "# no_colums_df_1 = df_binary_1.shape[1]\n",
    "# no_colums_df_2 = df_binary_2.shape[1]\n",
    "\n",
    "# # difference in lengths of each rows and its sum\n",
    "# diff = 0\n",
    "# for i in range(df_binary_1.shape[0]):\n",
    "#     diff += abs(df_binary_1.iloc[i].sum() - df_binary_2.iloc[i].sum())\n",
    "\n",
    "# total = 0\n",
    "# for i in range(df_binary_1.shape[0]):\n",
    "#     total += df_binary_1.iloc[i].sum()\n",
    "    \n",
    "\n",
    "# utility_preservation = 1 - (diff / total)\n",
    "# print(\"no of rules before hidden\",len(rules))\n",
    "# print(\"no of rules after hidden\",len(rules_after_hidden))\n",
    "# print(\"rules lost ratio\",(len(rules_after_hidden) / len(rules)) * 100)\n",
    "# print(\"difference in total items in each row\",diff)\n",
    "# print(\"utility_preservation\",utility_preservation)\n",
    "# print(\"differnce in rules\",len(rules) - len(rules_after_hidden))\n",
    "# print(\"Hidden rules presnt after hiding\",len(hidden_rules_data_df))\n"
   ]
  },
  {
   "cell_type": "code",
   "execution_count": 220,
   "metadata": {},
   "outputs": [
    {
     "data": {
      "image/png": "[encoded data removed]",
      "text/plain": [
       "<Figure size 1000x600 with 1 Axes>"
      ]
     },
     "metadata": {},
     "output_type": "display_data"
    },
    {
     "data": {
      "image/png": "[encoded data removed]",
      "text/plain": [
       "<Figure size 1000x600 with 1 Axes>"
      ]
     },
     "metadata": {},
     "output_type": "display_data"
    },
    {
     "data": {
      "image/png": "[encoded data removed]",
      "text/plain": [
       "<Figure size 1000x600 with 1 Axes>"
      ]
     },
     "metadata": {},
     "output_type": "display_data"
    }
   ],
   "source": [
    "# Plotting the number of rules found for different support levels and confidence levels\n",
    "\n",
    "import numpy as np\n",
    "import matplotlib.pyplot as plt\n",
    "from mlxtend.frequent_patterns import apriori, association_rules\n",
    "\n",
    "def plot_mul_graph(df1,df2):\n",
    "    df_binary_1 = df1\n",
    "    df_binary_2 = df2\n",
    "\n",
    "# Assuming df_binary_1 and df_binary_2 are your dataframes with binary encoded data\n",
    "\n",
    "# Define a range of minimum support values and confidence levels\n",
    "    min_support_values = [0.05, 0.045, 0.04]\n",
    "    confidence_levels = np.arange(0.5, 1.0, 0.1)\n",
    "\n",
    "    # Initialize dictionaries to store the number of rules for each dataframe\n",
    "    rules_count_1 = {s: [] for s in min_support_values}\n",
    "    rules_count_2 = {s: [] for s in min_support_values}\n",
    "\n",
    "\n",
    "    # Function to compute rules\n",
    "    def compute_rules(df_binary, rules_count):\n",
    "        for min_support in min_support_values:\n",
    "            # Apply the Apriori algorithm to find frequent itemsets\n",
    "            frequent_itemsets = apriori(df_binary, min_support=min_support, use_colnames=True)\n",
    "\n",
    "            for conf in confidence_levels:\n",
    "                # Generate association rules\n",
    "                rules = association_rules(frequent_itemsets, metric=\"confidence\", min_threshold=conf)\n",
    "                # Count the number of rules\n",
    "                rules_count[min_support].append(len(rules))\n",
    "\n",
    "    # Compute rules for both dataframes\n",
    "    compute_rules(df_binary_1, rules_count_1)\n",
    "    compute_rules(df_binary_2, rules_count_2)\n",
    "\n",
    "    # Plotting the results on the same graph\n",
    "    plt.figure(figsize=(10, 6))\n",
    "\n",
    "    for min_support, counts in rules_count_1.items():\n",
    "        plt.plot(confidence_levels, counts, marker='o', label=f'DF1 Support {min_support*100}%')\n",
    "\n",
    "    for min_support, counts in rules_count_2.items():\n",
    "        plt.plot(confidence_levels, counts, marker='^', label=f'DF2 Support {min_support*100}%')\n",
    "\n",
    "    plt.title('Apriori algorithm with different support levels for two datasets')\n",
    "    plt.xlabel('Confidence levels')\n",
    "    plt.ylabel('Number of rules found')\n",
    "    plt.xticks(confidence_levels)\n",
    "    plt.legend()\n",
    "    plt.grid(True)\n",
    "    plt.show()\n",
    "\n",
    "plot_mul_graph(df_binary_transactions_original, df_binary_modified_txn_05)\n",
    "plot_mul_graph(df_binary_transactions_original, df_binary_modified_txn_045)\n",
    "plot_mul_graph(df_binary_transactions_original, df_binary_modified_txn_04)\n"
   ]
  }
 ],
 "metadata": {
  "kernelspec": {
   "display_name": "Python 3 (ipykernel)",
   "language": "python",
   "name": "python3"
  }
 },
 "nbformat": 4,
 "nbformat_minor": 2
}
