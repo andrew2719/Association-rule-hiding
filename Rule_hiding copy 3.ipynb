{
 "cells": [
  {
   "cell_type": "code",
   "execution_count": 1,
   "metadata": {},
   "outputs": [],
   "source": [
    "# Data Handling\n",
    "#===================\n",
    "import pandas as pd\n",
    "\n",
    "# Data Handling\n",
    "#===================\n",
    "from mlxtend.frequent_patterns import apriori, association_rules\n",
    "\n",
    "# Visualization\n",
    "#===================\n",
    "import matplotlib.pyplot as plt\n",
    "import seaborn as sns\n",
    "import plotly.express as px\n",
    "import os\n",
    "# Warnings\n",
    "#===================\n",
    "import warnings\n",
    "warnings.filterwarnings('ignore')"
   ]
  },
  {
   "cell_type": "code",
   "execution_count": 2,
   "metadata": {},
   "outputs": [],
   "source": [
    "# print(os.listdir(\"../datasets/walmart\"))\n",
    "# path = \"../datasets/walmart/\""
   ]
  },
  {
   "cell_type": "code",
   "execution_count": 2,
   "metadata": {},
   "outputs": [
    {
     "data": {
      "text/html": [
       "<div>\n",
       "<style scoped>\n",
       "    .dataframe tbody tr th:only-of-type {\n",
       "        vertical-align: middle;\n",
       "    }\n",
       "\n",
       "    .dataframe tbody tr th {\n",
       "        vertical-align: top;\n",
       "    }\n",
       "\n",
       "    .dataframe thead th {\n",
       "        text-align: right;\n",
       "    }\n",
       "</style>\n",
       "<table border=\"1\" class=\"dataframe\">\n",
       "  <thead>\n",
       "    <tr style=\"text-align: right;\">\n",
       "      <th></th>\n",
       "      <th>BillNo</th>\n",
       "      <th>Itemname</th>\n",
       "      <th>Quantity</th>\n",
       "      <th>Date</th>\n",
       "      <th>Price</th>\n",
       "      <th>CustomerID</th>\n",
       "      <th>Country</th>\n",
       "    </tr>\n",
       "  </thead>\n",
       "  <tbody>\n",
       "    <tr>\n",
       "      <th>0</th>\n",
       "      <td>536365</td>\n",
       "      <td>WHITE HANGING HEART T-LIGHT HOLDER</td>\n",
       "      <td>6</td>\n",
       "      <td>01.12.2010 08:26</td>\n",
       "      <td>2.55</td>\n",
       "      <td>17850.0</td>\n",
       "      <td>United Kingdom</td>\n",
       "    </tr>\n",
       "    <tr>\n",
       "      <th>1</th>\n",
       "      <td>536365</td>\n",
       "      <td>WHITE METAL LANTERN</td>\n",
       "      <td>6</td>\n",
       "      <td>01.12.2010 08:26</td>\n",
       "      <td>3.39</td>\n",
       "      <td>17850.0</td>\n",
       "      <td>United Kingdom</td>\n",
       "    </tr>\n",
       "    <tr>\n",
       "      <th>2</th>\n",
       "      <td>536365</td>\n",
       "      <td>CREAM CUPID HEARTS COAT HANGER</td>\n",
       "      <td>8</td>\n",
       "      <td>01.12.2010 08:26</td>\n",
       "      <td>2.75</td>\n",
       "      <td>17850.0</td>\n",
       "      <td>United Kingdom</td>\n",
       "    </tr>\n",
       "    <tr>\n",
       "      <th>3</th>\n",
       "      <td>536365</td>\n",
       "      <td>KNITTED UNION FLAG HOT WATER BOTTLE</td>\n",
       "      <td>6</td>\n",
       "      <td>01.12.2010 08:26</td>\n",
       "      <td>3.39</td>\n",
       "      <td>17850.0</td>\n",
       "      <td>United Kingdom</td>\n",
       "    </tr>\n",
       "    <tr>\n",
       "      <th>4</th>\n",
       "      <td>536365</td>\n",
       "      <td>RED WOOLLY HOTTIE WHITE HEART.</td>\n",
       "      <td>6</td>\n",
       "      <td>01.12.2010 08:26</td>\n",
       "      <td>3.39</td>\n",
       "      <td>17850.0</td>\n",
       "      <td>United Kingdom</td>\n",
       "    </tr>\n",
       "  </tbody>\n",
       "</table>\n",
       "</div>"
      ],
      "text/plain": [
       "   BillNo                             Itemname  Quantity              Date  \\\n",
       "0  536365   WHITE HANGING HEART T-LIGHT HOLDER         6  01.12.2010 08:26   \n",
       "1  536365                  WHITE METAL LANTERN         6  01.12.2010 08:26   \n",
       "2  536365       CREAM CUPID HEARTS COAT HANGER         8  01.12.2010 08:26   \n",
       "3  536365  KNITTED UNION FLAG HOT WATER BOTTLE         6  01.12.2010 08:26   \n",
       "4  536365       RED WOOLLY HOTTIE WHITE HEART.         6  01.12.2010 08:26   \n",
       "\n",
       "   Price  CustomerID         Country  \n",
       "0   2.55     17850.0  United Kingdom  \n",
       "1   3.39     17850.0  United Kingdom  \n",
       "2   2.75     17850.0  United Kingdom  \n",
       "3   3.39     17850.0  United Kingdom  \n",
       "4   3.39     17850.0  United Kingdom  "
      ]
     },
     "execution_count": 2,
     "metadata": {},
     "output_type": "execute_result"
    }
   ],
   "source": [
    "df = pd.read_csv('Assignment-1_Data.csv',sep=';',decimal=',',low_memory=False)\n",
    "df.head()"
   ]
  },
  {
   "cell_type": "code",
   "execution_count": 3,
   "metadata": {},
   "outputs": [
    {
     "name": "stdout",
     "output_type": "stream",
     "text": [
      "##################################################\n",
      "                Dataset Information\n",
      "##################################################\n",
      "The Dataset has 7 columns and 522064 rows.\n",
      "The DataFrame has 5286 duplicated values and 135496 missing values.\n",
      "<class 'pandas.core.frame.DataFrame'>\n",
      "RangeIndex: 522064 entries, 0 to 522063\n",
      "Data columns (total 7 columns):\n",
      " #   Column      Non-Null Count   Dtype  \n",
      "---  ------      --------------   -----  \n",
      " 0   BillNo      522064 non-null  object \n",
      " 1   Itemname    520609 non-null  object \n",
      " 2   Quantity    522064 non-null  int64  \n",
      " 3   Date        522064 non-null  object \n",
      " 4   Price       522064 non-null  float64\n",
      " 5   CustomerID  388023 non-null  float64\n",
      " 6   Country     522064 non-null  object \n",
      "dtypes: float64(2), int64(1), object(4)\n",
      "memory usage: 27.9+ MB\n",
      "None\n"
     ]
    }
   ],
   "source": [
    "print(\"#\" * 50)\n",
    "print(\" \" * 15, \"Dataset Information\")\n",
    "print(\"#\" * 50)\n",
    "print(\"The Dataset has {} columns and {} rows.\".format(df.shape[1], df.shape[0]))\n",
    "print(\"The DataFrame has {} duplicated values and {} missing values.\".format(df.duplicated().sum(), df.isnull().sum().sum()))\n",
    "print(df.info())"
   ]
  },
  {
   "cell_type": "code",
   "execution_count": 4,
   "metadata": {},
   "outputs": [
    {
     "data": {
      "text/plain": [
       "(516778, 7)"
      ]
     },
     "execution_count": 4,
     "metadata": {},
     "output_type": "execute_result"
    }
   ],
   "source": [
    "df.drop_duplicates(inplace=True)\n",
    "# get the no of rows and columns\n",
    "df.shape"
   ]
  },
  {
   "cell_type": "code",
   "execution_count": 5,
   "metadata": {},
   "outputs": [
    {
     "name": "stdout",
     "output_type": "stream",
     "text": [
      "##############################\n",
      "      Null Distribution\n",
      "##############################\n"
     ]
    },
    {
     "data": {
      "text/html": [
       "<style type=\"text/css\">\n",
       "#T_94e7d_row0_col0, #T_94e7d_row0_col1 {\n",
       "  background-color: #00441b;\n",
       "  color: #f1f1f1;\n",
       "}\n",
       "#T_94e7d_row1_col0, #T_94e7d_row1_col1 {\n",
       "  background-color: #44034f;\n",
       "  color: #f1f1f1;\n",
       "}\n",
       "#T_94e7d_row2_col0, #T_94e7d_row2_col1, #T_94e7d_row3_col0, #T_94e7d_row3_col1, #T_94e7d_row4_col0, #T_94e7d_row4_col1, #T_94e7d_row5_col0, #T_94e7d_row5_col1, #T_94e7d_row6_col0, #T_94e7d_row6_col1 {\n",
       "  background-color: #40004b;\n",
       "  color: #f1f1f1;\n",
       "}\n",
       "</style>\n",
       "<table id=\"T_94e7d\">\n",
       "  <thead>\n",
       "    <tr>\n",
       "      <th class=\"blank level0\" >&nbsp;</th>\n",
       "      <th id=\"T_94e7d_level0_col0\" class=\"col_heading level0 col0\" >count</th>\n",
       "      <th id=\"T_94e7d_level0_col1\" class=\"col_heading level0 col1\" >%</th>\n",
       "    </tr>\n",
       "  </thead>\n",
       "  <tbody>\n",
       "    <tr>\n",
       "      <th id=\"T_94e7d_level0_row0\" class=\"row_heading level0 row0\" >CustomerID</th>\n",
       "      <td id=\"T_94e7d_row0_col0\" class=\"data row0 col0\" >133967</td>\n",
       "      <td id=\"T_94e7d_row0_col1\" class=\"data row0 col1\" >25.923511</td>\n",
       "    </tr>\n",
       "    <tr>\n",
       "      <th id=\"T_94e7d_level0_row1\" class=\"row_heading level0 row1\" >Itemname</th>\n",
       "      <td id=\"T_94e7d_row1_col0\" class=\"data row1 col0\" >1455</td>\n",
       "      <td id=\"T_94e7d_row1_col1\" class=\"data row1 col1\" >0.281552</td>\n",
       "    </tr>\n",
       "    <tr>\n",
       "      <th id=\"T_94e7d_level0_row2\" class=\"row_heading level0 row2\" >BillNo</th>\n",
       "      <td id=\"T_94e7d_row2_col0\" class=\"data row2 col0\" >0</td>\n",
       "      <td id=\"T_94e7d_row2_col1\" class=\"data row2 col1\" >0.000000</td>\n",
       "    </tr>\n",
       "    <tr>\n",
       "      <th id=\"T_94e7d_level0_row3\" class=\"row_heading level0 row3\" >Quantity</th>\n",
       "      <td id=\"T_94e7d_row3_col0\" class=\"data row3 col0\" >0</td>\n",
       "      <td id=\"T_94e7d_row3_col1\" class=\"data row3 col1\" >0.000000</td>\n",
       "    </tr>\n",
       "    <tr>\n",
       "      <th id=\"T_94e7d_level0_row4\" class=\"row_heading level0 row4\" >Date</th>\n",
       "      <td id=\"T_94e7d_row4_col0\" class=\"data row4 col0\" >0</td>\n",
       "      <td id=\"T_94e7d_row4_col1\" class=\"data row4 col1\" >0.000000</td>\n",
       "    </tr>\n",
       "    <tr>\n",
       "      <th id=\"T_94e7d_level0_row5\" class=\"row_heading level0 row5\" >Price</th>\n",
       "      <td id=\"T_94e7d_row5_col0\" class=\"data row5 col0\" >0</td>\n",
       "      <td id=\"T_94e7d_row5_col1\" class=\"data row5 col1\" >0.000000</td>\n",
       "    </tr>\n",
       "    <tr>\n",
       "      <th id=\"T_94e7d_level0_row6\" class=\"row_heading level0 row6\" >Country</th>\n",
       "      <td id=\"T_94e7d_row6_col0\" class=\"data row6 col0\" >0</td>\n",
       "      <td id=\"T_94e7d_row6_col1\" class=\"data row6 col1\" >0.000000</td>\n",
       "    </tr>\n",
       "  </tbody>\n",
       "</table>\n"
      ],
      "text/plain": [
       "<pandas.io.formats.style.Styler at 0x288cd8fbfd0>"
      ]
     },
     "execution_count": 5,
     "metadata": {},
     "output_type": "execute_result"
    }
   ],
   "source": [
    "print(\"#\" * 30)\n",
    "print(\" \" * 5, \"Null Distribution\")\n",
    "print(\"#\" * 30)\n",
    "null = df.isnull().sum().to_frame().rename(columns = {0:'count'})\n",
    "null['%'] = (null['count'] / len(df)) * 100.\n",
    "null = null.sort_values(by = '%', ascending = False)\n",
    "null.style.background_gradient(cmap = 'PRGn')"
   ]
  },
  {
   "cell_type": "code",
   "execution_count": 6,
   "metadata": {},
   "outputs": [],
   "source": [
    "df.dropna(subset=['CustomerID', 'Itemname'], inplace=True)\n",
    "df = df.rename(columns={'Itemname': 'ItemName'})\n",
    "df['ItemName'] = df['ItemName'].str.lower()\n",
    "df['CustomerID'] = df['CustomerID'].astype('int')"
   ]
  },
  {
   "cell_type": "code",
   "execution_count": 7,
   "metadata": {},
   "outputs": [
    {
     "data": {
      "text/html": [
       "<div>\n",
       "<style scoped>\n",
       "    .dataframe tbody tr th:only-of-type {\n",
       "        vertical-align: middle;\n",
       "    }\n",
       "\n",
       "    .dataframe tbody tr th {\n",
       "        vertical-align: top;\n",
       "    }\n",
       "\n",
       "    .dataframe thead th {\n",
       "        text-align: right;\n",
       "    }\n",
       "</style>\n",
       "<table border=\"1\" class=\"dataframe\">\n",
       "  <thead>\n",
       "    <tr style=\"text-align: right;\">\n",
       "      <th></th>\n",
       "      <th>ItemName</th>\n",
       "      <th>Count</th>\n",
       "    </tr>\n",
       "  </thead>\n",
       "  <tbody>\n",
       "    <tr>\n",
       "      <th>0</th>\n",
       "      <td>white hanging heart t-light holder</td>\n",
       "      <td>1964</td>\n",
       "    </tr>\n",
       "    <tr>\n",
       "      <th>1</th>\n",
       "      <td>regency cakestand 3 tier</td>\n",
       "      <td>1634</td>\n",
       "    </tr>\n",
       "    <tr>\n",
       "      <th>2</th>\n",
       "      <td>jumbo bag red retrospot</td>\n",
       "      <td>1588</td>\n",
       "    </tr>\n",
       "    <tr>\n",
       "      <th>3</th>\n",
       "      <td>assorted colour bird ornament</td>\n",
       "      <td>1378</td>\n",
       "    </tr>\n",
       "    <tr>\n",
       "      <th>4</th>\n",
       "      <td>party bunting</td>\n",
       "      <td>1362</td>\n",
       "    </tr>\n",
       "  </tbody>\n",
       "</table>\n",
       "</div>"
      ],
      "text/plain": [
       "                             ItemName  Count\n",
       "0  white hanging heart t-light holder   1964\n",
       "1            regency cakestand 3 tier   1634\n",
       "2             jumbo bag red retrospot   1588\n",
       "3       assorted colour bird ornament   1378\n",
       "4                       party bunting   1362"
      ]
     },
     "execution_count": 7,
     "metadata": {},
     "output_type": "execute_result"
    }
   ],
   "source": [
    "item_counts = df['ItemName'].value_counts().to_frame().reset_index()\n",
    "item_counts.columns = ['ItemName', 'Count']\n",
    "item_counts.head()"
   ]
  },
  {
   "cell_type": "code",
   "execution_count": 8,
   "metadata": {},
   "outputs": [
    {
     "data": {
      "text/html": [
       "<div>\n",
       "<style scoped>\n",
       "    .dataframe tbody tr th:only-of-type {\n",
       "        vertical-align: middle;\n",
       "    }\n",
       "\n",
       "    .dataframe tbody tr th {\n",
       "        vertical-align: top;\n",
       "    }\n",
       "\n",
       "    .dataframe thead th {\n",
       "        text-align: right;\n",
       "    }\n",
       "</style>\n",
       "<table border=\"1\" class=\"dataframe\">\n",
       "  <thead>\n",
       "    <tr style=\"text-align: right;\">\n",
       "      <th></th>\n",
       "      <th>ItemName</th>\n",
       "    </tr>\n",
       "  </thead>\n",
       "  <tbody>\n",
       "    <tr>\n",
       "      <th>0</th>\n",
       "      <td>white hanging heart t-light holder, white meta...</td>\n",
       "    </tr>\n",
       "    <tr>\n",
       "      <th>1</th>\n",
       "      <td>hand warmer union jack, hand warmer red polka dot</td>\n",
       "    </tr>\n",
       "    <tr>\n",
       "      <th>2</th>\n",
       "      <td>assorted colour bird ornament, poppy's playhou...</td>\n",
       "    </tr>\n",
       "    <tr>\n",
       "      <th>3</th>\n",
       "      <td>jam making set with jars, red coat rack paris ...</td>\n",
       "    </tr>\n",
       "    <tr>\n",
       "      <th>4</th>\n",
       "      <td>bath building block word</td>\n",
       "    </tr>\n",
       "  </tbody>\n",
       "</table>\n",
       "</div>"
      ],
      "text/plain": [
       "                                            ItemName\n",
       "0  white hanging heart t-light holder, white meta...\n",
       "1  hand warmer union jack, hand warmer red polka dot\n",
       "2  assorted colour bird ornament, poppy's playhou...\n",
       "3  jam making set with jars, red coat rack paris ...\n",
       "4                           bath building block word"
      ]
     },
     "execution_count": 8,
     "metadata": {},
     "output_type": "execute_result"
    }
   ],
   "source": [
    "transactions_original = df.groupby(['BillNo', 'Date'])['ItemName'].apply(lambda x: ', '.join(x)).reset_index()\n",
    "\n",
    "transactions_original.drop(columns=['BillNo', 'Date'], inplace=True)\n",
    "\n",
    "transactions_original.head()\n",
    "# transactions_original"
   ]
  },
  {
   "cell_type": "code",
   "execution_count": 9,
   "metadata": {},
   "outputs": [
    {
     "data": {
      "text/html": [
       "<div>\n",
       "<style scoped>\n",
       "    .dataframe tbody tr th:only-of-type {\n",
       "        vertical-align: middle;\n",
       "    }\n",
       "\n",
       "    .dataframe tbody tr th {\n",
       "        vertical-align: top;\n",
       "    }\n",
       "\n",
       "    .dataframe thead th {\n",
       "        text-align: right;\n",
       "    }\n",
       "</style>\n",
       "<table border=\"1\" class=\"dataframe\">\n",
       "  <thead>\n",
       "    <tr style=\"text-align: right;\">\n",
       "      <th></th>\n",
       "      <th>ItemName</th>\n",
       "    </tr>\n",
       "  </thead>\n",
       "  <tbody>\n",
       "    <tr>\n",
       "      <th>0</th>\n",
       "      <td>817, 1558, 1359, 1358, 3869, 3530, 3867, 1561,...</td>\n",
       "    </tr>\n",
       "    <tr>\n",
       "      <th>1</th>\n",
       "      <td>961, 1992, 212, 2183, 2751, 1428, 2063, 1564, ...</td>\n",
       "    </tr>\n",
       "    <tr>\n",
       "      <th>2</th>\n",
       "      <td>1761, 3376, 1660, 1755, 1022, 1659, 3564, 1722...</td>\n",
       "    </tr>\n",
       "    <tr>\n",
       "      <th>3</th>\n",
       "      <td>3682, 1364, 2997, 741, 2991, 3758, 2758, 1501,...</td>\n",
       "    </tr>\n",
       "    <tr>\n",
       "      <th>4</th>\n",
       "      <td>2994, 3318, 3601, 1216, 1422, 137, 3307, 2931,...</td>\n",
       "    </tr>\n",
       "  </tbody>\n",
       "</table>\n",
       "</div>"
      ],
      "text/plain": [
       "                                            ItemName\n",
       "0  817, 1558, 1359, 1358, 3869, 3530, 3867, 1561,...\n",
       "1  961, 1992, 212, 2183, 2751, 1428, 2063, 1564, ...\n",
       "2  1761, 3376, 1660, 1755, 1022, 1659, 3564, 1722...\n",
       "3  3682, 1364, 2997, 741, 2991, 3758, 2758, 1501,...\n",
       "4  2994, 3318, 3601, 1216, 1422, 137, 3307, 2931,..."
      ]
     },
     "execution_count": 9,
     "metadata": {},
     "output_type": "execute_result"
    }
   ],
   "source": [
    "transactions = transactions_original.copy()\n",
    "transactions_sets = transactions['ItemName'].str.split(', ')\n",
    "transactions_sets = transactions_sets.apply(lambda x: set(x))\n",
    "# into a list\n",
    "transactions_sets = transactions_sets.to_list()\n",
    "\n",
    "transactions_lists = [list(transaction_set) for transaction_set in transactions_sets]\n",
    "\n",
    "#  assign unique number for each item that represents the item\n",
    "unique_items = sorted(set(item for transaction in transactions_lists for item in transaction))\n",
    "\n",
    "# instead of int make those unique numbers as string\n",
    "item_to_index = {item: i for i, item in enumerate(unique_items)}\n",
    "index_to_item = {i: item for item, i in item_to_index.items()}\n",
    "transactions_indexed = [[item_to_index[item] for item in transaction] for transaction in transactions_lists]\n",
    "\n",
    "transactions_str = [', '.join(map(str, transaction)) for transaction in transactions_indexed]\n",
    "\n",
    "# Create a new dataframe with these strings\n",
    "transactions_final = pd.DataFrame(transactions_str, columns=['ItemName'])\n",
    "\n",
    "# Display the head of the new dataframe\n",
    "# transactions_final.head()\n",
    "# randomly sample 100 transactions\n",
    "transactions_final = transactions_final.sample(150, random_state=42)\n",
    "\n",
    "# index the dataset\n",
    "transactions_final.index = range(150)\n",
    "# Display the head of the new dataframe\n",
    "transactions_final.head()\n",
    "\n",
    "\n"
   ]
  },
  {
   "cell_type": "code",
   "execution_count": 10,
   "metadata": {},
   "outputs": [],
   "source": [
    "transactions = transactions_final.copy()"
   ]
  },
  {
   "cell_type": "code",
   "execution_count": 11,
   "metadata": {},
   "outputs": [
    {
     "name": "stdout",
     "output_type": "stream",
     "text": [
      "       0     1     2     3     4     5     6     7     8     9   ...    79  \\\n",
      "0     817  1558  1359  1358  3869  3530  3867  1561  1791  None  ...  None   \n",
      "1     961  1992   212  2183  2751  1428  2063  1564  2684  1728  ...  None   \n",
      "2    1761  3376  1660  1755  1022  1659  3564  1722  1004  1642  ...  None   \n",
      "3    3682  1364  2997   741  2991  3758  2758  1501  3556  2856  ...  None   \n",
      "4    2994  3318  3601  1216  1422   137  3307  2931  2298  2299  ...  None   \n",
      "..    ...   ...   ...   ...   ...   ...   ...   ...   ...   ...  ...   ...   \n",
      "145  1927   583  3219  2236  2562  3213  1961  3216  3088  2264  ...  None   \n",
      "146  2301  2090  3610  1932   976  2562  2596  1943  2918   778  ...  None   \n",
      "147  2759  3384  1359  2758  2765  3175  2768   792  2856  1776  ...  None   \n",
      "148  3594   547  3747   214  2331  3290    95    93  3749   200  ...  None   \n",
      "149  3071  3735  3733  1721  1600  1599  2988  1755  2307  3072  ...  None   \n",
      "\n",
      "       80    81    82    83    84    85    86    87    88  \n",
      "0    None  None  None  None  None  None  None  None  None  \n",
      "1    None  None  None  None  None  None  None  None  None  \n",
      "2    None  None  None  None  None  None  None  None  None  \n",
      "3    None  None  None  None  None  None  None  None  None  \n",
      "4    None  None  None  None  None  None  None  None  None  \n",
      "..    ...   ...   ...   ...   ...   ...   ...   ...   ...  \n",
      "145  None  None  None  None  None  None  None  None  None  \n",
      "146  None  None  None  None  None  None  None  None  None  \n",
      "147  None  None  None  None  None  None  None  None  None  \n",
      "148  None  None  None  None  None  None  None  None  None  \n",
      "149  None  None  None  None  None  None  None  None  None  \n",
      "\n",
      "[150 rows x 89 columns]\n"
     ]
    }
   ],
   "source": [
    "items_df = transactions['ItemName'].str.split(', ', expand=True).applymap(lambda x: x.strip() if x else x)\n",
    "\n",
    "# items_df.shape\n",
    "print(items_df)"
   ]
  },
  {
   "cell_type": "code",
   "execution_count": 12,
   "metadata": {},
   "outputs": [
    {
     "data": {
      "text/html": [
       "<div>\n",
       "<style scoped>\n",
       "    .dataframe tbody tr th:only-of-type {\n",
       "        vertical-align: middle;\n",
       "    }\n",
       "\n",
       "    .dataframe tbody tr th {\n",
       "        vertical-align: top;\n",
       "    }\n",
       "\n",
       "    .dataframe thead th {\n",
       "        text-align: right;\n",
       "    }\n",
       "</style>\n",
       "<table border=\"1\" class=\"dataframe\">\n",
       "  <thead>\n",
       "    <tr style=\"text-align: right;\">\n",
       "      <th></th>\n",
       "      <th>1</th>\n",
       "      <th>10</th>\n",
       "      <th>100</th>\n",
       "      <th>1001</th>\n",
       "      <th>1002</th>\n",
       "      <th>1003</th>\n",
       "      <th>1004</th>\n",
       "      <th>1006</th>\n",
       "      <th>1007</th>\n",
       "      <th>101</th>\n",
       "      <th>...</th>\n",
       "      <th>973</th>\n",
       "      <th>975</th>\n",
       "      <th>976</th>\n",
       "      <th>979</th>\n",
       "      <th>98</th>\n",
       "      <th>981</th>\n",
       "      <th>984</th>\n",
       "      <th>992</th>\n",
       "      <th>997</th>\n",
       "      <th>998</th>\n",
       "    </tr>\n",
       "  </thead>\n",
       "  <tbody>\n",
       "    <tr>\n",
       "      <th>0</th>\n",
       "      <td>False</td>\n",
       "      <td>False</td>\n",
       "      <td>False</td>\n",
       "      <td>False</td>\n",
       "      <td>False</td>\n",
       "      <td>False</td>\n",
       "      <td>False</td>\n",
       "      <td>False</td>\n",
       "      <td>False</td>\n",
       "      <td>False</td>\n",
       "      <td>...</td>\n",
       "      <td>False</td>\n",
       "      <td>False</td>\n",
       "      <td>False</td>\n",
       "      <td>False</td>\n",
       "      <td>False</td>\n",
       "      <td>False</td>\n",
       "      <td>False</td>\n",
       "      <td>False</td>\n",
       "      <td>False</td>\n",
       "      <td>False</td>\n",
       "    </tr>\n",
       "    <tr>\n",
       "      <th>1</th>\n",
       "      <td>False</td>\n",
       "      <td>False</td>\n",
       "      <td>False</td>\n",
       "      <td>False</td>\n",
       "      <td>False</td>\n",
       "      <td>False</td>\n",
       "      <td>False</td>\n",
       "      <td>False</td>\n",
       "      <td>False</td>\n",
       "      <td>False</td>\n",
       "      <td>...</td>\n",
       "      <td>False</td>\n",
       "      <td>False</td>\n",
       "      <td>False</td>\n",
       "      <td>False</td>\n",
       "      <td>False</td>\n",
       "      <td>False</td>\n",
       "      <td>False</td>\n",
       "      <td>False</td>\n",
       "      <td>False</td>\n",
       "      <td>False</td>\n",
       "    </tr>\n",
       "    <tr>\n",
       "      <th>2</th>\n",
       "      <td>False</td>\n",
       "      <td>False</td>\n",
       "      <td>False</td>\n",
       "      <td>False</td>\n",
       "      <td>False</td>\n",
       "      <td>False</td>\n",
       "      <td>True</td>\n",
       "      <td>False</td>\n",
       "      <td>False</td>\n",
       "      <td>False</td>\n",
       "      <td>...</td>\n",
       "      <td>False</td>\n",
       "      <td>False</td>\n",
       "      <td>False</td>\n",
       "      <td>False</td>\n",
       "      <td>False</td>\n",
       "      <td>False</td>\n",
       "      <td>False</td>\n",
       "      <td>False</td>\n",
       "      <td>True</td>\n",
       "      <td>False</td>\n",
       "    </tr>\n",
       "    <tr>\n",
       "      <th>3</th>\n",
       "      <td>False</td>\n",
       "      <td>False</td>\n",
       "      <td>False</td>\n",
       "      <td>False</td>\n",
       "      <td>False</td>\n",
       "      <td>False</td>\n",
       "      <td>False</td>\n",
       "      <td>False</td>\n",
       "      <td>False</td>\n",
       "      <td>False</td>\n",
       "      <td>...</td>\n",
       "      <td>False</td>\n",
       "      <td>False</td>\n",
       "      <td>False</td>\n",
       "      <td>False</td>\n",
       "      <td>False</td>\n",
       "      <td>False</td>\n",
       "      <td>False</td>\n",
       "      <td>False</td>\n",
       "      <td>False</td>\n",
       "      <td>False</td>\n",
       "    </tr>\n",
       "    <tr>\n",
       "      <th>4</th>\n",
       "      <td>False</td>\n",
       "      <td>False</td>\n",
       "      <td>False</td>\n",
       "      <td>False</td>\n",
       "      <td>False</td>\n",
       "      <td>False</td>\n",
       "      <td>False</td>\n",
       "      <td>False</td>\n",
       "      <td>False</td>\n",
       "      <td>False</td>\n",
       "      <td>...</td>\n",
       "      <td>False</td>\n",
       "      <td>False</td>\n",
       "      <td>False</td>\n",
       "      <td>False</td>\n",
       "      <td>False</td>\n",
       "      <td>False</td>\n",
       "      <td>False</td>\n",
       "      <td>False</td>\n",
       "      <td>False</td>\n",
       "      <td>False</td>\n",
       "    </tr>\n",
       "  </tbody>\n",
       "</table>\n",
       "<p>5 rows × 1486 columns</p>\n",
       "</div>"
      ],
      "text/plain": [
       "       1     10    100   1001   1002   1003   1004   1006   1007    101  ...  \\\n",
       "0  False  False  False  False  False  False  False  False  False  False  ...   \n",
       "1  False  False  False  False  False  False  False  False  False  False  ...   \n",
       "2  False  False  False  False  False  False   True  False  False  False  ...   \n",
       "3  False  False  False  False  False  False  False  False  False  False  ...   \n",
       "4  False  False  False  False  False  False  False  False  False  False  ...   \n",
       "\n",
       "     973    975    976    979     98    981    984    992    997    998  \n",
       "0  False  False  False  False  False  False  False  False  False  False  \n",
       "1  False  False  False  False  False  False  False  False  False  False  \n",
       "2  False  False  False  False  False  False  False  False   True  False  \n",
       "3  False  False  False  False  False  False  False  False  False  False  \n",
       "4  False  False  False  False  False  False  False  False  False  False  \n",
       "\n",
       "[5 rows x 1486 columns]"
      ]
     },
     "execution_count": 12,
     "metadata": {},
     "output_type": "execute_result"
    }
   ],
   "source": [
    "# Convert items to boolean columns\n",
    "df_encoded_1 = pd.get_dummies(items_df, prefix='', prefix_sep='').groupby(level=0, axis=1).max()\n",
    "df_encoded_1.head()"
   ]
  },
  {
   "cell_type": "code",
   "execution_count": 13,
   "metadata": {},
   "outputs": [
    {
     "data": {
      "text/html": [
       "<div>\n",
       "<style scoped>\n",
       "    .dataframe tbody tr th:only-of-type {\n",
       "        vertical-align: middle;\n",
       "    }\n",
       "\n",
       "    .dataframe tbody tr th {\n",
       "        vertical-align: top;\n",
       "    }\n",
       "\n",
       "    .dataframe thead th {\n",
       "        text-align: right;\n",
       "    }\n",
       "</style>\n",
       "<table border=\"1\" class=\"dataframe\">\n",
       "  <thead>\n",
       "    <tr style=\"text-align: right;\">\n",
       "      <th></th>\n",
       "      <th>1</th>\n",
       "      <th>10</th>\n",
       "      <th>100</th>\n",
       "      <th>1001</th>\n",
       "      <th>1002</th>\n",
       "      <th>1003</th>\n",
       "      <th>1004</th>\n",
       "      <th>1006</th>\n",
       "      <th>1007</th>\n",
       "      <th>101</th>\n",
       "      <th>...</th>\n",
       "      <th>973</th>\n",
       "      <th>975</th>\n",
       "      <th>976</th>\n",
       "      <th>979</th>\n",
       "      <th>98</th>\n",
       "      <th>981</th>\n",
       "      <th>984</th>\n",
       "      <th>992</th>\n",
       "      <th>997</th>\n",
       "      <th>998</th>\n",
       "    </tr>\n",
       "  </thead>\n",
       "  <tbody>\n",
       "    <tr>\n",
       "      <th>0</th>\n",
       "      <td>0</td>\n",
       "      <td>0</td>\n",
       "      <td>0</td>\n",
       "      <td>0</td>\n",
       "      <td>0</td>\n",
       "      <td>0</td>\n",
       "      <td>0</td>\n",
       "      <td>0</td>\n",
       "      <td>0</td>\n",
       "      <td>0</td>\n",
       "      <td>...</td>\n",
       "      <td>0</td>\n",
       "      <td>0</td>\n",
       "      <td>0</td>\n",
       "      <td>0</td>\n",
       "      <td>0</td>\n",
       "      <td>0</td>\n",
       "      <td>0</td>\n",
       "      <td>0</td>\n",
       "      <td>0</td>\n",
       "      <td>0</td>\n",
       "    </tr>\n",
       "    <tr>\n",
       "      <th>1</th>\n",
       "      <td>0</td>\n",
       "      <td>0</td>\n",
       "      <td>0</td>\n",
       "      <td>0</td>\n",
       "      <td>0</td>\n",
       "      <td>0</td>\n",
       "      <td>0</td>\n",
       "      <td>0</td>\n",
       "      <td>0</td>\n",
       "      <td>0</td>\n",
       "      <td>...</td>\n",
       "      <td>0</td>\n",
       "      <td>0</td>\n",
       "      <td>0</td>\n",
       "      <td>0</td>\n",
       "      <td>0</td>\n",
       "      <td>0</td>\n",
       "      <td>0</td>\n",
       "      <td>0</td>\n",
       "      <td>0</td>\n",
       "      <td>0</td>\n",
       "    </tr>\n",
       "    <tr>\n",
       "      <th>2</th>\n",
       "      <td>0</td>\n",
       "      <td>0</td>\n",
       "      <td>0</td>\n",
       "      <td>0</td>\n",
       "      <td>0</td>\n",
       "      <td>0</td>\n",
       "      <td>1</td>\n",
       "      <td>0</td>\n",
       "      <td>0</td>\n",
       "      <td>0</td>\n",
       "      <td>...</td>\n",
       "      <td>0</td>\n",
       "      <td>0</td>\n",
       "      <td>0</td>\n",
       "      <td>0</td>\n",
       "      <td>0</td>\n",
       "      <td>0</td>\n",
       "      <td>0</td>\n",
       "      <td>0</td>\n",
       "      <td>1</td>\n",
       "      <td>0</td>\n",
       "    </tr>\n",
       "    <tr>\n",
       "      <th>3</th>\n",
       "      <td>0</td>\n",
       "      <td>0</td>\n",
       "      <td>0</td>\n",
       "      <td>0</td>\n",
       "      <td>0</td>\n",
       "      <td>0</td>\n",
       "      <td>0</td>\n",
       "      <td>0</td>\n",
       "      <td>0</td>\n",
       "      <td>0</td>\n",
       "      <td>...</td>\n",
       "      <td>0</td>\n",
       "      <td>0</td>\n",
       "      <td>0</td>\n",
       "      <td>0</td>\n",
       "      <td>0</td>\n",
       "      <td>0</td>\n",
       "      <td>0</td>\n",
       "      <td>0</td>\n",
       "      <td>0</td>\n",
       "      <td>0</td>\n",
       "    </tr>\n",
       "    <tr>\n",
       "      <th>4</th>\n",
       "      <td>0</td>\n",
       "      <td>0</td>\n",
       "      <td>0</td>\n",
       "      <td>0</td>\n",
       "      <td>0</td>\n",
       "      <td>0</td>\n",
       "      <td>0</td>\n",
       "      <td>0</td>\n",
       "      <td>0</td>\n",
       "      <td>0</td>\n",
       "      <td>...</td>\n",
       "      <td>0</td>\n",
       "      <td>0</td>\n",
       "      <td>0</td>\n",
       "      <td>0</td>\n",
       "      <td>0</td>\n",
       "      <td>0</td>\n",
       "      <td>0</td>\n",
       "      <td>0</td>\n",
       "      <td>0</td>\n",
       "      <td>0</td>\n",
       "    </tr>\n",
       "  </tbody>\n",
       "</table>\n",
       "<p>5 rows × 1486 columns</p>\n",
       "</div>"
      ],
      "text/plain": [
       "   1  10  100  1001  1002  1003  1004  1006  1007  101  ...  973  975  976  \\\n",
       "0  0   0    0     0     0     0     0     0     0    0  ...    0    0    0   \n",
       "1  0   0    0     0     0     0     0     0     0    0  ...    0    0    0   \n",
       "2  0   0    0     0     0     0     1     0     0    0  ...    0    0    0   \n",
       "3  0   0    0     0     0     0     0     0     0    0  ...    0    0    0   \n",
       "4  0   0    0     0     0     0     0     0     0    0  ...    0    0    0   \n",
       "\n",
       "   979  98  981  984  992  997  998  \n",
       "0    0   0    0    0    0    0    0  \n",
       "1    0   0    0    0    0    0    0  \n",
       "2    0   0    0    0    0    1    0  \n",
       "3    0   0    0    0    0    0    0  \n",
       "4    0   0    0    0    0    0    0  \n",
       "\n",
       "[5 rows x 1486 columns]"
      ]
     },
     "execution_count": 13,
     "metadata": {},
     "output_type": "execute_result"
    }
   ],
   "source": [
    "df_binary_1 = df_encoded_1.copy()\n",
    "# conver true to 1 flase to 0\n",
    "df_binary_1 = df_binary_1.astype('bool').astype('int')\n",
    "df_binary_1.head()"
   ]
  },
  {
   "cell_type": "code",
   "execution_count": 14,
   "metadata": {},
   "outputs": [
    {
     "name": "stdout",
     "output_type": "stream",
     "text": [
      "Association Rules:\n",
      "  antecedents consequents  antecedent support  consequent support  support  \\\n",
      "0       (100)       (104)            0.033333            0.066667     0.02   \n",
      "1      (2261)       (100)            0.040000            0.033333     0.02   \n",
      "2       (100)      (2261)            0.033333            0.040000     0.02   \n",
      "3      (1004)      (1755)            0.033333            0.113333     0.02   \n",
      "4      (2261)       (104)            0.040000            0.066667     0.02   \n",
      "\n",
      "   confidence       lift  leverage  conviction  zhangs_metric  \n",
      "0         0.6   9.000000  0.017778    2.333333       0.919540  \n",
      "1         0.5  15.000000  0.018667    1.933333       0.972222  \n",
      "2         0.6  15.000000  0.018667    2.400000       0.965517  \n",
      "3         0.6   5.294118  0.016222    2.216667       0.839080  \n",
      "4         0.5   7.500000  0.017333    1.866667       0.902778  \n"
     ]
    }
   ],
   "source": [
    "from mlxtend.frequent_patterns import apriori, association_rules\n",
    "\n",
    "def mine_association_rules(transactions_df, min_support=0.02, min_confidence=0.5):\n",
    "    \"\"\"\n",
    "    This function encodes the transactions into boolean values, performs association rule mining,\n",
    "    and returns the resulting rules.\n",
    "    \n",
    "    :param transactions_df: DataFrame with transactions where each item is represented in its own column.\n",
    "    :param min_support: The minimum support for an itemset to be considered frequent.\n",
    "    :param min_confidence: The minimum confidence for a rule to be considered.\n",
    "    :return: DataFrame containing the association rules.\n",
    "    \"\"\"\n",
    "    # Convert items to boolean columns\n",
    "    # df_encoded = df_encoded\n",
    "    \n",
    "    # Perform association rule mining\n",
    "    frequent_itemsets = apriori(df_encoded_1, min_support=min_support, use_colnames=True)\n",
    "    rules = association_rules(frequent_itemsets, metric=\"confidence\", min_threshold=min_confidence)\n",
    "    \n",
    "    return rules\n",
    "\n",
    "# Now, use the function and display the association rules\n",
    "rules = mine_association_rules(items_df)\n",
    "print(\"Association Rules:\")\n",
    "print(rules.head())"
   ]
  },
  {
   "cell_type": "code",
   "execution_count": 15,
   "metadata": {},
   "outputs": [
    {
     "data": {
      "text/plain": [
       "1072"
      ]
     },
     "execution_count": 15,
     "metadata": {},
     "output_type": "execute_result"
    }
   ],
   "source": [
    "len(rules)"
   ]
  },
  {
   "cell_type": "code",
   "execution_count": 16,
   "metadata": {},
   "outputs": [
    {
     "data": {
      "image/png": "[encoded data removed]",
      "text/plain": [
       "<Figure size 1200x800 with 1 Axes>"
      ]
     },
     "metadata": {},
     "output_type": "display_data"
    }
   ],
   "source": [
    "# Set the plot size\n",
    "plt.figure(figsize=(12, 8))\n",
    "\n",
    "# Set the background color\n",
    "plt.axes().set_facecolor('#e1f7fc')  \n",
    "\n",
    "# Plot scatterplot for Support vs. Confidence\n",
    "sns.scatterplot(\n",
    "    x=\"support\",\n",
    "    y=\"confidence\",\n",
    "    size=\"lift\",\n",
    "    data=rules,\n",
    "    hue=\"lift\",\n",
    "    palette=\"inferno\", # Color palette\n",
    "    sizes=(20, 200),\n",
    "    alpha=0.6,  # Transparency\n",
    "    edgecolor=None  # Remove edge color for smoother appearance\n",
    ")\n",
    "\n",
    "# Customize the plot\n",
    "plt.title('Support vs. Confidence', color='#9B60A1', fontweight='bold')  # #9B60A1 is purple\n",
    "plt.xlabel('Support', color='#9B60A1', fontweight='bold')  \n",
    "plt.ylabel('Confidence', color='#9B60A1', fontweight='bold')  \n",
    "legend = plt.legend(title='Lift', loc='upper right', bbox_to_anchor=(1.25, 1))\n",
    "plt.setp(legend.get_texts(), color='#9B60A1')\n",
    "\n",
    "# Show the plot\n",
    "plt.show()"
   ]
  },
  {
   "cell_type": "code",
   "execution_count": 17,
   "metadata": {},
   "outputs": [
    {
     "data": {
      "text/plain": [
       "[({'2643'}, {'1911'}),\n",
       " ({'1911'}, {'2643'}),\n",
       " ({'2234'}, {'2238'}),\n",
       " ({'2238'}, {'2234'}),\n",
       " ({'2234'}, {'2243'}),\n",
       " ({'2243'}, {'2234'}),\n",
       " ({'2238'}, {'2243'}),\n",
       " ({'2243'}, {'2238'}),\n",
       " ({'2768'}, {'2759'}),\n",
       " ({'2759'}, {'2768'}),\n",
       " ({'667'}, {'671'}),\n",
       " ({'671'}, {'667'}),\n",
       " ({'1501', '2768'}, {'2759'}),\n",
       " ({'1501', '2759'}, {'2768'}),\n",
       " ({'2768'}, {'1501', '2759'}),\n",
       " ({'2759'}, {'1501', '2768'}),\n",
       " ({'1653', '3660'}, {'1851'}),\n",
       " ({'1851'}, {'1653', '3660'}),\n",
       " ({'1659', '94'}, {'324'}),\n",
       " ({'324'}, {'1659', '94'}),\n",
       " ({'1919', '519'}, {'324'}),\n",
       " ({'324'}, {'1919', '519'}),\n",
       " ({'1919', '94'}, {'324'}),\n",
       " ({'324'}, {'1919', '94'}),\n",
       " ({'1928', '667'}, {'671'}),\n",
       " ({'1928', '671'}, {'667'}),\n",
       " ({'667'}, {'1928', '671'}),\n",
       " ({'671'}, {'1928', '667'}),\n",
       " ({'1942', '667'}, {'671'}),\n",
       " ({'1942', '671'}, {'667'}),\n",
       " ({'667'}, {'1942', '671'}),\n",
       " ({'671'}, {'1942', '667'}),\n",
       " ({'2234', '2238'}, {'2243'}),\n",
       " ({'2234', '2243'}, {'2238'}),\n",
       " ({'2238', '2243'}, {'2234'}),\n",
       " ({'2234'}, {'2238', '2243'}),\n",
       " ({'2238'}, {'2234', '2243'}),\n",
       " ({'2243'}, {'2234', '2238'}),\n",
       " ({'2263', '3097'}, {'3142'}),\n",
       " ({'3142'}, {'2263', '3097'}),\n",
       " ({'2594', '2595'}, {'2596'}),\n",
       " ({'2596'}, {'2594', '2595'}),\n",
       " ({'2758', '2768'}, {'2759'}),\n",
       " ({'2758', '2759'}, {'2768'}),\n",
       " ({'2768'}, {'2758', '2759'}),\n",
       " ({'2759'}, {'2758', '2768'}),\n",
       " ({'2768', '2856'}, {'2759'}),\n",
       " ({'2759', '2856'}, {'2768'}),\n",
       " ({'2768'}, {'2759', '2856'}),\n",
       " ({'2759'}, {'2768', '2856'}),\n",
       " ({'519', '94'}, {'324'}),\n",
       " ({'324'}, {'519', '94'}),\n",
       " ({'133', '3709'}, {'137', '2655'}),\n",
       " ({'137', '2655'}, {'133', '3709'}),\n",
       " ({'1501', '2758', '2768'}, {'2759'}),\n",
       " ({'1501', '2758', '2759'}, {'2768'}),\n",
       " ({'2758', '2768'}, {'1501', '2759'}),\n",
       " ({'1501', '2768'}, {'2758', '2759'}),\n",
       " ({'2758', '2759'}, {'1501', '2768'}),\n",
       " ({'1501', '2759'}, {'2758', '2768'}),\n",
       " ({'2768'}, {'1501', '2758', '2759'}),\n",
       " ({'2759'}, {'1501', '2758', '2768'}),\n",
       " ({'1501', '2768', '2856'}, {'2759'}),\n",
       " ({'1501', '2759', '2856'}, {'2768'}),\n",
       " ({'2768', '2856'}, {'1501', '2759'}),\n",
       " ({'2759', '2856'}, {'1501', '2768'}),\n",
       " ({'1501', '2768'}, {'2759', '2856'}),\n",
       " ({'1501', '2759'}, {'2768', '2856'}),\n",
       " ({'2768'}, {'1501', '2759', '2856'}),\n",
       " ({'2759'}, {'1501', '2768', '2856'}),\n",
       " ({'1653', '3660', '828'}, {'1851'}),\n",
       " ({'1653', '3660'}, {'1851', '828'}),\n",
       " ({'1851', '828'}, {'1653', '3660'}),\n",
       " ({'1851'}, {'1653', '3660', '828'}),\n",
       " ({'1659', '1919', '519'}, {'324'}),\n",
       " ({'1659', '324'}, {'1919', '519'}),\n",
       " ({'1919', '519'}, {'1659', '324'}),\n",
       " ({'324'}, {'1659', '1919', '519'}),\n",
       " ({'1659', '1919', '94'}, {'324'}),\n",
       " ({'1659', '324'}, {'1919', '94'}),\n",
       " ({'1919', '324'}, {'1659', '94'}),\n",
       " ({'1659', '94'}, {'1919', '324'}),\n",
       " ({'1919', '94'}, {'1659', '324'}),\n",
       " ({'324'}, {'1659', '1919', '94'}),\n",
       " ({'1659', '94'}, {'1919', '519'}),\n",
       " ({'1919', '519'}, {'1659', '94'}),\n",
       " ({'1659', '519', '94'}, {'324'}),\n",
       " ({'1659', '324'}, {'519', '94'}),\n",
       " ({'324', '519'}, {'1659', '94'}),\n",
       " ({'1659', '94'}, {'324', '519'}),\n",
       " ({'519', '94'}, {'1659', '324'}),\n",
       " ({'324'}, {'1659', '519', '94'}),\n",
       " ({'1919', '519', '94'}, {'324'}),\n",
       " ({'324', '94'}, {'1919', '519'}),\n",
       " ({'324', '519'}, {'1919', '94'}),\n",
       " ({'1919', '324'}, {'519', '94'}),\n",
       " ({'519', '94'}, {'1919', '324'}),\n",
       " ({'1919', '94'}, {'324', '519'}),\n",
       " ({'1919', '519'}, {'324', '94'}),\n",
       " ({'324'}, {'1919', '519', '94'})]"
      ]
     },
     "execution_count": 17,
     "metadata": {},
     "output_type": "execute_result"
    }
   ],
   "source": [
    "# Assuming 'rules_df' is your DataFrame containing the association rules\n",
    "\n",
    "# Sort rules by confidence and lift in descending order\n",
    "sorted_rules_df = rules.sort_values(by=['confidence', 'lift'], ascending=False)\n",
    "\n",
    "# Select top 5 rules\n",
    "top_rules_df = sorted_rules_df.head(100)\n",
    "\n",
    "# Convert antecedents and consequents into a list of tuples, ready for the GA\n",
    "rules_to_hide = [(set(a), set(c)) for a, c in zip(top_rules_df['antecedents'], top_rules_df['consequents'])]\n",
    "rules_to_hide"
   ]
  },
  {
   "cell_type": "code",
   "execution_count": 18,
   "metadata": {},
   "outputs": [
    {
     "name": "stdout",
     "output_type": "stream",
     "text": [
      "    antecedents      consequents\n",
      "0        {2643}           {1911}\n",
      "1        {1911}           {2643}\n",
      "2        {2234}           {2238}\n",
      "3        {2238}           {2234}\n",
      "4        {2234}           {2243}\n",
      "..          ...              ...\n",
      "95  {324, 1919}        {94, 519}\n",
      "96    {94, 519}      {324, 1919}\n",
      "97   {94, 1919}       {324, 519}\n",
      "98  {519, 1919}        {324, 94}\n",
      "99        {324}  {94, 519, 1919}\n",
      "\n",
      "[100 rows x 2 columns]\n"
     ]
    }
   ],
   "source": [
    "\n",
    "# after making into frozen set make into dataframe\n",
    "\n",
    "rules_to_hide_df = pd.DataFrame(rules_to_hide, columns=['antecedents', 'consequents'])\n",
    "print(rules_to_hide_df)\n",
    "\n",
    "# instead of sets make into frozen sets\n",
    "rules_to_hide_df['antecedents'] = rules_to_hide_df['antecedents'].apply(lambda x: frozenset(x))\n",
    "rules_to_hide_df['consequents'] = rules_to_hide_df['consequents'].apply(lambda x: frozenset(x))\n"
   ]
  },
  {
   "cell_type": "code",
   "execution_count": 19,
   "metadata": {},
   "outputs": [
    {
     "data": {
      "text/html": [
       "<div>\n",
       "<style scoped>\n",
       "    .dataframe tbody tr th:only-of-type {\n",
       "        vertical-align: middle;\n",
       "    }\n",
       "\n",
       "    .dataframe tbody tr th {\n",
       "        vertical-align: top;\n",
       "    }\n",
       "\n",
       "    .dataframe thead th {\n",
       "        text-align: right;\n",
       "    }\n",
       "</style>\n",
       "<table border=\"1\" class=\"dataframe\">\n",
       "  <thead>\n",
       "    <tr style=\"text-align: right;\">\n",
       "      <th></th>\n",
       "      <th>antecedents</th>\n",
       "      <th>consequents</th>\n",
       "    </tr>\n",
       "  </thead>\n",
       "  <tbody>\n",
       "    <tr>\n",
       "      <th>0</th>\n",
       "      <td>(2643)</td>\n",
       "      <td>(1911)</td>\n",
       "    </tr>\n",
       "    <tr>\n",
       "      <th>1</th>\n",
       "      <td>(1911)</td>\n",
       "      <td>(2643)</td>\n",
       "    </tr>\n",
       "    <tr>\n",
       "      <th>2</th>\n",
       "      <td>(2234)</td>\n",
       "      <td>(2238)</td>\n",
       "    </tr>\n",
       "    <tr>\n",
       "      <th>3</th>\n",
       "      <td>(2238)</td>\n",
       "      <td>(2234)</td>\n",
       "    </tr>\n",
       "    <tr>\n",
       "      <th>4</th>\n",
       "      <td>(2234)</td>\n",
       "      <td>(2243)</td>\n",
       "    </tr>\n",
       "    <tr>\n",
       "      <th>...</th>\n",
       "      <td>...</td>\n",
       "      <td>...</td>\n",
       "    </tr>\n",
       "    <tr>\n",
       "      <th>95</th>\n",
       "      <td>(324, 1919)</td>\n",
       "      <td>(94, 519)</td>\n",
       "    </tr>\n",
       "    <tr>\n",
       "      <th>96</th>\n",
       "      <td>(94, 519)</td>\n",
       "      <td>(324, 1919)</td>\n",
       "    </tr>\n",
       "    <tr>\n",
       "      <th>97</th>\n",
       "      <td>(94, 1919)</td>\n",
       "      <td>(324, 519)</td>\n",
       "    </tr>\n",
       "    <tr>\n",
       "      <th>98</th>\n",
       "      <td>(519, 1919)</td>\n",
       "      <td>(324, 94)</td>\n",
       "    </tr>\n",
       "    <tr>\n",
       "      <th>99</th>\n",
       "      <td>(324)</td>\n",
       "      <td>(94, 519, 1919)</td>\n",
       "    </tr>\n",
       "  </tbody>\n",
       "</table>\n",
       "<p>100 rows × 2 columns</p>\n",
       "</div>"
      ],
      "text/plain": [
       "    antecedents      consequents\n",
       "0        (2643)           (1911)\n",
       "1        (1911)           (2643)\n",
       "2        (2234)           (2238)\n",
       "3        (2238)           (2234)\n",
       "4        (2234)           (2243)\n",
       "..          ...              ...\n",
       "95  (324, 1919)        (94, 519)\n",
       "96    (94, 519)      (324, 1919)\n",
       "97   (94, 1919)       (324, 519)\n",
       "98  (519, 1919)        (324, 94)\n",
       "99        (324)  (94, 519, 1919)\n",
       "\n",
       "[100 rows x 2 columns]"
      ]
     },
     "execution_count": 19,
     "metadata": {},
     "output_type": "execute_result"
    }
   ],
   "source": [
    "rules_to_hide_df\n",
    "    "
   ]
  },
  {
   "cell_type": "code",
   "execution_count": 20,
   "metadata": {},
   "outputs": [],
   "source": [
    "transactions_sets = transactions['ItemName'].str.split(', ')\n",
    "transactions_sets = transactions_sets.apply(lambda x: set(x))\n",
    "# into a list\n",
    "transactions_sets = transactions_sets.to_list()\n",
    "\n",
    "transactions_lists = [list(transaction_set) for transaction_set in transactions_sets]\n",
    "# transactions_lists\n",
    "\n",
    "#  assign unique number for each item that represents the item\n",
    "# unique_items = sorted(set(item for transaction in transactions_lists for item in transaction))\n",
    "# item_to_index = {item: i for i, item in enumerate(unique_items)}\n",
    "# index_to_item = {i: item for item, i in item_to_index.items()}\n",
    "# transactions_indexed = [[item_to_index[item] for item in transaction] for transaction in transactions_lists]\n",
    "\n",
    "# transactions_indexed\n"
   ]
  },
  {
   "cell_type": "code",
   "execution_count": 21,
   "metadata": {},
   "outputs": [],
   "source": [
    "# len(transactions_lists)"
   ]
  },
  {
   "cell_type": "code",
   "execution_count": 22,
   "metadata": {},
   "outputs": [
    {
     "name": "stdout",
     "output_type": "stream",
     "text": [
      "gen\tnevals\tavg    \tstd     \tmin   \tmax   \n",
      "0  \t300   \t20.6388\t0.101154\t20.348\t20.969\n",
      "1  \t249   \t20.7475\t0.0839903\t20.539\t20.984\n",
      "2  \t246   \t20.826 \t0.0747971\t20.584\t21.036\n",
      "3  \t256   \t20.8951\t0.0679596\t20.702\t21.083\n",
      "4  \t254   \t20.9554\t0.0645365\t20.78 \t21.161\n",
      "5  \t242   \t21.015 \t0.0649777\t20.824\t21.1685\n",
      "6  \t251   \t21.0755\t0.0546411\t20.9085\t21.196 \n",
      "7  \t242   \t21.1221\t0.0632849\t20.901 \t21.2875\n",
      "8  \t251   \t21.1721\t0.0601789\t20.964 \t21.344 \n",
      "9  \t254   \t21.2214\t0.0574436\t21.045 \t21.3725\n",
      "10 \t239   \t21.2663\t0.0586366\t21.0545\t21.434 \n",
      "11 \t259   \t21.3111\t0.0558287\t21.136 \t21.48  \n",
      "12 \t254   \t21.3471\t0.0616197\t21.1135\t21.514 \n",
      "13 \t247   \t21.3928\t0.0484982\t21.2065\t21.528 \n",
      "14 \t259   \t21.4246\t0.0534037\t21.24  \t21.54  \n",
      "15 \t256   \t21.4609\t0.0491455\t21.252 \t21.586 \n",
      "16 \t273   \t21.4917\t0.0459496\t21.326 \t21.582 \n",
      "17 \t266   \t21.5091\t0.0583756\t21.314 \t21.632 \n",
      "18 \t243   \t21.5419\t0.0529793\t21.35  \t21.658 \n",
      "19 \t262   \t21.5661\t0.0579813\t21.379 \t21.684 \n",
      "20 \t253   \t21.5984\t0.0572535\t21.3665\t21.728 \n",
      "21 \t251   \t21.6316\t0.0594687\t21.422 \t21.76  \n",
      "22 \t243   \t21.6665\t0.0539229\t21.474 \t21.776 \n",
      "23 \t233   \t21.6907\t0.0568893\t21.488 \t21.808 \n",
      "24 \t255   \t21.7142\t0.0619798\t21.502 \t21.844 \n",
      "25 \t243   \t21.7481\t0.0550464\t21.5515\t21.85  \n",
      "26 \t253   \t21.7782\t0.0576349\t21.498 \t21.8845\n",
      "27 \t252   \t21.8026\t0.0636232\t21.564 \t21.942 \n",
      "28 \t252   \t21.8314\t0.0563755\t21.6425\t21.922 \n",
      "29 \t243   \t21.8533\t0.0616652\t21.632 \t21.9585\n",
      "30 \t251   \t21.8808\t0.0574801\t21.688 \t21.976 \n",
      "31 \t240   \t21.903 \t0.0636395\t21.65  \t22.034 \n",
      "32 \t259   \t21.921 \t0.0646907\t21.716 \t22.034 \n",
      "33 \t247   \t21.9449\t0.0661131\t21.718 \t22.048 \n",
      "34 \t247   \t21.973 \t0.0626727\t21.742 \t22.068 \n",
      "35 \t257   \t21.9968\t0.0639625\t21.798 \t22.086 \n",
      "36 \t237   \t22.0158\t0.0682061\t21.801 \t22.104 \n",
      "37 \t257   \t22.0332\t0.0673815\t21.77  \t22.12  \n",
      "38 \t247   \t22.0571\t0.0638769\t21.802 \t22.132 \n",
      "39 \t252   \t22.0729\t0.0650495\t21.83  \t22.148 \n",
      "40 \t245   \t22.0868\t0.0640793\t21.832 \t22.188 \n",
      "41 \t246   \t22.1063\t0.0648255\t21.871 \t22.188 \n",
      "42 \t259   \t22.1268\t0.0654257\t21.888 \t22.204 \n",
      "43 \t261   \t22.1392\t0.0683515\t21.9245\t22.222 \n",
      "44 \t259   \t22.1529\t0.0689569\t21.94  \t22.23  \n",
      "45 \t261   \t22.1719\t0.0674942\t21.94  \t22.252 \n",
      "46 \t250   \t22.1847\t0.066571 \t21.974 \t22.252 \n",
      "47 \t253   \t22.2025\t0.0648391\t21.954 \t22.27  \n",
      "48 \t262   \t22.2113\t0.069263 \t21.9585\t22.278 \n",
      "49 \t234   \t22.2259\t0.0657736\t21.969 \t22.278 \n",
      "50 \t249   \t22.229 \t0.0717038\t21.982 \t22.284 \n",
      "51 \t258   \t22.2383\t0.0697345\t22.014 \t22.304 \n",
      "52 \t244   \t22.2465\t0.0734091\t22.006 \t22.312 \n",
      "53 \t253   \t22.2595\t0.0674117\t22.04  \t22.318 \n",
      "54 \t240   \t22.2662\t0.0703312\t22.053 \t22.32  \n",
      "55 \t233   \t22.2754\t0.067879 \t22.052 \t22.322 \n",
      "56 \t247   \t22.2829\t0.0656025\t22.028 \t22.334 \n",
      "57 \t252   \t22.2831\t0.0713155\t22.05  \t22.34  \n",
      "58 \t254   \t22.2906\t0.0732122\t22.022 \t22.34  \n",
      "59 \t258   \t22.2967\t0.0709929\t22.03  \t22.344 \n",
      "60 \t242   \t22.3037\t0.0678381\t22.092 \t22.348 \n",
      "61 \t252   \t22.3005\t0.0744899\t22.0485\t22.352 \n",
      "62 \t251   \t22.3144\t0.0647961\t22.108 \t22.358 \n",
      "63 \t240   \t22.314 \t0.0715872\t22.0062\t22.36  \n",
      "64 \t237   \t22.319 \t0.0702445\t22.065 \t22.36  \n",
      "65 \t257   \t22.3199\t0.0690015\t22.102 \t22.366 \n",
      "66 \t230   \t22.3314\t0.0652179\t22.108 \t22.366 \n",
      "67 \t244   \t22.3227\t0.0742859\t22.076 \t22.376 \n",
      "68 \t253   \t22.3264\t0.076494 \t22.066 \t22.378 \n",
      "69 \t246   \t22.3226\t0.0772314\t22.106 \t22.378 \n",
      "70 \t257   \t22.3253\t0.0775274\t22.1   \t22.386 \n",
      "71 \t247   \t22.3358\t0.0739547\t22.054 \t22.388 \n",
      "72 \t248   \t22.3424\t0.0738574\t22.098 \t22.392 \n",
      "73 \t255   \t22.3511\t0.0689854\t22.0565\t22.404 \n",
      "74 \t254   \t22.3461\t0.075585 \t22.1005\t22.396 \n",
      "75 \t263   \t22.3487\t0.0765816\t22.1195\t22.398 \n",
      "76 \t257   \t22.3648\t0.0654257\t22.125 \t22.404 \n",
      "77 \t263   \t22.355 \t0.0764086\t22.081 \t22.404 \n",
      "78 \t248   \t22.3662\t0.0701035\t22.128 \t22.406 \n",
      "79 \t246   \t22.3705\t0.0673908\t22.144 \t22.408 \n",
      "80 \t264   \t22.3637\t0.0774448\t22.113 \t22.408 \n",
      "81 \t246   \t22.363 \t0.0777485\t22.128 \t22.41  \n",
      "82 \t259   \t22.3709\t0.0726369\t22.102 \t22.412 \n",
      "83 \t263   \t22.3746\t0.0678162\t22.162 \t22.412 \n",
      "84 \t243   \t22.3762\t0.0704462\t22.143 \t22.414 \n",
      "85 \t255   \t22.372 \t0.075268 \t22.142 \t22.414 \n",
      "86 \t248   \t22.3715\t0.0785007\t22.138 \t22.414 \n",
      "87 \t250   \t22.3685\t0.0801418\t22.148 \t22.414 \n",
      "88 \t259   \t22.3744\t0.0760954\t22.1085\t22.416 \n",
      "89 \t262   \t22.3718\t0.080284 \t22.115 \t22.416 \n",
      "90 \t250   \t22.3768\t0.0741263\t22.146 \t22.416 \n",
      "91 \t245   \t22.3775\t0.0759148\t22.1185\t22.418 \n",
      "92 \t254   \t22.3805\t0.0737055\t22.152 \t22.418 \n",
      "93 \t252   \t22.3833\t0.0728736\t22.1515\t22.418 \n",
      "94 \t254   \t22.3772\t0.0778909\t22.146 \t22.418 \n",
      "95 \t265   \t22.3782\t0.079235 \t22.143 \t22.418 \n",
      "96 \t265   \t22.3829\t0.0721392\t22.132 \t22.418 \n",
      "97 \t248   \t22.385 \t0.0715105\t22.125 \t22.418 \n",
      "98 \t249   \t22.3876\t0.0671409\t22.15  \t22.418 \n",
      "99 \t238   \t22.3828\t0.0743549\t22.15  \t22.418 \n",
      "100\t255   \t22.3836\t0.0711198\t22.1255\t22.418 \n",
      "101\t248   \t22.3825\t0.0746786\t22.158 \t22.418 \n",
      "102\t252   \t22.3793\t0.0760445\t22.1205\t22.418 \n",
      "103\t261   \t22.3799\t0.0739617\t22.12  \t22.418 \n",
      "104\t250   \t22.3839\t0.0741506\t22.142 \t22.418 \n",
      "105\t268   \t22.3807\t0.0736565\t22.182 \t22.418 \n",
      "106\t238   \t22.3872\t0.0697886\t22.1285\t22.418 \n",
      "107\t250   \t22.391 \t0.0654949\t22.144 \t22.418 \n",
      "108\t257   \t22.3815\t0.0750601\t22.126 \t22.418 \n",
      "109\t257   \t22.3767\t0.0788675\t22.11  \t22.418 \n",
      "110\t228   \t22.3802\t0.0758134\t22.144 \t22.424 \n",
      "111\t261   \t22.381 \t0.076928 \t22.154 \t22.424 \n",
      "112\t251   \t22.3855\t0.0712151\t22.144 \t22.436 \n",
      "113\t260   \t22.3867\t0.0719192\t22.156 \t22.436 \n",
      "114\t253   \t22.3871\t0.0740484\t22.135 \t22.444 \n",
      "115\t258   \t22.3869\t0.0800902\t22.1   \t22.448 \n",
      "116\t260   \t22.402 \t0.0737561\t22.1295\t22.454 \n",
      "117\t243   \t22.4028\t0.0750268\t22.172 \t22.46  \n",
      "118\t244   \t22.4095\t0.0721614\t22.1555\t22.46  \n",
      "119\t258   \t22.4129\t0.0738264\t22.174 \t22.46  \n",
      "120\t255   \t22.4238\t0.0682858\t22.144 \t22.462 \n",
      "121\t252   \t22.4236\t0.0698093\t22.186 \t22.468 \n",
      "122\t249   \t22.4229\t0.0744622\t22.188 \t22.47  \n",
      "123\t254   \t22.4266\t0.0737718\t22.186 \t22.47  \n",
      "124\t261   \t22.4289\t0.0756827\t22.19  \t22.47  \n",
      "125\t266   \t22.4316\t0.0734497\t22.214 \t22.47  \n",
      "126\t251   \t22.4336\t0.0742337\t22.208 \t22.47  \n",
      "127\t249   \t22.4417\t0.0650047\t22.222 \t22.47  \n",
      "128\t247   \t22.4382\t0.0674904\t22.172 \t22.472 \n",
      "129\t246   \t22.4323\t0.0758892\t22.204 \t22.472 \n",
      "130\t255   \t22.43  \t0.0765799\t22.186 \t22.472 \n",
      "131\t256   \t22.4373\t0.0734168\t22.204 \t22.472 \n",
      "132\t248   \t22.4421\t0.067835 \t22.191 \t22.474 \n",
      "133\t253   \t22.4277\t0.082031 \t22.21  \t22.474 \n",
      "134\t260   \t22.4415\t0.0692925\t22.218 \t22.474 \n",
      "135\t255   \t22.4314\t0.0820343\t22.142 \t22.474 \n",
      "136\t257   \t22.4454\t0.0705112\t22.192 \t22.474 \n",
      "137\t250   \t22.4369\t0.0758917\t22.178 \t22.474 \n",
      "138\t237   \t22.4333\t0.0778192\t22.21  \t22.474 \n",
      "139\t247   \t22.4373\t0.075284 \t22.198 \t22.474 \n",
      "140\t251   \t22.4296\t0.0825921\t22.188 \t22.474 \n",
      "141\t260   \t22.4327\t0.0808257\t22.203 \t22.474 \n",
      "142\t251   \t22.4365\t0.0759547\t22.19  \t22.474 \n",
      "143\t245   \t22.4392\t0.0762675\t22.1035\t22.474 \n",
      "144\t260   \t22.4355\t0.076085 \t22.176 \t22.474 \n",
      "145\t260   \t22.4323\t0.0797013\t22.191 \t22.474 \n",
      "146\t255   \t22.4426\t0.0695251\t22.212 \t22.474 \n",
      "147\t248   \t22.435 \t0.0771919\t22.194 \t22.474 \n",
      "148\t244   \t22.4405\t0.0716282\t22.21  \t22.474 \n",
      "149\t254   \t22.4307\t0.082925 \t22.196 \t22.474 \n",
      "150\t259   \t22.4391\t0.0738409\t22.223 \t22.474 \n",
      "151\t262   \t22.4352\t0.0762803\t22.197 \t22.474 \n",
      "152\t264   \t22.4297\t0.0802645\t22.212 \t22.474 \n",
      "153\t246   \t22.4314\t0.0803981\t22.184 \t22.474 \n",
      "154\t249   \t22.4405\t0.0725738\t22.19  \t22.474 \n",
      "155\t251   \t22.4443\t0.0688084\t22.216 \t22.474 \n",
      "156\t269   \t22.4353\t0.0746277\t22.224 \t22.474 \n",
      "157\t266   \t22.4372\t0.0769091\t22.166 \t22.474 \n",
      "158\t249   \t22.4405\t0.073993 \t22.182 \t22.474 \n",
      "159\t240   \t22.4408\t0.0719399\t22.206 \t22.474 \n",
      "160\t247   \t22.4416\t0.0703018\t22.194 \t22.474 \n",
      "161\t252   \t22.4412\t0.0709744\t22.196 \t22.474 \n",
      "162\t250   \t22.4323\t0.0801647\t22.161 \t22.474 \n",
      "163\t262   \t22.4396\t0.0737895\t22.224 \t22.474 \n",
      "164\t263   \t22.4291\t0.0829814\t22.186 \t22.474 \n",
      "165\t237   \t22.4429\t0.0718955\t22.082 \t22.474 \n",
      "166\t240   \t22.4383\t0.0755684\t22.212 \t22.474 \n",
      "167\t247   \t22.4338\t0.0752796\t22.219 \t22.474 \n",
      "168\t271   \t22.4424\t0.0719019\t22.158 \t22.474 \n",
      "169\t262   \t22.4367\t0.0734474\t22.204 \t22.474 \n",
      "170\t240   \t22.4311\t0.0806612\t22.166 \t22.474 \n",
      "171\t272   \t22.4341\t0.0777129\t22.2   \t22.474 \n",
      "172\t258   \t22.4358\t0.0765682\t22.164 \t22.474 \n",
      "173\t252   \t22.4336\t0.0804006\t22.164 \t22.474 \n",
      "174\t243   \t22.4429\t0.0699959\t22.1855\t22.474 \n",
      "175\t248   \t22.4434\t0.0698704\t22.202 \t22.474 \n",
      "176\t251   \t22.4414\t0.0730114\t22.17  \t22.474 \n",
      "177\t265   \t22.4298\t0.0799344\t22.1905\t22.474 \n",
      "178\t240   \t22.4385\t0.0764555\t22.164 \t22.476 \n",
      "179\t262   \t22.4362\t0.0743368\t22.1905\t22.476 \n",
      "180\t247   \t22.4416\t0.0695375\t22.194 \t22.478 \n",
      "181\t250   \t22.4361\t0.0756337\t22.222 \t22.478 \n",
      "182\t246   \t22.4388\t0.0743183\t22.2025\t22.478 \n",
      "183\t254   \t22.4294\t0.0841132\t22.1405\t22.478 \n",
      "184\t236   \t22.4403\t0.0757693\t22.1815\t22.478 \n",
      "185\t263   \t22.4346\t0.0795021\t22.188 \t22.478 \n",
      "186\t239   \t22.4366\t0.0803915\t22.186 \t22.478 \n",
      "187\t255   \t22.4426\t0.0748705\t22.134 \t22.478 \n",
      "188\t254   \t22.4441\t0.0741657\t22.206 \t22.478 \n",
      "189\t252   \t22.4361\t0.0797728\t22.182 \t22.478 \n",
      "190\t251   \t22.4366\t0.0807621\t22.1605\t22.478 \n",
      "191\t250   \t22.4421\t0.0756891\t22.1895\t22.478 \n",
      "192\t255   \t22.4412\t0.0783441\t22.146 \t22.478 \n",
      "193\t259   \t22.4408\t0.0766256\t22.162 \t22.48  \n",
      "194\t246   \t22.4463\t0.0731091\t22.186 \t22.48  \n",
      "195\t255   \t22.4436\t0.0727519\t22.219 \t22.48  \n",
      "196\t259   \t22.4369\t0.0777936\t22.216 \t22.48  \n",
      "197\t246   \t22.4447\t0.0735465\t22.158 \t22.48  \n",
      "198\t246   \t22.4446\t0.0739709\t22.1695\t22.482 \n",
      "199\t259   \t22.4428\t0.0773713\t22.148 \t22.482 \n",
      "200\t265   \t22.4406\t0.0787624\t22.178 \t22.482 \n",
      "\n",
      "Analysis of Trade-off:\n",
      "Average Confidence Reduction: 1.0\n",
      "Dataset Utility Preservation: -71.84\n"
     ]
    }
   ],
   "source": [
    "import cProfile\n",
    "\n",
    "import random\n",
    "from collections import defaultdict\n",
    "from deap import base, creator, tools, algorithms\n",
    "import numpy\n",
    "import multiprocessing\n",
    "\n",
    "# Load dataset and target association rules\n",
    "transactions = transactions_lists.copy()\n",
    "\n",
    "target_rules = rules_to_hide.copy()\n",
    "\n",
    "# Define utility functions\n",
    "def get_transactions_with(items, transactions):\n",
    "    return [t for t in transactions if all(item in t for item in items)]\n",
    "\n",
    "def calculate_rule_confidence(rule, transactions):\n",
    "    lhs, rhs = rule\n",
    "    lhs_transactions = get_transactions_with(lhs, transactions)\n",
    "    rhs_transactions = get_transactions_with(rhs, transactions)\n",
    "    lhs_and_rhs_transactions = get_transactions_with(lhs.union(rhs), transactions)\n",
    "    if len(lhs_transactions) == 0:\n",
    "        return 0\n",
    "    return len(lhs_and_rhs_transactions) / len(lhs_transactions)\n",
    "\n",
    "def apply_modifications(transactions, individual):\n",
    "    modified_transactions = []\n",
    "    for transaction in transactions:\n",
    "        modified_transaction = transaction.copy()  # Start with a copy of the original transaction\n",
    "        for rule in target_rules:\n",
    "            lhs, rhs = rule\n",
    "            for item in transaction:  # Iterate over the original transaction to avoid iteration issues\n",
    "                if item in lhs or item in rhs:\n",
    "                    modification_index = transactions.index(transaction) * len(transaction) + transaction.index(item)\n",
    "                    modification = individual[modification_index]\n",
    "                    if modification == 1 and item in lhs and item in modified_transaction:\n",
    "                        modified_transaction.remove(item)\n",
    "                    elif modification == 2 and item in rhs and item in modified_transaction:\n",
    "                        modified_transaction.remove(item)\n",
    "                    elif modification == 3:\n",
    "                        if item in lhs and item in modified_transaction:\n",
    "                            modified_transaction.remove(item)\n",
    "                        if item in rhs and item in modified_transaction:  # Check again as it may have been removed\n",
    "                            modified_transaction.remove(item)\n",
    "        modified_transactions.append(modified_transaction)\n",
    "    return modified_transactions\n",
    "\n",
    "\n",
    "# Define fitness function\n",
    "creator.create(\"FitnessMax\", base.Fitness, weights=(1.0, 1.0))\n",
    "creator.create(\"Individual\", list, fitness=creator.FitnessMax)\n",
    "\n",
    "alpha = 0.7\n",
    "beta = 0.3\n",
    "# max_modifications = sum(len(t) for t in transactions)\n",
    "max_modifications = len(transactions_lists)\n",
    "# target_confidence = 0.03  # Adjust this value to set the desired maximum confidence for the target rules\n",
    "lower_target_confidence = 0.1  # Example lower bound\n",
    "upper_target_confidence = 0.4  # Example upper bound\n",
    "\n",
    "\n",
    "\n",
    "\n",
    "\n",
    "def evaluate_individual(individual):\n",
    "    modified_dataset = apply_modifications(transactions, individual)\n",
    "    new_confidences = [calculate_rule_confidence(rule, modified_dataset) for rule in target_rules]\n",
    "    \n",
    "    def confidence_penalty(confidence):\n",
    "        if lower_target_confidence <= confidence <= upper_target_confidence:\n",
    "            return 0  # No penalty if within the target range\n",
    "        elif confidence < lower_target_confidence:\n",
    "            return lower_target_confidence - confidence  # Penalty for being below the range\n",
    "        else:\n",
    "            return confidence - upper_target_confidence  # Penalty for being above the range\n",
    "\n",
    "    avg_penalty = sum(confidence_penalty(conf) for conf in new_confidences) / len(new_confidences)\n",
    "    \n",
    "    num_modifications = sum([individual[i] != 0 for i in range(len(individual))])\n",
    "    utility_score = num_modifications / max_modifications\n",
    "    \n",
    "    # Adjust alpha and beta as necessary to balance between penalty and utility preservation\n",
    "    combined_score = (1 - avg_penalty) * alpha + utility_score * beta\n",
    "    \n",
    "    return combined_score, combined_score\n",
    "\n",
    "# Define genetic operators\n",
    "toolbox = base.Toolbox()\n",
    "\n",
    "# pool = multiprocessing.Pool(processes=3)\n",
    "# toolbox.register(\"map\", pool.map)\n",
    "\n",
    "toolbox.register(\"attr_int\", random.randint, 0, 3)  # 0: do nothing, 1: remove 'a', 2: remove 'b', 3: remove both\n",
    "toolbox.register(\"individual\", tools.initRepeat, creator.Individual, toolbox.attr_int, n=len(transactions) * max(len(t) for t in transactions))\n",
    "toolbox.register(\"population\", tools.initRepeat, list, toolbox.individual)\n",
    "toolbox.register(\"evaluate\", evaluate_individual)\n",
    "toolbox.register(\"mate\", tools.cxTwoPoint)\n",
    "toolbox.register(\"mutate\", tools.mutUniformInt, low=0, up=3, indpb=0.1)\n",
    "toolbox.register(\"select\", tools.selTournament, tournsize=4)\n",
    "\n",
    "# Run genetic algorithm\n",
    "population_size = 300\n",
    "max_generations = 200\n",
    "pop = toolbox.population(n=population_size)\n",
    "stats = tools.Statistics(lambda ind: ind.fitness.values)\n",
    "stats.register(\"avg\", numpy.mean)\n",
    "stats.register(\"std\", numpy.std)\n",
    "stats.register(\"min\", numpy.min)\n",
    "stats.register(\"max\", numpy.max)\n",
    "\n",
    "pop, log = algorithms.eaSimple(pop, toolbox, cxpb=0.8, mutpb=0.2, ngen=max_generations, stats=stats, verbose=True)\n",
    "\n",
    "# pool.close()\n",
    "\n",
    "# Find best individual\n",
    "best_individual = tools.selBest(pop, 1)[0]\n",
    "\n",
    "# Apply modifications to dataset\n",
    "modified_dataset = apply_modifications(transactions, best_individual)\n",
    "\n",
    "# Calculate resulting rule confidences\n",
    "new_confidences = [calculate_rule_confidence(rule, modified_dataset) for rule in target_rules]\n",
    "\n",
    "# Output results\n",
    "# print(\"Modifications:\")\n",
    "# for i, transaction in enumerate(transactions):\n",
    "#     modified_transaction = apply_modifications([transaction], best_individual)[0]\n",
    "#     print(f\"Transaction {i + 1}: {transaction} -> {modified_transaction}\")\n",
    "\n",
    "# After finding the best individual\n",
    "modified_txn_final = apply_modifications(transactions, best_individual)\n",
    "\n",
    "# print(\"Modifications:\")\n",
    "# for i, (original, modified) in enumerate(zip(transactions, modified_txn_final)):\n",
    "#     print(f\"Transaction {i + 1}: {original} -> {modified}\")\n",
    "\n",
    "\n",
    "# print(\"\\nResulting Rule Confidences:\")\n",
    "# for rule, new_confidence in zip(target_rules, new_confidences):\n",
    "#     # print(f\"{rule}: {new_confidence:.2f}\")\n",
    "#     print(f\"{rule}: {new_confidence}\")\n",
    "target_confidence = lower_target_confidence\n",
    "print(\"\\nAnalysis of Trade-off:\")\n",
    "avg_new_confidence = sum(new_confidences) / len(new_confidences)\n",
    "num_modifications = sum([best_individual[i] != 0 for i in range(len(best_individual))])\n",
    "print(f\"Average Confidence Reduction: {(1 - avg_new_confidence / target_confidence)}\")\n",
    "print(f\"Dataset Utility Preservation: {(max_modifications - num_modifications )/ max_modifications}\")\n"
   ]
  },
  {
   "cell_type": "code",
   "execution_count": 23,
   "metadata": {},
   "outputs": [
    {
     "data": {
      "text/plain": [
       "(150, (150, 1))"
      ]
     },
     "execution_count": 23,
     "metadata": {},
     "output_type": "execute_result"
    }
   ],
   "source": [
    "len(modified_txn_final), transactions_final.shape"
   ]
  },
  {
   "cell_type": "code",
   "execution_count": 24,
   "metadata": {},
   "outputs": [],
   "source": [
    "# # save this as txt file\n",
    "# with open('modified_txn_final.txt', 'w') as f:\n",
    "#     for item in modified_txn_final:\n",
    "#         f.write(\"%s\\n\" % item)"
   ]
  },
  {
   "cell_type": "code",
   "execution_count": 25,
   "metadata": {},
   "outputs": [],
   "source": [
    "modified_txn_final_copy = modified_txn_final.copy()\n"
   ]
  },
  {
   "cell_type": "code",
   "execution_count": 26,
   "metadata": {},
   "outputs": [
    {
     "data": {
      "text/html": [
       "<div>\n",
       "<style scoped>\n",
       "    .dataframe tbody tr th:only-of-type {\n",
       "        vertical-align: middle;\n",
       "    }\n",
       "\n",
       "    .dataframe tbody tr th {\n",
       "        vertical-align: top;\n",
       "    }\n",
       "\n",
       "    .dataframe thead th {\n",
       "        text-align: right;\n",
       "    }\n",
       "</style>\n",
       "<table border=\"1\" class=\"dataframe\">\n",
       "  <thead>\n",
       "    <tr style=\"text-align: right;\">\n",
       "      <th></th>\n",
       "      <th>0</th>\n",
       "      <th>1</th>\n",
       "      <th>2</th>\n",
       "      <th>3</th>\n",
       "      <th>4</th>\n",
       "      <th>5</th>\n",
       "      <th>6</th>\n",
       "      <th>7</th>\n",
       "      <th>8</th>\n",
       "      <th>9</th>\n",
       "      <th>...</th>\n",
       "      <th>79</th>\n",
       "      <th>80</th>\n",
       "      <th>81</th>\n",
       "      <th>82</th>\n",
       "      <th>83</th>\n",
       "      <th>84</th>\n",
       "      <th>85</th>\n",
       "      <th>86</th>\n",
       "      <th>87</th>\n",
       "      <th>88</th>\n",
       "    </tr>\n",
       "  </thead>\n",
       "  <tbody>\n",
       "    <tr>\n",
       "      <th>0</th>\n",
       "      <td>3869</td>\n",
       "      <td>1791</td>\n",
       "      <td>1359</td>\n",
       "      <td>1561</td>\n",
       "      <td>3867</td>\n",
       "      <td>3530</td>\n",
       "      <td>817</td>\n",
       "      <td>1358</td>\n",
       "      <td>1558</td>\n",
       "      <td>None</td>\n",
       "      <td>...</td>\n",
       "      <td>None</td>\n",
       "      <td>None</td>\n",
       "      <td>None</td>\n",
       "      <td>None</td>\n",
       "      <td>None</td>\n",
       "      <td>None</td>\n",
       "      <td>None</td>\n",
       "      <td>None</td>\n",
       "      <td>None</td>\n",
       "      <td>None</td>\n",
       "    </tr>\n",
       "    <tr>\n",
       "      <th>1</th>\n",
       "      <td>1165</td>\n",
       "      <td>1428</td>\n",
       "      <td>961</td>\n",
       "      <td>2063</td>\n",
       "      <td>2990</td>\n",
       "      <td>1992</td>\n",
       "      <td>2181</td>\n",
       "      <td>2684</td>\n",
       "      <td>3431</td>\n",
       "      <td>2115</td>\n",
       "      <td>...</td>\n",
       "      <td>None</td>\n",
       "      <td>None</td>\n",
       "      <td>None</td>\n",
       "      <td>None</td>\n",
       "      <td>None</td>\n",
       "      <td>None</td>\n",
       "      <td>None</td>\n",
       "      <td>None</td>\n",
       "      <td>None</td>\n",
       "      <td>None</td>\n",
       "    </tr>\n",
       "    <tr>\n",
       "      <th>2</th>\n",
       "      <td>1722</td>\n",
       "      <td>1761</td>\n",
       "      <td>1658</td>\n",
       "      <td>1661</td>\n",
       "      <td>3702</td>\n",
       "      <td>1022</td>\n",
       "      <td>1660</td>\n",
       "      <td>724</td>\n",
       "      <td>2667</td>\n",
       "      <td>1642</td>\n",
       "      <td>...</td>\n",
       "      <td>None</td>\n",
       "      <td>None</td>\n",
       "      <td>None</td>\n",
       "      <td>None</td>\n",
       "      <td>None</td>\n",
       "      <td>None</td>\n",
       "      <td>None</td>\n",
       "      <td>None</td>\n",
       "      <td>None</td>\n",
       "      <td>None</td>\n",
       "    </tr>\n",
       "    <tr>\n",
       "      <th>3</th>\n",
       "      <td>2997</td>\n",
       "      <td>3758</td>\n",
       "      <td>2518</td>\n",
       "      <td>1592</td>\n",
       "      <td>3682</td>\n",
       "      <td>1364</td>\n",
       "      <td>741</td>\n",
       "      <td>3556</td>\n",
       "      <td>3547</td>\n",
       "      <td>680</td>\n",
       "      <td>...</td>\n",
       "      <td>None</td>\n",
       "      <td>None</td>\n",
       "      <td>None</td>\n",
       "      <td>None</td>\n",
       "      <td>None</td>\n",
       "      <td>None</td>\n",
       "      <td>None</td>\n",
       "      <td>None</td>\n",
       "      <td>None</td>\n",
       "      <td>None</td>\n",
       "    </tr>\n",
       "    <tr>\n",
       "      <th>4</th>\n",
       "      <td>2931</td>\n",
       "      <td>3583</td>\n",
       "      <td>3668</td>\n",
       "      <td>1422</td>\n",
       "      <td>3041</td>\n",
       "      <td>111</td>\n",
       "      <td>522</td>\n",
       "      <td>1216</td>\n",
       "      <td>104</td>\n",
       "      <td>3318</td>\n",
       "      <td>...</td>\n",
       "      <td>None</td>\n",
       "      <td>None</td>\n",
       "      <td>None</td>\n",
       "      <td>None</td>\n",
       "      <td>None</td>\n",
       "      <td>None</td>\n",
       "      <td>None</td>\n",
       "      <td>None</td>\n",
       "      <td>None</td>\n",
       "      <td>None</td>\n",
       "    </tr>\n",
       "    <tr>\n",
       "      <th>...</th>\n",
       "      <td>...</td>\n",
       "      <td>...</td>\n",
       "      <td>...</td>\n",
       "      <td>...</td>\n",
       "      <td>...</td>\n",
       "      <td>...</td>\n",
       "      <td>...</td>\n",
       "      <td>...</td>\n",
       "      <td>...</td>\n",
       "      <td>...</td>\n",
       "      <td>...</td>\n",
       "      <td>...</td>\n",
       "      <td>...</td>\n",
       "      <td>...</td>\n",
       "      <td>...</td>\n",
       "      <td>...</td>\n",
       "      <td>...</td>\n",
       "      <td>...</td>\n",
       "      <td>...</td>\n",
       "      <td>...</td>\n",
       "      <td>...</td>\n",
       "    </tr>\n",
       "    <tr>\n",
       "      <th>145</th>\n",
       "      <td>3216</td>\n",
       "      <td>2236</td>\n",
       "      <td>3088</td>\n",
       "      <td>1927</td>\n",
       "      <td>3219</td>\n",
       "      <td>705</td>\n",
       "      <td>2264</td>\n",
       "      <td>583</td>\n",
       "      <td>1961</td>\n",
       "      <td>2562</td>\n",
       "      <td>...</td>\n",
       "      <td>None</td>\n",
       "      <td>None</td>\n",
       "      <td>None</td>\n",
       "      <td>None</td>\n",
       "      <td>None</td>\n",
       "      <td>None</td>\n",
       "      <td>None</td>\n",
       "      <td>None</td>\n",
       "      <td>None</td>\n",
       "      <td>None</td>\n",
       "    </tr>\n",
       "    <tr>\n",
       "      <th>146</th>\n",
       "      <td>704</td>\n",
       "      <td>2804</td>\n",
       "      <td>2918</td>\n",
       "      <td>80</td>\n",
       "      <td>979</td>\n",
       "      <td>3408</td>\n",
       "      <td>2593</td>\n",
       "      <td>111</td>\n",
       "      <td>2396</td>\n",
       "      <td>522</td>\n",
       "      <td>...</td>\n",
       "      <td>None</td>\n",
       "      <td>None</td>\n",
       "      <td>None</td>\n",
       "      <td>None</td>\n",
       "      <td>None</td>\n",
       "      <td>None</td>\n",
       "      <td>None</td>\n",
       "      <td>None</td>\n",
       "      <td>None</td>\n",
       "      <td>None</td>\n",
       "    </tr>\n",
       "    <tr>\n",
       "      <th>147</th>\n",
       "      <td>189</td>\n",
       "      <td>2518</td>\n",
       "      <td>1592</td>\n",
       "      <td>2605</td>\n",
       "      <td>2856</td>\n",
       "      <td>792</td>\n",
       "      <td>359</td>\n",
       "      <td>3694</td>\n",
       "      <td>1913</td>\n",
       "      <td>1558</td>\n",
       "      <td>...</td>\n",
       "      <td>None</td>\n",
       "      <td>None</td>\n",
       "      <td>None</td>\n",
       "      <td>None</td>\n",
       "      <td>None</td>\n",
       "      <td>None</td>\n",
       "      <td>None</td>\n",
       "      <td>None</td>\n",
       "      <td>None</td>\n",
       "      <td>None</td>\n",
       "    </tr>\n",
       "    <tr>\n",
       "      <th>148</th>\n",
       "      <td>2375</td>\n",
       "      <td>1572</td>\n",
       "      <td>95</td>\n",
       "      <td>1951</td>\n",
       "      <td>2613</td>\n",
       "      <td>2332</td>\n",
       "      <td>2331</td>\n",
       "      <td>1288</td>\n",
       "      <td>200</td>\n",
       "      <td>233</td>\n",
       "      <td>...</td>\n",
       "      <td>None</td>\n",
       "      <td>None</td>\n",
       "      <td>None</td>\n",
       "      <td>None</td>\n",
       "      <td>None</td>\n",
       "      <td>None</td>\n",
       "      <td>None</td>\n",
       "      <td>None</td>\n",
       "      <td>None</td>\n",
       "      <td>None</td>\n",
       "    </tr>\n",
       "    <tr>\n",
       "      <th>149</th>\n",
       "      <td>3072</td>\n",
       "      <td>3724</td>\n",
       "      <td>1600</td>\n",
       "      <td>3733</td>\n",
       "      <td>1759</td>\n",
       "      <td>1753</td>\n",
       "      <td>123</td>\n",
       "      <td>1754</td>\n",
       "      <td>1743</td>\n",
       "      <td>1599</td>\n",
       "      <td>...</td>\n",
       "      <td>None</td>\n",
       "      <td>None</td>\n",
       "      <td>None</td>\n",
       "      <td>None</td>\n",
       "      <td>None</td>\n",
       "      <td>None</td>\n",
       "      <td>None</td>\n",
       "      <td>None</td>\n",
       "      <td>None</td>\n",
       "      <td>None</td>\n",
       "    </tr>\n",
       "  </tbody>\n",
       "</table>\n",
       "<p>150 rows × 89 columns</p>\n",
       "</div>"
      ],
      "text/plain": [
       "       0     1     2     3     4     5     6     7     8     9   ...    79  \\\n",
       "0    3869  1791  1359  1561  3867  3530   817  1358  1558  None  ...  None   \n",
       "1    1165  1428   961  2063  2990  1992  2181  2684  3431  2115  ...  None   \n",
       "2    1722  1761  1658  1661  3702  1022  1660   724  2667  1642  ...  None   \n",
       "3    2997  3758  2518  1592  3682  1364   741  3556  3547   680  ...  None   \n",
       "4    2931  3583  3668  1422  3041   111   522  1216   104  3318  ...  None   \n",
       "..    ...   ...   ...   ...   ...   ...   ...   ...   ...   ...  ...   ...   \n",
       "145  3216  2236  3088  1927  3219   705  2264   583  1961  2562  ...  None   \n",
       "146   704  2804  2918    80   979  3408  2593   111  2396   522  ...  None   \n",
       "147   189  2518  1592  2605  2856   792   359  3694  1913  1558  ...  None   \n",
       "148  2375  1572    95  1951  2613  2332  2331  1288   200   233  ...  None   \n",
       "149  3072  3724  1600  3733  1759  1753   123  1754  1743  1599  ...  None   \n",
       "\n",
       "       80    81    82    83    84    85    86    87    88  \n",
       "0    None  None  None  None  None  None  None  None  None  \n",
       "1    None  None  None  None  None  None  None  None  None  \n",
       "2    None  None  None  None  None  None  None  None  None  \n",
       "3    None  None  None  None  None  None  None  None  None  \n",
       "4    None  None  None  None  None  None  None  None  None  \n",
       "..    ...   ...   ...   ...   ...   ...   ...   ...   ...  \n",
       "145  None  None  None  None  None  None  None  None  None  \n",
       "146  None  None  None  None  None  None  None  None  None  \n",
       "147  None  None  None  None  None  None  None  None  None  \n",
       "148  None  None  None  None  None  None  None  None  None  \n",
       "149  None  None  None  None  None  None  None  None  None  \n",
       "\n",
       "[150 rows x 89 columns]"
      ]
     },
     "execution_count": 26,
     "metadata": {},
     "output_type": "execute_result"
    }
   ],
   "source": [
    "modified_txn_final_copy = pd.DataFrame(modified_txn_final_copy)\n",
    "modified_txn_final_copy"
   ]
  },
  {
   "cell_type": "code",
   "execution_count": 27,
   "metadata": {},
   "outputs": [],
   "source": [
    "item_df_2 = modified_txn_final_copy.copy()\n"
   ]
  },
  {
   "cell_type": "code",
   "execution_count": 28,
   "metadata": {},
   "outputs": [
    {
     "data": {
      "text/html": [
       "<div>\n",
       "<style scoped>\n",
       "    .dataframe tbody tr th:only-of-type {\n",
       "        vertical-align: middle;\n",
       "    }\n",
       "\n",
       "    .dataframe tbody tr th {\n",
       "        vertical-align: top;\n",
       "    }\n",
       "\n",
       "    .dataframe thead th {\n",
       "        text-align: right;\n",
       "    }\n",
       "</style>\n",
       "<table border=\"1\" class=\"dataframe\">\n",
       "  <thead>\n",
       "    <tr style=\"text-align: right;\">\n",
       "      <th></th>\n",
       "      <th>1</th>\n",
       "      <th>10</th>\n",
       "      <th>100</th>\n",
       "      <th>1001</th>\n",
       "      <th>1002</th>\n",
       "      <th>1003</th>\n",
       "      <th>1004</th>\n",
       "      <th>1006</th>\n",
       "      <th>1007</th>\n",
       "      <th>101</th>\n",
       "      <th>...</th>\n",
       "      <th>973</th>\n",
       "      <th>975</th>\n",
       "      <th>976</th>\n",
       "      <th>979</th>\n",
       "      <th>98</th>\n",
       "      <th>981</th>\n",
       "      <th>984</th>\n",
       "      <th>992</th>\n",
       "      <th>997</th>\n",
       "      <th>998</th>\n",
       "    </tr>\n",
       "  </thead>\n",
       "  <tbody>\n",
       "    <tr>\n",
       "      <th>0</th>\n",
       "      <td>False</td>\n",
       "      <td>False</td>\n",
       "      <td>False</td>\n",
       "      <td>False</td>\n",
       "      <td>False</td>\n",
       "      <td>False</td>\n",
       "      <td>False</td>\n",
       "      <td>False</td>\n",
       "      <td>False</td>\n",
       "      <td>False</td>\n",
       "      <td>...</td>\n",
       "      <td>False</td>\n",
       "      <td>False</td>\n",
       "      <td>False</td>\n",
       "      <td>False</td>\n",
       "      <td>False</td>\n",
       "      <td>False</td>\n",
       "      <td>False</td>\n",
       "      <td>False</td>\n",
       "      <td>False</td>\n",
       "      <td>False</td>\n",
       "    </tr>\n",
       "    <tr>\n",
       "      <th>1</th>\n",
       "      <td>False</td>\n",
       "      <td>False</td>\n",
       "      <td>False</td>\n",
       "      <td>False</td>\n",
       "      <td>False</td>\n",
       "      <td>False</td>\n",
       "      <td>False</td>\n",
       "      <td>False</td>\n",
       "      <td>False</td>\n",
       "      <td>False</td>\n",
       "      <td>...</td>\n",
       "      <td>False</td>\n",
       "      <td>False</td>\n",
       "      <td>False</td>\n",
       "      <td>False</td>\n",
       "      <td>False</td>\n",
       "      <td>False</td>\n",
       "      <td>False</td>\n",
       "      <td>False</td>\n",
       "      <td>False</td>\n",
       "      <td>False</td>\n",
       "    </tr>\n",
       "    <tr>\n",
       "      <th>2</th>\n",
       "      <td>False</td>\n",
       "      <td>False</td>\n",
       "      <td>False</td>\n",
       "      <td>False</td>\n",
       "      <td>False</td>\n",
       "      <td>False</td>\n",
       "      <td>True</td>\n",
       "      <td>False</td>\n",
       "      <td>False</td>\n",
       "      <td>False</td>\n",
       "      <td>...</td>\n",
       "      <td>False</td>\n",
       "      <td>False</td>\n",
       "      <td>False</td>\n",
       "      <td>False</td>\n",
       "      <td>False</td>\n",
       "      <td>False</td>\n",
       "      <td>False</td>\n",
       "      <td>False</td>\n",
       "      <td>True</td>\n",
       "      <td>False</td>\n",
       "    </tr>\n",
       "    <tr>\n",
       "      <th>3</th>\n",
       "      <td>False</td>\n",
       "      <td>False</td>\n",
       "      <td>False</td>\n",
       "      <td>False</td>\n",
       "      <td>False</td>\n",
       "      <td>False</td>\n",
       "      <td>False</td>\n",
       "      <td>False</td>\n",
       "      <td>False</td>\n",
       "      <td>False</td>\n",
       "      <td>...</td>\n",
       "      <td>False</td>\n",
       "      <td>False</td>\n",
       "      <td>False</td>\n",
       "      <td>False</td>\n",
       "      <td>False</td>\n",
       "      <td>False</td>\n",
       "      <td>False</td>\n",
       "      <td>False</td>\n",
       "      <td>False</td>\n",
       "      <td>False</td>\n",
       "    </tr>\n",
       "    <tr>\n",
       "      <th>4</th>\n",
       "      <td>False</td>\n",
       "      <td>False</td>\n",
       "      <td>False</td>\n",
       "      <td>False</td>\n",
       "      <td>False</td>\n",
       "      <td>False</td>\n",
       "      <td>False</td>\n",
       "      <td>False</td>\n",
       "      <td>False</td>\n",
       "      <td>False</td>\n",
       "      <td>...</td>\n",
       "      <td>False</td>\n",
       "      <td>False</td>\n",
       "      <td>False</td>\n",
       "      <td>False</td>\n",
       "      <td>False</td>\n",
       "      <td>False</td>\n",
       "      <td>False</td>\n",
       "      <td>False</td>\n",
       "      <td>False</td>\n",
       "      <td>False</td>\n",
       "    </tr>\n",
       "  </tbody>\n",
       "</table>\n",
       "<p>5 rows × 1471 columns</p>\n",
       "</div>"
      ],
      "text/plain": [
       "       1     10    100   1001   1002   1003   1004   1006   1007    101  ...  \\\n",
       "0  False  False  False  False  False  False  False  False  False  False  ...   \n",
       "1  False  False  False  False  False  False  False  False  False  False  ...   \n",
       "2  False  False  False  False  False  False   True  False  False  False  ...   \n",
       "3  False  False  False  False  False  False  False  False  False  False  ...   \n",
       "4  False  False  False  False  False  False  False  False  False  False  ...   \n",
       "\n",
       "     973    975    976    979     98    981    984    992    997    998  \n",
       "0  False  False  False  False  False  False  False  False  False  False  \n",
       "1  False  False  False  False  False  False  False  False  False  False  \n",
       "2  False  False  False  False  False  False  False  False   True  False  \n",
       "3  False  False  False  False  False  False  False  False  False  False  \n",
       "4  False  False  False  False  False  False  False  False  False  False  \n",
       "\n",
       "[5 rows x 1471 columns]"
      ]
     },
     "execution_count": 28,
     "metadata": {},
     "output_type": "execute_result"
    }
   ],
   "source": [
    "df_encoded_2 = pd.get_dummies(item_df_2, prefix='', prefix_sep='').groupby(level=0, axis=1).max()\n",
    "df_encoded_2.head()"
   ]
  },
  {
   "cell_type": "code",
   "execution_count": 29,
   "metadata": {},
   "outputs": [],
   "source": [
    "df_binary_2 = df_encoded_2.copy()\n",
    "df_binary_2 = df_binary_2.astype('bool').astype('int')"
   ]
  },
  {
   "cell_type": "code",
   "execution_count": null,
   "metadata": {},
   "outputs": [
    {
     "name": "stdout",
     "output_type": "stream",
     "text": [
      "1486 1475\n",
      "3157 3009\n"
     ]
    },
    {
     "data": {
      "text/plain": [
       "(0.9925975773889637, 11)"
      ]
     },
     "execution_count": 178,
     "metadata": {},
     "output_type": "execute_result"
    }
   ],
   "source": [
    "# # df_binary_1.shape, df_binary_2.shape\n",
    "# # get the lenght of eaach row\n",
    "# print(df_binary_1.shape[1], df_binary_2.shape[1])\n",
    "# print(df_binary_1.sum(axis=1).sum(), df_binary_2.sum(axis=1).sum())\n",
    "# differnce = df_binary_1.shape[1] - df_binary_2.shape[1]\n",
    "# # utility_preservation = df_binary_2.sum(axis=1).sum() / df_binary_1.sum(axis=1).sum()\n",
    "# no_colums_df_1 = df_binary_1.shape[1]\n",
    "# no_colums_df_2 = df_binary_2.shape[1]\n",
    "\n",
    "# utility_preservation = 1 - (no_colums_df_1 - no_colums_df_2) / no_colums_df_1\n",
    "# utility_preservation,differnce\n"
   ]
  },
  {
   "cell_type": "code",
   "execution_count": 30,
   "metadata": {},
   "outputs": [
    {
     "data": {
      "text/html": [
       "<div>\n",
       "<style scoped>\n",
       "    .dataframe tbody tr th:only-of-type {\n",
       "        vertical-align: middle;\n",
       "    }\n",
       "\n",
       "    .dataframe tbody tr th {\n",
       "        vertical-align: top;\n",
       "    }\n",
       "\n",
       "    .dataframe thead th {\n",
       "        text-align: right;\n",
       "    }\n",
       "</style>\n",
       "<table border=\"1\" class=\"dataframe\">\n",
       "  <thead>\n",
       "    <tr style=\"text-align: right;\">\n",
       "      <th></th>\n",
       "      <th>0</th>\n",
       "      <th>1</th>\n",
       "      <th>2</th>\n",
       "      <th>3</th>\n",
       "      <th>4</th>\n",
       "      <th>5</th>\n",
       "      <th>6</th>\n",
       "      <th>7</th>\n",
       "      <th>8</th>\n",
       "      <th>9</th>\n",
       "      <th>...</th>\n",
       "      <th>79</th>\n",
       "      <th>80</th>\n",
       "      <th>81</th>\n",
       "      <th>82</th>\n",
       "      <th>83</th>\n",
       "      <th>84</th>\n",
       "      <th>85</th>\n",
       "      <th>86</th>\n",
       "      <th>87</th>\n",
       "      <th>88</th>\n",
       "    </tr>\n",
       "  </thead>\n",
       "  <tbody>\n",
       "    <tr>\n",
       "      <th>0</th>\n",
       "      <td>817</td>\n",
       "      <td>1558</td>\n",
       "      <td>1359</td>\n",
       "      <td>1358</td>\n",
       "      <td>3869</td>\n",
       "      <td>3530</td>\n",
       "      <td>3867</td>\n",
       "      <td>1561</td>\n",
       "      <td>1791</td>\n",
       "      <td>None</td>\n",
       "      <td>...</td>\n",
       "      <td>None</td>\n",
       "      <td>None</td>\n",
       "      <td>None</td>\n",
       "      <td>None</td>\n",
       "      <td>None</td>\n",
       "      <td>None</td>\n",
       "      <td>None</td>\n",
       "      <td>None</td>\n",
       "      <td>None</td>\n",
       "      <td>None</td>\n",
       "    </tr>\n",
       "    <tr>\n",
       "      <th>1</th>\n",
       "      <td>961</td>\n",
       "      <td>1992</td>\n",
       "      <td>212</td>\n",
       "      <td>2183</td>\n",
       "      <td>2751</td>\n",
       "      <td>1428</td>\n",
       "      <td>2063</td>\n",
       "      <td>1564</td>\n",
       "      <td>2684</td>\n",
       "      <td>1728</td>\n",
       "      <td>...</td>\n",
       "      <td>None</td>\n",
       "      <td>None</td>\n",
       "      <td>None</td>\n",
       "      <td>None</td>\n",
       "      <td>None</td>\n",
       "      <td>None</td>\n",
       "      <td>None</td>\n",
       "      <td>None</td>\n",
       "      <td>None</td>\n",
       "      <td>None</td>\n",
       "    </tr>\n",
       "    <tr>\n",
       "      <th>2</th>\n",
       "      <td>1761</td>\n",
       "      <td>3376</td>\n",
       "      <td>1660</td>\n",
       "      <td>1755</td>\n",
       "      <td>1022</td>\n",
       "      <td>1659</td>\n",
       "      <td>3564</td>\n",
       "      <td>1722</td>\n",
       "      <td>1004</td>\n",
       "      <td>1642</td>\n",
       "      <td>...</td>\n",
       "      <td>None</td>\n",
       "      <td>None</td>\n",
       "      <td>None</td>\n",
       "      <td>None</td>\n",
       "      <td>None</td>\n",
       "      <td>None</td>\n",
       "      <td>None</td>\n",
       "      <td>None</td>\n",
       "      <td>None</td>\n",
       "      <td>None</td>\n",
       "    </tr>\n",
       "    <tr>\n",
       "      <th>3</th>\n",
       "      <td>3682</td>\n",
       "      <td>1364</td>\n",
       "      <td>2997</td>\n",
       "      <td>741</td>\n",
       "      <td>2991</td>\n",
       "      <td>3758</td>\n",
       "      <td>2758</td>\n",
       "      <td>1501</td>\n",
       "      <td>3556</td>\n",
       "      <td>2856</td>\n",
       "      <td>...</td>\n",
       "      <td>None</td>\n",
       "      <td>None</td>\n",
       "      <td>None</td>\n",
       "      <td>None</td>\n",
       "      <td>None</td>\n",
       "      <td>None</td>\n",
       "      <td>None</td>\n",
       "      <td>None</td>\n",
       "      <td>None</td>\n",
       "      <td>None</td>\n",
       "    </tr>\n",
       "    <tr>\n",
       "      <th>4</th>\n",
       "      <td>2994</td>\n",
       "      <td>3318</td>\n",
       "      <td>3601</td>\n",
       "      <td>1216</td>\n",
       "      <td>1422</td>\n",
       "      <td>137</td>\n",
       "      <td>3307</td>\n",
       "      <td>2931</td>\n",
       "      <td>2298</td>\n",
       "      <td>2299</td>\n",
       "      <td>...</td>\n",
       "      <td>None</td>\n",
       "      <td>None</td>\n",
       "      <td>None</td>\n",
       "      <td>None</td>\n",
       "      <td>None</td>\n",
       "      <td>None</td>\n",
       "      <td>None</td>\n",
       "      <td>None</td>\n",
       "      <td>None</td>\n",
       "      <td>None</td>\n",
       "    </tr>\n",
       "    <tr>\n",
       "      <th>...</th>\n",
       "      <td>...</td>\n",
       "      <td>...</td>\n",
       "      <td>...</td>\n",
       "      <td>...</td>\n",
       "      <td>...</td>\n",
       "      <td>...</td>\n",
       "      <td>...</td>\n",
       "      <td>...</td>\n",
       "      <td>...</td>\n",
       "      <td>...</td>\n",
       "      <td>...</td>\n",
       "      <td>...</td>\n",
       "      <td>...</td>\n",
       "      <td>...</td>\n",
       "      <td>...</td>\n",
       "      <td>...</td>\n",
       "      <td>...</td>\n",
       "      <td>...</td>\n",
       "      <td>...</td>\n",
       "      <td>...</td>\n",
       "      <td>...</td>\n",
       "    </tr>\n",
       "    <tr>\n",
       "      <th>145</th>\n",
       "      <td>1927</td>\n",
       "      <td>583</td>\n",
       "      <td>3219</td>\n",
       "      <td>2236</td>\n",
       "      <td>2562</td>\n",
       "      <td>3213</td>\n",
       "      <td>1961</td>\n",
       "      <td>3216</td>\n",
       "      <td>3088</td>\n",
       "      <td>2264</td>\n",
       "      <td>...</td>\n",
       "      <td>None</td>\n",
       "      <td>None</td>\n",
       "      <td>None</td>\n",
       "      <td>None</td>\n",
       "      <td>None</td>\n",
       "      <td>None</td>\n",
       "      <td>None</td>\n",
       "      <td>None</td>\n",
       "      <td>None</td>\n",
       "      <td>None</td>\n",
       "    </tr>\n",
       "    <tr>\n",
       "      <th>146</th>\n",
       "      <td>2301</td>\n",
       "      <td>2090</td>\n",
       "      <td>3610</td>\n",
       "      <td>1932</td>\n",
       "      <td>976</td>\n",
       "      <td>2562</td>\n",
       "      <td>2596</td>\n",
       "      <td>1943</td>\n",
       "      <td>2918</td>\n",
       "      <td>778</td>\n",
       "      <td>...</td>\n",
       "      <td>None</td>\n",
       "      <td>None</td>\n",
       "      <td>None</td>\n",
       "      <td>None</td>\n",
       "      <td>None</td>\n",
       "      <td>None</td>\n",
       "      <td>None</td>\n",
       "      <td>None</td>\n",
       "      <td>None</td>\n",
       "      <td>None</td>\n",
       "    </tr>\n",
       "    <tr>\n",
       "      <th>147</th>\n",
       "      <td>2759</td>\n",
       "      <td>3384</td>\n",
       "      <td>1359</td>\n",
       "      <td>2758</td>\n",
       "      <td>2765</td>\n",
       "      <td>3175</td>\n",
       "      <td>2768</td>\n",
       "      <td>792</td>\n",
       "      <td>2856</td>\n",
       "      <td>1776</td>\n",
       "      <td>...</td>\n",
       "      <td>None</td>\n",
       "      <td>None</td>\n",
       "      <td>None</td>\n",
       "      <td>None</td>\n",
       "      <td>None</td>\n",
       "      <td>None</td>\n",
       "      <td>None</td>\n",
       "      <td>None</td>\n",
       "      <td>None</td>\n",
       "      <td>None</td>\n",
       "    </tr>\n",
       "    <tr>\n",
       "      <th>148</th>\n",
       "      <td>3594</td>\n",
       "      <td>547</td>\n",
       "      <td>3747</td>\n",
       "      <td>214</td>\n",
       "      <td>2331</td>\n",
       "      <td>3290</td>\n",
       "      <td>95</td>\n",
       "      <td>93</td>\n",
       "      <td>3749</td>\n",
       "      <td>200</td>\n",
       "      <td>...</td>\n",
       "      <td>None</td>\n",
       "      <td>None</td>\n",
       "      <td>None</td>\n",
       "      <td>None</td>\n",
       "      <td>None</td>\n",
       "      <td>None</td>\n",
       "      <td>None</td>\n",
       "      <td>None</td>\n",
       "      <td>None</td>\n",
       "      <td>None</td>\n",
       "    </tr>\n",
       "    <tr>\n",
       "      <th>149</th>\n",
       "      <td>3071</td>\n",
       "      <td>3735</td>\n",
       "      <td>3733</td>\n",
       "      <td>1721</td>\n",
       "      <td>1600</td>\n",
       "      <td>1599</td>\n",
       "      <td>2988</td>\n",
       "      <td>1755</td>\n",
       "      <td>2307</td>\n",
       "      <td>3072</td>\n",
       "      <td>...</td>\n",
       "      <td>None</td>\n",
       "      <td>None</td>\n",
       "      <td>None</td>\n",
       "      <td>None</td>\n",
       "      <td>None</td>\n",
       "      <td>None</td>\n",
       "      <td>None</td>\n",
       "      <td>None</td>\n",
       "      <td>None</td>\n",
       "      <td>None</td>\n",
       "    </tr>\n",
       "  </tbody>\n",
       "</table>\n",
       "<p>150 rows × 89 columns</p>\n",
       "</div>"
      ],
      "text/plain": [
       "       0     1     2     3     4     5     6     7     8     9   ...    79  \\\n",
       "0     817  1558  1359  1358  3869  3530  3867  1561  1791  None  ...  None   \n",
       "1     961  1992   212  2183  2751  1428  2063  1564  2684  1728  ...  None   \n",
       "2    1761  3376  1660  1755  1022  1659  3564  1722  1004  1642  ...  None   \n",
       "3    3682  1364  2997   741  2991  3758  2758  1501  3556  2856  ...  None   \n",
       "4    2994  3318  3601  1216  1422   137  3307  2931  2298  2299  ...  None   \n",
       "..    ...   ...   ...   ...   ...   ...   ...   ...   ...   ...  ...   ...   \n",
       "145  1927   583  3219  2236  2562  3213  1961  3216  3088  2264  ...  None   \n",
       "146  2301  2090  3610  1932   976  2562  2596  1943  2918   778  ...  None   \n",
       "147  2759  3384  1359  2758  2765  3175  2768   792  2856  1776  ...  None   \n",
       "148  3594   547  3747   214  2331  3290    95    93  3749   200  ...  None   \n",
       "149  3071  3735  3733  1721  1600  1599  2988  1755  2307  3072  ...  None   \n",
       "\n",
       "       80    81    82    83    84    85    86    87    88  \n",
       "0    None  None  None  None  None  None  None  None  None  \n",
       "1    None  None  None  None  None  None  None  None  None  \n",
       "2    None  None  None  None  None  None  None  None  None  \n",
       "3    None  None  None  None  None  None  None  None  None  \n",
       "4    None  None  None  None  None  None  None  None  None  \n",
       "..    ...   ...   ...   ...   ...   ...   ...   ...   ...  \n",
       "145  None  None  None  None  None  None  None  None  None  \n",
       "146  None  None  None  None  None  None  None  None  None  \n",
       "147  None  None  None  None  None  None  None  None  None  \n",
       "148  None  None  None  None  None  None  None  None  None  \n",
       "149  None  None  None  None  None  None  None  None  None  \n",
       "\n",
       "[150 rows x 89 columns]"
      ]
     },
     "execution_count": 30,
     "metadata": {},
     "output_type": "execute_result"
    }
   ],
   "source": [
    "items_df"
   ]
  },
  {
   "cell_type": "code",
   "execution_count": 31,
   "metadata": {},
   "outputs": [
    {
     "name": "stdout",
     "output_type": "stream",
     "text": [
      "Association Rules:\n",
      "  antecedents consequents  antecedent support  consequent support  support  \\\n",
      "0       (100)       (104)            0.033333            0.066667     0.02   \n",
      "1      (2261)       (100)            0.040000            0.033333     0.02   \n",
      "2       (100)      (2261)            0.033333            0.040000     0.02   \n",
      "3      (1004)      (1755)            0.033333            0.113333     0.02   \n",
      "4      (2261)       (104)            0.040000            0.066667     0.02   \n",
      "\n",
      "   confidence       lift  leverage  conviction  zhangs_metric  \n",
      "0         0.6   9.000000  0.017778    2.333333       0.919540  \n",
      "1         0.5  15.000000  0.018667    1.933333       0.972222  \n",
      "2         0.6  15.000000  0.018667    2.400000       0.965517  \n",
      "3         0.6   5.294118  0.016222    2.216667       0.839080  \n",
      "4         0.5   7.500000  0.017333    1.866667       0.902778  \n"
     ]
    }
   ],
   "source": [
    "from mlxtend.frequent_patterns import apriori, association_rules\n",
    "\n",
    "def mine_association_rules(transactions_df, min_support=0.02, min_confidence=0.5):\n",
    "    \"\"\"\n",
    "    This function encodes the transactions into boolean values, performs association rule mining,\n",
    "    and returns the resulting rules.\n",
    "    \n",
    "    :param transactions_df: DataFrame with transactions where each item is represented in its own column.\n",
    "    :param min_support: The minimum support for an itemset to be considered frequent.\n",
    "    :param min_confidence: The minimum confidence for a rule to be considered.\n",
    "    :return: DataFrame containing the association rules.\n",
    "    \"\"\"\n",
    "    # Convert items to boolean columns\n",
    "    # df_encoded = df_encoded\n",
    "    \n",
    "    # Perform association rule mining\n",
    "    frequent_itemsets = apriori(df_encoded_2, min_support=min_support, use_colnames=True)\n",
    "    rules = association_rules(frequent_itemsets, metric=\"confidence\", min_threshold=min_confidence)\n",
    "    \n",
    "    return rules\n",
    "\n",
    "# Now, use the function and display the association rules\n",
    "rules_after_hidden = mine_association_rules(item_df_2)\n",
    "print(\"Association Rules:\")\n",
    "print(rules_after_hidden.head())"
   ]
  },
  {
   "cell_type": "code",
   "execution_count": 32,
   "metadata": {},
   "outputs": [
    {
     "data": {
      "text/plain": [
       "(475, 1072)"
      ]
     },
     "execution_count": 32,
     "metadata": {},
     "output_type": "execute_result"
    }
   ],
   "source": [
    "len(rules_after_hidden),len(rules)"
   ]
  },
  {
   "cell_type": "code",
   "execution_count": 33,
   "metadata": {},
   "outputs": [],
   "source": [
    "# print(df_binary_1.shape[1], df_binary_2.shape[1])\n",
    "# print(df_binary_1.sum(axis=1).sum(), df_binary_2.sum(axis=1).sum())\n",
    "# differnce = df_binary_1.shape[1] - df_binary_2.shape[1]\n",
    "# # utility_preservation = df_binary_2.sum(axis=1).sum() / df_binary_1.sum(axis=1).sum()\n",
    "# no_colums_df_1 = df_binary_1.shape[1]\n",
    "# no_colums_df_2 = df_binary_2.shape[1]\n",
    "\n",
    "# utility_preservation = 1 - (no_colums_df_1 - no_colums_df_2) / no_colums_df_1\n",
    "# print(\"no of rules before hidden\",len(rules))\n",
    "# print(\"no of rules after hidden\",len(rules_after_hidden))\n",
    "# print(\"utility_preservation\",utility_preservation)\n",
    "# print(\"differnce\",differnce)\n"
   ]
  },
  {
   "cell_type": "code",
   "execution_count": 34,
   "metadata": {},
   "outputs": [],
   "source": [
    "sorted_rules_df_2 = rules_after_hidden.sort_values(by=['confidence', 'lift'], ascending=False)"
   ]
  },
  {
   "cell_type": "code",
   "execution_count": 35,
   "metadata": {},
   "outputs": [],
   "source": [
    "# Convert 'antecedents' and 'consequents' to frozenset for both dataframes\n",
    "sorted_rules_df['antecedents'] = sorted_rules_df['antecedents'].apply(frozenset)\n",
    "sorted_rules_df['consequents'] = sorted_rules_df['consequents'].apply(frozenset)\n",
    "sorted_rules_df_2['antecedents'] = sorted_rules_df_2['antecedents'].apply(frozenset)\n",
    "sorted_rules_df_2['consequents'] = sorted_rules_df_2['consequents'].apply(frozenset)\n"
   ]
  },
  {
   "cell_type": "code",
   "execution_count": 51,
   "metadata": {},
   "outputs": [],
   "source": [
    "\n",
    "# Merge both dataframes to find common entries\n",
    "common_entries = pd.merge(sorted_rules_df, sorted_rules_df_2, on=['antecedents', 'consequents'])\n",
    "\n",
    "# Find entries unique to sorted_rules_df\n",
    "unique_sorted_rules_df = sorted_rules_df[~sorted_rules_df[['antecedents', 'consequents']].apply(frozenset, axis=1).isin(\n",
    "    sorted_rules_df_2[['antecedents', 'consequents']].apply(frozenset, axis=1))]\n",
    "\n",
    "# Find entries unique to sorted_rules_df_2\n",
    "unique_sorted_rules_df_2 = sorted_rules_df_2[~sorted_rules_df_2[['antecedents', 'consequents']].apply(frozenset, axis=1).isin(\n",
    "    sorted_rules_df[['antecedents', 'consequents']].apply(frozenset, axis=1))]\n",
    "\n",
    "# compare the rules in the unique_sorted_rules_df_2 and rules_to_hide_df and get their data like support, confidence, lift\n",
    "\n",
    "hidden_rules_data_df = pd.merge(common_entries, rules_to_hide_df, on=['antecedents', 'consequents'])\n",
    "\n",
    "\n"
   ]
  },
  {
   "cell_type": "code",
   "execution_count": 52,
   "metadata": {},
   "outputs": [
    {
     "data": {
      "text/html": [
       "<div>\n",
       "<style scoped>\n",
       "    .dataframe tbody tr th:only-of-type {\n",
       "        vertical-align: middle;\n",
       "    }\n",
       "\n",
       "    .dataframe tbody tr th {\n",
       "        vertical-align: top;\n",
       "    }\n",
       "\n",
       "    .dataframe thead th {\n",
       "        text-align: right;\n",
       "    }\n",
       "</style>\n",
       "<table border=\"1\" class=\"dataframe\">\n",
       "  <thead>\n",
       "    <tr style=\"text-align: right;\">\n",
       "      <th></th>\n",
       "      <th>antecedents</th>\n",
       "      <th>consequents</th>\n",
       "      <th>antecedent support_x</th>\n",
       "      <th>consequent support_x</th>\n",
       "      <th>support_x</th>\n",
       "      <th>confidence_x</th>\n",
       "      <th>lift_x</th>\n",
       "      <th>leverage_x</th>\n",
       "      <th>conviction_x</th>\n",
       "      <th>zhangs_metric_x</th>\n",
       "      <th>antecedent support_y</th>\n",
       "      <th>consequent support_y</th>\n",
       "      <th>support_y</th>\n",
       "      <th>confidence_y</th>\n",
       "      <th>lift_y</th>\n",
       "      <th>leverage_y</th>\n",
       "      <th>conviction_y</th>\n",
       "      <th>zhangs_metric_y</th>\n",
       "    </tr>\n",
       "  </thead>\n",
       "  <tbody>\n",
       "  </tbody>\n",
       "</table>\n",
       "</div>"
      ],
      "text/plain": [
       "Empty DataFrame\n",
       "Columns: [antecedents, consequents, antecedent support_x, consequent support_x, support_x, confidence_x, lift_x, leverage_x, conviction_x, zhangs_metric_x, antecedent support_y, consequent support_y, support_y, confidence_y, lift_y, leverage_y, conviction_y, zhangs_metric_y]\n",
       "Index: []"
      ]
     },
     "execution_count": 52,
     "metadata": {},
     "output_type": "execute_result"
    }
   ],
   "source": [
    "hidden_rules_data_df"
   ]
  },
  {
   "cell_type": "code",
   "execution_count": 48,
   "metadata": {},
   "outputs": [
    {
     "name": "stdout",
     "output_type": "stream",
     "text": [
      "shapes before and after (150, 1486) (150, 1471)\n",
      "no of rules before hidden 1072\n",
      "no of rules after hidden 475\n",
      "rules lost ratio 44.309701492537314\n",
      "difference in total items in each row 148\n",
      "utility_preservation 0.9531200506810262\n",
      "differnce in rules 597\n",
      "Hidden rules presnt after hiding 0\n"
     ]
    }
   ],
   "source": [
    "\n",
    "\n",
    "print(\"shapes before and after\",df_binary_1.shape, df_binary_2.shape)\n",
    "# print(df_binary_1.sum(axis=1).sum(), df_binary_2.sum(axis=1).sum())\n",
    "\n",
    "# utility_preservation = df_binary_2.sum(axis=1).sum() / df_binary_1.sum(axis=1).sum()\n",
    "no_colums_df_1 = df_binary_1.shape[1]\n",
    "no_colums_df_2 = df_binary_2.shape[1]\n",
    "\n",
    "# difference in lengths of each rows and its sum\n",
    "diff = 0\n",
    "for i in range(df_binary_1.shape[0]):\n",
    "    diff += abs(df_binary_1.iloc[i].sum() - df_binary_2.iloc[i].sum())\n",
    "\n",
    "total = 0\n",
    "for i in range(df_binary_1.shape[0]):\n",
    "    total += df_binary_1.iloc[i].sum()\n",
    "    \n",
    "\n",
    "utility_preservation = 1 - (diff / total)\n",
    "print(\"no of rules before hidden\",len(rules))\n",
    "print(\"no of rules after hidden\",len(rules_after_hidden))\n",
    "print(\"rules lost ratio\",(len(rules_after_hidden) / len(rules)) * 100)\n",
    "print(\"difference in total items in each row\",diff)\n",
    "print(\"utility_preservation\",utility_preservation)\n",
    "print(\"differnce in rules\",len(rules) - len(rules_after_hidden))\n",
    "print(\"Hidden rules presnt after hiding\",len(hidden_rules_data_df))\n"
   ]
  },
  {
   "cell_type": "code",
   "execution_count": 38,
   "metadata": {},
   "outputs": [
    {
     "data": {
      "text/html": [
       "<div>\n",
       "<style scoped>\n",
       "    .dataframe tbody tr th:only-of-type {\n",
       "        vertical-align: middle;\n",
       "    }\n",
       "\n",
       "    .dataframe tbody tr th {\n",
       "        vertical-align: top;\n",
       "    }\n",
       "\n",
       "    .dataframe thead th {\n",
       "        text-align: right;\n",
       "    }\n",
       "</style>\n",
       "<table border=\"1\" class=\"dataframe\">\n",
       "  <thead>\n",
       "    <tr style=\"text-align: right;\">\n",
       "      <th></th>\n",
       "      <th>antecedents</th>\n",
       "      <th>consequents</th>\n",
       "      <th>antecedent support</th>\n",
       "      <th>consequent support</th>\n",
       "      <th>support</th>\n",
       "      <th>confidence</th>\n",
       "      <th>lift</th>\n",
       "      <th>leverage</th>\n",
       "      <th>conviction</th>\n",
       "      <th>zhangs_metric</th>\n",
       "    </tr>\n",
       "  </thead>\n",
       "  <tbody>\n",
       "  </tbody>\n",
       "</table>\n",
       "</div>"
      ],
      "text/plain": [
       "Empty DataFrame\n",
       "Columns: [antecedents, consequents, antecedent support, consequent support, support, confidence, lift, leverage, conviction, zhangs_metric]\n",
       "Index: []"
      ]
     },
     "execution_count": 38,
     "metadata": {},
     "output_type": "execute_result"
    }
   ],
   "source": [
    "hidden_rules_data_df"
   ]
  },
  {
   "cell_type": "code",
   "execution_count": 49,
   "metadata": {},
   "outputs": [
    {
     "data": {
      "application/vnd.plotly.v1+json": {
       "config": {
        "plotlyServerURL": "https://plot.ly"
       },
       "data": [
        {
         "marker": {
          "color": "red",
          "opacity": 0.5,
          "size": 5
         },
         "mode": "markers",
         "name": "Common",
         "type": "scatter3d",
         "x": [
          0.02,
          0.02,
          0.02,
          0.02,
          0.02,
          0.02,
          0.02,
          0.02,
          0.02,
          0.02666666666666667,
          0.02666666666666667,
          0.02,
          0.02,
          0.02,
          0.02,
          0.02,
          0.02,
          0.02,
          0.02,
          0.02,
          0.02,
          0.02,
          0.02,
          0.02,
          0.02,
          0.02,
          0.02,
          0.02,
          0.02,
          0.02,
          0.02,
          0.02,
          0.02,
          0.02,
          0.02,
          0.02,
          0.02,
          0.03333333333333333,
          0.03333333333333333,
          0.02,
          0.02,
          0.02,
          0.02666666666666667,
          0.02666666666666667,
          0.02,
          0.02,
          0.02,
          0.02,
          0.02,
          0.02,
          0.02,
          0.02,
          0.02,
          0.02,
          0.02,
          0.02,
          0.02,
          0.02,
          0.02,
          0.02,
          0.02,
          0.02,
          0.02,
          0.02,
          0.02,
          0.02,
          0.02,
          0.02666666666666667,
          0.02,
          0.02,
          0.02666666666666667,
          0.02,
          0.02,
          0.02,
          0.02,
          0.02,
          0.02,
          0.02,
          0.02,
          0.02,
          0.02,
          0.02,
          0.02,
          0.02,
          0.02,
          0.02,
          0.02,
          0.02,
          0.02,
          0.02666666666666667,
          0.02,
          0.02,
          0.02,
          0.02,
          0.02,
          0.02,
          0.02,
          0.02,
          0.02,
          0.02,
          0.02666666666666667,
          0.02,
          0.02,
          0.02,
          0.02,
          0.02,
          0.02,
          0.02,
          0.02,
          0.02,
          0.02,
          0.02,
          0.02,
          0.02,
          0.02,
          0.02,
          0.02,
          0.02,
          0.02,
          0.02,
          0.02,
          0.02,
          0.02,
          0.02666666666666667,
          0.02,
          0.02,
          0.02,
          0.02666666666666667,
          0.02666666666666667,
          0.02,
          0.02,
          0.02,
          0.02,
          0.02,
          0.04,
          0.03333333333333333,
          0.03333333333333333,
          0.03333333333333333,
          0.03333333333333333,
          0.03333333333333333,
          0.02666666666666667,
          0.02666666666666667,
          0.02666666666666667,
          0.02666666666666667,
          0.02666666666666667,
          0.02666666666666667,
          0.02666666666666667,
          0.02,
          0.02,
          0.02,
          0.02,
          0.02,
          0.02,
          0.02,
          0.02,
          0.02,
          0.02,
          0.02,
          0.02,
          0.02,
          0.02,
          0.02,
          0.02,
          0.02,
          0.02,
          0.02,
          0.02,
          0.02,
          0.02,
          0.02,
          0.02,
          0.02,
          0.02,
          0.02,
          0.02,
          0.02,
          0.02,
          0.02,
          0.02,
          0.02,
          0.02,
          0.02,
          0.02,
          0.02,
          0.02,
          0.02,
          0.02,
          0.02,
          0.02,
          0.02,
          0.02,
          0.02,
          0.02,
          0.02,
          0.02,
          0.02,
          0.02,
          0.02,
          0.02,
          0.02,
          0.02,
          0.02,
          0.02,
          0.02,
          0.02,
          0.02,
          0.02,
          0.02,
          0.02,
          0.02,
          0.02,
          0.02,
          0.02,
          0.02,
          0.02,
          0.02,
          0.02,
          0.02,
          0.02,
          0.02,
          0.02,
          0.02,
          0.02,
          0.02,
          0.02,
          0.02,
          0.02,
          0.02,
          0.02,
          0.02,
          0.02,
          0.02,
          0.02,
          0.02,
          0.02,
          0.02,
          0.02,
          0.02,
          0.02,
          0.02,
          0.02,
          0.02,
          0.02,
          0.02,
          0.02,
          0.02,
          0.02,
          0.02,
          0.02,
          0.02,
          0.02,
          0.02,
          0.02,
          0.02,
          0.02,
          0.02,
          0.02,
          0.02,
          0.02,
          0.02,
          0.02,
          0.02,
          0.02,
          0.02,
          0.02,
          0.02,
          0.03333333333333333,
          0.03333333333333333,
          0.03333333333333333,
          0.03333333333333333,
          0.02666666666666667,
          0.02666666666666667,
          0.02666666666666667,
          0.02666666666666667,
          0.02666666666666667,
          0.02666666666666667,
          0.02666666666666667,
          0.02666666666666667,
          0.02666666666666667,
          0.02666666666666667,
          0.02666666666666667,
          0.02666666666666667,
          0.02666666666666667,
          0.04,
          0.02666666666666667,
          0.02666666666666667,
          0.04,
          0.03333333333333333,
          0.03333333333333333,
          0.03333333333333333,
          0.03333333333333333,
          0.02,
          0.02,
          0.02,
          0.02,
          0.02,
          0.02,
          0.02,
          0.02,
          0.02,
          0.02,
          0.02,
          0.02,
          0.02,
          0.02,
          0.02,
          0.02,
          0.02,
          0.02,
          0.02,
          0.02,
          0.02,
          0.02,
          0.02,
          0.02,
          0.02,
          0.02,
          0.02,
          0.02,
          0.02,
          0.02,
          0.02,
          0.02,
          0.02,
          0.02,
          0.02,
          0.02,
          0.02,
          0.02,
          0.02,
          0.02,
          0.02,
          0.02,
          0.02,
          0.02,
          0.02,
          0.02,
          0.02,
          0.02,
          0.02,
          0.02,
          0.02,
          0.02,
          0.02,
          0.02,
          0.02,
          0.02,
          0.02,
          0.02,
          0.02,
          0.02,
          0.02,
          0.02,
          0.02,
          0.02,
          0.02,
          0.02,
          0.02,
          0.02,
          0.02,
          0.02,
          0.02,
          0.02,
          0.02,
          0.02,
          0.02,
          0.02,
          0.02,
          0.02,
          0.02,
          0.02,
          0.02,
          0.02,
          0.02,
          0.02,
          0.02,
          0.02,
          0.02,
          0.02,
          0.02,
          0.02,
          0.02,
          0.02666666666666667,
          0.02666666666666667,
          0.02666666666666667,
          0.02666666666666667,
          0.03333333333333333,
          0.03333333333333333,
          0.03333333333333333,
          0.04,
          0.02,
          0.02,
          0.02,
          0.02,
          0.02,
          0.02,
          0.02,
          0.02,
          0.02,
          0.02,
          0.02,
          0.02,
          0.02,
          0.02,
          0.02,
          0.02,
          0.02,
          0.02,
          0.02,
          0.02,
          0.02,
          0.02,
          0.02666666666666667,
          0.02,
          0.02,
          0.02,
          0.02,
          0.02,
          0.02,
          0.02,
          0.02,
          0.02,
          0.02,
          0.02,
          0.02666666666666667,
          0.02,
          0.02,
          0.02,
          0.02,
          0.02,
          0.02,
          0.02,
          0.02,
          0.02,
          0.02,
          0.02666666666666667,
          0.02666666666666667,
          0.02666666666666667,
          0.02,
          0.02,
          0.02666666666666667,
          0.02,
          0.02,
          0.02666666666666667,
          0.02,
          0.02,
          0.02666666666666667,
          0.02,
          0.02,
          0.02,
          0.02,
          0.02,
          0.02,
          0.02,
          0.02,
          0.02,
          0.02,
          0.02,
          0.02,
          0.02,
          0.02,
          0.02,
          0.02,
          0.02,
          0.02,
          0.02666666666666667,
          0.02,
          0.02,
          0.02,
          0.02,
          0.02666666666666667,
          0.02,
          0.02,
          0.02,
          0.02666666666666667
         ],
         "y": [
          1,
          1,
          1,
          1,
          1,
          1,
          1,
          1,
          1,
          1,
          1,
          1,
          1,
          1,
          1,
          1,
          1,
          1,
          1,
          1,
          1,
          1,
          1,
          1,
          1,
          1,
          1,
          1,
          1,
          1,
          1,
          1,
          1,
          1,
          1,
          1,
          1,
          1,
          1,
          1,
          1,
          1,
          1,
          1,
          1,
          1,
          1,
          1,
          1,
          1,
          1,
          1,
          1,
          1,
          1,
          1,
          1,
          1,
          1,
          1,
          1,
          1,
          1,
          1,
          1,
          1,
          1,
          1,
          1,
          1,
          1,
          1,
          1,
          1,
          1,
          1,
          1,
          1,
          1,
          1,
          1,
          1,
          1,
          1,
          1,
          1,
          1,
          1,
          1,
          1,
          1,
          1,
          1,
          1,
          1,
          1,
          1,
          1,
          1,
          1,
          1,
          1,
          1,
          1,
          1,
          1,
          1,
          1,
          1,
          1,
          1,
          1,
          1,
          1,
          1,
          1,
          1,
          1,
          1,
          1,
          1,
          1,
          1,
          1,
          1,
          1,
          1,
          1,
          1,
          1,
          1,
          1,
          1,
          1,
          0.8571428571428571,
          0.8333333333333333,
          0.8333333333333333,
          0.8333333333333333,
          0.8333333333333333,
          0.8333333333333333,
          0.8,
          0.8,
          0.8,
          0.8,
          0.8,
          0.8,
          0.8,
          0.75,
          0.75,
          0.75,
          0.75,
          0.75,
          0.75,
          0.75,
          0.75,
          0.75,
          0.75,
          0.75,
          0.75,
          0.75,
          0.75,
          0.75,
          0.75,
          0.75,
          0.75,
          0.75,
          0.75,
          0.75,
          0.75,
          0.75,
          0.75,
          0.75,
          0.75,
          0.75,
          0.75,
          0.75,
          0.75,
          0.75,
          0.75,
          0.75,
          0.75,
          0.75,
          0.75,
          0.75,
          0.75,
          0.75,
          0.75,
          0.75,
          0.75,
          0.75,
          0.75,
          0.75,
          0.75,
          0.75,
          0.75,
          0.75,
          0.75,
          0.75,
          0.75,
          0.75,
          0.75,
          0.75,
          0.75,
          0.75,
          0.75,
          0.75,
          0.75,
          0.75,
          0.75,
          0.75,
          0.75,
          0.75,
          0.75,
          0.75,
          0.75,
          0.75,
          0.75,
          0.75,
          0.75,
          0.75,
          0.75,
          0.75,
          0.75,
          0.75,
          0.75,
          0.75,
          0.75,
          0.75,
          0.75,
          0.75,
          0.75,
          0.75,
          0.75,
          0.75,
          0.75,
          0.75,
          0.75,
          0.75,
          0.75,
          0.75,
          0.75,
          0.75,
          0.75,
          0.75,
          0.75,
          0.75,
          0.75,
          0.75,
          0.75,
          0.75,
          0.75,
          0.75,
          0.75,
          0.75,
          0.75,
          0.75,
          0.75,
          0.75,
          0.75,
          0.75,
          0.75,
          0.75,
          0.75,
          0.75,
          0.75,
          0.75,
          0.7142857142857142,
          0.7142857142857142,
          0.7142857142857142,
          0.7142857142857142,
          0.6666666666666667,
          0.6666666666666667,
          0.6666666666666667,
          0.6666666666666667,
          0.6666666666666667,
          0.6666666666666667,
          0.6666666666666667,
          0.6666666666666667,
          0.6666666666666667,
          0.6666666666666667,
          0.6666666666666667,
          0.6666666666666667,
          0.6666666666666667,
          0.6666666666666667,
          0.6666666666666667,
          0.6666666666666667,
          0.6666666666666667,
          0.625,
          0.625,
          0.625,
          0.625,
          0.6,
          0.6,
          0.6,
          0.6,
          0.6,
          0.6,
          0.6,
          0.6,
          0.6,
          0.6,
          0.6,
          0.6,
          0.6,
          0.6,
          0.6,
          0.6,
          0.6,
          0.6,
          0.6,
          0.6,
          0.6,
          0.6,
          0.6,
          0.6,
          0.6,
          0.6,
          0.6,
          0.6,
          0.6,
          0.6,
          0.6,
          0.6,
          0.6,
          0.6,
          0.6,
          0.6,
          0.6,
          0.6,
          0.6,
          0.6,
          0.6,
          0.6,
          0.6,
          0.6,
          0.6,
          0.6,
          0.6,
          0.6,
          0.6,
          0.6,
          0.6,
          0.6,
          0.6,
          0.6,
          0.6,
          0.6,
          0.6,
          0.6,
          0.6,
          0.6,
          0.6,
          0.6,
          0.6,
          0.6,
          0.6,
          0.6,
          0.6,
          0.6,
          0.6,
          0.6,
          0.6,
          0.6,
          0.6,
          0.6,
          0.6,
          0.6,
          0.6,
          0.6,
          0.6,
          0.6,
          0.6,
          0.6,
          0.6,
          0.6,
          0.6,
          0.6,
          0.6,
          0.6,
          0.6,
          0.6,
          0.6,
          0.5714285714285714,
          0.5714285714285714,
          0.5714285714285714,
          0.5714285714285714,
          0.5555555555555556,
          0.5555555555555556,
          0.5555555555555556,
          0.5454545454545454,
          0.5,
          0.5,
          0.5,
          0.5,
          0.5,
          0.5,
          0.5,
          0.5,
          0.5,
          0.5,
          0.5,
          0.5,
          0.5,
          0.5,
          0.5,
          0.5,
          0.5,
          0.5,
          0.5,
          0.5,
          0.5,
          0.5,
          0.5,
          0.5,
          0.5,
          0.5,
          0.5,
          0.5,
          0.5,
          0.5,
          0.5,
          0.5,
          0.5,
          0.5,
          0.5,
          0.5,
          0.5,
          0.5,
          0.5,
          0.5,
          0.5,
          0.5,
          0.5,
          0.5,
          0.5,
          0.5,
          0.5,
          0.5,
          0.5,
          0.5,
          0.5,
          0.5,
          0.5,
          0.5,
          0.5,
          0.5,
          0.5,
          0.5,
          0.5,
          0.5,
          0.5,
          0.5,
          0.5,
          0.5,
          0.5,
          0.5,
          0.5,
          0.5,
          0.5,
          0.5,
          0.5,
          0.5,
          0.5,
          0.5,
          0.5,
          0.5,
          0.5,
          0.5,
          0.5,
          0.5,
          0.5,
          0.5,
          0.5,
          0.5,
          0.5
         ],
         "z": [
          50,
          50,
          50,
          50,
          50,
          50,
          50,
          50,
          37.5,
          37.5,
          37.5,
          37.5,
          37.5,
          37.5,
          37.5,
          37.5,
          37.5,
          37.5,
          37.5,
          37.5,
          37.5,
          37.5,
          37.5,
          37.5,
          37.5,
          37.5,
          37.5,
          37.5,
          37.5,
          37.5,
          37.5,
          37.5,
          37.5,
          37.5,
          37.5,
          37.5,
          37.5,
          30,
          30,
          30,
          30,
          30,
          30,
          30,
          30,
          30,
          30,
          30,
          30,
          30,
          30,
          30,
          30,
          30,
          30,
          30,
          30,
          30,
          30,
          30,
          30,
          30,
          30,
          30,
          30,
          30,
          25,
          25,
          25,
          25,
          25,
          25,
          25,
          25,
          25,
          25,
          25,
          25,
          25,
          25,
          25,
          25,
          25,
          25,
          25,
          25,
          25,
          25,
          21.428571428571427,
          21.428571428571427,
          21.428571428571427,
          21.428571428571427,
          21.428571428571427,
          21.428571428571427,
          21.428571428571427,
          21.428571428571427,
          21.428571428571427,
          21.428571428571427,
          21.428571428571427,
          18.75,
          18.75,
          18.75,
          18.75,
          18.75,
          18.75,
          18.75,
          18.75,
          18.75,
          18.75,
          16.666666666666668,
          16.666666666666668,
          16.666666666666668,
          16.666666666666668,
          16.666666666666668,
          15,
          15,
          15,
          13.636363636363637,
          13.636363636363637,
          13.636363636363637,
          13.636363636363637,
          13.636363636363637,
          9.375,
          9.375,
          9.375,
          9.375,
          9.375,
          8.823529411764707,
          8.823529411764707,
          8.823529411764707,
          8.823529411764707,
          8.823529411764707,
          8.823529411764707,
          8.823529411764707,
          7.563025210084033,
          17.857142857142854,
          15.624999999999998,
          13.888888888888888,
          7.352941176470588,
          7.352941176470588,
          30,
          30,
          24,
          24,
          15,
          7.058823529411765,
          7.058823529411765,
          37.5,
          37.5,
          37.5,
          37.5,
          37.5,
          37.5,
          37.5,
          37.5,
          37.5,
          37.5,
          37.5,
          37.5,
          37.5,
          37.5,
          37.5,
          37.5,
          37.5,
          37.5,
          37.5,
          37.5,
          37.5,
          37.5,
          37.5,
          37.5,
          37.5,
          37.5,
          37.5,
          28.124999999999996,
          28.124999999999996,
          28.124999999999996,
          28.124999999999996,
          28.124999999999996,
          28.124999999999996,
          28.124999999999996,
          28.124999999999996,
          28.124999999999996,
          28.124999999999996,
          28.124999999999996,
          28.124999999999996,
          28.124999999999996,
          28.124999999999996,
          28.124999999999996,
          28.124999999999996,
          28.124999999999996,
          28.124999999999996,
          28.124999999999996,
          28.124999999999996,
          28.124999999999996,
          28.124999999999996,
          22.5,
          22.5,
          22.5,
          22.5,
          22.5,
          22.5,
          22.5,
          22.5,
          22.5,
          18.75,
          18.75,
          18.75,
          18.75,
          18.75,
          18.75,
          18.75,
          18.75,
          18.75,
          18.75,
          18.75,
          16.07142857142857,
          16.07142857142857,
          16.07142857142857,
          16.07142857142857,
          16.07142857142857,
          16.07142857142857,
          16.07142857142857,
          16.07142857142857,
          16.07142857142857,
          16.07142857142857,
          16.07142857142857,
          16.07142857142857,
          16.07142857142857,
          16.07142857142857,
          16.07142857142857,
          16.07142857142857,
          16.07142857142857,
          16.07142857142857,
          14.062499999999998,
          14.062499999999998,
          14.062499999999998,
          14.062499999999998,
          14.062499999999998,
          14.062499999999998,
          14.062499999999998,
          14.062499999999998,
          14.062499999999998,
          14.062499999999998,
          14.062499999999998,
          14.062499999999998,
          12.5,
          12.5,
          12.5,
          12.5,
          11.25,
          11.25,
          11.25,
          11.25,
          10.227272727272727,
          7.031249999999999,
          7.031249999999999,
          7.031249999999999,
          7.031249999999999,
          7.031249999999999,
          7.031249999999999,
          7.031249999999999,
          7.031249999999999,
          7.031249999999999,
          6.61764705882353,
          6.61764705882353,
          17.857142857142854,
          13.39285714285714,
          11.904761904761903,
          6.302521008403361,
          25,
          25,
          16.666666666666668,
          16.666666666666668,
          16.666666666666668,
          16.666666666666668,
          14.285714285714286,
          14.285714285714286,
          12.5,
          12.5,
          12.5,
          12.5,
          12.5,
          9.090909090909092,
          6.25,
          6.25,
          5.882352941176472,
          15.625,
          13.392857142857142,
          10.416666666666668,
          5.514705882352941,
          30,
          30,
          30,
          30,
          30,
          30,
          30,
          30,
          30,
          30,
          30,
          30,
          30,
          30,
          30,
          30,
          30,
          30,
          30,
          30,
          30,
          30,
          30,
          30,
          30,
          22.499999999999996,
          22.499999999999996,
          22.499999999999996,
          22.499999999999996,
          22.499999999999996,
          22.499999999999996,
          22.499999999999996,
          22.499999999999996,
          22.499999999999996,
          18,
          18,
          18,
          18,
          18,
          18,
          18,
          18,
          18,
          18,
          15,
          15,
          15,
          15,
          15,
          15,
          15,
          15,
          15,
          15,
          12.857142857142856,
          12.857142857142856,
          12.857142857142856,
          12.857142857142856,
          12.857142857142856,
          12.857142857142856,
          12.857142857142856,
          12.857142857142856,
          12.857142857142856,
          11.249999999999998,
          11.249999999999998,
          11.249999999999998,
          11.249999999999998,
          11.249999999999998,
          11.249999999999998,
          11.249999999999998,
          10,
          10,
          10,
          10,
          10,
          9,
          9,
          9,
          9,
          8.181818181818182,
          8.181818181818182,
          5.624999999999999,
          5.624999999999999,
          5.624999999999999,
          5.624999999999999,
          5.624999999999999,
          5.624999999999999,
          5.294117647058823,
          5.294117647058823,
          5.294117647058823,
          5.294117647058823,
          21.428571428571427,
          14.285714285714285,
          14.285714285714285,
          10.714285714285714,
          13.88888888888889,
          11.904761904761905,
          10.416666666666666,
          9.09090909090909,
          25,
          25,
          25,
          25,
          25,
          25,
          25,
          25,
          25,
          25,
          25,
          25,
          25,
          25,
          25,
          25,
          25,
          25,
          25,
          25,
          18.75,
          18.75,
          18.75,
          18.75,
          18.75,
          18.75,
          18.75,
          18.75,
          18.75,
          18.75,
          18.75,
          18.75,
          15,
          15,
          15,
          15,
          15,
          15,
          15,
          15,
          15,
          15,
          15,
          12.5,
          12.5,
          12.5,
          12.5,
          12.5,
          12.5,
          12.5,
          12.5,
          12.5,
          12.5,
          12.5,
          12.5,
          12.5,
          10.714285714285714,
          10.714285714285714,
          10.714285714285714,
          10.714285714285714,
          10.714285714285714,
          10.714285714285714,
          10.714285714285714,
          9.375,
          9.375,
          9.375,
          9.375,
          9.375,
          9.375,
          9.375,
          8.333333333333334,
          8.333333333333334,
          8.333333333333334,
          8.333333333333334,
          7.5,
          7.5,
          7.5,
          7.5,
          7.5,
          7.5,
          7.5,
          7.5,
          6.818181818181818,
          6.25,
          4.6875
         ]
        },
        {
         "marker": {
          "color": "blue",
          "opacity": 0.5,
          "size": 5
         },
         "mode": "markers",
         "name": "Before",
         "type": "scatter3d",
         "x": [
          0.02,
          0.02,
          0.02,
          0.02,
          0.02,
          0.02666666666666667,
          0.02,
          0.02,
          0.02,
          0.02,
          0.02,
          0.02,
          0.02,
          0.02,
          0.02,
          0.02,
          0.02,
          0.02,
          0.02,
          0.02,
          0.02,
          0.02,
          0.02,
          0.02,
          0.02666666666666667,
          0.02666666666666667,
          0.02,
          0.02,
          0.02,
          0.02,
          0.02,
          0.02,
          0.02,
          0.02,
          0.02,
          0.02,
          0.02,
          0.02666666666666667,
          0.02666666666666667,
          0.02666666666666667,
          0.02666666666666667,
          0.04,
          0.04,
          0.02,
          0.02,
          0.03333333333333333,
          0.03333333333333333,
          0.02,
          0.02,
          0.02,
          0.02666666666666667,
          0.02666666666666667,
          0.02,
          0.02,
          0.02,
          0.02,
          0.02,
          0.02,
          0.02666666666666667,
          0.02,
          0.02666666666666667,
          0.02666666666666667,
          0.02,
          0.02,
          0.02666666666666667,
          0.02666666666666667,
          0.02,
          0.02,
          0.02,
          0.02,
          0.02,
          0.04,
          0.02,
          0.02,
          0.04666666666666667,
          0.04666666666666667,
          0.02,
          0.02,
          0.02,
          0.02,
          0.02,
          0.02666666666666667,
          0.02666666666666667,
          0.02666666666666667,
          0.02666666666666667,
          0.02,
          0.03333333333333333,
          0.03333333333333333,
          0.02666666666666667,
          0.02666666666666667,
          0.02,
          0.02,
          0.02,
          0.03333333333333333,
          0.03333333333333333,
          0.02,
          0.02,
          0.02,
          0.02,
          0.02,
          0.02,
          0.02666666666666667,
          0.02666666666666667,
          0.02,
          0.02,
          0.02,
          0.02,
          0.02666666666666667,
          0.02666666666666667,
          0.02,
          0.03333333333333333,
          0.03333333333333333,
          0.02,
          0.02,
          0.02666666666666667,
          0.02666666666666667,
          0.02,
          0.02,
          0.02,
          0.02,
          0.02666666666666667,
          0.02666666666666667,
          0.02,
          0.02,
          0.02,
          0.02,
          0.02,
          0.04,
          0.02,
          0.02,
          0.02,
          0.02,
          0.02,
          0.02,
          0.02,
          0.02,
          0.02666666666666667,
          0.03333333333333333,
          0.02666666666666667,
          0.02,
          0.03333333333333333,
          0.02666666666666667,
          0.03333333333333333,
          0.03333333333333333,
          0.04,
          0.02666666666666667,
          0.02,
          0.02,
          0.02,
          0.02,
          0.02,
          0.02,
          0.02,
          0.02,
          0.02,
          0.03333333333333333,
          0.03333333333333333,
          0.02,
          0.02,
          0.02,
          0.02,
          0.02,
          0.02,
          0.02,
          0.02,
          0.02,
          0.02,
          0.02,
          0.02,
          0.02,
          0.02,
          0.02,
          0.02,
          0.02,
          0.02666666666666667,
          0.02666666666666667,
          0.02666666666666667,
          0.02666666666666667,
          0.02,
          0.02,
          0.02,
          0.02,
          0.03333333333333333,
          0.03333333333333333,
          0.02,
          0.02,
          0.02,
          0.02,
          0.02,
          0.02,
          0.02,
          0.02,
          0.02666666666666667,
          0.02666666666666667,
          0.02,
          0.02,
          0.02,
          0.02,
          0.02,
          0.02666666666666667,
          0.02666666666666667,
          0.03333333333333333,
          0.03333333333333333,
          0.02,
          0.02,
          0.02,
          0.02,
          0.02,
          0.02,
          0.02666666666666667,
          0.02666666666666667,
          0.02,
          0.02,
          0.02,
          0.02,
          0.02,
          0.02,
          0.02,
          0.02,
          0.02,
          0.02,
          0.02,
          0.02,
          0.02,
          0.02,
          0.02,
          0.02,
          0.02666666666666667,
          0.02666666666666667,
          0.02,
          0.02,
          0.02,
          0.02,
          0.02666666666666667,
          0.02666666666666667,
          0.02,
          0.02,
          0.02,
          0.02666666666666667,
          0.02666666666666667,
          0.02,
          0.02,
          0.02,
          0.02,
          0.02,
          0.02,
          0.02,
          0.02,
          0.02,
          0.02,
          0.02,
          0.02,
          0.02,
          0.02,
          0.02,
          0.02,
          0.02,
          0.02,
          0.02,
          0.02,
          0.02666666666666667,
          0.02,
          0.02,
          0.02,
          0.02,
          0.02,
          0.02666666666666667,
          0.02666666666666667,
          0.02,
          0.02,
          0.02,
          0.02,
          0.02,
          0.02,
          0.02,
          0.02666666666666667,
          0.02666666666666667,
          0.02,
          0.02,
          0.02,
          0.02,
          0.02,
          0.02,
          0.02,
          0.04,
          0.04,
          0.02,
          0.02,
          0.02,
          0.02,
          0.02,
          0.02,
          0.02,
          0.02,
          0.02,
          0.03333333333333333,
          0.03333333333333333,
          0.02,
          0.02,
          0.02666666666666667,
          0.02,
          0.02,
          0.02,
          0.02,
          0.02,
          0.02,
          0.02,
          0.02,
          0.04,
          0.02,
          0.02,
          0.02,
          0.02,
          0.02,
          0.02,
          0.02,
          0.02,
          0.02,
          0.02,
          0.02,
          0.02,
          0.02,
          0.02,
          0.02,
          0.02,
          0.02666666666666667,
          0.02,
          0.02,
          0.02,
          0.02,
          0.02,
          0.02,
          0.02,
          0.02,
          0.02666666666666667,
          0.02,
          0.02,
          0.02,
          0.02,
          0.02,
          0.02666666666666667,
          0.02666666666666667,
          0.02,
          0.02,
          0.02,
          0.02,
          0.02666666666666667,
          0.02666666666666667,
          0.02,
          0.02,
          0.02,
          0.02,
          0.02,
          0.02,
          0.02,
          0.02,
          0.02,
          0.02666666666666667,
          0.02666666666666667,
          0.02,
          0.02,
          0.02,
          0.02,
          0.02,
          0.02,
          0.02,
          0.02,
          0.02,
          0.02,
          0.02666666666666667,
          0.02666666666666667,
          0.02,
          0.02,
          0.02,
          0.02,
          0.02,
          0.02666666666666667,
          0.02,
          0.02,
          0.02,
          0.02,
          0.02,
          0.03333333333333333,
          0.03333333333333333,
          0.02,
          0.03333333333333333,
          0.03333333333333333,
          0.02,
          0.02,
          0.02,
          0.02,
          0.02,
          0.02,
          0.02,
          0.02,
          0.02,
          0.02,
          0.02,
          0.02,
          0.02,
          0.02,
          0.02666666666666667,
          0.02666666666666667,
          0.02,
          0.02,
          0.02,
          0.02,
          0.02,
          0.02,
          0.02,
          0.02,
          0.02,
          0.02,
          0.02,
          0.02,
          0.02,
          0.02,
          0.02,
          0.02,
          0.02,
          0.02,
          0.02,
          0.02,
          0.02,
          0.02,
          0.02,
          0.02,
          0.02,
          0.02,
          0.02,
          0.02,
          0.02,
          0.02,
          0.02,
          0.02,
          0.02,
          0.02,
          0.02,
          0.02,
          0.02,
          0.02,
          0.02,
          0.02,
          0.02,
          0.02,
          0.02,
          0.02,
          0.02,
          0.02,
          0.02,
          0.02,
          0.02,
          0.02,
          0.02,
          0.02,
          0.02,
          0.02,
          0.02,
          0.02,
          0.02,
          0.02,
          0.02,
          0.02,
          0.02,
          0.02,
          0.02,
          0.02,
          0.02,
          0.02,
          0.02,
          0.02,
          0.02,
          0.02,
          0.02,
          0.02,
          0.02,
          0.02,
          0.02,
          0.02,
          0.04,
          0.04,
          0.04,
          0.04,
          0.04,
          0.02,
          0.02,
          0.02,
          0.02,
          0.02,
          0.02,
          0.02,
          0.02,
          0.02,
          0.02,
          0.02,
          0.02,
          0.02,
          0.02,
          0.02,
          0.02,
          0.02,
          0.02,
          0.02,
          0.02,
          0.02,
          0.02,
          0.02,
          0.02,
          0.02,
          0.02,
          0.02,
          0.02,
          0.02,
          0.02,
          0.02,
          0.02,
          0.02,
          0.02,
          0.02,
          0.02,
          0.02,
          0.02,
          0.02,
          0.02,
          0.02,
          0.02,
          0.02,
          0.02,
          0.02,
          0.02,
          0.02,
          0.02,
          0.02,
          0.02,
          0.02,
          0.02,
          0.02,
          0.02,
          0.02,
          0.02,
          0.02,
          0.02,
          0.02,
          0.02,
          0.02,
          0.02,
          0.02,
          0.02,
          0.02,
          0.02,
          0.02,
          0.02,
          0.02,
          0.02,
          0.02,
          0.02,
          0.02,
          0.02,
          0.02,
          0.02,
          0.02,
          0.02,
          0.02,
          0.02,
          0.02,
          0.02,
          0.02,
          0.02,
          0.02,
          0.02,
          0.02,
          0.02,
          0.02,
          0.02,
          0.02,
          0.02,
          0.02,
          0.02,
          0.02,
          0.02,
          0.02,
          0.02,
          0.02,
          0.02,
          0.02,
          0.02,
          0.02,
          0.02,
          0.02,
          0.02,
          0.02,
          0.02,
          0.02,
          0.02,
          0.02,
          0.02,
          0.02,
          0.02,
          0.02,
          0.02,
          0.02,
          0.02,
          0.02,
          0.02,
          0.02,
          0.02,
          0.02,
          0.02,
          0.02,
          0.02,
          0.02,
          0.02,
          0.02,
          0.02,
          0.02,
          0.02,
          0.02,
          0.02,
          0.02,
          0.02,
          0.02,
          0.02,
          0.02,
          0.02,
          0.02,
          0.02,
          0.02,
          0.02,
          0.02,
          0.02,
          0.02,
          0.02,
          0.02,
          0.02,
          0.02,
          0.02,
          0.02,
          0.02,
          0.02,
          0.02,
          0.02,
          0.02,
          0.02,
          0.02,
          0.02,
          0.02,
          0.02,
          0.02,
          0.02,
          0.02,
          0.02,
          0.02,
          0.02,
          0.02,
          0.02,
          0.02,
          0.02,
          0.02,
          0.02,
          0.02,
          0.02,
          0.02,
          0.02,
          0.02,
          0.02,
          0.02,
          0.02,
          0.02,
          0.02,
          0.02,
          0.02,
          0.02,
          0.02,
          0.02,
          0.02,
          0.02,
          0.02,
          0.02,
          0.02,
          0.02,
          0.02,
          0.02,
          0.02,
          0.02,
          0.02,
          0.02,
          0.02,
          0.02,
          0.02,
          0.02,
          0.02,
          0.02,
          0.02,
          0.02,
          0.02,
          0.02,
          0.02,
          0.02,
          0.02,
          0.02,
          0.02,
          0.02,
          0.02,
          0.02,
          0.02,
          0.02,
          0.02,
          0.02,
          0.02,
          0.02,
          0.02,
          0.02,
          0.02,
          0.02,
          0.02,
          0.02,
          0.02,
          0.02,
          0.02,
          0.02,
          0.02,
          0.02,
          0.02,
          0.02,
          0.02,
          0.02,
          0.02,
          0.02,
          0.02,
          0.02,
          0.02,
          0.02,
          0.02,
          0.02,
          0.02,
          0.02,
          0.02,
          0.02,
          0.02,
          0.02,
          0.02,
          0.02,
          0.02,
          0.02,
          0.02,
          0.02,
          0.02,
          0.02,
          0.02,
          0.02,
          0.02,
          0.02,
          0.02,
          0.02,
          0.02,
          0.02,
          0.02,
          0.02,
          0.02,
          0.02,
          0.02,
          0.02,
          0.02,
          0.02,
          0.02,
          0.02,
          0.02,
          0.02,
          0.02,
          0.02,
          0.02,
          0.02,
          0.02,
          0.02,
          0.02,
          0.02,
          0.02,
          0.02,
          0.02,
          0.02,
          0.02,
          0.02,
          0.02,
          0.02,
          0.02,
          0.02,
          0.02,
          0.02,
          0.02,
          0.02,
          0.02,
          0.02,
          0.02,
          0.02,
          0.02,
          0.02,
          0.02,
          0.02,
          0.02,
          0.02,
          0.02,
          0.02,
          0.02,
          0.02,
          0.02,
          0.02,
          0.02,
          0.02,
          0.02,
          0.02,
          0.02,
          0.02,
          0.02,
          0.02,
          0.02,
          0.02,
          0.02,
          0.02,
          0.02,
          0.02,
          0.02,
          0.02,
          0.02,
          0.02,
          0.02,
          0.02,
          0.02,
          0.02,
          0.02,
          0.02,
          0.02,
          0.02,
          0.02,
          0.02,
          0.02,
          0.02,
          0.02,
          0.02,
          0.02,
          0.02,
          0.02,
          0.02,
          0.02,
          0.02,
          0.02,
          0.02,
          0.02,
          0.02,
          0.02,
          0.02,
          0.02,
          0.02,
          0.02,
          0.02,
          0.02,
          0.02,
          0.02,
          0.02,
          0.02,
          0.02,
          0.02,
          0.02,
          0.02,
          0.02,
          0.02,
          0.02,
          0.02,
          0.02,
          0.02,
          0.02,
          0.02,
          0.02,
          0.02,
          0.02,
          0.02,
          0.02,
          0.02,
          0.02,
          0.02,
          0.02,
          0.02,
          0.02,
          0.02,
          0.02,
          0.02,
          0.02,
          0.02,
          0.02,
          0.02,
          0.02,
          0.02,
          0.02,
          0.02,
          0.02,
          0.02,
          0.02,
          0.02,
          0.02,
          0.02,
          0.02,
          0.02,
          0.02,
          0.02,
          0.02,
          0.02,
          0.02,
          0.02,
          0.02,
          0.02,
          0.02,
          0.02,
          0.02,
          0.02,
          0.02,
          0.02,
          0.02,
          0.02,
          0.02,
          0.02,
          0.02,
          0.02,
          0.02,
          0.02,
          0.02,
          0.02,
          0.02,
          0.02,
          0.02,
          0.02,
          0.02,
          0.02,
          0.02,
          0.02,
          0.02,
          0.02,
          0.02,
          0.02,
          0.02,
          0.02,
          0.02,
          0.02,
          0.02,
          0.02,
          0.02,
          0.02,
          0.02,
          0.02,
          0.02,
          0.02,
          0.02,
          0.02,
          0.02,
          0.02,
          0.02,
          0.02,
          0.02,
          0.02,
          0.02,
          0.02,
          0.02,
          0.02,
          0.02,
          0.02,
          0.02,
          0.02,
          0.02,
          0.02,
          0.02,
          0.02,
          0.02,
          0.02,
          0.02,
          0.02,
          0.02,
          0.02,
          0.02,
          0.02,
          0.02,
          0.02,
          0.02,
          0.02,
          0.02,
          0.02,
          0.02,
          0.02,
          0.02,
          0.02,
          0.02,
          0.02,
          0.02,
          0.02,
          0.02,
          0.02,
          0.02,
          0.02,
          0.02,
          0.02,
          0.02,
          0.02,
          0.02,
          0.02,
          0.02,
          0.02,
          0.02,
          0.02,
          0.02,
          0.02,
          0.02,
          0.02,
          0.02,
          0.02,
          0.02,
          0.02,
          0.02,
          0.02,
          0.02,
          0.02,
          0.02,
          0.02,
          0.02,
          0.02,
          0.02,
          0.02,
          0.02,
          0.02,
          0.02,
          0.02,
          0.02,
          0.02,
          0.02,
          0.02,
          0.02,
          0.02,
          0.02,
          0.02,
          0.02,
          0.02,
          0.02,
          0.02,
          0.02,
          0.02,
          0.02,
          0.02,
          0.02,
          0.02,
          0.02,
          0.02,
          0.02,
          0.02,
          0.02,
          0.02,
          0.02,
          0.02,
          0.02,
          0.02,
          0.02,
          0.02,
          0.02,
          0.02,
          0.02,
          0.02,
          0.02,
          0.02,
          0.02,
          0.02,
          0.02,
          0.02,
          0.02,
          0.02,
          0.02,
          0.02,
          0.02
         ],
         "y": [
          0.6,
          0.5,
          0.6,
          0.6,
          0.5,
          0.5,
          0.6,
          0.6,
          0.6,
          0.6,
          0.75,
          0.75,
          1,
          1,
          0.75,
          0.6,
          0.6,
          0.5,
          0.5,
          0.6,
          0.5,
          0.5,
          1,
          1,
          0.6666666666666667,
          0.5,
          0.5,
          0.6,
          0.6,
          0.6,
          0.75,
          0.6,
          0.75,
          0.6,
          0.6,
          0.75,
          0.75,
          0.6666666666666667,
          0.5714285714285714,
          1,
          0.5714285714285714,
          0.8571428571428571,
          0.6,
          0.6,
          0.75,
          0.8333333333333333,
          0.5,
          0.6,
          0.5,
          1,
          0.6666666666666667,
          1,
          0.5,
          0.75,
          0.5,
          0.75,
          0.75,
          0.75,
          0.8,
          0.5,
          0.5,
          0.6666666666666667,
          0.6,
          0.6,
          0.5,
          0.5,
          0.75,
          0.75,
          0.5,
          0.75,
          1,
          0.75,
          1,
          1,
          0.875,
          0.875,
          0.6,
          0.75,
          0.75,
          0.6,
          0.6,
          0.5,
          0.8,
          0.5,
          0.5714285714285714,
          0.75,
          0.625,
          0.8333333333333333,
          0.5,
          0.5,
          1,
          0.75,
          1,
          0.5555555555555556,
          0.8333333333333333,
          0.5,
          0.75,
          0.5,
          0.75,
          0.5,
          1,
          0.5714285714285714,
          0.5,
          1,
          0.5,
          0.5,
          0.75,
          0.6666666666666667,
          0.5,
          0.5,
          0.8333333333333333,
          0.8333333333333333,
          1,
          0.5,
          0.6666666666666667,
          0.8,
          0.5,
          1,
          0.5,
          0.5,
          1,
          0.5,
          0.5,
          0.5,
          0.5,
          0.5,
          0.75,
          0.8571428571428571,
          0.5,
          0.6,
          0.75,
          0.75,
          1,
          0.6,
          0.6,
          0.6,
          1,
          0.8333333333333333,
          1,
          0.6,
          0.7142857142857142,
          0.8,
          0.625,
          0.8333333333333333,
          0.6666666666666667,
          0.8,
          1,
          0.5,
          0.5,
          1,
          0.5,
          0.75,
          0.75,
          0.75,
          0.6,
          1,
          1,
          0.6,
          1,
          0.75,
          1,
          1,
          1,
          1,
          0.5,
          0.6,
          0.5,
          1,
          0.5,
          0.5,
          0.5,
          1,
          0.5,
          0.5,
          0.6666666666666667,
          0.6666666666666667,
          0.5,
          0.6666666666666667,
          0.5,
          0.5,
          0.5,
          0.5,
          0.8333333333333333,
          0.5555555555555556,
          1,
          1,
          0.5,
          0.5,
          0.75,
          0.5,
          0.5,
          0.5,
          0.5,
          0.6666666666666667,
          0.5,
          0.75,
          0.5,
          0.5,
          0.5,
          0.6666666666666667,
          0.5714285714285714,
          0.7142857142857142,
          0.625,
          0.75,
          0.75,
          0.5,
          0.6,
          0.5,
          0.5,
          0.6666666666666667,
          0.6666666666666667,
          0.75,
          0.75,
          1,
          0.5,
          0.5,
          1,
          0.75,
          0.75,
          0.6,
          1,
          0.6,
          1,
          0.6,
          0.6,
          0.5,
          0.6,
          0.8,
          0.8,
          0.6,
          0.6,
          1,
          0.6,
          0.8,
          0.5,
          0.75,
          0.75,
          0.75,
          1,
          1,
          1,
          1,
          1,
          1,
          1,
          1,
          1,
          0.5,
          1,
          1,
          0.5,
          0.5,
          0.5,
          0.5,
          0.5,
          0.5,
          1,
          0.5,
          0.5,
          0.5,
          0.5,
          0.75,
          0.75,
          0.5,
          0.75,
          0.75,
          0.6666666666666667,
          0.5,
          0.75,
          0.5,
          0.5,
          0.75,
          1,
          0.6,
          0.6,
          1,
          0.8,
          0.75,
          0.75,
          0.75,
          1,
          1,
          0.75,
          0.6,
          0.6666666666666667,
          0.5454545454545454,
          0.6,
          0.75,
          0.6,
          0.5,
          0.6,
          0.75,
          0.75,
          0.75,
          0.6,
          0.8333333333333333,
          0.7142857142857142,
          0.5,
          0.6,
          0.6666666666666667,
          0.75,
          0.5,
          0.75,
          0.5,
          0.75,
          0.6,
          1,
          1,
          0.75,
          0.5,
          0.75,
          0.6,
          1,
          1,
          1,
          1,
          1,
          0.75,
          0.5,
          0.6,
          0.5,
          0.6,
          0.6,
          0.6,
          0.75,
          0.5,
          0.5,
          0.6,
          0.75,
          1,
          0.6,
          0.75,
          0.75,
          0.75,
          0.6666666666666667,
          1,
          0.75,
          0.75,
          1,
          0.75,
          0.6666666666666667,
          1,
          0.5,
          1,
          1,
          0.6,
          0.5714285714285714,
          1,
          1,
          0.6,
          1,
          0.5,
          1,
          0.6,
          0.6,
          0.6,
          0.6,
          1,
          0.8,
          0.75,
          1,
          0.6,
          0.6,
          1,
          0.6,
          0.75,
          0.75,
          0.75,
          0.5,
          1,
          0.5,
          0.6,
          1,
          0.6,
          0.75,
          0.75,
          1,
          0.5,
          1,
          0.5,
          1,
          0.6,
          0.7142857142857142,
          0.5555555555555556,
          0.6,
          0.625,
          0.5555555555555556,
          0.6,
          0.5,
          0.5,
          0.6,
          0.75,
          1,
          1,
          1,
          1,
          0.75,
          0.5,
          0.75,
          1,
          0.5,
          0.5714285714285714,
          0.6666666666666667,
          1,
          1,
          1,
          1,
          0.6,
          0.6,
          1,
          1,
          0.5,
          1,
          0.75,
          1,
          1,
          0.5,
          1,
          1,
          1,
          1,
          0.6,
          0.6,
          0.75,
          0.75,
          0.6,
          0.5,
          0.5,
          0.75,
          1,
          0.5,
          0.75,
          0.75,
          1,
          1,
          0.75,
          0.75,
          1,
          1,
          0.5,
          1,
          0.75,
          0.5,
          0.6,
          1,
          1,
          1,
          0.6,
          1,
          0.75,
          0.6,
          0.6,
          0.5,
          1,
          0.75,
          1,
          0.6,
          0.75,
          1,
          0.75,
          0.5,
          1,
          0.75,
          1,
          0.6,
          0.5,
          1,
          0.75,
          1,
          0.75,
          0.5,
          1,
          0.5,
          1,
          1,
          1,
          1,
          0.5,
          1,
          1,
          0.8571428571428571,
          1,
          0.75,
          0.75,
          1,
          1,
          1,
          1,
          1,
          1,
          1,
          1,
          1,
          1,
          1,
          1,
          0.75,
          0.75,
          1,
          0.75,
          0.75,
          0.75,
          0.6,
          0.6,
          0.75,
          1,
          0.5,
          0.75,
          1,
          1,
          1,
          1,
          1,
          1,
          0.75,
          1,
          0.5,
          1,
          1,
          0.75,
          1,
          0.5,
          1,
          0.75,
          0.75,
          0.5,
          0.75,
          1,
          1,
          0.6,
          0.5,
          0.5,
          1,
          1,
          0.6,
          1,
          0.5,
          0.5,
          0.75,
          0.6,
          1,
          0.5,
          0.6,
          0.5,
          1,
          0.6,
          1,
          0.5,
          1,
          0.5,
          1,
          1,
          0.6,
          0.5,
          0.5,
          0.5,
          1,
          1,
          0.75,
          1,
          0.5,
          0.6,
          1,
          1,
          1,
          1,
          0.5,
          0.5,
          1,
          1,
          0.75,
          0.5,
          0.5,
          0.6,
          0.75,
          0.75,
          1,
          1,
          0.75,
          1,
          1,
          0.5,
          0.75,
          0.75,
          0.5,
          1,
          0.6,
          1,
          0.6,
          0.5,
          0.5,
          0.6,
          1,
          0.6,
          0.5,
          0.5,
          1,
          0.75,
          0.6,
          1,
          1,
          0.75,
          0.75,
          1,
          0.6,
          1,
          0.6,
          0.6,
          1,
          0.6,
          1,
          0.6,
          0.6,
          1,
          1,
          0.75,
          1,
          0.75,
          1,
          1,
          1,
          1,
          0.6,
          0.5,
          1,
          1,
          1,
          1,
          0.5,
          0.5,
          1,
          1,
          1,
          0.5,
          0.6,
          0.5,
          0.75,
          1,
          1,
          0.5,
          0.5,
          0.75,
          0.75,
          1,
          0.5,
          0.5,
          0.6,
          0.75,
          1,
          0.5,
          1,
          0.75,
          0.75,
          0.5,
          0.5,
          0.6,
          1,
          1,
          1,
          1,
          0.6,
          1,
          0.5,
          0.6,
          1,
          1,
          0.5,
          1,
          1,
          1,
          1,
          1,
          1,
          1,
          1,
          0.75,
          0.5,
          0.6,
          1,
          0.75,
          0.5,
          1,
          1,
          0.75,
          0.75,
          0.5,
          0.75,
          1,
          0.6,
          0.5,
          1,
          1,
          1,
          0.75,
          0.75,
          1,
          0.75,
          1,
          1,
          1,
          1,
          0.75,
          1,
          1,
          1,
          1,
          0.5,
          1,
          1,
          0.75,
          1,
          0.6,
          0.6,
          1,
          1,
          0.75,
          1,
          0.6,
          0.6,
          0.75,
          1,
          1,
          0.75,
          0.75,
          0.75,
          1,
          0.75,
          1,
          0.75,
          0.75,
          1,
          1,
          1,
          1,
          1,
          1,
          1,
          1,
          1,
          1,
          0.5,
          1,
          0.75,
          1,
          0.75,
          0.6,
          1,
          0.75,
          1,
          0.75,
          0.6,
          1,
          1,
          1,
          0.75,
          0.75,
          1,
          1,
          1,
          1,
          0.75,
          0.6,
          1,
          1,
          1,
          0.5,
          0.6,
          1,
          1,
          1,
          0.75,
          0.5,
          0.6,
          1,
          0.75,
          1,
          0.75,
          0.5,
          0.6,
          1,
          1,
          1,
          0.75,
          0.5,
          1,
          1,
          1,
          1,
          1,
          0.5,
          1,
          1,
          1,
          1,
          0.5,
          1,
          1,
          1,
          1,
          1,
          1,
          1,
          1,
          1,
          1,
          0.75,
          0.5,
          1,
          1,
          0.75,
          1,
          0.75,
          1,
          0.5,
          1,
          0.75,
          1,
          1,
          1,
          1,
          0.5,
          0.6,
          1,
          0.6,
          1,
          0.6,
          1,
          0.6,
          0.6,
          1,
          1,
          1,
          1,
          1,
          1,
          0.75,
          1,
          1,
          0.5,
          0.6,
          1,
          1,
          1,
          1,
          1,
          1,
          1,
          1,
          0.5,
          1,
          1,
          1,
          1,
          0.5,
          1,
          1,
          0.5,
          1,
          1,
          0.5,
          1,
          1,
          1,
          1,
          0.5,
          1,
          1,
          0.5,
          1,
          1,
          0.5,
          1,
          1,
          1,
          1,
          1,
          1,
          1,
          1,
          1,
          1,
          1,
          1,
          1,
          1,
          1,
          1,
          1,
          1,
          0.75,
          1,
          1,
          0.75,
          0.75,
          1,
          0.5,
          1,
          1,
          1,
          1,
          1,
          1,
          1,
          0.75,
          0.6,
          1,
          1,
          0.5,
          0.6,
          0.5,
          1,
          1,
          1,
          1,
          1,
          1,
          1,
          1,
          1,
          0.6,
          1,
          0.5,
          0.5,
          0.5,
          1,
          1,
          1,
          1,
          1,
          1,
          1,
          0.75,
          0.6,
          1,
          0.5,
          0.5,
          0.6,
          0.5,
          1,
          1,
          1,
          1,
          1,
          1,
          1,
          1,
          1,
          0.75,
          1,
          0.5,
          0.5,
          0.6,
          1,
          1,
          1,
          1,
          1,
          1,
          1,
          1,
          1,
          1,
          1,
          0.5,
          0.6,
          0.5,
          1,
          1,
          1,
          1,
          1,
          0.75,
          0.75,
          0.6,
          0.75,
          1,
          0.5,
          0.5,
          1,
          1,
          1,
          1,
          1,
          1,
          1,
          0.6,
          1,
          1,
          1,
          0.5,
          1,
          1,
          1,
          1,
          1,
          1,
          1,
          1,
          1,
          1,
          1,
          0.75,
          0.5,
          0.6,
          1,
          1,
          1,
          1,
          1,
          0.5,
          1,
          1,
          1,
          1,
          1,
          1,
          1,
          1,
          1,
          1,
          1,
          1,
          1,
          1,
          0.5,
          1,
          1,
          1,
          1,
          1,
          1,
          1,
          0.5,
          1,
          1,
          1,
          1,
          0.5,
          1,
          1,
          1,
          1,
          1,
          1,
          1,
          1,
          1,
          1,
          1,
          1,
          1,
          1,
          1,
          1,
          1,
          1,
          1,
          1,
          1,
          0.6,
          1,
          1,
          1,
          1,
          1,
          1,
          0.75,
          0.5,
          0.5,
          1,
          0.5,
          0.6
         ],
         "z": [
          9,
          15,
          15,
          5.294117647058823,
          7.5,
          7.5,
          18,
          18,
          12.857142857142856,
          11.249999999999998,
          6.61764705882353,
          14.062499999999998,
          21.428571428571427,
          15,
          22.5,
          22.499999999999996,
          11.249999999999998,
          12.5,
          12.5,
          15,
          15,
          25,
          25,
          18.75,
          12.5,
          12.5,
          7.5,
          18,
          18,
          22.499999999999996,
          22.5,
          22.499999999999996,
          22.5,
          8.181818181818182,
          22.499999999999996,
          22.5,
          7.031249999999999,
          14.285714285714286,
          14.285714285714285,
          21.428571428571427,
          21.428571428571427,
          12.857142857142856,
          12.857142857142856,
          12.857142857142856,
          16.07142857142857,
          12.499999999999998,
          12.5,
          15,
          15,
          15,
          25,
          25,
          6.25,
          18.75,
          18.75,
          11.25,
          28.124999999999996,
          28.124999999999996,
          12,
          9.375,
          12.5,
          12.5,
          11.249999999999998,
          11.249999999999998,
          9.375,
          9.375,
          11.25,
          18.75,
          18.75,
          7.031249999999999,
          18.75,
          6.61764705882353,
          18.75,
          18.75,
          16.40625,
          16.40625,
          22.499999999999996,
          22.5,
          14.062499999999998,
          11.249999999999998,
          11.249999999999998,
          15,
          15,
          10.714285714285714,
          10.714285714285714,
          14.062499999999998,
          15.625,
          15.624999999999998,
          9.375,
          9.375,
          16.666666666666668,
          12.5,
          8.823529411764707,
          13.88888888888889,
          13.888888888888888,
          7.5,
          12.5,
          8.333333333333334,
          12.5,
          10.714285714285714,
          21.428571428571427,
          10.714285714285714,
          10.714285714285714,
          25,
          25,
          18.75,
          18.75,
          12.5,
          12.5,
          10.714285714285714,
          20.833333333333332,
          20.833333333333332,
          25,
          25,
          20.000000000000004,
          20,
          25,
          25,
          12.5,
          12.5,
          18.75,
          18.75,
          9.375,
          4.411764705882353,
          8.333333333333334,
          7.5,
          16.07142857142857,
          7.563025210084033,
          10.714285714285714,
          5.294117647058823,
          6.61764705882353,
          37.5,
          37.5,
          5.294117647058823,
          11.249999999999998,
          10,
          8.823529411764707,
          7.352941176470588,
          8.823529411764707,
          5.294117647058823,
          6.302521008403361,
          7.058823529411765,
          5.514705882352941,
          7.352941176470588,
          5.882352941176472,
          7.058823529411765,
          16.666666666666668,
          10.714285714285714,
          9.375,
          15,
          18.75,
          18.75,
          14.062499999999998,
          7.031249999999999,
          9,
          30,
          30,
          5.624999999999999,
          37.5,
          37.5,
          18.75,
          50,
          50,
          25,
          25,
          15,
          15,
          25,
          25,
          12.5,
          12.5,
          18.75,
          8.333333333333334,
          10.714285714285714,
          16.666666666666668,
          16.666666666666668,
          12.5,
          12.5,
          12.5,
          12.5,
          8.333333333333334,
          8.333333333333334,
          13.888888888888888,
          13.88888888888889,
          16.666666666666668,
          16.666666666666668,
          9.375,
          9.375,
          14.062499999999998,
          10.714285714285714,
          12.5,
          12.5,
          12.5,
          12.5,
          10.714285714285714,
          18.75,
          18.75,
          12.5,
          12.5,
          14.285714285714286,
          14.285714285714285,
          13.39285714285714,
          13.392857142857142,
          16.07142857142857,
          16.07142857142857,
          10.714285714285714,
          10,
          9.375,
          4.411764705882353,
          16.666666666666668,
          16.666666666666668,
          14.062499999999998,
          14.062499999999998,
          25,
          25,
          25,
          25,
          28.124999999999996,
          28.124999999999996,
          5.624999999999999,
          30,
          30,
          30,
          30,
          15,
          15,
          12.857142857142856,
          24,
          24,
          18,
          18,
          30,
          30,
          15,
          15,
          28.124999999999996,
          28.124999999999996,
          16.07142857142857,
          37.5,
          37.5,
          50,
          50,
          50,
          50,
          50,
          50,
          18.75,
          25,
          25,
          25,
          25,
          7.5,
          9.375,
          9.375,
          7.5,
          9.375,
          25,
          25,
          7.5,
          9.375,
          7.5,
          11.25,
          11.25,
          7.5,
          7.031249999999999,
          7.031249999999999,
          12.5,
          12.5,
          14.062499999999998,
          7.5,
          8.333333333333334,
          37.5,
          37.5,
          12.857142857142856,
          5.624999999999999,
          30,
          30,
          28.124999999999996,
          28.124999999999996,
          37.5,
          37.5,
          37.5,
          37.5,
          10,
          9.090909090909092,
          9.09090909090909,
          8.181818181818182,
          22.5,
          22.499999999999996,
          15,
          15,
          16.07142857142857,
          28.124999999999996,
          28.124999999999996,
          9,
          17.857142857142854,
          17.857142857142854,
          15,
          15,
          6.25,
          18.75,
          18.75,
          16.07142857142857,
          10.714285714285714,
          16.07142857142857,
          12.857142857142856,
          8.823529411764707,
          8.823529411764707,
          6.61764705882353,
          4.411764705882353,
          6.61764705882353,
          5.294117647058823,
          50,
          50,
          18.75,
          18.75,
          13.636363636363637,
          10.227272727272727,
          6.818181818181818,
          10,
          15,
          15,
          5.624999999999999,
          22.499999999999996,
          22.5,
          4.6875,
          8.333333333333334,
          9,
          37.5,
          37.5,
          12.857142857142856,
          16.07142857142857,
          16.07142857142857,
          11.25,
          6.25,
          37.5,
          37.5,
          16.07142857142857,
          37.5,
          37.5,
          25,
          25,
          25,
          25,
          18.75,
          5.624999999999999,
          21.428571428571427,
          21.428571428571427,
          30,
          30,
          25,
          25,
          9.375,
          18,
          18,
          18,
          18,
          30,
          30,
          7.031249999999999,
          18.75,
          18,
          18,
          30,
          30,
          28.124999999999996,
          28.124999999999996,
          18.75,
          18.75,
          18.75,
          18.75,
          30,
          30,
          22.499999999999996,
          22.5,
          7.031249999999999,
          9.375,
          25,
          25,
          25,
          25,
          12.857142857142856,
          11.904761904761903,
          11.904761904761905,
          10,
          10.416666666666668,
          10.416666666666666,
          15,
          15,
          15,
          15,
          37.5,
          37.5,
          21.428571428571427,
          50,
          50,
          18.75,
          18.75,
          37.5,
          37.5,
          9.375,
          14.285714285714285,
          14.285714285714286,
          21.428571428571427,
          21.428571428571427,
          30,
          30,
          30,
          30,
          15,
          21.428571428571427,
          25,
          25,
          37.5,
          18.75,
          25,
          25,
          37.5,
          37.5,
          30,
          30,
          30,
          30,
          37.5,
          11.25,
          12.857142857142856,
          12.5,
          12.5,
          11.25,
          21.428571428571427,
          18.75,
          18.75,
          28.124999999999996,
          21.428571428571427,
          37.5,
          37.5,
          28.124999999999996,
          15,
          21.428571428571427,
          7.5,
          15,
          16.07142857142857,
          15,
          15,
          21.428571428571427,
          15,
          30,
          30,
          15,
          18.75,
          18,
          18,
          18.75,
          15,
          11.25,
          30,
          30,
          14.062499999999998,
          18.75,
          18.75,
          18.75,
          25,
          22.5,
          18.75,
          22.499999999999996,
          25,
          25,
          28.124999999999996,
          9.375,
          28.124999999999996,
          25,
          18.75,
          25,
          8.823529411764707,
          25,
          18.75,
          8.823529411764707,
          25,
          25,
          18.75,
          7.563025210084033,
          18.75,
          18.75,
          18.75,
          18.75,
          50,
          50,
          50,
          50,
          18.75,
          18.75,
          21.428571428571427,
          18.75,
          18.75,
          21.428571428571427,
          18.75,
          16.07142857142857,
          14.062499999999998,
          30,
          14.062499999999998,
          28.124999999999996,
          28.124999999999996,
          30,
          11.249999999999998,
          18.75,
          18.75,
          18.75,
          37.5,
          21.428571428571427,
          18.75,
          37.5,
          25,
          50,
          37.5,
          37.5,
          50,
          25,
          18.75,
          25,
          37.5,
          37.5,
          25,
          18.75,
          28.124999999999996,
          18.75,
          18.75,
          28.124999999999996,
          25,
          25,
          12.857142857142856,
          25,
          25,
          25,
          25,
          30,
          30,
          25,
          25,
          18.75,
          18,
          25,
          25,
          18,
          18.75,
          25,
          30,
          25,
          25,
          30,
          25,
          25,
          25,
          15,
          15,
          25,
          25,
          30,
          25,
          37.5,
          37.5,
          25,
          30,
          25,
          25,
          50,
          50,
          25,
          25,
          30,
          25,
          18.75,
          18.75,
          25,
          30,
          11.25,
          11.25,
          16.666666666666668,
          15,
          7.031249999999999,
          16.666666666666668,
          8.823529411764707,
          18.75,
          16.07142857142857,
          18.75,
          9.375,
          8.823529411764707,
          12.857142857142856,
          8.823529411764707,
          12.857142857142856,
          12.5,
          12.5,
          11.249999999999998,
          8.823529411764707,
          15,
          15,
          15,
          8.823529411764707,
          12.5,
          15,
          18.75,
          9.375,
          28.124999999999996,
          28.124999999999996,
          30,
          9,
          30,
          30,
          30,
          30,
          5.624999999999999,
          30,
          30,
          30,
          18.75,
          37.5,
          37.5,
          37.5,
          37.5,
          25,
          30,
          50,
          50,
          30,
          25,
          25,
          25,
          50,
          50,
          25,
          25,
          25,
          30,
          25,
          25,
          30,
          25,
          12.5,
          25,
          25,
          25,
          25,
          18.75,
          16.07142857142857,
          25,
          25,
          18.75,
          15,
          16.07142857142857,
          18.75,
          15,
          25,
          14.062499999999998,
          18.75,
          18.75,
          25,
          10,
          18.75,
          21.428571428571427,
          16.666666666666668,
          25,
          30,
          30,
          25,
          30,
          16.666666666666668,
          25,
          25,
          30,
          50,
          16.666666666666668,
          50,
          50,
          50,
          21.428571428571427,
          25,
          14.062499999999998,
          25,
          15,
          18.75,
          16.07142857142857,
          15,
          25,
          18.75,
          28.124999999999996,
          28.124999999999996,
          25,
          14.062499999999998,
          21.428571428571427,
          15,
          15,
          37.5,
          37.5,
          21.428571428571427,
          37.5,
          37.5,
          8.823529411764707,
          16.07142857142857,
          9.375,
          37.5,
          15,
          18.75,
          37.5,
          50,
          25,
          50,
          50,
          25,
          50,
          30,
          16.07142857142857,
          30,
          30,
          30,
          30,
          30,
          37.5,
          37.5,
          30,
          30,
          28.124999999999996,
          37.5,
          37.5,
          37.5,
          37.5,
          28.124999999999996,
          37.5,
          16.07142857142857,
          37.5,
          37.5,
          37.5,
          50,
          50,
          50,
          50,
          50,
          50,
          25,
          18.75,
          50,
          50,
          25,
          30,
          16.07142857142857,
          37.5,
          37.5,
          30,
          30,
          7.031249999999999,
          37.5,
          37.5,
          30,
          50,
          37.5,
          37.5,
          37.5,
          37.5,
          50,
          13.636363636363637,
          30,
          37.5,
          37.5,
          30,
          13.636363636363637,
          30,
          25,
          25,
          30,
          30,
          25,
          37.5,
          37.5,
          25,
          30,
          30,
          18.75,
          37.5,
          37.5,
          18.75,
          30,
          25,
          37.5,
          21.428571428571427,
          37.5,
          25,
          50,
          8.823529411764707,
          50,
          50,
          50,
          25,
          8.823529411764707,
          18.75,
          25,
          8.823529411764707,
          25,
          18.75,
          25,
          50,
          50,
          18.75,
          50,
          50,
          13.636363636363637,
          25,
          37.5,
          37.5,
          25,
          18.75,
          9.375,
          16.07142857142857,
          37.5,
          37.5,
          25,
          25,
          37.5,
          37.5,
          30,
          25,
          50,
          50,
          25,
          30,
          16.666666666666668,
          18,
          21.428571428571427,
          18,
          16.666666666666668,
          11.249999999999998,
          12.857142857142856,
          15,
          21.428571428571427,
          15,
          30,
          25,
          50,
          37.5,
          37.5,
          50,
          25,
          30,
          18.75,
          50,
          8.823529411764707,
          50,
          50,
          25,
          50,
          50,
          25,
          50,
          50,
          50,
          18.75,
          25,
          8.823529411764707,
          18.75,
          25,
          25,
          21.428571428571427,
          25,
          25,
          25,
          18.75,
          8.823529411764707,
          25,
          18.75,
          25,
          25,
          21.428571428571427,
          25,
          25,
          25,
          18.75,
          50,
          50,
          18.75,
          50,
          50,
          21.428571428571427,
          50,
          50,
          50,
          50,
          18.75,
          25,
          50,
          37.5,
          37.5,
          50,
          37.5,
          37.5,
          50,
          37.5,
          37.5,
          50,
          25,
          25,
          30,
          25,
          50,
          50,
          30,
          37.5,
          37.5,
          30,
          50,
          50,
          25,
          30,
          25,
          25,
          25,
          25,
          50,
          30,
          50,
          50,
          50,
          50,
          30,
          50,
          25,
          25,
          25,
          25,
          30,
          25,
          25,
          50,
          30,
          37.5,
          37.5,
          30,
          50,
          25,
          25,
          30,
          25,
          30,
          25,
          25,
          50,
          37.5,
          50,
          50,
          50,
          50,
          37.5,
          50,
          25,
          25,
          30,
          25,
          30,
          25,
          50,
          50,
          50,
          50,
          50,
          50,
          50,
          50,
          25,
          30,
          25,
          25,
          21.428571428571427,
          18.75,
          25,
          50,
          28.124999999999996,
          22.5,
          22.499999999999996,
          28.124999999999996,
          50,
          25,
          25,
          50,
          16.666666666666668,
          25,
          50,
          50,
          50,
          30,
          30,
          50,
          50,
          50,
          25,
          50,
          13.636363636363637,
          30,
          25,
          37.5,
          50,
          50,
          50,
          50,
          50,
          50,
          37.5,
          25,
          30,
          50,
          8.823529411764707,
          50,
          18.75,
          50,
          25,
          50,
          50,
          25,
          50,
          50,
          50,
          50,
          8.823529411764707,
          18.75,
          50,
          18.75,
          50,
          50,
          25,
          25,
          50,
          50,
          50,
          25,
          21.428571428571427,
          50,
          50,
          25,
          50,
          50,
          50,
          25,
          25,
          50,
          50,
          50,
          50,
          30,
          25,
          50,
          25,
          25,
          37.5,
          50,
          50,
          50,
          50,
          50,
          50,
          30,
          50,
          50,
          50,
          50,
          30,
          50,
          50,
          50,
          50,
          50,
          50,
          37.5,
          25,
          25,
          50,
          25,
          30
         ]
        },
        {
         "marker": {
          "color": "green",
          "opacity": 0.5,
          "size": 5
         },
         "mode": "markers",
         "name": "after",
         "type": "scatter3d",
         "x": [
          0.02,
          0.02,
          0.02,
          0.02,
          0.02,
          0.02666666666666667,
          0.02,
          0.02,
          0.02,
          0.02,
          0.02,
          0.02,
          0.02,
          0.02,
          0.02,
          0.02,
          0.02,
          0.02,
          0.02,
          0.02,
          0.02,
          0.02666666666666667,
          0.02666666666666667,
          0.02,
          0.02,
          0.02,
          0.02,
          0.02,
          0.02,
          0.02,
          0.02,
          0.02,
          0.02,
          0.02,
          0.02666666666666667,
          0.02666666666666667,
          0.02,
          0.02,
          0.02,
          0.02,
          0.02,
          0.02666666666666667,
          0.02666666666666667,
          0.02,
          0.02,
          0.02,
          0.02,
          0.02,
          0.02,
          0.02,
          0.02,
          0.02,
          0.02,
          0.02666666666666667,
          0.02666666666666667,
          0.02666666666666667,
          0.02666666666666667,
          0.02,
          0.03333333333333333,
          0.03333333333333333,
          0.02,
          0.02,
          0.03333333333333333,
          0.03333333333333333,
          0.02,
          0.02,
          0.02,
          0.02,
          0.02,
          0.02666666666666667,
          0.02666666666666667,
          0.02,
          0.02,
          0.02,
          0.04,
          0.02,
          0.02,
          0.02,
          0.02,
          0.02,
          0.02,
          0.02,
          0.02,
          0.02666666666666667,
          0.03333333333333333,
          0.02666666666666667,
          0.02,
          0.03333333333333333,
          0.02666666666666667,
          0.03333333333333333,
          0.03333333333333333,
          0.04,
          0.02666666666666667,
          0.02,
          0.02,
          0.02,
          0.02,
          0.02,
          0.02,
          0.02,
          0.02,
          0.03333333333333333,
          0.03333333333333333,
          0.02,
          0.02,
          0.02666666666666667,
          0.02666666666666667,
          0.02666666666666667,
          0.02666666666666667,
          0.02,
          0.02,
          0.02,
          0.02,
          0.02,
          0.02,
          0.02666666666666667,
          0.02666666666666667,
          0.02,
          0.02,
          0.02,
          0.02,
          0.02,
          0.02666666666666667,
          0.02666666666666667,
          0.03333333333333333,
          0.03333333333333333,
          0.02,
          0.02,
          0.02,
          0.02,
          0.02,
          0.02666666666666667,
          0.02666666666666667,
          0.02,
          0.02,
          0.02,
          0.02,
          0.02,
          0.02,
          0.02,
          0.02,
          0.02,
          0.02,
          0.02666666666666667,
          0.02666666666666667,
          0.02,
          0.02,
          0.02,
          0.02,
          0.02,
          0.02666666666666667,
          0.02666666666666667,
          0.02,
          0.02,
          0.02,
          0.02,
          0.02,
          0.02,
          0.02,
          0.02666666666666667,
          0.02,
          0.02,
          0.02,
          0.02,
          0.02,
          0.02666666666666667,
          0.02666666666666667,
          0.02,
          0.02,
          0.02,
          0.02,
          0.02,
          0.02,
          0.02666666666666667,
          0.02666666666666667,
          0.02,
          0.04,
          0.04,
          0.02,
          0.02,
          0.02,
          0.02,
          0.02,
          0.02,
          0.02,
          0.02,
          0.03333333333333333,
          0.03333333333333333,
          0.02,
          0.02,
          0.02666666666666667,
          0.02,
          0.02,
          0.02,
          0.02,
          0.02,
          0.02,
          0.02,
          0.02,
          0.02,
          0.02,
          0.02,
          0.02,
          0.02,
          0.02,
          0.02,
          0.02666666666666667,
          0.02,
          0.02,
          0.02,
          0.02,
          0.02,
          0.02,
          0.02,
          0.02,
          0.02666666666666667,
          0.02,
          0.02,
          0.02,
          0.02,
          0.02,
          0.02666666666666667,
          0.02666666666666667,
          0.02,
          0.02,
          0.02,
          0.02666666666666667,
          0.02666666666666667,
          0.02,
          0.02,
          0.02,
          0.02,
          0.02,
          0.02666666666666667,
          0.02666666666666667,
          0.02,
          0.02,
          0.02,
          0.02,
          0.02,
          0.02,
          0.02,
          0.02,
          0.02,
          0.02,
          0.02,
          0.02,
          0.02666666666666667,
          0.02,
          0.02,
          0.02,
          0.02,
          0.02,
          0.03333333333333333,
          0.03333333333333333,
          0.02,
          0.03333333333333333,
          0.03333333333333333,
          0.02,
          0.02,
          0.02,
          0.02,
          0.02,
          0.02,
          0.02,
          0.02666666666666667,
          0.02666666666666667,
          0.02,
          0.02,
          0.02,
          0.02,
          0.02,
          0.02,
          0.02,
          0.02,
          0.02,
          0.02,
          0.02,
          0.02,
          0.02,
          0.02,
          0.02,
          0.02,
          0.02,
          0.02,
          0.02,
          0.02,
          0.02,
          0.02,
          0.02,
          0.02,
          0.02,
          0.02,
          0.02,
          0.02,
          0.02,
          0.02,
          0.02,
          0.02,
          0.02,
          0.02,
          0.02,
          0.02,
          0.02,
          0.02,
          0.02,
          0.02,
          0.02,
          0.02,
          0.02,
          0.02,
          0.02,
          0.02,
          0.02,
          0.02,
          0.02,
          0.02,
          0.02,
          0.02,
          0.02,
          0.02,
          0.02,
          0.02,
          0.02,
          0.02,
          0.02,
          0.02,
          0.02,
          0.02,
          0.02,
          0.02,
          0.02,
          0.02,
          0.02,
          0.02,
          0.02,
          0.02,
          0.02,
          0.02,
          0.02,
          0.02,
          0.02,
          0.02,
          0.02,
          0.02,
          0.02,
          0.02,
          0.02,
          0.02,
          0.02,
          0.02,
          0.02,
          0.02,
          0.02,
          0.02,
          0.02,
          0.02,
          0.02,
          0.02,
          0.02,
          0.02,
          0.02,
          0.02,
          0.02,
          0.02,
          0.02,
          0.02,
          0.02,
          0.02,
          0.02,
          0.02,
          0.02,
          0.02,
          0.02,
          0.02,
          0.02,
          0.02,
          0.02,
          0.02,
          0.02,
          0.02,
          0.02,
          0.02,
          0.02,
          0.02,
          0.02,
          0.02,
          0.02,
          0.02,
          0.02,
          0.02,
          0.02,
          0.02,
          0.02,
          0.02,
          0.02,
          0.02,
          0.02,
          0.02,
          0.02,
          0.02,
          0.02,
          0.02,
          0.02,
          0.02,
          0.02,
          0.02,
          0.02,
          0.02,
          0.02,
          0.02,
          0.02,
          0.02,
          0.02,
          0.02,
          0.02,
          0.02,
          0.02,
          0.02,
          0.02,
          0.02,
          0.02,
          0.02,
          0.02,
          0.02,
          0.02,
          0.02,
          0.02,
          0.02,
          0.02,
          0.02,
          0.02,
          0.02,
          0.02,
          0.02,
          0.02,
          0.02,
          0.02,
          0.02,
          0.02,
          0.02,
          0.02,
          0.02,
          0.02,
          0.02,
          0.02,
          0.02,
          0.02,
          0.02,
          0.02,
          0.02,
          0.02,
          0.02,
          0.02,
          0.02,
          0.02,
          0.02,
          0.02,
          0.02,
          0.02,
          0.02,
          0.02,
          0.02,
          0.02,
          0.02,
          0.02,
          0.02,
          0.02,
          0.02,
          0.02,
          0.02,
          0.02,
          0.02,
          0.02,
          0.02
         ],
         "y": [
          0.6,
          0.5,
          0.6,
          0.6,
          0.5,
          0.5,
          0.6,
          0.6,
          0.6,
          0.75,
          0.75,
          0.75,
          0.6,
          0.6,
          0.5,
          0.5,
          0.6,
          0.5,
          0.5,
          1,
          1,
          0.6666666666666667,
          0.5,
          0.5,
          0.6,
          0.6,
          0.6,
          0.75,
          0.6,
          0.75,
          0.6,
          0.75,
          0.6,
          0.75,
          0.6666666666666667,
          1,
          0.5,
          0.75,
          0.5,
          0.75,
          0.75,
          0.5,
          0.6666666666666667,
          0.6,
          0.75,
          0.75,
          0.5,
          0.75,
          0.6,
          0.75,
          0.75,
          0.6,
          0.6,
          0.5,
          0.8,
          0.5,
          0.5714285714285714,
          0.75,
          0.625,
          0.8333333333333333,
          1,
          0.75,
          0.5555555555555556,
          0.8333333333333333,
          0.5,
          0.75,
          0.5,
          0.75,
          1,
          1,
          0.5,
          0.5,
          0.5,
          0.75,
          0.8571428571428571,
          0.5,
          0.6,
          0.75,
          0.75,
          1,
          0.6,
          0.6,
          0.6,
          1,
          0.8333333333333333,
          1,
          0.6,
          0.7142857142857142,
          0.8,
          0.625,
          0.8333333333333333,
          0.6666666666666667,
          0.8,
          1,
          0.5,
          1,
          0.5,
          0.75,
          0.75,
          0.75,
          0.6,
          1,
          1,
          0.6,
          0.5,
          0.6666666666666667,
          0.6666666666666667,
          0.6666666666666667,
          0.5,
          0.5,
          0.5,
          0.75,
          0.5,
          0.5,
          0.5,
          0.5,
          0.6666666666666667,
          0.5,
          0.75,
          0.5,
          0.5,
          0.5,
          0.6666666666666667,
          0.5714285714285714,
          0.7142857142857142,
          0.625,
          0.75,
          0.75,
          0.5,
          0.6,
          0.5,
          0.6666666666666667,
          0.6666666666666667,
          0.75,
          0.75,
          0.75,
          0.75,
          0.6,
          1,
          0.6,
          1,
          0.6,
          0.6,
          0.8,
          0.8,
          1,
          0.6,
          0.75,
          0.75,
          0.75,
          1,
          1,
          0.5,
          1,
          1,
          0.5,
          0.5,
          0.5,
          0.5,
          0.5,
          0.75,
          0.75,
          0.5,
          0.75,
          0.75,
          0.6666666666666667,
          0.5,
          0.75,
          0.5,
          0.75,
          1,
          0.6,
          0.6,
          1,
          0.8,
          0.6,
          0.6666666666666667,
          0.5454545454545454,
          0.6,
          0.75,
          0.6,
          0.5,
          0.6,
          0.75,
          0.75,
          0.75,
          0.7142857142857142,
          0.8333333333333333,
          0.5,
          0.6,
          0.6666666666666667,
          0.75,
          0.5,
          0.75,
          0.5,
          0.75,
          0.6,
          1,
          0.75,
          0.5,
          0.6,
          0.5,
          0.6,
          0.6,
          0.6,
          0.75,
          0.5,
          0.5,
          0.6,
          0.75,
          1,
          0.6,
          0.75,
          0.75,
          0.75,
          0.6666666666666667,
          1,
          0.75,
          0.75,
          1,
          0.75,
          0.6666666666666667,
          1,
          0.5,
          1,
          0.6,
          0.5714285714285714,
          1,
          1,
          0.6,
          0.6,
          0.6,
          0.6,
          1,
          0.8,
          0.75,
          1,
          0.6,
          0.75,
          0.75,
          0.75,
          0.5,
          0.6,
          1,
          0.6,
          0.75,
          0.75,
          1,
          0.5,
          1,
          0.5,
          1,
          0.6,
          0.7142857142857142,
          0.5555555555555556,
          0.6,
          0.625,
          0.5555555555555556,
          0.75,
          1,
          1,
          0.75,
          0.5,
          0.75,
          1,
          0.5714285714285714,
          0.6666666666666667,
          1,
          1,
          1,
          1,
          0.6,
          0.6,
          0.75,
          1,
          1,
          0.5,
          1,
          1,
          1,
          1,
          0.6,
          0.6,
          0.75,
          1,
          0.75,
          1,
          0.75,
          0.5,
          1,
          0.75,
          0.75,
          0.75,
          0.6,
          1,
          0.75,
          1,
          0.5,
          1,
          0.75,
          0.75,
          0.5,
          1,
          0.6,
          1,
          0.6,
          0.5,
          0.5,
          0.6,
          1,
          0.6,
          0.5,
          0.5,
          1,
          0.75,
          0.6,
          1,
          1,
          0.75,
          0.75,
          1,
          0.6,
          1,
          0.6,
          0.6,
          1,
          0.6,
          1,
          0.6,
          0.6,
          0.75,
          0.75,
          1,
          0.5,
          0.5,
          1,
          0.75,
          0.6,
          0.5,
          0.75,
          1,
          0.75,
          0.5,
          0.5,
          1,
          0.75,
          1,
          0.5,
          0.6,
          1,
          0.75,
          0.5,
          1,
          1,
          0.75,
          0.75,
          0.5,
          0.75,
          1,
          0.6,
          0.5,
          1,
          1,
          1,
          0.75,
          0.75,
          1,
          1,
          1,
          0.75,
          1,
          0.75,
          1,
          0.6,
          0.6,
          1,
          1,
          0.75,
          1,
          0.6,
          0.6,
          0.75,
          1,
          1,
          0.75,
          0.75,
          0.75,
          1,
          0.75,
          1,
          0.75,
          0.75,
          1,
          0.75,
          1,
          0.75,
          0.6,
          1,
          0.75,
          1,
          0.75,
          0.6,
          1,
          1,
          1,
          0.75,
          0.6,
          1,
          1,
          1,
          0.5,
          0.6,
          1,
          1,
          1,
          0.75,
          0.5,
          0.6,
          1,
          0.75,
          1,
          0.75,
          0.5,
          0.6,
          1,
          1,
          1,
          0.75,
          0.5,
          1,
          1,
          1,
          0.75,
          0.5,
          1,
          1,
          0.75,
          1,
          0.75,
          1,
          0.5,
          1,
          0.75,
          1,
          0.6,
          1,
          0.6,
          1,
          0.6,
          0.6,
          1,
          1,
          1,
          1,
          0.75,
          0.75,
          1,
          1,
          0.75,
          0.6,
          0.5,
          0.5,
          1,
          1,
          1,
          1,
          1,
          1,
          1,
          1,
          1,
          1,
          0.75,
          0.5,
          0.6
         ],
         "z": [
          9,
          15,
          15,
          5.294117647058823,
          7.5,
          7.5,
          18,
          18,
          12.857142857142856,
          6.61764705882353,
          14.062499999999998,
          22.5,
          22.499999999999996,
          11.249999999999998,
          12.5,
          12.5,
          15,
          15,
          25,
          25,
          18.75,
          12.5,
          12.5,
          7.5,
          18,
          18,
          22.499999999999996,
          22.5,
          22.499999999999996,
          22.5,
          8.181818181818182,
          22.5,
          22.499999999999996,
          7.031249999999999,
          25,
          25,
          6.25,
          18.75,
          18.75,
          28.124999999999996,
          28.124999999999996,
          12.5,
          12.5,
          11.249999999999998,
          11.25,
          18.75,
          18.75,
          7.031249999999999,
          22.499999999999996,
          22.5,
          14.062499999999998,
          11.249999999999998,
          11.249999999999998,
          15,
          15,
          10.714285714285714,
          10.714285714285714,
          14.062499999999998,
          15.625,
          15.624999999999998,
          16.666666666666668,
          12.5,
          13.88888888888889,
          13.888888888888888,
          7.5,
          12.5,
          8.333333333333334,
          12.5,
          21.428571428571427,
          18.75,
          18.75,
          8.333333333333334,
          7.5,
          16.07142857142857,
          7.563025210084033,
          10.714285714285714,
          5.294117647058823,
          6.61764705882353,
          37.5,
          37.5,
          5.294117647058823,
          11.249999999999998,
          10,
          8.823529411764707,
          7.352941176470588,
          8.823529411764707,
          5.294117647058823,
          6.302521008403361,
          7.058823529411765,
          5.514705882352941,
          7.352941176470588,
          5.882352941176472,
          7.058823529411765,
          16.666666666666668,
          9.375,
          15,
          18.75,
          18.75,
          14.062499999999998,
          7.031249999999999,
          9,
          30,
          30,
          5.624999999999999,
          10.714285714285714,
          16.666666666666668,
          16.666666666666668,
          12.5,
          12.5,
          9.375,
          9.375,
          14.062499999999998,
          10.714285714285714,
          12.5,
          12.5,
          12.5,
          12.5,
          10.714285714285714,
          18.75,
          18.75,
          12.5,
          12.5,
          14.285714285714286,
          14.285714285714285,
          13.39285714285714,
          13.392857142857142,
          16.07142857142857,
          16.07142857142857,
          10.714285714285714,
          10,
          9.375,
          16.666666666666668,
          16.666666666666668,
          14.062499999999998,
          14.062499999999998,
          28.124999999999996,
          28.124999999999996,
          5.624999999999999,
          30,
          30,
          30,
          30,
          12.857142857142856,
          24,
          24,
          30,
          30,
          28.124999999999996,
          28.124999999999996,
          16.07142857142857,
          37.5,
          37.5,
          25,
          25,
          25,
          25,
          7.5,
          9.375,
          9.375,
          7.5,
          11.25,
          11.25,
          7.5,
          7.031249999999999,
          7.031249999999999,
          12.5,
          12.5,
          14.062499999999998,
          8.333333333333334,
          37.5,
          37.5,
          12.857142857142856,
          5.624999999999999,
          30,
          30,
          10,
          9.090909090909092,
          9.09090909090909,
          8.181818181818182,
          22.5,
          22.499999999999996,
          15,
          15,
          16.07142857142857,
          28.124999999999996,
          28.124999999999996,
          17.857142857142854,
          17.857142857142854,
          15,
          15,
          6.25,
          18.75,
          18.75,
          16.07142857142857,
          10.714285714285714,
          16.07142857142857,
          12.857142857142856,
          13.636363636363637,
          10.227272727272727,
          6.818181818181818,
          10,
          15,
          15,
          5.624999999999999,
          22.499999999999996,
          22.5,
          4.6875,
          8.333333333333334,
          9,
          37.5,
          37.5,
          12.857142857142856,
          16.07142857142857,
          16.07142857142857,
          11.25,
          6.25,
          37.5,
          37.5,
          16.07142857142857,
          37.5,
          37.5,
          25,
          25,
          25,
          25,
          5.624999999999999,
          21.428571428571427,
          21.428571428571427,
          9.375,
          18,
          18,
          18,
          18,
          30,
          30,
          7.031249999999999,
          30,
          30,
          28.124999999999996,
          28.124999999999996,
          18.75,
          18.75,
          30,
          30,
          22.499999999999996,
          22.5,
          7.031249999999999,
          9.375,
          25,
          25,
          25,
          25,
          12.857142857142856,
          11.904761904761903,
          11.904761904761905,
          10,
          10.416666666666668,
          10.416666666666666,
          37.5,
          37.5,
          21.428571428571427,
          18.75,
          18.75,
          37.5,
          37.5,
          14.285714285714285,
          14.285714285714286,
          21.428571428571427,
          21.428571428571427,
          30,
          30,
          30,
          30,
          37.5,
          18.75,
          25,
          25,
          37.5,
          37.5,
          30,
          30,
          30,
          30,
          37.5,
          25,
          28.124999999999996,
          9.375,
          28.124999999999996,
          25,
          30,
          14.062499999999998,
          28.124999999999996,
          28.124999999999996,
          30,
          15,
          7.031249999999999,
          16.666666666666668,
          18.75,
          8.823529411764707,
          16.07142857142857,
          18.75,
          9.375,
          8.823529411764707,
          12.857142857142856,
          8.823529411764707,
          12.857142857142856,
          12.5,
          12.5,
          11.249999999999998,
          8.823529411764707,
          15,
          15,
          15,
          8.823529411764707,
          12.5,
          15,
          18.75,
          9.375,
          28.124999999999996,
          28.124999999999996,
          30,
          9,
          30,
          30,
          30,
          30,
          5.624999999999999,
          30,
          30,
          30,
          18.75,
          16.07142857142857,
          25,
          25,
          18.75,
          18.75,
          16.07142857142857,
          15,
          15,
          14.062499999999998,
          25,
          18.75,
          18.75,
          25,
          21.428571428571427,
          14.062499999999998,
          25,
          25,
          15,
          18.75,
          16.07142857142857,
          15,
          25,
          18.75,
          28.124999999999996,
          28.124999999999996,
          25,
          14.062499999999998,
          21.428571428571427,
          15,
          15,
          37.5,
          37.5,
          21.428571428571427,
          37.5,
          37.5,
          37.5,
          15,
          18.75,
          37.5,
          30,
          16.07142857142857,
          30,
          30,
          30,
          30,
          30,
          37.5,
          37.5,
          30,
          30,
          28.124999999999996,
          37.5,
          37.5,
          37.5,
          37.5,
          28.124999999999996,
          37.5,
          16.07142857142857,
          37.5,
          37.5,
          37.5,
          30,
          16.07142857142857,
          37.5,
          37.5,
          30,
          30,
          7.031249999999999,
          37.5,
          37.5,
          30,
          30,
          13.636363636363637,
          37.5,
          37.5,
          30,
          30,
          13.636363636363637,
          25,
          25,
          30,
          30,
          25,
          37.5,
          37.5,
          25,
          30,
          30,
          18.75,
          37.5,
          37.5,
          18.75,
          30,
          25,
          37.5,
          21.428571428571427,
          37.5,
          25,
          13.636363636363637,
          25,
          37.5,
          37.5,
          25,
          18.75,
          9.375,
          16.07142857142857,
          37.5,
          37.5,
          25,
          25,
          37.5,
          37.5,
          16.666666666666668,
          18,
          21.428571428571427,
          18,
          16.666666666666668,
          11.249999999999998,
          12.857142857142856,
          18.75,
          21.428571428571427,
          25,
          25,
          22.5,
          28.124999999999996,
          50,
          50,
          28.124999999999996,
          22.499999999999996,
          25,
          25,
          30,
          13.636363636363637,
          25,
          37.5,
          50,
          50,
          50,
          50,
          50,
          50,
          37.5,
          25,
          30
         ]
        }
       ],
       "layout": {
        "margin": {
         "b": 0,
         "l": 0,
         "r": 0,
         "t": 0
        },
        "scene": {
         "xaxis": {
          "title": {
           "text": "Support"
          }
         },
         "yaxis": {
          "title": {
           "text": "Confidence"
          }
         },
         "zaxis": {
          "title": {
           "text": "Lift"
          }
         }
        },
        "template": {
         "data": {
          "bar": [
           {
            "error_x": {
             "color": "#2a3f5f"
            },
            "error_y": {
             "color": "#2a3f5f"
            },
            "marker": {
             "line": {
              "color": "#E5ECF6",
              "width": 0.5
             },
             "pattern": {
              "fillmode": "overlay",
              "size": 10,
              "solidity": 0.2
             }
            },
            "type": "bar"
           }
          ],
          "barpolar": [
           {
            "marker": {
             "line": {
              "color": "#E5ECF6",
              "width": 0.5
             },
             "pattern": {
              "fillmode": "overlay",
              "size": 10,
              "solidity": 0.2
             }
            },
            "type": "barpolar"
           }
          ],
          "carpet": [
           {
            "aaxis": {
             "endlinecolor": "#2a3f5f",
             "gridcolor": "white",
             "linecolor": "white",
             "minorgridcolor": "white",
             "startlinecolor": "#2a3f5f"
            },
            "baxis": {
             "endlinecolor": "#2a3f5f",
             "gridcolor": "white",
             "linecolor": "white",
             "minorgridcolor": "white",
             "startlinecolor": "#2a3f5f"
            },
            "type": "carpet"
           }
          ],
          "choropleth": [
           {
            "colorbar": {
             "outlinewidth": 0,
             "ticks": ""
            },
            "type": "choropleth"
           }
          ],
          "contour": [
           {
            "colorbar": {
             "outlinewidth": 0,
             "ticks": ""
            },
            "colorscale": [
             [
              0,
              "#0d0887"
             ],
             [
              0.1111111111111111,
              "#46039f"
             ],
             [
              0.2222222222222222,
              "#7201a8"
             ],
             [
              0.3333333333333333,
              "#9c179e"
             ],
             [
              0.4444444444444444,
              "#bd3786"
             ],
             [
              0.5555555555555556,
              "#d8576b"
             ],
             [
              0.6666666666666666,
              "#ed7953"
             ],
             [
              0.7777777777777778,
              "#fb9f3a"
             ],
             [
              0.8888888888888888,
              "#fdca26"
             ],
             [
              1,
              "#f0f921"
             ]
            ],
            "type": "contour"
           }
          ],
          "contourcarpet": [
           {
            "colorbar": {
             "outlinewidth": 0,
             "ticks": ""
            },
            "type": "contourcarpet"
           }
          ],
          "heatmap": [
           {
            "colorbar": {
             "outlinewidth": 0,
             "ticks": ""
            },
            "colorscale": [
             [
              0,
              "#0d0887"
             ],
             [
              0.1111111111111111,
              "#46039f"
             ],
             [
              0.2222222222222222,
              "#7201a8"
             ],
             [
              0.3333333333333333,
              "#9c179e"
             ],
             [
              0.4444444444444444,
              "#bd3786"
             ],
             [
              0.5555555555555556,
              "#d8576b"
             ],
             [
              0.6666666666666666,
              "#ed7953"
             ],
             [
              0.7777777777777778,
              "#fb9f3a"
             ],
             [
              0.8888888888888888,
              "#fdca26"
             ],
             [
              1,
              "#f0f921"
             ]
            ],
            "type": "heatmap"
           }
          ],
          "heatmapgl": [
           {
            "colorbar": {
             "outlinewidth": 0,
             "ticks": ""
            },
            "colorscale": [
             [
              0,
              "#0d0887"
             ],
             [
              0.1111111111111111,
              "#46039f"
             ],
             [
              0.2222222222222222,
              "#7201a8"
             ],
             [
              0.3333333333333333,
              "#9c179e"
             ],
             [
              0.4444444444444444,
              "#bd3786"
             ],
             [
              0.5555555555555556,
              "#d8576b"
             ],
             [
              0.6666666666666666,
              "#ed7953"
             ],
             [
              0.7777777777777778,
              "#fb9f3a"
             ],
             [
              0.8888888888888888,
              "#fdca26"
             ],
             [
              1,
              "#f0f921"
             ]
            ],
            "type": "heatmapgl"
           }
          ],
          "histogram": [
           {
            "marker": {
             "pattern": {
              "fillmode": "overlay",
              "size": 10,
              "solidity": 0.2
             }
            },
            "type": "histogram"
           }
          ],
          "histogram2d": [
           {
            "colorbar": {
             "outlinewidth": 0,
             "ticks": ""
            },
            "colorscale": [
             [
              0,
              "#0d0887"
             ],
             [
              0.1111111111111111,
              "#46039f"
             ],
             [
              0.2222222222222222,
              "#7201a8"
             ],
             [
              0.3333333333333333,
              "#9c179e"
             ],
             [
              0.4444444444444444,
              "#bd3786"
             ],
             [
              0.5555555555555556,
              "#d8576b"
             ],
             [
              0.6666666666666666,
              "#ed7953"
             ],
             [
              0.7777777777777778,
              "#fb9f3a"
             ],
             [
              0.8888888888888888,
              "#fdca26"
             ],
             [
              1,
              "#f0f921"
             ]
            ],
            "type": "histogram2d"
           }
          ],
          "histogram2dcontour": [
           {
            "colorbar": {
             "outlinewidth": 0,
             "ticks": ""
            },
            "colorscale": [
             [
              0,
              "#0d0887"
             ],
             [
              0.1111111111111111,
              "#46039f"
             ],
             [
              0.2222222222222222,
              "#7201a8"
             ],
             [
              0.3333333333333333,
              "#9c179e"
             ],
             [
              0.4444444444444444,
              "#bd3786"
             ],
             [
              0.5555555555555556,
              "#d8576b"
             ],
             [
              0.6666666666666666,
              "#ed7953"
             ],
             [
              0.7777777777777778,
              "#fb9f3a"
             ],
             [
              0.8888888888888888,
              "#fdca26"
             ],
             [
              1,
              "#f0f921"
             ]
            ],
            "type": "histogram2dcontour"
           }
          ],
          "mesh3d": [
           {
            "colorbar": {
             "outlinewidth": 0,
             "ticks": ""
            },
            "type": "mesh3d"
           }
          ],
          "parcoords": [
           {
            "line": {
             "colorbar": {
              "outlinewidth": 0,
              "ticks": ""
             }
            },
            "type": "parcoords"
           }
          ],
          "pie": [
           {
            "automargin": true,
            "type": "pie"
           }
          ],
          "scatter": [
           {
            "fillpattern": {
             "fillmode": "overlay",
             "size": 10,
             "solidity": 0.2
            },
            "type": "scatter"
           }
          ],
          "scatter3d": [
           {
            "line": {
             "colorbar": {
              "outlinewidth": 0,
              "ticks": ""
             }
            },
            "marker": {
             "colorbar": {
              "outlinewidth": 0,
              "ticks": ""
             }
            },
            "type": "scatter3d"
           }
          ],
          "scattercarpet": [
           {
            "marker": {
             "colorbar": {
              "outlinewidth": 0,
              "ticks": ""
             }
            },
            "type": "scattercarpet"
           }
          ],
          "scattergeo": [
           {
            "marker": {
             "colorbar": {
              "outlinewidth": 0,
              "ticks": ""
             }
            },
            "type": "scattergeo"
           }
          ],
          "scattergl": [
           {
            "marker": {
             "colorbar": {
              "outlinewidth": 0,
              "ticks": ""
             }
            },
            "type": "scattergl"
           }
          ],
          "scattermapbox": [
           {
            "marker": {
             "colorbar": {
              "outlinewidth": 0,
              "ticks": ""
             }
            },
            "type": "scattermapbox"
           }
          ],
          "scatterpolar": [
           {
            "marker": {
             "colorbar": {
              "outlinewidth": 0,
              "ticks": ""
             }
            },
            "type": "scatterpolar"
           }
          ],
          "scatterpolargl": [
           {
            "marker": {
             "colorbar": {
              "outlinewidth": 0,
              "ticks": ""
             }
            },
            "type": "scatterpolargl"
           }
          ],
          "scatterternary": [
           {
            "marker": {
             "colorbar": {
              "outlinewidth": 0,
              "ticks": ""
             }
            },
            "type": "scatterternary"
           }
          ],
          "surface": [
           {
            "colorbar": {
             "outlinewidth": 0,
             "ticks": ""
            },
            "colorscale": [
             [
              0,
              "#0d0887"
             ],
             [
              0.1111111111111111,
              "#46039f"
             ],
             [
              0.2222222222222222,
              "#7201a8"
             ],
             [
              0.3333333333333333,
              "#9c179e"
             ],
             [
              0.4444444444444444,
              "#bd3786"
             ],
             [
              0.5555555555555556,
              "#d8576b"
             ],
             [
              0.6666666666666666,
              "#ed7953"
             ],
             [
              0.7777777777777778,
              "#fb9f3a"
             ],
             [
              0.8888888888888888,
              "#fdca26"
             ],
             [
              1,
              "#f0f921"
             ]
            ],
            "type": "surface"
           }
          ],
          "table": [
           {
            "cells": {
             "fill": {
              "color": "#EBF0F8"
             },
             "line": {
              "color": "white"
             }
            },
            "header": {
             "fill": {
              "color": "#C8D4E3"
             },
             "line": {
              "color": "white"
             }
            },
            "type": "table"
           }
          ]
         },
         "layout": {
          "annotationdefaults": {
           "arrowcolor": "#2a3f5f",
           "arrowhead": 0,
           "arrowwidth": 1
          },
          "autotypenumbers": "strict",
          "coloraxis": {
           "colorbar": {
            "outlinewidth": 0,
            "ticks": ""
           }
          },
          "colorscale": {
           "diverging": [
            [
             0,
             "#8e0152"
            ],
            [
             0.1,
             "#c51b7d"
            ],
            [
             0.2,
             "#de77ae"
            ],
            [
             0.3,
             "#f1b6da"
            ],
            [
             0.4,
             "#fde0ef"
            ],
            [
             0.5,
             "#f7f7f7"
            ],
            [
             0.6,
             "#e6f5d0"
            ],
            [
             0.7,
             "#b8e186"
            ],
            [
             0.8,
             "#7fbc41"
            ],
            [
             0.9,
             "#4d9221"
            ],
            [
             1,
             "#276419"
            ]
           ],
           "sequential": [
            [
             0,
             "#0d0887"
            ],
            [
             0.1111111111111111,
             "#46039f"
            ],
            [
             0.2222222222222222,
             "#7201a8"
            ],
            [
             0.3333333333333333,
             "#9c179e"
            ],
            [
             0.4444444444444444,
             "#bd3786"
            ],
            [
             0.5555555555555556,
             "#d8576b"
            ],
            [
             0.6666666666666666,
             "#ed7953"
            ],
            [
             0.7777777777777778,
             "#fb9f3a"
            ],
            [
             0.8888888888888888,
             "#fdca26"
            ],
            [
             1,
             "#f0f921"
            ]
           ],
           "sequentialminus": [
            [
             0,
             "#0d0887"
            ],
            [
             0.1111111111111111,
             "#46039f"
            ],
            [
             0.2222222222222222,
             "#7201a8"
            ],
            [
             0.3333333333333333,
             "#9c179e"
            ],
            [
             0.4444444444444444,
             "#bd3786"
            ],
            [
             0.5555555555555556,
             "#d8576b"
            ],
            [
             0.6666666666666666,
             "#ed7953"
            ],
            [
             0.7777777777777778,
             "#fb9f3a"
            ],
            [
             0.8888888888888888,
             "#fdca26"
            ],
            [
             1,
             "#f0f921"
            ]
           ]
          },
          "colorway": [
           "#636efa",
           "#EF553B",
           "#00cc96",
           "#ab63fa",
           "#FFA15A",
           "#19d3f3",
           "#FF6692",
           "#B6E880",
           "#FF97FF",
           "#FECB52"
          ],
          "font": {
           "color": "#2a3f5f"
          },
          "geo": {
           "bgcolor": "white",
           "lakecolor": "white",
           "landcolor": "#E5ECF6",
           "showlakes": true,
           "showland": true,
           "subunitcolor": "white"
          },
          "hoverlabel": {
           "align": "left"
          },
          "hovermode": "closest",
          "mapbox": {
           "style": "light"
          },
          "paper_bgcolor": "white",
          "plot_bgcolor": "#E5ECF6",
          "polar": {
           "angularaxis": {
            "gridcolor": "white",
            "linecolor": "white",
            "ticks": ""
           },
           "bgcolor": "#E5ECF6",
           "radialaxis": {
            "gridcolor": "white",
            "linecolor": "white",
            "ticks": ""
           }
          },
          "scene": {
           "xaxis": {
            "backgroundcolor": "#E5ECF6",
            "gridcolor": "white",
            "gridwidth": 2,
            "linecolor": "white",
            "showbackground": true,
            "ticks": "",
            "zerolinecolor": "white"
           },
           "yaxis": {
            "backgroundcolor": "#E5ECF6",
            "gridcolor": "white",
            "gridwidth": 2,
            "linecolor": "white",
            "showbackground": true,
            "ticks": "",
            "zerolinecolor": "white"
           },
           "zaxis": {
            "backgroundcolor": "#E5ECF6",
            "gridcolor": "white",
            "gridwidth": 2,
            "linecolor": "white",
            "showbackground": true,
            "ticks": "",
            "zerolinecolor": "white"
           }
          },
          "shapedefaults": {
           "line": {
            "color": "#2a3f5f"
           }
          },
          "ternary": {
           "aaxis": {
            "gridcolor": "white",
            "linecolor": "white",
            "ticks": ""
           },
           "baxis": {
            "gridcolor": "white",
            "linecolor": "white",
            "ticks": ""
           },
           "bgcolor": "#E5ECF6",
           "caxis": {
            "gridcolor": "white",
            "linecolor": "white",
            "ticks": ""
           }
          },
          "title": {
           "x": 0.05
          },
          "xaxis": {
           "automargin": true,
           "gridcolor": "white",
           "linecolor": "white",
           "ticks": "",
           "title": {
            "standoff": 15
           },
           "zerolinecolor": "white",
           "zerolinewidth": 2
          },
          "yaxis": {
           "automargin": true,
           "gridcolor": "white",
           "linecolor": "white",
           "ticks": "",
           "title": {
            "standoff": 15
           },
           "zerolinecolor": "white",
           "zerolinewidth": 2
          }
         }
        },
        "title": {
         "text": "3D Scatter Plot of Association Rules"
        }
       }
      },
      "text/html": [
       "<div>                            <div id=\"ef5ae44a-1e9f-4a04-82b0-2deb66a5ba75\" class=\"plotly-graph-div\" style=\"height:525px; width:100%;\"></div>            <script type=\"text/javascript\">                require([\"plotly\"], function(Plotly) {                    window.PLOTLYENV=window.PLOTLYENV || {};                                    if (document.getElementById(\"ef5ae44a-1e9f-4a04-82b0-2deb66a5ba75\")) {                    Plotly.newPlot(                        \"ef5ae44a-1e9f-4a04-82b0-2deb66a5ba75\",                        [{\"marker\":{\"color\":\"red\",\"opacity\":0.5,\"size\":5},\"mode\":\"markers\",\"name\":\"Common\",\"x\":[0.02,0.02,0.02,0.02,0.02,0.02,0.02,0.02,0.02,0.02666666666666667,0.02666666666666667,0.02,0.02,0.02,0.02,0.02,0.02,0.02,0.02,0.02,0.02,0.02,0.02,0.02,0.02,0.02,0.02,0.02,0.02,0.02,0.02,0.02,0.02,0.02,0.02,0.02,0.02,0.03333333333333333,0.03333333333333333,0.02,0.02,0.02,0.02666666666666667,0.02666666666666667,0.02,0.02,0.02,0.02,0.02,0.02,0.02,0.02,0.02,0.02,0.02,0.02,0.02,0.02,0.02,0.02,0.02,0.02,0.02,0.02,0.02,0.02,0.02,0.02666666666666667,0.02,0.02,0.02666666666666667,0.02,0.02,0.02,0.02,0.02,0.02,0.02,0.02,0.02,0.02,0.02,0.02,0.02,0.02,0.02,0.02,0.02,0.02,0.02666666666666667,0.02,0.02,0.02,0.02,0.02,0.02,0.02,0.02,0.02,0.02,0.02666666666666667,0.02,0.02,0.02,0.02,0.02,0.02,0.02,0.02,0.02,0.02,0.02,0.02,0.02,0.02,0.02,0.02,0.02,0.02,0.02,0.02,0.02,0.02,0.02666666666666667,0.02,0.02,0.02,0.02666666666666667,0.02666666666666667,0.02,0.02,0.02,0.02,0.02,0.04,0.03333333333333333,0.03333333333333333,0.03333333333333333,0.03333333333333333,0.03333333333333333,0.02666666666666667,0.02666666666666667,0.02666666666666667,0.02666666666666667,0.02666666666666667,0.02666666666666667,0.02666666666666667,0.02,0.02,0.02,0.02,0.02,0.02,0.02,0.02,0.02,0.02,0.02,0.02,0.02,0.02,0.02,0.02,0.02,0.02,0.02,0.02,0.02,0.02,0.02,0.02,0.02,0.02,0.02,0.02,0.02,0.02,0.02,0.02,0.02,0.02,0.02,0.02,0.02,0.02,0.02,0.02,0.02,0.02,0.02,0.02,0.02,0.02,0.02,0.02,0.02,0.02,0.02,0.02,0.02,0.02,0.02,0.02,0.02,0.02,0.02,0.02,0.02,0.02,0.02,0.02,0.02,0.02,0.02,0.02,0.02,0.02,0.02,0.02,0.02,0.02,0.02,0.02,0.02,0.02,0.02,0.02,0.02,0.02,0.02,0.02,0.02,0.02,0.02,0.02,0.02,0.02,0.02,0.02,0.02,0.02,0.02,0.02,0.02,0.02,0.02,0.02,0.02,0.02,0.02,0.02,0.02,0.02,0.02,0.02,0.02,0.02,0.02,0.02,0.02,0.02,0.02,0.02,0.02,0.02,0.02,0.03333333333333333,0.03333333333333333,0.03333333333333333,0.03333333333333333,0.02666666666666667,0.02666666666666667,0.02666666666666667,0.02666666666666667,0.02666666666666667,0.02666666666666667,0.02666666666666667,0.02666666666666667,0.02666666666666667,0.02666666666666667,0.02666666666666667,0.02666666666666667,0.02666666666666667,0.04,0.02666666666666667,0.02666666666666667,0.04,0.03333333333333333,0.03333333333333333,0.03333333333333333,0.03333333333333333,0.02,0.02,0.02,0.02,0.02,0.02,0.02,0.02,0.02,0.02,0.02,0.02,0.02,0.02,0.02,0.02,0.02,0.02,0.02,0.02,0.02,0.02,0.02,0.02,0.02,0.02,0.02,0.02,0.02,0.02,0.02,0.02,0.02,0.02,0.02,0.02,0.02,0.02,0.02,0.02,0.02,0.02,0.02,0.02,0.02,0.02,0.02,0.02,0.02,0.02,0.02,0.02,0.02,0.02,0.02,0.02,0.02,0.02,0.02,0.02,0.02,0.02,0.02,0.02,0.02,0.02,0.02,0.02,0.02,0.02,0.02,0.02,0.02,0.02,0.02,0.02,0.02,0.02,0.02,0.02,0.02,0.02,0.02,0.02,0.02,0.02,0.02,0.02,0.02,0.02,0.02,0.02666666666666667,0.02666666666666667,0.02666666666666667,0.02666666666666667,0.03333333333333333,0.03333333333333333,0.03333333333333333,0.04,0.02,0.02,0.02,0.02,0.02,0.02,0.02,0.02,0.02,0.02,0.02,0.02,0.02,0.02,0.02,0.02,0.02,0.02,0.02,0.02,0.02,0.02,0.02666666666666667,0.02,0.02,0.02,0.02,0.02,0.02,0.02,0.02,0.02,0.02,0.02,0.02666666666666667,0.02,0.02,0.02,0.02,0.02,0.02,0.02,0.02,0.02,0.02,0.02666666666666667,0.02666666666666667,0.02666666666666667,0.02,0.02,0.02666666666666667,0.02,0.02,0.02666666666666667,0.02,0.02,0.02666666666666667,0.02,0.02,0.02,0.02,0.02,0.02,0.02,0.02,0.02,0.02,0.02,0.02,0.02,0.02,0.02,0.02,0.02,0.02,0.02666666666666667,0.02,0.02,0.02,0.02,0.02666666666666667,0.02,0.02,0.02,0.02666666666666667],\"y\":[1.0,1.0,1.0,1.0,1.0,1.0,1.0,1.0,1.0,1.0,1.0,1.0,1.0,1.0,1.0,1.0,1.0,1.0,1.0,1.0,1.0,1.0,1.0,1.0,1.0,1.0,1.0,1.0,1.0,1.0,1.0,1.0,1.0,1.0,1.0,1.0,1.0,1.0,1.0,1.0,1.0,1.0,1.0,1.0,1.0,1.0,1.0,1.0,1.0,1.0,1.0,1.0,1.0,1.0,1.0,1.0,1.0,1.0,1.0,1.0,1.0,1.0,1.0,1.0,1.0,1.0,1.0,1.0,1.0,1.0,1.0,1.0,1.0,1.0,1.0,1.0,1.0,1.0,1.0,1.0,1.0,1.0,1.0,1.0,1.0,1.0,1.0,1.0,1.0,1.0,1.0,1.0,1.0,1.0,1.0,1.0,1.0,1.0,1.0,1.0,1.0,1.0,1.0,1.0,1.0,1.0,1.0,1.0,1.0,1.0,1.0,1.0,1.0,1.0,1.0,1.0,1.0,1.0,1.0,1.0,1.0,1.0,1.0,1.0,1.0,1.0,1.0,1.0,1.0,1.0,1.0,1.0,1.0,1.0,0.8571428571428571,0.8333333333333333,0.8333333333333333,0.8333333333333333,0.8333333333333333,0.8333333333333333,0.8,0.8,0.8,0.8,0.8,0.8,0.8,0.75,0.75,0.75,0.75,0.75,0.75,0.75,0.75,0.75,0.75,0.75,0.75,0.75,0.75,0.75,0.75,0.75,0.75,0.75,0.75,0.75,0.75,0.75,0.75,0.75,0.75,0.75,0.75,0.75,0.75,0.75,0.75,0.75,0.75,0.75,0.75,0.75,0.75,0.75,0.75,0.75,0.75,0.75,0.75,0.75,0.75,0.75,0.75,0.75,0.75,0.75,0.75,0.75,0.75,0.75,0.75,0.75,0.75,0.75,0.75,0.75,0.75,0.75,0.75,0.75,0.75,0.75,0.75,0.75,0.75,0.75,0.75,0.75,0.75,0.75,0.75,0.75,0.75,0.75,0.75,0.75,0.75,0.75,0.75,0.75,0.75,0.75,0.75,0.75,0.75,0.75,0.75,0.75,0.75,0.75,0.75,0.75,0.75,0.75,0.75,0.75,0.75,0.75,0.75,0.75,0.75,0.75,0.75,0.75,0.75,0.75,0.75,0.75,0.75,0.75,0.75,0.75,0.75,0.75,0.7142857142857142,0.7142857142857142,0.7142857142857142,0.7142857142857142,0.6666666666666667,0.6666666666666667,0.6666666666666667,0.6666666666666667,0.6666666666666667,0.6666666666666667,0.6666666666666667,0.6666666666666667,0.6666666666666667,0.6666666666666667,0.6666666666666667,0.6666666666666667,0.6666666666666667,0.6666666666666667,0.6666666666666667,0.6666666666666667,0.6666666666666667,0.625,0.625,0.625,0.625,0.6,0.6,0.6,0.6,0.6,0.6,0.6,0.6,0.6,0.6,0.6,0.6,0.6,0.6,0.6,0.6,0.6,0.6,0.6,0.6,0.6,0.6,0.6,0.6,0.6,0.6,0.6,0.6,0.6,0.6,0.6,0.6,0.6,0.6,0.6,0.6,0.6,0.6,0.6,0.6,0.6,0.6,0.6,0.6,0.6,0.6,0.6,0.6,0.6,0.6,0.6,0.6,0.6,0.6,0.6,0.6,0.6,0.6,0.6,0.6,0.6,0.6,0.6,0.6,0.6,0.6,0.6,0.6,0.6,0.6,0.6,0.6,0.6,0.6,0.6,0.6,0.6,0.6,0.6,0.6,0.6,0.6,0.6,0.6,0.6,0.6,0.6,0.6,0.6,0.6,0.6,0.5714285714285714,0.5714285714285714,0.5714285714285714,0.5714285714285714,0.5555555555555556,0.5555555555555556,0.5555555555555556,0.5454545454545454,0.5,0.5,0.5,0.5,0.5,0.5,0.5,0.5,0.5,0.5,0.5,0.5,0.5,0.5,0.5,0.5,0.5,0.5,0.5,0.5,0.5,0.5,0.5,0.5,0.5,0.5,0.5,0.5,0.5,0.5,0.5,0.5,0.5,0.5,0.5,0.5,0.5,0.5,0.5,0.5,0.5,0.5,0.5,0.5,0.5,0.5,0.5,0.5,0.5,0.5,0.5,0.5,0.5,0.5,0.5,0.5,0.5,0.5,0.5,0.5,0.5,0.5,0.5,0.5,0.5,0.5,0.5,0.5,0.5,0.5,0.5,0.5,0.5,0.5,0.5,0.5,0.5,0.5,0.5,0.5,0.5,0.5,0.5,0.5,0.5],\"z\":[50.0,50.0,50.0,50.0,50.0,50.0,50.0,50.0,37.5,37.5,37.5,37.5,37.5,37.5,37.5,37.5,37.5,37.5,37.5,37.5,37.5,37.5,37.5,37.5,37.5,37.5,37.5,37.5,37.5,37.5,37.5,37.5,37.5,37.5,37.5,37.5,37.5,30.0,30.0,30.0,30.0,30.0,30.0,30.0,30.0,30.0,30.0,30.0,30.0,30.0,30.0,30.0,30.0,30.0,30.0,30.0,30.0,30.0,30.0,30.0,30.0,30.0,30.0,30.0,30.0,30.0,25.0,25.0,25.0,25.0,25.0,25.0,25.0,25.0,25.0,25.0,25.0,25.0,25.0,25.0,25.0,25.0,25.0,25.0,25.0,25.0,25.0,25.0,21.428571428571427,21.428571428571427,21.428571428571427,21.428571428571427,21.428571428571427,21.428571428571427,21.428571428571427,21.428571428571427,21.428571428571427,21.428571428571427,21.428571428571427,18.75,18.75,18.75,18.75,18.75,18.75,18.75,18.75,18.75,18.75,16.666666666666668,16.666666666666668,16.666666666666668,16.666666666666668,16.666666666666668,15.0,15.0,15.0,13.636363636363637,13.636363636363637,13.636363636363637,13.636363636363637,13.636363636363637,9.375,9.375,9.375,9.375,9.375,8.823529411764707,8.823529411764707,8.823529411764707,8.823529411764707,8.823529411764707,8.823529411764707,8.823529411764707,7.563025210084033,17.857142857142854,15.624999999999998,13.888888888888888,7.352941176470588,7.352941176470588,30.0,30.0,24.0,24.0,15.0,7.058823529411765,7.058823529411765,37.5,37.5,37.5,37.5,37.5,37.5,37.5,37.5,37.5,37.5,37.5,37.5,37.5,37.5,37.5,37.5,37.5,37.5,37.5,37.5,37.5,37.5,37.5,37.5,37.5,37.5,37.5,28.124999999999996,28.124999999999996,28.124999999999996,28.124999999999996,28.124999999999996,28.124999999999996,28.124999999999996,28.124999999999996,28.124999999999996,28.124999999999996,28.124999999999996,28.124999999999996,28.124999999999996,28.124999999999996,28.124999999999996,28.124999999999996,28.124999999999996,28.124999999999996,28.124999999999996,28.124999999999996,28.124999999999996,28.124999999999996,22.5,22.5,22.5,22.5,22.5,22.5,22.5,22.5,22.5,18.75,18.75,18.75,18.75,18.75,18.75,18.75,18.75,18.75,18.75,18.75,16.07142857142857,16.07142857142857,16.07142857142857,16.07142857142857,16.07142857142857,16.07142857142857,16.07142857142857,16.07142857142857,16.07142857142857,16.07142857142857,16.07142857142857,16.07142857142857,16.07142857142857,16.07142857142857,16.07142857142857,16.07142857142857,16.07142857142857,16.07142857142857,14.062499999999998,14.062499999999998,14.062499999999998,14.062499999999998,14.062499999999998,14.062499999999998,14.062499999999998,14.062499999999998,14.062499999999998,14.062499999999998,14.062499999999998,14.062499999999998,12.5,12.5,12.5,12.5,11.25,11.25,11.25,11.25,10.227272727272727,7.031249999999999,7.031249999999999,7.031249999999999,7.031249999999999,7.031249999999999,7.031249999999999,7.031249999999999,7.031249999999999,7.031249999999999,6.61764705882353,6.61764705882353,17.857142857142854,13.39285714285714,11.904761904761903,6.302521008403361,25.0,25.0,16.666666666666668,16.666666666666668,16.666666666666668,16.666666666666668,14.285714285714286,14.285714285714286,12.5,12.5,12.5,12.5,12.5,9.090909090909092,6.25,6.25,5.882352941176472,15.625,13.392857142857142,10.416666666666668,5.514705882352941,30.0,30.0,30.0,30.0,30.0,30.0,30.0,30.0,30.0,30.0,30.0,30.0,30.0,30.0,30.0,30.0,30.0,30.0,30.0,30.0,30.0,30.0,30.0,30.0,30.0,22.499999999999996,22.499999999999996,22.499999999999996,22.499999999999996,22.499999999999996,22.499999999999996,22.499999999999996,22.499999999999996,22.499999999999996,18.0,18.0,18.0,18.0,18.0,18.0,18.0,18.0,18.0,18.0,15.0,15.0,15.0,15.0,15.0,15.0,15.0,15.0,15.0,15.0,12.857142857142856,12.857142857142856,12.857142857142856,12.857142857142856,12.857142857142856,12.857142857142856,12.857142857142856,12.857142857142856,12.857142857142856,11.249999999999998,11.249999999999998,11.249999999999998,11.249999999999998,11.249999999999998,11.249999999999998,11.249999999999998,10.0,10.0,10.0,10.0,10.0,9.0,9.0,9.0,9.0,8.181818181818182,8.181818181818182,5.624999999999999,5.624999999999999,5.624999999999999,5.624999999999999,5.624999999999999,5.624999999999999,5.294117647058823,5.294117647058823,5.294117647058823,5.294117647058823,21.428571428571427,14.285714285714285,14.285714285714285,10.714285714285714,13.88888888888889,11.904761904761905,10.416666666666666,9.09090909090909,25.0,25.0,25.0,25.0,25.0,25.0,25.0,25.0,25.0,25.0,25.0,25.0,25.0,25.0,25.0,25.0,25.0,25.0,25.0,25.0,18.75,18.75,18.75,18.75,18.75,18.75,18.75,18.75,18.75,18.75,18.75,18.75,15.0,15.0,15.0,15.0,15.0,15.0,15.0,15.0,15.0,15.0,15.0,12.5,12.5,12.5,12.5,12.5,12.5,12.5,12.5,12.5,12.5,12.5,12.5,12.5,10.714285714285714,10.714285714285714,10.714285714285714,10.714285714285714,10.714285714285714,10.714285714285714,10.714285714285714,9.375,9.375,9.375,9.375,9.375,9.375,9.375,8.333333333333334,8.333333333333334,8.333333333333334,8.333333333333334,7.5,7.5,7.5,7.5,7.5,7.5,7.5,7.5,6.818181818181818,6.25,4.6875],\"type\":\"scatter3d\"},{\"marker\":{\"color\":\"blue\",\"opacity\":0.5,\"size\":5},\"mode\":\"markers\",\"name\":\"Before\",\"x\":[0.02,0.02,0.02,0.02,0.02,0.02666666666666667,0.02,0.02,0.02,0.02,0.02,0.02,0.02,0.02,0.02,0.02,0.02,0.02,0.02,0.02,0.02,0.02,0.02,0.02,0.02666666666666667,0.02666666666666667,0.02,0.02,0.02,0.02,0.02,0.02,0.02,0.02,0.02,0.02,0.02,0.02666666666666667,0.02666666666666667,0.02666666666666667,0.02666666666666667,0.04,0.04,0.02,0.02,0.03333333333333333,0.03333333333333333,0.02,0.02,0.02,0.02666666666666667,0.02666666666666667,0.02,0.02,0.02,0.02,0.02,0.02,0.02666666666666667,0.02,0.02666666666666667,0.02666666666666667,0.02,0.02,0.02666666666666667,0.02666666666666667,0.02,0.02,0.02,0.02,0.02,0.04,0.02,0.02,0.04666666666666667,0.04666666666666667,0.02,0.02,0.02,0.02,0.02,0.02666666666666667,0.02666666666666667,0.02666666666666667,0.02666666666666667,0.02,0.03333333333333333,0.03333333333333333,0.02666666666666667,0.02666666666666667,0.02,0.02,0.02,0.03333333333333333,0.03333333333333333,0.02,0.02,0.02,0.02,0.02,0.02,0.02666666666666667,0.02666666666666667,0.02,0.02,0.02,0.02,0.02666666666666667,0.02666666666666667,0.02,0.03333333333333333,0.03333333333333333,0.02,0.02,0.02666666666666667,0.02666666666666667,0.02,0.02,0.02,0.02,0.02666666666666667,0.02666666666666667,0.02,0.02,0.02,0.02,0.02,0.04,0.02,0.02,0.02,0.02,0.02,0.02,0.02,0.02,0.02666666666666667,0.03333333333333333,0.02666666666666667,0.02,0.03333333333333333,0.02666666666666667,0.03333333333333333,0.03333333333333333,0.04,0.02666666666666667,0.02,0.02,0.02,0.02,0.02,0.02,0.02,0.02,0.02,0.03333333333333333,0.03333333333333333,0.02,0.02,0.02,0.02,0.02,0.02,0.02,0.02,0.02,0.02,0.02,0.02,0.02,0.02,0.02,0.02,0.02,0.02666666666666667,0.02666666666666667,0.02666666666666667,0.02666666666666667,0.02,0.02,0.02,0.02,0.03333333333333333,0.03333333333333333,0.02,0.02,0.02,0.02,0.02,0.02,0.02,0.02,0.02666666666666667,0.02666666666666667,0.02,0.02,0.02,0.02,0.02,0.02666666666666667,0.02666666666666667,0.03333333333333333,0.03333333333333333,0.02,0.02,0.02,0.02,0.02,0.02,0.02666666666666667,0.02666666666666667,0.02,0.02,0.02,0.02,0.02,0.02,0.02,0.02,0.02,0.02,0.02,0.02,0.02,0.02,0.02,0.02,0.02666666666666667,0.02666666666666667,0.02,0.02,0.02,0.02,0.02666666666666667,0.02666666666666667,0.02,0.02,0.02,0.02666666666666667,0.02666666666666667,0.02,0.02,0.02,0.02,0.02,0.02,0.02,0.02,0.02,0.02,0.02,0.02,0.02,0.02,0.02,0.02,0.02,0.02,0.02,0.02,0.02666666666666667,0.02,0.02,0.02,0.02,0.02,0.02666666666666667,0.02666666666666667,0.02,0.02,0.02,0.02,0.02,0.02,0.02,0.02666666666666667,0.02666666666666667,0.02,0.02,0.02,0.02,0.02,0.02,0.02,0.04,0.04,0.02,0.02,0.02,0.02,0.02,0.02,0.02,0.02,0.02,0.03333333333333333,0.03333333333333333,0.02,0.02,0.02666666666666667,0.02,0.02,0.02,0.02,0.02,0.02,0.02,0.02,0.04,0.02,0.02,0.02,0.02,0.02,0.02,0.02,0.02,0.02,0.02,0.02,0.02,0.02,0.02,0.02,0.02,0.02666666666666667,0.02,0.02,0.02,0.02,0.02,0.02,0.02,0.02,0.02666666666666667,0.02,0.02,0.02,0.02,0.02,0.02666666666666667,0.02666666666666667,0.02,0.02,0.02,0.02,0.02666666666666667,0.02666666666666667,0.02,0.02,0.02,0.02,0.02,0.02,0.02,0.02,0.02,0.02666666666666667,0.02666666666666667,0.02,0.02,0.02,0.02,0.02,0.02,0.02,0.02,0.02,0.02,0.02666666666666667,0.02666666666666667,0.02,0.02,0.02,0.02,0.02,0.02666666666666667,0.02,0.02,0.02,0.02,0.02,0.03333333333333333,0.03333333333333333,0.02,0.03333333333333333,0.03333333333333333,0.02,0.02,0.02,0.02,0.02,0.02,0.02,0.02,0.02,0.02,0.02,0.02,0.02,0.02,0.02666666666666667,0.02666666666666667,0.02,0.02,0.02,0.02,0.02,0.02,0.02,0.02,0.02,0.02,0.02,0.02,0.02,0.02,0.02,0.02,0.02,0.02,0.02,0.02,0.02,0.02,0.02,0.02,0.02,0.02,0.02,0.02,0.02,0.02,0.02,0.02,0.02,0.02,0.02,0.02,0.02,0.02,0.02,0.02,0.02,0.02,0.02,0.02,0.02,0.02,0.02,0.02,0.02,0.02,0.02,0.02,0.02,0.02,0.02,0.02,0.02,0.02,0.02,0.02,0.02,0.02,0.02,0.02,0.02,0.02,0.02,0.02,0.02,0.02,0.02,0.02,0.02,0.02,0.02,0.02,0.04,0.04,0.04,0.04,0.04,0.02,0.02,0.02,0.02,0.02,0.02,0.02,0.02,0.02,0.02,0.02,0.02,0.02,0.02,0.02,0.02,0.02,0.02,0.02,0.02,0.02,0.02,0.02,0.02,0.02,0.02,0.02,0.02,0.02,0.02,0.02,0.02,0.02,0.02,0.02,0.02,0.02,0.02,0.02,0.02,0.02,0.02,0.02,0.02,0.02,0.02,0.02,0.02,0.02,0.02,0.02,0.02,0.02,0.02,0.02,0.02,0.02,0.02,0.02,0.02,0.02,0.02,0.02,0.02,0.02,0.02,0.02,0.02,0.02,0.02,0.02,0.02,0.02,0.02,0.02,0.02,0.02,0.02,0.02,0.02,0.02,0.02,0.02,0.02,0.02,0.02,0.02,0.02,0.02,0.02,0.02,0.02,0.02,0.02,0.02,0.02,0.02,0.02,0.02,0.02,0.02,0.02,0.02,0.02,0.02,0.02,0.02,0.02,0.02,0.02,0.02,0.02,0.02,0.02,0.02,0.02,0.02,0.02,0.02,0.02,0.02,0.02,0.02,0.02,0.02,0.02,0.02,0.02,0.02,0.02,0.02,0.02,0.02,0.02,0.02,0.02,0.02,0.02,0.02,0.02,0.02,0.02,0.02,0.02,0.02,0.02,0.02,0.02,0.02,0.02,0.02,0.02,0.02,0.02,0.02,0.02,0.02,0.02,0.02,0.02,0.02,0.02,0.02,0.02,0.02,0.02,0.02,0.02,0.02,0.02,0.02,0.02,0.02,0.02,0.02,0.02,0.02,0.02,0.02,0.02,0.02,0.02,0.02,0.02,0.02,0.02,0.02,0.02,0.02,0.02,0.02,0.02,0.02,0.02,0.02,0.02,0.02,0.02,0.02,0.02,0.02,0.02,0.02,0.02,0.02,0.02,0.02,0.02,0.02,0.02,0.02,0.02,0.02,0.02,0.02,0.02,0.02,0.02,0.02,0.02,0.02,0.02,0.02,0.02,0.02,0.02,0.02,0.02,0.02,0.02,0.02,0.02,0.02,0.02,0.02,0.02,0.02,0.02,0.02,0.02,0.02,0.02,0.02,0.02,0.02,0.02,0.02,0.02,0.02,0.02,0.02,0.02,0.02,0.02,0.02,0.02,0.02,0.02,0.02,0.02,0.02,0.02,0.02,0.02,0.02,0.02,0.02,0.02,0.02,0.02,0.02,0.02,0.02,0.02,0.02,0.02,0.02,0.02,0.02,0.02,0.02,0.02,0.02,0.02,0.02,0.02,0.02,0.02,0.02,0.02,0.02,0.02,0.02,0.02,0.02,0.02,0.02,0.02,0.02,0.02,0.02,0.02,0.02,0.02,0.02,0.02,0.02,0.02,0.02,0.02,0.02,0.02,0.02,0.02,0.02,0.02,0.02,0.02,0.02,0.02,0.02,0.02,0.02,0.02,0.02,0.02,0.02,0.02,0.02,0.02,0.02,0.02,0.02,0.02,0.02,0.02,0.02,0.02,0.02,0.02,0.02,0.02,0.02,0.02,0.02,0.02,0.02,0.02,0.02,0.02,0.02,0.02,0.02,0.02,0.02,0.02,0.02,0.02,0.02,0.02,0.02,0.02,0.02,0.02,0.02,0.02,0.02,0.02,0.02,0.02,0.02,0.02,0.02,0.02,0.02,0.02,0.02,0.02,0.02,0.02,0.02,0.02,0.02,0.02,0.02,0.02,0.02,0.02,0.02,0.02,0.02,0.02,0.02,0.02,0.02,0.02,0.02,0.02,0.02,0.02,0.02,0.02,0.02,0.02,0.02,0.02,0.02,0.02,0.02,0.02,0.02,0.02,0.02,0.02,0.02,0.02,0.02,0.02,0.02,0.02,0.02,0.02,0.02,0.02,0.02,0.02,0.02,0.02,0.02,0.02,0.02,0.02,0.02,0.02,0.02,0.02,0.02,0.02,0.02,0.02,0.02,0.02,0.02,0.02,0.02,0.02,0.02,0.02,0.02,0.02,0.02,0.02,0.02,0.02,0.02,0.02,0.02,0.02,0.02,0.02,0.02,0.02,0.02,0.02,0.02,0.02,0.02,0.02,0.02,0.02,0.02,0.02,0.02,0.02,0.02,0.02,0.02,0.02,0.02,0.02,0.02,0.02,0.02,0.02,0.02,0.02,0.02,0.02,0.02,0.02,0.02,0.02,0.02,0.02,0.02,0.02,0.02,0.02,0.02,0.02,0.02,0.02,0.02,0.02,0.02,0.02,0.02,0.02,0.02,0.02,0.02,0.02,0.02,0.02,0.02,0.02,0.02,0.02,0.02,0.02,0.02,0.02,0.02,0.02,0.02,0.02,0.02,0.02,0.02,0.02,0.02,0.02,0.02,0.02,0.02,0.02,0.02,0.02,0.02,0.02,0.02,0.02,0.02,0.02,0.02,0.02,0.02,0.02,0.02,0.02,0.02,0.02,0.02,0.02,0.02,0.02,0.02,0.02,0.02,0.02,0.02,0.02,0.02,0.02,0.02,0.02,0.02,0.02,0.02,0.02,0.02,0.02,0.02,0.02,0.02,0.02,0.02,0.02,0.02,0.02,0.02,0.02,0.02,0.02,0.02,0.02,0.02,0.02],\"y\":[0.6,0.5,0.6,0.6,0.5,0.5,0.6,0.6,0.6,0.6,0.75,0.75,1.0,1.0,0.75,0.6,0.6,0.5,0.5,0.6,0.5,0.5,1.0,1.0,0.6666666666666667,0.5,0.5,0.6,0.6,0.6,0.75,0.6,0.75,0.6,0.6,0.75,0.75,0.6666666666666667,0.5714285714285714,1.0,0.5714285714285714,0.8571428571428571,0.6,0.6,0.75,0.8333333333333333,0.5,0.6,0.5,1.0,0.6666666666666667,1.0,0.5,0.75,0.5,0.75,0.75,0.75,0.8,0.5,0.5,0.6666666666666667,0.6,0.6,0.5,0.5,0.75,0.75,0.5,0.75,1.0,0.75,1.0,1.0,0.875,0.875,0.6,0.75,0.75,0.6,0.6,0.5,0.8,0.5,0.5714285714285714,0.75,0.625,0.8333333333333333,0.5,0.5,1.0,0.75,1.0,0.5555555555555556,0.8333333333333333,0.5,0.75,0.5,0.75,0.5,1.0,0.5714285714285714,0.5,1.0,0.5,0.5,0.75,0.6666666666666667,0.5,0.5,0.8333333333333333,0.8333333333333333,1.0,0.5,0.6666666666666667,0.8,0.5,1.0,0.5,0.5,1.0,0.5,0.5,0.5,0.5,0.5,0.75,0.8571428571428571,0.5,0.6,0.75,0.75,1.0,0.6,0.6,0.6,1.0,0.8333333333333333,1.0,0.6,0.7142857142857142,0.8,0.625,0.8333333333333333,0.6666666666666667,0.8,1.0,0.5,0.5,1.0,0.5,0.75,0.75,0.75,0.6,1.0,1.0,0.6,1.0,0.75,1.0,1.0,1.0,1.0,0.5,0.6,0.5,1.0,0.5,0.5,0.5,1.0,0.5,0.5,0.6666666666666667,0.6666666666666667,0.5,0.6666666666666667,0.5,0.5,0.5,0.5,0.8333333333333333,0.5555555555555556,1.0,1.0,0.5,0.5,0.75,0.5,0.5,0.5,0.5,0.6666666666666667,0.5,0.75,0.5,0.5,0.5,0.6666666666666667,0.5714285714285714,0.7142857142857142,0.625,0.75,0.75,0.5,0.6,0.5,0.5,0.6666666666666667,0.6666666666666667,0.75,0.75,1.0,0.5,0.5,1.0,0.75,0.75,0.6,1.0,0.6,1.0,0.6,0.6,0.5,0.6,0.8,0.8,0.6,0.6,1.0,0.6,0.8,0.5,0.75,0.75,0.75,1.0,1.0,1.0,1.0,1.0,1.0,1.0,1.0,1.0,0.5,1.0,1.0,0.5,0.5,0.5,0.5,0.5,0.5,1.0,0.5,0.5,0.5,0.5,0.75,0.75,0.5,0.75,0.75,0.6666666666666667,0.5,0.75,0.5,0.5,0.75,1.0,0.6,0.6,1.0,0.8,0.75,0.75,0.75,1.0,1.0,0.75,0.6,0.6666666666666667,0.5454545454545454,0.6,0.75,0.6,0.5,0.6,0.75,0.75,0.75,0.6,0.8333333333333333,0.7142857142857142,0.5,0.6,0.6666666666666667,0.75,0.5,0.75,0.5,0.75,0.6,1.0,1.0,0.75,0.5,0.75,0.6,1.0,1.0,1.0,1.0,1.0,0.75,0.5,0.6,0.5,0.6,0.6,0.6,0.75,0.5,0.5,0.6,0.75,1.0,0.6,0.75,0.75,0.75,0.6666666666666667,1.0,0.75,0.75,1.0,0.75,0.6666666666666667,1.0,0.5,1.0,1.0,0.6,0.5714285714285714,1.0,1.0,0.6,1.0,0.5,1.0,0.6,0.6,0.6,0.6,1.0,0.8,0.75,1.0,0.6,0.6,1.0,0.6,0.75,0.75,0.75,0.5,1.0,0.5,0.6,1.0,0.6,0.75,0.75,1.0,0.5,1.0,0.5,1.0,0.6,0.7142857142857142,0.5555555555555556,0.6,0.625,0.5555555555555556,0.6,0.5,0.5,0.6,0.75,1.0,1.0,1.0,1.0,0.75,0.5,0.75,1.0,0.5,0.5714285714285714,0.6666666666666667,1.0,1.0,1.0,1.0,0.6,0.6,1.0,1.0,0.5,1.0,0.75,1.0,1.0,0.5,1.0,1.0,1.0,1.0,0.6,0.6,0.75,0.75,0.6,0.5,0.5,0.75,1.0,0.5,0.75,0.75,1.0,1.0,0.75,0.75,1.0,1.0,0.5,1.0,0.75,0.5,0.6,1.0,1.0,1.0,0.6,1.0,0.75,0.6,0.6,0.5,1.0,0.75,1.0,0.6,0.75,1.0,0.75,0.5,1.0,0.75,1.0,0.6,0.5,1.0,0.75,1.0,0.75,0.5,1.0,0.5,1.0,1.0,1.0,1.0,0.5,1.0,1.0,0.8571428571428571,1.0,0.75,0.75,1.0,1.0,1.0,1.0,1.0,1.0,1.0,1.0,1.0,1.0,1.0,1.0,0.75,0.75,1.0,0.75,0.75,0.75,0.6,0.6,0.75,1.0,0.5,0.75,1.0,1.0,1.0,1.0,1.0,1.0,0.75,1.0,0.5,1.0,1.0,0.75,1.0,0.5,1.0,0.75,0.75,0.5,0.75,1.0,1.0,0.6,0.5,0.5,1.0,1.0,0.6,1.0,0.5,0.5,0.75,0.6,1.0,0.5,0.6,0.5,1.0,0.6,1.0,0.5,1.0,0.5,1.0,1.0,0.6,0.5,0.5,0.5,1.0,1.0,0.75,1.0,0.5,0.6,1.0,1.0,1.0,1.0,0.5,0.5,1.0,1.0,0.75,0.5,0.5,0.6,0.75,0.75,1.0,1.0,0.75,1.0,1.0,0.5,0.75,0.75,0.5,1.0,0.6,1.0,0.6,0.5,0.5,0.6,1.0,0.6,0.5,0.5,1.0,0.75,0.6,1.0,1.0,0.75,0.75,1.0,0.6,1.0,0.6,0.6,1.0,0.6,1.0,0.6,0.6,1.0,1.0,0.75,1.0,0.75,1.0,1.0,1.0,1.0,0.6,0.5,1.0,1.0,1.0,1.0,0.5,0.5,1.0,1.0,1.0,0.5,0.6,0.5,0.75,1.0,1.0,0.5,0.5,0.75,0.75,1.0,0.5,0.5,0.6,0.75,1.0,0.5,1.0,0.75,0.75,0.5,0.5,0.6,1.0,1.0,1.0,1.0,0.6,1.0,0.5,0.6,1.0,1.0,0.5,1.0,1.0,1.0,1.0,1.0,1.0,1.0,1.0,0.75,0.5,0.6,1.0,0.75,0.5,1.0,1.0,0.75,0.75,0.5,0.75,1.0,0.6,0.5,1.0,1.0,1.0,0.75,0.75,1.0,0.75,1.0,1.0,1.0,1.0,0.75,1.0,1.0,1.0,1.0,0.5,1.0,1.0,0.75,1.0,0.6,0.6,1.0,1.0,0.75,1.0,0.6,0.6,0.75,1.0,1.0,0.75,0.75,0.75,1.0,0.75,1.0,0.75,0.75,1.0,1.0,1.0,1.0,1.0,1.0,1.0,1.0,1.0,1.0,0.5,1.0,0.75,1.0,0.75,0.6,1.0,0.75,1.0,0.75,0.6,1.0,1.0,1.0,0.75,0.75,1.0,1.0,1.0,1.0,0.75,0.6,1.0,1.0,1.0,0.5,0.6,1.0,1.0,1.0,0.75,0.5,0.6,1.0,0.75,1.0,0.75,0.5,0.6,1.0,1.0,1.0,0.75,0.5,1.0,1.0,1.0,1.0,1.0,0.5,1.0,1.0,1.0,1.0,0.5,1.0,1.0,1.0,1.0,1.0,1.0,1.0,1.0,1.0,1.0,0.75,0.5,1.0,1.0,0.75,1.0,0.75,1.0,0.5,1.0,0.75,1.0,1.0,1.0,1.0,0.5,0.6,1.0,0.6,1.0,0.6,1.0,0.6,0.6,1.0,1.0,1.0,1.0,1.0,1.0,0.75,1.0,1.0,0.5,0.6,1.0,1.0,1.0,1.0,1.0,1.0,1.0,1.0,0.5,1.0,1.0,1.0,1.0,0.5,1.0,1.0,0.5,1.0,1.0,0.5,1.0,1.0,1.0,1.0,0.5,1.0,1.0,0.5,1.0,1.0,0.5,1.0,1.0,1.0,1.0,1.0,1.0,1.0,1.0,1.0,1.0,1.0,1.0,1.0,1.0,1.0,1.0,1.0,1.0,0.75,1.0,1.0,0.75,0.75,1.0,0.5,1.0,1.0,1.0,1.0,1.0,1.0,1.0,0.75,0.6,1.0,1.0,0.5,0.6,0.5,1.0,1.0,1.0,1.0,1.0,1.0,1.0,1.0,1.0,0.6,1.0,0.5,0.5,0.5,1.0,1.0,1.0,1.0,1.0,1.0,1.0,0.75,0.6,1.0,0.5,0.5,0.6,0.5,1.0,1.0,1.0,1.0,1.0,1.0,1.0,1.0,1.0,0.75,1.0,0.5,0.5,0.6,1.0,1.0,1.0,1.0,1.0,1.0,1.0,1.0,1.0,1.0,1.0,0.5,0.6,0.5,1.0,1.0,1.0,1.0,1.0,0.75,0.75,0.6,0.75,1.0,0.5,0.5,1.0,1.0,1.0,1.0,1.0,1.0,1.0,0.6,1.0,1.0,1.0,0.5,1.0,1.0,1.0,1.0,1.0,1.0,1.0,1.0,1.0,1.0,1.0,0.75,0.5,0.6,1.0,1.0,1.0,1.0,1.0,0.5,1.0,1.0,1.0,1.0,1.0,1.0,1.0,1.0,1.0,1.0,1.0,1.0,1.0,1.0,0.5,1.0,1.0,1.0,1.0,1.0,1.0,1.0,0.5,1.0,1.0,1.0,1.0,0.5,1.0,1.0,1.0,1.0,1.0,1.0,1.0,1.0,1.0,1.0,1.0,1.0,1.0,1.0,1.0,1.0,1.0,1.0,1.0,1.0,1.0,0.6,1.0,1.0,1.0,1.0,1.0,1.0,0.75,0.5,0.5,1.0,0.5,0.6],\"z\":[9.0,15.0,15.0,5.294117647058823,7.5,7.5,18.0,18.0,12.857142857142856,11.249999999999998,6.61764705882353,14.062499999999998,21.428571428571427,15.0,22.5,22.499999999999996,11.249999999999998,12.5,12.5,15.0,15.0,25.0,25.0,18.75,12.5,12.5,7.5,18.0,18.0,22.499999999999996,22.5,22.499999999999996,22.5,8.181818181818182,22.499999999999996,22.5,7.031249999999999,14.285714285714286,14.285714285714285,21.428571428571427,21.428571428571427,12.857142857142856,12.857142857142856,12.857142857142856,16.07142857142857,12.499999999999998,12.5,15.0,15.0,15.0,25.0,25.0,6.25,18.75,18.75,11.25,28.124999999999996,28.124999999999996,12.0,9.375,12.5,12.5,11.249999999999998,11.249999999999998,9.375,9.375,11.25,18.75,18.75,7.031249999999999,18.75,6.61764705882353,18.75,18.75,16.40625,16.40625,22.499999999999996,22.5,14.062499999999998,11.249999999999998,11.249999999999998,15.0,15.0,10.714285714285714,10.714285714285714,14.062499999999998,15.625,15.624999999999998,9.375,9.375,16.666666666666668,12.5,8.823529411764707,13.88888888888889,13.888888888888888,7.5,12.5,8.333333333333334,12.5,10.714285714285714,21.428571428571427,10.714285714285714,10.714285714285714,25.0,25.0,18.75,18.75,12.5,12.5,10.714285714285714,20.833333333333332,20.833333333333332,25.0,25.0,20.000000000000004,20.0,25.0,25.0,12.5,12.5,18.75,18.75,9.375,4.411764705882353,8.333333333333334,7.5,16.07142857142857,7.563025210084033,10.714285714285714,5.294117647058823,6.61764705882353,37.5,37.5,5.294117647058823,11.249999999999998,10.0,8.823529411764707,7.352941176470588,8.823529411764707,5.294117647058823,6.302521008403361,7.058823529411765,5.514705882352941,7.352941176470588,5.882352941176472,7.058823529411765,16.666666666666668,10.714285714285714,9.375,15.0,18.75,18.75,14.062499999999998,7.031249999999999,9.0,30.0,30.0,5.624999999999999,37.5,37.5,18.75,50.0,50.0,25.0,25.0,15.0,15.0,25.0,25.0,12.5,12.5,18.75,8.333333333333334,10.714285714285714,16.666666666666668,16.666666666666668,12.5,12.5,12.5,12.5,8.333333333333334,8.333333333333334,13.888888888888888,13.88888888888889,16.666666666666668,16.666666666666668,9.375,9.375,14.062499999999998,10.714285714285714,12.5,12.5,12.5,12.5,10.714285714285714,18.75,18.75,12.5,12.5,14.285714285714286,14.285714285714285,13.39285714285714,13.392857142857142,16.07142857142857,16.07142857142857,10.714285714285714,10.0,9.375,4.411764705882353,16.666666666666668,16.666666666666668,14.062499999999998,14.062499999999998,25.0,25.0,25.0,25.0,28.124999999999996,28.124999999999996,5.624999999999999,30.0,30.0,30.0,30.0,15.0,15.0,12.857142857142856,24.0,24.0,18.0,18.0,30.0,30.0,15.0,15.0,28.124999999999996,28.124999999999996,16.07142857142857,37.5,37.5,50.0,50.0,50.0,50.0,50.0,50.0,18.75,25.0,25.0,25.0,25.0,7.5,9.375,9.375,7.5,9.375,25.0,25.0,7.5,9.375,7.5,11.25,11.25,7.5,7.031249999999999,7.031249999999999,12.5,12.5,14.062499999999998,7.5,8.333333333333334,37.5,37.5,12.857142857142856,5.624999999999999,30.0,30.0,28.124999999999996,28.124999999999996,37.5,37.5,37.5,37.5,10.0,9.090909090909092,9.09090909090909,8.181818181818182,22.5,22.499999999999996,15.0,15.0,16.07142857142857,28.124999999999996,28.124999999999996,9.0,17.857142857142854,17.857142857142854,15.0,15.0,6.25,18.75,18.75,16.07142857142857,10.714285714285714,16.07142857142857,12.857142857142856,8.823529411764707,8.823529411764707,6.61764705882353,4.411764705882353,6.61764705882353,5.294117647058823,50.0,50.0,18.75,18.75,13.636363636363637,10.227272727272727,6.818181818181818,10.0,15.0,15.0,5.624999999999999,22.499999999999996,22.5,4.6875,8.333333333333334,9.0,37.5,37.5,12.857142857142856,16.07142857142857,16.07142857142857,11.25,6.25,37.5,37.5,16.07142857142857,37.5,37.5,25.0,25.0,25.0,25.0,18.75,5.624999999999999,21.428571428571427,21.428571428571427,30.0,30.0,25.0,25.0,9.375,18.0,18.0,18.0,18.0,30.0,30.0,7.031249999999999,18.75,18.0,18.0,30.0,30.0,28.124999999999996,28.124999999999996,18.75,18.75,18.75,18.75,30.0,30.0,22.499999999999996,22.5,7.031249999999999,9.375,25.0,25.0,25.0,25.0,12.857142857142856,11.904761904761903,11.904761904761905,10.0,10.416666666666668,10.416666666666666,15.0,15.0,15.0,15.0,37.5,37.5,21.428571428571427,50.0,50.0,18.75,18.75,37.5,37.5,9.375,14.285714285714285,14.285714285714286,21.428571428571427,21.428571428571427,30.0,30.0,30.0,30.0,15.0,21.428571428571427,25.0,25.0,37.5,18.75,25.0,25.0,37.5,37.5,30.0,30.0,30.0,30.0,37.5,11.25,12.857142857142856,12.5,12.5,11.25,21.428571428571427,18.75,18.75,28.124999999999996,21.428571428571427,37.5,37.5,28.124999999999996,15.0,21.428571428571427,7.5,15.0,16.07142857142857,15.0,15.0,21.428571428571427,15.0,30.0,30.0,15.0,18.75,18.0,18.0,18.75,15.0,11.25,30.0,30.0,14.062499999999998,18.75,18.75,18.75,25.0,22.5,18.75,22.499999999999996,25.0,25.0,28.124999999999996,9.375,28.124999999999996,25.0,18.75,25.0,8.823529411764707,25.0,18.75,8.823529411764707,25.0,25.0,18.75,7.563025210084033,18.75,18.75,18.75,18.75,50.0,50.0,50.0,50.0,18.75,18.75,21.428571428571427,18.75,18.75,21.428571428571427,18.75,16.07142857142857,14.062499999999998,30.0,14.062499999999998,28.124999999999996,28.124999999999996,30.0,11.249999999999998,18.75,18.75,18.75,37.5,21.428571428571427,18.75,37.5,25.0,50.0,37.5,37.5,50.0,25.0,18.75,25.0,37.5,37.5,25.0,18.75,28.124999999999996,18.75,18.75,28.124999999999996,25.0,25.0,12.857142857142856,25.0,25.0,25.0,25.0,30.0,30.0,25.0,25.0,18.75,18.0,25.0,25.0,18.0,18.75,25.0,30.0,25.0,25.0,30.0,25.0,25.0,25.0,15.0,15.0,25.0,25.0,30.0,25.0,37.5,37.5,25.0,30.0,25.0,25.0,50.0,50.0,25.0,25.0,30.0,25.0,18.75,18.75,25.0,30.0,11.25,11.25,16.666666666666668,15.0,7.031249999999999,16.666666666666668,8.823529411764707,18.75,16.07142857142857,18.75,9.375,8.823529411764707,12.857142857142856,8.823529411764707,12.857142857142856,12.5,12.5,11.249999999999998,8.823529411764707,15.0,15.0,15.0,8.823529411764707,12.5,15.0,18.75,9.375,28.124999999999996,28.124999999999996,30.0,9.0,30.0,30.0,30.0,30.0,5.624999999999999,30.0,30.0,30.0,18.75,37.5,37.5,37.5,37.5,25.0,30.0,50.0,50.0,30.0,25.0,25.0,25.0,50.0,50.0,25.0,25.0,25.0,30.0,25.0,25.0,30.0,25.0,12.5,25.0,25.0,25.0,25.0,18.75,16.07142857142857,25.0,25.0,18.75,15.0,16.07142857142857,18.75,15.0,25.0,14.062499999999998,18.75,18.75,25.0,10.0,18.75,21.428571428571427,16.666666666666668,25.0,30.0,30.0,25.0,30.0,16.666666666666668,25.0,25.0,30.0,50.0,16.666666666666668,50.0,50.0,50.0,21.428571428571427,25.0,14.062499999999998,25.0,15.0,18.75,16.07142857142857,15.0,25.0,18.75,28.124999999999996,28.124999999999996,25.0,14.062499999999998,21.428571428571427,15.0,15.0,37.5,37.5,21.428571428571427,37.5,37.5,8.823529411764707,16.07142857142857,9.375,37.5,15.0,18.75,37.5,50.0,25.0,50.0,50.0,25.0,50.0,30.0,16.07142857142857,30.0,30.0,30.0,30.0,30.0,37.5,37.5,30.0,30.0,28.124999999999996,37.5,37.5,37.5,37.5,28.124999999999996,37.5,16.07142857142857,37.5,37.5,37.5,50.0,50.0,50.0,50.0,50.0,50.0,25.0,18.75,50.0,50.0,25.0,30.0,16.07142857142857,37.5,37.5,30.0,30.0,7.031249999999999,37.5,37.5,30.0,50.0,37.5,37.5,37.5,37.5,50.0,13.636363636363637,30.0,37.5,37.5,30.0,13.636363636363637,30.0,25.0,25.0,30.0,30.0,25.0,37.5,37.5,25.0,30.0,30.0,18.75,37.5,37.5,18.75,30.0,25.0,37.5,21.428571428571427,37.5,25.0,50.0,8.823529411764707,50.0,50.0,50.0,25.0,8.823529411764707,18.75,25.0,8.823529411764707,25.0,18.75,25.0,50.0,50.0,18.75,50.0,50.0,13.636363636363637,25.0,37.5,37.5,25.0,18.75,9.375,16.07142857142857,37.5,37.5,25.0,25.0,37.5,37.5,30.0,25.0,50.0,50.0,25.0,30.0,16.666666666666668,18.0,21.428571428571427,18.0,16.666666666666668,11.249999999999998,12.857142857142856,15.0,21.428571428571427,15.0,30.0,25.0,50.0,37.5,37.5,50.0,25.0,30.0,18.75,50.0,8.823529411764707,50.0,50.0,25.0,50.0,50.0,25.0,50.0,50.0,50.0,18.75,25.0,8.823529411764707,18.75,25.0,25.0,21.428571428571427,25.0,25.0,25.0,18.75,8.823529411764707,25.0,18.75,25.0,25.0,21.428571428571427,25.0,25.0,25.0,18.75,50.0,50.0,18.75,50.0,50.0,21.428571428571427,50.0,50.0,50.0,50.0,18.75,25.0,50.0,37.5,37.5,50.0,37.5,37.5,50.0,37.5,37.5,50.0,25.0,25.0,30.0,25.0,50.0,50.0,30.0,37.5,37.5,30.0,50.0,50.0,25.0,30.0,25.0,25.0,25.0,25.0,50.0,30.0,50.0,50.0,50.0,50.0,30.0,50.0,25.0,25.0,25.0,25.0,30.0,25.0,25.0,50.0,30.0,37.5,37.5,30.0,50.0,25.0,25.0,30.0,25.0,30.0,25.0,25.0,50.0,37.5,50.0,50.0,50.0,50.0,37.5,50.0,25.0,25.0,30.0,25.0,30.0,25.0,50.0,50.0,50.0,50.0,50.0,50.0,50.0,50.0,25.0,30.0,25.0,25.0,21.428571428571427,18.75,25.0,50.0,28.124999999999996,22.5,22.499999999999996,28.124999999999996,50.0,25.0,25.0,50.0,16.666666666666668,25.0,50.0,50.0,50.0,30.0,30.0,50.0,50.0,50.0,25.0,50.0,13.636363636363637,30.0,25.0,37.5,50.0,50.0,50.0,50.0,50.0,50.0,37.5,25.0,30.0,50.0,8.823529411764707,50.0,18.75,50.0,25.0,50.0,50.0,25.0,50.0,50.0,50.0,50.0,8.823529411764707,18.75,50.0,18.75,50.0,50.0,25.0,25.0,50.0,50.0,50.0,25.0,21.428571428571427,50.0,50.0,25.0,50.0,50.0,50.0,25.0,25.0,50.0,50.0,50.0,50.0,30.0,25.0,50.0,25.0,25.0,37.5,50.0,50.0,50.0,50.0,50.0,50.0,30.0,50.0,50.0,50.0,50.0,30.0,50.0,50.0,50.0,50.0,50.0,50.0,37.5,25.0,25.0,50.0,25.0,30.0],\"type\":\"scatter3d\"},{\"marker\":{\"color\":\"green\",\"opacity\":0.5,\"size\":5},\"mode\":\"markers\",\"name\":\"after\",\"x\":[0.02,0.02,0.02,0.02,0.02,0.02666666666666667,0.02,0.02,0.02,0.02,0.02,0.02,0.02,0.02,0.02,0.02,0.02,0.02,0.02,0.02,0.02,0.02666666666666667,0.02666666666666667,0.02,0.02,0.02,0.02,0.02,0.02,0.02,0.02,0.02,0.02,0.02,0.02666666666666667,0.02666666666666667,0.02,0.02,0.02,0.02,0.02,0.02666666666666667,0.02666666666666667,0.02,0.02,0.02,0.02,0.02,0.02,0.02,0.02,0.02,0.02,0.02666666666666667,0.02666666666666667,0.02666666666666667,0.02666666666666667,0.02,0.03333333333333333,0.03333333333333333,0.02,0.02,0.03333333333333333,0.03333333333333333,0.02,0.02,0.02,0.02,0.02,0.02666666666666667,0.02666666666666667,0.02,0.02,0.02,0.04,0.02,0.02,0.02,0.02,0.02,0.02,0.02,0.02,0.02666666666666667,0.03333333333333333,0.02666666666666667,0.02,0.03333333333333333,0.02666666666666667,0.03333333333333333,0.03333333333333333,0.04,0.02666666666666667,0.02,0.02,0.02,0.02,0.02,0.02,0.02,0.02,0.03333333333333333,0.03333333333333333,0.02,0.02,0.02666666666666667,0.02666666666666667,0.02666666666666667,0.02666666666666667,0.02,0.02,0.02,0.02,0.02,0.02,0.02666666666666667,0.02666666666666667,0.02,0.02,0.02,0.02,0.02,0.02666666666666667,0.02666666666666667,0.03333333333333333,0.03333333333333333,0.02,0.02,0.02,0.02,0.02,0.02666666666666667,0.02666666666666667,0.02,0.02,0.02,0.02,0.02,0.02,0.02,0.02,0.02,0.02,0.02666666666666667,0.02666666666666667,0.02,0.02,0.02,0.02,0.02,0.02666666666666667,0.02666666666666667,0.02,0.02,0.02,0.02,0.02,0.02,0.02,0.02666666666666667,0.02,0.02,0.02,0.02,0.02,0.02666666666666667,0.02666666666666667,0.02,0.02,0.02,0.02,0.02,0.02,0.02666666666666667,0.02666666666666667,0.02,0.04,0.04,0.02,0.02,0.02,0.02,0.02,0.02,0.02,0.02,0.03333333333333333,0.03333333333333333,0.02,0.02,0.02666666666666667,0.02,0.02,0.02,0.02,0.02,0.02,0.02,0.02,0.02,0.02,0.02,0.02,0.02,0.02,0.02,0.02666666666666667,0.02,0.02,0.02,0.02,0.02,0.02,0.02,0.02,0.02666666666666667,0.02,0.02,0.02,0.02,0.02,0.02666666666666667,0.02666666666666667,0.02,0.02,0.02,0.02666666666666667,0.02666666666666667,0.02,0.02,0.02,0.02,0.02,0.02666666666666667,0.02666666666666667,0.02,0.02,0.02,0.02,0.02,0.02,0.02,0.02,0.02,0.02,0.02,0.02,0.02666666666666667,0.02,0.02,0.02,0.02,0.02,0.03333333333333333,0.03333333333333333,0.02,0.03333333333333333,0.03333333333333333,0.02,0.02,0.02,0.02,0.02,0.02,0.02,0.02666666666666667,0.02666666666666667,0.02,0.02,0.02,0.02,0.02,0.02,0.02,0.02,0.02,0.02,0.02,0.02,0.02,0.02,0.02,0.02,0.02,0.02,0.02,0.02,0.02,0.02,0.02,0.02,0.02,0.02,0.02,0.02,0.02,0.02,0.02,0.02,0.02,0.02,0.02,0.02,0.02,0.02,0.02,0.02,0.02,0.02,0.02,0.02,0.02,0.02,0.02,0.02,0.02,0.02,0.02,0.02,0.02,0.02,0.02,0.02,0.02,0.02,0.02,0.02,0.02,0.02,0.02,0.02,0.02,0.02,0.02,0.02,0.02,0.02,0.02,0.02,0.02,0.02,0.02,0.02,0.02,0.02,0.02,0.02,0.02,0.02,0.02,0.02,0.02,0.02,0.02,0.02,0.02,0.02,0.02,0.02,0.02,0.02,0.02,0.02,0.02,0.02,0.02,0.02,0.02,0.02,0.02,0.02,0.02,0.02,0.02,0.02,0.02,0.02,0.02,0.02,0.02,0.02,0.02,0.02,0.02,0.02,0.02,0.02,0.02,0.02,0.02,0.02,0.02,0.02,0.02,0.02,0.02,0.02,0.02,0.02,0.02,0.02,0.02,0.02,0.02,0.02,0.02,0.02,0.02,0.02,0.02,0.02,0.02,0.02,0.02,0.02,0.02,0.02,0.02,0.02,0.02,0.02,0.02,0.02,0.02,0.02,0.02,0.02,0.02,0.02,0.02,0.02,0.02,0.02,0.02,0.02,0.02,0.02,0.02,0.02,0.02,0.02,0.02,0.02,0.02,0.02,0.02,0.02,0.02,0.02,0.02,0.02,0.02,0.02,0.02,0.02,0.02,0.02,0.02,0.02,0.02,0.02,0.02,0.02,0.02,0.02,0.02,0.02,0.02,0.02,0.02,0.02,0.02,0.02,0.02,0.02],\"y\":[0.6,0.5,0.6,0.6,0.5,0.5,0.6,0.6,0.6,0.75,0.75,0.75,0.6,0.6,0.5,0.5,0.6,0.5,0.5,1.0,1.0,0.6666666666666667,0.5,0.5,0.6,0.6,0.6,0.75,0.6,0.75,0.6,0.75,0.6,0.75,0.6666666666666667,1.0,0.5,0.75,0.5,0.75,0.75,0.5,0.6666666666666667,0.6,0.75,0.75,0.5,0.75,0.6,0.75,0.75,0.6,0.6,0.5,0.8,0.5,0.5714285714285714,0.75,0.625,0.8333333333333333,1.0,0.75,0.5555555555555556,0.8333333333333333,0.5,0.75,0.5,0.75,1.0,1.0,0.5,0.5,0.5,0.75,0.8571428571428571,0.5,0.6,0.75,0.75,1.0,0.6,0.6,0.6,1.0,0.8333333333333333,1.0,0.6,0.7142857142857142,0.8,0.625,0.8333333333333333,0.6666666666666667,0.8,1.0,0.5,1.0,0.5,0.75,0.75,0.75,0.6,1.0,1.0,0.6,0.5,0.6666666666666667,0.6666666666666667,0.6666666666666667,0.5,0.5,0.5,0.75,0.5,0.5,0.5,0.5,0.6666666666666667,0.5,0.75,0.5,0.5,0.5,0.6666666666666667,0.5714285714285714,0.7142857142857142,0.625,0.75,0.75,0.5,0.6,0.5,0.6666666666666667,0.6666666666666667,0.75,0.75,0.75,0.75,0.6,1.0,0.6,1.0,0.6,0.6,0.8,0.8,1.0,0.6,0.75,0.75,0.75,1.0,1.0,0.5,1.0,1.0,0.5,0.5,0.5,0.5,0.5,0.75,0.75,0.5,0.75,0.75,0.6666666666666667,0.5,0.75,0.5,0.75,1.0,0.6,0.6,1.0,0.8,0.6,0.6666666666666667,0.5454545454545454,0.6,0.75,0.6,0.5,0.6,0.75,0.75,0.75,0.7142857142857142,0.8333333333333333,0.5,0.6,0.6666666666666667,0.75,0.5,0.75,0.5,0.75,0.6,1.0,0.75,0.5,0.6,0.5,0.6,0.6,0.6,0.75,0.5,0.5,0.6,0.75,1.0,0.6,0.75,0.75,0.75,0.6666666666666667,1.0,0.75,0.75,1.0,0.75,0.6666666666666667,1.0,0.5,1.0,0.6,0.5714285714285714,1.0,1.0,0.6,0.6,0.6,0.6,1.0,0.8,0.75,1.0,0.6,0.75,0.75,0.75,0.5,0.6,1.0,0.6,0.75,0.75,1.0,0.5,1.0,0.5,1.0,0.6,0.7142857142857142,0.5555555555555556,0.6,0.625,0.5555555555555556,0.75,1.0,1.0,0.75,0.5,0.75,1.0,0.5714285714285714,0.6666666666666667,1.0,1.0,1.0,1.0,0.6,0.6,0.75,1.0,1.0,0.5,1.0,1.0,1.0,1.0,0.6,0.6,0.75,1.0,0.75,1.0,0.75,0.5,1.0,0.75,0.75,0.75,0.6,1.0,0.75,1.0,0.5,1.0,0.75,0.75,0.5,1.0,0.6,1.0,0.6,0.5,0.5,0.6,1.0,0.6,0.5,0.5,1.0,0.75,0.6,1.0,1.0,0.75,0.75,1.0,0.6,1.0,0.6,0.6,1.0,0.6,1.0,0.6,0.6,0.75,0.75,1.0,0.5,0.5,1.0,0.75,0.6,0.5,0.75,1.0,0.75,0.5,0.5,1.0,0.75,1.0,0.5,0.6,1.0,0.75,0.5,1.0,1.0,0.75,0.75,0.5,0.75,1.0,0.6,0.5,1.0,1.0,1.0,0.75,0.75,1.0,1.0,1.0,0.75,1.0,0.75,1.0,0.6,0.6,1.0,1.0,0.75,1.0,0.6,0.6,0.75,1.0,1.0,0.75,0.75,0.75,1.0,0.75,1.0,0.75,0.75,1.0,0.75,1.0,0.75,0.6,1.0,0.75,1.0,0.75,0.6,1.0,1.0,1.0,0.75,0.6,1.0,1.0,1.0,0.5,0.6,1.0,1.0,1.0,0.75,0.5,0.6,1.0,0.75,1.0,0.75,0.5,0.6,1.0,1.0,1.0,0.75,0.5,1.0,1.0,1.0,0.75,0.5,1.0,1.0,0.75,1.0,0.75,1.0,0.5,1.0,0.75,1.0,0.6,1.0,0.6,1.0,0.6,0.6,1.0,1.0,1.0,1.0,0.75,0.75,1.0,1.0,0.75,0.6,0.5,0.5,1.0,1.0,1.0,1.0,1.0,1.0,1.0,1.0,1.0,1.0,0.75,0.5,0.6],\"z\":[9.0,15.0,15.0,5.294117647058823,7.5,7.5,18.0,18.0,12.857142857142856,6.61764705882353,14.062499999999998,22.5,22.499999999999996,11.249999999999998,12.5,12.5,15.0,15.0,25.0,25.0,18.75,12.5,12.5,7.5,18.0,18.0,22.499999999999996,22.5,22.499999999999996,22.5,8.181818181818182,22.5,22.499999999999996,7.031249999999999,25.0,25.0,6.25,18.75,18.75,28.124999999999996,28.124999999999996,12.5,12.5,11.249999999999998,11.25,18.75,18.75,7.031249999999999,22.499999999999996,22.5,14.062499999999998,11.249999999999998,11.249999999999998,15.0,15.0,10.714285714285714,10.714285714285714,14.062499999999998,15.625,15.624999999999998,16.666666666666668,12.5,13.88888888888889,13.888888888888888,7.5,12.5,8.333333333333334,12.5,21.428571428571427,18.75,18.75,8.333333333333334,7.5,16.07142857142857,7.563025210084033,10.714285714285714,5.294117647058823,6.61764705882353,37.5,37.5,5.294117647058823,11.249999999999998,10.0,8.823529411764707,7.352941176470588,8.823529411764707,5.294117647058823,6.302521008403361,7.058823529411765,5.514705882352941,7.352941176470588,5.882352941176472,7.058823529411765,16.666666666666668,9.375,15.0,18.75,18.75,14.062499999999998,7.031249999999999,9.0,30.0,30.0,5.624999999999999,10.714285714285714,16.666666666666668,16.666666666666668,12.5,12.5,9.375,9.375,14.062499999999998,10.714285714285714,12.5,12.5,12.5,12.5,10.714285714285714,18.75,18.75,12.5,12.5,14.285714285714286,14.285714285714285,13.39285714285714,13.392857142857142,16.07142857142857,16.07142857142857,10.714285714285714,10.0,9.375,16.666666666666668,16.666666666666668,14.062499999999998,14.062499999999998,28.124999999999996,28.124999999999996,5.624999999999999,30.0,30.0,30.0,30.0,12.857142857142856,24.0,24.0,30.0,30.0,28.124999999999996,28.124999999999996,16.07142857142857,37.5,37.5,25.0,25.0,25.0,25.0,7.5,9.375,9.375,7.5,11.25,11.25,7.5,7.031249999999999,7.031249999999999,12.5,12.5,14.062499999999998,8.333333333333334,37.5,37.5,12.857142857142856,5.624999999999999,30.0,30.0,10.0,9.090909090909092,9.09090909090909,8.181818181818182,22.5,22.499999999999996,15.0,15.0,16.07142857142857,28.124999999999996,28.124999999999996,17.857142857142854,17.857142857142854,15.0,15.0,6.25,18.75,18.75,16.07142857142857,10.714285714285714,16.07142857142857,12.857142857142856,13.636363636363637,10.227272727272727,6.818181818181818,10.0,15.0,15.0,5.624999999999999,22.499999999999996,22.5,4.6875,8.333333333333334,9.0,37.5,37.5,12.857142857142856,16.07142857142857,16.07142857142857,11.25,6.25,37.5,37.5,16.07142857142857,37.5,37.5,25.0,25.0,25.0,25.0,5.624999999999999,21.428571428571427,21.428571428571427,9.375,18.0,18.0,18.0,18.0,30.0,30.0,7.031249999999999,30.0,30.0,28.124999999999996,28.124999999999996,18.75,18.75,30.0,30.0,22.499999999999996,22.5,7.031249999999999,9.375,25.0,25.0,25.0,25.0,12.857142857142856,11.904761904761903,11.904761904761905,10.0,10.416666666666668,10.416666666666666,37.5,37.5,21.428571428571427,18.75,18.75,37.5,37.5,14.285714285714285,14.285714285714286,21.428571428571427,21.428571428571427,30.0,30.0,30.0,30.0,37.5,18.75,25.0,25.0,37.5,37.5,30.0,30.0,30.0,30.0,37.5,25.0,28.124999999999996,9.375,28.124999999999996,25.0,30.0,14.062499999999998,28.124999999999996,28.124999999999996,30.0,15.0,7.031249999999999,16.666666666666668,18.75,8.823529411764707,16.07142857142857,18.75,9.375,8.823529411764707,12.857142857142856,8.823529411764707,12.857142857142856,12.5,12.5,11.249999999999998,8.823529411764707,15.0,15.0,15.0,8.823529411764707,12.5,15.0,18.75,9.375,28.124999999999996,28.124999999999996,30.0,9.0,30.0,30.0,30.0,30.0,5.624999999999999,30.0,30.0,30.0,18.75,16.07142857142857,25.0,25.0,18.75,18.75,16.07142857142857,15.0,15.0,14.062499999999998,25.0,18.75,18.75,25.0,21.428571428571427,14.062499999999998,25.0,25.0,15.0,18.75,16.07142857142857,15.0,25.0,18.75,28.124999999999996,28.124999999999996,25.0,14.062499999999998,21.428571428571427,15.0,15.0,37.5,37.5,21.428571428571427,37.5,37.5,37.5,15.0,18.75,37.5,30.0,16.07142857142857,30.0,30.0,30.0,30.0,30.0,37.5,37.5,30.0,30.0,28.124999999999996,37.5,37.5,37.5,37.5,28.124999999999996,37.5,16.07142857142857,37.5,37.5,37.5,30.0,16.07142857142857,37.5,37.5,30.0,30.0,7.031249999999999,37.5,37.5,30.0,30.0,13.636363636363637,37.5,37.5,30.0,30.0,13.636363636363637,25.0,25.0,30.0,30.0,25.0,37.5,37.5,25.0,30.0,30.0,18.75,37.5,37.5,18.75,30.0,25.0,37.5,21.428571428571427,37.5,25.0,13.636363636363637,25.0,37.5,37.5,25.0,18.75,9.375,16.07142857142857,37.5,37.5,25.0,25.0,37.5,37.5,16.666666666666668,18.0,21.428571428571427,18.0,16.666666666666668,11.249999999999998,12.857142857142856,18.75,21.428571428571427,25.0,25.0,22.5,28.124999999999996,50.0,50.0,28.124999999999996,22.499999999999996,25.0,25.0,30.0,13.636363636363637,25.0,37.5,50.0,50.0,50.0,50.0,50.0,50.0,37.5,25.0,30.0],\"type\":\"scatter3d\"}],                        {\"template\":{\"data\":{\"histogram2dcontour\":[{\"type\":\"histogram2dcontour\",\"colorbar\":{\"outlinewidth\":0,\"ticks\":\"\"},\"colorscale\":[[0.0,\"#0d0887\"],[0.1111111111111111,\"#46039f\"],[0.2222222222222222,\"#7201a8\"],[0.3333333333333333,\"#9c179e\"],[0.4444444444444444,\"#bd3786\"],[0.5555555555555556,\"#d8576b\"],[0.6666666666666666,\"#ed7953\"],[0.7777777777777778,\"#fb9f3a\"],[0.8888888888888888,\"#fdca26\"],[1.0,\"#f0f921\"]]}],\"choropleth\":[{\"type\":\"choropleth\",\"colorbar\":{\"outlinewidth\":0,\"ticks\":\"\"}}],\"histogram2d\":[{\"type\":\"histogram2d\",\"colorbar\":{\"outlinewidth\":0,\"ticks\":\"\"},\"colorscale\":[[0.0,\"#0d0887\"],[0.1111111111111111,\"#46039f\"],[0.2222222222222222,\"#7201a8\"],[0.3333333333333333,\"#9c179e\"],[0.4444444444444444,\"#bd3786\"],[0.5555555555555556,\"#d8576b\"],[0.6666666666666666,\"#ed7953\"],[0.7777777777777778,\"#fb9f3a\"],[0.8888888888888888,\"#fdca26\"],[1.0,\"#f0f921\"]]}],\"heatmap\":[{\"type\":\"heatmap\",\"colorbar\":{\"outlinewidth\":0,\"ticks\":\"\"},\"colorscale\":[[0.0,\"#0d0887\"],[0.1111111111111111,\"#46039f\"],[0.2222222222222222,\"#7201a8\"],[0.3333333333333333,\"#9c179e\"],[0.4444444444444444,\"#bd3786\"],[0.5555555555555556,\"#d8576b\"],[0.6666666666666666,\"#ed7953\"],[0.7777777777777778,\"#fb9f3a\"],[0.8888888888888888,\"#fdca26\"],[1.0,\"#f0f921\"]]}],\"heatmapgl\":[{\"type\":\"heatmapgl\",\"colorbar\":{\"outlinewidth\":0,\"ticks\":\"\"},\"colorscale\":[[0.0,\"#0d0887\"],[0.1111111111111111,\"#46039f\"],[0.2222222222222222,\"#7201a8\"],[0.3333333333333333,\"#9c179e\"],[0.4444444444444444,\"#bd3786\"],[0.5555555555555556,\"#d8576b\"],[0.6666666666666666,\"#ed7953\"],[0.7777777777777778,\"#fb9f3a\"],[0.8888888888888888,\"#fdca26\"],[1.0,\"#f0f921\"]]}],\"contourcarpet\":[{\"type\":\"contourcarpet\",\"colorbar\":{\"outlinewidth\":0,\"ticks\":\"\"}}],\"contour\":[{\"type\":\"contour\",\"colorbar\":{\"outlinewidth\":0,\"ticks\":\"\"},\"colorscale\":[[0.0,\"#0d0887\"],[0.1111111111111111,\"#46039f\"],[0.2222222222222222,\"#7201a8\"],[0.3333333333333333,\"#9c179e\"],[0.4444444444444444,\"#bd3786\"],[0.5555555555555556,\"#d8576b\"],[0.6666666666666666,\"#ed7953\"],[0.7777777777777778,\"#fb9f3a\"],[0.8888888888888888,\"#fdca26\"],[1.0,\"#f0f921\"]]}],\"surface\":[{\"type\":\"surface\",\"colorbar\":{\"outlinewidth\":0,\"ticks\":\"\"},\"colorscale\":[[0.0,\"#0d0887\"],[0.1111111111111111,\"#46039f\"],[0.2222222222222222,\"#7201a8\"],[0.3333333333333333,\"#9c179e\"],[0.4444444444444444,\"#bd3786\"],[0.5555555555555556,\"#d8576b\"],[0.6666666666666666,\"#ed7953\"],[0.7777777777777778,\"#fb9f3a\"],[0.8888888888888888,\"#fdca26\"],[1.0,\"#f0f921\"]]}],\"mesh3d\":[{\"type\":\"mesh3d\",\"colorbar\":{\"outlinewidth\":0,\"ticks\":\"\"}}],\"scatter\":[{\"fillpattern\":{\"fillmode\":\"overlay\",\"size\":10,\"solidity\":0.2},\"type\":\"scatter\"}],\"parcoords\":[{\"type\":\"parcoords\",\"line\":{\"colorbar\":{\"outlinewidth\":0,\"ticks\":\"\"}}}],\"scatterpolargl\":[{\"type\":\"scatterpolargl\",\"marker\":{\"colorbar\":{\"outlinewidth\":0,\"ticks\":\"\"}}}],\"bar\":[{\"error_x\":{\"color\":\"#2a3f5f\"},\"error_y\":{\"color\":\"#2a3f5f\"},\"marker\":{\"line\":{\"color\":\"#E5ECF6\",\"width\":0.5},\"pattern\":{\"fillmode\":\"overlay\",\"size\":10,\"solidity\":0.2}},\"type\":\"bar\"}],\"scattergeo\":[{\"type\":\"scattergeo\",\"marker\":{\"colorbar\":{\"outlinewidth\":0,\"ticks\":\"\"}}}],\"scatterpolar\":[{\"type\":\"scatterpolar\",\"marker\":{\"colorbar\":{\"outlinewidth\":0,\"ticks\":\"\"}}}],\"histogram\":[{\"marker\":{\"pattern\":{\"fillmode\":\"overlay\",\"size\":10,\"solidity\":0.2}},\"type\":\"histogram\"}],\"scattergl\":[{\"type\":\"scattergl\",\"marker\":{\"colorbar\":{\"outlinewidth\":0,\"ticks\":\"\"}}}],\"scatter3d\":[{\"type\":\"scatter3d\",\"line\":{\"colorbar\":{\"outlinewidth\":0,\"ticks\":\"\"}},\"marker\":{\"colorbar\":{\"outlinewidth\":0,\"ticks\":\"\"}}}],\"scattermapbox\":[{\"type\":\"scattermapbox\",\"marker\":{\"colorbar\":{\"outlinewidth\":0,\"ticks\":\"\"}}}],\"scatterternary\":[{\"type\":\"scatterternary\",\"marker\":{\"colorbar\":{\"outlinewidth\":0,\"ticks\":\"\"}}}],\"scattercarpet\":[{\"type\":\"scattercarpet\",\"marker\":{\"colorbar\":{\"outlinewidth\":0,\"ticks\":\"\"}}}],\"carpet\":[{\"aaxis\":{\"endlinecolor\":\"#2a3f5f\",\"gridcolor\":\"white\",\"linecolor\":\"white\",\"minorgridcolor\":\"white\",\"startlinecolor\":\"#2a3f5f\"},\"baxis\":{\"endlinecolor\":\"#2a3f5f\",\"gridcolor\":\"white\",\"linecolor\":\"white\",\"minorgridcolor\":\"white\",\"startlinecolor\":\"#2a3f5f\"},\"type\":\"carpet\"}],\"table\":[{\"cells\":{\"fill\":{\"color\":\"#EBF0F8\"},\"line\":{\"color\":\"white\"}},\"header\":{\"fill\":{\"color\":\"#C8D4E3\"},\"line\":{\"color\":\"white\"}},\"type\":\"table\"}],\"barpolar\":[{\"marker\":{\"line\":{\"color\":\"#E5ECF6\",\"width\":0.5},\"pattern\":{\"fillmode\":\"overlay\",\"size\":10,\"solidity\":0.2}},\"type\":\"barpolar\"}],\"pie\":[{\"automargin\":true,\"type\":\"pie\"}]},\"layout\":{\"autotypenumbers\":\"strict\",\"colorway\":[\"#636efa\",\"#EF553B\",\"#00cc96\",\"#ab63fa\",\"#FFA15A\",\"#19d3f3\",\"#FF6692\",\"#B6E880\",\"#FF97FF\",\"#FECB52\"],\"font\":{\"color\":\"#2a3f5f\"},\"hovermode\":\"closest\",\"hoverlabel\":{\"align\":\"left\"},\"paper_bgcolor\":\"white\",\"plot_bgcolor\":\"#E5ECF6\",\"polar\":{\"bgcolor\":\"#E5ECF6\",\"angularaxis\":{\"gridcolor\":\"white\",\"linecolor\":\"white\",\"ticks\":\"\"},\"radialaxis\":{\"gridcolor\":\"white\",\"linecolor\":\"white\",\"ticks\":\"\"}},\"ternary\":{\"bgcolor\":\"#E5ECF6\",\"aaxis\":{\"gridcolor\":\"white\",\"linecolor\":\"white\",\"ticks\":\"\"},\"baxis\":{\"gridcolor\":\"white\",\"linecolor\":\"white\",\"ticks\":\"\"},\"caxis\":{\"gridcolor\":\"white\",\"linecolor\":\"white\",\"ticks\":\"\"}},\"coloraxis\":{\"colorbar\":{\"outlinewidth\":0,\"ticks\":\"\"}},\"colorscale\":{\"sequential\":[[0.0,\"#0d0887\"],[0.1111111111111111,\"#46039f\"],[0.2222222222222222,\"#7201a8\"],[0.3333333333333333,\"#9c179e\"],[0.4444444444444444,\"#bd3786\"],[0.5555555555555556,\"#d8576b\"],[0.6666666666666666,\"#ed7953\"],[0.7777777777777778,\"#fb9f3a\"],[0.8888888888888888,\"#fdca26\"],[1.0,\"#f0f921\"]],\"sequentialminus\":[[0.0,\"#0d0887\"],[0.1111111111111111,\"#46039f\"],[0.2222222222222222,\"#7201a8\"],[0.3333333333333333,\"#9c179e\"],[0.4444444444444444,\"#bd3786\"],[0.5555555555555556,\"#d8576b\"],[0.6666666666666666,\"#ed7953\"],[0.7777777777777778,\"#fb9f3a\"],[0.8888888888888888,\"#fdca26\"],[1.0,\"#f0f921\"]],\"diverging\":[[0,\"#8e0152\"],[0.1,\"#c51b7d\"],[0.2,\"#de77ae\"],[0.3,\"#f1b6da\"],[0.4,\"#fde0ef\"],[0.5,\"#f7f7f7\"],[0.6,\"#e6f5d0\"],[0.7,\"#b8e186\"],[0.8,\"#7fbc41\"],[0.9,\"#4d9221\"],[1,\"#276419\"]]},\"xaxis\":{\"gridcolor\":\"white\",\"linecolor\":\"white\",\"ticks\":\"\",\"title\":{\"standoff\":15},\"zerolinecolor\":\"white\",\"automargin\":true,\"zerolinewidth\":2},\"yaxis\":{\"gridcolor\":\"white\",\"linecolor\":\"white\",\"ticks\":\"\",\"title\":{\"standoff\":15},\"zerolinecolor\":\"white\",\"automargin\":true,\"zerolinewidth\":2},\"scene\":{\"xaxis\":{\"backgroundcolor\":\"#E5ECF6\",\"gridcolor\":\"white\",\"linecolor\":\"white\",\"showbackground\":true,\"ticks\":\"\",\"zerolinecolor\":\"white\",\"gridwidth\":2},\"yaxis\":{\"backgroundcolor\":\"#E5ECF6\",\"gridcolor\":\"white\",\"linecolor\":\"white\",\"showbackground\":true,\"ticks\":\"\",\"zerolinecolor\":\"white\",\"gridwidth\":2},\"zaxis\":{\"backgroundcolor\":\"#E5ECF6\",\"gridcolor\":\"white\",\"linecolor\":\"white\",\"showbackground\":true,\"ticks\":\"\",\"zerolinecolor\":\"white\",\"gridwidth\":2}},\"shapedefaults\":{\"line\":{\"color\":\"#2a3f5f\"}},\"annotationdefaults\":{\"arrowcolor\":\"#2a3f5f\",\"arrowhead\":0,\"arrowwidth\":1},\"geo\":{\"bgcolor\":\"white\",\"landcolor\":\"#E5ECF6\",\"subunitcolor\":\"white\",\"showland\":true,\"showlakes\":true,\"lakecolor\":\"white\"},\"title\":{\"x\":0.05},\"mapbox\":{\"style\":\"light\"}}},\"margin\":{\"l\":0,\"r\":0,\"b\":0,\"t\":0},\"title\":{\"text\":\"3D Scatter Plot of Association Rules\"},\"scene\":{\"xaxis\":{\"title\":{\"text\":\"Support\"}},\"yaxis\":{\"title\":{\"text\":\"Confidence\"}},\"zaxis\":{\"title\":{\"text\":\"Lift\"}}}},                        {\"responsive\": true}                    ).then(function(){\n",
       "                            \n",
       "var gd = document.getElementById('ef5ae44a-1e9f-4a04-82b0-2deb66a5ba75');\n",
       "var x = new MutationObserver(function (mutations, observer) {{\n",
       "        var display = window.getComputedStyle(gd).display;\n",
       "        if (!display || display === 'none') {{\n",
       "            console.log([gd, 'removed!']);\n",
       "            Plotly.purge(gd);\n",
       "            observer.disconnect();\n",
       "        }}\n",
       "}});\n",
       "\n",
       "// Listen for the removal of the full notebook cells\n",
       "var notebookContainer = gd.closest('#notebook-container');\n",
       "if (notebookContainer) {{\n",
       "    x.observe(notebookContainer, {childList: true});\n",
       "}}\n",
       "\n",
       "// Listen for the clearing of the current output cell\n",
       "var outputEl = gd.closest('.output');\n",
       "if (outputEl) {{\n",
       "    x.observe(outputEl, {childList: true});\n",
       "}}\n",
       "\n",
       "                        })                };                });            </script>        </div>"
      ]
     },
     "metadata": {},
     "output_type": "display_data"
    }
   ],
   "source": [
    "import plotly.graph_objects as go\n",
    "\n",
    "# Initialize the 3D scatter plot\n",
    "fig = go.Figure()\n",
    "\n",
    "# Add the common entries scatter plot\n",
    "fig.add_trace(go.Scatter3d(\n",
    "    x=common_entries['support_x'],\n",
    "    y=common_entries['confidence_x'],\n",
    "    z=common_entries['lift_x'],\n",
    "    mode='markers',\n",
    "    marker=dict(size=5, color='red', opacity=0.5),\n",
    "    name='Common'\n",
    "))\n",
    "\n",
    "# Add the unique to sorted_rules_df scatter plot\n",
    "fig.add_trace(go.Scatter3d(\n",
    "    x=rules['support'],\n",
    "    y=rules['confidence'],\n",
    "    z=rules['lift'],\n",
    "    mode='markers',\n",
    "    marker=dict(size=5, color='blue', opacity=0.5),\n",
    "    name='Before'\n",
    "))\n",
    "\n",
    "# Add the unique to sorted_rules_df_2 scatter plot\n",
    "fig.add_trace(go.Scatter3d(\n",
    "    x=rules_after_hidden['support'],\n",
    "    y=rules_after_hidden['confidence'],\n",
    "    z=rules_after_hidden['lift'],\n",
    "    mode='markers',\n",
    "    marker=dict(size=5, color='green', opacity=0.5),\n",
    "    name='after'\n",
    "))\n",
    "\n",
    "# Set the layout for the plot\n",
    "fig.update_layout(\n",
    "    title='3D Scatter Plot of Association Rules',\n",
    "    scene=dict(\n",
    "        xaxis_title='Support',\n",
    "        yaxis_title='Confidence',\n",
    "        zaxis_title='Lift'\n",
    "    ),\n",
    "    margin=dict(l=0, r=0, b=0, t=0)\n",
    ")\n",
    "\n",
    "# Show the plot\n",
    "fig.show()\n"
   ]
  },
  {
   "cell_type": "code",
   "execution_count": 43,
   "metadata": {},
   "outputs": [
    {
     "data": {
      "image/png": "[encoded data removed]",
      "text/plain": [
       "<Figure size 1000x600 with 1 Axes>"
      ]
     },
     "metadata": {},
     "output_type": "display_data"
    }
   ],
   "source": [
    "# Plotting the number of rules found for different support levels and confidence levels\n",
    "\n",
    "import numpy as np\n",
    "import matplotlib.pyplot as plt\n",
    "from mlxtend.frequent_patterns import apriori, association_rules\n",
    "\n",
    "# Assuming df_binary_1 and df_binary_2 are your dataframes with binary encoded data\n",
    "\n",
    "# Define a range of minimum support values and confidence levels\n",
    "min_support_values = [0.02]\n",
    "confidence_levels = np.arange(0.5, 1.0, 0.1)\n",
    "\n",
    "# Initialize dictionaries to store the number of rules for each dataframe\n",
    "rules_count_1 = {s: [] for s in min_support_values}\n",
    "rules_count_2 = {s: [] for s in min_support_values}\n",
    "\n",
    "# Function to compute rules\n",
    "def compute_rules(df_binary, rules_count):\n",
    "    for min_support in min_support_values:\n",
    "        # Apply the Apriori algorithm to find frequent itemsets\n",
    "        frequent_itemsets = apriori(df_binary, min_support=min_support, use_colnames=True)\n",
    "\n",
    "        for conf in confidence_levels:\n",
    "            # Generate association rules\n",
    "            rules = association_rules(frequent_itemsets, metric=\"confidence\", min_threshold=conf)\n",
    "            # Count the number of rules\n",
    "            rules_count[min_support].append(len(rules))\n",
    "\n",
    "# Compute rules for both dataframes\n",
    "compute_rules(df_binary_1, rules_count_1)\n",
    "compute_rules(df_binary_2, rules_count_2)\n",
    "\n",
    "# Plotting the results on the same graph\n",
    "plt.figure(figsize=(10, 6))\n",
    "\n",
    "for min_support, counts in rules_count_1.items():\n",
    "    plt.plot(confidence_levels, counts, marker='o', label=f'DF1 Support {min_support*100}%')\n",
    "\n",
    "for min_support, counts in rules_count_2.items():\n",
    "    plt.plot(confidence_levels, counts, marker='^', label=f'DF2 Support {min_support*100}%')\n",
    "\n",
    "plt.title('Apriori algorithm with different support levels for two datasets')\n",
    "plt.xlabel('Confidence levels')\n",
    "plt.ylabel('Number of rules found')\n",
    "plt.xticks(confidence_levels)\n",
    "plt.legend()\n",
    "plt.grid(True)\n",
    "plt.show()\n"
   ]
  },
  {
   "cell_type": "code",
   "execution_count": null,
   "metadata": {},
   "outputs": [
    {
     "name": "stdout",
     "output_type": "stream",
     "text": [
      "597\n"
     ]
    },
    {
     "data": {
      "text/plain": [
       "44.309701492537314"
      ]
     },
     "execution_count": 154,
     "metadata": {},
     "output_type": "execute_result"
    }
   ],
   "source": [
    "# utiltiy function\n",
    "print(len(unique_sorted_rules_df))\n",
    "utility = 1 - (len(unique_sorted_rules_df)/len(rules))\n",
    "utility*100"
   ]
  },
  {
   "cell_type": "code",
   "execution_count": null,
   "metadata": {},
   "outputs": [
    {
     "data": {
      "text/plain": [
       "48"
      ]
     },
     "execution_count": 94,
     "metadata": {},
     "output_type": "execute_result"
    }
   ],
   "source": [
    "# no of rules hidden\n",
    "len(unique_sorted_rules_df)"
   ]
  },
  {
   "cell_type": "code",
   "execution_count": null,
   "metadata": {},
   "outputs": [
    {
     "data": {
      "text/plain": [
       "0"
      ]
     },
     "execution_count": 149,
     "metadata": {},
     "output_type": "execute_result"
    }
   ],
   "source": [
    "# new rules\n",
    "len(unique_sorted_rules_df_2)"
   ]
  },
  {
   "cell_type": "code",
   "execution_count": null,
   "metadata": {},
   "outputs": [
    {
     "data": {
      "text/plain": [
       "0.006711409395973256"
      ]
     },
     "execution_count": 150,
     "metadata": {},
     "output_type": "execute_result"
    }
   ],
   "source": [
    "\n",
    "\n"
   ]
  },
  {
   "cell_type": "code",
   "execution_count": null,
   "metadata": {},
   "outputs": [
    {
     "data": {
      "text/plain": [
       "597"
      ]
     },
     "execution_count": 151,
     "metadata": {},
     "output_type": "execute_result"
    }
   ],
   "source": [
    "len(rules)-len(rules_after_hidden)"
   ]
  },
  {
   "cell_type": "code",
   "execution_count": null,
   "metadata": {},
   "outputs": [],
   "source": [
    "rules_after_hiding= rules_after_hidden.copy()"
   ]
  },
  {
   "cell_type": "code",
   "execution_count": 53,
   "metadata": {},
   "outputs": [
    {
     "data": {
      "text/plain": [
       "Index(['antecedents', 'consequents', 'antecedent support',\n",
       "       'consequent support', 'support', 'confidence', 'lift', 'leverage',\n",
       "       'conviction', 'zhangs_metric'],\n",
       "      dtype='object')"
      ]
     },
     "execution_count": 53,
     "metadata": {},
     "output_type": "execute_result"
    }
   ],
   "source": [
    "rules.columns"
   ]
  },
  {
   "cell_type": "code",
   "execution_count": 54,
   "metadata": {},
   "outputs": [
    {
     "data": {
      "application/vnd.plotly.v1+json": {
       "config": {
        "plotlyServerURL": "https://plot.ly"
       },
       "data": [
        {
         "customdata": [
          [
           "100",
           "104"
          ],
          [
           "2261",
           "100"
          ],
          [
           "100",
           "2261"
          ],
          [
           "1004",
           "1755"
          ],
          [
           "2261",
           "104"
          ],
          [
           "2808",
           "104"
          ],
          [
           "2737",
           "1075"
          ],
          [
           "1075",
           "2737"
          ],
          [
           "1075",
           "302"
          ],
          [
           "1075",
           "3097"
          ],
          [
           "1077",
           "1755"
          ],
          [
           "1077",
           "206"
          ],
          [
           "1167",
           "133"
          ],
          [
           "1167",
           "137"
          ],
          [
           "1182",
           "41"
          ],
          [
           "41",
           "1182"
          ],
          [
           "1184",
           "2421"
          ],
          [
           "1192",
           "1185"
          ],
          [
           "1185",
           "1192"
          ],
          [
           "1199",
           "1185"
          ],
          [
           "1185",
           "1199"
          ],
          [
           "1192",
           "1189"
          ],
          [
           "1189",
           "1192"
          ],
          [
           "1189",
           "2421"
          ],
          [
           "1192",
           "2421"
          ],
          [
           "2421",
           "1192"
          ],
          [
           "1192",
           "3530"
          ],
          [
           "1200",
           "1199"
          ],
          [
           "1199",
           "1200"
          ],
          [
           "1199",
           "1201"
          ],
          [
           "1201",
           "1199"
          ],
          [
           "1200",
           "1201"
          ],
          [
           "1201",
           "1200"
          ],
          [
           "1200",
           "2804"
          ],
          [
           "2244",
           "1209"
          ],
          [
           "1209",
           "2244"
          ],
          [
           "1209",
           "3694"
          ],
          [
           "134",
           "133"
          ],
          [
           "133",
           "134"
          ],
          [
           "136",
           "133"
          ],
          [
           "133",
           "136"
          ],
          [
           "133",
           "137"
          ],
          [
           "137",
           "133"
          ],
          [
           "3709",
           "133"
          ],
          [
           "543",
           "133"
          ],
          [
           "134",
           "137"
          ],
          [
           "137",
           "134"
          ],
          [
           "3709",
           "134"
          ],
          [
           "134",
           "3709"
          ],
          [
           "135",
           "137"
          ],
          [
           "1359",
           "1358"
          ],
          [
           "1358",
           "1359"
          ],
          [
           "1359",
           "1558"
          ],
          [
           "697",
           "1359"
          ],
          [
           "1359",
           "697"
          ],
          [
           "136",
           "137"
          ],
          [
           "136",
           "543"
          ],
          [
           "543",
           "136"
          ],
          [
           "3709",
           "137"
          ],
          [
           "1653",
           "1377"
          ],
          [
           "1377",
           "2006"
          ],
          [
           "2006",
           "1377"
          ],
          [
           "2150",
           "1377"
          ],
          [
           "3709",
           "1377"
          ],
          [
           "1377",
           "828"
          ],
          [
           "828",
           "1377"
          ],
          [
           "1380",
           "2999"
          ],
          [
           "1380",
           "3067"
          ],
          [
           "3067",
           "1380"
          ],
          [
           "1380",
           "3694"
          ],
          [
           "2518",
           "1501"
          ],
          [
           "1501",
           "2758"
          ],
          [
           "2759",
           "1501"
          ],
          [
           "2768",
           "1501"
          ],
          [
           "2856",
           "1501"
          ],
          [
           "1501",
           "2856"
          ],
          [
           "2093",
           "1523"
          ],
          [
           "1523",
           "2093"
          ],
          [
           "1671",
           "1532"
          ],
          [
           "1944",
           "1532"
          ],
          [
           "2150",
           "1532"
          ],
          [
           "1532",
           "2571"
          ],
          [
           "2571",
           "1532"
          ],
          [
           "1532",
           "302"
          ],
          [
           "302",
           "1532"
          ],
          [
           "3846",
           "1532"
          ],
          [
           "1532",
           "726"
          ],
          [
           "726",
           "1532"
          ],
          [
           "1532",
           "828"
          ],
          [
           "828",
           "1532"
          ],
          [
           "3205",
           "1561"
          ],
          [
           "3862",
           "1561"
          ],
          [
           "1592",
           "2758"
          ],
          [
           "1600",
           "1599"
          ],
          [
           "1599",
           "1600"
          ],
          [
           "1599",
           "3530"
          ],
          [
           "174",
           "1600"
          ],
          [
           "2437",
           "1600"
          ],
          [
           "2988",
           "1600"
          ],
          [
           "1653",
           "1648"
          ],
          [
           "192",
           "1648"
          ],
          [
           "1648",
           "828"
          ],
          [
           "828",
           "1648"
          ],
          [
           "1851",
           "1653"
          ],
          [
           "1653",
           "1851"
          ],
          [
           "1653",
           "3660"
          ],
          [
           "3660",
           "1653"
          ],
          [
           "1653",
           "828"
          ],
          [
           "828",
           "1653"
          ],
          [
           "1659",
           "1764"
          ],
          [
           "1659",
           "1919"
          ],
          [
           "1919",
           "1659"
          ],
          [
           "324",
           "1659"
          ],
          [
           "1659",
           "324"
          ],
          [
           "1659",
           "519"
          ],
          [
           "519",
           "1659"
          ],
          [
           "1659",
           "91"
          ],
          [
           "91",
           "1659"
          ],
          [
           "94",
           "1659"
          ],
          [
           "1659",
           "94"
          ],
          [
           "186",
           "172"
          ],
          [
           "172",
           "186"
          ],
          [
           "2263",
           "172"
          ],
          [
           "1721",
           "2758"
          ],
          [
           "1721",
           "2993"
          ],
          [
           "2557",
           "1722"
          ],
          [
           "1753",
           "1743"
          ],
          [
           "1743",
           "1755"
          ],
          [
           "1768",
           "1743"
          ],
          [
           "1744",
           "1755"
          ],
          [
           "1745",
           "1755"
          ],
          [
           "1931",
           "1748"
          ],
          [
           "1748",
           "1931"
          ],
          [
           "1750",
           "1755"
          ],
          [
           "1750",
           "1766"
          ],
          [
           "1750",
           "1935"
          ],
          [
           "1753",
           "1755"
          ],
          [
           "1754",
           "1755"
          ],
          [
           "1756",
           "1755"
          ],
          [
           "1759",
           "1755"
          ],
          [
           "1764",
           "1755"
          ],
          [
           "1765",
           "1755"
          ],
          [
           "1766",
           "1755"
          ],
          [
           "1768",
           "1755"
          ],
          [
           "1935",
           "1755"
          ],
          [
           "2667",
           "1755"
          ],
          [
           "1757",
           "1935"
          ],
          [
           "1919",
           "1764"
          ],
          [
           "1768",
           "1766"
          ],
          [
           "1767",
           "2999"
          ],
          [
           "1768",
           "2475"
          ],
          [
           "2475",
           "1768"
          ],
          [
           "1770",
           "2992"
          ],
          [
           "1770",
           "3694"
          ],
          [
           "1776",
           "2999"
          ],
          [
           "3148",
           "1776"
          ],
          [
           "1776",
           "3148"
          ],
          [
           "1776",
           "3694"
          ],
          [
           "1851",
           "3660"
          ],
          [
           "3660",
           "1851"
          ],
          [
           "1851",
           "828"
          ],
          [
           "2643",
           "1911"
          ],
          [
           "1911",
           "2643"
          ],
          [
           "324",
           "1919"
          ],
          [
           "1919",
           "324"
          ],
          [
           "519",
           "1919"
          ],
          [
           "1919",
           "519"
          ],
          [
           "91",
           "1919"
          ],
          [
           "1919",
           "91"
          ],
          [
           "94",
           "1919"
          ],
          [
           "1919",
           "94"
          ],
          [
           "192",
           "828"
          ],
          [
           "1927",
           "1928"
          ],
          [
           "1927",
           "1934"
          ],
          [
           "1937",
           "1927"
          ],
          [
           "1927",
           "1937"
          ],
          [
           "1939",
           "1927"
          ],
          [
           "1927",
           "1939"
          ],
          [
           "1927",
           "1942"
          ],
          [
           "1942",
           "1927"
          ],
          [
           "1929",
           "1928"
          ],
          [
           "1937",
           "1928"
          ],
          [
           "1942",
           "1928"
          ],
          [
           "1928",
           "1942"
          ],
          [
           "667",
           "1928"
          ],
          [
           "671",
           "1928"
          ],
          [
           "1932",
           "1930"
          ],
          [
           "1937",
           "1930"
          ],
          [
           "3351",
           "1930"
          ],
          [
           "1932",
           "1934"
          ],
          [
           "1937",
           "1932"
          ],
          [
           "1932",
           "1937"
          ],
          [
           "1939",
           "1932"
          ],
          [
           "1932",
           "1939"
          ],
          [
           "1932",
           "3261"
          ],
          [
           "3351",
           "1932"
          ],
          [
           "1932",
           "3351"
          ],
          [
           "668",
           "1932"
          ],
          [
           "1932",
           "668"
          ],
          [
           "1937",
           "1934"
          ],
          [
           "1934",
           "1937"
          ],
          [
           "1934",
           "1939"
          ],
          [
           "1939",
           "1934"
          ],
          [
           "1943",
           "1934"
          ],
          [
           "1946",
           "1934"
          ],
          [
           "3093",
           "1934"
          ],
          [
           "2667",
           "1935"
          ],
          [
           "1937",
           "1939"
          ],
          [
           "1937",
           "2758"
          ],
          [
           "1937",
           "668"
          ],
          [
           "668",
           "1937"
          ],
          [
           "3351",
           "1939"
          ],
          [
           "3663",
           "1939"
          ],
          [
           "667",
           "1942"
          ],
          [
           "1942",
           "667"
          ],
          [
           "1942",
           "671"
          ],
          [
           "671",
           "1942"
          ],
          [
           "1943",
           "1946"
          ],
          [
           "1946",
           "1943"
          ],
          [
           "1944",
           "3694"
          ],
          [
           "1956",
           "1961"
          ],
          [
           "1961",
           "1956"
          ],
          [
           "1957",
           "1961"
          ],
          [
           "1961",
           "1957"
          ],
          [
           "3709",
           "2006"
          ],
          [
           "2006",
           "3709"
          ],
          [
           "2093",
           "302"
          ],
          [
           "2093",
           "3445"
          ],
          [
           "3445",
           "2093"
          ],
          [
           "3709",
           "2093"
          ],
          [
           "2093",
           "3709"
          ],
          [
           "962",
           "2093"
          ],
          [
           "2093",
           "962"
          ],
          [
           "2150",
           "828"
          ],
          [
           "828",
           "2150"
          ],
          [
           "2189",
           "264"
          ],
          [
           "264",
           "2189"
          ],
          [
           "2189",
           "302"
          ],
          [
           "773",
           "2189"
          ],
          [
           "2189",
           "773"
          ],
          [
           "2234",
           "2238"
          ],
          [
           "2238",
           "2234"
          ],
          [
           "2234",
           "2243"
          ],
          [
           "2243",
           "2234"
          ],
          [
           "2238",
           "2243"
          ],
          [
           "2243",
           "2238"
          ],
          [
           "2246",
           "3097"
          ],
          [
           "3093",
           "2255"
          ],
          [
           "2255",
           "3093"
          ],
          [
           "2260",
           "2261"
          ],
          [
           "2261",
           "2260"
          ],
          [
           "2261",
           "2338"
          ],
          [
           "2261",
           "2421"
          ],
          [
           "2261",
           "2992"
          ],
          [
           "2263",
           "2338"
          ],
          [
           "2263",
           "3097"
          ],
          [
           "3142",
           "2263"
          ],
          [
           "2263",
           "3142"
          ],
          [
           "2263",
           "3530"
          ],
          [
           "2303",
           "3097"
          ],
          [
           "2312",
           "2307"
          ],
          [
           "2988",
           "2307"
          ],
          [
           "3064",
           "2307"
          ],
          [
           "732",
           "2307"
          ],
          [
           "2308",
           "3694"
          ],
          [
           "2384",
           "3694"
          ],
          [
           "2437",
           "2421"
          ],
          [
           "2421",
           "2437"
          ],
          [
           "2475",
           "3760"
          ],
          [
           "2557",
           "2655"
          ],
          [
           "2557",
           "2993"
          ],
          [
           "705",
           "2562"
          ],
          [
           "2562",
           "705"
          ],
          [
           "2571",
           "302"
          ],
          [
           "2571",
           "3694"
          ],
          [
           "3846",
           "2571"
          ],
          [
           "2571",
           "3846"
          ],
          [
           "2594",
           "2595"
          ],
          [
           "2595",
           "2594"
          ],
          [
           "2594",
           "2596"
          ],
          [
           "2596",
           "2594"
          ],
          [
           "2596",
           "2595"
          ],
          [
           "2595",
           "2596"
          ],
          [
           "261",
           "260"
          ],
          [
           "260",
           "2804"
          ],
          [
           "2804",
           "260"
          ],
          [
           "261",
           "2804"
          ],
          [
           "3610",
           "261"
          ],
          [
           "261",
           "3610"
          ],
          [
           "432",
           "261"
          ],
          [
           "261",
           "432"
          ],
          [
           "264",
           "302"
          ],
          [
           "773",
           "264"
          ],
          [
           "264",
           "773"
          ],
          [
           "3709",
           "2655"
          ],
          [
           "432",
           "2670"
          ],
          [
           "2670",
           "432"
          ],
          [
           "2690",
           "3308"
          ],
          [
           "3308",
           "2690"
          ],
          [
           "2690",
           "3694"
          ],
          [
           "984",
           "2690"
          ],
          [
           "2690",
           "984"
          ],
          [
           "3771",
           "2714"
          ],
          [
           "668",
           "2714"
          ],
          [
           "669",
           "2714"
          ],
          [
           "2737",
           "302"
          ],
          [
           "2759",
           "2758"
          ],
          [
           "2768",
           "2758"
          ],
          [
           "2856",
           "2758"
          ],
          [
           "3093",
           "2758"
          ],
          [
           "3378",
           "2758"
          ],
          [
           "3408",
           "2758"
          ],
          [
           "2768",
           "2759"
          ],
          [
           "2759",
           "2768"
          ],
          [
           "2759",
           "2856"
          ],
          [
           "2768",
           "2856"
          ],
          [
           "3578",
           "2804"
          ],
          [
           "3610",
           "2804"
          ],
          [
           "432",
           "2804"
          ],
          [
           "2931",
           "2993"
          ],
          [
           "3067",
           "2931"
          ],
          [
           "2931",
           "3067"
          ],
          [
           "2931",
           "3694"
          ],
          [
           "3729",
           "2986"
          ],
          [
           "2986",
           "3729"
          ],
          [
           "2992",
           "3694"
          ],
          [
           "3067",
           "2993"
          ],
          [
           "3148",
           "2999"
          ],
          [
           "3008",
           "3007"
          ],
          [
           "3007",
           "3008"
          ],
          [
           "3445",
           "302"
          ],
          [
           "3846",
           "302"
          ],
          [
           "773",
           "302"
          ],
          [
           "3663",
           "3041"
          ],
          [
           "3067",
           "3694"
          ],
          [
           "3072",
           "3071"
          ],
          [
           "3071",
           "3072"
          ],
          [
           "3071",
           "731"
          ],
          [
           "3092",
           "3090"
          ],
          [
           "3090",
           "3092"
          ],
          [
           "3093",
           "3090"
          ],
          [
           "3090",
           "3093"
          ],
          [
           "3093",
           "3092"
          ],
          [
           "3092",
           "3093"
          ],
          [
           "3142",
           "3097"
          ],
          [
           "3148",
           "3694"
          ],
          [
           "3237",
           "3251"
          ],
          [
           "3251",
           "3237"
          ],
          [
           "324",
           "519"
          ],
          [
           "519",
           "324"
          ],
          [
           "324",
           "94"
          ],
          [
           "94",
           "324"
          ],
          [
           "3275",
           "3694"
          ],
          [
           "3308",
           "3303"
          ],
          [
           "3303",
           "3308"
          ],
          [
           "3408",
           "3303"
          ],
          [
           "3303",
           "3408"
          ],
          [
           "984",
           "3308"
          ],
          [
           "3308",
           "984"
          ],
          [
           "3378",
           "3694"
          ],
          [
           "3384",
           "828"
          ],
          [
           "3709",
           "3445"
          ],
          [
           "3445",
           "3709"
          ],
          [
           "962",
           "3445"
          ],
          [
           "3445",
           "962"
          ],
          [
           "3610",
           "3451"
          ],
          [
           "3451",
           "3610"
          ],
          [
           "3610",
           "432"
          ],
          [
           "432",
           "3610"
          ],
          [
           "3660",
           "828"
          ],
          [
           "828",
           "3660"
          ],
          [
           "3664",
           "3661"
          ],
          [
           "3661",
           "3664"
          ],
          [
           "3664",
           "3663"
          ],
          [
           "3663",
           "3664"
          ],
          [
           "3846",
           "3694"
          ],
          [
           "587",
           "3694"
          ],
          [
           "3712",
           "3711"
          ],
          [
           "3711",
           "3712"
          ],
          [
           "3712",
           "485"
          ],
          [
           "485",
           "3712"
          ],
          [
           "3745",
           "3742"
          ],
          [
           "3742",
           "3756"
          ],
          [
           "3756",
           "3742"
          ],
          [
           "3745",
           "3756"
          ],
          [
           "3760",
           "3756"
          ],
          [
           "3756",
           "3760"
          ],
          [
           "519",
           "732"
          ],
          [
           "732",
           "519"
          ],
          [
           "94",
           "519"
          ],
          [
           "519",
           "94"
          ],
          [
           "55",
           "57"
          ],
          [
           "57",
           "55"
          ],
          [
           "64",
           "731"
          ],
          [
           "667",
           "671"
          ],
          [
           "671",
           "667"
          ],
          [
           "669",
           "668"
          ],
          [
           "668",
           "669"
          ],
          [
           "705",
           "704"
          ],
          [
           "704",
           "705"
          ],
          [
           "726",
           "828"
          ],
          [
           "731",
           "732"
          ],
          [
           "732",
           "731"
          ],
          [
           "733",
           "731"
          ],
          [
           "2737, 1075",
           "302"
          ],
          [
           "2737, 302",
           "1075"
          ],
          [
           "302, 1075",
           "2737"
          ],
          [
           "2737",
           "302, 1075"
          ],
          [
           "1075",
           "2737, 302"
          ],
          [
           "1167, 133",
           "137"
          ],
          [
           "1167, 137",
           "133"
          ],
          [
           "133, 137",
           "1167"
          ],
          [
           "1167",
           "133, 137"
          ],
          [
           "1192, 2421",
           "1189"
          ],
          [
           "1192, 1189",
           "2421"
          ],
          [
           "2421, 1189",
           "1192"
          ],
          [
           "1192",
           "2421, 1189"
          ],
          [
           "1189",
           "1192, 2421"
          ],
          [
           "1200, 1199",
           "1201"
          ],
          [
           "1200, 1201",
           "1199"
          ],
          [
           "1199, 1201",
           "1200"
          ],
          [
           "1200",
           "1199, 1201"
          ],
          [
           "1199",
           "1200, 1201"
          ],
          [
           "1201",
           "1200, 1199"
          ],
          [
           "134, 133",
           "137"
          ],
          [
           "134, 137",
           "133"
          ],
          [
           "133, 137",
           "134"
          ],
          [
           "134",
           "133, 137"
          ],
          [
           "136, 133",
           "137"
          ],
          [
           "136, 137",
           "133"
          ],
          [
           "133, 137",
           "136"
          ],
          [
           "136",
           "133, 137"
          ],
          [
           "136, 133",
           "543"
          ],
          [
           "136, 543",
           "133"
          ],
          [
           "133, 543",
           "136"
          ],
          [
           "136",
           "133, 543"
          ],
          [
           "543",
           "136, 133"
          ],
          [
           "2655, 133",
           "137"
          ],
          [
           "2655, 137",
           "133"
          ],
          [
           "133, 137",
           "2655"
          ],
          [
           "3709, 133",
           "137"
          ],
          [
           "3709, 137",
           "133"
          ],
          [
           "133, 137",
           "3709"
          ],
          [
           "3709",
           "133, 137"
          ],
          [
           "3709, 2655",
           "133"
          ],
          [
           "3709, 133",
           "2655"
          ],
          [
           "2655, 133",
           "3709"
          ],
          [
           "3709",
           "2655, 133"
          ],
          [
           "3709, 134",
           "137"
          ],
          [
           "3709, 137",
           "134"
          ],
          [
           "134, 137",
           "3709"
          ],
          [
           "3709",
           "134, 137"
          ],
          [
           "134",
           "3709, 137"
          ],
          [
           "3709, 2655",
           "137"
          ],
          [
           "3709, 137",
           "2655"
          ],
          [
           "2655, 137",
           "3709"
          ],
          [
           "3709",
           "2655, 137"
          ],
          [
           "1653, 828",
           "1377"
          ],
          [
           "1653, 1377",
           "828"
          ],
          [
           "1377, 828",
           "1653"
          ],
          [
           "1653",
           "1377, 828"
          ],
          [
           "1377, 3709",
           "2006"
          ],
          [
           "1377, 2006",
           "3709"
          ],
          [
           "3709, 2006",
           "1377"
          ],
          [
           "3709",
           "1377, 2006"
          ],
          [
           "2006",
           "1377, 3709"
          ],
          [
           "3694, 1380",
           "3067"
          ],
          [
           "3694, 3067",
           "1380"
          ],
          [
           "1380, 3067",
           "3694"
          ],
          [
           "1380",
           "3694, 3067"
          ],
          [
           "3067",
           "3694, 1380"
          ],
          [
           "2758, 2759",
           "1501"
          ],
          [
           "2758, 1501",
           "2759"
          ],
          [
           "2759, 1501",
           "2758"
          ],
          [
           "2759",
           "2758, 1501"
          ],
          [
           "2768, 2758",
           "1501"
          ],
          [
           "2768, 1501",
           "2758"
          ],
          [
           "2758, 1501",
           "2768"
          ],
          [
           "2768",
           "2758, 1501"
          ],
          [
           "2856, 2758",
           "1501"
          ],
          [
           "2856, 1501",
           "2758"
          ],
          [
           "2758, 1501",
           "2856"
          ],
          [
           "2856",
           "2758, 1501"
          ],
          [
           "1501",
           "2856, 2758"
          ],
          [
           "2768, 2759",
           "1501"
          ],
          [
           "2768, 1501",
           "2759"
          ],
          [
           "2759, 1501",
           "2768"
          ],
          [
           "2768",
           "2759, 1501"
          ],
          [
           "2759",
           "2768, 1501"
          ],
          [
           "2856, 2759",
           "1501"
          ],
          [
           "2759, 1501",
           "2856"
          ],
          [
           "2759",
           "2856, 1501"
          ],
          [
           "2856, 2768",
           "1501"
          ],
          [
           "2768, 1501",
           "2856"
          ],
          [
           "2768",
           "2856, 1501"
          ],
          [
           "1532, 1648",
           "828"
          ],
          [
           "1532, 828",
           "1648"
          ],
          [
           "1648, 828",
           "1532"
          ],
          [
           "3846, 1532",
           "2571"
          ],
          [
           "3846, 2571",
           "1532"
          ],
          [
           "1532, 2571",
           "3846"
          ],
          [
           "3846",
           "1532, 2571"
          ],
          [
           "2571",
           "3846, 1532"
          ],
          [
           "1532, 726",
           "828"
          ],
          [
           "1532, 828",
           "726"
          ],
          [
           "828, 726",
           "1532"
          ],
          [
           "726",
           "1532, 828"
          ],
          [
           "1648, 828",
           "192"
          ],
          [
           "192, 828",
           "1648"
          ],
          [
           "1648, 192",
           "828"
          ],
          [
           "192",
           "1648, 828"
          ],
          [
           "3660, 1851",
           "1653"
          ],
          [
           "3660, 1653",
           "1851"
          ],
          [
           "1851, 1653",
           "3660"
          ],
          [
           "3660",
           "1851, 1653"
          ],
          [
           "1851",
           "3660, 1653"
          ],
          [
           "1653",
           "3660, 1851"
          ],
          [
           "1851, 1653",
           "828"
          ],
          [
           "1851, 828",
           "1653"
          ],
          [
           "1653, 828",
           "1851"
          ],
          [
           "1851",
           "1653, 828"
          ],
          [
           "1653",
           "1851, 828"
          ],
          [
           "1653, 3660",
           "828"
          ],
          [
           "1653, 828",
           "3660"
          ],
          [
           "3660, 828",
           "1653"
          ],
          [
           "1653",
           "3660, 828"
          ],
          [
           "3660",
           "1653, 828"
          ],
          [
           "1764, 1659",
           "1919"
          ],
          [
           "1764, 1919",
           "1659"
          ],
          [
           "1659, 1919",
           "1764"
          ],
          [
           "1659",
           "1764, 1919"
          ],
          [
           "1919",
           "1764, 1659"
          ],
          [
           "324, 1659",
           "1919"
          ],
          [
           "324, 1919",
           "1659"
          ],
          [
           "1659, 1919",
           "324"
          ],
          [
           "324",
           "1659, 1919"
          ],
          [
           "1659",
           "324, 1919"
          ],
          [
           "1919",
           "324, 1659"
          ],
          [
           "1659, 519",
           "1919"
          ],
          [
           "1659, 1919",
           "519"
          ],
          [
           "519, 1919",
           "1659"
          ],
          [
           "1659",
           "519, 1919"
          ],
          [
           "519",
           "1659, 1919"
          ],
          [
           "1919",
           "1659, 519"
          ],
          [
           "1659, 91",
           "1919"
          ],
          [
           "1659, 1919",
           "91"
          ],
          [
           "91, 1919",
           "1659"
          ],
          [
           "1659",
           "91, 1919"
          ],
          [
           "91",
           "1659, 1919"
          ],
          [
           "1919",
           "1659, 91"
          ],
          [
           "94, 1659",
           "1919"
          ],
          [
           "94, 1919",
           "1659"
          ],
          [
           "1659, 1919",
           "94"
          ],
          [
           "94",
           "1659, 1919"
          ],
          [
           "1659",
           "94, 1919"
          ],
          [
           "1919",
           "94, 1659"
          ],
          [
           "324, 1659",
           "519"
          ],
          [
           "324, 519",
           "1659"
          ],
          [
           "1659, 519",
           "324"
          ],
          [
           "324",
           "1659, 519"
          ],
          [
           "1659",
           "324, 519"
          ],
          [
           "519",
           "324, 1659"
          ],
          [
           "324, 94",
           "1659"
          ],
          [
           "324, 1659",
           "94"
          ],
          [
           "94, 1659",
           "324"
          ],
          [
           "324",
           "94, 1659"
          ],
          [
           "94",
           "324, 1659"
          ],
          [
           "1659",
           "324, 94"
          ],
          [
           "94, 1659",
           "519"
          ],
          [
           "94, 519",
           "1659"
          ],
          [
           "1659, 519",
           "94"
          ],
          [
           "94",
           "1659, 519"
          ],
          [
           "1659",
           "94, 519"
          ],
          [
           "519",
           "94, 1659"
          ],
          [
           "2993, 2655",
           "1722"
          ],
          [
           "2993, 1722",
           "2655"
          ],
          [
           "2655, 1722",
           "2993"
          ],
          [
           "2993, 3694",
           "1722"
          ],
          [
           "2993, 1722",
           "3694"
          ],
          [
           "3694, 1722",
           "2993"
          ],
          [
           "1743, 1753",
           "1755"
          ],
          [
           "1743, 1755",
           "1753"
          ],
          [
           "1753, 1755",
           "1743"
          ],
          [
           "1753",
           "1743, 1755"
          ],
          [
           "1743, 1755",
           "1766"
          ],
          [
           "1743, 1766",
           "1755"
          ],
          [
           "1755, 1766",
           "1743"
          ],
          [
           "1768, 1743",
           "1755"
          ],
          [
           "1768, 1755",
           "1743"
          ],
          [
           "1743, 1755",
           "1768"
          ],
          [
           "1768",
           "1743, 1755"
          ],
          [
           "1768, 1755",
           "1766"
          ],
          [
           "1768, 1766",
           "1755"
          ],
          [
           "1755, 1766",
           "1768"
          ],
          [
           "1768",
           "1755, 1766"
          ],
          [
           "1935, 1755",
           "2667"
          ],
          [
           "1935, 2667",
           "1755"
          ],
          [
           "1755, 2667",
           "1935"
          ],
          [
           "2667",
           "1935, 1755"
          ],
          [
           "1770, 3694",
           "2992"
          ],
          [
           "1770, 2992",
           "3694"
          ],
          [
           "3694, 2992",
           "1770"
          ],
          [
           "1770",
           "3694, 2992"
          ],
          [
           "3148, 2999",
           "1776"
          ],
          [
           "3148, 1776",
           "2999"
          ],
          [
           "1776, 2999",
           "3148"
          ],
          [
           "3148",
           "1776, 2999"
          ],
          [
           "1776",
           "3148, 2999"
          ],
          [
           "3148, 3694",
           "1776"
          ],
          [
           "3148, 1776",
           "3694"
          ],
          [
           "1776, 3694",
           "3148"
          ],
          [
           "3148",
           "1776, 3694"
          ],
          [
           "1776",
           "3148, 3694"
          ],
          [
           "1851, 3660",
           "828"
          ],
          [
           "1851, 828",
           "3660"
          ],
          [
           "3660, 828",
           "1851"
          ],
          [
           "1851",
           "3660, 828"
          ],
          [
           "3660",
           "1851, 828"
          ],
          [
           "324, 519",
           "1919"
          ],
          [
           "324, 1919",
           "519"
          ],
          [
           "519, 1919",
           "324"
          ],
          [
           "324",
           "519, 1919"
          ],
          [
           "519",
           "324, 1919"
          ],
          [
           "1919",
           "324, 519"
          ],
          [
           "324, 94",
           "1919"
          ],
          [
           "324, 1919",
           "94"
          ],
          [
           "94, 1919",
           "324"
          ],
          [
           "324",
           "94, 1919"
          ],
          [
           "94",
           "324, 1919"
          ],
          [
           "1919",
           "324, 94"
          ],
          [
           "94, 519",
           "1919"
          ],
          [
           "94, 1919",
           "519"
          ],
          [
           "519, 1919",
           "94"
          ],
          [
           "94",
           "519, 1919"
          ],
          [
           "519",
           "94, 1919"
          ],
          [
           "1919",
           "94, 519"
          ],
          [
           "1937, 1927",
           "1928"
          ],
          [
           "1937, 1928",
           "1927"
          ],
          [
           "1927, 1928",
           "1937"
          ],
          [
           "1937",
           "1927, 1928"
          ],
          [
           "1927",
           "1937, 1928"
          ],
          [
           "1937, 1934",
           "1927"
          ],
          [
           "1937, 1927",
           "1934"
          ],
          [
           "1934, 1927",
           "1937"
          ],
          [
           "1937",
           "1934, 1927"
          ],
          [
           "1927",
           "1937, 1934"
          ],
          [
           "1934, 1939",
           "1927"
          ],
          [
           "1927, 1939",
           "1934"
          ],
          [
           "1934, 1927",
           "1939"
          ],
          [
           "1927",
           "1934, 1939"
          ],
          [
           "1937, 1939",
           "1927"
          ],
          [
           "1937, 1927",
           "1939"
          ],
          [
           "1927, 1939",
           "1937"
          ],
          [
           "1937",
           "1927, 1939"
          ],
          [
           "1927",
           "1937, 1939"
          ],
          [
           "1934, 1939",
           "1928"
          ],
          [
           "1934, 1928",
           "1939"
          ],
          [
           "1939, 1928",
           "1934"
          ],
          [
           "667, 1942",
           "1928"
          ],
          [
           "667, 1928",
           "1942"
          ],
          [
           "1942, 1928",
           "667"
          ],
          [
           "667",
           "1942, 1928"
          ],
          [
           "1942",
           "667, 1928"
          ],
          [
           "1942, 1928",
           "671"
          ],
          [
           "1942, 671",
           "1928"
          ],
          [
           "1928, 671",
           "1942"
          ],
          [
           "1942",
           "1928, 671"
          ],
          [
           "671",
           "1942, 1928"
          ],
          [
           "667, 1928",
           "671"
          ],
          [
           "667, 671",
           "1928"
          ],
          [
           "1928, 671",
           "667"
          ],
          [
           "667",
           "1928, 671"
          ],
          [
           "671",
           "667, 1928"
          ],
          [
           "1937, 1930",
           "1934"
          ],
          [
           "1930, 1934",
           "1937"
          ],
          [
           "1937, 1934",
           "1930"
          ],
          [
           "1937",
           "1930, 1934"
          ],
          [
           "1934, 1939",
           "1932"
          ],
          [
           "1934, 1932",
           "1939"
          ],
          [
           "1939, 1932",
           "1934"
          ],
          [
           "1932",
           "1934, 1939"
          ],
          [
           "3351, 1939",
           "1932"
          ],
          [
           "3351, 1932",
           "1939"
          ],
          [
           "1939, 1932",
           "3351"
          ],
          [
           "3351",
           "1939, 1932"
          ],
          [
           "1932",
           "3351, 1939"
          ],
          [
           "1937, 1934",
           "1939"
          ],
          [
           "1937, 1939",
           "1934"
          ],
          [
           "1934, 1939",
           "1937"
          ],
          [
           "1937",
           "1934, 1939"
          ],
          [
           "1934, 1943",
           "1946"
          ],
          [
           "1934, 1946",
           "1943"
          ],
          [
           "1943, 1946",
           "1934"
          ],
          [
           "1943",
           "1934, 1946"
          ],
          [
           "1946",
           "1934, 1943"
          ],
          [
           "3694, 1934",
           "2758"
          ],
          [
           "3694, 2758",
           "1934"
          ],
          [
           "2758, 1934",
           "3694"
          ],
          [
           "1939, 3041",
           "3663"
          ],
          [
           "1939, 3663",
           "3041"
          ],
          [
           "3041, 3663",
           "1939"
          ],
          [
           "3663",
           "1939, 3041"
          ],
          [
           "667, 1942",
           "671"
          ],
          [
           "667, 671",
           "1942"
          ],
          [
           "1942, 671",
           "667"
          ],
          [
           "667",
           "1942, 671"
          ],
          [
           "1942",
           "667, 671"
          ],
          [
           "671",
           "667, 1942"
          ],
          [
           "2093, 302",
           "3445"
          ],
          [
           "2093, 3445",
           "302"
          ],
          [
           "302, 3445",
           "2093"
          ],
          [
           "2093",
           "302, 3445"
          ],
          [
           "3445",
           "2093, 302"
          ],
          [
           "962, 2093",
           "3445"
          ],
          [
           "962, 3445",
           "2093"
          ],
          [
           "2093, 3445",
           "962"
          ],
          [
           "962",
           "2093, 3445"
          ],
          [
           "2093",
           "962, 3445"
          ],
          [
           "3445",
           "962, 2093"
          ],
          [
           "773, 2189",
           "264"
          ],
          [
           "2189, 264",
           "773"
          ],
          [
           "773, 264",
           "2189"
          ],
          [
           "2189",
           "773, 264"
          ],
          [
           "773",
           "2189, 264"
          ],
          [
           "264",
           "773, 2189"
          ],
          [
           "773, 302",
           "2189"
          ],
          [
           "773, 2189",
           "302"
          ],
          [
           "302, 2189",
           "773"
          ],
          [
           "773",
           "302, 2189"
          ],
          [
           "2189",
           "773, 302"
          ],
          [
           "2234, 2238",
           "2243"
          ],
          [
           "2234, 2243",
           "2238"
          ],
          [
           "2238, 2243",
           "2234"
          ],
          [
           "2234",
           "2238, 2243"
          ],
          [
           "2238",
           "2234, 2243"
          ],
          [
           "2243",
           "2234, 2238"
          ],
          [
           "3142, 3097",
           "2263"
          ],
          [
           "3142, 2263",
           "3097"
          ],
          [
           "3097, 2263",
           "3142"
          ],
          [
           "3142",
           "3097, 2263"
          ],
          [
           "2263",
           "3142, 3097"
          ],
          [
           "3846, 302",
           "2571"
          ],
          [
           "3846, 2571",
           "302"
          ],
          [
           "302, 2571",
           "3846"
          ],
          [
           "3846",
           "302, 2571"
          ],
          [
           "2571",
           "3846, 302"
          ],
          [
           "3846, 3694",
           "2571"
          ],
          [
           "3846, 2571",
           "3694"
          ],
          [
           "3694, 2571",
           "3846"
          ],
          [
           "3846",
           "3694, 2571"
          ],
          [
           "2571",
           "3846, 3694"
          ],
          [
           "2594, 2595",
           "2596"
          ],
          [
           "2594, 2596",
           "2595"
          ],
          [
           "2596, 2595",
           "2594"
          ],
          [
           "2594",
           "2596, 2595"
          ],
          [
           "2595",
           "2594, 2596"
          ],
          [
           "2596",
           "2594, 2595"
          ],
          [
           "3610, 261",
           "2804"
          ],
          [
           "3610, 2804",
           "261"
          ],
          [
           "261, 2804",
           "3610"
          ],
          [
           "3610",
           "261, 2804"
          ],
          [
           "261",
           "3610, 2804"
          ],
          [
           "432, 261",
           "2804"
          ],
          [
           "432, 2804",
           "261"
          ],
          [
           "261, 2804",
           "432"
          ],
          [
           "432",
           "261, 2804"
          ],
          [
           "261",
           "432, 2804"
          ],
          [
           "3610, 432",
           "261"
          ],
          [
           "3610, 261",
           "432"
          ],
          [
           "432, 261",
           "3610"
          ],
          [
           "3610",
           "432, 261"
          ],
          [
           "432",
           "3610, 261"
          ],
          [
           "261",
           "3610, 432"
          ],
          [
           "984, 2690",
           "3308"
          ],
          [
           "984, 3308",
           "2690"
          ],
          [
           "2690, 3308",
           "984"
          ],
          [
           "984",
           "2690, 3308"
          ],
          [
           "2690",
           "984, 3308"
          ],
          [
           "3308",
           "984, 2690"
          ],
          [
           "2714, 669",
           "668"
          ],
          [
           "2714, 668",
           "669"
          ],
          [
           "669, 668",
           "2714"
          ],
          [
           "669",
           "2714, 668"
          ],
          [
           "668",
           "2714, 669"
          ],
          [
           "2768, 2758",
           "2759"
          ],
          [
           "2768, 2759",
           "2758"
          ],
          [
           "2758, 2759",
           "2768"
          ],
          [
           "2768",
           "2758, 2759"
          ],
          [
           "2759",
           "2768, 2758"
          ],
          [
           "2856, 2758",
           "2759"
          ],
          [
           "2856, 2759",
           "2758"
          ],
          [
           "2758, 2759",
           "2856"
          ],
          [
           "2759",
           "2856, 2758"
          ],
          [
           "2856, 2768",
           "2758"
          ],
          [
           "2856, 2758",
           "2768"
          ],
          [
           "2768, 2758",
           "2856"
          ],
          [
           "2768",
           "2856, 2758"
          ],
          [
           "2856, 2768",
           "2759"
          ],
          [
           "2856, 2759",
           "2768"
          ],
          [
           "2768, 2759",
           "2856"
          ],
          [
           "2768",
           "2856, 2759"
          ],
          [
           "2759",
           "2856, 2768"
          ],
          [
           "3610, 432",
           "2804"
          ],
          [
           "3610, 2804",
           "432"
          ],
          [
           "432, 2804",
           "3610"
          ],
          [
           "3610",
           "432, 2804"
          ],
          [
           "432",
           "3610, 2804"
          ],
          [
           "3261, 3694",
           "2992"
          ],
          [
           "3261, 2992",
           "3694"
          ],
          [
           "3694, 2992",
           "3261"
          ],
          [
           "3093, 3092",
           "3090"
          ],
          [
           "3093, 3090",
           "3092"
          ],
          [
           "3092, 3090",
           "3093"
          ],
          [
           "3093",
           "3092, 3090"
          ],
          [
           "3092",
           "3093, 3090"
          ],
          [
           "3090",
           "3093, 3092"
          ],
          [
           "324, 94",
           "519"
          ],
          [
           "324, 519",
           "94"
          ],
          [
           "94, 519",
           "324"
          ],
          [
           "324",
           "94, 519"
          ],
          [
           "94",
           "324, 519"
          ],
          [
           "519",
           "324, 94"
          ],
          [
           "3742, 3745",
           "3756"
          ],
          [
           "3742, 3756",
           "3745"
          ],
          [
           "3745, 3756",
           "3742"
          ],
          [
           "3745",
           "3742, 3756"
          ],
          [
           "3742, 3760",
           "3756"
          ],
          [
           "3742, 3756",
           "3760"
          ],
          [
           "3760, 3756",
           "3742"
          ],
          [
           "3709, 2655, 133",
           "137"
          ],
          [
           "3709, 2655, 137",
           "133"
          ],
          [
           "3709, 133, 137",
           "2655"
          ],
          [
           "2655, 133, 137",
           "3709"
          ],
          [
           "3709, 2655",
           "133, 137"
          ],
          [
           "3709, 133",
           "2655, 137"
          ],
          [
           "3709, 137",
           "2655, 133"
          ],
          [
           "2655, 133",
           "3709, 137"
          ],
          [
           "2655, 137",
           "3709, 133"
          ],
          [
           "133, 137",
           "3709, 2655"
          ],
          [
           "3709",
           "2655, 133, 137"
          ],
          [
           "2768, 2758, 2759",
           "1501"
          ],
          [
           "2768, 2758, 1501",
           "2759"
          ],
          [
           "2768, 2759, 1501",
           "2758"
          ],
          [
           "2758, 2759, 1501",
           "2768"
          ],
          [
           "2768, 2758",
           "2759, 1501"
          ],
          [
           "2768, 2759",
           "2758, 1501"
          ],
          [
           "2768, 1501",
           "2758, 2759"
          ],
          [
           "2758, 2759",
           "2768, 1501"
          ],
          [
           "2758, 1501",
           "2768, 2759"
          ],
          [
           "2759, 1501",
           "2768, 2758"
          ],
          [
           "2768",
           "2758, 2759, 1501"
          ],
          [
           "2759",
           "2768, 2758, 1501"
          ],
          [
           "2856, 2758, 2759",
           "1501"
          ],
          [
           "2856, 2758, 1501",
           "2759"
          ],
          [
           "2856, 2759, 1501",
           "2758"
          ],
          [
           "2758, 2759, 1501",
           "2856"
          ],
          [
           "2856, 2758",
           "2759, 1501"
          ],
          [
           "2856, 2759",
           "2758, 1501"
          ],
          [
           "2758, 2759",
           "2856, 1501"
          ],
          [
           "2758, 1501",
           "2856, 2759"
          ],
          [
           "2759, 1501",
           "2856, 2758"
          ],
          [
           "2759",
           "2856, 2758, 1501"
          ],
          [
           "2856, 2768, 2758",
           "1501"
          ],
          [
           "2856, 2768, 1501",
           "2758"
          ],
          [
           "2856, 2758, 1501",
           "2768"
          ],
          [
           "2768, 2758, 1501",
           "2856"
          ],
          [
           "2856, 2768",
           "2758, 1501"
          ],
          [
           "2856, 2758",
           "2768, 1501"
          ],
          [
           "2768, 2758",
           "2856, 1501"
          ],
          [
           "2768, 1501",
           "2856, 2758"
          ],
          [
           "2758, 1501",
           "2856, 2768"
          ],
          [
           "2768",
           "2856, 2758, 1501"
          ],
          [
           "2856, 2768, 2759",
           "1501"
          ],
          [
           "2856, 2768, 1501",
           "2759"
          ],
          [
           "2856, 2759, 1501",
           "2768"
          ],
          [
           "2768, 2759, 1501",
           "2856"
          ],
          [
           "2856, 2768",
           "2759, 1501"
          ],
          [
           "2856, 2759",
           "2768, 1501"
          ],
          [
           "2768, 2759",
           "2856, 1501"
          ],
          [
           "2768, 1501",
           "2856, 2759"
          ],
          [
           "2759, 1501",
           "2856, 2768"
          ],
          [
           "2768",
           "2856, 2759, 1501"
          ],
          [
           "2759",
           "2856, 2768, 1501"
          ],
          [
           "3660, 1851, 1653",
           "828"
          ],
          [
           "3660, 1851, 828",
           "1653"
          ],
          [
           "3660, 1653, 828",
           "1851"
          ],
          [
           "1851, 1653, 828",
           "3660"
          ],
          [
           "3660, 1851",
           "1653, 828"
          ],
          [
           "3660, 1653",
           "1851, 828"
          ],
          [
           "3660, 828",
           "1851, 1653"
          ],
          [
           "1851, 1653",
           "3660, 828"
          ],
          [
           "1851, 828",
           "3660, 1653"
          ],
          [
           "1653, 828",
           "3660, 1851"
          ],
          [
           "3660",
           "1851, 1653, 828"
          ],
          [
           "1851",
           "3660, 1653, 828"
          ],
          [
           "1653",
           "3660, 1851, 828"
          ],
          [
           "324, 1659, 519",
           "1919"
          ],
          [
           "324, 1659, 1919",
           "519"
          ],
          [
           "324, 519, 1919",
           "1659"
          ],
          [
           "1659, 519, 1919",
           "324"
          ],
          [
           "324, 1659",
           "519, 1919"
          ],
          [
           "324, 519",
           "1659, 1919"
          ],
          [
           "324, 1919",
           "1659, 519"
          ],
          [
           "1659, 519",
           "324, 1919"
          ],
          [
           "1659, 1919",
           "324, 519"
          ],
          [
           "519, 1919",
           "324, 1659"
          ],
          [
           "324",
           "1659, 519, 1919"
          ],
          [
           "1659",
           "324, 519, 1919"
          ],
          [
           "519",
           "324, 1659, 1919"
          ],
          [
           "1919",
           "324, 1659, 519"
          ],
          [
           "324, 94, 1659",
           "1919"
          ],
          [
           "324, 94, 1919",
           "1659"
          ],
          [
           "324, 1659, 1919",
           "94"
          ],
          [
           "94, 1659, 1919",
           "324"
          ],
          [
           "324, 94",
           "1659, 1919"
          ],
          [
           "324, 1659",
           "94, 1919"
          ],
          [
           "324, 1919",
           "94, 1659"
          ],
          [
           "94, 1659",
           "324, 1919"
          ],
          [
           "94, 1919",
           "324, 1659"
          ],
          [
           "1659, 1919",
           "324, 94"
          ],
          [
           "324",
           "94, 1659, 1919"
          ],
          [
           "94",
           "324, 1659, 1919"
          ],
          [
           "1659",
           "324, 94, 1919"
          ],
          [
           "1919",
           "324, 94, 1659"
          ],
          [
           "94, 1659, 519",
           "1919"
          ],
          [
           "94, 1659, 1919",
           "519"
          ],
          [
           "94, 519, 1919",
           "1659"
          ],
          [
           "1659, 519, 1919",
           "94"
          ],
          [
           "94, 1659",
           "519, 1919"
          ],
          [
           "94, 519",
           "1659, 1919"
          ],
          [
           "94, 1919",
           "1659, 519"
          ],
          [
           "1659, 519",
           "94, 1919"
          ],
          [
           "1659, 1919",
           "94, 519"
          ],
          [
           "519, 1919",
           "94, 1659"
          ],
          [
           "94",
           "1659, 519, 1919"
          ],
          [
           "1659",
           "94, 519, 1919"
          ],
          [
           "519",
           "94, 1659, 1919"
          ],
          [
           "1919",
           "94, 1659, 519"
          ],
          [
           "324, 94, 1659",
           "519"
          ],
          [
           "324, 94, 519",
           "1659"
          ],
          [
           "324, 1659, 519",
           "94"
          ],
          [
           "94, 1659, 519",
           "324"
          ],
          [
           "324, 94",
           "1659, 519"
          ],
          [
           "324, 1659",
           "94, 519"
          ],
          [
           "324, 519",
           "94, 1659"
          ],
          [
           "94, 1659",
           "324, 519"
          ],
          [
           "94, 519",
           "324, 1659"
          ],
          [
           "1659, 519",
           "324, 94"
          ],
          [
           "324",
           "94, 1659, 519"
          ],
          [
           "94",
           "324, 1659, 519"
          ],
          [
           "1659",
           "324, 94, 519"
          ],
          [
           "519",
           "324, 94, 1659"
          ],
          [
           "324, 94, 519",
           "1919"
          ],
          [
           "324, 94, 1919",
           "519"
          ],
          [
           "324, 519, 1919",
           "94"
          ],
          [
           "94, 519, 1919",
           "324"
          ],
          [
           "324, 94",
           "519, 1919"
          ],
          [
           "324, 519",
           "94, 1919"
          ],
          [
           "324, 1919",
           "94, 519"
          ],
          [
           "94, 519",
           "324, 1919"
          ],
          [
           "94, 1919",
           "324, 519"
          ],
          [
           "519, 1919",
           "324, 94"
          ],
          [
           "324",
           "94, 519, 1919"
          ],
          [
           "94",
           "324, 519, 1919"
          ],
          [
           "519",
           "324, 94, 1919"
          ],
          [
           "1919",
           "324, 94, 519"
          ],
          [
           "1937, 1934, 1939",
           "1927"
          ],
          [
           "1937, 1927, 1939",
           "1934"
          ],
          [
           "1937, 1934, 1927",
           "1939"
          ],
          [
           "1927, 1934, 1939",
           "1937"
          ],
          [
           "1937, 1939",
           "1934, 1927"
          ],
          [
           "1937, 1934",
           "1927, 1939"
          ],
          [
           "1937, 1927",
           "1934, 1939"
          ],
          [
           "1934, 1939",
           "1937, 1927"
          ],
          [
           "1927, 1939",
           "1937, 1934"
          ],
          [
           "1934, 1927",
           "1937, 1939"
          ],
          [
           "1937",
           "1927, 1934, 1939"
          ],
          [
           "1927",
           "1937, 1934, 1939"
          ],
          [
           "667, 1942, 1928",
           "671"
          ],
          [
           "667, 1942, 671",
           "1928"
          ],
          [
           "667, 1928, 671",
           "1942"
          ],
          [
           "1942, 1928, 671",
           "667"
          ],
          [
           "667, 1942",
           "1928, 671"
          ],
          [
           "667, 1928",
           "1942, 671"
          ],
          [
           "667, 671",
           "1942, 1928"
          ],
          [
           "1942, 1928",
           "667, 671"
          ],
          [
           "1942, 671",
           "667, 1928"
          ],
          [
           "1928, 671",
           "667, 1942"
          ],
          [
           "667",
           "1942, 1928, 671"
          ],
          [
           "1942",
           "667, 1928, 671"
          ],
          [
           "671",
           "667, 1942, 1928"
          ],
          [
           "3610, 432, 261",
           "2804"
          ],
          [
           "3610, 432, 2804",
           "261"
          ],
          [
           "3610, 261, 2804",
           "432"
          ],
          [
           "432, 261, 2804",
           "3610"
          ],
          [
           "3610, 432",
           "261, 2804"
          ],
          [
           "3610, 261",
           "432, 2804"
          ],
          [
           "3610, 2804",
           "432, 261"
          ],
          [
           "432, 261",
           "3610, 2804"
          ],
          [
           "432, 2804",
           "3610, 261"
          ],
          [
           "261, 2804",
           "3610, 432"
          ],
          [
           "3610",
           "432, 261, 2804"
          ],
          [
           "432",
           "3610, 261, 2804"
          ],
          [
           "261",
           "3610, 432, 2804"
          ],
          [
           "2856, 2768, 2758",
           "2759"
          ],
          [
           "2856, 2768, 2759",
           "2758"
          ],
          [
           "2856, 2758, 2759",
           "2768"
          ],
          [
           "2768, 2758, 2759",
           "2856"
          ],
          [
           "2856, 2768",
           "2758, 2759"
          ],
          [
           "2856, 2758",
           "2768, 2759"
          ],
          [
           "2856, 2759",
           "2768, 2758"
          ],
          [
           "2768, 2758",
           "2856, 2759"
          ],
          [
           "2768, 2759",
           "2856, 2758"
          ],
          [
           "2758, 2759",
           "2856, 2768"
          ],
          [
           "2768",
           "2856, 2758, 2759"
          ],
          [
           "2759",
           "2856, 2768, 2758"
          ],
          [
           "2856, 2768, 2758, 1501",
           "2759"
          ],
          [
           "2856, 2768, 1501, 2759",
           "2758"
          ],
          [
           "2768, 2758, 1501, 2759",
           "2856"
          ],
          [
           "2856, 2758, 1501, 2759",
           "2768"
          ],
          [
           "2856, 2768, 2758, 2759",
           "1501"
          ],
          [
           "2856, 2768, 1501",
           "2758, 2759"
          ],
          [
           "2768, 2758, 1501",
           "2856, 2759"
          ],
          [
           "2768, 1501, 2759",
           "2856, 2758"
          ],
          [
           "2856, 2758, 1501",
           "2768, 2759"
          ],
          [
           "2856, 1501, 2759",
           "2768, 2758"
          ],
          [
           "2758, 1501, 2759",
           "2856, 2768"
          ],
          [
           "2856, 2768, 2758",
           "1501, 2759"
          ],
          [
           "2856, 2768, 2759",
           "2758, 1501"
          ],
          [
           "2768, 2758, 2759",
           "2856, 1501"
          ],
          [
           "2856, 2758, 2759",
           "2768, 1501"
          ],
          [
           "2768, 1501",
           "2856, 2758, 2759"
          ],
          [
           "2758, 1501",
           "2856, 2768, 2759"
          ],
          [
           "1501, 2759",
           "2856, 2768, 2758"
          ],
          [
           "2856, 2768",
           "2758, 1501, 2759"
          ],
          [
           "2768, 2758",
           "2856, 1501, 2759"
          ],
          [
           "2768, 2759",
           "2856, 2758, 1501"
          ],
          [
           "2856, 2758",
           "2768, 1501, 2759"
          ],
          [
           "2856, 2759",
           "2768, 2758, 1501"
          ],
          [
           "2758, 2759",
           "2856, 2768, 1501"
          ],
          [
           "2768",
           "2856, 2758, 1501, 2759"
          ],
          [
           "2759",
           "2856, 2768, 2758, 1501"
          ],
          [
           "324, 94, 1659, 1919",
           "519"
          ],
          [
           "324, 94, 519, 1919",
           "1659"
          ],
          [
           "94, 1659, 519, 1919",
           "324"
          ],
          [
           "324, 1659, 519, 1919",
           "94"
          ],
          [
           "324, 94, 1659, 519",
           "1919"
          ],
          [
           "324, 94, 1919",
           "1659, 519"
          ],
          [
           "94, 1659, 1919",
           "324, 519"
          ],
          [
           "94, 519, 1919",
           "324, 1659"
          ],
          [
           "324, 1659, 1919",
           "94, 519"
          ],
          [
           "324, 519, 1919",
           "94, 1659"
          ],
          [
           "1659, 519, 1919",
           "324, 94"
          ],
          [
           "324, 94, 1659",
           "519, 1919"
          ],
          [
           "324, 94, 519",
           "1659, 1919"
          ],
          [
           "94, 1659, 519",
           "324, 1919"
          ],
          [
           "324, 1659, 519",
           "94, 1919"
          ],
          [
           "94, 1919",
           "324, 1659, 519"
          ],
          [
           "324, 1919",
           "94, 1659, 519"
          ],
          [
           "1659, 1919",
           "324, 94, 519"
          ],
          [
           "519, 1919",
           "324, 94, 1659"
          ],
          [
           "324, 94",
           "1659, 519, 1919"
          ],
          [
           "94, 1659",
           "324, 519, 1919"
          ],
          [
           "94, 519",
           "324, 1659, 1919"
          ],
          [
           "324, 1659",
           "94, 519, 1919"
          ],
          [
           "324, 519",
           "94, 1659, 1919"
          ],
          [
           "1659, 519",
           "324, 94, 1919"
          ],
          [
           "1919",
           "324, 94, 1659, 519"
          ],
          [
           "94",
           "324, 1659, 519, 1919"
          ],
          [
           "324",
           "94, 1659, 519, 1919"
          ],
          [
           "1659",
           "324, 94, 519, 1919"
          ],
          [
           "519",
           "324, 94, 1659, 1919"
          ]
         ],
         "hovertemplate": "Dataset=Before Sanitization<br>support=%{x}<br>confidence=%{y}<br>lift=%{z}<br>antecedents=%{customdata[0]}<br>consequents=%{customdata[1]}<extra></extra>",
         "legendgroup": "Before Sanitization",
         "marker": {
          "color": "#636efa",
          "symbol": "circle"
         },
         "mode": "markers",
         "name": "Before Sanitization",
         "scene": "scene",
         "showlegend": true,
         "type": "scatter3d",
         "x": [
          0.02,
          0.02,
          0.02,
          0.02,
          0.02,
          0.02666666666666667,
          0.02,
          0.02,
          0.02,
          0.02,
          0.02,
          0.02,
          0.02,
          0.02,
          0.02,
          0.02,
          0.02,
          0.02,
          0.02,
          0.02,
          0.02,
          0.02,
          0.02,
          0.02,
          0.02666666666666667,
          0.02666666666666667,
          0.02,
          0.02,
          0.02,
          0.02,
          0.02,
          0.02,
          0.02,
          0.02,
          0.02,
          0.02,
          0.02,
          0.02666666666666667,
          0.02666666666666667,
          0.02666666666666667,
          0.02666666666666667,
          0.04,
          0.04,
          0.02,
          0.02,
          0.03333333333333333,
          0.03333333333333333,
          0.02,
          0.02,
          0.02,
          0.02666666666666667,
          0.02666666666666667,
          0.02,
          0.02,
          0.02,
          0.02,
          0.02,
          0.02,
          0.02666666666666667,
          0.02,
          0.02666666666666667,
          0.02666666666666667,
          0.02,
          0.02,
          0.02666666666666667,
          0.02666666666666667,
          0.02,
          0.02,
          0.02,
          0.02,
          0.02,
          0.04,
          0.02,
          0.02,
          0.04666666666666667,
          0.04666666666666667,
          0.02,
          0.02,
          0.02,
          0.02,
          0.02,
          0.02666666666666667,
          0.02666666666666667,
          0.02666666666666667,
          0.02666666666666667,
          0.02,
          0.03333333333333333,
          0.03333333333333333,
          0.02666666666666667,
          0.02666666666666667,
          0.02,
          0.02,
          0.02,
          0.03333333333333333,
          0.03333333333333333,
          0.02,
          0.02,
          0.02,
          0.02,
          0.02,
          0.02,
          0.02666666666666667,
          0.02666666666666667,
          0.02,
          0.02,
          0.02,
          0.02,
          0.02666666666666667,
          0.02666666666666667,
          0.02,
          0.03333333333333333,
          0.03333333333333333,
          0.02,
          0.02,
          0.02666666666666667,
          0.02666666666666667,
          0.02,
          0.02,
          0.02,
          0.02,
          0.02666666666666667,
          0.02666666666666667,
          0.02,
          0.02,
          0.02,
          0.02,
          0.02,
          0.04,
          0.02,
          0.02,
          0.02,
          0.02,
          0.02,
          0.02,
          0.02,
          0.02,
          0.02666666666666667,
          0.03333333333333333,
          0.02666666666666667,
          0.02,
          0.03333333333333333,
          0.02666666666666667,
          0.03333333333333333,
          0.03333333333333333,
          0.04,
          0.02666666666666667,
          0.02,
          0.02,
          0.02,
          0.02,
          0.02,
          0.02,
          0.02,
          0.02,
          0.02,
          0.03333333333333333,
          0.03333333333333333,
          0.02,
          0.02,
          0.02,
          0.02,
          0.02,
          0.02,
          0.02,
          0.02,
          0.02,
          0.02,
          0.02,
          0.02,
          0.02,
          0.02,
          0.02,
          0.02,
          0.02,
          0.02666666666666667,
          0.02666666666666667,
          0.02666666666666667,
          0.02666666666666667,
          0.02,
          0.02,
          0.02,
          0.02,
          0.03333333333333333,
          0.03333333333333333,
          0.02,
          0.02,
          0.02,
          0.02,
          0.02,
          0.02,
          0.02,
          0.02,
          0.02666666666666667,
          0.02666666666666667,
          0.02,
          0.02,
          0.02,
          0.02,
          0.02,
          0.02666666666666667,
          0.02666666666666667,
          0.03333333333333333,
          0.03333333333333333,
          0.02,
          0.02,
          0.02,
          0.02,
          0.02,
          0.02,
          0.02666666666666667,
          0.02666666666666667,
          0.02,
          0.02,
          0.02,
          0.02,
          0.02,
          0.02,
          0.02,
          0.02,
          0.02,
          0.02,
          0.02,
          0.02,
          0.02,
          0.02,
          0.02,
          0.02,
          0.02666666666666667,
          0.02666666666666667,
          0.02,
          0.02,
          0.02,
          0.02,
          0.02666666666666667,
          0.02666666666666667,
          0.02,
          0.02,
          0.02,
          0.02666666666666667,
          0.02666666666666667,
          0.02,
          0.02,
          0.02,
          0.02,
          0.02,
          0.02,
          0.02,
          0.02,
          0.02,
          0.02,
          0.02,
          0.02,
          0.02,
          0.02,
          0.02,
          0.02,
          0.02,
          0.02,
          0.02,
          0.02,
          0.02666666666666667,
          0.02,
          0.02,
          0.02,
          0.02,
          0.02,
          0.02666666666666667,
          0.02666666666666667,
          0.02,
          0.02,
          0.02,
          0.02,
          0.02,
          0.02,
          0.02,
          0.02666666666666667,
          0.02666666666666667,
          0.02,
          0.02,
          0.02,
          0.02,
          0.02,
          0.02,
          0.02,
          0.04,
          0.04,
          0.02,
          0.02,
          0.02,
          0.02,
          0.02,
          0.02,
          0.02,
          0.02,
          0.02,
          0.03333333333333333,
          0.03333333333333333,
          0.02,
          0.02,
          0.02666666666666667,
          0.02,
          0.02,
          0.02,
          0.02,
          0.02,
          0.02,
          0.02,
          0.02,
          0.04,
          0.02,
          0.02,
          0.02,
          0.02,
          0.02,
          0.02,
          0.02,
          0.02,
          0.02,
          0.02,
          0.02,
          0.02,
          0.02,
          0.02,
          0.02,
          0.02,
          0.02666666666666667,
          0.02,
          0.02,
          0.02,
          0.02,
          0.02,
          0.02,
          0.02,
          0.02,
          0.02666666666666667,
          0.02,
          0.02,
          0.02,
          0.02,
          0.02,
          0.02666666666666667,
          0.02666666666666667,
          0.02,
          0.02,
          0.02,
          0.02,
          0.02666666666666667,
          0.02666666666666667,
          0.02,
          0.02,
          0.02,
          0.02,
          0.02,
          0.02,
          0.02,
          0.02,
          0.02,
          0.02666666666666667,
          0.02666666666666667,
          0.02,
          0.02,
          0.02,
          0.02,
          0.02,
          0.02,
          0.02,
          0.02,
          0.02,
          0.02,
          0.02666666666666667,
          0.02666666666666667,
          0.02,
          0.02,
          0.02,
          0.02,
          0.02,
          0.02666666666666667,
          0.02,
          0.02,
          0.02,
          0.02,
          0.02,
          0.03333333333333333,
          0.03333333333333333,
          0.02,
          0.03333333333333333,
          0.03333333333333333,
          0.02,
          0.02,
          0.02,
          0.02,
          0.02,
          0.02,
          0.02,
          0.02,
          0.02,
          0.02,
          0.02,
          0.02,
          0.02,
          0.02,
          0.02666666666666667,
          0.02666666666666667,
          0.02,
          0.02,
          0.02,
          0.02,
          0.02,
          0.02,
          0.02,
          0.02,
          0.02,
          0.02,
          0.02,
          0.02,
          0.02,
          0.02,
          0.02,
          0.02,
          0.02,
          0.02,
          0.02,
          0.02,
          0.02,
          0.02,
          0.02,
          0.02,
          0.02,
          0.02,
          0.02,
          0.02,
          0.02,
          0.02,
          0.02,
          0.02,
          0.02,
          0.02,
          0.02,
          0.02,
          0.02,
          0.02,
          0.02,
          0.02,
          0.02,
          0.02,
          0.02,
          0.02,
          0.02,
          0.02,
          0.02,
          0.02,
          0.02,
          0.02,
          0.02,
          0.02,
          0.02,
          0.02,
          0.02,
          0.02,
          0.02,
          0.02,
          0.02,
          0.02,
          0.02,
          0.02,
          0.02,
          0.02,
          0.02,
          0.02,
          0.02,
          0.02,
          0.02,
          0.02,
          0.02,
          0.02,
          0.02,
          0.02,
          0.02,
          0.02,
          0.04,
          0.04,
          0.04,
          0.04,
          0.04,
          0.02,
          0.02,
          0.02,
          0.02,
          0.02,
          0.02,
          0.02,
          0.02,
          0.02,
          0.02,
          0.02,
          0.02,
          0.02,
          0.02,
          0.02,
          0.02,
          0.02,
          0.02,
          0.02,
          0.02,
          0.02,
          0.02,
          0.02,
          0.02,
          0.02,
          0.02,
          0.02,
          0.02,
          0.02,
          0.02,
          0.02,
          0.02,
          0.02,
          0.02,
          0.02,
          0.02,
          0.02,
          0.02,
          0.02,
          0.02,
          0.02,
          0.02,
          0.02,
          0.02,
          0.02,
          0.02,
          0.02,
          0.02,
          0.02,
          0.02,
          0.02,
          0.02,
          0.02,
          0.02,
          0.02,
          0.02,
          0.02,
          0.02,
          0.02,
          0.02,
          0.02,
          0.02,
          0.02,
          0.02,
          0.02,
          0.02,
          0.02,
          0.02,
          0.02,
          0.02,
          0.02,
          0.02,
          0.02,
          0.02,
          0.02,
          0.02,
          0.02,
          0.02,
          0.02,
          0.02,
          0.02,
          0.02,
          0.02,
          0.02,
          0.02,
          0.02,
          0.02,
          0.02,
          0.02,
          0.02,
          0.02,
          0.02,
          0.02,
          0.02,
          0.02,
          0.02,
          0.02,
          0.02,
          0.02,
          0.02,
          0.02,
          0.02,
          0.02,
          0.02,
          0.02,
          0.02,
          0.02,
          0.02,
          0.02,
          0.02,
          0.02,
          0.02,
          0.02,
          0.02,
          0.02,
          0.02,
          0.02,
          0.02,
          0.02,
          0.02,
          0.02,
          0.02,
          0.02,
          0.02,
          0.02,
          0.02,
          0.02,
          0.02,
          0.02,
          0.02,
          0.02,
          0.02,
          0.02,
          0.02,
          0.02,
          0.02,
          0.02,
          0.02,
          0.02,
          0.02,
          0.02,
          0.02,
          0.02,
          0.02,
          0.02,
          0.02,
          0.02,
          0.02,
          0.02,
          0.02,
          0.02,
          0.02,
          0.02,
          0.02,
          0.02,
          0.02,
          0.02,
          0.02,
          0.02,
          0.02,
          0.02,
          0.02,
          0.02,
          0.02,
          0.02,
          0.02,
          0.02,
          0.02,
          0.02,
          0.02,
          0.02,
          0.02,
          0.02,
          0.02,
          0.02,
          0.02,
          0.02,
          0.02,
          0.02,
          0.02,
          0.02,
          0.02,
          0.02,
          0.02,
          0.02,
          0.02,
          0.02,
          0.02,
          0.02,
          0.02,
          0.02,
          0.02,
          0.02,
          0.02,
          0.02,
          0.02,
          0.02,
          0.02,
          0.02,
          0.02,
          0.02,
          0.02,
          0.02,
          0.02,
          0.02,
          0.02,
          0.02,
          0.02,
          0.02,
          0.02,
          0.02,
          0.02,
          0.02,
          0.02,
          0.02,
          0.02,
          0.02,
          0.02,
          0.02,
          0.02,
          0.02,
          0.02,
          0.02,
          0.02,
          0.02,
          0.02,
          0.02,
          0.02,
          0.02,
          0.02,
          0.02,
          0.02,
          0.02,
          0.02,
          0.02,
          0.02,
          0.02,
          0.02,
          0.02,
          0.02,
          0.02,
          0.02,
          0.02,
          0.02,
          0.02,
          0.02,
          0.02,
          0.02,
          0.02,
          0.02,
          0.02,
          0.02,
          0.02,
          0.02,
          0.02,
          0.02,
          0.02,
          0.02,
          0.02,
          0.02,
          0.02,
          0.02,
          0.02,
          0.02,
          0.02,
          0.02,
          0.02,
          0.02,
          0.02,
          0.02,
          0.02,
          0.02,
          0.02,
          0.02,
          0.02,
          0.02,
          0.02,
          0.02,
          0.02,
          0.02,
          0.02,
          0.02,
          0.02,
          0.02,
          0.02,
          0.02,
          0.02,
          0.02,
          0.02,
          0.02,
          0.02,
          0.02,
          0.02,
          0.02,
          0.02,
          0.02,
          0.02,
          0.02,
          0.02,
          0.02,
          0.02,
          0.02,
          0.02,
          0.02,
          0.02,
          0.02,
          0.02,
          0.02,
          0.02,
          0.02,
          0.02,
          0.02,
          0.02,
          0.02,
          0.02,
          0.02,
          0.02,
          0.02,
          0.02,
          0.02,
          0.02,
          0.02,
          0.02,
          0.02,
          0.02,
          0.02,
          0.02,
          0.02,
          0.02,
          0.02,
          0.02,
          0.02,
          0.02,
          0.02,
          0.02,
          0.02,
          0.02,
          0.02,
          0.02,
          0.02,
          0.02,
          0.02,
          0.02,
          0.02,
          0.02,
          0.02,
          0.02,
          0.02,
          0.02,
          0.02,
          0.02,
          0.02,
          0.02,
          0.02,
          0.02,
          0.02,
          0.02,
          0.02,
          0.02,
          0.02,
          0.02,
          0.02,
          0.02,
          0.02,
          0.02,
          0.02,
          0.02,
          0.02,
          0.02,
          0.02,
          0.02,
          0.02,
          0.02,
          0.02,
          0.02,
          0.02,
          0.02,
          0.02,
          0.02,
          0.02,
          0.02,
          0.02,
          0.02,
          0.02,
          0.02,
          0.02,
          0.02,
          0.02,
          0.02,
          0.02,
          0.02,
          0.02,
          0.02,
          0.02,
          0.02,
          0.02,
          0.02,
          0.02,
          0.02,
          0.02,
          0.02,
          0.02,
          0.02,
          0.02,
          0.02,
          0.02,
          0.02,
          0.02,
          0.02,
          0.02,
          0.02,
          0.02,
          0.02,
          0.02,
          0.02,
          0.02,
          0.02,
          0.02,
          0.02,
          0.02,
          0.02,
          0.02,
          0.02,
          0.02,
          0.02,
          0.02,
          0.02,
          0.02,
          0.02,
          0.02,
          0.02,
          0.02,
          0.02,
          0.02,
          0.02,
          0.02,
          0.02,
          0.02,
          0.02,
          0.02,
          0.02,
          0.02,
          0.02,
          0.02,
          0.02,
          0.02,
          0.02,
          0.02,
          0.02,
          0.02,
          0.02,
          0.02,
          0.02,
          0.02,
          0.02,
          0.02,
          0.02,
          0.02,
          0.02,
          0.02,
          0.02,
          0.02,
          0.02,
          0.02,
          0.02,
          0.02,
          0.02,
          0.02,
          0.02,
          0.02,
          0.02,
          0.02,
          0.02,
          0.02,
          0.02,
          0.02,
          0.02,
          0.02,
          0.02,
          0.02,
          0.02,
          0.02,
          0.02,
          0.02,
          0.02,
          0.02,
          0.02,
          0.02,
          0.02,
          0.02,
          0.02,
          0.02,
          0.02,
          0.02,
          0.02,
          0.02,
          0.02,
          0.02,
          0.02,
          0.02,
          0.02,
          0.02,
          0.02,
          0.02,
          0.02,
          0.02,
          0.02,
          0.02,
          0.02,
          0.02,
          0.02,
          0.02,
          0.02,
          0.02,
          0.02,
          0.02,
          0.02,
          0.02,
          0.02,
          0.02,
          0.02,
          0.02,
          0.02,
          0.02,
          0.02,
          0.02,
          0.02,
          0.02,
          0.02,
          0.02,
          0.02,
          0.02,
          0.02,
          0.02,
          0.02,
          0.02,
          0.02,
          0.02,
          0.02,
          0.02,
          0.02,
          0.02,
          0.02,
          0.02,
          0.02,
          0.02,
          0.02,
          0.02,
          0.02,
          0.02,
          0.02,
          0.02,
          0.02,
          0.02,
          0.02,
          0.02,
          0.02,
          0.02,
          0.02,
          0.02,
          0.02,
          0.02,
          0.02,
          0.02,
          0.02,
          0.02,
          0.02,
          0.02,
          0.02,
          0.02,
          0.02,
          0.02,
          0.02,
          0.02,
          0.02,
          0.02,
          0.02,
          0.02,
          0.02,
          0.02,
          0.02,
          0.02,
          0.02,
          0.02,
          0.02,
          0.02,
          0.02,
          0.02
         ],
         "y": [
          0.6,
          0.5,
          0.6,
          0.6,
          0.5,
          0.5,
          0.6,
          0.6,
          0.6,
          0.6,
          0.75,
          0.75,
          1,
          1,
          0.75,
          0.6,
          0.6,
          0.5,
          0.5,
          0.6,
          0.5,
          0.5,
          1,
          1,
          0.6666666666666667,
          0.5,
          0.5,
          0.6,
          0.6,
          0.6,
          0.75,
          0.6,
          0.75,
          0.6,
          0.6,
          0.75,
          0.75,
          0.6666666666666667,
          0.5714285714285714,
          1,
          0.5714285714285714,
          0.8571428571428571,
          0.6,
          0.6,
          0.75,
          0.8333333333333333,
          0.5,
          0.6,
          0.5,
          1,
          0.6666666666666667,
          1,
          0.5,
          0.75,
          0.5,
          0.75,
          0.75,
          0.75,
          0.8,
          0.5,
          0.5,
          0.6666666666666667,
          0.6,
          0.6,
          0.5,
          0.5,
          0.75,
          0.75,
          0.5,
          0.75,
          1,
          0.75,
          1,
          1,
          0.875,
          0.875,
          0.6,
          0.75,
          0.75,
          0.6,
          0.6,
          0.5,
          0.8,
          0.5,
          0.5714285714285714,
          0.75,
          0.625,
          0.8333333333333333,
          0.5,
          0.5,
          1,
          0.75,
          1,
          0.5555555555555556,
          0.8333333333333333,
          0.5,
          0.75,
          0.5,
          0.75,
          0.5,
          1,
          0.5714285714285714,
          0.5,
          1,
          0.5,
          0.5,
          0.75,
          0.6666666666666667,
          0.5,
          0.5,
          0.8333333333333333,
          0.8333333333333333,
          1,
          0.5,
          0.6666666666666667,
          0.8,
          0.5,
          1,
          0.5,
          0.5,
          1,
          0.5,
          0.5,
          0.5,
          0.5,
          0.5,
          0.75,
          0.8571428571428571,
          0.5,
          0.6,
          0.75,
          0.75,
          1,
          0.6,
          0.6,
          0.6,
          1,
          0.8333333333333333,
          1,
          0.6,
          0.7142857142857142,
          0.8,
          0.625,
          0.8333333333333333,
          0.6666666666666667,
          0.8,
          1,
          0.5,
          0.5,
          1,
          0.5,
          0.75,
          0.75,
          0.75,
          0.6,
          1,
          1,
          0.6,
          1,
          0.75,
          1,
          1,
          1,
          1,
          0.5,
          0.6,
          0.5,
          1,
          0.5,
          0.5,
          0.5,
          1,
          0.5,
          0.5,
          0.6666666666666667,
          0.6666666666666667,
          0.5,
          0.6666666666666667,
          0.5,
          0.5,
          0.5,
          0.5,
          0.8333333333333333,
          0.5555555555555556,
          1,
          1,
          0.5,
          0.5,
          0.75,
          0.5,
          0.5,
          0.5,
          0.5,
          0.6666666666666667,
          0.5,
          0.75,
          0.5,
          0.5,
          0.5,
          0.6666666666666667,
          0.5714285714285714,
          0.7142857142857142,
          0.625,
          0.75,
          0.75,
          0.5,
          0.6,
          0.5,
          0.5,
          0.6666666666666667,
          0.6666666666666667,
          0.75,
          0.75,
          1,
          0.5,
          0.5,
          1,
          0.75,
          0.75,
          0.6,
          1,
          0.6,
          1,
          0.6,
          0.6,
          0.5,
          0.6,
          0.8,
          0.8,
          0.6,
          0.6,
          1,
          0.6,
          0.8,
          0.5,
          0.75,
          0.75,
          0.75,
          1,
          1,
          1,
          1,
          1,
          1,
          1,
          1,
          1,
          0.5,
          1,
          1,
          0.5,
          0.5,
          0.5,
          0.5,
          0.5,
          0.5,
          1,
          0.5,
          0.5,
          0.5,
          0.5,
          0.75,
          0.75,
          0.5,
          0.75,
          0.75,
          0.6666666666666667,
          0.5,
          0.75,
          0.5,
          0.5,
          0.75,
          1,
          0.6,
          0.6,
          1,
          0.8,
          0.75,
          0.75,
          0.75,
          1,
          1,
          0.75,
          0.6,
          0.6666666666666667,
          0.5454545454545454,
          0.6,
          0.75,
          0.6,
          0.5,
          0.6,
          0.75,
          0.75,
          0.75,
          0.6,
          0.8333333333333333,
          0.7142857142857142,
          0.5,
          0.6,
          0.6666666666666667,
          0.75,
          0.5,
          0.75,
          0.5,
          0.75,
          0.6,
          1,
          1,
          0.75,
          0.5,
          0.75,
          0.6,
          1,
          1,
          1,
          1,
          1,
          0.75,
          0.5,
          0.6,
          0.5,
          0.6,
          0.6,
          0.6,
          0.75,
          0.5,
          0.5,
          0.6,
          0.75,
          1,
          0.6,
          0.75,
          0.75,
          0.75,
          0.6666666666666667,
          1,
          0.75,
          0.75,
          1,
          0.75,
          0.6666666666666667,
          1,
          0.5,
          1,
          1,
          0.6,
          0.5714285714285714,
          1,
          1,
          0.6,
          1,
          0.5,
          1,
          0.6,
          0.6,
          0.6,
          0.6,
          1,
          0.8,
          0.75,
          1,
          0.6,
          0.6,
          1,
          0.6,
          0.75,
          0.75,
          0.75,
          0.5,
          1,
          0.5,
          0.6,
          1,
          0.6,
          0.75,
          0.75,
          1,
          0.5,
          1,
          0.5,
          1,
          0.6,
          0.7142857142857142,
          0.5555555555555556,
          0.6,
          0.625,
          0.5555555555555556,
          0.6,
          0.5,
          0.5,
          0.6,
          0.75,
          1,
          1,
          1,
          1,
          0.75,
          0.5,
          0.75,
          1,
          0.5,
          0.5714285714285714,
          0.6666666666666667,
          1,
          1,
          1,
          1,
          0.6,
          0.6,
          1,
          1,
          0.5,
          1,
          0.75,
          1,
          1,
          0.5,
          1,
          1,
          1,
          1,
          0.6,
          0.6,
          0.75,
          0.75,
          0.6,
          0.5,
          0.5,
          0.75,
          1,
          0.5,
          0.75,
          0.75,
          1,
          1,
          0.75,
          0.75,
          1,
          1,
          0.5,
          1,
          0.75,
          0.5,
          0.6,
          1,
          1,
          1,
          0.6,
          1,
          0.75,
          0.6,
          0.6,
          0.5,
          1,
          0.75,
          1,
          0.6,
          0.75,
          1,
          0.75,
          0.5,
          1,
          0.75,
          1,
          0.6,
          0.5,
          1,
          0.75,
          1,
          0.75,
          0.5,
          1,
          0.5,
          1,
          1,
          1,
          1,
          0.5,
          1,
          1,
          0.8571428571428571,
          1,
          0.75,
          0.75,
          1,
          1,
          1,
          1,
          1,
          1,
          1,
          1,
          1,
          1,
          1,
          1,
          0.75,
          0.75,
          1,
          0.75,
          0.75,
          0.75,
          0.6,
          0.6,
          0.75,
          1,
          0.5,
          0.75,
          1,
          1,
          1,
          1,
          1,
          1,
          0.75,
          1,
          0.5,
          1,
          1,
          0.75,
          1,
          0.5,
          1,
          0.75,
          0.75,
          0.5,
          0.75,
          1,
          1,
          0.6,
          0.5,
          0.5,
          1,
          1,
          0.6,
          1,
          0.5,
          0.5,
          0.75,
          0.6,
          1,
          0.5,
          0.6,
          0.5,
          1,
          0.6,
          1,
          0.5,
          1,
          0.5,
          1,
          1,
          0.6,
          0.5,
          0.5,
          0.5,
          1,
          1,
          0.75,
          1,
          0.5,
          0.6,
          1,
          1,
          1,
          1,
          0.5,
          0.5,
          1,
          1,
          0.75,
          0.5,
          0.5,
          0.6,
          0.75,
          0.75,
          1,
          1,
          0.75,
          1,
          1,
          0.5,
          0.75,
          0.75,
          0.5,
          1,
          0.6,
          1,
          0.6,
          0.5,
          0.5,
          0.6,
          1,
          0.6,
          0.5,
          0.5,
          1,
          0.75,
          0.6,
          1,
          1,
          0.75,
          0.75,
          1,
          0.6,
          1,
          0.6,
          0.6,
          1,
          0.6,
          1,
          0.6,
          0.6,
          1,
          1,
          0.75,
          1,
          0.75,
          1,
          1,
          1,
          1,
          0.6,
          0.5,
          1,
          1,
          1,
          1,
          0.5,
          0.5,
          1,
          1,
          1,
          0.5,
          0.6,
          0.5,
          0.75,
          1,
          1,
          0.5,
          0.5,
          0.75,
          0.75,
          1,
          0.5,
          0.5,
          0.6,
          0.75,
          1,
          0.5,
          1,
          0.75,
          0.75,
          0.5,
          0.5,
          0.6,
          1,
          1,
          1,
          1,
          0.6,
          1,
          0.5,
          0.6,
          1,
          1,
          0.5,
          1,
          1,
          1,
          1,
          1,
          1,
          1,
          1,
          0.75,
          0.5,
          0.6,
          1,
          0.75,
          0.5,
          1,
          1,
          0.75,
          0.75,
          0.5,
          0.75,
          1,
          0.6,
          0.5,
          1,
          1,
          1,
          0.75,
          0.75,
          1,
          0.75,
          1,
          1,
          1,
          1,
          0.75,
          1,
          1,
          1,
          1,
          0.5,
          1,
          1,
          0.75,
          1,
          0.6,
          0.6,
          1,
          1,
          0.75,
          1,
          0.6,
          0.6,
          0.75,
          1,
          1,
          0.75,
          0.75,
          0.75,
          1,
          0.75,
          1,
          0.75,
          0.75,
          1,
          1,
          1,
          1,
          1,
          1,
          1,
          1,
          1,
          1,
          0.5,
          1,
          0.75,
          1,
          0.75,
          0.6,
          1,
          0.75,
          1,
          0.75,
          0.6,
          1,
          1,
          1,
          0.75,
          0.75,
          1,
          1,
          1,
          1,
          0.75,
          0.6,
          1,
          1,
          1,
          0.5,
          0.6,
          1,
          1,
          1,
          0.75,
          0.5,
          0.6,
          1,
          0.75,
          1,
          0.75,
          0.5,
          0.6,
          1,
          1,
          1,
          0.75,
          0.5,
          1,
          1,
          1,
          1,
          1,
          0.5,
          1,
          1,
          1,
          1,
          0.5,
          1,
          1,
          1,
          1,
          1,
          1,
          1,
          1,
          1,
          1,
          0.75,
          0.5,
          1,
          1,
          0.75,
          1,
          0.75,
          1,
          0.5,
          1,
          0.75,
          1,
          1,
          1,
          1,
          0.5,
          0.6,
          1,
          0.6,
          1,
          0.6,
          1,
          0.6,
          0.6,
          1,
          1,
          1,
          1,
          1,
          1,
          0.75,
          1,
          1,
          0.5,
          0.6,
          1,
          1,
          1,
          1,
          1,
          1,
          1,
          1,
          0.5,
          1,
          1,
          1,
          1,
          0.5,
          1,
          1,
          0.5,
          1,
          1,
          0.5,
          1,
          1,
          1,
          1,
          0.5,
          1,
          1,
          0.5,
          1,
          1,
          0.5,
          1,
          1,
          1,
          1,
          1,
          1,
          1,
          1,
          1,
          1,
          1,
          1,
          1,
          1,
          1,
          1,
          1,
          1,
          0.75,
          1,
          1,
          0.75,
          0.75,
          1,
          0.5,
          1,
          1,
          1,
          1,
          1,
          1,
          1,
          0.75,
          0.6,
          1,
          1,
          0.5,
          0.6,
          0.5,
          1,
          1,
          1,
          1,
          1,
          1,
          1,
          1,
          1,
          0.6,
          1,
          0.5,
          0.5,
          0.5,
          1,
          1,
          1,
          1,
          1,
          1,
          1,
          0.75,
          0.6,
          1,
          0.5,
          0.5,
          0.6,
          0.5,
          1,
          1,
          1,
          1,
          1,
          1,
          1,
          1,
          1,
          0.75,
          1,
          0.5,
          0.5,
          0.6,
          1,
          1,
          1,
          1,
          1,
          1,
          1,
          1,
          1,
          1,
          1,
          0.5,
          0.6,
          0.5,
          1,
          1,
          1,
          1,
          1,
          0.75,
          0.75,
          0.6,
          0.75,
          1,
          0.5,
          0.5,
          1,
          1,
          1,
          1,
          1,
          1,
          1,
          0.6,
          1,
          1,
          1,
          0.5,
          1,
          1,
          1,
          1,
          1,
          1,
          1,
          1,
          1,
          1,
          1,
          0.75,
          0.5,
          0.6,
          1,
          1,
          1,
          1,
          1,
          0.5,
          1,
          1,
          1,
          1,
          1,
          1,
          1,
          1,
          1,
          1,
          1,
          1,
          1,
          1,
          0.5,
          1,
          1,
          1,
          1,
          1,
          1,
          1,
          0.5,
          1,
          1,
          1,
          1,
          0.5,
          1,
          1,
          1,
          1,
          1,
          1,
          1,
          1,
          1,
          1,
          1,
          1,
          1,
          1,
          1,
          1,
          1,
          1,
          1,
          1,
          1,
          0.6,
          1,
          1,
          1,
          1,
          1,
          1,
          0.75,
          0.5,
          0.5,
          1,
          0.5,
          0.6
         ],
         "z": [
          9,
          15,
          15,
          5.294117647058823,
          7.5,
          7.5,
          18,
          18,
          12.857142857142856,
          11.249999999999998,
          6.61764705882353,
          14.062499999999998,
          21.428571428571427,
          15,
          22.5,
          22.499999999999996,
          11.249999999999998,
          12.5,
          12.5,
          15,
          15,
          25,
          25,
          18.75,
          12.5,
          12.5,
          7.5,
          18,
          18,
          22.499999999999996,
          22.5,
          22.499999999999996,
          22.5,
          8.181818181818182,
          22.499999999999996,
          22.5,
          7.031249999999999,
          14.285714285714286,
          14.285714285714285,
          21.428571428571427,
          21.428571428571427,
          12.857142857142856,
          12.857142857142856,
          12.857142857142856,
          16.07142857142857,
          12.499999999999998,
          12.5,
          15,
          15,
          15,
          25,
          25,
          6.25,
          18.75,
          18.75,
          11.25,
          28.124999999999996,
          28.124999999999996,
          12,
          9.375,
          12.5,
          12.5,
          11.249999999999998,
          11.249999999999998,
          9.375,
          9.375,
          11.25,
          18.75,
          18.75,
          7.031249999999999,
          18.75,
          6.61764705882353,
          18.75,
          18.75,
          16.40625,
          16.40625,
          22.499999999999996,
          22.5,
          14.062499999999998,
          11.249999999999998,
          11.249999999999998,
          15,
          15,
          10.714285714285714,
          10.714285714285714,
          14.062499999999998,
          15.625,
          15.624999999999998,
          9.375,
          9.375,
          16.666666666666668,
          12.5,
          8.823529411764707,
          13.88888888888889,
          13.888888888888888,
          7.5,
          12.5,
          8.333333333333334,
          12.5,
          10.714285714285714,
          21.428571428571427,
          10.714285714285714,
          10.714285714285714,
          25,
          25,
          18.75,
          18.75,
          12.5,
          12.5,
          10.714285714285714,
          20.833333333333332,
          20.833333333333332,
          25,
          25,
          20.000000000000004,
          20,
          25,
          25,
          12.5,
          12.5,
          18.75,
          18.75,
          9.375,
          4.411764705882353,
          8.333333333333334,
          7.5,
          16.07142857142857,
          7.563025210084033,
          10.714285714285714,
          5.294117647058823,
          6.61764705882353,
          37.5,
          37.5,
          5.294117647058823,
          11.249999999999998,
          10,
          8.823529411764707,
          7.352941176470588,
          8.823529411764707,
          5.294117647058823,
          6.302521008403361,
          7.058823529411765,
          5.514705882352941,
          7.352941176470588,
          5.882352941176472,
          7.058823529411765,
          16.666666666666668,
          10.714285714285714,
          9.375,
          15,
          18.75,
          18.75,
          14.062499999999998,
          7.031249999999999,
          9,
          30,
          30,
          5.624999999999999,
          37.5,
          37.5,
          18.75,
          50,
          50,
          25,
          25,
          15,
          15,
          25,
          25,
          12.5,
          12.5,
          18.75,
          8.333333333333334,
          10.714285714285714,
          16.666666666666668,
          16.666666666666668,
          12.5,
          12.5,
          12.5,
          12.5,
          8.333333333333334,
          8.333333333333334,
          13.888888888888888,
          13.88888888888889,
          16.666666666666668,
          16.666666666666668,
          9.375,
          9.375,
          14.062499999999998,
          10.714285714285714,
          12.5,
          12.5,
          12.5,
          12.5,
          10.714285714285714,
          18.75,
          18.75,
          12.5,
          12.5,
          14.285714285714286,
          14.285714285714285,
          13.39285714285714,
          13.392857142857142,
          16.07142857142857,
          16.07142857142857,
          10.714285714285714,
          10,
          9.375,
          4.411764705882353,
          16.666666666666668,
          16.666666666666668,
          14.062499999999998,
          14.062499999999998,
          25,
          25,
          25,
          25,
          28.124999999999996,
          28.124999999999996,
          5.624999999999999,
          30,
          30,
          30,
          30,
          15,
          15,
          12.857142857142856,
          24,
          24,
          18,
          18,
          30,
          30,
          15,
          15,
          28.124999999999996,
          28.124999999999996,
          16.07142857142857,
          37.5,
          37.5,
          50,
          50,
          50,
          50,
          50,
          50,
          18.75,
          25,
          25,
          25,
          25,
          7.5,
          9.375,
          9.375,
          7.5,
          9.375,
          25,
          25,
          7.5,
          9.375,
          7.5,
          11.25,
          11.25,
          7.5,
          7.031249999999999,
          7.031249999999999,
          12.5,
          12.5,
          14.062499999999998,
          7.5,
          8.333333333333334,
          37.5,
          37.5,
          12.857142857142856,
          5.624999999999999,
          30,
          30,
          28.124999999999996,
          28.124999999999996,
          37.5,
          37.5,
          37.5,
          37.5,
          10,
          9.090909090909092,
          9.09090909090909,
          8.181818181818182,
          22.5,
          22.499999999999996,
          15,
          15,
          16.07142857142857,
          28.124999999999996,
          28.124999999999996,
          9,
          17.857142857142854,
          17.857142857142854,
          15,
          15,
          6.25,
          18.75,
          18.75,
          16.07142857142857,
          10.714285714285714,
          16.07142857142857,
          12.857142857142856,
          8.823529411764707,
          8.823529411764707,
          6.61764705882353,
          4.411764705882353,
          6.61764705882353,
          5.294117647058823,
          50,
          50,
          18.75,
          18.75,
          13.636363636363637,
          10.227272727272727,
          6.818181818181818,
          10,
          15,
          15,
          5.624999999999999,
          22.499999999999996,
          22.5,
          4.6875,
          8.333333333333334,
          9,
          37.5,
          37.5,
          12.857142857142856,
          16.07142857142857,
          16.07142857142857,
          11.25,
          6.25,
          37.5,
          37.5,
          16.07142857142857,
          37.5,
          37.5,
          25,
          25,
          25,
          25,
          18.75,
          5.624999999999999,
          21.428571428571427,
          21.428571428571427,
          30,
          30,
          25,
          25,
          9.375,
          18,
          18,
          18,
          18,
          30,
          30,
          7.031249999999999,
          18.75,
          18,
          18,
          30,
          30,
          28.124999999999996,
          28.124999999999996,
          18.75,
          18.75,
          18.75,
          18.75,
          30,
          30,
          22.499999999999996,
          22.5,
          7.031249999999999,
          9.375,
          25,
          25,
          25,
          25,
          12.857142857142856,
          11.904761904761903,
          11.904761904761905,
          10,
          10.416666666666668,
          10.416666666666666,
          15,
          15,
          15,
          15,
          37.5,
          37.5,
          21.428571428571427,
          50,
          50,
          18.75,
          18.75,
          37.5,
          37.5,
          9.375,
          14.285714285714285,
          14.285714285714286,
          21.428571428571427,
          21.428571428571427,
          30,
          30,
          30,
          30,
          15,
          21.428571428571427,
          25,
          25,
          37.5,
          18.75,
          25,
          25,
          37.5,
          37.5,
          30,
          30,
          30,
          30,
          37.5,
          11.25,
          12.857142857142856,
          12.5,
          12.5,
          11.25,
          21.428571428571427,
          18.75,
          18.75,
          28.124999999999996,
          21.428571428571427,
          37.5,
          37.5,
          28.124999999999996,
          15,
          21.428571428571427,
          7.5,
          15,
          16.07142857142857,
          15,
          15,
          21.428571428571427,
          15,
          30,
          30,
          15,
          18.75,
          18,
          18,
          18.75,
          15,
          11.25,
          30,
          30,
          14.062499999999998,
          18.75,
          18.75,
          18.75,
          25,
          22.5,
          18.75,
          22.499999999999996,
          25,
          25,
          28.124999999999996,
          9.375,
          28.124999999999996,
          25,
          18.75,
          25,
          8.823529411764707,
          25,
          18.75,
          8.823529411764707,
          25,
          25,
          18.75,
          7.563025210084033,
          18.75,
          18.75,
          18.75,
          18.75,
          50,
          50,
          50,
          50,
          18.75,
          18.75,
          21.428571428571427,
          18.75,
          18.75,
          21.428571428571427,
          18.75,
          16.07142857142857,
          14.062499999999998,
          30,
          14.062499999999998,
          28.124999999999996,
          28.124999999999996,
          30,
          11.249999999999998,
          18.75,
          18.75,
          18.75,
          37.5,
          21.428571428571427,
          18.75,
          37.5,
          25,
          50,
          37.5,
          37.5,
          50,
          25,
          18.75,
          25,
          37.5,
          37.5,
          25,
          18.75,
          28.124999999999996,
          18.75,
          18.75,
          28.124999999999996,
          25,
          25,
          12.857142857142856,
          25,
          25,
          25,
          25,
          30,
          30,
          25,
          25,
          18.75,
          18,
          25,
          25,
          18,
          18.75,
          25,
          30,
          25,
          25,
          30,
          25,
          25,
          25,
          15,
          15,
          25,
          25,
          30,
          25,
          37.5,
          37.5,
          25,
          30,
          25,
          25,
          50,
          50,
          25,
          25,
          30,
          25,
          18.75,
          18.75,
          25,
          30,
          11.25,
          11.25,
          16.666666666666668,
          15,
          7.031249999999999,
          16.666666666666668,
          8.823529411764707,
          18.75,
          16.07142857142857,
          18.75,
          9.375,
          8.823529411764707,
          12.857142857142856,
          8.823529411764707,
          12.857142857142856,
          12.5,
          12.5,
          11.249999999999998,
          8.823529411764707,
          15,
          15,
          15,
          8.823529411764707,
          12.5,
          15,
          18.75,
          9.375,
          28.124999999999996,
          28.124999999999996,
          30,
          9,
          30,
          30,
          30,
          30,
          5.624999999999999,
          30,
          30,
          30,
          18.75,
          37.5,
          37.5,
          37.5,
          37.5,
          25,
          30,
          50,
          50,
          30,
          25,
          25,
          25,
          50,
          50,
          25,
          25,
          25,
          30,
          25,
          25,
          30,
          25,
          12.5,
          25,
          25,
          25,
          25,
          18.75,
          16.07142857142857,
          25,
          25,
          18.75,
          15,
          16.07142857142857,
          18.75,
          15,
          25,
          14.062499999999998,
          18.75,
          18.75,
          25,
          10,
          18.75,
          21.428571428571427,
          16.666666666666668,
          25,
          30,
          30,
          25,
          30,
          16.666666666666668,
          25,
          25,
          30,
          50,
          16.666666666666668,
          50,
          50,
          50,
          21.428571428571427,
          25,
          14.062499999999998,
          25,
          15,
          18.75,
          16.07142857142857,
          15,
          25,
          18.75,
          28.124999999999996,
          28.124999999999996,
          25,
          14.062499999999998,
          21.428571428571427,
          15,
          15,
          37.5,
          37.5,
          21.428571428571427,
          37.5,
          37.5,
          8.823529411764707,
          16.07142857142857,
          9.375,
          37.5,
          15,
          18.75,
          37.5,
          50,
          25,
          50,
          50,
          25,
          50,
          30,
          16.07142857142857,
          30,
          30,
          30,
          30,
          30,
          37.5,
          37.5,
          30,
          30,
          28.124999999999996,
          37.5,
          37.5,
          37.5,
          37.5,
          28.124999999999996,
          37.5,
          16.07142857142857,
          37.5,
          37.5,
          37.5,
          50,
          50,
          50,
          50,
          50,
          50,
          25,
          18.75,
          50,
          50,
          25,
          30,
          16.07142857142857,
          37.5,
          37.5,
          30,
          30,
          7.031249999999999,
          37.5,
          37.5,
          30,
          50,
          37.5,
          37.5,
          37.5,
          37.5,
          50,
          13.636363636363637,
          30,
          37.5,
          37.5,
          30,
          13.636363636363637,
          30,
          25,
          25,
          30,
          30,
          25,
          37.5,
          37.5,
          25,
          30,
          30,
          18.75,
          37.5,
          37.5,
          18.75,
          30,
          25,
          37.5,
          21.428571428571427,
          37.5,
          25,
          50,
          8.823529411764707,
          50,
          50,
          50,
          25,
          8.823529411764707,
          18.75,
          25,
          8.823529411764707,
          25,
          18.75,
          25,
          50,
          50,
          18.75,
          50,
          50,
          13.636363636363637,
          25,
          37.5,
          37.5,
          25,
          18.75,
          9.375,
          16.07142857142857,
          37.5,
          37.5,
          25,
          25,
          37.5,
          37.5,
          30,
          25,
          50,
          50,
          25,
          30,
          16.666666666666668,
          18,
          21.428571428571427,
          18,
          16.666666666666668,
          11.249999999999998,
          12.857142857142856,
          15,
          21.428571428571427,
          15,
          30,
          25,
          50,
          37.5,
          37.5,
          50,
          25,
          30,
          18.75,
          50,
          8.823529411764707,
          50,
          50,
          25,
          50,
          50,
          25,
          50,
          50,
          50,
          18.75,
          25,
          8.823529411764707,
          18.75,
          25,
          25,
          21.428571428571427,
          25,
          25,
          25,
          18.75,
          8.823529411764707,
          25,
          18.75,
          25,
          25,
          21.428571428571427,
          25,
          25,
          25,
          18.75,
          50,
          50,
          18.75,
          50,
          50,
          21.428571428571427,
          50,
          50,
          50,
          50,
          18.75,
          25,
          50,
          37.5,
          37.5,
          50,
          37.5,
          37.5,
          50,
          37.5,
          37.5,
          50,
          25,
          25,
          30,
          25,
          50,
          50,
          30,
          37.5,
          37.5,
          30,
          50,
          50,
          25,
          30,
          25,
          25,
          25,
          25,
          50,
          30,
          50,
          50,
          50,
          50,
          30,
          50,
          25,
          25,
          25,
          25,
          30,
          25,
          25,
          50,
          30,
          37.5,
          37.5,
          30,
          50,
          25,
          25,
          30,
          25,
          30,
          25,
          25,
          50,
          37.5,
          50,
          50,
          50,
          50,
          37.5,
          50,
          25,
          25,
          30,
          25,
          30,
          25,
          50,
          50,
          50,
          50,
          50,
          50,
          50,
          50,
          25,
          30,
          25,
          25,
          21.428571428571427,
          18.75,
          25,
          50,
          28.124999999999996,
          22.5,
          22.499999999999996,
          28.124999999999996,
          50,
          25,
          25,
          50,
          16.666666666666668,
          25,
          50,
          50,
          50,
          30,
          30,
          50,
          50,
          50,
          25,
          50,
          13.636363636363637,
          30,
          25,
          37.5,
          50,
          50,
          50,
          50,
          50,
          50,
          37.5,
          25,
          30,
          50,
          8.823529411764707,
          50,
          18.75,
          50,
          25,
          50,
          50,
          25,
          50,
          50,
          50,
          50,
          8.823529411764707,
          18.75,
          50,
          18.75,
          50,
          50,
          25,
          25,
          50,
          50,
          50,
          25,
          21.428571428571427,
          50,
          50,
          25,
          50,
          50,
          50,
          25,
          25,
          50,
          50,
          50,
          50,
          30,
          25,
          50,
          25,
          25,
          37.5,
          50,
          50,
          50,
          50,
          50,
          50,
          30,
          50,
          50,
          50,
          50,
          30,
          50,
          50,
          50,
          50,
          50,
          50,
          37.5,
          25,
          25,
          50,
          25,
          30
         ]
        },
        {
         "customdata": [
          [
           "100",
           "104"
          ],
          [
           "2261",
           "100"
          ],
          [
           "100",
           "2261"
          ],
          [
           "1004",
           "1755"
          ],
          [
           "2261",
           "104"
          ],
          [
           "2808",
           "104"
          ],
          [
           "2737",
           "1075"
          ],
          [
           "1075",
           "2737"
          ],
          [
           "1075",
           "302"
          ],
          [
           "1077",
           "1755"
          ],
          [
           "1077",
           "206"
          ],
          [
           "1182",
           "41"
          ],
          [
           "41",
           "1182"
          ],
          [
           "1184",
           "2421"
          ],
          [
           "1192",
           "1185"
          ],
          [
           "1185",
           "1192"
          ],
          [
           "1199",
           "1185"
          ],
          [
           "1185",
           "1199"
          ],
          [
           "1192",
           "1189"
          ],
          [
           "1189",
           "1192"
          ],
          [
           "1189",
           "2421"
          ],
          [
           "1192",
           "2421"
          ],
          [
           "2421",
           "1192"
          ],
          [
           "1192",
           "3530"
          ],
          [
           "1200",
           "1199"
          ],
          [
           "1199",
           "1200"
          ],
          [
           "1199",
           "1201"
          ],
          [
           "1201",
           "1199"
          ],
          [
           "1200",
           "1201"
          ],
          [
           "1201",
           "1200"
          ],
          [
           "1200",
           "2804"
          ],
          [
           "1209",
           "2244"
          ],
          [
           "2244",
           "1209"
          ],
          [
           "1209",
           "3694"
          ],
          [
           "1359",
           "1358"
          ],
          [
           "1358",
           "1359"
          ],
          [
           "1359",
           "1558"
          ],
          [
           "697",
           "1359"
          ],
          [
           "1359",
           "697"
          ],
          [
           "136",
           "543"
          ],
          [
           "543",
           "136"
          ],
          [
           "1377",
           "2006"
          ],
          [
           "2006",
           "1377"
          ],
          [
           "2150",
           "1377"
          ],
          [
           "1380",
           "2999"
          ],
          [
           "1380",
           "3067"
          ],
          [
           "3067",
           "1380"
          ],
          [
           "1380",
           "3694"
          ],
          [
           "2093",
           "1523"
          ],
          [
           "1523",
           "2093"
          ],
          [
           "1671",
           "1532"
          ],
          [
           "1944",
           "1532"
          ],
          [
           "2150",
           "1532"
          ],
          [
           "1532",
           "2571"
          ],
          [
           "2571",
           "1532"
          ],
          [
           "1532",
           "302"
          ],
          [
           "302",
           "1532"
          ],
          [
           "3846",
           "1532"
          ],
          [
           "1532",
           "726"
          ],
          [
           "726",
           "1532"
          ],
          [
           "3205",
           "1561"
          ],
          [
           "3862",
           "1561"
          ],
          [
           "1600",
           "1599"
          ],
          [
           "1599",
           "1600"
          ],
          [
           "1599",
           "3530"
          ],
          [
           "174",
           "1600"
          ],
          [
           "2437",
           "1600"
          ],
          [
           "2988",
           "1600"
          ],
          [
           "192",
           "1648"
          ],
          [
           "186",
           "172"
          ],
          [
           "172",
           "186"
          ],
          [
           "1721",
           "2993"
          ],
          [
           "2557",
           "1722"
          ],
          [
           "1753",
           "1743"
          ],
          [
           "1743",
           "1755"
          ],
          [
           "1768",
           "1743"
          ],
          [
           "1744",
           "1755"
          ],
          [
           "1745",
           "1755"
          ],
          [
           "1931",
           "1748"
          ],
          [
           "1748",
           "1931"
          ],
          [
           "1750",
           "1755"
          ],
          [
           "1750",
           "1766"
          ],
          [
           "1750",
           "1935"
          ],
          [
           "1753",
           "1755"
          ],
          [
           "1754",
           "1755"
          ],
          [
           "1756",
           "1755"
          ],
          [
           "1759",
           "1755"
          ],
          [
           "1764",
           "1755"
          ],
          [
           "1765",
           "1755"
          ],
          [
           "1766",
           "1755"
          ],
          [
           "1768",
           "1755"
          ],
          [
           "1935",
           "1755"
          ],
          [
           "2667",
           "1755"
          ],
          [
           "1757",
           "1935"
          ],
          [
           "1768",
           "1766"
          ],
          [
           "1767",
           "2999"
          ],
          [
           "1768",
           "2475"
          ],
          [
           "2475",
           "1768"
          ],
          [
           "1770",
           "2992"
          ],
          [
           "1770",
           "3694"
          ],
          [
           "1776",
           "2999"
          ],
          [
           "3148",
           "1776"
          ],
          [
           "1776",
           "3148"
          ],
          [
           "1776",
           "3694"
          ],
          [
           "1927",
           "1934"
          ],
          [
           "1937",
           "1927"
          ],
          [
           "1927",
           "1937"
          ],
          [
           "1927",
           "1939"
          ],
          [
           "1939",
           "1927"
          ],
          [
           "1932",
           "1930"
          ],
          [
           "1937",
           "1930"
          ],
          [
           "3351",
           "1930"
          ],
          [
           "1932",
           "1934"
          ],
          [
           "1937",
           "1932"
          ],
          [
           "1932",
           "1937"
          ],
          [
           "1939",
           "1932"
          ],
          [
           "1932",
           "1939"
          ],
          [
           "1932",
           "3261"
          ],
          [
           "3351",
           "1932"
          ],
          [
           "1932",
           "3351"
          ],
          [
           "668",
           "1932"
          ],
          [
           "1932",
           "668"
          ],
          [
           "1937",
           "1934"
          ],
          [
           "1934",
           "1937"
          ],
          [
           "1934",
           "1939"
          ],
          [
           "1939",
           "1934"
          ],
          [
           "1943",
           "1934"
          ],
          [
           "1946",
           "1934"
          ],
          [
           "3093",
           "1934"
          ],
          [
           "2667",
           "1935"
          ],
          [
           "1937",
           "1939"
          ],
          [
           "1937",
           "668"
          ],
          [
           "668",
           "1937"
          ],
          [
           "3351",
           "1939"
          ],
          [
           "3663",
           "1939"
          ],
          [
           "1943",
           "1946"
          ],
          [
           "1946",
           "1943"
          ],
          [
           "1944",
           "3694"
          ],
          [
           "1956",
           "1961"
          ],
          [
           "1961",
           "1956"
          ],
          [
           "1957",
           "1961"
          ],
          [
           "1961",
           "1957"
          ],
          [
           "2093",
           "302"
          ],
          [
           "2093",
           "3445"
          ],
          [
           "3445",
           "2093"
          ],
          [
           "962",
           "2093"
          ],
          [
           "2093",
           "962"
          ],
          [
           "2189",
           "264"
          ],
          [
           "264",
           "2189"
          ],
          [
           "2189",
           "302"
          ],
          [
           "773",
           "2189"
          ],
          [
           "2189",
           "773"
          ],
          [
           "3093",
           "2255"
          ],
          [
           "2255",
           "3093"
          ],
          [
           "2260",
           "2261"
          ],
          [
           "2261",
           "2260"
          ],
          [
           "2261",
           "2338"
          ],
          [
           "2261",
           "2421"
          ],
          [
           "2261",
           "2992"
          ],
          [
           "2312",
           "2307"
          ],
          [
           "2988",
           "2307"
          ],
          [
           "3064",
           "2307"
          ],
          [
           "732",
           "2307"
          ],
          [
           "2308",
           "3694"
          ],
          [
           "2384",
           "3694"
          ],
          [
           "2437",
           "2421"
          ],
          [
           "2421",
           "2437"
          ],
          [
           "2475",
           "3760"
          ],
          [
           "2557",
           "2993"
          ],
          [
           "705",
           "2562"
          ],
          [
           "2562",
           "705"
          ],
          [
           "2571",
           "302"
          ],
          [
           "2571",
           "3694"
          ],
          [
           "3846",
           "2571"
          ],
          [
           "2571",
           "3846"
          ],
          [
           "261",
           "260"
          ],
          [
           "260",
           "2804"
          ],
          [
           "2804",
           "260"
          ],
          [
           "261",
           "2804"
          ],
          [
           "3610",
           "261"
          ],
          [
           "261",
           "3610"
          ],
          [
           "432",
           "261"
          ],
          [
           "261",
           "432"
          ],
          [
           "264",
           "302"
          ],
          [
           "773",
           "264"
          ],
          [
           "264",
           "773"
          ],
          [
           "2670",
           "432"
          ],
          [
           "432",
           "2670"
          ],
          [
           "2690",
           "3308"
          ],
          [
           "3308",
           "2690"
          ],
          [
           "2690",
           "3694"
          ],
          [
           "984",
           "2690"
          ],
          [
           "2690",
           "984"
          ],
          [
           "3771",
           "2714"
          ],
          [
           "668",
           "2714"
          ],
          [
           "669",
           "2714"
          ],
          [
           "2737",
           "302"
          ],
          [
           "3578",
           "2804"
          ],
          [
           "3610",
           "2804"
          ],
          [
           "432",
           "2804"
          ],
          [
           "2931",
           "2993"
          ],
          [
           "3067",
           "2931"
          ],
          [
           "2931",
           "3067"
          ],
          [
           "2931",
           "3694"
          ],
          [
           "3729",
           "2986"
          ],
          [
           "2986",
           "3729"
          ],
          [
           "2992",
           "3694"
          ],
          [
           "3067",
           "2993"
          ],
          [
           "3148",
           "2999"
          ],
          [
           "3008",
           "3007"
          ],
          [
           "3007",
           "3008"
          ],
          [
           "3445",
           "302"
          ],
          [
           "3846",
           "302"
          ],
          [
           "773",
           "302"
          ],
          [
           "3663",
           "3041"
          ],
          [
           "3067",
           "3694"
          ],
          [
           "3072",
           "3071"
          ],
          [
           "3071",
           "3072"
          ],
          [
           "3071",
           "731"
          ],
          [
           "3092",
           "3090"
          ],
          [
           "3090",
           "3092"
          ],
          [
           "3093",
           "3090"
          ],
          [
           "3090",
           "3093"
          ],
          [
           "3093",
           "3092"
          ],
          [
           "3092",
           "3093"
          ],
          [
           "3148",
           "3694"
          ],
          [
           "3237",
           "3251"
          ],
          [
           "3251",
           "3237"
          ],
          [
           "3275",
           "3694"
          ],
          [
           "3308",
           "3303"
          ],
          [
           "3303",
           "3308"
          ],
          [
           "3303",
           "3408"
          ],
          [
           "3408",
           "3303"
          ],
          [
           "984",
           "3308"
          ],
          [
           "3308",
           "984"
          ],
          [
           "3378",
           "3694"
          ],
          [
           "962",
           "3445"
          ],
          [
           "3445",
           "962"
          ],
          [
           "3610",
           "3451"
          ],
          [
           "3451",
           "3610"
          ],
          [
           "3610",
           "432"
          ],
          [
           "432",
           "3610"
          ],
          [
           "3664",
           "3661"
          ],
          [
           "3661",
           "3664"
          ],
          [
           "3664",
           "3663"
          ],
          [
           "3663",
           "3664"
          ],
          [
           "3846",
           "3694"
          ],
          [
           "587",
           "3694"
          ],
          [
           "3712",
           "3711"
          ],
          [
           "3711",
           "3712"
          ],
          [
           "3712",
           "485"
          ],
          [
           "485",
           "3712"
          ],
          [
           "3745",
           "3742"
          ],
          [
           "3742",
           "3756"
          ],
          [
           "3756",
           "3742"
          ],
          [
           "3745",
           "3756"
          ],
          [
           "3760",
           "3756"
          ],
          [
           "3756",
           "3760"
          ],
          [
           "55",
           "57"
          ],
          [
           "57",
           "55"
          ],
          [
           "64",
           "731"
          ],
          [
           "669",
           "668"
          ],
          [
           "668",
           "669"
          ],
          [
           "705",
           "704"
          ],
          [
           "704",
           "705"
          ],
          [
           "731",
           "732"
          ],
          [
           "732",
           "731"
          ],
          [
           "733",
           "731"
          ],
          [
           "2737, 1075",
           "302"
          ],
          [
           "2737, 302",
           "1075"
          ],
          [
           "302, 1075",
           "2737"
          ],
          [
           "2737",
           "302, 1075"
          ],
          [
           "1075",
           "2737, 302"
          ],
          [
           "1192, 2421",
           "1189"
          ],
          [
           "1192, 1189",
           "2421"
          ],
          [
           "2421, 1189",
           "1192"
          ],
          [
           "1192",
           "2421, 1189"
          ],
          [
           "1189",
           "1192, 2421"
          ],
          [
           "1200, 1199",
           "1201"
          ],
          [
           "1200, 1201",
           "1199"
          ],
          [
           "1199, 1201",
           "1200"
          ],
          [
           "1200",
           "1199, 1201"
          ],
          [
           "1199",
           "1200, 1201"
          ],
          [
           "1201",
           "1200, 1199"
          ],
          [
           "3694, 1380",
           "3067"
          ],
          [
           "3694, 3067",
           "1380"
          ],
          [
           "1380, 3067",
           "3694"
          ],
          [
           "1380",
           "3694, 3067"
          ],
          [
           "3067",
           "3694, 1380"
          ],
          [
           "3846, 1532",
           "2571"
          ],
          [
           "3846, 2571",
           "1532"
          ],
          [
           "1532, 2571",
           "3846"
          ],
          [
           "3846",
           "1532, 2571"
          ],
          [
           "2571",
           "3846, 1532"
          ],
          [
           "2993, 3694",
           "1722"
          ],
          [
           "2993, 1722",
           "3694"
          ],
          [
           "3694, 1722",
           "2993"
          ],
          [
           "1743, 1755",
           "1753"
          ],
          [
           "1743, 1753",
           "1755"
          ],
          [
           "1755, 1753",
           "1743"
          ],
          [
           "1753",
           "1743, 1755"
          ],
          [
           "1743, 1755",
           "1766"
          ],
          [
           "1743, 1766",
           "1755"
          ],
          [
           "1755, 1766",
           "1743"
          ],
          [
           "1768, 1743",
           "1755"
          ],
          [
           "1768, 1755",
           "1743"
          ],
          [
           "1743, 1755",
           "1768"
          ],
          [
           "1768",
           "1743, 1755"
          ],
          [
           "1768, 1755",
           "1766"
          ],
          [
           "1768, 1766",
           "1755"
          ],
          [
           "1755, 1766",
           "1768"
          ],
          [
           "1768",
           "1755, 1766"
          ],
          [
           "1935, 1755",
           "2667"
          ],
          [
           "1935, 2667",
           "1755"
          ],
          [
           "1755, 2667",
           "1935"
          ],
          [
           "2667",
           "1935, 1755"
          ],
          [
           "1770, 3694",
           "2992"
          ],
          [
           "1770, 2992",
           "3694"
          ],
          [
           "3694, 2992",
           "1770"
          ],
          [
           "1770",
           "3694, 2992"
          ],
          [
           "3148, 2999",
           "1776"
          ],
          [
           "3148, 1776",
           "2999"
          ],
          [
           "1776, 2999",
           "3148"
          ],
          [
           "3148",
           "1776, 2999"
          ],
          [
           "1776",
           "3148, 2999"
          ],
          [
           "3148, 3694",
           "1776"
          ],
          [
           "3148, 1776",
           "3694"
          ],
          [
           "1776, 3694",
           "3148"
          ],
          [
           "3148",
           "1776, 3694"
          ],
          [
           "1776",
           "3148, 3694"
          ],
          [
           "1937, 1934",
           "1927"
          ],
          [
           "1937, 1927",
           "1934"
          ],
          [
           "1934, 1927",
           "1937"
          ],
          [
           "1937",
           "1934, 1927"
          ],
          [
           "1927",
           "1937, 1934"
          ],
          [
           "1934, 1927",
           "1939"
          ],
          [
           "1939, 1927",
           "1934"
          ],
          [
           "1934, 1939",
           "1927"
          ],
          [
           "1927",
           "1934, 1939"
          ],
          [
           "1937, 1927",
           "1939"
          ],
          [
           "1937, 1939",
           "1927"
          ],
          [
           "1939, 1927",
           "1937"
          ],
          [
           "1937",
           "1939, 1927"
          ],
          [
           "1927",
           "1937, 1939"
          ],
          [
           "1937, 1930",
           "1934"
          ],
          [
           "1937, 1934",
           "1930"
          ],
          [
           "1930, 1934",
           "1937"
          ],
          [
           "1937",
           "1930, 1934"
          ],
          [
           "1934, 1939",
           "1932"
          ],
          [
           "1934, 1932",
           "1939"
          ],
          [
           "1939, 1932",
           "1934"
          ],
          [
           "1932",
           "1934, 1939"
          ],
          [
           "3351, 1939",
           "1932"
          ],
          [
           "3351, 1932",
           "1939"
          ],
          [
           "1939, 1932",
           "3351"
          ],
          [
           "3351",
           "1939, 1932"
          ],
          [
           "1932",
           "3351, 1939"
          ],
          [
           "1937, 1934",
           "1939"
          ],
          [
           "1937, 1939",
           "1934"
          ],
          [
           "1934, 1939",
           "1937"
          ],
          [
           "1937",
           "1934, 1939"
          ],
          [
           "1934, 1943",
           "1946"
          ],
          [
           "1934, 1946",
           "1943"
          ],
          [
           "1943, 1946",
           "1934"
          ],
          [
           "1943",
           "1934, 1946"
          ],
          [
           "1946",
           "1934, 1943"
          ],
          [
           "1939, 3041",
           "3663"
          ],
          [
           "1939, 3663",
           "3041"
          ],
          [
           "3041, 3663",
           "1939"
          ],
          [
           "3663",
           "1939, 3041"
          ],
          [
           "2093, 302",
           "3445"
          ],
          [
           "2093, 3445",
           "302"
          ],
          [
           "302, 3445",
           "2093"
          ],
          [
           "2093",
           "302, 3445"
          ],
          [
           "3445",
           "2093, 302"
          ],
          [
           "962, 2093",
           "3445"
          ],
          [
           "962, 3445",
           "2093"
          ],
          [
           "2093, 3445",
           "962"
          ],
          [
           "962",
           "2093, 3445"
          ],
          [
           "2093",
           "962, 3445"
          ],
          [
           "3445",
           "962, 2093"
          ],
          [
           "773, 2189",
           "264"
          ],
          [
           "773, 264",
           "2189"
          ],
          [
           "2189, 264",
           "773"
          ],
          [
           "773",
           "2189, 264"
          ],
          [
           "2189",
           "773, 264"
          ],
          [
           "264",
           "773, 2189"
          ],
          [
           "773, 302",
           "2189"
          ],
          [
           "773, 2189",
           "302"
          ],
          [
           "302, 2189",
           "773"
          ],
          [
           "773",
           "302, 2189"
          ],
          [
           "2189",
           "773, 302"
          ],
          [
           "3846, 302",
           "2571"
          ],
          [
           "3846, 2571",
           "302"
          ],
          [
           "302, 2571",
           "3846"
          ],
          [
           "3846",
           "302, 2571"
          ],
          [
           "2571",
           "3846, 302"
          ],
          [
           "3846, 3694",
           "2571"
          ],
          [
           "3846, 2571",
           "3694"
          ],
          [
           "3694, 2571",
           "3846"
          ],
          [
           "3846",
           "3694, 2571"
          ],
          [
           "2571",
           "3846, 3694"
          ],
          [
           "3610, 2804",
           "261"
          ],
          [
           "3610, 261",
           "2804"
          ],
          [
           "2804, 261",
           "3610"
          ],
          [
           "3610",
           "2804, 261"
          ],
          [
           "261",
           "3610, 2804"
          ],
          [
           "432, 2804",
           "261"
          ],
          [
           "432, 261",
           "2804"
          ],
          [
           "2804, 261",
           "432"
          ],
          [
           "432",
           "2804, 261"
          ],
          [
           "261",
           "432, 2804"
          ],
          [
           "3610, 432",
           "261"
          ],
          [
           "3610, 261",
           "432"
          ],
          [
           "432, 261",
           "3610"
          ],
          [
           "3610",
           "432, 261"
          ],
          [
           "432",
           "3610, 261"
          ],
          [
           "261",
           "3610, 432"
          ],
          [
           "984, 2690",
           "3308"
          ],
          [
           "984, 3308",
           "2690"
          ],
          [
           "2690, 3308",
           "984"
          ],
          [
           "984",
           "2690, 3308"
          ],
          [
           "2690",
           "984, 3308"
          ],
          [
           "3308",
           "984, 2690"
          ],
          [
           "2714, 669",
           "668"
          ],
          [
           "2714, 668",
           "669"
          ],
          [
           "669, 668",
           "2714"
          ],
          [
           "669",
           "2714, 668"
          ],
          [
           "668",
           "2714, 669"
          ],
          [
           "3610, 432",
           "2804"
          ],
          [
           "3610, 2804",
           "432"
          ],
          [
           "432, 2804",
           "3610"
          ],
          [
           "3610",
           "432, 2804"
          ],
          [
           "432",
           "3610, 2804"
          ],
          [
           "3261, 3694",
           "2992"
          ],
          [
           "3261, 2992",
           "3694"
          ],
          [
           "3694, 2992",
           "3261"
          ],
          [
           "3093, 3092",
           "3090"
          ],
          [
           "3093, 3090",
           "3092"
          ],
          [
           "3092, 3090",
           "3093"
          ],
          [
           "3093",
           "3092, 3090"
          ],
          [
           "3092",
           "3093, 3090"
          ],
          [
           "3090",
           "3093, 3092"
          ],
          [
           "3742, 3745",
           "3756"
          ],
          [
           "3742, 3756",
           "3745"
          ],
          [
           "3745, 3756",
           "3742"
          ],
          [
           "3745",
           "3742, 3756"
          ],
          [
           "3742, 3760",
           "3756"
          ],
          [
           "3742, 3756",
           "3760"
          ],
          [
           "3760, 3756",
           "3742"
          ],
          [
           "1937, 1934, 1927",
           "1939"
          ],
          [
           "1937, 1939, 1927",
           "1934"
          ],
          [
           "1937, 1934, 1939",
           "1927"
          ],
          [
           "1939, 1934, 1927",
           "1937"
          ],
          [
           "1937, 1927",
           "1934, 1939"
          ],
          [
           "1937, 1934",
           "1939, 1927"
          ],
          [
           "1937, 1939",
           "1934, 1927"
          ],
          [
           "1934, 1927",
           "1937, 1939"
          ],
          [
           "1939, 1927",
           "1937, 1934"
          ],
          [
           "1934, 1939",
           "1937, 1927"
          ],
          [
           "1937",
           "1939, 1934, 1927"
          ],
          [
           "1927",
           "1937, 1934, 1939"
          ],
          [
           "3610, 432, 2804",
           "261"
          ],
          [
           "3610, 432, 261",
           "2804"
          ],
          [
           "3610, 2804, 261",
           "432"
          ],
          [
           "432, 2804, 261",
           "3610"
          ],
          [
           "3610, 432",
           "2804, 261"
          ],
          [
           "3610, 2804",
           "432, 261"
          ],
          [
           "3610, 261",
           "432, 2804"
          ],
          [
           "432, 2804",
           "3610, 261"
          ],
          [
           "432, 261",
           "3610, 2804"
          ],
          [
           "2804, 261",
           "3610, 432"
          ],
          [
           "3610",
           "432, 2804, 261"
          ],
          [
           "432",
           "3610, 2804, 261"
          ],
          [
           "261",
           "3610, 432, 2804"
          ]
         ],
         "hovertemplate": "Dataset=After Sanitization<br>support=%{x}<br>confidence=%{y}<br>lift=%{z}<br>antecedents=%{customdata[0]}<br>consequents=%{customdata[1]}<extra></extra>",
         "legendgroup": "After Sanitization",
         "marker": {
          "color": "#EF553B",
          "symbol": "circle"
         },
         "mode": "markers",
         "name": "After Sanitization",
         "scene": "scene",
         "showlegend": true,
         "type": "scatter3d",
         "x": [
          0.02,
          0.02,
          0.02,
          0.02,
          0.02,
          0.02666666666666667,
          0.02,
          0.02,
          0.02,
          0.02,
          0.02,
          0.02,
          0.02,
          0.02,
          0.02,
          0.02,
          0.02,
          0.02,
          0.02,
          0.02,
          0.02,
          0.02666666666666667,
          0.02666666666666667,
          0.02,
          0.02,
          0.02,
          0.02,
          0.02,
          0.02,
          0.02,
          0.02,
          0.02,
          0.02,
          0.02,
          0.02666666666666667,
          0.02666666666666667,
          0.02,
          0.02,
          0.02,
          0.02,
          0.02,
          0.02666666666666667,
          0.02666666666666667,
          0.02,
          0.02,
          0.02,
          0.02,
          0.02,
          0.02,
          0.02,
          0.02,
          0.02,
          0.02,
          0.02666666666666667,
          0.02666666666666667,
          0.02666666666666667,
          0.02666666666666667,
          0.02,
          0.03333333333333333,
          0.03333333333333333,
          0.02,
          0.02,
          0.03333333333333333,
          0.03333333333333333,
          0.02,
          0.02,
          0.02,
          0.02,
          0.02,
          0.02666666666666667,
          0.02666666666666667,
          0.02,
          0.02,
          0.02,
          0.04,
          0.02,
          0.02,
          0.02,
          0.02,
          0.02,
          0.02,
          0.02,
          0.02,
          0.02666666666666667,
          0.03333333333333333,
          0.02666666666666667,
          0.02,
          0.03333333333333333,
          0.02666666666666667,
          0.03333333333333333,
          0.03333333333333333,
          0.04,
          0.02666666666666667,
          0.02,
          0.02,
          0.02,
          0.02,
          0.02,
          0.02,
          0.02,
          0.02,
          0.03333333333333333,
          0.03333333333333333,
          0.02,
          0.02,
          0.02666666666666667,
          0.02666666666666667,
          0.02666666666666667,
          0.02666666666666667,
          0.02,
          0.02,
          0.02,
          0.02,
          0.02,
          0.02,
          0.02666666666666667,
          0.02666666666666667,
          0.02,
          0.02,
          0.02,
          0.02,
          0.02,
          0.02666666666666667,
          0.02666666666666667,
          0.03333333333333333,
          0.03333333333333333,
          0.02,
          0.02,
          0.02,
          0.02,
          0.02,
          0.02666666666666667,
          0.02666666666666667,
          0.02,
          0.02,
          0.02,
          0.02,
          0.02,
          0.02,
          0.02,
          0.02,
          0.02,
          0.02,
          0.02666666666666667,
          0.02666666666666667,
          0.02,
          0.02,
          0.02,
          0.02,
          0.02,
          0.02666666666666667,
          0.02666666666666667,
          0.02,
          0.02,
          0.02,
          0.02,
          0.02,
          0.02,
          0.02,
          0.02666666666666667,
          0.02,
          0.02,
          0.02,
          0.02,
          0.02,
          0.02666666666666667,
          0.02666666666666667,
          0.02,
          0.02,
          0.02,
          0.02,
          0.02,
          0.02,
          0.02666666666666667,
          0.02666666666666667,
          0.02,
          0.04,
          0.04,
          0.02,
          0.02,
          0.02,
          0.02,
          0.02,
          0.02,
          0.02,
          0.02,
          0.03333333333333333,
          0.03333333333333333,
          0.02,
          0.02,
          0.02666666666666667,
          0.02,
          0.02,
          0.02,
          0.02,
          0.02,
          0.02,
          0.02,
          0.02,
          0.02,
          0.02,
          0.02,
          0.02,
          0.02,
          0.02,
          0.02,
          0.02666666666666667,
          0.02,
          0.02,
          0.02,
          0.02,
          0.02,
          0.02,
          0.02,
          0.02,
          0.02666666666666667,
          0.02,
          0.02,
          0.02,
          0.02,
          0.02,
          0.02666666666666667,
          0.02666666666666667,
          0.02,
          0.02,
          0.02,
          0.02666666666666667,
          0.02666666666666667,
          0.02,
          0.02,
          0.02,
          0.02,
          0.02,
          0.02666666666666667,
          0.02666666666666667,
          0.02,
          0.02,
          0.02,
          0.02,
          0.02,
          0.02,
          0.02,
          0.02,
          0.02,
          0.02,
          0.02,
          0.02,
          0.02666666666666667,
          0.02,
          0.02,
          0.02,
          0.02,
          0.02,
          0.03333333333333333,
          0.03333333333333333,
          0.02,
          0.03333333333333333,
          0.03333333333333333,
          0.02,
          0.02,
          0.02,
          0.02,
          0.02,
          0.02,
          0.02,
          0.02666666666666667,
          0.02666666666666667,
          0.02,
          0.02,
          0.02,
          0.02,
          0.02,
          0.02,
          0.02,
          0.02,
          0.02,
          0.02,
          0.02,
          0.02,
          0.02,
          0.02,
          0.02,
          0.02,
          0.02,
          0.02,
          0.02,
          0.02,
          0.02,
          0.02,
          0.02,
          0.02,
          0.02,
          0.02,
          0.02,
          0.02,
          0.02,
          0.02,
          0.02,
          0.02,
          0.02,
          0.02,
          0.02,
          0.02,
          0.02,
          0.02,
          0.02,
          0.02,
          0.02,
          0.02,
          0.02,
          0.02,
          0.02,
          0.02,
          0.02,
          0.02,
          0.02,
          0.02,
          0.02,
          0.02,
          0.02,
          0.02,
          0.02,
          0.02,
          0.02,
          0.02,
          0.02,
          0.02,
          0.02,
          0.02,
          0.02,
          0.02,
          0.02,
          0.02,
          0.02,
          0.02,
          0.02,
          0.02,
          0.02,
          0.02,
          0.02,
          0.02,
          0.02,
          0.02,
          0.02,
          0.02,
          0.02,
          0.02,
          0.02,
          0.02,
          0.02,
          0.02,
          0.02,
          0.02,
          0.02,
          0.02,
          0.02,
          0.02,
          0.02,
          0.02,
          0.02,
          0.02,
          0.02,
          0.02,
          0.02,
          0.02,
          0.02,
          0.02,
          0.02,
          0.02,
          0.02,
          0.02,
          0.02,
          0.02,
          0.02,
          0.02,
          0.02,
          0.02,
          0.02,
          0.02,
          0.02,
          0.02,
          0.02,
          0.02,
          0.02,
          0.02,
          0.02,
          0.02,
          0.02,
          0.02,
          0.02,
          0.02,
          0.02,
          0.02,
          0.02,
          0.02,
          0.02,
          0.02,
          0.02,
          0.02,
          0.02,
          0.02,
          0.02,
          0.02,
          0.02,
          0.02,
          0.02,
          0.02,
          0.02,
          0.02,
          0.02,
          0.02,
          0.02,
          0.02,
          0.02,
          0.02,
          0.02,
          0.02,
          0.02,
          0.02,
          0.02,
          0.02,
          0.02,
          0.02,
          0.02,
          0.02,
          0.02,
          0.02,
          0.02,
          0.02,
          0.02,
          0.02,
          0.02,
          0.02,
          0.02,
          0.02,
          0.02,
          0.02,
          0.02,
          0.02,
          0.02,
          0.02,
          0.02,
          0.02,
          0.02,
          0.02,
          0.02,
          0.02,
          0.02,
          0.02,
          0.02,
          0.02,
          0.02,
          0.02,
          0.02,
          0.02,
          0.02,
          0.02,
          0.02,
          0.02,
          0.02,
          0.02,
          0.02,
          0.02,
          0.02,
          0.02,
          0.02,
          0.02,
          0.02,
          0.02,
          0.02,
          0.02,
          0.02,
          0.02,
          0.02,
          0.02
         ],
         "y": [
          0.6,
          0.5,
          0.6,
          0.6,
          0.5,
          0.5,
          0.6,
          0.6,
          0.6,
          0.75,
          0.75,
          0.75,
          0.6,
          0.6,
          0.5,
          0.5,
          0.6,
          0.5,
          0.5,
          1,
          1,
          0.6666666666666667,
          0.5,
          0.5,
          0.6,
          0.6,
          0.6,
          0.75,
          0.6,
          0.75,
          0.6,
          0.75,
          0.6,
          0.75,
          0.6666666666666667,
          1,
          0.5,
          0.75,
          0.5,
          0.75,
          0.75,
          0.5,
          0.6666666666666667,
          0.6,
          0.75,
          0.75,
          0.5,
          0.75,
          0.6,
          0.75,
          0.75,
          0.6,
          0.6,
          0.5,
          0.8,
          0.5,
          0.5714285714285714,
          0.75,
          0.625,
          0.8333333333333333,
          1,
          0.75,
          0.5555555555555556,
          0.8333333333333333,
          0.5,
          0.75,
          0.5,
          0.75,
          1,
          1,
          0.5,
          0.5,
          0.5,
          0.75,
          0.8571428571428571,
          0.5,
          0.6,
          0.75,
          0.75,
          1,
          0.6,
          0.6,
          0.6,
          1,
          0.8333333333333333,
          1,
          0.6,
          0.7142857142857142,
          0.8,
          0.625,
          0.8333333333333333,
          0.6666666666666667,
          0.8,
          1,
          0.5,
          1,
          0.5,
          0.75,
          0.75,
          0.75,
          0.6,
          1,
          1,
          0.6,
          0.5,
          0.6666666666666667,
          0.6666666666666667,
          0.6666666666666667,
          0.5,
          0.5,
          0.5,
          0.75,
          0.5,
          0.5,
          0.5,
          0.5,
          0.6666666666666667,
          0.5,
          0.75,
          0.5,
          0.5,
          0.5,
          0.6666666666666667,
          0.5714285714285714,
          0.7142857142857142,
          0.625,
          0.75,
          0.75,
          0.5,
          0.6,
          0.5,
          0.6666666666666667,
          0.6666666666666667,
          0.75,
          0.75,
          0.75,
          0.75,
          0.6,
          1,
          0.6,
          1,
          0.6,
          0.6,
          0.8,
          0.8,
          1,
          0.6,
          0.75,
          0.75,
          0.75,
          1,
          1,
          0.5,
          1,
          1,
          0.5,
          0.5,
          0.5,
          0.5,
          0.5,
          0.75,
          0.75,
          0.5,
          0.75,
          0.75,
          0.6666666666666667,
          0.5,
          0.75,
          0.5,
          0.75,
          1,
          0.6,
          0.6,
          1,
          0.8,
          0.6,
          0.6666666666666667,
          0.5454545454545454,
          0.6,
          0.75,
          0.6,
          0.5,
          0.6,
          0.75,
          0.75,
          0.75,
          0.7142857142857142,
          0.8333333333333333,
          0.5,
          0.6,
          0.6666666666666667,
          0.75,
          0.5,
          0.75,
          0.5,
          0.75,
          0.6,
          1,
          0.75,
          0.5,
          0.6,
          0.5,
          0.6,
          0.6,
          0.6,
          0.75,
          0.5,
          0.5,
          0.6,
          0.75,
          1,
          0.6,
          0.75,
          0.75,
          0.75,
          0.6666666666666667,
          1,
          0.75,
          0.75,
          1,
          0.75,
          0.6666666666666667,
          1,
          0.5,
          1,
          0.6,
          0.5714285714285714,
          1,
          1,
          0.6,
          0.6,
          0.6,
          0.6,
          1,
          0.8,
          0.75,
          1,
          0.6,
          0.75,
          0.75,
          0.75,
          0.5,
          0.6,
          1,
          0.6,
          0.75,
          0.75,
          1,
          0.5,
          1,
          0.5,
          1,
          0.6,
          0.7142857142857142,
          0.5555555555555556,
          0.6,
          0.625,
          0.5555555555555556,
          0.75,
          1,
          1,
          0.75,
          0.5,
          0.75,
          1,
          0.5714285714285714,
          0.6666666666666667,
          1,
          1,
          1,
          1,
          0.6,
          0.6,
          0.75,
          1,
          1,
          0.5,
          1,
          1,
          1,
          1,
          0.6,
          0.6,
          0.75,
          1,
          0.75,
          1,
          0.75,
          0.5,
          1,
          0.75,
          0.75,
          0.75,
          0.6,
          1,
          0.75,
          1,
          0.5,
          1,
          0.75,
          0.75,
          0.5,
          1,
          0.6,
          1,
          0.6,
          0.5,
          0.5,
          0.6,
          1,
          0.6,
          0.5,
          0.5,
          1,
          0.75,
          0.6,
          1,
          1,
          0.75,
          0.75,
          1,
          0.6,
          1,
          0.6,
          0.6,
          1,
          0.6,
          1,
          0.6,
          0.6,
          0.75,
          0.75,
          1,
          0.5,
          0.5,
          1,
          0.75,
          0.6,
          0.5,
          0.75,
          1,
          0.75,
          0.5,
          0.5,
          1,
          0.75,
          1,
          0.5,
          0.6,
          1,
          0.75,
          0.5,
          1,
          1,
          0.75,
          0.75,
          0.5,
          0.75,
          1,
          0.6,
          0.5,
          1,
          1,
          1,
          0.75,
          0.75,
          1,
          1,
          1,
          0.75,
          1,
          0.75,
          1,
          0.6,
          0.6,
          1,
          1,
          0.75,
          1,
          0.6,
          0.6,
          0.75,
          1,
          1,
          0.75,
          0.75,
          0.75,
          1,
          0.75,
          1,
          0.75,
          0.75,
          1,
          0.75,
          1,
          0.75,
          0.6,
          1,
          0.75,
          1,
          0.75,
          0.6,
          1,
          1,
          1,
          0.75,
          0.6,
          1,
          1,
          1,
          0.5,
          0.6,
          1,
          1,
          1,
          0.75,
          0.5,
          0.6,
          1,
          0.75,
          1,
          0.75,
          0.5,
          0.6,
          1,
          1,
          1,
          0.75,
          0.5,
          1,
          1,
          1,
          0.75,
          0.5,
          1,
          1,
          0.75,
          1,
          0.75,
          1,
          0.5,
          1,
          0.75,
          1,
          0.6,
          1,
          0.6,
          1,
          0.6,
          0.6,
          1,
          1,
          1,
          1,
          0.75,
          0.75,
          1,
          1,
          0.75,
          0.6,
          0.5,
          0.5,
          1,
          1,
          1,
          1,
          1,
          1,
          1,
          1,
          1,
          1,
          0.75,
          0.5,
          0.6
         ],
         "z": [
          9,
          15,
          15,
          5.294117647058823,
          7.5,
          7.5,
          18,
          18,
          12.857142857142856,
          6.61764705882353,
          14.062499999999998,
          22.5,
          22.499999999999996,
          11.249999999999998,
          12.5,
          12.5,
          15,
          15,
          25,
          25,
          18.75,
          12.5,
          12.5,
          7.5,
          18,
          18,
          22.499999999999996,
          22.5,
          22.499999999999996,
          22.5,
          8.181818181818182,
          22.5,
          22.499999999999996,
          7.031249999999999,
          25,
          25,
          6.25,
          18.75,
          18.75,
          28.124999999999996,
          28.124999999999996,
          12.5,
          12.5,
          11.249999999999998,
          11.25,
          18.75,
          18.75,
          7.031249999999999,
          22.499999999999996,
          22.5,
          14.062499999999998,
          11.249999999999998,
          11.249999999999998,
          15,
          15,
          10.714285714285714,
          10.714285714285714,
          14.062499999999998,
          15.625,
          15.624999999999998,
          16.666666666666668,
          12.5,
          13.88888888888889,
          13.888888888888888,
          7.5,
          12.5,
          8.333333333333334,
          12.5,
          21.428571428571427,
          18.75,
          18.75,
          8.333333333333334,
          7.5,
          16.07142857142857,
          7.563025210084033,
          10.714285714285714,
          5.294117647058823,
          6.61764705882353,
          37.5,
          37.5,
          5.294117647058823,
          11.249999999999998,
          10,
          8.823529411764707,
          7.352941176470588,
          8.823529411764707,
          5.294117647058823,
          6.302521008403361,
          7.058823529411765,
          5.514705882352941,
          7.352941176470588,
          5.882352941176472,
          7.058823529411765,
          16.666666666666668,
          9.375,
          15,
          18.75,
          18.75,
          14.062499999999998,
          7.031249999999999,
          9,
          30,
          30,
          5.624999999999999,
          10.714285714285714,
          16.666666666666668,
          16.666666666666668,
          12.5,
          12.5,
          9.375,
          9.375,
          14.062499999999998,
          10.714285714285714,
          12.5,
          12.5,
          12.5,
          12.5,
          10.714285714285714,
          18.75,
          18.75,
          12.5,
          12.5,
          14.285714285714286,
          14.285714285714285,
          13.39285714285714,
          13.392857142857142,
          16.07142857142857,
          16.07142857142857,
          10.714285714285714,
          10,
          9.375,
          16.666666666666668,
          16.666666666666668,
          14.062499999999998,
          14.062499999999998,
          28.124999999999996,
          28.124999999999996,
          5.624999999999999,
          30,
          30,
          30,
          30,
          12.857142857142856,
          24,
          24,
          30,
          30,
          28.124999999999996,
          28.124999999999996,
          16.07142857142857,
          37.5,
          37.5,
          25,
          25,
          25,
          25,
          7.5,
          9.375,
          9.375,
          7.5,
          11.25,
          11.25,
          7.5,
          7.031249999999999,
          7.031249999999999,
          12.5,
          12.5,
          14.062499999999998,
          8.333333333333334,
          37.5,
          37.5,
          12.857142857142856,
          5.624999999999999,
          30,
          30,
          10,
          9.090909090909092,
          9.09090909090909,
          8.181818181818182,
          22.5,
          22.499999999999996,
          15,
          15,
          16.07142857142857,
          28.124999999999996,
          28.124999999999996,
          17.857142857142854,
          17.857142857142854,
          15,
          15,
          6.25,
          18.75,
          18.75,
          16.07142857142857,
          10.714285714285714,
          16.07142857142857,
          12.857142857142856,
          13.636363636363637,
          10.227272727272727,
          6.818181818181818,
          10,
          15,
          15,
          5.624999999999999,
          22.499999999999996,
          22.5,
          4.6875,
          8.333333333333334,
          9,
          37.5,
          37.5,
          12.857142857142856,
          16.07142857142857,
          16.07142857142857,
          11.25,
          6.25,
          37.5,
          37.5,
          16.07142857142857,
          37.5,
          37.5,
          25,
          25,
          25,
          25,
          5.624999999999999,
          21.428571428571427,
          21.428571428571427,
          9.375,
          18,
          18,
          18,
          18,
          30,
          30,
          7.031249999999999,
          30,
          30,
          28.124999999999996,
          28.124999999999996,
          18.75,
          18.75,
          30,
          30,
          22.499999999999996,
          22.5,
          7.031249999999999,
          9.375,
          25,
          25,
          25,
          25,
          12.857142857142856,
          11.904761904761903,
          11.904761904761905,
          10,
          10.416666666666668,
          10.416666666666666,
          37.5,
          37.5,
          21.428571428571427,
          18.75,
          18.75,
          37.5,
          37.5,
          14.285714285714285,
          14.285714285714286,
          21.428571428571427,
          21.428571428571427,
          30,
          30,
          30,
          30,
          37.5,
          18.75,
          25,
          25,
          37.5,
          37.5,
          30,
          30,
          30,
          30,
          37.5,
          25,
          28.124999999999996,
          9.375,
          28.124999999999996,
          25,
          30,
          14.062499999999998,
          28.124999999999996,
          28.124999999999996,
          30,
          15,
          7.031249999999999,
          16.666666666666668,
          18.75,
          8.823529411764707,
          16.07142857142857,
          18.75,
          9.375,
          8.823529411764707,
          12.857142857142856,
          8.823529411764707,
          12.857142857142856,
          12.5,
          12.5,
          11.249999999999998,
          8.823529411764707,
          15,
          15,
          15,
          8.823529411764707,
          12.5,
          15,
          18.75,
          9.375,
          28.124999999999996,
          28.124999999999996,
          30,
          9,
          30,
          30,
          30,
          30,
          5.624999999999999,
          30,
          30,
          30,
          18.75,
          16.07142857142857,
          25,
          25,
          18.75,
          18.75,
          16.07142857142857,
          15,
          15,
          14.062499999999998,
          25,
          18.75,
          18.75,
          25,
          21.428571428571427,
          14.062499999999998,
          25,
          25,
          15,
          18.75,
          16.07142857142857,
          15,
          25,
          18.75,
          28.124999999999996,
          28.124999999999996,
          25,
          14.062499999999998,
          21.428571428571427,
          15,
          15,
          37.5,
          37.5,
          21.428571428571427,
          37.5,
          37.5,
          37.5,
          15,
          18.75,
          37.5,
          30,
          16.07142857142857,
          30,
          30,
          30,
          30,
          30,
          37.5,
          37.5,
          30,
          30,
          28.124999999999996,
          37.5,
          37.5,
          37.5,
          37.5,
          28.124999999999996,
          37.5,
          16.07142857142857,
          37.5,
          37.5,
          37.5,
          30,
          16.07142857142857,
          37.5,
          37.5,
          30,
          30,
          7.031249999999999,
          37.5,
          37.5,
          30,
          30,
          13.636363636363637,
          37.5,
          37.5,
          30,
          30,
          13.636363636363637,
          25,
          25,
          30,
          30,
          25,
          37.5,
          37.5,
          25,
          30,
          30,
          18.75,
          37.5,
          37.5,
          18.75,
          30,
          25,
          37.5,
          21.428571428571427,
          37.5,
          25,
          13.636363636363637,
          25,
          37.5,
          37.5,
          25,
          18.75,
          9.375,
          16.07142857142857,
          37.5,
          37.5,
          25,
          25,
          37.5,
          37.5,
          16.666666666666668,
          18,
          21.428571428571427,
          18,
          16.666666666666668,
          11.249999999999998,
          12.857142857142856,
          18.75,
          21.428571428571427,
          25,
          25,
          22.5,
          28.124999999999996,
          50,
          50,
          28.124999999999996,
          22.499999999999996,
          25,
          25,
          30,
          13.636363636363637,
          25,
          37.5,
          50,
          50,
          50,
          50,
          50,
          50,
          37.5,
          25,
          30
         ]
        }
       ],
       "layout": {
        "legend": {
         "title": {
          "text": "Dataset"
         },
         "tracegroupgap": 0
        },
        "margin": {
         "t": 60
        },
        "scene": {
         "domain": {
          "x": [
           0,
           1
          ],
          "y": [
           0,
           1
          ]
         },
         "xaxis": {
          "title": {
           "text": "support"
          }
         },
         "yaxis": {
          "title": {
           "text": "confidence"
          }
         },
         "zaxis": {
          "title": {
           "text": "lift"
          }
         }
        },
        "template": {
         "data": {
          "bar": [
           {
            "error_x": {
             "color": "#2a3f5f"
            },
            "error_y": {
             "color": "#2a3f5f"
            },
            "marker": {
             "line": {
              "color": "#E5ECF6",
              "width": 0.5
             },
             "pattern": {
              "fillmode": "overlay",
              "size": 10,
              "solidity": 0.2
             }
            },
            "type": "bar"
           }
          ],
          "barpolar": [
           {
            "marker": {
             "line": {
              "color": "#E5ECF6",
              "width": 0.5
             },
             "pattern": {
              "fillmode": "overlay",
              "size": 10,
              "solidity": 0.2
             }
            },
            "type": "barpolar"
           }
          ],
          "carpet": [
           {
            "aaxis": {
             "endlinecolor": "#2a3f5f",
             "gridcolor": "white",
             "linecolor": "white",
             "minorgridcolor": "white",
             "startlinecolor": "#2a3f5f"
            },
            "baxis": {
             "endlinecolor": "#2a3f5f",
             "gridcolor": "white",
             "linecolor": "white",
             "minorgridcolor": "white",
             "startlinecolor": "#2a3f5f"
            },
            "type": "carpet"
           }
          ],
          "choropleth": [
           {
            "colorbar": {
             "outlinewidth": 0,
             "ticks": ""
            },
            "type": "choropleth"
           }
          ],
          "contour": [
           {
            "colorbar": {
             "outlinewidth": 0,
             "ticks": ""
            },
            "colorscale": [
             [
              0,
              "#0d0887"
             ],
             [
              0.1111111111111111,
              "#46039f"
             ],
             [
              0.2222222222222222,
              "#7201a8"
             ],
             [
              0.3333333333333333,
              "#9c179e"
             ],
             [
              0.4444444444444444,
              "#bd3786"
             ],
             [
              0.5555555555555556,
              "#d8576b"
             ],
             [
              0.6666666666666666,
              "#ed7953"
             ],
             [
              0.7777777777777778,
              "#fb9f3a"
             ],
             [
              0.8888888888888888,
              "#fdca26"
             ],
             [
              1,
              "#f0f921"
             ]
            ],
            "type": "contour"
           }
          ],
          "contourcarpet": [
           {
            "colorbar": {
             "outlinewidth": 0,
             "ticks": ""
            },
            "type": "contourcarpet"
           }
          ],
          "heatmap": [
           {
            "colorbar": {
             "outlinewidth": 0,
             "ticks": ""
            },
            "colorscale": [
             [
              0,
              "#0d0887"
             ],
             [
              0.1111111111111111,
              "#46039f"
             ],
             [
              0.2222222222222222,
              "#7201a8"
             ],
             [
              0.3333333333333333,
              "#9c179e"
             ],
             [
              0.4444444444444444,
              "#bd3786"
             ],
             [
              0.5555555555555556,
              "#d8576b"
             ],
             [
              0.6666666666666666,
              "#ed7953"
             ],
             [
              0.7777777777777778,
              "#fb9f3a"
             ],
             [
              0.8888888888888888,
              "#fdca26"
             ],
             [
              1,
              "#f0f921"
             ]
            ],
            "type": "heatmap"
           }
          ],
          "heatmapgl": [
           {
            "colorbar": {
             "outlinewidth": 0,
             "ticks": ""
            },
            "colorscale": [
             [
              0,
              "#0d0887"
             ],
             [
              0.1111111111111111,
              "#46039f"
             ],
             [
              0.2222222222222222,
              "#7201a8"
             ],
             [
              0.3333333333333333,
              "#9c179e"
             ],
             [
              0.4444444444444444,
              "#bd3786"
             ],
             [
              0.5555555555555556,
              "#d8576b"
             ],
             [
              0.6666666666666666,
              "#ed7953"
             ],
             [
              0.7777777777777778,
              "#fb9f3a"
             ],
             [
              0.8888888888888888,
              "#fdca26"
             ],
             [
              1,
              "#f0f921"
             ]
            ],
            "type": "heatmapgl"
           }
          ],
          "histogram": [
           {
            "marker": {
             "pattern": {
              "fillmode": "overlay",
              "size": 10,
              "solidity": 0.2
             }
            },
            "type": "histogram"
           }
          ],
          "histogram2d": [
           {
            "colorbar": {
             "outlinewidth": 0,
             "ticks": ""
            },
            "colorscale": [
             [
              0,
              "#0d0887"
             ],
             [
              0.1111111111111111,
              "#46039f"
             ],
             [
              0.2222222222222222,
              "#7201a8"
             ],
             [
              0.3333333333333333,
              "#9c179e"
             ],
             [
              0.4444444444444444,
              "#bd3786"
             ],
             [
              0.5555555555555556,
              "#d8576b"
             ],
             [
              0.6666666666666666,
              "#ed7953"
             ],
             [
              0.7777777777777778,
              "#fb9f3a"
             ],
             [
              0.8888888888888888,
              "#fdca26"
             ],
             [
              1,
              "#f0f921"
             ]
            ],
            "type": "histogram2d"
           }
          ],
          "histogram2dcontour": [
           {
            "colorbar": {
             "outlinewidth": 0,
             "ticks": ""
            },
            "colorscale": [
             [
              0,
              "#0d0887"
             ],
             [
              0.1111111111111111,
              "#46039f"
             ],
             [
              0.2222222222222222,
              "#7201a8"
             ],
             [
              0.3333333333333333,
              "#9c179e"
             ],
             [
              0.4444444444444444,
              "#bd3786"
             ],
             [
              0.5555555555555556,
              "#d8576b"
             ],
             [
              0.6666666666666666,
              "#ed7953"
             ],
             [
              0.7777777777777778,
              "#fb9f3a"
             ],
             [
              0.8888888888888888,
              "#fdca26"
             ],
             [
              1,
              "#f0f921"
             ]
            ],
            "type": "histogram2dcontour"
           }
          ],
          "mesh3d": [
           {
            "colorbar": {
             "outlinewidth": 0,
             "ticks": ""
            },
            "type": "mesh3d"
           }
          ],
          "parcoords": [
           {
            "line": {
             "colorbar": {
              "outlinewidth": 0,
              "ticks": ""
             }
            },
            "type": "parcoords"
           }
          ],
          "pie": [
           {
            "automargin": true,
            "type": "pie"
           }
          ],
          "scatter": [
           {
            "fillpattern": {
             "fillmode": "overlay",
             "size": 10,
             "solidity": 0.2
            },
            "type": "scatter"
           }
          ],
          "scatter3d": [
           {
            "line": {
             "colorbar": {
              "outlinewidth": 0,
              "ticks": ""
             }
            },
            "marker": {
             "colorbar": {
              "outlinewidth": 0,
              "ticks": ""
             }
            },
            "type": "scatter3d"
           }
          ],
          "scattercarpet": [
           {
            "marker": {
             "colorbar": {
              "outlinewidth": 0,
              "ticks": ""
             }
            },
            "type": "scattercarpet"
           }
          ],
          "scattergeo": [
           {
            "marker": {
             "colorbar": {
              "outlinewidth": 0,
              "ticks": ""
             }
            },
            "type": "scattergeo"
           }
          ],
          "scattergl": [
           {
            "marker": {
             "colorbar": {
              "outlinewidth": 0,
              "ticks": ""
             }
            },
            "type": "scattergl"
           }
          ],
          "scattermapbox": [
           {
            "marker": {
             "colorbar": {
              "outlinewidth": 0,
              "ticks": ""
             }
            },
            "type": "scattermapbox"
           }
          ],
          "scatterpolar": [
           {
            "marker": {
             "colorbar": {
              "outlinewidth": 0,
              "ticks": ""
             }
            },
            "type": "scatterpolar"
           }
          ],
          "scatterpolargl": [
           {
            "marker": {
             "colorbar": {
              "outlinewidth": 0,
              "ticks": ""
             }
            },
            "type": "scatterpolargl"
           }
          ],
          "scatterternary": [
           {
            "marker": {
             "colorbar": {
              "outlinewidth": 0,
              "ticks": ""
             }
            },
            "type": "scatterternary"
           }
          ],
          "surface": [
           {
            "colorbar": {
             "outlinewidth": 0,
             "ticks": ""
            },
            "colorscale": [
             [
              0,
              "#0d0887"
             ],
             [
              0.1111111111111111,
              "#46039f"
             ],
             [
              0.2222222222222222,
              "#7201a8"
             ],
             [
              0.3333333333333333,
              "#9c179e"
             ],
             [
              0.4444444444444444,
              "#bd3786"
             ],
             [
              0.5555555555555556,
              "#d8576b"
             ],
             [
              0.6666666666666666,
              "#ed7953"
             ],
             [
              0.7777777777777778,
              "#fb9f3a"
             ],
             [
              0.8888888888888888,
              "#fdca26"
             ],
             [
              1,
              "#f0f921"
             ]
            ],
            "type": "surface"
           }
          ],
          "table": [
           {
            "cells": {
             "fill": {
              "color": "#EBF0F8"
             },
             "line": {
              "color": "white"
             }
            },
            "header": {
             "fill": {
              "color": "#C8D4E3"
             },
             "line": {
              "color": "white"
             }
            },
            "type": "table"
           }
          ]
         },
         "layout": {
          "annotationdefaults": {
           "arrowcolor": "#2a3f5f",
           "arrowhead": 0,
           "arrowwidth": 1
          },
          "autotypenumbers": "strict",
          "coloraxis": {
           "colorbar": {
            "outlinewidth": 0,
            "ticks": ""
           }
          },
          "colorscale": {
           "diverging": [
            [
             0,
             "#8e0152"
            ],
            [
             0.1,
             "#c51b7d"
            ],
            [
             0.2,
             "#de77ae"
            ],
            [
             0.3,
             "#f1b6da"
            ],
            [
             0.4,
             "#fde0ef"
            ],
            [
             0.5,
             "#f7f7f7"
            ],
            [
             0.6,
             "#e6f5d0"
            ],
            [
             0.7,
             "#b8e186"
            ],
            [
             0.8,
             "#7fbc41"
            ],
            [
             0.9,
             "#4d9221"
            ],
            [
             1,
             "#276419"
            ]
           ],
           "sequential": [
            [
             0,
             "#0d0887"
            ],
            [
             0.1111111111111111,
             "#46039f"
            ],
            [
             0.2222222222222222,
             "#7201a8"
            ],
            [
             0.3333333333333333,
             "#9c179e"
            ],
            [
             0.4444444444444444,
             "#bd3786"
            ],
            [
             0.5555555555555556,
             "#d8576b"
            ],
            [
             0.6666666666666666,
             "#ed7953"
            ],
            [
             0.7777777777777778,
             "#fb9f3a"
            ],
            [
             0.8888888888888888,
             "#fdca26"
            ],
            [
             1,
             "#f0f921"
            ]
           ],
           "sequentialminus": [
            [
             0,
             "#0d0887"
            ],
            [
             0.1111111111111111,
             "#46039f"
            ],
            [
             0.2222222222222222,
             "#7201a8"
            ],
            [
             0.3333333333333333,
             "#9c179e"
            ],
            [
             0.4444444444444444,
             "#bd3786"
            ],
            [
             0.5555555555555556,
             "#d8576b"
            ],
            [
             0.6666666666666666,
             "#ed7953"
            ],
            [
             0.7777777777777778,
             "#fb9f3a"
            ],
            [
             0.8888888888888888,
             "#fdca26"
            ],
            [
             1,
             "#f0f921"
            ]
           ]
          },
          "colorway": [
           "#636efa",
           "#EF553B",
           "#00cc96",
           "#ab63fa",
           "#FFA15A",
           "#19d3f3",
           "#FF6692",
           "#B6E880",
           "#FF97FF",
           "#FECB52"
          ],
          "font": {
           "color": "#2a3f5f"
          },
          "geo": {
           "bgcolor": "white",
           "lakecolor": "white",
           "landcolor": "#E5ECF6",
           "showlakes": true,
           "showland": true,
           "subunitcolor": "white"
          },
          "hoverlabel": {
           "align": "left"
          },
          "hovermode": "closest",
          "mapbox": {
           "style": "light"
          },
          "paper_bgcolor": "white",
          "plot_bgcolor": "#E5ECF6",
          "polar": {
           "angularaxis": {
            "gridcolor": "white",
            "linecolor": "white",
            "ticks": ""
           },
           "bgcolor": "#E5ECF6",
           "radialaxis": {
            "gridcolor": "white",
            "linecolor": "white",
            "ticks": ""
           }
          },
          "scene": {
           "xaxis": {
            "backgroundcolor": "#E5ECF6",
            "gridcolor": "white",
            "gridwidth": 2,
            "linecolor": "white",
            "showbackground": true,
            "ticks": "",
            "zerolinecolor": "white"
           },
           "yaxis": {
            "backgroundcolor": "#E5ECF6",
            "gridcolor": "white",
            "gridwidth": 2,
            "linecolor": "white",
            "showbackground": true,
            "ticks": "",
            "zerolinecolor": "white"
           },
           "zaxis": {
            "backgroundcolor": "#E5ECF6",
            "gridcolor": "white",
            "gridwidth": 2,
            "linecolor": "white",
            "showbackground": true,
            "ticks": "",
            "zerolinecolor": "white"
           }
          },
          "shapedefaults": {
           "line": {
            "color": "#2a3f5f"
           }
          },
          "ternary": {
           "aaxis": {
            "gridcolor": "white",
            "linecolor": "white",
            "ticks": ""
           },
           "baxis": {
            "gridcolor": "white",
            "linecolor": "white",
            "ticks": ""
           },
           "bgcolor": "#E5ECF6",
           "caxis": {
            "gridcolor": "white",
            "linecolor": "white",
            "ticks": ""
           }
          },
          "title": {
           "x": 0.05
          },
          "xaxis": {
           "automargin": true,
           "gridcolor": "white",
           "linecolor": "white",
           "ticks": "",
           "title": {
            "standoff": 15
           },
           "zerolinecolor": "white",
           "zerolinewidth": 2
          },
          "yaxis": {
           "automargin": true,
           "gridcolor": "white",
           "linecolor": "white",
           "ticks": "",
           "title": {
            "standoff": 15
           },
           "zerolinecolor": "white",
           "zerolinewidth": 2
          }
         }
        }
       }
      },
      "text/html": [
       "<div>                            <div id=\"f311e5f4-0921-45b3-afeb-a893166d439e\" class=\"plotly-graph-div\" style=\"height:525px; width:100%;\"></div>            <script type=\"text/javascript\">                require([\"plotly\"], function(Plotly) {                    window.PLOTLYENV=window.PLOTLYENV || {};                                    if (document.getElementById(\"f311e5f4-0921-45b3-afeb-a893166d439e\")) {                    Plotly.newPlot(                        \"f311e5f4-0921-45b3-afeb-a893166d439e\",                        [{\"customdata\":[[\"100\",\"104\"],[\"2261\",\"100\"],[\"100\",\"2261\"],[\"1004\",\"1755\"],[\"2261\",\"104\"],[\"2808\",\"104\"],[\"2737\",\"1075\"],[\"1075\",\"2737\"],[\"1075\",\"302\"],[\"1075\",\"3097\"],[\"1077\",\"1755\"],[\"1077\",\"206\"],[\"1167\",\"133\"],[\"1167\",\"137\"],[\"1182\",\"41\"],[\"41\",\"1182\"],[\"1184\",\"2421\"],[\"1192\",\"1185\"],[\"1185\",\"1192\"],[\"1199\",\"1185\"],[\"1185\",\"1199\"],[\"1192\",\"1189\"],[\"1189\",\"1192\"],[\"1189\",\"2421\"],[\"1192\",\"2421\"],[\"2421\",\"1192\"],[\"1192\",\"3530\"],[\"1200\",\"1199\"],[\"1199\",\"1200\"],[\"1199\",\"1201\"],[\"1201\",\"1199\"],[\"1200\",\"1201\"],[\"1201\",\"1200\"],[\"1200\",\"2804\"],[\"2244\",\"1209\"],[\"1209\",\"2244\"],[\"1209\",\"3694\"],[\"134\",\"133\"],[\"133\",\"134\"],[\"136\",\"133\"],[\"133\",\"136\"],[\"133\",\"137\"],[\"137\",\"133\"],[\"3709\",\"133\"],[\"543\",\"133\"],[\"134\",\"137\"],[\"137\",\"134\"],[\"3709\",\"134\"],[\"134\",\"3709\"],[\"135\",\"137\"],[\"1359\",\"1358\"],[\"1358\",\"1359\"],[\"1359\",\"1558\"],[\"697\",\"1359\"],[\"1359\",\"697\"],[\"136\",\"137\"],[\"136\",\"543\"],[\"543\",\"136\"],[\"3709\",\"137\"],[\"1653\",\"1377\"],[\"1377\",\"2006\"],[\"2006\",\"1377\"],[\"2150\",\"1377\"],[\"3709\",\"1377\"],[\"1377\",\"828\"],[\"828\",\"1377\"],[\"1380\",\"2999\"],[\"1380\",\"3067\"],[\"3067\",\"1380\"],[\"1380\",\"3694\"],[\"2518\",\"1501\"],[\"1501\",\"2758\"],[\"2759\",\"1501\"],[\"2768\",\"1501\"],[\"2856\",\"1501\"],[\"1501\",\"2856\"],[\"2093\",\"1523\"],[\"1523\",\"2093\"],[\"1671\",\"1532\"],[\"1944\",\"1532\"],[\"2150\",\"1532\"],[\"1532\",\"2571\"],[\"2571\",\"1532\"],[\"1532\",\"302\"],[\"302\",\"1532\"],[\"3846\",\"1532\"],[\"1532\",\"726\"],[\"726\",\"1532\"],[\"1532\",\"828\"],[\"828\",\"1532\"],[\"3205\",\"1561\"],[\"3862\",\"1561\"],[\"1592\",\"2758\"],[\"1600\",\"1599\"],[\"1599\",\"1600\"],[\"1599\",\"3530\"],[\"174\",\"1600\"],[\"2437\",\"1600\"],[\"2988\",\"1600\"],[\"1653\",\"1648\"],[\"192\",\"1648\"],[\"1648\",\"828\"],[\"828\",\"1648\"],[\"1851\",\"1653\"],[\"1653\",\"1851\"],[\"1653\",\"3660\"],[\"3660\",\"1653\"],[\"1653\",\"828\"],[\"828\",\"1653\"],[\"1659\",\"1764\"],[\"1659\",\"1919\"],[\"1919\",\"1659\"],[\"324\",\"1659\"],[\"1659\",\"324\"],[\"1659\",\"519\"],[\"519\",\"1659\"],[\"1659\",\"91\"],[\"91\",\"1659\"],[\"94\",\"1659\"],[\"1659\",\"94\"],[\"186\",\"172\"],[\"172\",\"186\"],[\"2263\",\"172\"],[\"1721\",\"2758\"],[\"1721\",\"2993\"],[\"2557\",\"1722\"],[\"1753\",\"1743\"],[\"1743\",\"1755\"],[\"1768\",\"1743\"],[\"1744\",\"1755\"],[\"1745\",\"1755\"],[\"1931\",\"1748\"],[\"1748\",\"1931\"],[\"1750\",\"1755\"],[\"1750\",\"1766\"],[\"1750\",\"1935\"],[\"1753\",\"1755\"],[\"1754\",\"1755\"],[\"1756\",\"1755\"],[\"1759\",\"1755\"],[\"1764\",\"1755\"],[\"1765\",\"1755\"],[\"1766\",\"1755\"],[\"1768\",\"1755\"],[\"1935\",\"1755\"],[\"2667\",\"1755\"],[\"1757\",\"1935\"],[\"1919\",\"1764\"],[\"1768\",\"1766\"],[\"1767\",\"2999\"],[\"1768\",\"2475\"],[\"2475\",\"1768\"],[\"1770\",\"2992\"],[\"1770\",\"3694\"],[\"1776\",\"2999\"],[\"3148\",\"1776\"],[\"1776\",\"3148\"],[\"1776\",\"3694\"],[\"1851\",\"3660\"],[\"3660\",\"1851\"],[\"1851\",\"828\"],[\"2643\",\"1911\"],[\"1911\",\"2643\"],[\"324\",\"1919\"],[\"1919\",\"324\"],[\"519\",\"1919\"],[\"1919\",\"519\"],[\"91\",\"1919\"],[\"1919\",\"91\"],[\"94\",\"1919\"],[\"1919\",\"94\"],[\"192\",\"828\"],[\"1927\",\"1928\"],[\"1927\",\"1934\"],[\"1937\",\"1927\"],[\"1927\",\"1937\"],[\"1939\",\"1927\"],[\"1927\",\"1939\"],[\"1927\",\"1942\"],[\"1942\",\"1927\"],[\"1929\",\"1928\"],[\"1937\",\"1928\"],[\"1942\",\"1928\"],[\"1928\",\"1942\"],[\"667\",\"1928\"],[\"671\",\"1928\"],[\"1932\",\"1930\"],[\"1937\",\"1930\"],[\"3351\",\"1930\"],[\"1932\",\"1934\"],[\"1937\",\"1932\"],[\"1932\",\"1937\"],[\"1939\",\"1932\"],[\"1932\",\"1939\"],[\"1932\",\"3261\"],[\"3351\",\"1932\"],[\"1932\",\"3351\"],[\"668\",\"1932\"],[\"1932\",\"668\"],[\"1937\",\"1934\"],[\"1934\",\"1937\"],[\"1934\",\"1939\"],[\"1939\",\"1934\"],[\"1943\",\"1934\"],[\"1946\",\"1934\"],[\"3093\",\"1934\"],[\"2667\",\"1935\"],[\"1937\",\"1939\"],[\"1937\",\"2758\"],[\"1937\",\"668\"],[\"668\",\"1937\"],[\"3351\",\"1939\"],[\"3663\",\"1939\"],[\"667\",\"1942\"],[\"1942\",\"667\"],[\"1942\",\"671\"],[\"671\",\"1942\"],[\"1943\",\"1946\"],[\"1946\",\"1943\"],[\"1944\",\"3694\"],[\"1956\",\"1961\"],[\"1961\",\"1956\"],[\"1957\",\"1961\"],[\"1961\",\"1957\"],[\"3709\",\"2006\"],[\"2006\",\"3709\"],[\"2093\",\"302\"],[\"2093\",\"3445\"],[\"3445\",\"2093\"],[\"3709\",\"2093\"],[\"2093\",\"3709\"],[\"962\",\"2093\"],[\"2093\",\"962\"],[\"2150\",\"828\"],[\"828\",\"2150\"],[\"2189\",\"264\"],[\"264\",\"2189\"],[\"2189\",\"302\"],[\"773\",\"2189\"],[\"2189\",\"773\"],[\"2234\",\"2238\"],[\"2238\",\"2234\"],[\"2234\",\"2243\"],[\"2243\",\"2234\"],[\"2238\",\"2243\"],[\"2243\",\"2238\"],[\"2246\",\"3097\"],[\"3093\",\"2255\"],[\"2255\",\"3093\"],[\"2260\",\"2261\"],[\"2261\",\"2260\"],[\"2261\",\"2338\"],[\"2261\",\"2421\"],[\"2261\",\"2992\"],[\"2263\",\"2338\"],[\"2263\",\"3097\"],[\"3142\",\"2263\"],[\"2263\",\"3142\"],[\"2263\",\"3530\"],[\"2303\",\"3097\"],[\"2312\",\"2307\"],[\"2988\",\"2307\"],[\"3064\",\"2307\"],[\"732\",\"2307\"],[\"2308\",\"3694\"],[\"2384\",\"3694\"],[\"2437\",\"2421\"],[\"2421\",\"2437\"],[\"2475\",\"3760\"],[\"2557\",\"2655\"],[\"2557\",\"2993\"],[\"705\",\"2562\"],[\"2562\",\"705\"],[\"2571\",\"302\"],[\"2571\",\"3694\"],[\"3846\",\"2571\"],[\"2571\",\"3846\"],[\"2594\",\"2595\"],[\"2595\",\"2594\"],[\"2594\",\"2596\"],[\"2596\",\"2594\"],[\"2596\",\"2595\"],[\"2595\",\"2596\"],[\"261\",\"260\"],[\"260\",\"2804\"],[\"2804\",\"260\"],[\"261\",\"2804\"],[\"3610\",\"261\"],[\"261\",\"3610\"],[\"432\",\"261\"],[\"261\",\"432\"],[\"264\",\"302\"],[\"773\",\"264\"],[\"264\",\"773\"],[\"3709\",\"2655\"],[\"432\",\"2670\"],[\"2670\",\"432\"],[\"2690\",\"3308\"],[\"3308\",\"2690\"],[\"2690\",\"3694\"],[\"984\",\"2690\"],[\"2690\",\"984\"],[\"3771\",\"2714\"],[\"668\",\"2714\"],[\"669\",\"2714\"],[\"2737\",\"302\"],[\"2759\",\"2758\"],[\"2768\",\"2758\"],[\"2856\",\"2758\"],[\"3093\",\"2758\"],[\"3378\",\"2758\"],[\"3408\",\"2758\"],[\"2768\",\"2759\"],[\"2759\",\"2768\"],[\"2759\",\"2856\"],[\"2768\",\"2856\"],[\"3578\",\"2804\"],[\"3610\",\"2804\"],[\"432\",\"2804\"],[\"2931\",\"2993\"],[\"3067\",\"2931\"],[\"2931\",\"3067\"],[\"2931\",\"3694\"],[\"3729\",\"2986\"],[\"2986\",\"3729\"],[\"2992\",\"3694\"],[\"3067\",\"2993\"],[\"3148\",\"2999\"],[\"3008\",\"3007\"],[\"3007\",\"3008\"],[\"3445\",\"302\"],[\"3846\",\"302\"],[\"773\",\"302\"],[\"3663\",\"3041\"],[\"3067\",\"3694\"],[\"3072\",\"3071\"],[\"3071\",\"3072\"],[\"3071\",\"731\"],[\"3092\",\"3090\"],[\"3090\",\"3092\"],[\"3093\",\"3090\"],[\"3090\",\"3093\"],[\"3093\",\"3092\"],[\"3092\",\"3093\"],[\"3142\",\"3097\"],[\"3148\",\"3694\"],[\"3237\",\"3251\"],[\"3251\",\"3237\"],[\"324\",\"519\"],[\"519\",\"324\"],[\"324\",\"94\"],[\"94\",\"324\"],[\"3275\",\"3694\"],[\"3308\",\"3303\"],[\"3303\",\"3308\"],[\"3408\",\"3303\"],[\"3303\",\"3408\"],[\"984\",\"3308\"],[\"3308\",\"984\"],[\"3378\",\"3694\"],[\"3384\",\"828\"],[\"3709\",\"3445\"],[\"3445\",\"3709\"],[\"962\",\"3445\"],[\"3445\",\"962\"],[\"3610\",\"3451\"],[\"3451\",\"3610\"],[\"3610\",\"432\"],[\"432\",\"3610\"],[\"3660\",\"828\"],[\"828\",\"3660\"],[\"3664\",\"3661\"],[\"3661\",\"3664\"],[\"3664\",\"3663\"],[\"3663\",\"3664\"],[\"3846\",\"3694\"],[\"587\",\"3694\"],[\"3712\",\"3711\"],[\"3711\",\"3712\"],[\"3712\",\"485\"],[\"485\",\"3712\"],[\"3745\",\"3742\"],[\"3742\",\"3756\"],[\"3756\",\"3742\"],[\"3745\",\"3756\"],[\"3760\",\"3756\"],[\"3756\",\"3760\"],[\"519\",\"732\"],[\"732\",\"519\"],[\"94\",\"519\"],[\"519\",\"94\"],[\"55\",\"57\"],[\"57\",\"55\"],[\"64\",\"731\"],[\"667\",\"671\"],[\"671\",\"667\"],[\"669\",\"668\"],[\"668\",\"669\"],[\"705\",\"704\"],[\"704\",\"705\"],[\"726\",\"828\"],[\"731\",\"732\"],[\"732\",\"731\"],[\"733\",\"731\"],[\"2737, 1075\",\"302\"],[\"2737, 302\",\"1075\"],[\"302, 1075\",\"2737\"],[\"2737\",\"302, 1075\"],[\"1075\",\"2737, 302\"],[\"1167, 133\",\"137\"],[\"1167, 137\",\"133\"],[\"133, 137\",\"1167\"],[\"1167\",\"133, 137\"],[\"1192, 2421\",\"1189\"],[\"1192, 1189\",\"2421\"],[\"2421, 1189\",\"1192\"],[\"1192\",\"2421, 1189\"],[\"1189\",\"1192, 2421\"],[\"1200, 1199\",\"1201\"],[\"1200, 1201\",\"1199\"],[\"1199, 1201\",\"1200\"],[\"1200\",\"1199, 1201\"],[\"1199\",\"1200, 1201\"],[\"1201\",\"1200, 1199\"],[\"134, 133\",\"137\"],[\"134, 137\",\"133\"],[\"133, 137\",\"134\"],[\"134\",\"133, 137\"],[\"136, 133\",\"137\"],[\"136, 137\",\"133\"],[\"133, 137\",\"136\"],[\"136\",\"133, 137\"],[\"136, 133\",\"543\"],[\"136, 543\",\"133\"],[\"133, 543\",\"136\"],[\"136\",\"133, 543\"],[\"543\",\"136, 133\"],[\"2655, 133\",\"137\"],[\"2655, 137\",\"133\"],[\"133, 137\",\"2655\"],[\"3709, 133\",\"137\"],[\"3709, 137\",\"133\"],[\"133, 137\",\"3709\"],[\"3709\",\"133, 137\"],[\"3709, 2655\",\"133\"],[\"3709, 133\",\"2655\"],[\"2655, 133\",\"3709\"],[\"3709\",\"2655, 133\"],[\"3709, 134\",\"137\"],[\"3709, 137\",\"134\"],[\"134, 137\",\"3709\"],[\"3709\",\"134, 137\"],[\"134\",\"3709, 137\"],[\"3709, 2655\",\"137\"],[\"3709, 137\",\"2655\"],[\"2655, 137\",\"3709\"],[\"3709\",\"2655, 137\"],[\"1653, 828\",\"1377\"],[\"1653, 1377\",\"828\"],[\"1377, 828\",\"1653\"],[\"1653\",\"1377, 828\"],[\"1377, 3709\",\"2006\"],[\"1377, 2006\",\"3709\"],[\"3709, 2006\",\"1377\"],[\"3709\",\"1377, 2006\"],[\"2006\",\"1377, 3709\"],[\"3694, 1380\",\"3067\"],[\"3694, 3067\",\"1380\"],[\"1380, 3067\",\"3694\"],[\"1380\",\"3694, 3067\"],[\"3067\",\"3694, 1380\"],[\"2758, 2759\",\"1501\"],[\"2758, 1501\",\"2759\"],[\"2759, 1501\",\"2758\"],[\"2759\",\"2758, 1501\"],[\"2768, 2758\",\"1501\"],[\"2768, 1501\",\"2758\"],[\"2758, 1501\",\"2768\"],[\"2768\",\"2758, 1501\"],[\"2856, 2758\",\"1501\"],[\"2856, 1501\",\"2758\"],[\"2758, 1501\",\"2856\"],[\"2856\",\"2758, 1501\"],[\"1501\",\"2856, 2758\"],[\"2768, 2759\",\"1501\"],[\"2768, 1501\",\"2759\"],[\"2759, 1501\",\"2768\"],[\"2768\",\"2759, 1501\"],[\"2759\",\"2768, 1501\"],[\"2856, 2759\",\"1501\"],[\"2759, 1501\",\"2856\"],[\"2759\",\"2856, 1501\"],[\"2856, 2768\",\"1501\"],[\"2768, 1501\",\"2856\"],[\"2768\",\"2856, 1501\"],[\"1532, 1648\",\"828\"],[\"1532, 828\",\"1648\"],[\"1648, 828\",\"1532\"],[\"3846, 1532\",\"2571\"],[\"3846, 2571\",\"1532\"],[\"1532, 2571\",\"3846\"],[\"3846\",\"1532, 2571\"],[\"2571\",\"3846, 1532\"],[\"1532, 726\",\"828\"],[\"1532, 828\",\"726\"],[\"828, 726\",\"1532\"],[\"726\",\"1532, 828\"],[\"1648, 828\",\"192\"],[\"192, 828\",\"1648\"],[\"1648, 192\",\"828\"],[\"192\",\"1648, 828\"],[\"3660, 1851\",\"1653\"],[\"3660, 1653\",\"1851\"],[\"1851, 1653\",\"3660\"],[\"3660\",\"1851, 1653\"],[\"1851\",\"3660, 1653\"],[\"1653\",\"3660, 1851\"],[\"1851, 1653\",\"828\"],[\"1851, 828\",\"1653\"],[\"1653, 828\",\"1851\"],[\"1851\",\"1653, 828\"],[\"1653\",\"1851, 828\"],[\"1653, 3660\",\"828\"],[\"1653, 828\",\"3660\"],[\"3660, 828\",\"1653\"],[\"1653\",\"3660, 828\"],[\"3660\",\"1653, 828\"],[\"1764, 1659\",\"1919\"],[\"1764, 1919\",\"1659\"],[\"1659, 1919\",\"1764\"],[\"1659\",\"1764, 1919\"],[\"1919\",\"1764, 1659\"],[\"324, 1659\",\"1919\"],[\"324, 1919\",\"1659\"],[\"1659, 1919\",\"324\"],[\"324\",\"1659, 1919\"],[\"1659\",\"324, 1919\"],[\"1919\",\"324, 1659\"],[\"1659, 519\",\"1919\"],[\"1659, 1919\",\"519\"],[\"519, 1919\",\"1659\"],[\"1659\",\"519, 1919\"],[\"519\",\"1659, 1919\"],[\"1919\",\"1659, 519\"],[\"1659, 91\",\"1919\"],[\"1659, 1919\",\"91\"],[\"91, 1919\",\"1659\"],[\"1659\",\"91, 1919\"],[\"91\",\"1659, 1919\"],[\"1919\",\"1659, 91\"],[\"94, 1659\",\"1919\"],[\"94, 1919\",\"1659\"],[\"1659, 1919\",\"94\"],[\"94\",\"1659, 1919\"],[\"1659\",\"94, 1919\"],[\"1919\",\"94, 1659\"],[\"324, 1659\",\"519\"],[\"324, 519\",\"1659\"],[\"1659, 519\",\"324\"],[\"324\",\"1659, 519\"],[\"1659\",\"324, 519\"],[\"519\",\"324, 1659\"],[\"324, 94\",\"1659\"],[\"324, 1659\",\"94\"],[\"94, 1659\",\"324\"],[\"324\",\"94, 1659\"],[\"94\",\"324, 1659\"],[\"1659\",\"324, 94\"],[\"94, 1659\",\"519\"],[\"94, 519\",\"1659\"],[\"1659, 519\",\"94\"],[\"94\",\"1659, 519\"],[\"1659\",\"94, 519\"],[\"519\",\"94, 1659\"],[\"2993, 2655\",\"1722\"],[\"2993, 1722\",\"2655\"],[\"2655, 1722\",\"2993\"],[\"2993, 3694\",\"1722\"],[\"2993, 1722\",\"3694\"],[\"3694, 1722\",\"2993\"],[\"1743, 1753\",\"1755\"],[\"1743, 1755\",\"1753\"],[\"1753, 1755\",\"1743\"],[\"1753\",\"1743, 1755\"],[\"1743, 1755\",\"1766\"],[\"1743, 1766\",\"1755\"],[\"1755, 1766\",\"1743\"],[\"1768, 1743\",\"1755\"],[\"1768, 1755\",\"1743\"],[\"1743, 1755\",\"1768\"],[\"1768\",\"1743, 1755\"],[\"1768, 1755\",\"1766\"],[\"1768, 1766\",\"1755\"],[\"1755, 1766\",\"1768\"],[\"1768\",\"1755, 1766\"],[\"1935, 1755\",\"2667\"],[\"1935, 2667\",\"1755\"],[\"1755, 2667\",\"1935\"],[\"2667\",\"1935, 1755\"],[\"1770, 3694\",\"2992\"],[\"1770, 2992\",\"3694\"],[\"3694, 2992\",\"1770\"],[\"1770\",\"3694, 2992\"],[\"3148, 2999\",\"1776\"],[\"3148, 1776\",\"2999\"],[\"1776, 2999\",\"3148\"],[\"3148\",\"1776, 2999\"],[\"1776\",\"3148, 2999\"],[\"3148, 3694\",\"1776\"],[\"3148, 1776\",\"3694\"],[\"1776, 3694\",\"3148\"],[\"3148\",\"1776, 3694\"],[\"1776\",\"3148, 3694\"],[\"1851, 3660\",\"828\"],[\"1851, 828\",\"3660\"],[\"3660, 828\",\"1851\"],[\"1851\",\"3660, 828\"],[\"3660\",\"1851, 828\"],[\"324, 519\",\"1919\"],[\"324, 1919\",\"519\"],[\"519, 1919\",\"324\"],[\"324\",\"519, 1919\"],[\"519\",\"324, 1919\"],[\"1919\",\"324, 519\"],[\"324, 94\",\"1919\"],[\"324, 1919\",\"94\"],[\"94, 1919\",\"324\"],[\"324\",\"94, 1919\"],[\"94\",\"324, 1919\"],[\"1919\",\"324, 94\"],[\"94, 519\",\"1919\"],[\"94, 1919\",\"519\"],[\"519, 1919\",\"94\"],[\"94\",\"519, 1919\"],[\"519\",\"94, 1919\"],[\"1919\",\"94, 519\"],[\"1937, 1927\",\"1928\"],[\"1937, 1928\",\"1927\"],[\"1927, 1928\",\"1937\"],[\"1937\",\"1927, 1928\"],[\"1927\",\"1937, 1928\"],[\"1937, 1934\",\"1927\"],[\"1937, 1927\",\"1934\"],[\"1934, 1927\",\"1937\"],[\"1937\",\"1934, 1927\"],[\"1927\",\"1937, 1934\"],[\"1934, 1939\",\"1927\"],[\"1927, 1939\",\"1934\"],[\"1934, 1927\",\"1939\"],[\"1927\",\"1934, 1939\"],[\"1937, 1939\",\"1927\"],[\"1937, 1927\",\"1939\"],[\"1927, 1939\",\"1937\"],[\"1937\",\"1927, 1939\"],[\"1927\",\"1937, 1939\"],[\"1934, 1939\",\"1928\"],[\"1934, 1928\",\"1939\"],[\"1939, 1928\",\"1934\"],[\"667, 1942\",\"1928\"],[\"667, 1928\",\"1942\"],[\"1942, 1928\",\"667\"],[\"667\",\"1942, 1928\"],[\"1942\",\"667, 1928\"],[\"1942, 1928\",\"671\"],[\"1942, 671\",\"1928\"],[\"1928, 671\",\"1942\"],[\"1942\",\"1928, 671\"],[\"671\",\"1942, 1928\"],[\"667, 1928\",\"671\"],[\"667, 671\",\"1928\"],[\"1928, 671\",\"667\"],[\"667\",\"1928, 671\"],[\"671\",\"667, 1928\"],[\"1937, 1930\",\"1934\"],[\"1930, 1934\",\"1937\"],[\"1937, 1934\",\"1930\"],[\"1937\",\"1930, 1934\"],[\"1934, 1939\",\"1932\"],[\"1934, 1932\",\"1939\"],[\"1939, 1932\",\"1934\"],[\"1932\",\"1934, 1939\"],[\"3351, 1939\",\"1932\"],[\"3351, 1932\",\"1939\"],[\"1939, 1932\",\"3351\"],[\"3351\",\"1939, 1932\"],[\"1932\",\"3351, 1939\"],[\"1937, 1934\",\"1939\"],[\"1937, 1939\",\"1934\"],[\"1934, 1939\",\"1937\"],[\"1937\",\"1934, 1939\"],[\"1934, 1943\",\"1946\"],[\"1934, 1946\",\"1943\"],[\"1943, 1946\",\"1934\"],[\"1943\",\"1934, 1946\"],[\"1946\",\"1934, 1943\"],[\"3694, 1934\",\"2758\"],[\"3694, 2758\",\"1934\"],[\"2758, 1934\",\"3694\"],[\"1939, 3041\",\"3663\"],[\"1939, 3663\",\"3041\"],[\"3041, 3663\",\"1939\"],[\"3663\",\"1939, 3041\"],[\"667, 1942\",\"671\"],[\"667, 671\",\"1942\"],[\"1942, 671\",\"667\"],[\"667\",\"1942, 671\"],[\"1942\",\"667, 671\"],[\"671\",\"667, 1942\"],[\"2093, 302\",\"3445\"],[\"2093, 3445\",\"302\"],[\"302, 3445\",\"2093\"],[\"2093\",\"302, 3445\"],[\"3445\",\"2093, 302\"],[\"962, 2093\",\"3445\"],[\"962, 3445\",\"2093\"],[\"2093, 3445\",\"962\"],[\"962\",\"2093, 3445\"],[\"2093\",\"962, 3445\"],[\"3445\",\"962, 2093\"],[\"773, 2189\",\"264\"],[\"2189, 264\",\"773\"],[\"773, 264\",\"2189\"],[\"2189\",\"773, 264\"],[\"773\",\"2189, 264\"],[\"264\",\"773, 2189\"],[\"773, 302\",\"2189\"],[\"773, 2189\",\"302\"],[\"302, 2189\",\"773\"],[\"773\",\"302, 2189\"],[\"2189\",\"773, 302\"],[\"2234, 2238\",\"2243\"],[\"2234, 2243\",\"2238\"],[\"2238, 2243\",\"2234\"],[\"2234\",\"2238, 2243\"],[\"2238\",\"2234, 2243\"],[\"2243\",\"2234, 2238\"],[\"3142, 3097\",\"2263\"],[\"3142, 2263\",\"3097\"],[\"3097, 2263\",\"3142\"],[\"3142\",\"3097, 2263\"],[\"2263\",\"3142, 3097\"],[\"3846, 302\",\"2571\"],[\"3846, 2571\",\"302\"],[\"302, 2571\",\"3846\"],[\"3846\",\"302, 2571\"],[\"2571\",\"3846, 302\"],[\"3846, 3694\",\"2571\"],[\"3846, 2571\",\"3694\"],[\"3694, 2571\",\"3846\"],[\"3846\",\"3694, 2571\"],[\"2571\",\"3846, 3694\"],[\"2594, 2595\",\"2596\"],[\"2594, 2596\",\"2595\"],[\"2596, 2595\",\"2594\"],[\"2594\",\"2596, 2595\"],[\"2595\",\"2594, 2596\"],[\"2596\",\"2594, 2595\"],[\"3610, 261\",\"2804\"],[\"3610, 2804\",\"261\"],[\"261, 2804\",\"3610\"],[\"3610\",\"261, 2804\"],[\"261\",\"3610, 2804\"],[\"432, 261\",\"2804\"],[\"432, 2804\",\"261\"],[\"261, 2804\",\"432\"],[\"432\",\"261, 2804\"],[\"261\",\"432, 2804\"],[\"3610, 432\",\"261\"],[\"3610, 261\",\"432\"],[\"432, 261\",\"3610\"],[\"3610\",\"432, 261\"],[\"432\",\"3610, 261\"],[\"261\",\"3610, 432\"],[\"984, 2690\",\"3308\"],[\"984, 3308\",\"2690\"],[\"2690, 3308\",\"984\"],[\"984\",\"2690, 3308\"],[\"2690\",\"984, 3308\"],[\"3308\",\"984, 2690\"],[\"2714, 669\",\"668\"],[\"2714, 668\",\"669\"],[\"669, 668\",\"2714\"],[\"669\",\"2714, 668\"],[\"668\",\"2714, 669\"],[\"2768, 2758\",\"2759\"],[\"2768, 2759\",\"2758\"],[\"2758, 2759\",\"2768\"],[\"2768\",\"2758, 2759\"],[\"2759\",\"2768, 2758\"],[\"2856, 2758\",\"2759\"],[\"2856, 2759\",\"2758\"],[\"2758, 2759\",\"2856\"],[\"2759\",\"2856, 2758\"],[\"2856, 2768\",\"2758\"],[\"2856, 2758\",\"2768\"],[\"2768, 2758\",\"2856\"],[\"2768\",\"2856, 2758\"],[\"2856, 2768\",\"2759\"],[\"2856, 2759\",\"2768\"],[\"2768, 2759\",\"2856\"],[\"2768\",\"2856, 2759\"],[\"2759\",\"2856, 2768\"],[\"3610, 432\",\"2804\"],[\"3610, 2804\",\"432\"],[\"432, 2804\",\"3610\"],[\"3610\",\"432, 2804\"],[\"432\",\"3610, 2804\"],[\"3261, 3694\",\"2992\"],[\"3261, 2992\",\"3694\"],[\"3694, 2992\",\"3261\"],[\"3093, 3092\",\"3090\"],[\"3093, 3090\",\"3092\"],[\"3092, 3090\",\"3093\"],[\"3093\",\"3092, 3090\"],[\"3092\",\"3093, 3090\"],[\"3090\",\"3093, 3092\"],[\"324, 94\",\"519\"],[\"324, 519\",\"94\"],[\"94, 519\",\"324\"],[\"324\",\"94, 519\"],[\"94\",\"324, 519\"],[\"519\",\"324, 94\"],[\"3742, 3745\",\"3756\"],[\"3742, 3756\",\"3745\"],[\"3745, 3756\",\"3742\"],[\"3745\",\"3742, 3756\"],[\"3742, 3760\",\"3756\"],[\"3742, 3756\",\"3760\"],[\"3760, 3756\",\"3742\"],[\"3709, 2655, 133\",\"137\"],[\"3709, 2655, 137\",\"133\"],[\"3709, 133, 137\",\"2655\"],[\"2655, 133, 137\",\"3709\"],[\"3709, 2655\",\"133, 137\"],[\"3709, 133\",\"2655, 137\"],[\"3709, 137\",\"2655, 133\"],[\"2655, 133\",\"3709, 137\"],[\"2655, 137\",\"3709, 133\"],[\"133, 137\",\"3709, 2655\"],[\"3709\",\"2655, 133, 137\"],[\"2768, 2758, 2759\",\"1501\"],[\"2768, 2758, 1501\",\"2759\"],[\"2768, 2759, 1501\",\"2758\"],[\"2758, 2759, 1501\",\"2768\"],[\"2768, 2758\",\"2759, 1501\"],[\"2768, 2759\",\"2758, 1501\"],[\"2768, 1501\",\"2758, 2759\"],[\"2758, 2759\",\"2768, 1501\"],[\"2758, 1501\",\"2768, 2759\"],[\"2759, 1501\",\"2768, 2758\"],[\"2768\",\"2758, 2759, 1501\"],[\"2759\",\"2768, 2758, 1501\"],[\"2856, 2758, 2759\",\"1501\"],[\"2856, 2758, 1501\",\"2759\"],[\"2856, 2759, 1501\",\"2758\"],[\"2758, 2759, 1501\",\"2856\"],[\"2856, 2758\",\"2759, 1501\"],[\"2856, 2759\",\"2758, 1501\"],[\"2758, 2759\",\"2856, 1501\"],[\"2758, 1501\",\"2856, 2759\"],[\"2759, 1501\",\"2856, 2758\"],[\"2759\",\"2856, 2758, 1501\"],[\"2856, 2768, 2758\",\"1501\"],[\"2856, 2768, 1501\",\"2758\"],[\"2856, 2758, 1501\",\"2768\"],[\"2768, 2758, 1501\",\"2856\"],[\"2856, 2768\",\"2758, 1501\"],[\"2856, 2758\",\"2768, 1501\"],[\"2768, 2758\",\"2856, 1501\"],[\"2768, 1501\",\"2856, 2758\"],[\"2758, 1501\",\"2856, 2768\"],[\"2768\",\"2856, 2758, 1501\"],[\"2856, 2768, 2759\",\"1501\"],[\"2856, 2768, 1501\",\"2759\"],[\"2856, 2759, 1501\",\"2768\"],[\"2768, 2759, 1501\",\"2856\"],[\"2856, 2768\",\"2759, 1501\"],[\"2856, 2759\",\"2768, 1501\"],[\"2768, 2759\",\"2856, 1501\"],[\"2768, 1501\",\"2856, 2759\"],[\"2759, 1501\",\"2856, 2768\"],[\"2768\",\"2856, 2759, 1501\"],[\"2759\",\"2856, 2768, 1501\"],[\"3660, 1851, 1653\",\"828\"],[\"3660, 1851, 828\",\"1653\"],[\"3660, 1653, 828\",\"1851\"],[\"1851, 1653, 828\",\"3660\"],[\"3660, 1851\",\"1653, 828\"],[\"3660, 1653\",\"1851, 828\"],[\"3660, 828\",\"1851, 1653\"],[\"1851, 1653\",\"3660, 828\"],[\"1851, 828\",\"3660, 1653\"],[\"1653, 828\",\"3660, 1851\"],[\"3660\",\"1851, 1653, 828\"],[\"1851\",\"3660, 1653, 828\"],[\"1653\",\"3660, 1851, 828\"],[\"324, 1659, 519\",\"1919\"],[\"324, 1659, 1919\",\"519\"],[\"324, 519, 1919\",\"1659\"],[\"1659, 519, 1919\",\"324\"],[\"324, 1659\",\"519, 1919\"],[\"324, 519\",\"1659, 1919\"],[\"324, 1919\",\"1659, 519\"],[\"1659, 519\",\"324, 1919\"],[\"1659, 1919\",\"324, 519\"],[\"519, 1919\",\"324, 1659\"],[\"324\",\"1659, 519, 1919\"],[\"1659\",\"324, 519, 1919\"],[\"519\",\"324, 1659, 1919\"],[\"1919\",\"324, 1659, 519\"],[\"324, 94, 1659\",\"1919\"],[\"324, 94, 1919\",\"1659\"],[\"324, 1659, 1919\",\"94\"],[\"94, 1659, 1919\",\"324\"],[\"324, 94\",\"1659, 1919\"],[\"324, 1659\",\"94, 1919\"],[\"324, 1919\",\"94, 1659\"],[\"94, 1659\",\"324, 1919\"],[\"94, 1919\",\"324, 1659\"],[\"1659, 1919\",\"324, 94\"],[\"324\",\"94, 1659, 1919\"],[\"94\",\"324, 1659, 1919\"],[\"1659\",\"324, 94, 1919\"],[\"1919\",\"324, 94, 1659\"],[\"94, 1659, 519\",\"1919\"],[\"94, 1659, 1919\",\"519\"],[\"94, 519, 1919\",\"1659\"],[\"1659, 519, 1919\",\"94\"],[\"94, 1659\",\"519, 1919\"],[\"94, 519\",\"1659, 1919\"],[\"94, 1919\",\"1659, 519\"],[\"1659, 519\",\"94, 1919\"],[\"1659, 1919\",\"94, 519\"],[\"519, 1919\",\"94, 1659\"],[\"94\",\"1659, 519, 1919\"],[\"1659\",\"94, 519, 1919\"],[\"519\",\"94, 1659, 1919\"],[\"1919\",\"94, 1659, 519\"],[\"324, 94, 1659\",\"519\"],[\"324, 94, 519\",\"1659\"],[\"324, 1659, 519\",\"94\"],[\"94, 1659, 519\",\"324\"],[\"324, 94\",\"1659, 519\"],[\"324, 1659\",\"94, 519\"],[\"324, 519\",\"94, 1659\"],[\"94, 1659\",\"324, 519\"],[\"94, 519\",\"324, 1659\"],[\"1659, 519\",\"324, 94\"],[\"324\",\"94, 1659, 519\"],[\"94\",\"324, 1659, 519\"],[\"1659\",\"324, 94, 519\"],[\"519\",\"324, 94, 1659\"],[\"324, 94, 519\",\"1919\"],[\"324, 94, 1919\",\"519\"],[\"324, 519, 1919\",\"94\"],[\"94, 519, 1919\",\"324\"],[\"324, 94\",\"519, 1919\"],[\"324, 519\",\"94, 1919\"],[\"324, 1919\",\"94, 519\"],[\"94, 519\",\"324, 1919\"],[\"94, 1919\",\"324, 519\"],[\"519, 1919\",\"324, 94\"],[\"324\",\"94, 519, 1919\"],[\"94\",\"324, 519, 1919\"],[\"519\",\"324, 94, 1919\"],[\"1919\",\"324, 94, 519\"],[\"1937, 1934, 1939\",\"1927\"],[\"1937, 1927, 1939\",\"1934\"],[\"1937, 1934, 1927\",\"1939\"],[\"1927, 1934, 1939\",\"1937\"],[\"1937, 1939\",\"1934, 1927\"],[\"1937, 1934\",\"1927, 1939\"],[\"1937, 1927\",\"1934, 1939\"],[\"1934, 1939\",\"1937, 1927\"],[\"1927, 1939\",\"1937, 1934\"],[\"1934, 1927\",\"1937, 1939\"],[\"1937\",\"1927, 1934, 1939\"],[\"1927\",\"1937, 1934, 1939\"],[\"667, 1942, 1928\",\"671\"],[\"667, 1942, 671\",\"1928\"],[\"667, 1928, 671\",\"1942\"],[\"1942, 1928, 671\",\"667\"],[\"667, 1942\",\"1928, 671\"],[\"667, 1928\",\"1942, 671\"],[\"667, 671\",\"1942, 1928\"],[\"1942, 1928\",\"667, 671\"],[\"1942, 671\",\"667, 1928\"],[\"1928, 671\",\"667, 1942\"],[\"667\",\"1942, 1928, 671\"],[\"1942\",\"667, 1928, 671\"],[\"671\",\"667, 1942, 1928\"],[\"3610, 432, 261\",\"2804\"],[\"3610, 432, 2804\",\"261\"],[\"3610, 261, 2804\",\"432\"],[\"432, 261, 2804\",\"3610\"],[\"3610, 432\",\"261, 2804\"],[\"3610, 261\",\"432, 2804\"],[\"3610, 2804\",\"432, 261\"],[\"432, 261\",\"3610, 2804\"],[\"432, 2804\",\"3610, 261\"],[\"261, 2804\",\"3610, 432\"],[\"3610\",\"432, 261, 2804\"],[\"432\",\"3610, 261, 2804\"],[\"261\",\"3610, 432, 2804\"],[\"2856, 2768, 2758\",\"2759\"],[\"2856, 2768, 2759\",\"2758\"],[\"2856, 2758, 2759\",\"2768\"],[\"2768, 2758, 2759\",\"2856\"],[\"2856, 2768\",\"2758, 2759\"],[\"2856, 2758\",\"2768, 2759\"],[\"2856, 2759\",\"2768, 2758\"],[\"2768, 2758\",\"2856, 2759\"],[\"2768, 2759\",\"2856, 2758\"],[\"2758, 2759\",\"2856, 2768\"],[\"2768\",\"2856, 2758, 2759\"],[\"2759\",\"2856, 2768, 2758\"],[\"2856, 2768, 2758, 1501\",\"2759\"],[\"2856, 2768, 1501, 2759\",\"2758\"],[\"2768, 2758, 1501, 2759\",\"2856\"],[\"2856, 2758, 1501, 2759\",\"2768\"],[\"2856, 2768, 2758, 2759\",\"1501\"],[\"2856, 2768, 1501\",\"2758, 2759\"],[\"2768, 2758, 1501\",\"2856, 2759\"],[\"2768, 1501, 2759\",\"2856, 2758\"],[\"2856, 2758, 1501\",\"2768, 2759\"],[\"2856, 1501, 2759\",\"2768, 2758\"],[\"2758, 1501, 2759\",\"2856, 2768\"],[\"2856, 2768, 2758\",\"1501, 2759\"],[\"2856, 2768, 2759\",\"2758, 1501\"],[\"2768, 2758, 2759\",\"2856, 1501\"],[\"2856, 2758, 2759\",\"2768, 1501\"],[\"2768, 1501\",\"2856, 2758, 2759\"],[\"2758, 1501\",\"2856, 2768, 2759\"],[\"1501, 2759\",\"2856, 2768, 2758\"],[\"2856, 2768\",\"2758, 1501, 2759\"],[\"2768, 2758\",\"2856, 1501, 2759\"],[\"2768, 2759\",\"2856, 2758, 1501\"],[\"2856, 2758\",\"2768, 1501, 2759\"],[\"2856, 2759\",\"2768, 2758, 1501\"],[\"2758, 2759\",\"2856, 2768, 1501\"],[\"2768\",\"2856, 2758, 1501, 2759\"],[\"2759\",\"2856, 2768, 2758, 1501\"],[\"324, 94, 1659, 1919\",\"519\"],[\"324, 94, 519, 1919\",\"1659\"],[\"94, 1659, 519, 1919\",\"324\"],[\"324, 1659, 519, 1919\",\"94\"],[\"324, 94, 1659, 519\",\"1919\"],[\"324, 94, 1919\",\"1659, 519\"],[\"94, 1659, 1919\",\"324, 519\"],[\"94, 519, 1919\",\"324, 1659\"],[\"324, 1659, 1919\",\"94, 519\"],[\"324, 519, 1919\",\"94, 1659\"],[\"1659, 519, 1919\",\"324, 94\"],[\"324, 94, 1659\",\"519, 1919\"],[\"324, 94, 519\",\"1659, 1919\"],[\"94, 1659, 519\",\"324, 1919\"],[\"324, 1659, 519\",\"94, 1919\"],[\"94, 1919\",\"324, 1659, 519\"],[\"324, 1919\",\"94, 1659, 519\"],[\"1659, 1919\",\"324, 94, 519\"],[\"519, 1919\",\"324, 94, 1659\"],[\"324, 94\",\"1659, 519, 1919\"],[\"94, 1659\",\"324, 519, 1919\"],[\"94, 519\",\"324, 1659, 1919\"],[\"324, 1659\",\"94, 519, 1919\"],[\"324, 519\",\"94, 1659, 1919\"],[\"1659, 519\",\"324, 94, 1919\"],[\"1919\",\"324, 94, 1659, 519\"],[\"94\",\"324, 1659, 519, 1919\"],[\"324\",\"94, 1659, 519, 1919\"],[\"1659\",\"324, 94, 519, 1919\"],[\"519\",\"324, 94, 1659, 1919\"]],\"hovertemplate\":\"Dataset=Before Sanitization\\u003cbr\\u003esupport=%{x}\\u003cbr\\u003econfidence=%{y}\\u003cbr\\u003elift=%{z}\\u003cbr\\u003eantecedents=%{customdata[0]}\\u003cbr\\u003econsequents=%{customdata[1]}\\u003cextra\\u003e\\u003c\\u002fextra\\u003e\",\"legendgroup\":\"Before Sanitization\",\"marker\":{\"color\":\"#636efa\",\"symbol\":\"circle\"},\"mode\":\"markers\",\"name\":\"Before Sanitization\",\"scene\":\"scene\",\"showlegend\":true,\"x\":[0.02,0.02,0.02,0.02,0.02,0.02666666666666667,0.02,0.02,0.02,0.02,0.02,0.02,0.02,0.02,0.02,0.02,0.02,0.02,0.02,0.02,0.02,0.02,0.02,0.02,0.02666666666666667,0.02666666666666667,0.02,0.02,0.02,0.02,0.02,0.02,0.02,0.02,0.02,0.02,0.02,0.02666666666666667,0.02666666666666667,0.02666666666666667,0.02666666666666667,0.04,0.04,0.02,0.02,0.03333333333333333,0.03333333333333333,0.02,0.02,0.02,0.02666666666666667,0.02666666666666667,0.02,0.02,0.02,0.02,0.02,0.02,0.02666666666666667,0.02,0.02666666666666667,0.02666666666666667,0.02,0.02,0.02666666666666667,0.02666666666666667,0.02,0.02,0.02,0.02,0.02,0.04,0.02,0.02,0.04666666666666667,0.04666666666666667,0.02,0.02,0.02,0.02,0.02,0.02666666666666667,0.02666666666666667,0.02666666666666667,0.02666666666666667,0.02,0.03333333333333333,0.03333333333333333,0.02666666666666667,0.02666666666666667,0.02,0.02,0.02,0.03333333333333333,0.03333333333333333,0.02,0.02,0.02,0.02,0.02,0.02,0.02666666666666667,0.02666666666666667,0.02,0.02,0.02,0.02,0.02666666666666667,0.02666666666666667,0.02,0.03333333333333333,0.03333333333333333,0.02,0.02,0.02666666666666667,0.02666666666666667,0.02,0.02,0.02,0.02,0.02666666666666667,0.02666666666666667,0.02,0.02,0.02,0.02,0.02,0.04,0.02,0.02,0.02,0.02,0.02,0.02,0.02,0.02,0.02666666666666667,0.03333333333333333,0.02666666666666667,0.02,0.03333333333333333,0.02666666666666667,0.03333333333333333,0.03333333333333333,0.04,0.02666666666666667,0.02,0.02,0.02,0.02,0.02,0.02,0.02,0.02,0.02,0.03333333333333333,0.03333333333333333,0.02,0.02,0.02,0.02,0.02,0.02,0.02,0.02,0.02,0.02,0.02,0.02,0.02,0.02,0.02,0.02,0.02,0.02666666666666667,0.02666666666666667,0.02666666666666667,0.02666666666666667,0.02,0.02,0.02,0.02,0.03333333333333333,0.03333333333333333,0.02,0.02,0.02,0.02,0.02,0.02,0.02,0.02,0.02666666666666667,0.02666666666666667,0.02,0.02,0.02,0.02,0.02,0.02666666666666667,0.02666666666666667,0.03333333333333333,0.03333333333333333,0.02,0.02,0.02,0.02,0.02,0.02,0.02666666666666667,0.02666666666666667,0.02,0.02,0.02,0.02,0.02,0.02,0.02,0.02,0.02,0.02,0.02,0.02,0.02,0.02,0.02,0.02,0.02666666666666667,0.02666666666666667,0.02,0.02,0.02,0.02,0.02666666666666667,0.02666666666666667,0.02,0.02,0.02,0.02666666666666667,0.02666666666666667,0.02,0.02,0.02,0.02,0.02,0.02,0.02,0.02,0.02,0.02,0.02,0.02,0.02,0.02,0.02,0.02,0.02,0.02,0.02,0.02,0.02666666666666667,0.02,0.02,0.02,0.02,0.02,0.02666666666666667,0.02666666666666667,0.02,0.02,0.02,0.02,0.02,0.02,0.02,0.02666666666666667,0.02666666666666667,0.02,0.02,0.02,0.02,0.02,0.02,0.02,0.04,0.04,0.02,0.02,0.02,0.02,0.02,0.02,0.02,0.02,0.02,0.03333333333333333,0.03333333333333333,0.02,0.02,0.02666666666666667,0.02,0.02,0.02,0.02,0.02,0.02,0.02,0.02,0.04,0.02,0.02,0.02,0.02,0.02,0.02,0.02,0.02,0.02,0.02,0.02,0.02,0.02,0.02,0.02,0.02,0.02666666666666667,0.02,0.02,0.02,0.02,0.02,0.02,0.02,0.02,0.02666666666666667,0.02,0.02,0.02,0.02,0.02,0.02666666666666667,0.02666666666666667,0.02,0.02,0.02,0.02,0.02666666666666667,0.02666666666666667,0.02,0.02,0.02,0.02,0.02,0.02,0.02,0.02,0.02,0.02666666666666667,0.02666666666666667,0.02,0.02,0.02,0.02,0.02,0.02,0.02,0.02,0.02,0.02,0.02666666666666667,0.02666666666666667,0.02,0.02,0.02,0.02,0.02,0.02666666666666667,0.02,0.02,0.02,0.02,0.02,0.03333333333333333,0.03333333333333333,0.02,0.03333333333333333,0.03333333333333333,0.02,0.02,0.02,0.02,0.02,0.02,0.02,0.02,0.02,0.02,0.02,0.02,0.02,0.02,0.02666666666666667,0.02666666666666667,0.02,0.02,0.02,0.02,0.02,0.02,0.02,0.02,0.02,0.02,0.02,0.02,0.02,0.02,0.02,0.02,0.02,0.02,0.02,0.02,0.02,0.02,0.02,0.02,0.02,0.02,0.02,0.02,0.02,0.02,0.02,0.02,0.02,0.02,0.02,0.02,0.02,0.02,0.02,0.02,0.02,0.02,0.02,0.02,0.02,0.02,0.02,0.02,0.02,0.02,0.02,0.02,0.02,0.02,0.02,0.02,0.02,0.02,0.02,0.02,0.02,0.02,0.02,0.02,0.02,0.02,0.02,0.02,0.02,0.02,0.02,0.02,0.02,0.02,0.02,0.02,0.04,0.04,0.04,0.04,0.04,0.02,0.02,0.02,0.02,0.02,0.02,0.02,0.02,0.02,0.02,0.02,0.02,0.02,0.02,0.02,0.02,0.02,0.02,0.02,0.02,0.02,0.02,0.02,0.02,0.02,0.02,0.02,0.02,0.02,0.02,0.02,0.02,0.02,0.02,0.02,0.02,0.02,0.02,0.02,0.02,0.02,0.02,0.02,0.02,0.02,0.02,0.02,0.02,0.02,0.02,0.02,0.02,0.02,0.02,0.02,0.02,0.02,0.02,0.02,0.02,0.02,0.02,0.02,0.02,0.02,0.02,0.02,0.02,0.02,0.02,0.02,0.02,0.02,0.02,0.02,0.02,0.02,0.02,0.02,0.02,0.02,0.02,0.02,0.02,0.02,0.02,0.02,0.02,0.02,0.02,0.02,0.02,0.02,0.02,0.02,0.02,0.02,0.02,0.02,0.02,0.02,0.02,0.02,0.02,0.02,0.02,0.02,0.02,0.02,0.02,0.02,0.02,0.02,0.02,0.02,0.02,0.02,0.02,0.02,0.02,0.02,0.02,0.02,0.02,0.02,0.02,0.02,0.02,0.02,0.02,0.02,0.02,0.02,0.02,0.02,0.02,0.02,0.02,0.02,0.02,0.02,0.02,0.02,0.02,0.02,0.02,0.02,0.02,0.02,0.02,0.02,0.02,0.02,0.02,0.02,0.02,0.02,0.02,0.02,0.02,0.02,0.02,0.02,0.02,0.02,0.02,0.02,0.02,0.02,0.02,0.02,0.02,0.02,0.02,0.02,0.02,0.02,0.02,0.02,0.02,0.02,0.02,0.02,0.02,0.02,0.02,0.02,0.02,0.02,0.02,0.02,0.02,0.02,0.02,0.02,0.02,0.02,0.02,0.02,0.02,0.02,0.02,0.02,0.02,0.02,0.02,0.02,0.02,0.02,0.02,0.02,0.02,0.02,0.02,0.02,0.02,0.02,0.02,0.02,0.02,0.02,0.02,0.02,0.02,0.02,0.02,0.02,0.02,0.02,0.02,0.02,0.02,0.02,0.02,0.02,0.02,0.02,0.02,0.02,0.02,0.02,0.02,0.02,0.02,0.02,0.02,0.02,0.02,0.02,0.02,0.02,0.02,0.02,0.02,0.02,0.02,0.02,0.02,0.02,0.02,0.02,0.02,0.02,0.02,0.02,0.02,0.02,0.02,0.02,0.02,0.02,0.02,0.02,0.02,0.02,0.02,0.02,0.02,0.02,0.02,0.02,0.02,0.02,0.02,0.02,0.02,0.02,0.02,0.02,0.02,0.02,0.02,0.02,0.02,0.02,0.02,0.02,0.02,0.02,0.02,0.02,0.02,0.02,0.02,0.02,0.02,0.02,0.02,0.02,0.02,0.02,0.02,0.02,0.02,0.02,0.02,0.02,0.02,0.02,0.02,0.02,0.02,0.02,0.02,0.02,0.02,0.02,0.02,0.02,0.02,0.02,0.02,0.02,0.02,0.02,0.02,0.02,0.02,0.02,0.02,0.02,0.02,0.02,0.02,0.02,0.02,0.02,0.02,0.02,0.02,0.02,0.02,0.02,0.02,0.02,0.02,0.02,0.02,0.02,0.02,0.02,0.02,0.02,0.02,0.02,0.02,0.02,0.02,0.02,0.02,0.02,0.02,0.02,0.02,0.02,0.02,0.02,0.02,0.02,0.02,0.02,0.02,0.02,0.02,0.02,0.02,0.02,0.02,0.02,0.02,0.02,0.02,0.02,0.02,0.02,0.02,0.02,0.02,0.02,0.02,0.02,0.02,0.02,0.02,0.02,0.02,0.02,0.02,0.02,0.02,0.02,0.02,0.02,0.02,0.02,0.02,0.02,0.02,0.02,0.02,0.02,0.02,0.02,0.02,0.02,0.02,0.02,0.02,0.02,0.02,0.02,0.02,0.02,0.02,0.02,0.02,0.02,0.02,0.02,0.02,0.02,0.02,0.02,0.02,0.02,0.02,0.02,0.02,0.02,0.02,0.02,0.02,0.02,0.02,0.02,0.02,0.02,0.02,0.02,0.02,0.02,0.02,0.02,0.02,0.02,0.02,0.02,0.02,0.02,0.02,0.02,0.02,0.02,0.02,0.02,0.02,0.02,0.02,0.02,0.02,0.02,0.02,0.02,0.02,0.02,0.02,0.02,0.02,0.02,0.02,0.02,0.02,0.02,0.02,0.02,0.02,0.02,0.02,0.02,0.02,0.02,0.02,0.02,0.02,0.02,0.02,0.02,0.02,0.02,0.02,0.02,0.02,0.02,0.02,0.02,0.02,0.02,0.02,0.02,0.02,0.02,0.02,0.02,0.02,0.02,0.02,0.02,0.02,0.02,0.02,0.02,0.02,0.02,0.02,0.02,0.02,0.02,0.02,0.02,0.02,0.02,0.02,0.02,0.02,0.02,0.02,0.02,0.02,0.02,0.02,0.02,0.02,0.02,0.02,0.02,0.02,0.02,0.02,0.02,0.02,0.02,0.02,0.02,0.02,0.02,0.02,0.02,0.02,0.02,0.02,0.02,0.02,0.02,0.02,0.02,0.02,0.02,0.02,0.02,0.02,0.02,0.02,0.02,0.02,0.02,0.02,0.02,0.02],\"y\":[0.6,0.5,0.6,0.6,0.5,0.5,0.6,0.6,0.6,0.6,0.75,0.75,1.0,1.0,0.75,0.6,0.6,0.5,0.5,0.6,0.5,0.5,1.0,1.0,0.6666666666666667,0.5,0.5,0.6,0.6,0.6,0.75,0.6,0.75,0.6,0.6,0.75,0.75,0.6666666666666667,0.5714285714285714,1.0,0.5714285714285714,0.8571428571428571,0.6,0.6,0.75,0.8333333333333333,0.5,0.6,0.5,1.0,0.6666666666666667,1.0,0.5,0.75,0.5,0.75,0.75,0.75,0.8,0.5,0.5,0.6666666666666667,0.6,0.6,0.5,0.5,0.75,0.75,0.5,0.75,1.0,0.75,1.0,1.0,0.875,0.875,0.6,0.75,0.75,0.6,0.6,0.5,0.8,0.5,0.5714285714285714,0.75,0.625,0.8333333333333333,0.5,0.5,1.0,0.75,1.0,0.5555555555555556,0.8333333333333333,0.5,0.75,0.5,0.75,0.5,1.0,0.5714285714285714,0.5,1.0,0.5,0.5,0.75,0.6666666666666667,0.5,0.5,0.8333333333333333,0.8333333333333333,1.0,0.5,0.6666666666666667,0.8,0.5,1.0,0.5,0.5,1.0,0.5,0.5,0.5,0.5,0.5,0.75,0.8571428571428571,0.5,0.6,0.75,0.75,1.0,0.6,0.6,0.6,1.0,0.8333333333333333,1.0,0.6,0.7142857142857142,0.8,0.625,0.8333333333333333,0.6666666666666667,0.8,1.0,0.5,0.5,1.0,0.5,0.75,0.75,0.75,0.6,1.0,1.0,0.6,1.0,0.75,1.0,1.0,1.0,1.0,0.5,0.6,0.5,1.0,0.5,0.5,0.5,1.0,0.5,0.5,0.6666666666666667,0.6666666666666667,0.5,0.6666666666666667,0.5,0.5,0.5,0.5,0.8333333333333333,0.5555555555555556,1.0,1.0,0.5,0.5,0.75,0.5,0.5,0.5,0.5,0.6666666666666667,0.5,0.75,0.5,0.5,0.5,0.6666666666666667,0.5714285714285714,0.7142857142857142,0.625,0.75,0.75,0.5,0.6,0.5,0.5,0.6666666666666667,0.6666666666666667,0.75,0.75,1.0,0.5,0.5,1.0,0.75,0.75,0.6,1.0,0.6,1.0,0.6,0.6,0.5,0.6,0.8,0.8,0.6,0.6,1.0,0.6,0.8,0.5,0.75,0.75,0.75,1.0,1.0,1.0,1.0,1.0,1.0,1.0,1.0,1.0,0.5,1.0,1.0,0.5,0.5,0.5,0.5,0.5,0.5,1.0,0.5,0.5,0.5,0.5,0.75,0.75,0.5,0.75,0.75,0.6666666666666667,0.5,0.75,0.5,0.5,0.75,1.0,0.6,0.6,1.0,0.8,0.75,0.75,0.75,1.0,1.0,0.75,0.6,0.6666666666666667,0.5454545454545454,0.6,0.75,0.6,0.5,0.6,0.75,0.75,0.75,0.6,0.8333333333333333,0.7142857142857142,0.5,0.6,0.6666666666666667,0.75,0.5,0.75,0.5,0.75,0.6,1.0,1.0,0.75,0.5,0.75,0.6,1.0,1.0,1.0,1.0,1.0,0.75,0.5,0.6,0.5,0.6,0.6,0.6,0.75,0.5,0.5,0.6,0.75,1.0,0.6,0.75,0.75,0.75,0.6666666666666667,1.0,0.75,0.75,1.0,0.75,0.6666666666666667,1.0,0.5,1.0,1.0,0.6,0.5714285714285714,1.0,1.0,0.6,1.0,0.5,1.0,0.6,0.6,0.6,0.6,1.0,0.8,0.75,1.0,0.6,0.6,1.0,0.6,0.75,0.75,0.75,0.5,1.0,0.5,0.6,1.0,0.6,0.75,0.75,1.0,0.5,1.0,0.5,1.0,0.6,0.7142857142857142,0.5555555555555556,0.6,0.625,0.5555555555555556,0.6,0.5,0.5,0.6,0.75,1.0,1.0,1.0,1.0,0.75,0.5,0.75,1.0,0.5,0.5714285714285714,0.6666666666666667,1.0,1.0,1.0,1.0,0.6,0.6,1.0,1.0,0.5,1.0,0.75,1.0,1.0,0.5,1.0,1.0,1.0,1.0,0.6,0.6,0.75,0.75,0.6,0.5,0.5,0.75,1.0,0.5,0.75,0.75,1.0,1.0,0.75,0.75,1.0,1.0,0.5,1.0,0.75,0.5,0.6,1.0,1.0,1.0,0.6,1.0,0.75,0.6,0.6,0.5,1.0,0.75,1.0,0.6,0.75,1.0,0.75,0.5,1.0,0.75,1.0,0.6,0.5,1.0,0.75,1.0,0.75,0.5,1.0,0.5,1.0,1.0,1.0,1.0,0.5,1.0,1.0,0.8571428571428571,1.0,0.75,0.75,1.0,1.0,1.0,1.0,1.0,1.0,1.0,1.0,1.0,1.0,1.0,1.0,0.75,0.75,1.0,0.75,0.75,0.75,0.6,0.6,0.75,1.0,0.5,0.75,1.0,1.0,1.0,1.0,1.0,1.0,0.75,1.0,0.5,1.0,1.0,0.75,1.0,0.5,1.0,0.75,0.75,0.5,0.75,1.0,1.0,0.6,0.5,0.5,1.0,1.0,0.6,1.0,0.5,0.5,0.75,0.6,1.0,0.5,0.6,0.5,1.0,0.6,1.0,0.5,1.0,0.5,1.0,1.0,0.6,0.5,0.5,0.5,1.0,1.0,0.75,1.0,0.5,0.6,1.0,1.0,1.0,1.0,0.5,0.5,1.0,1.0,0.75,0.5,0.5,0.6,0.75,0.75,1.0,1.0,0.75,1.0,1.0,0.5,0.75,0.75,0.5,1.0,0.6,1.0,0.6,0.5,0.5,0.6,1.0,0.6,0.5,0.5,1.0,0.75,0.6,1.0,1.0,0.75,0.75,1.0,0.6,1.0,0.6,0.6,1.0,0.6,1.0,0.6,0.6,1.0,1.0,0.75,1.0,0.75,1.0,1.0,1.0,1.0,0.6,0.5,1.0,1.0,1.0,1.0,0.5,0.5,1.0,1.0,1.0,0.5,0.6,0.5,0.75,1.0,1.0,0.5,0.5,0.75,0.75,1.0,0.5,0.5,0.6,0.75,1.0,0.5,1.0,0.75,0.75,0.5,0.5,0.6,1.0,1.0,1.0,1.0,0.6,1.0,0.5,0.6,1.0,1.0,0.5,1.0,1.0,1.0,1.0,1.0,1.0,1.0,1.0,0.75,0.5,0.6,1.0,0.75,0.5,1.0,1.0,0.75,0.75,0.5,0.75,1.0,0.6,0.5,1.0,1.0,1.0,0.75,0.75,1.0,0.75,1.0,1.0,1.0,1.0,0.75,1.0,1.0,1.0,1.0,0.5,1.0,1.0,0.75,1.0,0.6,0.6,1.0,1.0,0.75,1.0,0.6,0.6,0.75,1.0,1.0,0.75,0.75,0.75,1.0,0.75,1.0,0.75,0.75,1.0,1.0,1.0,1.0,1.0,1.0,1.0,1.0,1.0,1.0,0.5,1.0,0.75,1.0,0.75,0.6,1.0,0.75,1.0,0.75,0.6,1.0,1.0,1.0,0.75,0.75,1.0,1.0,1.0,1.0,0.75,0.6,1.0,1.0,1.0,0.5,0.6,1.0,1.0,1.0,0.75,0.5,0.6,1.0,0.75,1.0,0.75,0.5,0.6,1.0,1.0,1.0,0.75,0.5,1.0,1.0,1.0,1.0,1.0,0.5,1.0,1.0,1.0,1.0,0.5,1.0,1.0,1.0,1.0,1.0,1.0,1.0,1.0,1.0,1.0,0.75,0.5,1.0,1.0,0.75,1.0,0.75,1.0,0.5,1.0,0.75,1.0,1.0,1.0,1.0,0.5,0.6,1.0,0.6,1.0,0.6,1.0,0.6,0.6,1.0,1.0,1.0,1.0,1.0,1.0,0.75,1.0,1.0,0.5,0.6,1.0,1.0,1.0,1.0,1.0,1.0,1.0,1.0,0.5,1.0,1.0,1.0,1.0,0.5,1.0,1.0,0.5,1.0,1.0,0.5,1.0,1.0,1.0,1.0,0.5,1.0,1.0,0.5,1.0,1.0,0.5,1.0,1.0,1.0,1.0,1.0,1.0,1.0,1.0,1.0,1.0,1.0,1.0,1.0,1.0,1.0,1.0,1.0,1.0,0.75,1.0,1.0,0.75,0.75,1.0,0.5,1.0,1.0,1.0,1.0,1.0,1.0,1.0,0.75,0.6,1.0,1.0,0.5,0.6,0.5,1.0,1.0,1.0,1.0,1.0,1.0,1.0,1.0,1.0,0.6,1.0,0.5,0.5,0.5,1.0,1.0,1.0,1.0,1.0,1.0,1.0,0.75,0.6,1.0,0.5,0.5,0.6,0.5,1.0,1.0,1.0,1.0,1.0,1.0,1.0,1.0,1.0,0.75,1.0,0.5,0.5,0.6,1.0,1.0,1.0,1.0,1.0,1.0,1.0,1.0,1.0,1.0,1.0,0.5,0.6,0.5,1.0,1.0,1.0,1.0,1.0,0.75,0.75,0.6,0.75,1.0,0.5,0.5,1.0,1.0,1.0,1.0,1.0,1.0,1.0,0.6,1.0,1.0,1.0,0.5,1.0,1.0,1.0,1.0,1.0,1.0,1.0,1.0,1.0,1.0,1.0,0.75,0.5,0.6,1.0,1.0,1.0,1.0,1.0,0.5,1.0,1.0,1.0,1.0,1.0,1.0,1.0,1.0,1.0,1.0,1.0,1.0,1.0,1.0,0.5,1.0,1.0,1.0,1.0,1.0,1.0,1.0,0.5,1.0,1.0,1.0,1.0,0.5,1.0,1.0,1.0,1.0,1.0,1.0,1.0,1.0,1.0,1.0,1.0,1.0,1.0,1.0,1.0,1.0,1.0,1.0,1.0,1.0,1.0,0.6,1.0,1.0,1.0,1.0,1.0,1.0,0.75,0.5,0.5,1.0,0.5,0.6],\"z\":[9.0,15.0,15.0,5.294117647058823,7.5,7.5,18.0,18.0,12.857142857142856,11.249999999999998,6.61764705882353,14.062499999999998,21.428571428571427,15.0,22.5,22.499999999999996,11.249999999999998,12.5,12.5,15.0,15.0,25.0,25.0,18.75,12.5,12.5,7.5,18.0,18.0,22.499999999999996,22.5,22.499999999999996,22.5,8.181818181818182,22.499999999999996,22.5,7.031249999999999,14.285714285714286,14.285714285714285,21.428571428571427,21.428571428571427,12.857142857142856,12.857142857142856,12.857142857142856,16.07142857142857,12.499999999999998,12.5,15.0,15.0,15.0,25.0,25.0,6.25,18.75,18.75,11.25,28.124999999999996,28.124999999999996,12.0,9.375,12.5,12.5,11.249999999999998,11.249999999999998,9.375,9.375,11.25,18.75,18.75,7.031249999999999,18.75,6.61764705882353,18.75,18.75,16.40625,16.40625,22.499999999999996,22.5,14.062499999999998,11.249999999999998,11.249999999999998,15.0,15.0,10.714285714285714,10.714285714285714,14.062499999999998,15.625,15.624999999999998,9.375,9.375,16.666666666666668,12.5,8.823529411764707,13.88888888888889,13.888888888888888,7.5,12.5,8.333333333333334,12.5,10.714285714285714,21.428571428571427,10.714285714285714,10.714285714285714,25.0,25.0,18.75,18.75,12.5,12.5,10.714285714285714,20.833333333333332,20.833333333333332,25.0,25.0,20.000000000000004,20.0,25.0,25.0,12.5,12.5,18.75,18.75,9.375,4.411764705882353,8.333333333333334,7.5,16.07142857142857,7.563025210084033,10.714285714285714,5.294117647058823,6.61764705882353,37.5,37.5,5.294117647058823,11.249999999999998,10.0,8.823529411764707,7.352941176470588,8.823529411764707,5.294117647058823,6.302521008403361,7.058823529411765,5.514705882352941,7.352941176470588,5.882352941176472,7.058823529411765,16.666666666666668,10.714285714285714,9.375,15.0,18.75,18.75,14.062499999999998,7.031249999999999,9.0,30.0,30.0,5.624999999999999,37.5,37.5,18.75,50.0,50.0,25.0,25.0,15.0,15.0,25.0,25.0,12.5,12.5,18.75,8.333333333333334,10.714285714285714,16.666666666666668,16.666666666666668,12.5,12.5,12.5,12.5,8.333333333333334,8.333333333333334,13.888888888888888,13.88888888888889,16.666666666666668,16.666666666666668,9.375,9.375,14.062499999999998,10.714285714285714,12.5,12.5,12.5,12.5,10.714285714285714,18.75,18.75,12.5,12.5,14.285714285714286,14.285714285714285,13.39285714285714,13.392857142857142,16.07142857142857,16.07142857142857,10.714285714285714,10.0,9.375,4.411764705882353,16.666666666666668,16.666666666666668,14.062499999999998,14.062499999999998,25.0,25.0,25.0,25.0,28.124999999999996,28.124999999999996,5.624999999999999,30.0,30.0,30.0,30.0,15.0,15.0,12.857142857142856,24.0,24.0,18.0,18.0,30.0,30.0,15.0,15.0,28.124999999999996,28.124999999999996,16.07142857142857,37.5,37.5,50.0,50.0,50.0,50.0,50.0,50.0,18.75,25.0,25.0,25.0,25.0,7.5,9.375,9.375,7.5,9.375,25.0,25.0,7.5,9.375,7.5,11.25,11.25,7.5,7.031249999999999,7.031249999999999,12.5,12.5,14.062499999999998,7.5,8.333333333333334,37.5,37.5,12.857142857142856,5.624999999999999,30.0,30.0,28.124999999999996,28.124999999999996,37.5,37.5,37.5,37.5,10.0,9.090909090909092,9.09090909090909,8.181818181818182,22.5,22.499999999999996,15.0,15.0,16.07142857142857,28.124999999999996,28.124999999999996,9.0,17.857142857142854,17.857142857142854,15.0,15.0,6.25,18.75,18.75,16.07142857142857,10.714285714285714,16.07142857142857,12.857142857142856,8.823529411764707,8.823529411764707,6.61764705882353,4.411764705882353,6.61764705882353,5.294117647058823,50.0,50.0,18.75,18.75,13.636363636363637,10.227272727272727,6.818181818181818,10.0,15.0,15.0,5.624999999999999,22.499999999999996,22.5,4.6875,8.333333333333334,9.0,37.5,37.5,12.857142857142856,16.07142857142857,16.07142857142857,11.25,6.25,37.5,37.5,16.07142857142857,37.5,37.5,25.0,25.0,25.0,25.0,18.75,5.624999999999999,21.428571428571427,21.428571428571427,30.0,30.0,25.0,25.0,9.375,18.0,18.0,18.0,18.0,30.0,30.0,7.031249999999999,18.75,18.0,18.0,30.0,30.0,28.124999999999996,28.124999999999996,18.75,18.75,18.75,18.75,30.0,30.0,22.499999999999996,22.5,7.031249999999999,9.375,25.0,25.0,25.0,25.0,12.857142857142856,11.904761904761903,11.904761904761905,10.0,10.416666666666668,10.416666666666666,15.0,15.0,15.0,15.0,37.5,37.5,21.428571428571427,50.0,50.0,18.75,18.75,37.5,37.5,9.375,14.285714285714285,14.285714285714286,21.428571428571427,21.428571428571427,30.0,30.0,30.0,30.0,15.0,21.428571428571427,25.0,25.0,37.5,18.75,25.0,25.0,37.5,37.5,30.0,30.0,30.0,30.0,37.5,11.25,12.857142857142856,12.5,12.5,11.25,21.428571428571427,18.75,18.75,28.124999999999996,21.428571428571427,37.5,37.5,28.124999999999996,15.0,21.428571428571427,7.5,15.0,16.07142857142857,15.0,15.0,21.428571428571427,15.0,30.0,30.0,15.0,18.75,18.0,18.0,18.75,15.0,11.25,30.0,30.0,14.062499999999998,18.75,18.75,18.75,25.0,22.5,18.75,22.499999999999996,25.0,25.0,28.124999999999996,9.375,28.124999999999996,25.0,18.75,25.0,8.823529411764707,25.0,18.75,8.823529411764707,25.0,25.0,18.75,7.563025210084033,18.75,18.75,18.75,18.75,50.0,50.0,50.0,50.0,18.75,18.75,21.428571428571427,18.75,18.75,21.428571428571427,18.75,16.07142857142857,14.062499999999998,30.0,14.062499999999998,28.124999999999996,28.124999999999996,30.0,11.249999999999998,18.75,18.75,18.75,37.5,21.428571428571427,18.75,37.5,25.0,50.0,37.5,37.5,50.0,25.0,18.75,25.0,37.5,37.5,25.0,18.75,28.124999999999996,18.75,18.75,28.124999999999996,25.0,25.0,12.857142857142856,25.0,25.0,25.0,25.0,30.0,30.0,25.0,25.0,18.75,18.0,25.0,25.0,18.0,18.75,25.0,30.0,25.0,25.0,30.0,25.0,25.0,25.0,15.0,15.0,25.0,25.0,30.0,25.0,37.5,37.5,25.0,30.0,25.0,25.0,50.0,50.0,25.0,25.0,30.0,25.0,18.75,18.75,25.0,30.0,11.25,11.25,16.666666666666668,15.0,7.031249999999999,16.666666666666668,8.823529411764707,18.75,16.07142857142857,18.75,9.375,8.823529411764707,12.857142857142856,8.823529411764707,12.857142857142856,12.5,12.5,11.249999999999998,8.823529411764707,15.0,15.0,15.0,8.823529411764707,12.5,15.0,18.75,9.375,28.124999999999996,28.124999999999996,30.0,9.0,30.0,30.0,30.0,30.0,5.624999999999999,30.0,30.0,30.0,18.75,37.5,37.5,37.5,37.5,25.0,30.0,50.0,50.0,30.0,25.0,25.0,25.0,50.0,50.0,25.0,25.0,25.0,30.0,25.0,25.0,30.0,25.0,12.5,25.0,25.0,25.0,25.0,18.75,16.07142857142857,25.0,25.0,18.75,15.0,16.07142857142857,18.75,15.0,25.0,14.062499999999998,18.75,18.75,25.0,10.0,18.75,21.428571428571427,16.666666666666668,25.0,30.0,30.0,25.0,30.0,16.666666666666668,25.0,25.0,30.0,50.0,16.666666666666668,50.0,50.0,50.0,21.428571428571427,25.0,14.062499999999998,25.0,15.0,18.75,16.07142857142857,15.0,25.0,18.75,28.124999999999996,28.124999999999996,25.0,14.062499999999998,21.428571428571427,15.0,15.0,37.5,37.5,21.428571428571427,37.5,37.5,8.823529411764707,16.07142857142857,9.375,37.5,15.0,18.75,37.5,50.0,25.0,50.0,50.0,25.0,50.0,30.0,16.07142857142857,30.0,30.0,30.0,30.0,30.0,37.5,37.5,30.0,30.0,28.124999999999996,37.5,37.5,37.5,37.5,28.124999999999996,37.5,16.07142857142857,37.5,37.5,37.5,50.0,50.0,50.0,50.0,50.0,50.0,25.0,18.75,50.0,50.0,25.0,30.0,16.07142857142857,37.5,37.5,30.0,30.0,7.031249999999999,37.5,37.5,30.0,50.0,37.5,37.5,37.5,37.5,50.0,13.636363636363637,30.0,37.5,37.5,30.0,13.636363636363637,30.0,25.0,25.0,30.0,30.0,25.0,37.5,37.5,25.0,30.0,30.0,18.75,37.5,37.5,18.75,30.0,25.0,37.5,21.428571428571427,37.5,25.0,50.0,8.823529411764707,50.0,50.0,50.0,25.0,8.823529411764707,18.75,25.0,8.823529411764707,25.0,18.75,25.0,50.0,50.0,18.75,50.0,50.0,13.636363636363637,25.0,37.5,37.5,25.0,18.75,9.375,16.07142857142857,37.5,37.5,25.0,25.0,37.5,37.5,30.0,25.0,50.0,50.0,25.0,30.0,16.666666666666668,18.0,21.428571428571427,18.0,16.666666666666668,11.249999999999998,12.857142857142856,15.0,21.428571428571427,15.0,30.0,25.0,50.0,37.5,37.5,50.0,25.0,30.0,18.75,50.0,8.823529411764707,50.0,50.0,25.0,50.0,50.0,25.0,50.0,50.0,50.0,18.75,25.0,8.823529411764707,18.75,25.0,25.0,21.428571428571427,25.0,25.0,25.0,18.75,8.823529411764707,25.0,18.75,25.0,25.0,21.428571428571427,25.0,25.0,25.0,18.75,50.0,50.0,18.75,50.0,50.0,21.428571428571427,50.0,50.0,50.0,50.0,18.75,25.0,50.0,37.5,37.5,50.0,37.5,37.5,50.0,37.5,37.5,50.0,25.0,25.0,30.0,25.0,50.0,50.0,30.0,37.5,37.5,30.0,50.0,50.0,25.0,30.0,25.0,25.0,25.0,25.0,50.0,30.0,50.0,50.0,50.0,50.0,30.0,50.0,25.0,25.0,25.0,25.0,30.0,25.0,25.0,50.0,30.0,37.5,37.5,30.0,50.0,25.0,25.0,30.0,25.0,30.0,25.0,25.0,50.0,37.5,50.0,50.0,50.0,50.0,37.5,50.0,25.0,25.0,30.0,25.0,30.0,25.0,50.0,50.0,50.0,50.0,50.0,50.0,50.0,50.0,25.0,30.0,25.0,25.0,21.428571428571427,18.75,25.0,50.0,28.124999999999996,22.5,22.499999999999996,28.124999999999996,50.0,25.0,25.0,50.0,16.666666666666668,25.0,50.0,50.0,50.0,30.0,30.0,50.0,50.0,50.0,25.0,50.0,13.636363636363637,30.0,25.0,37.5,50.0,50.0,50.0,50.0,50.0,50.0,37.5,25.0,30.0,50.0,8.823529411764707,50.0,18.75,50.0,25.0,50.0,50.0,25.0,50.0,50.0,50.0,50.0,8.823529411764707,18.75,50.0,18.75,50.0,50.0,25.0,25.0,50.0,50.0,50.0,25.0,21.428571428571427,50.0,50.0,25.0,50.0,50.0,50.0,25.0,25.0,50.0,50.0,50.0,50.0,30.0,25.0,50.0,25.0,25.0,37.5,50.0,50.0,50.0,50.0,50.0,50.0,30.0,50.0,50.0,50.0,50.0,30.0,50.0,50.0,50.0,50.0,50.0,50.0,37.5,25.0,25.0,50.0,25.0,30.0],\"type\":\"scatter3d\"},{\"customdata\":[[\"100\",\"104\"],[\"2261\",\"100\"],[\"100\",\"2261\"],[\"1004\",\"1755\"],[\"2261\",\"104\"],[\"2808\",\"104\"],[\"2737\",\"1075\"],[\"1075\",\"2737\"],[\"1075\",\"302\"],[\"1077\",\"1755\"],[\"1077\",\"206\"],[\"1182\",\"41\"],[\"41\",\"1182\"],[\"1184\",\"2421\"],[\"1192\",\"1185\"],[\"1185\",\"1192\"],[\"1199\",\"1185\"],[\"1185\",\"1199\"],[\"1192\",\"1189\"],[\"1189\",\"1192\"],[\"1189\",\"2421\"],[\"1192\",\"2421\"],[\"2421\",\"1192\"],[\"1192\",\"3530\"],[\"1200\",\"1199\"],[\"1199\",\"1200\"],[\"1199\",\"1201\"],[\"1201\",\"1199\"],[\"1200\",\"1201\"],[\"1201\",\"1200\"],[\"1200\",\"2804\"],[\"1209\",\"2244\"],[\"2244\",\"1209\"],[\"1209\",\"3694\"],[\"1359\",\"1358\"],[\"1358\",\"1359\"],[\"1359\",\"1558\"],[\"697\",\"1359\"],[\"1359\",\"697\"],[\"136\",\"543\"],[\"543\",\"136\"],[\"1377\",\"2006\"],[\"2006\",\"1377\"],[\"2150\",\"1377\"],[\"1380\",\"2999\"],[\"1380\",\"3067\"],[\"3067\",\"1380\"],[\"1380\",\"3694\"],[\"2093\",\"1523\"],[\"1523\",\"2093\"],[\"1671\",\"1532\"],[\"1944\",\"1532\"],[\"2150\",\"1532\"],[\"1532\",\"2571\"],[\"2571\",\"1532\"],[\"1532\",\"302\"],[\"302\",\"1532\"],[\"3846\",\"1532\"],[\"1532\",\"726\"],[\"726\",\"1532\"],[\"3205\",\"1561\"],[\"3862\",\"1561\"],[\"1600\",\"1599\"],[\"1599\",\"1600\"],[\"1599\",\"3530\"],[\"174\",\"1600\"],[\"2437\",\"1600\"],[\"2988\",\"1600\"],[\"192\",\"1648\"],[\"186\",\"172\"],[\"172\",\"186\"],[\"1721\",\"2993\"],[\"2557\",\"1722\"],[\"1753\",\"1743\"],[\"1743\",\"1755\"],[\"1768\",\"1743\"],[\"1744\",\"1755\"],[\"1745\",\"1755\"],[\"1931\",\"1748\"],[\"1748\",\"1931\"],[\"1750\",\"1755\"],[\"1750\",\"1766\"],[\"1750\",\"1935\"],[\"1753\",\"1755\"],[\"1754\",\"1755\"],[\"1756\",\"1755\"],[\"1759\",\"1755\"],[\"1764\",\"1755\"],[\"1765\",\"1755\"],[\"1766\",\"1755\"],[\"1768\",\"1755\"],[\"1935\",\"1755\"],[\"2667\",\"1755\"],[\"1757\",\"1935\"],[\"1768\",\"1766\"],[\"1767\",\"2999\"],[\"1768\",\"2475\"],[\"2475\",\"1768\"],[\"1770\",\"2992\"],[\"1770\",\"3694\"],[\"1776\",\"2999\"],[\"3148\",\"1776\"],[\"1776\",\"3148\"],[\"1776\",\"3694\"],[\"1927\",\"1934\"],[\"1937\",\"1927\"],[\"1927\",\"1937\"],[\"1927\",\"1939\"],[\"1939\",\"1927\"],[\"1932\",\"1930\"],[\"1937\",\"1930\"],[\"3351\",\"1930\"],[\"1932\",\"1934\"],[\"1937\",\"1932\"],[\"1932\",\"1937\"],[\"1939\",\"1932\"],[\"1932\",\"1939\"],[\"1932\",\"3261\"],[\"3351\",\"1932\"],[\"1932\",\"3351\"],[\"668\",\"1932\"],[\"1932\",\"668\"],[\"1937\",\"1934\"],[\"1934\",\"1937\"],[\"1934\",\"1939\"],[\"1939\",\"1934\"],[\"1943\",\"1934\"],[\"1946\",\"1934\"],[\"3093\",\"1934\"],[\"2667\",\"1935\"],[\"1937\",\"1939\"],[\"1937\",\"668\"],[\"668\",\"1937\"],[\"3351\",\"1939\"],[\"3663\",\"1939\"],[\"1943\",\"1946\"],[\"1946\",\"1943\"],[\"1944\",\"3694\"],[\"1956\",\"1961\"],[\"1961\",\"1956\"],[\"1957\",\"1961\"],[\"1961\",\"1957\"],[\"2093\",\"302\"],[\"2093\",\"3445\"],[\"3445\",\"2093\"],[\"962\",\"2093\"],[\"2093\",\"962\"],[\"2189\",\"264\"],[\"264\",\"2189\"],[\"2189\",\"302\"],[\"773\",\"2189\"],[\"2189\",\"773\"],[\"3093\",\"2255\"],[\"2255\",\"3093\"],[\"2260\",\"2261\"],[\"2261\",\"2260\"],[\"2261\",\"2338\"],[\"2261\",\"2421\"],[\"2261\",\"2992\"],[\"2312\",\"2307\"],[\"2988\",\"2307\"],[\"3064\",\"2307\"],[\"732\",\"2307\"],[\"2308\",\"3694\"],[\"2384\",\"3694\"],[\"2437\",\"2421\"],[\"2421\",\"2437\"],[\"2475\",\"3760\"],[\"2557\",\"2993\"],[\"705\",\"2562\"],[\"2562\",\"705\"],[\"2571\",\"302\"],[\"2571\",\"3694\"],[\"3846\",\"2571\"],[\"2571\",\"3846\"],[\"261\",\"260\"],[\"260\",\"2804\"],[\"2804\",\"260\"],[\"261\",\"2804\"],[\"3610\",\"261\"],[\"261\",\"3610\"],[\"432\",\"261\"],[\"261\",\"432\"],[\"264\",\"302\"],[\"773\",\"264\"],[\"264\",\"773\"],[\"2670\",\"432\"],[\"432\",\"2670\"],[\"2690\",\"3308\"],[\"3308\",\"2690\"],[\"2690\",\"3694\"],[\"984\",\"2690\"],[\"2690\",\"984\"],[\"3771\",\"2714\"],[\"668\",\"2714\"],[\"669\",\"2714\"],[\"2737\",\"302\"],[\"3578\",\"2804\"],[\"3610\",\"2804\"],[\"432\",\"2804\"],[\"2931\",\"2993\"],[\"3067\",\"2931\"],[\"2931\",\"3067\"],[\"2931\",\"3694\"],[\"3729\",\"2986\"],[\"2986\",\"3729\"],[\"2992\",\"3694\"],[\"3067\",\"2993\"],[\"3148\",\"2999\"],[\"3008\",\"3007\"],[\"3007\",\"3008\"],[\"3445\",\"302\"],[\"3846\",\"302\"],[\"773\",\"302\"],[\"3663\",\"3041\"],[\"3067\",\"3694\"],[\"3072\",\"3071\"],[\"3071\",\"3072\"],[\"3071\",\"731\"],[\"3092\",\"3090\"],[\"3090\",\"3092\"],[\"3093\",\"3090\"],[\"3090\",\"3093\"],[\"3093\",\"3092\"],[\"3092\",\"3093\"],[\"3148\",\"3694\"],[\"3237\",\"3251\"],[\"3251\",\"3237\"],[\"3275\",\"3694\"],[\"3308\",\"3303\"],[\"3303\",\"3308\"],[\"3303\",\"3408\"],[\"3408\",\"3303\"],[\"984\",\"3308\"],[\"3308\",\"984\"],[\"3378\",\"3694\"],[\"962\",\"3445\"],[\"3445\",\"962\"],[\"3610\",\"3451\"],[\"3451\",\"3610\"],[\"3610\",\"432\"],[\"432\",\"3610\"],[\"3664\",\"3661\"],[\"3661\",\"3664\"],[\"3664\",\"3663\"],[\"3663\",\"3664\"],[\"3846\",\"3694\"],[\"587\",\"3694\"],[\"3712\",\"3711\"],[\"3711\",\"3712\"],[\"3712\",\"485\"],[\"485\",\"3712\"],[\"3745\",\"3742\"],[\"3742\",\"3756\"],[\"3756\",\"3742\"],[\"3745\",\"3756\"],[\"3760\",\"3756\"],[\"3756\",\"3760\"],[\"55\",\"57\"],[\"57\",\"55\"],[\"64\",\"731\"],[\"669\",\"668\"],[\"668\",\"669\"],[\"705\",\"704\"],[\"704\",\"705\"],[\"731\",\"732\"],[\"732\",\"731\"],[\"733\",\"731\"],[\"2737, 1075\",\"302\"],[\"2737, 302\",\"1075\"],[\"302, 1075\",\"2737\"],[\"2737\",\"302, 1075\"],[\"1075\",\"2737, 302\"],[\"1192, 2421\",\"1189\"],[\"1192, 1189\",\"2421\"],[\"2421, 1189\",\"1192\"],[\"1192\",\"2421, 1189\"],[\"1189\",\"1192, 2421\"],[\"1200, 1199\",\"1201\"],[\"1200, 1201\",\"1199\"],[\"1199, 1201\",\"1200\"],[\"1200\",\"1199, 1201\"],[\"1199\",\"1200, 1201\"],[\"1201\",\"1200, 1199\"],[\"3694, 1380\",\"3067\"],[\"3694, 3067\",\"1380\"],[\"1380, 3067\",\"3694\"],[\"1380\",\"3694, 3067\"],[\"3067\",\"3694, 1380\"],[\"3846, 1532\",\"2571\"],[\"3846, 2571\",\"1532\"],[\"1532, 2571\",\"3846\"],[\"3846\",\"1532, 2571\"],[\"2571\",\"3846, 1532\"],[\"2993, 3694\",\"1722\"],[\"2993, 1722\",\"3694\"],[\"3694, 1722\",\"2993\"],[\"1743, 1755\",\"1753\"],[\"1743, 1753\",\"1755\"],[\"1755, 1753\",\"1743\"],[\"1753\",\"1743, 1755\"],[\"1743, 1755\",\"1766\"],[\"1743, 1766\",\"1755\"],[\"1755, 1766\",\"1743\"],[\"1768, 1743\",\"1755\"],[\"1768, 1755\",\"1743\"],[\"1743, 1755\",\"1768\"],[\"1768\",\"1743, 1755\"],[\"1768, 1755\",\"1766\"],[\"1768, 1766\",\"1755\"],[\"1755, 1766\",\"1768\"],[\"1768\",\"1755, 1766\"],[\"1935, 1755\",\"2667\"],[\"1935, 2667\",\"1755\"],[\"1755, 2667\",\"1935\"],[\"2667\",\"1935, 1755\"],[\"1770, 3694\",\"2992\"],[\"1770, 2992\",\"3694\"],[\"3694, 2992\",\"1770\"],[\"1770\",\"3694, 2992\"],[\"3148, 2999\",\"1776\"],[\"3148, 1776\",\"2999\"],[\"1776, 2999\",\"3148\"],[\"3148\",\"1776, 2999\"],[\"1776\",\"3148, 2999\"],[\"3148, 3694\",\"1776\"],[\"3148, 1776\",\"3694\"],[\"1776, 3694\",\"3148\"],[\"3148\",\"1776, 3694\"],[\"1776\",\"3148, 3694\"],[\"1937, 1934\",\"1927\"],[\"1937, 1927\",\"1934\"],[\"1934, 1927\",\"1937\"],[\"1937\",\"1934, 1927\"],[\"1927\",\"1937, 1934\"],[\"1934, 1927\",\"1939\"],[\"1939, 1927\",\"1934\"],[\"1934, 1939\",\"1927\"],[\"1927\",\"1934, 1939\"],[\"1937, 1927\",\"1939\"],[\"1937, 1939\",\"1927\"],[\"1939, 1927\",\"1937\"],[\"1937\",\"1939, 1927\"],[\"1927\",\"1937, 1939\"],[\"1937, 1930\",\"1934\"],[\"1937, 1934\",\"1930\"],[\"1930, 1934\",\"1937\"],[\"1937\",\"1930, 1934\"],[\"1934, 1939\",\"1932\"],[\"1934, 1932\",\"1939\"],[\"1939, 1932\",\"1934\"],[\"1932\",\"1934, 1939\"],[\"3351, 1939\",\"1932\"],[\"3351, 1932\",\"1939\"],[\"1939, 1932\",\"3351\"],[\"3351\",\"1939, 1932\"],[\"1932\",\"3351, 1939\"],[\"1937, 1934\",\"1939\"],[\"1937, 1939\",\"1934\"],[\"1934, 1939\",\"1937\"],[\"1937\",\"1934, 1939\"],[\"1934, 1943\",\"1946\"],[\"1934, 1946\",\"1943\"],[\"1943, 1946\",\"1934\"],[\"1943\",\"1934, 1946\"],[\"1946\",\"1934, 1943\"],[\"1939, 3041\",\"3663\"],[\"1939, 3663\",\"3041\"],[\"3041, 3663\",\"1939\"],[\"3663\",\"1939, 3041\"],[\"2093, 302\",\"3445\"],[\"2093, 3445\",\"302\"],[\"302, 3445\",\"2093\"],[\"2093\",\"302, 3445\"],[\"3445\",\"2093, 302\"],[\"962, 2093\",\"3445\"],[\"962, 3445\",\"2093\"],[\"2093, 3445\",\"962\"],[\"962\",\"2093, 3445\"],[\"2093\",\"962, 3445\"],[\"3445\",\"962, 2093\"],[\"773, 2189\",\"264\"],[\"773, 264\",\"2189\"],[\"2189, 264\",\"773\"],[\"773\",\"2189, 264\"],[\"2189\",\"773, 264\"],[\"264\",\"773, 2189\"],[\"773, 302\",\"2189\"],[\"773, 2189\",\"302\"],[\"302, 2189\",\"773\"],[\"773\",\"302, 2189\"],[\"2189\",\"773, 302\"],[\"3846, 302\",\"2571\"],[\"3846, 2571\",\"302\"],[\"302, 2571\",\"3846\"],[\"3846\",\"302, 2571\"],[\"2571\",\"3846, 302\"],[\"3846, 3694\",\"2571\"],[\"3846, 2571\",\"3694\"],[\"3694, 2571\",\"3846\"],[\"3846\",\"3694, 2571\"],[\"2571\",\"3846, 3694\"],[\"3610, 2804\",\"261\"],[\"3610, 261\",\"2804\"],[\"2804, 261\",\"3610\"],[\"3610\",\"2804, 261\"],[\"261\",\"3610, 2804\"],[\"432, 2804\",\"261\"],[\"432, 261\",\"2804\"],[\"2804, 261\",\"432\"],[\"432\",\"2804, 261\"],[\"261\",\"432, 2804\"],[\"3610, 432\",\"261\"],[\"3610, 261\",\"432\"],[\"432, 261\",\"3610\"],[\"3610\",\"432, 261\"],[\"432\",\"3610, 261\"],[\"261\",\"3610, 432\"],[\"984, 2690\",\"3308\"],[\"984, 3308\",\"2690\"],[\"2690, 3308\",\"984\"],[\"984\",\"2690, 3308\"],[\"2690\",\"984, 3308\"],[\"3308\",\"984, 2690\"],[\"2714, 669\",\"668\"],[\"2714, 668\",\"669\"],[\"669, 668\",\"2714\"],[\"669\",\"2714, 668\"],[\"668\",\"2714, 669\"],[\"3610, 432\",\"2804\"],[\"3610, 2804\",\"432\"],[\"432, 2804\",\"3610\"],[\"3610\",\"432, 2804\"],[\"432\",\"3610, 2804\"],[\"3261, 3694\",\"2992\"],[\"3261, 2992\",\"3694\"],[\"3694, 2992\",\"3261\"],[\"3093, 3092\",\"3090\"],[\"3093, 3090\",\"3092\"],[\"3092, 3090\",\"3093\"],[\"3093\",\"3092, 3090\"],[\"3092\",\"3093, 3090\"],[\"3090\",\"3093, 3092\"],[\"3742, 3745\",\"3756\"],[\"3742, 3756\",\"3745\"],[\"3745, 3756\",\"3742\"],[\"3745\",\"3742, 3756\"],[\"3742, 3760\",\"3756\"],[\"3742, 3756\",\"3760\"],[\"3760, 3756\",\"3742\"],[\"1937, 1934, 1927\",\"1939\"],[\"1937, 1939, 1927\",\"1934\"],[\"1937, 1934, 1939\",\"1927\"],[\"1939, 1934, 1927\",\"1937\"],[\"1937, 1927\",\"1934, 1939\"],[\"1937, 1934\",\"1939, 1927\"],[\"1937, 1939\",\"1934, 1927\"],[\"1934, 1927\",\"1937, 1939\"],[\"1939, 1927\",\"1937, 1934\"],[\"1934, 1939\",\"1937, 1927\"],[\"1937\",\"1939, 1934, 1927\"],[\"1927\",\"1937, 1934, 1939\"],[\"3610, 432, 2804\",\"261\"],[\"3610, 432, 261\",\"2804\"],[\"3610, 2804, 261\",\"432\"],[\"432, 2804, 261\",\"3610\"],[\"3610, 432\",\"2804, 261\"],[\"3610, 2804\",\"432, 261\"],[\"3610, 261\",\"432, 2804\"],[\"432, 2804\",\"3610, 261\"],[\"432, 261\",\"3610, 2804\"],[\"2804, 261\",\"3610, 432\"],[\"3610\",\"432, 2804, 261\"],[\"432\",\"3610, 2804, 261\"],[\"261\",\"3610, 432, 2804\"]],\"hovertemplate\":\"Dataset=After Sanitization\\u003cbr\\u003esupport=%{x}\\u003cbr\\u003econfidence=%{y}\\u003cbr\\u003elift=%{z}\\u003cbr\\u003eantecedents=%{customdata[0]}\\u003cbr\\u003econsequents=%{customdata[1]}\\u003cextra\\u003e\\u003c\\u002fextra\\u003e\",\"legendgroup\":\"After Sanitization\",\"marker\":{\"color\":\"#EF553B\",\"symbol\":\"circle\"},\"mode\":\"markers\",\"name\":\"After Sanitization\",\"scene\":\"scene\",\"showlegend\":true,\"x\":[0.02,0.02,0.02,0.02,0.02,0.02666666666666667,0.02,0.02,0.02,0.02,0.02,0.02,0.02,0.02,0.02,0.02,0.02,0.02,0.02,0.02,0.02,0.02666666666666667,0.02666666666666667,0.02,0.02,0.02,0.02,0.02,0.02,0.02,0.02,0.02,0.02,0.02,0.02666666666666667,0.02666666666666667,0.02,0.02,0.02,0.02,0.02,0.02666666666666667,0.02666666666666667,0.02,0.02,0.02,0.02,0.02,0.02,0.02,0.02,0.02,0.02,0.02666666666666667,0.02666666666666667,0.02666666666666667,0.02666666666666667,0.02,0.03333333333333333,0.03333333333333333,0.02,0.02,0.03333333333333333,0.03333333333333333,0.02,0.02,0.02,0.02,0.02,0.02666666666666667,0.02666666666666667,0.02,0.02,0.02,0.04,0.02,0.02,0.02,0.02,0.02,0.02,0.02,0.02,0.02666666666666667,0.03333333333333333,0.02666666666666667,0.02,0.03333333333333333,0.02666666666666667,0.03333333333333333,0.03333333333333333,0.04,0.02666666666666667,0.02,0.02,0.02,0.02,0.02,0.02,0.02,0.02,0.03333333333333333,0.03333333333333333,0.02,0.02,0.02666666666666667,0.02666666666666667,0.02666666666666667,0.02666666666666667,0.02,0.02,0.02,0.02,0.02,0.02,0.02666666666666667,0.02666666666666667,0.02,0.02,0.02,0.02,0.02,0.02666666666666667,0.02666666666666667,0.03333333333333333,0.03333333333333333,0.02,0.02,0.02,0.02,0.02,0.02666666666666667,0.02666666666666667,0.02,0.02,0.02,0.02,0.02,0.02,0.02,0.02,0.02,0.02,0.02666666666666667,0.02666666666666667,0.02,0.02,0.02,0.02,0.02,0.02666666666666667,0.02666666666666667,0.02,0.02,0.02,0.02,0.02,0.02,0.02,0.02666666666666667,0.02,0.02,0.02,0.02,0.02,0.02666666666666667,0.02666666666666667,0.02,0.02,0.02,0.02,0.02,0.02,0.02666666666666667,0.02666666666666667,0.02,0.04,0.04,0.02,0.02,0.02,0.02,0.02,0.02,0.02,0.02,0.03333333333333333,0.03333333333333333,0.02,0.02,0.02666666666666667,0.02,0.02,0.02,0.02,0.02,0.02,0.02,0.02,0.02,0.02,0.02,0.02,0.02,0.02,0.02,0.02666666666666667,0.02,0.02,0.02,0.02,0.02,0.02,0.02,0.02,0.02666666666666667,0.02,0.02,0.02,0.02,0.02,0.02666666666666667,0.02666666666666667,0.02,0.02,0.02,0.02666666666666667,0.02666666666666667,0.02,0.02,0.02,0.02,0.02,0.02666666666666667,0.02666666666666667,0.02,0.02,0.02,0.02,0.02,0.02,0.02,0.02,0.02,0.02,0.02,0.02,0.02666666666666667,0.02,0.02,0.02,0.02,0.02,0.03333333333333333,0.03333333333333333,0.02,0.03333333333333333,0.03333333333333333,0.02,0.02,0.02,0.02,0.02,0.02,0.02,0.02666666666666667,0.02666666666666667,0.02,0.02,0.02,0.02,0.02,0.02,0.02,0.02,0.02,0.02,0.02,0.02,0.02,0.02,0.02,0.02,0.02,0.02,0.02,0.02,0.02,0.02,0.02,0.02,0.02,0.02,0.02,0.02,0.02,0.02,0.02,0.02,0.02,0.02,0.02,0.02,0.02,0.02,0.02,0.02,0.02,0.02,0.02,0.02,0.02,0.02,0.02,0.02,0.02,0.02,0.02,0.02,0.02,0.02,0.02,0.02,0.02,0.02,0.02,0.02,0.02,0.02,0.02,0.02,0.02,0.02,0.02,0.02,0.02,0.02,0.02,0.02,0.02,0.02,0.02,0.02,0.02,0.02,0.02,0.02,0.02,0.02,0.02,0.02,0.02,0.02,0.02,0.02,0.02,0.02,0.02,0.02,0.02,0.02,0.02,0.02,0.02,0.02,0.02,0.02,0.02,0.02,0.02,0.02,0.02,0.02,0.02,0.02,0.02,0.02,0.02,0.02,0.02,0.02,0.02,0.02,0.02,0.02,0.02,0.02,0.02,0.02,0.02,0.02,0.02,0.02,0.02,0.02,0.02,0.02,0.02,0.02,0.02,0.02,0.02,0.02,0.02,0.02,0.02,0.02,0.02,0.02,0.02,0.02,0.02,0.02,0.02,0.02,0.02,0.02,0.02,0.02,0.02,0.02,0.02,0.02,0.02,0.02,0.02,0.02,0.02,0.02,0.02,0.02,0.02,0.02,0.02,0.02,0.02,0.02,0.02,0.02,0.02,0.02,0.02,0.02,0.02,0.02,0.02,0.02,0.02,0.02,0.02,0.02,0.02,0.02,0.02,0.02,0.02,0.02,0.02,0.02,0.02,0.02,0.02,0.02,0.02,0.02,0.02,0.02,0.02,0.02,0.02,0.02,0.02,0.02,0.02,0.02],\"y\":[0.6,0.5,0.6,0.6,0.5,0.5,0.6,0.6,0.6,0.75,0.75,0.75,0.6,0.6,0.5,0.5,0.6,0.5,0.5,1.0,1.0,0.6666666666666667,0.5,0.5,0.6,0.6,0.6,0.75,0.6,0.75,0.6,0.75,0.6,0.75,0.6666666666666667,1.0,0.5,0.75,0.5,0.75,0.75,0.5,0.6666666666666667,0.6,0.75,0.75,0.5,0.75,0.6,0.75,0.75,0.6,0.6,0.5,0.8,0.5,0.5714285714285714,0.75,0.625,0.8333333333333333,1.0,0.75,0.5555555555555556,0.8333333333333333,0.5,0.75,0.5,0.75,1.0,1.0,0.5,0.5,0.5,0.75,0.8571428571428571,0.5,0.6,0.75,0.75,1.0,0.6,0.6,0.6,1.0,0.8333333333333333,1.0,0.6,0.7142857142857142,0.8,0.625,0.8333333333333333,0.6666666666666667,0.8,1.0,0.5,1.0,0.5,0.75,0.75,0.75,0.6,1.0,1.0,0.6,0.5,0.6666666666666667,0.6666666666666667,0.6666666666666667,0.5,0.5,0.5,0.75,0.5,0.5,0.5,0.5,0.6666666666666667,0.5,0.75,0.5,0.5,0.5,0.6666666666666667,0.5714285714285714,0.7142857142857142,0.625,0.75,0.75,0.5,0.6,0.5,0.6666666666666667,0.6666666666666667,0.75,0.75,0.75,0.75,0.6,1.0,0.6,1.0,0.6,0.6,0.8,0.8,1.0,0.6,0.75,0.75,0.75,1.0,1.0,0.5,1.0,1.0,0.5,0.5,0.5,0.5,0.5,0.75,0.75,0.5,0.75,0.75,0.6666666666666667,0.5,0.75,0.5,0.75,1.0,0.6,0.6,1.0,0.8,0.6,0.6666666666666667,0.5454545454545454,0.6,0.75,0.6,0.5,0.6,0.75,0.75,0.75,0.7142857142857142,0.8333333333333333,0.5,0.6,0.6666666666666667,0.75,0.5,0.75,0.5,0.75,0.6,1.0,0.75,0.5,0.6,0.5,0.6,0.6,0.6,0.75,0.5,0.5,0.6,0.75,1.0,0.6,0.75,0.75,0.75,0.6666666666666667,1.0,0.75,0.75,1.0,0.75,0.6666666666666667,1.0,0.5,1.0,0.6,0.5714285714285714,1.0,1.0,0.6,0.6,0.6,0.6,1.0,0.8,0.75,1.0,0.6,0.75,0.75,0.75,0.5,0.6,1.0,0.6,0.75,0.75,1.0,0.5,1.0,0.5,1.0,0.6,0.7142857142857142,0.5555555555555556,0.6,0.625,0.5555555555555556,0.75,1.0,1.0,0.75,0.5,0.75,1.0,0.5714285714285714,0.6666666666666667,1.0,1.0,1.0,1.0,0.6,0.6,0.75,1.0,1.0,0.5,1.0,1.0,1.0,1.0,0.6,0.6,0.75,1.0,0.75,1.0,0.75,0.5,1.0,0.75,0.75,0.75,0.6,1.0,0.75,1.0,0.5,1.0,0.75,0.75,0.5,1.0,0.6,1.0,0.6,0.5,0.5,0.6,1.0,0.6,0.5,0.5,1.0,0.75,0.6,1.0,1.0,0.75,0.75,1.0,0.6,1.0,0.6,0.6,1.0,0.6,1.0,0.6,0.6,0.75,0.75,1.0,0.5,0.5,1.0,0.75,0.6,0.5,0.75,1.0,0.75,0.5,0.5,1.0,0.75,1.0,0.5,0.6,1.0,0.75,0.5,1.0,1.0,0.75,0.75,0.5,0.75,1.0,0.6,0.5,1.0,1.0,1.0,0.75,0.75,1.0,1.0,1.0,0.75,1.0,0.75,1.0,0.6,0.6,1.0,1.0,0.75,1.0,0.6,0.6,0.75,1.0,1.0,0.75,0.75,0.75,1.0,0.75,1.0,0.75,0.75,1.0,0.75,1.0,0.75,0.6,1.0,0.75,1.0,0.75,0.6,1.0,1.0,1.0,0.75,0.6,1.0,1.0,1.0,0.5,0.6,1.0,1.0,1.0,0.75,0.5,0.6,1.0,0.75,1.0,0.75,0.5,0.6,1.0,1.0,1.0,0.75,0.5,1.0,1.0,1.0,0.75,0.5,1.0,1.0,0.75,1.0,0.75,1.0,0.5,1.0,0.75,1.0,0.6,1.0,0.6,1.0,0.6,0.6,1.0,1.0,1.0,1.0,0.75,0.75,1.0,1.0,0.75,0.6,0.5,0.5,1.0,1.0,1.0,1.0,1.0,1.0,1.0,1.0,1.0,1.0,0.75,0.5,0.6],\"z\":[9.0,15.0,15.0,5.294117647058823,7.5,7.5,18.0,18.0,12.857142857142856,6.61764705882353,14.062499999999998,22.5,22.499999999999996,11.249999999999998,12.5,12.5,15.0,15.0,25.0,25.0,18.75,12.5,12.5,7.5,18.0,18.0,22.499999999999996,22.5,22.499999999999996,22.5,8.181818181818182,22.5,22.499999999999996,7.031249999999999,25.0,25.0,6.25,18.75,18.75,28.124999999999996,28.124999999999996,12.5,12.5,11.249999999999998,11.25,18.75,18.75,7.031249999999999,22.499999999999996,22.5,14.062499999999998,11.249999999999998,11.249999999999998,15.0,15.0,10.714285714285714,10.714285714285714,14.062499999999998,15.625,15.624999999999998,16.666666666666668,12.5,13.88888888888889,13.888888888888888,7.5,12.5,8.333333333333334,12.5,21.428571428571427,18.75,18.75,8.333333333333334,7.5,16.07142857142857,7.563025210084033,10.714285714285714,5.294117647058823,6.61764705882353,37.5,37.5,5.294117647058823,11.249999999999998,10.0,8.823529411764707,7.352941176470588,8.823529411764707,5.294117647058823,6.302521008403361,7.058823529411765,5.514705882352941,7.352941176470588,5.882352941176472,7.058823529411765,16.666666666666668,9.375,15.0,18.75,18.75,14.062499999999998,7.031249999999999,9.0,30.0,30.0,5.624999999999999,10.714285714285714,16.666666666666668,16.666666666666668,12.5,12.5,9.375,9.375,14.062499999999998,10.714285714285714,12.5,12.5,12.5,12.5,10.714285714285714,18.75,18.75,12.5,12.5,14.285714285714286,14.285714285714285,13.39285714285714,13.392857142857142,16.07142857142857,16.07142857142857,10.714285714285714,10.0,9.375,16.666666666666668,16.666666666666668,14.062499999999998,14.062499999999998,28.124999999999996,28.124999999999996,5.624999999999999,30.0,30.0,30.0,30.0,12.857142857142856,24.0,24.0,30.0,30.0,28.124999999999996,28.124999999999996,16.07142857142857,37.5,37.5,25.0,25.0,25.0,25.0,7.5,9.375,9.375,7.5,11.25,11.25,7.5,7.031249999999999,7.031249999999999,12.5,12.5,14.062499999999998,8.333333333333334,37.5,37.5,12.857142857142856,5.624999999999999,30.0,30.0,10.0,9.090909090909092,9.09090909090909,8.181818181818182,22.5,22.499999999999996,15.0,15.0,16.07142857142857,28.124999999999996,28.124999999999996,17.857142857142854,17.857142857142854,15.0,15.0,6.25,18.75,18.75,16.07142857142857,10.714285714285714,16.07142857142857,12.857142857142856,13.636363636363637,10.227272727272727,6.818181818181818,10.0,15.0,15.0,5.624999999999999,22.499999999999996,22.5,4.6875,8.333333333333334,9.0,37.5,37.5,12.857142857142856,16.07142857142857,16.07142857142857,11.25,6.25,37.5,37.5,16.07142857142857,37.5,37.5,25.0,25.0,25.0,25.0,5.624999999999999,21.428571428571427,21.428571428571427,9.375,18.0,18.0,18.0,18.0,30.0,30.0,7.031249999999999,30.0,30.0,28.124999999999996,28.124999999999996,18.75,18.75,30.0,30.0,22.499999999999996,22.5,7.031249999999999,9.375,25.0,25.0,25.0,25.0,12.857142857142856,11.904761904761903,11.904761904761905,10.0,10.416666666666668,10.416666666666666,37.5,37.5,21.428571428571427,18.75,18.75,37.5,37.5,14.285714285714285,14.285714285714286,21.428571428571427,21.428571428571427,30.0,30.0,30.0,30.0,37.5,18.75,25.0,25.0,37.5,37.5,30.0,30.0,30.0,30.0,37.5,25.0,28.124999999999996,9.375,28.124999999999996,25.0,30.0,14.062499999999998,28.124999999999996,28.124999999999996,30.0,15.0,7.031249999999999,16.666666666666668,18.75,8.823529411764707,16.07142857142857,18.75,9.375,8.823529411764707,12.857142857142856,8.823529411764707,12.857142857142856,12.5,12.5,11.249999999999998,8.823529411764707,15.0,15.0,15.0,8.823529411764707,12.5,15.0,18.75,9.375,28.124999999999996,28.124999999999996,30.0,9.0,30.0,30.0,30.0,30.0,5.624999999999999,30.0,30.0,30.0,18.75,16.07142857142857,25.0,25.0,18.75,18.75,16.07142857142857,15.0,15.0,14.062499999999998,25.0,18.75,18.75,25.0,21.428571428571427,14.062499999999998,25.0,25.0,15.0,18.75,16.07142857142857,15.0,25.0,18.75,28.124999999999996,28.124999999999996,25.0,14.062499999999998,21.428571428571427,15.0,15.0,37.5,37.5,21.428571428571427,37.5,37.5,37.5,15.0,18.75,37.5,30.0,16.07142857142857,30.0,30.0,30.0,30.0,30.0,37.5,37.5,30.0,30.0,28.124999999999996,37.5,37.5,37.5,37.5,28.124999999999996,37.5,16.07142857142857,37.5,37.5,37.5,30.0,16.07142857142857,37.5,37.5,30.0,30.0,7.031249999999999,37.5,37.5,30.0,30.0,13.636363636363637,37.5,37.5,30.0,30.0,13.636363636363637,25.0,25.0,30.0,30.0,25.0,37.5,37.5,25.0,30.0,30.0,18.75,37.5,37.5,18.75,30.0,25.0,37.5,21.428571428571427,37.5,25.0,13.636363636363637,25.0,37.5,37.5,25.0,18.75,9.375,16.07142857142857,37.5,37.5,25.0,25.0,37.5,37.5,16.666666666666668,18.0,21.428571428571427,18.0,16.666666666666668,11.249999999999998,12.857142857142856,18.75,21.428571428571427,25.0,25.0,22.5,28.124999999999996,50.0,50.0,28.124999999999996,22.499999999999996,25.0,25.0,30.0,13.636363636363637,25.0,37.5,50.0,50.0,50.0,50.0,50.0,50.0,37.5,25.0,30.0],\"type\":\"scatter3d\"}],                        {\"template\":{\"data\":{\"histogram2dcontour\":[{\"type\":\"histogram2dcontour\",\"colorbar\":{\"outlinewidth\":0,\"ticks\":\"\"},\"colorscale\":[[0.0,\"#0d0887\"],[0.1111111111111111,\"#46039f\"],[0.2222222222222222,\"#7201a8\"],[0.3333333333333333,\"#9c179e\"],[0.4444444444444444,\"#bd3786\"],[0.5555555555555556,\"#d8576b\"],[0.6666666666666666,\"#ed7953\"],[0.7777777777777778,\"#fb9f3a\"],[0.8888888888888888,\"#fdca26\"],[1.0,\"#f0f921\"]]}],\"choropleth\":[{\"type\":\"choropleth\",\"colorbar\":{\"outlinewidth\":0,\"ticks\":\"\"}}],\"histogram2d\":[{\"type\":\"histogram2d\",\"colorbar\":{\"outlinewidth\":0,\"ticks\":\"\"},\"colorscale\":[[0.0,\"#0d0887\"],[0.1111111111111111,\"#46039f\"],[0.2222222222222222,\"#7201a8\"],[0.3333333333333333,\"#9c179e\"],[0.4444444444444444,\"#bd3786\"],[0.5555555555555556,\"#d8576b\"],[0.6666666666666666,\"#ed7953\"],[0.7777777777777778,\"#fb9f3a\"],[0.8888888888888888,\"#fdca26\"],[1.0,\"#f0f921\"]]}],\"heatmap\":[{\"type\":\"heatmap\",\"colorbar\":{\"outlinewidth\":0,\"ticks\":\"\"},\"colorscale\":[[0.0,\"#0d0887\"],[0.1111111111111111,\"#46039f\"],[0.2222222222222222,\"#7201a8\"],[0.3333333333333333,\"#9c179e\"],[0.4444444444444444,\"#bd3786\"],[0.5555555555555556,\"#d8576b\"],[0.6666666666666666,\"#ed7953\"],[0.7777777777777778,\"#fb9f3a\"],[0.8888888888888888,\"#fdca26\"],[1.0,\"#f0f921\"]]}],\"heatmapgl\":[{\"type\":\"heatmapgl\",\"colorbar\":{\"outlinewidth\":0,\"ticks\":\"\"},\"colorscale\":[[0.0,\"#0d0887\"],[0.1111111111111111,\"#46039f\"],[0.2222222222222222,\"#7201a8\"],[0.3333333333333333,\"#9c179e\"],[0.4444444444444444,\"#bd3786\"],[0.5555555555555556,\"#d8576b\"],[0.6666666666666666,\"#ed7953\"],[0.7777777777777778,\"#fb9f3a\"],[0.8888888888888888,\"#fdca26\"],[1.0,\"#f0f921\"]]}],\"contourcarpet\":[{\"type\":\"contourcarpet\",\"colorbar\":{\"outlinewidth\":0,\"ticks\":\"\"}}],\"contour\":[{\"type\":\"contour\",\"colorbar\":{\"outlinewidth\":0,\"ticks\":\"\"},\"colorscale\":[[0.0,\"#0d0887\"],[0.1111111111111111,\"#46039f\"],[0.2222222222222222,\"#7201a8\"],[0.3333333333333333,\"#9c179e\"],[0.4444444444444444,\"#bd3786\"],[0.5555555555555556,\"#d8576b\"],[0.6666666666666666,\"#ed7953\"],[0.7777777777777778,\"#fb9f3a\"],[0.8888888888888888,\"#fdca26\"],[1.0,\"#f0f921\"]]}],\"surface\":[{\"type\":\"surface\",\"colorbar\":{\"outlinewidth\":0,\"ticks\":\"\"},\"colorscale\":[[0.0,\"#0d0887\"],[0.1111111111111111,\"#46039f\"],[0.2222222222222222,\"#7201a8\"],[0.3333333333333333,\"#9c179e\"],[0.4444444444444444,\"#bd3786\"],[0.5555555555555556,\"#d8576b\"],[0.6666666666666666,\"#ed7953\"],[0.7777777777777778,\"#fb9f3a\"],[0.8888888888888888,\"#fdca26\"],[1.0,\"#f0f921\"]]}],\"mesh3d\":[{\"type\":\"mesh3d\",\"colorbar\":{\"outlinewidth\":0,\"ticks\":\"\"}}],\"scatter\":[{\"fillpattern\":{\"fillmode\":\"overlay\",\"size\":10,\"solidity\":0.2},\"type\":\"scatter\"}],\"parcoords\":[{\"type\":\"parcoords\",\"line\":{\"colorbar\":{\"outlinewidth\":0,\"ticks\":\"\"}}}],\"scatterpolargl\":[{\"type\":\"scatterpolargl\",\"marker\":{\"colorbar\":{\"outlinewidth\":0,\"ticks\":\"\"}}}],\"bar\":[{\"error_x\":{\"color\":\"#2a3f5f\"},\"error_y\":{\"color\":\"#2a3f5f\"},\"marker\":{\"line\":{\"color\":\"#E5ECF6\",\"width\":0.5},\"pattern\":{\"fillmode\":\"overlay\",\"size\":10,\"solidity\":0.2}},\"type\":\"bar\"}],\"scattergeo\":[{\"type\":\"scattergeo\",\"marker\":{\"colorbar\":{\"outlinewidth\":0,\"ticks\":\"\"}}}],\"scatterpolar\":[{\"type\":\"scatterpolar\",\"marker\":{\"colorbar\":{\"outlinewidth\":0,\"ticks\":\"\"}}}],\"histogram\":[{\"marker\":{\"pattern\":{\"fillmode\":\"overlay\",\"size\":10,\"solidity\":0.2}},\"type\":\"histogram\"}],\"scattergl\":[{\"type\":\"scattergl\",\"marker\":{\"colorbar\":{\"outlinewidth\":0,\"ticks\":\"\"}}}],\"scatter3d\":[{\"type\":\"scatter3d\",\"line\":{\"colorbar\":{\"outlinewidth\":0,\"ticks\":\"\"}},\"marker\":{\"colorbar\":{\"outlinewidth\":0,\"ticks\":\"\"}}}],\"scattermapbox\":[{\"type\":\"scattermapbox\",\"marker\":{\"colorbar\":{\"outlinewidth\":0,\"ticks\":\"\"}}}],\"scatterternary\":[{\"type\":\"scatterternary\",\"marker\":{\"colorbar\":{\"outlinewidth\":0,\"ticks\":\"\"}}}],\"scattercarpet\":[{\"type\":\"scattercarpet\",\"marker\":{\"colorbar\":{\"outlinewidth\":0,\"ticks\":\"\"}}}],\"carpet\":[{\"aaxis\":{\"endlinecolor\":\"#2a3f5f\",\"gridcolor\":\"white\",\"linecolor\":\"white\",\"minorgridcolor\":\"white\",\"startlinecolor\":\"#2a3f5f\"},\"baxis\":{\"endlinecolor\":\"#2a3f5f\",\"gridcolor\":\"white\",\"linecolor\":\"white\",\"minorgridcolor\":\"white\",\"startlinecolor\":\"#2a3f5f\"},\"type\":\"carpet\"}],\"table\":[{\"cells\":{\"fill\":{\"color\":\"#EBF0F8\"},\"line\":{\"color\":\"white\"}},\"header\":{\"fill\":{\"color\":\"#C8D4E3\"},\"line\":{\"color\":\"white\"}},\"type\":\"table\"}],\"barpolar\":[{\"marker\":{\"line\":{\"color\":\"#E5ECF6\",\"width\":0.5},\"pattern\":{\"fillmode\":\"overlay\",\"size\":10,\"solidity\":0.2}},\"type\":\"barpolar\"}],\"pie\":[{\"automargin\":true,\"type\":\"pie\"}]},\"layout\":{\"autotypenumbers\":\"strict\",\"colorway\":[\"#636efa\",\"#EF553B\",\"#00cc96\",\"#ab63fa\",\"#FFA15A\",\"#19d3f3\",\"#FF6692\",\"#B6E880\",\"#FF97FF\",\"#FECB52\"],\"font\":{\"color\":\"#2a3f5f\"},\"hovermode\":\"closest\",\"hoverlabel\":{\"align\":\"left\"},\"paper_bgcolor\":\"white\",\"plot_bgcolor\":\"#E5ECF6\",\"polar\":{\"bgcolor\":\"#E5ECF6\",\"angularaxis\":{\"gridcolor\":\"white\",\"linecolor\":\"white\",\"ticks\":\"\"},\"radialaxis\":{\"gridcolor\":\"white\",\"linecolor\":\"white\",\"ticks\":\"\"}},\"ternary\":{\"bgcolor\":\"#E5ECF6\",\"aaxis\":{\"gridcolor\":\"white\",\"linecolor\":\"white\",\"ticks\":\"\"},\"baxis\":{\"gridcolor\":\"white\",\"linecolor\":\"white\",\"ticks\":\"\"},\"caxis\":{\"gridcolor\":\"white\",\"linecolor\":\"white\",\"ticks\":\"\"}},\"coloraxis\":{\"colorbar\":{\"outlinewidth\":0,\"ticks\":\"\"}},\"colorscale\":{\"sequential\":[[0.0,\"#0d0887\"],[0.1111111111111111,\"#46039f\"],[0.2222222222222222,\"#7201a8\"],[0.3333333333333333,\"#9c179e\"],[0.4444444444444444,\"#bd3786\"],[0.5555555555555556,\"#d8576b\"],[0.6666666666666666,\"#ed7953\"],[0.7777777777777778,\"#fb9f3a\"],[0.8888888888888888,\"#fdca26\"],[1.0,\"#f0f921\"]],\"sequentialminus\":[[0.0,\"#0d0887\"],[0.1111111111111111,\"#46039f\"],[0.2222222222222222,\"#7201a8\"],[0.3333333333333333,\"#9c179e\"],[0.4444444444444444,\"#bd3786\"],[0.5555555555555556,\"#d8576b\"],[0.6666666666666666,\"#ed7953\"],[0.7777777777777778,\"#fb9f3a\"],[0.8888888888888888,\"#fdca26\"],[1.0,\"#f0f921\"]],\"diverging\":[[0,\"#8e0152\"],[0.1,\"#c51b7d\"],[0.2,\"#de77ae\"],[0.3,\"#f1b6da\"],[0.4,\"#fde0ef\"],[0.5,\"#f7f7f7\"],[0.6,\"#e6f5d0\"],[0.7,\"#b8e186\"],[0.8,\"#7fbc41\"],[0.9,\"#4d9221\"],[1,\"#276419\"]]},\"xaxis\":{\"gridcolor\":\"white\",\"linecolor\":\"white\",\"ticks\":\"\",\"title\":{\"standoff\":15},\"zerolinecolor\":\"white\",\"automargin\":true,\"zerolinewidth\":2},\"yaxis\":{\"gridcolor\":\"white\",\"linecolor\":\"white\",\"ticks\":\"\",\"title\":{\"standoff\":15},\"zerolinecolor\":\"white\",\"automargin\":true,\"zerolinewidth\":2},\"scene\":{\"xaxis\":{\"backgroundcolor\":\"#E5ECF6\",\"gridcolor\":\"white\",\"linecolor\":\"white\",\"showbackground\":true,\"ticks\":\"\",\"zerolinecolor\":\"white\",\"gridwidth\":2},\"yaxis\":{\"backgroundcolor\":\"#E5ECF6\",\"gridcolor\":\"white\",\"linecolor\":\"white\",\"showbackground\":true,\"ticks\":\"\",\"zerolinecolor\":\"white\",\"gridwidth\":2},\"zaxis\":{\"backgroundcolor\":\"#E5ECF6\",\"gridcolor\":\"white\",\"linecolor\":\"white\",\"showbackground\":true,\"ticks\":\"\",\"zerolinecolor\":\"white\",\"gridwidth\":2}},\"shapedefaults\":{\"line\":{\"color\":\"#2a3f5f\"}},\"annotationdefaults\":{\"arrowcolor\":\"#2a3f5f\",\"arrowhead\":0,\"arrowwidth\":1},\"geo\":{\"bgcolor\":\"white\",\"landcolor\":\"#E5ECF6\",\"subunitcolor\":\"white\",\"showland\":true,\"showlakes\":true,\"lakecolor\":\"white\"},\"title\":{\"x\":0.05},\"mapbox\":{\"style\":\"light\"}}},\"scene\":{\"domain\":{\"x\":[0.0,1.0],\"y\":[0.0,1.0]},\"xaxis\":{\"title\":{\"text\":\"support\"}},\"yaxis\":{\"title\":{\"text\":\"confidence\"}},\"zaxis\":{\"title\":{\"text\":\"lift\"}}},\"legend\":{\"title\":{\"text\":\"Dataset\"},\"tracegroupgap\":0},\"margin\":{\"t\":60}},                        {\"responsive\": true}                    ).then(function(){\n",
       "                            \n",
       "var gd = document.getElementById('f311e5f4-0921-45b3-afeb-a893166d439e');\n",
       "var x = new MutationObserver(function (mutations, observer) {{\n",
       "        var display = window.getComputedStyle(gd).display;\n",
       "        if (!display || display === 'none') {{\n",
       "            console.log([gd, 'removed!']);\n",
       "            Plotly.purge(gd);\n",
       "            observer.disconnect();\n",
       "        }}\n",
       "}});\n",
       "\n",
       "// Listen for the removal of the full notebook cells\n",
       "var notebookContainer = gd.closest('#notebook-container');\n",
       "if (notebookContainer) {{\n",
       "    x.observe(notebookContainer, {childList: true});\n",
       "}}\n",
       "\n",
       "// Listen for the clearing of the current output cell\n",
       "var outputEl = gd.closest('.output');\n",
       "if (outputEl) {{\n",
       "    x.observe(outputEl, {childList: true});\n",
       "}}\n",
       "\n",
       "                        })                };                });            </script>        </div>"
      ]
     },
     "metadata": {},
     "output_type": "display_data"
    }
   ],
   "source": [
    "import pandas as pd\n",
    "\n",
    "# Function to convert frozensets to a string representation\n",
    "def frozenset_to_string(frozenset_column):\n",
    "    return frozenset_column.apply(lambda x: ', '.join(x))\n",
    "\n",
    "# Apply the conversion to both DataFrames\n",
    "rules['antecedents'] = frozenset_to_string(rules['antecedents'])\n",
    "rules['consequents'] = frozenset_to_string(rules['consequents'])\n",
    "rules_after_hidden['antecedents'] = frozenset_to_string(rules_after_hidden['antecedents'])\n",
    "rules_after_hidden['consequents'] = frozenset_to_string(rules_after_hidden['consequents'])\n",
    "\n",
    "# Add a column to distinguish between the two sets of rules\n",
    "rules['Dataset'] = 'Before Sanitization'\n",
    "rules_after_hidden['Dataset'] = 'After Sanitization'\n",
    "\n",
    "# Combine the two DataFrames for plotting\n",
    "combined_rules = pd.concat([rules, rules_after_hidden])\n",
    "\n",
    "# Now, you should be able to plot without errors\n",
    "import plotly.express as px\n",
    "\n",
    "fig = px.scatter_3d(combined_rules,\n",
    "                    x='support',\n",
    "                    y='confidence',\n",
    "                    z='lift',\n",
    "                    color='Dataset',\n",
    "                    hover_data=['antecedents', 'consequents'])\n",
    "\n",
    "fig.show()\n"
   ]
  }
 ],
 "metadata": {
  "kernelspec": {
   "display_name": "Python 3 (ipykernel)",
   "language": "python",
   "name": "python3"
  },
  "language_info": {
   "codemirror_mode": {
    "name": "ipython",
    "version": 3
   },
   "file_extension": ".py",
   "mimetype": "text/x-python",
   "name": "python",
   "nbconvert_exporter": "python",
   "pygments_lexer": "ipython3",
   "version": "3.9.0"
  }
 },
 "nbformat": 4,
 "nbformat_minor": 2
}
