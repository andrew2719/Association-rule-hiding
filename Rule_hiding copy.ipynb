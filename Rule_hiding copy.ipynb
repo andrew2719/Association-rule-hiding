{
 "cells": [
  {
   "cell_type": "code",
   "execution_count": 1,
   "metadata": {},
   "outputs": [],
   "source": [
    "# Data Handling\n",
    "#===================\n",
    "import pandas as pd\n",
    "\n",
    "# Data Handling\n",
    "#===================\n",
    "from mlxtend.frequent_patterns import apriori, association_rules\n",
    "\n",
    "# Visualization\n",
    "#===================\n",
    "import matplotlib.pyplot as plt\n",
    "import seaborn as sns\n",
    "import plotly.express as px\n",
    "import os\n",
    "# Warnings\n",
    "#===================\n",
    "import warnings\n",
    "warnings.filterwarnings('ignore')"
   ]
  },
  {
   "cell_type": "code",
   "execution_count": 2,
   "metadata": {},
   "outputs": [],
   "source": [
    "# print(os.listdir(\"../datasets/walmart\"))\n",
    "# path = \"../datasets/walmart/\""
   ]
  },
  {
   "cell_type": "code",
   "execution_count": 2,
   "metadata": {},
   "outputs": [
    {
     "data": {
      "text/html": [
       "<div>\n",
       "<style scoped>\n",
       "    .dataframe tbody tr th:only-of-type {\n",
       "        vertical-align: middle;\n",
       "    }\n",
       "\n",
       "    .dataframe tbody tr th {\n",
       "        vertical-align: top;\n",
       "    }\n",
       "\n",
       "    .dataframe thead th {\n",
       "        text-align: right;\n",
       "    }\n",
       "</style>\n",
       "<table border=\"1\" class=\"dataframe\">\n",
       "  <thead>\n",
       "    <tr style=\"text-align: right;\">\n",
       "      <th></th>\n",
       "      <th>BillNo</th>\n",
       "      <th>Itemname</th>\n",
       "      <th>Quantity</th>\n",
       "      <th>Date</th>\n",
       "      <th>Price</th>\n",
       "      <th>CustomerID</th>\n",
       "      <th>Country</th>\n",
       "    </tr>\n",
       "  </thead>\n",
       "  <tbody>\n",
       "    <tr>\n",
       "      <th>0</th>\n",
       "      <td>536365</td>\n",
       "      <td>WHITE HANGING HEART T-LIGHT HOLDER</td>\n",
       "      <td>6</td>\n",
       "      <td>01.12.2010 08:26</td>\n",
       "      <td>2.55</td>\n",
       "      <td>17850.0</td>\n",
       "      <td>United Kingdom</td>\n",
       "    </tr>\n",
       "    <tr>\n",
       "      <th>1</th>\n",
       "      <td>536365</td>\n",
       "      <td>WHITE METAL LANTERN</td>\n",
       "      <td>6</td>\n",
       "      <td>01.12.2010 08:26</td>\n",
       "      <td>3.39</td>\n",
       "      <td>17850.0</td>\n",
       "      <td>United Kingdom</td>\n",
       "    </tr>\n",
       "    <tr>\n",
       "      <th>2</th>\n",
       "      <td>536365</td>\n",
       "      <td>CREAM CUPID HEARTS COAT HANGER</td>\n",
       "      <td>8</td>\n",
       "      <td>01.12.2010 08:26</td>\n",
       "      <td>2.75</td>\n",
       "      <td>17850.0</td>\n",
       "      <td>United Kingdom</td>\n",
       "    </tr>\n",
       "    <tr>\n",
       "      <th>3</th>\n",
       "      <td>536365</td>\n",
       "      <td>KNITTED UNION FLAG HOT WATER BOTTLE</td>\n",
       "      <td>6</td>\n",
       "      <td>01.12.2010 08:26</td>\n",
       "      <td>3.39</td>\n",
       "      <td>17850.0</td>\n",
       "      <td>United Kingdom</td>\n",
       "    </tr>\n",
       "    <tr>\n",
       "      <th>4</th>\n",
       "      <td>536365</td>\n",
       "      <td>RED WOOLLY HOTTIE WHITE HEART.</td>\n",
       "      <td>6</td>\n",
       "      <td>01.12.2010 08:26</td>\n",
       "      <td>3.39</td>\n",
       "      <td>17850.0</td>\n",
       "      <td>United Kingdom</td>\n",
       "    </tr>\n",
       "  </tbody>\n",
       "</table>\n",
       "</div>"
      ],
      "text/plain": [
       "   BillNo                             Itemname  Quantity              Date  \\\n",
       "0  536365   WHITE HANGING HEART T-LIGHT HOLDER         6  01.12.2010 08:26   \n",
       "1  536365                  WHITE METAL LANTERN         6  01.12.2010 08:26   \n",
       "2  536365       CREAM CUPID HEARTS COAT HANGER         8  01.12.2010 08:26   \n",
       "3  536365  KNITTED UNION FLAG HOT WATER BOTTLE         6  01.12.2010 08:26   \n",
       "4  536365       RED WOOLLY HOTTIE WHITE HEART.         6  01.12.2010 08:26   \n",
       "\n",
       "   Price  CustomerID         Country  \n",
       "0   2.55     17850.0  United Kingdom  \n",
       "1   3.39     17850.0  United Kingdom  \n",
       "2   2.75     17850.0  United Kingdom  \n",
       "3   3.39     17850.0  United Kingdom  \n",
       "4   3.39     17850.0  United Kingdom  "
      ]
     },
     "execution_count": 2,
     "metadata": {},
     "output_type": "execute_result"
    }
   ],
   "source": [
    "df = pd.read_csv('Assignment-1_Data.csv',sep=';',decimal=',',low_memory=False)\n",
    "df.head()"
   ]
  },
  {
   "cell_type": "code",
   "execution_count": 3,
   "metadata": {},
   "outputs": [
    {
     "name": "stdout",
     "output_type": "stream",
     "text": [
      "##################################################\n",
      "                Dataset Information\n",
      "##################################################\n",
      "The Dataset has 7 columns and 522064 rows.\n",
      "The DataFrame has 5286 duplicated values and 135496 missing values.\n",
      "<class 'pandas.core.frame.DataFrame'>\n",
      "RangeIndex: 522064 entries, 0 to 522063\n",
      "Data columns (total 7 columns):\n",
      " #   Column      Non-Null Count   Dtype  \n",
      "---  ------      --------------   -----  \n",
      " 0   BillNo      522064 non-null  object \n",
      " 1   Itemname    520609 non-null  object \n",
      " 2   Quantity    522064 non-null  int64  \n",
      " 3   Date        522064 non-null  object \n",
      " 4   Price       522064 non-null  float64\n",
      " 5   CustomerID  388023 non-null  float64\n",
      " 6   Country     522064 non-null  object \n",
      "dtypes: float64(2), int64(1), object(4)\n",
      "memory usage: 27.9+ MB\n",
      "None\n"
     ]
    }
   ],
   "source": [
    "print(\"#\" * 50)\n",
    "print(\" \" * 15, \"Dataset Information\")\n",
    "print(\"#\" * 50)\n",
    "print(\"The Dataset has {} columns and {} rows.\".format(df.shape[1], df.shape[0]))\n",
    "print(\"The DataFrame has {} duplicated values and {} missing values.\".format(df.duplicated().sum(), df.isnull().sum().sum()))\n",
    "print(df.info())"
   ]
  },
  {
   "cell_type": "code",
   "execution_count": 4,
   "metadata": {},
   "outputs": [
    {
     "data": {
      "text/plain": [
       "(516778, 7)"
      ]
     },
     "execution_count": 4,
     "metadata": {},
     "output_type": "execute_result"
    }
   ],
   "source": [
    "df.drop_duplicates(inplace=True)\n",
    "# get the no of rows and columns\n",
    "df.shape"
   ]
  },
  {
   "cell_type": "code",
   "execution_count": 5,
   "metadata": {},
   "outputs": [
    {
     "name": "stdout",
     "output_type": "stream",
     "text": [
      "##############################\n",
      "      Null Distribution\n",
      "##############################\n"
     ]
    },
    {
     "data": {
      "text/html": [
       "<style type=\"text/css\">\n",
       "#T_93e45_row0_col0, #T_93e45_row0_col1 {\n",
       "  background-color: #00441b;\n",
       "  color: #f1f1f1;\n",
       "}\n",
       "#T_93e45_row1_col0, #T_93e45_row1_col1 {\n",
       "  background-color: #44034f;\n",
       "  color: #f1f1f1;\n",
       "}\n",
       "#T_93e45_row2_col0, #T_93e45_row2_col1, #T_93e45_row3_col0, #T_93e45_row3_col1, #T_93e45_row4_col0, #T_93e45_row4_col1, #T_93e45_row5_col0, #T_93e45_row5_col1, #T_93e45_row6_col0, #T_93e45_row6_col1 {\n",
       "  background-color: #40004b;\n",
       "  color: #f1f1f1;\n",
       "}\n",
       "</style>\n",
       "<table id=\"T_93e45\">\n",
       "  <thead>\n",
       "    <tr>\n",
       "      <th class=\"blank level0\" >&nbsp;</th>\n",
       "      <th id=\"T_93e45_level0_col0\" class=\"col_heading level0 col0\" >count</th>\n",
       "      <th id=\"T_93e45_level0_col1\" class=\"col_heading level0 col1\" >%</th>\n",
       "    </tr>\n",
       "  </thead>\n",
       "  <tbody>\n",
       "    <tr>\n",
       "      <th id=\"T_93e45_level0_row0\" class=\"row_heading level0 row0\" >CustomerID</th>\n",
       "      <td id=\"T_93e45_row0_col0\" class=\"data row0 col0\" >133967</td>\n",
       "      <td id=\"T_93e45_row0_col1\" class=\"data row0 col1\" >25.923511</td>\n",
       "    </tr>\n",
       "    <tr>\n",
       "      <th id=\"T_93e45_level0_row1\" class=\"row_heading level0 row1\" >Itemname</th>\n",
       "      <td id=\"T_93e45_row1_col0\" class=\"data row1 col0\" >1455</td>\n",
       "      <td id=\"T_93e45_row1_col1\" class=\"data row1 col1\" >0.281552</td>\n",
       "    </tr>\n",
       "    <tr>\n",
       "      <th id=\"T_93e45_level0_row2\" class=\"row_heading level0 row2\" >BillNo</th>\n",
       "      <td id=\"T_93e45_row2_col0\" class=\"data row2 col0\" >0</td>\n",
       "      <td id=\"T_93e45_row2_col1\" class=\"data row2 col1\" >0.000000</td>\n",
       "    </tr>\n",
       "    <tr>\n",
       "      <th id=\"T_93e45_level0_row3\" class=\"row_heading level0 row3\" >Quantity</th>\n",
       "      <td id=\"T_93e45_row3_col0\" class=\"data row3 col0\" >0</td>\n",
       "      <td id=\"T_93e45_row3_col1\" class=\"data row3 col1\" >0.000000</td>\n",
       "    </tr>\n",
       "    <tr>\n",
       "      <th id=\"T_93e45_level0_row4\" class=\"row_heading level0 row4\" >Date</th>\n",
       "      <td id=\"T_93e45_row4_col0\" class=\"data row4 col0\" >0</td>\n",
       "      <td id=\"T_93e45_row4_col1\" class=\"data row4 col1\" >0.000000</td>\n",
       "    </tr>\n",
       "    <tr>\n",
       "      <th id=\"T_93e45_level0_row5\" class=\"row_heading level0 row5\" >Price</th>\n",
       "      <td id=\"T_93e45_row5_col0\" class=\"data row5 col0\" >0</td>\n",
       "      <td id=\"T_93e45_row5_col1\" class=\"data row5 col1\" >0.000000</td>\n",
       "    </tr>\n",
       "    <tr>\n",
       "      <th id=\"T_93e45_level0_row6\" class=\"row_heading level0 row6\" >Country</th>\n",
       "      <td id=\"T_93e45_row6_col0\" class=\"data row6 col0\" >0</td>\n",
       "      <td id=\"T_93e45_row6_col1\" class=\"data row6 col1\" >0.000000</td>\n",
       "    </tr>\n",
       "  </tbody>\n",
       "</table>\n"
      ],
      "text/plain": [
       "<pandas.io.formats.style.Styler at 0x19bf7239550>"
      ]
     },
     "execution_count": 5,
     "metadata": {},
     "output_type": "execute_result"
    }
   ],
   "source": [
    "print(\"#\" * 30)\n",
    "print(\" \" * 5, \"Null Distribution\")\n",
    "print(\"#\" * 30)\n",
    "null = df.isnull().sum().to_frame().rename(columns = {0:'count'})\n",
    "null['%'] = (null['count'] / len(df)) * 100.\n",
    "null = null.sort_values(by = '%', ascending = False)\n",
    "null.style.background_gradient(cmap = 'PRGn')"
   ]
  },
  {
   "cell_type": "code",
   "execution_count": 6,
   "metadata": {},
   "outputs": [],
   "source": [
    "df.dropna(subset=['CustomerID', 'Itemname'], inplace=True)\n",
    "df = df.rename(columns={'Itemname': 'ItemName'})\n",
    "df['ItemName'] = df['ItemName'].str.lower()\n",
    "df['CustomerID'] = df['CustomerID'].astype('int')"
   ]
  },
  {
   "cell_type": "code",
   "execution_count": 7,
   "metadata": {},
   "outputs": [
    {
     "data": {
      "text/html": [
       "<div>\n",
       "<style scoped>\n",
       "    .dataframe tbody tr th:only-of-type {\n",
       "        vertical-align: middle;\n",
       "    }\n",
       "\n",
       "    .dataframe tbody tr th {\n",
       "        vertical-align: top;\n",
       "    }\n",
       "\n",
       "    .dataframe thead th {\n",
       "        text-align: right;\n",
       "    }\n",
       "</style>\n",
       "<table border=\"1\" class=\"dataframe\">\n",
       "  <thead>\n",
       "    <tr style=\"text-align: right;\">\n",
       "      <th></th>\n",
       "      <th>ItemName</th>\n",
       "      <th>Count</th>\n",
       "    </tr>\n",
       "  </thead>\n",
       "  <tbody>\n",
       "    <tr>\n",
       "      <th>0</th>\n",
       "      <td>white hanging heart t-light holder</td>\n",
       "      <td>1964</td>\n",
       "    </tr>\n",
       "    <tr>\n",
       "      <th>1</th>\n",
       "      <td>regency cakestand 3 tier</td>\n",
       "      <td>1634</td>\n",
       "    </tr>\n",
       "    <tr>\n",
       "      <th>2</th>\n",
       "      <td>jumbo bag red retrospot</td>\n",
       "      <td>1588</td>\n",
       "    </tr>\n",
       "    <tr>\n",
       "      <th>3</th>\n",
       "      <td>assorted colour bird ornament</td>\n",
       "      <td>1378</td>\n",
       "    </tr>\n",
       "    <tr>\n",
       "      <th>4</th>\n",
       "      <td>party bunting</td>\n",
       "      <td>1362</td>\n",
       "    </tr>\n",
       "  </tbody>\n",
       "</table>\n",
       "</div>"
      ],
      "text/plain": [
       "                             ItemName  Count\n",
       "0  white hanging heart t-light holder   1964\n",
       "1            regency cakestand 3 tier   1634\n",
       "2             jumbo bag red retrospot   1588\n",
       "3       assorted colour bird ornament   1378\n",
       "4                       party bunting   1362"
      ]
     },
     "execution_count": 7,
     "metadata": {},
     "output_type": "execute_result"
    }
   ],
   "source": [
    "item_counts = df['ItemName'].value_counts().to_frame().reset_index()\n",
    "item_counts.columns = ['ItemName', 'Count']\n",
    "item_counts.head()"
   ]
  },
  {
   "cell_type": "code",
   "execution_count": 8,
   "metadata": {},
   "outputs": [
    {
     "data": {
      "text/html": [
       "<div>\n",
       "<style scoped>\n",
       "    .dataframe tbody tr th:only-of-type {\n",
       "        vertical-align: middle;\n",
       "    }\n",
       "\n",
       "    .dataframe tbody tr th {\n",
       "        vertical-align: top;\n",
       "    }\n",
       "\n",
       "    .dataframe thead th {\n",
       "        text-align: right;\n",
       "    }\n",
       "</style>\n",
       "<table border=\"1\" class=\"dataframe\">\n",
       "  <thead>\n",
       "    <tr style=\"text-align: right;\">\n",
       "      <th></th>\n",
       "      <th>ItemName</th>\n",
       "    </tr>\n",
       "  </thead>\n",
       "  <tbody>\n",
       "    <tr>\n",
       "      <th>0</th>\n",
       "      <td>white hanging heart t-light holder, white meta...</td>\n",
       "    </tr>\n",
       "    <tr>\n",
       "      <th>1</th>\n",
       "      <td>hand warmer union jack, hand warmer red polka dot</td>\n",
       "    </tr>\n",
       "    <tr>\n",
       "      <th>2</th>\n",
       "      <td>assorted colour bird ornament, poppy's playhou...</td>\n",
       "    </tr>\n",
       "    <tr>\n",
       "      <th>3</th>\n",
       "      <td>jam making set with jars, red coat rack paris ...</td>\n",
       "    </tr>\n",
       "    <tr>\n",
       "      <th>4</th>\n",
       "      <td>bath building block word</td>\n",
       "    </tr>\n",
       "  </tbody>\n",
       "</table>\n",
       "</div>"
      ],
      "text/plain": [
       "                                            ItemName\n",
       "0  white hanging heart t-light holder, white meta...\n",
       "1  hand warmer union jack, hand warmer red polka dot\n",
       "2  assorted colour bird ornament, poppy's playhou...\n",
       "3  jam making set with jars, red coat rack paris ...\n",
       "4                           bath building block word"
      ]
     },
     "execution_count": 8,
     "metadata": {},
     "output_type": "execute_result"
    }
   ],
   "source": [
    "transactions_original = df.groupby(['BillNo', 'Date'])['ItemName'].apply(lambda x: ', '.join(x)).reset_index()\n",
    "\n",
    "transactions_original.drop(columns=['BillNo', 'Date'], inplace=True)\n",
    "\n",
    "transactions_original.head()\n",
    "# transactions_original"
   ]
  },
  {
   "cell_type": "code",
   "execution_count": 9,
   "metadata": {},
   "outputs": [
    {
     "data": {
      "text/html": [
       "<div>\n",
       "<style scoped>\n",
       "    .dataframe tbody tr th:only-of-type {\n",
       "        vertical-align: middle;\n",
       "    }\n",
       "\n",
       "    .dataframe tbody tr th {\n",
       "        vertical-align: top;\n",
       "    }\n",
       "\n",
       "    .dataframe thead th {\n",
       "        text-align: right;\n",
       "    }\n",
       "</style>\n",
       "<table border=\"1\" class=\"dataframe\">\n",
       "  <thead>\n",
       "    <tr style=\"text-align: right;\">\n",
       "      <th></th>\n",
       "      <th>ItemName</th>\n",
       "    </tr>\n",
       "  </thead>\n",
       "  <tbody>\n",
       "    <tr>\n",
       "      <th>0</th>\n",
       "      <td>3867, 1358, 3530, 817, 1561, 1791, 3869, 1558,...</td>\n",
       "    </tr>\n",
       "    <tr>\n",
       "      <th>1</th>\n",
       "      <td>2063, 1728, 1992, 1564, 212, 2751, 1019, 3784,...</td>\n",
       "    </tr>\n",
       "    <tr>\n",
       "      <th>2</th>\n",
       "      <td>997, 3376, 3564, 1022, 1659, 1661, 412, 3702, ...</td>\n",
       "    </tr>\n",
       "    <tr>\n",
       "      <th>3</th>\n",
       "      <td>672, 741, 2991, 3682, 1364, 1592, 3765, 3547, ...</td>\n",
       "    </tr>\n",
       "    <tr>\n",
       "      <th>4</th>\n",
       "      <td>137, 580, 3754, 104, 3318, 111, 3307, 3041, 12...</td>\n",
       "    </tr>\n",
       "  </tbody>\n",
       "</table>\n",
       "</div>"
      ],
      "text/plain": [
       "                                            ItemName\n",
       "0  3867, 1358, 3530, 817, 1561, 1791, 3869, 1558,...\n",
       "1  2063, 1728, 1992, 1564, 212, 2751, 1019, 3784,...\n",
       "2  997, 3376, 3564, 1022, 1659, 1661, 412, 3702, ...\n",
       "3  672, 741, 2991, 3682, 1364, 1592, 3765, 3547, ...\n",
       "4  137, 580, 3754, 104, 3318, 111, 3307, 3041, 12..."
      ]
     },
     "execution_count": 9,
     "metadata": {},
     "output_type": "execute_result"
    }
   ],
   "source": [
    "transactions = transactions_original.copy()\n",
    "transactions_sets = transactions['ItemName'].str.split(', ')\n",
    "transactions_sets = transactions_sets.apply(lambda x: set(x))\n",
    "# into a list\n",
    "transactions_sets = transactions_sets.to_list()\n",
    "\n",
    "transactions_lists = [list(transaction_set) for transaction_set in transactions_sets]\n",
    "\n",
    "#  assign unique number for each item that represents the item\n",
    "unique_items = sorted(set(item for transaction in transactions_lists for item in transaction))\n",
    "\n",
    "# instead of int make those unique numbers as string\n",
    "item_to_index = {item: i for i, item in enumerate(unique_items)}\n",
    "index_to_item = {i: item for item, i in item_to_index.items()}\n",
    "transactions_indexed = [[item_to_index[item] for item in transaction] for transaction in transactions_lists]\n",
    "\n",
    "transactions_str = [', '.join(map(str, transaction)) for transaction in transactions_indexed]\n",
    "\n",
    "# Create a new dataframe with these strings\n",
    "transactions_final = pd.DataFrame(transactions_str, columns=['ItemName'])\n",
    "\n",
    "# Display the head of the new dataframe\n",
    "# transactions_final.head()\n",
    "# randomly sample 100 transactions\n",
    "transactions_final = transactions_final.sample(150, random_state=42)\n",
    "\n",
    "# index the dataset\n",
    "transactions_final.index = range(150)\n",
    "# Display the head of the new dataframe\n",
    "transactions_final.head()\n",
    "\n",
    "\n"
   ]
  },
  {
   "cell_type": "code",
   "execution_count": 11,
   "metadata": {},
   "outputs": [],
   "source": [
    "transactions = transactions_final.copy()"
   ]
  },
  {
   "cell_type": "code",
   "execution_count": 12,
   "metadata": {},
   "outputs": [
    {
     "name": "stdout",
     "output_type": "stream",
     "text": [
      "       0     1     2     3     4     5     6     7     8     9   ...    79  \\\n",
      "0    1359  1791   817  3867  1561  1358  3530  3869  1558  None  ...  None   \n",
      "1    1564  2181  2751  3431  1019  2063  2990  1992  1428  3784  ...  None   \n",
      "2    3702  1755  1642  1764  2153    43  1022   412  1658   724  ...  None   \n",
      "3     680  2758  3765  3758   672  2518  2856  2997  1592  1501  ...  None   \n",
      "4    2931   522   580  3754  1419  1216  3745   111  3668  2298  ...  None   \n",
      "..    ...   ...   ...   ...   ...   ...   ...   ...   ...   ...  ...   ...   \n",
      "145  3219  3088  2236   705   583  1961  2562  3216  3213  1927  ...  None   \n",
      "146  2262   668   778   975  2040   209  3476   705   522  3308  ...  None   \n",
      "147  2761  1913   828  3447  2518  2605  3384  1358  2768   792  ...  None   \n",
      "148  3594  3747   200  2331  2613    95  2332    93  3749  2115  ...  None   \n",
      "149   123  1599  1600  2988  3733  3072  1755  3071  1721  3735  ...  None   \n",
      "\n",
      "       80    81    82    83    84    85    86    87    88  \n",
      "0    None  None  None  None  None  None  None  None  None  \n",
      "1    None  None  None  None  None  None  None  None  None  \n",
      "2    None  None  None  None  None  None  None  None  None  \n",
      "3    None  None  None  None  None  None  None  None  None  \n",
      "4    None  None  None  None  None  None  None  None  None  \n",
      "..    ...   ...   ...   ...   ...   ...   ...   ...   ...  \n",
      "145  None  None  None  None  None  None  None  None  None  \n",
      "146  None  None  None  None  None  None  None  None  None  \n",
      "147  None  None  None  None  None  None  None  None  None  \n",
      "148  None  None  None  None  None  None  None  None  None  \n",
      "149  None  None  None  None  None  None  None  None  None  \n",
      "\n",
      "[150 rows x 89 columns]\n"
     ]
    }
   ],
   "source": [
    "items_df = transactions['ItemName'].str.split(', ', expand=True).applymap(lambda x: x.strip() if x else x)\n",
    "\n",
    "# items_df.shape\n",
    "print(items_df)"
   ]
  },
  {
   "cell_type": "code",
   "execution_count": 13,
   "metadata": {},
   "outputs": [
    {
     "data": {
      "text/html": [
       "<div>\n",
       "<style scoped>\n",
       "    .dataframe tbody tr th:only-of-type {\n",
       "        vertical-align: middle;\n",
       "    }\n",
       "\n",
       "    .dataframe tbody tr th {\n",
       "        vertical-align: top;\n",
       "    }\n",
       "\n",
       "    .dataframe thead th {\n",
       "        text-align: right;\n",
       "    }\n",
       "</style>\n",
       "<table border=\"1\" class=\"dataframe\">\n",
       "  <thead>\n",
       "    <tr style=\"text-align: right;\">\n",
       "      <th></th>\n",
       "      <th>1</th>\n",
       "      <th>10</th>\n",
       "      <th>100</th>\n",
       "      <th>1001</th>\n",
       "      <th>1002</th>\n",
       "      <th>1003</th>\n",
       "      <th>1004</th>\n",
       "      <th>1006</th>\n",
       "      <th>1007</th>\n",
       "      <th>101</th>\n",
       "      <th>...</th>\n",
       "      <th>973</th>\n",
       "      <th>975</th>\n",
       "      <th>976</th>\n",
       "      <th>979</th>\n",
       "      <th>98</th>\n",
       "      <th>981</th>\n",
       "      <th>984</th>\n",
       "      <th>992</th>\n",
       "      <th>997</th>\n",
       "      <th>998</th>\n",
       "    </tr>\n",
       "  </thead>\n",
       "  <tbody>\n",
       "    <tr>\n",
       "      <th>0</th>\n",
       "      <td>False</td>\n",
       "      <td>False</td>\n",
       "      <td>False</td>\n",
       "      <td>False</td>\n",
       "      <td>False</td>\n",
       "      <td>False</td>\n",
       "      <td>False</td>\n",
       "      <td>False</td>\n",
       "      <td>False</td>\n",
       "      <td>False</td>\n",
       "      <td>...</td>\n",
       "      <td>False</td>\n",
       "      <td>False</td>\n",
       "      <td>False</td>\n",
       "      <td>False</td>\n",
       "      <td>False</td>\n",
       "      <td>False</td>\n",
       "      <td>False</td>\n",
       "      <td>False</td>\n",
       "      <td>False</td>\n",
       "      <td>False</td>\n",
       "    </tr>\n",
       "    <tr>\n",
       "      <th>1</th>\n",
       "      <td>False</td>\n",
       "      <td>False</td>\n",
       "      <td>False</td>\n",
       "      <td>False</td>\n",
       "      <td>False</td>\n",
       "      <td>False</td>\n",
       "      <td>False</td>\n",
       "      <td>False</td>\n",
       "      <td>False</td>\n",
       "      <td>False</td>\n",
       "      <td>...</td>\n",
       "      <td>False</td>\n",
       "      <td>False</td>\n",
       "      <td>False</td>\n",
       "      <td>False</td>\n",
       "      <td>False</td>\n",
       "      <td>False</td>\n",
       "      <td>False</td>\n",
       "      <td>False</td>\n",
       "      <td>False</td>\n",
       "      <td>False</td>\n",
       "    </tr>\n",
       "    <tr>\n",
       "      <th>2</th>\n",
       "      <td>False</td>\n",
       "      <td>False</td>\n",
       "      <td>False</td>\n",
       "      <td>False</td>\n",
       "      <td>False</td>\n",
       "      <td>False</td>\n",
       "      <td>True</td>\n",
       "      <td>False</td>\n",
       "      <td>False</td>\n",
       "      <td>False</td>\n",
       "      <td>...</td>\n",
       "      <td>False</td>\n",
       "      <td>False</td>\n",
       "      <td>False</td>\n",
       "      <td>False</td>\n",
       "      <td>False</td>\n",
       "      <td>False</td>\n",
       "      <td>False</td>\n",
       "      <td>False</td>\n",
       "      <td>True</td>\n",
       "      <td>False</td>\n",
       "    </tr>\n",
       "    <tr>\n",
       "      <th>3</th>\n",
       "      <td>False</td>\n",
       "      <td>False</td>\n",
       "      <td>False</td>\n",
       "      <td>False</td>\n",
       "      <td>False</td>\n",
       "      <td>False</td>\n",
       "      <td>False</td>\n",
       "      <td>False</td>\n",
       "      <td>False</td>\n",
       "      <td>False</td>\n",
       "      <td>...</td>\n",
       "      <td>False</td>\n",
       "      <td>False</td>\n",
       "      <td>False</td>\n",
       "      <td>False</td>\n",
       "      <td>False</td>\n",
       "      <td>False</td>\n",
       "      <td>False</td>\n",
       "      <td>False</td>\n",
       "      <td>False</td>\n",
       "      <td>False</td>\n",
       "    </tr>\n",
       "    <tr>\n",
       "      <th>4</th>\n",
       "      <td>False</td>\n",
       "      <td>False</td>\n",
       "      <td>False</td>\n",
       "      <td>False</td>\n",
       "      <td>False</td>\n",
       "      <td>False</td>\n",
       "      <td>False</td>\n",
       "      <td>False</td>\n",
       "      <td>False</td>\n",
       "      <td>False</td>\n",
       "      <td>...</td>\n",
       "      <td>False</td>\n",
       "      <td>False</td>\n",
       "      <td>False</td>\n",
       "      <td>False</td>\n",
       "      <td>False</td>\n",
       "      <td>False</td>\n",
       "      <td>False</td>\n",
       "      <td>False</td>\n",
       "      <td>False</td>\n",
       "      <td>False</td>\n",
       "    </tr>\n",
       "  </tbody>\n",
       "</table>\n",
       "<p>5 rows × 1486 columns</p>\n",
       "</div>"
      ],
      "text/plain": [
       "       1     10    100   1001   1002   1003   1004   1006   1007    101  ...  \\\n",
       "0  False  False  False  False  False  False  False  False  False  False  ...   \n",
       "1  False  False  False  False  False  False  False  False  False  False  ...   \n",
       "2  False  False  False  False  False  False   True  False  False  False  ...   \n",
       "3  False  False  False  False  False  False  False  False  False  False  ...   \n",
       "4  False  False  False  False  False  False  False  False  False  False  ...   \n",
       "\n",
       "     973    975    976    979     98    981    984    992    997    998  \n",
       "0  False  False  False  False  False  False  False  False  False  False  \n",
       "1  False  False  False  False  False  False  False  False  False  False  \n",
       "2  False  False  False  False  False  False  False  False   True  False  \n",
       "3  False  False  False  False  False  False  False  False  False  False  \n",
       "4  False  False  False  False  False  False  False  False  False  False  \n",
       "\n",
       "[5 rows x 1486 columns]"
      ]
     },
     "execution_count": 13,
     "metadata": {},
     "output_type": "execute_result"
    }
   ],
   "source": [
    "# Convert items to boolean columns\n",
    "df_encoded_1 = pd.get_dummies(items_df, prefix='', prefix_sep='').groupby(level=0, axis=1).max()\n",
    "df_encoded_1.head()"
   ]
  },
  {
   "cell_type": "code",
   "execution_count": 14,
   "metadata": {},
   "outputs": [
    {
     "data": {
      "text/html": [
       "<div>\n",
       "<style scoped>\n",
       "    .dataframe tbody tr th:only-of-type {\n",
       "        vertical-align: middle;\n",
       "    }\n",
       "\n",
       "    .dataframe tbody tr th {\n",
       "        vertical-align: top;\n",
       "    }\n",
       "\n",
       "    .dataframe thead th {\n",
       "        text-align: right;\n",
       "    }\n",
       "</style>\n",
       "<table border=\"1\" class=\"dataframe\">\n",
       "  <thead>\n",
       "    <tr style=\"text-align: right;\">\n",
       "      <th></th>\n",
       "      <th>1</th>\n",
       "      <th>10</th>\n",
       "      <th>100</th>\n",
       "      <th>1001</th>\n",
       "      <th>1002</th>\n",
       "      <th>1003</th>\n",
       "      <th>1004</th>\n",
       "      <th>1006</th>\n",
       "      <th>1007</th>\n",
       "      <th>101</th>\n",
       "      <th>...</th>\n",
       "      <th>973</th>\n",
       "      <th>975</th>\n",
       "      <th>976</th>\n",
       "      <th>979</th>\n",
       "      <th>98</th>\n",
       "      <th>981</th>\n",
       "      <th>984</th>\n",
       "      <th>992</th>\n",
       "      <th>997</th>\n",
       "      <th>998</th>\n",
       "    </tr>\n",
       "  </thead>\n",
       "  <tbody>\n",
       "    <tr>\n",
       "      <th>0</th>\n",
       "      <td>0</td>\n",
       "      <td>0</td>\n",
       "      <td>0</td>\n",
       "      <td>0</td>\n",
       "      <td>0</td>\n",
       "      <td>0</td>\n",
       "      <td>0</td>\n",
       "      <td>0</td>\n",
       "      <td>0</td>\n",
       "      <td>0</td>\n",
       "      <td>...</td>\n",
       "      <td>0</td>\n",
       "      <td>0</td>\n",
       "      <td>0</td>\n",
       "      <td>0</td>\n",
       "      <td>0</td>\n",
       "      <td>0</td>\n",
       "      <td>0</td>\n",
       "      <td>0</td>\n",
       "      <td>0</td>\n",
       "      <td>0</td>\n",
       "    </tr>\n",
       "    <tr>\n",
       "      <th>1</th>\n",
       "      <td>0</td>\n",
       "      <td>0</td>\n",
       "      <td>0</td>\n",
       "      <td>0</td>\n",
       "      <td>0</td>\n",
       "      <td>0</td>\n",
       "      <td>0</td>\n",
       "      <td>0</td>\n",
       "      <td>0</td>\n",
       "      <td>0</td>\n",
       "      <td>...</td>\n",
       "      <td>0</td>\n",
       "      <td>0</td>\n",
       "      <td>0</td>\n",
       "      <td>0</td>\n",
       "      <td>0</td>\n",
       "      <td>0</td>\n",
       "      <td>0</td>\n",
       "      <td>0</td>\n",
       "      <td>0</td>\n",
       "      <td>0</td>\n",
       "    </tr>\n",
       "    <tr>\n",
       "      <th>2</th>\n",
       "      <td>0</td>\n",
       "      <td>0</td>\n",
       "      <td>0</td>\n",
       "      <td>0</td>\n",
       "      <td>0</td>\n",
       "      <td>0</td>\n",
       "      <td>1</td>\n",
       "      <td>0</td>\n",
       "      <td>0</td>\n",
       "      <td>0</td>\n",
       "      <td>...</td>\n",
       "      <td>0</td>\n",
       "      <td>0</td>\n",
       "      <td>0</td>\n",
       "      <td>0</td>\n",
       "      <td>0</td>\n",
       "      <td>0</td>\n",
       "      <td>0</td>\n",
       "      <td>0</td>\n",
       "      <td>1</td>\n",
       "      <td>0</td>\n",
       "    </tr>\n",
       "    <tr>\n",
       "      <th>3</th>\n",
       "      <td>0</td>\n",
       "      <td>0</td>\n",
       "      <td>0</td>\n",
       "      <td>0</td>\n",
       "      <td>0</td>\n",
       "      <td>0</td>\n",
       "      <td>0</td>\n",
       "      <td>0</td>\n",
       "      <td>0</td>\n",
       "      <td>0</td>\n",
       "      <td>...</td>\n",
       "      <td>0</td>\n",
       "      <td>0</td>\n",
       "      <td>0</td>\n",
       "      <td>0</td>\n",
       "      <td>0</td>\n",
       "      <td>0</td>\n",
       "      <td>0</td>\n",
       "      <td>0</td>\n",
       "      <td>0</td>\n",
       "      <td>0</td>\n",
       "    </tr>\n",
       "    <tr>\n",
       "      <th>4</th>\n",
       "      <td>0</td>\n",
       "      <td>0</td>\n",
       "      <td>0</td>\n",
       "      <td>0</td>\n",
       "      <td>0</td>\n",
       "      <td>0</td>\n",
       "      <td>0</td>\n",
       "      <td>0</td>\n",
       "      <td>0</td>\n",
       "      <td>0</td>\n",
       "      <td>...</td>\n",
       "      <td>0</td>\n",
       "      <td>0</td>\n",
       "      <td>0</td>\n",
       "      <td>0</td>\n",
       "      <td>0</td>\n",
       "      <td>0</td>\n",
       "      <td>0</td>\n",
       "      <td>0</td>\n",
       "      <td>0</td>\n",
       "      <td>0</td>\n",
       "    </tr>\n",
       "  </tbody>\n",
       "</table>\n",
       "<p>5 rows × 1486 columns</p>\n",
       "</div>"
      ],
      "text/plain": [
       "   1  10  100  1001  1002  1003  1004  1006  1007  101  ...  973  975  976  \\\n",
       "0  0   0    0     0     0     0     0     0     0    0  ...    0    0    0   \n",
       "1  0   0    0     0     0     0     0     0     0    0  ...    0    0    0   \n",
       "2  0   0    0     0     0     0     1     0     0    0  ...    0    0    0   \n",
       "3  0   0    0     0     0     0     0     0     0    0  ...    0    0    0   \n",
       "4  0   0    0     0     0     0     0     0     0    0  ...    0    0    0   \n",
       "\n",
       "   979  98  981  984  992  997  998  \n",
       "0    0   0    0    0    0    0    0  \n",
       "1    0   0    0    0    0    0    0  \n",
       "2    0   0    0    0    0    1    0  \n",
       "3    0   0    0    0    0    0    0  \n",
       "4    0   0    0    0    0    0    0  \n",
       "\n",
       "[5 rows x 1486 columns]"
      ]
     },
     "execution_count": 14,
     "metadata": {},
     "output_type": "execute_result"
    }
   ],
   "source": [
    "df_binary_1 = df_encoded_1.copy()\n",
    "# conver true to 1 flase to 0\n",
    "df_binary_1 = df_binary_1.astype('bool').astype('int')\n",
    "df_binary_1.head()"
   ]
  },
  {
   "cell_type": "code",
   "execution_count": 15,
   "metadata": {},
   "outputs": [
    {
     "name": "stdout",
     "output_type": "stream",
     "text": [
      "Association Rules:\n",
      "  antecedents consequents  antecedent support  consequent support   support  \\\n",
      "0       (133)       (137)            0.046667            0.066667  0.040000   \n",
      "1       (137)       (133)            0.066667            0.046667  0.040000   \n",
      "2       (134)       (137)            0.040000            0.066667  0.033333   \n",
      "3       (137)       (134)            0.066667            0.040000  0.033333   \n",
      "4      (1501)      (2758)            0.053333            0.113333  0.040000   \n",
      "\n",
      "   confidence       lift  leverage  conviction  zhangs_metric  \n",
      "0    0.857143  12.857143  0.036889    6.533333       0.967366  \n",
      "1    0.600000  12.857143  0.036889    2.383333       0.988095  \n",
      "2    0.833333  12.500000  0.030667    5.600000       0.958333  \n",
      "3    0.500000  12.500000  0.030667    1.920000       0.985714  \n",
      "4    0.750000   6.617647  0.033956    3.546667       0.896714  \n"
     ]
    }
   ],
   "source": [
    "from mlxtend.frequent_patterns import apriori, association_rules\n",
    "\n",
    "def mine_association_rules(transactions_df, min_support=0.03, min_confidence=0.5):\n",
    "    \"\"\"\n",
    "    This function encodes the transactions into boolean values, performs association rule mining,\n",
    "    and returns the resulting rules.\n",
    "    \n",
    "    :param transactions_df: DataFrame with transactions where each item is represented in its own column.\n",
    "    :param min_support: The minimum support for an itemset to be considered frequent.\n",
    "    :param min_confidence: The minimum confidence for a rule to be considered.\n",
    "    :return: DataFrame containing the association rules.\n",
    "    \"\"\"\n",
    "    # Convert items to boolean columns\n",
    "    # df_encoded = df_encoded\n",
    "    \n",
    "    # Perform association rule mining\n",
    "    frequent_itemsets = apriori(df_encoded_1, min_support=min_support, use_colnames=True)\n",
    "    rules = association_rules(frequent_itemsets, metric=\"confidence\", min_threshold=min_confidence)\n",
    "    \n",
    "    return rules\n",
    "\n",
    "# Now, use the function and display the association rules\n",
    "rules = mine_association_rules(items_df)\n",
    "print(\"Association Rules:\")\n",
    "print(rules.head())"
   ]
  },
  {
   "cell_type": "code",
   "execution_count": 16,
   "metadata": {},
   "outputs": [
    {
     "data": {
      "text/plain": [
       "39"
      ]
     },
     "execution_count": 16,
     "metadata": {},
     "output_type": "execute_result"
    }
   ],
   "source": [
    "len(rules)"
   ]
  },
  {
   "cell_type": "code",
   "execution_count": 17,
   "metadata": {},
   "outputs": [
    {
     "data": {
      "image/png": "[encoded data removed]",
      "text/plain": [
       "<Figure size 1200x800 with 1 Axes>"
      ]
     },
     "metadata": {},
     "output_type": "display_data"
    }
   ],
   "source": [
    "# Set the plot size\n",
    "plt.figure(figsize=(12, 8))\n",
    "\n",
    "# Set the background color\n",
    "plt.axes().set_facecolor('#e1f7fc')  \n",
    "\n",
    "# Plot scatterplot for Support vs. Confidence\n",
    "sns.scatterplot(\n",
    "    x=\"support\",\n",
    "    y=\"confidence\",\n",
    "    size=\"lift\",\n",
    "    data=rules,\n",
    "    hue=\"lift\",\n",
    "    palette=\"inferno\", # Color palette\n",
    "    sizes=(20, 200),\n",
    "    alpha=0.6,  # Transparency\n",
    "    edgecolor=None  # Remove edge color for smoother appearance\n",
    ")\n",
    "\n",
    "# Customize the plot\n",
    "plt.title('Support vs. Confidence', color='#9B60A1', fontweight='bold')  # #9B60A1 is purple\n",
    "plt.xlabel('Support', color='#9B60A1', fontweight='bold')  \n",
    "plt.ylabel('Confidence', color='#9B60A1', fontweight='bold')  \n",
    "legend = plt.legend(title='Lift', loc='upper right', bbox_to_anchor=(1.25, 1))\n",
    "plt.setp(legend.get_texts(), color='#9B60A1')\n",
    "\n",
    "# Show the plot\n",
    "plt.show()"
   ]
  },
  {
   "cell_type": "code",
   "execution_count": 18,
   "metadata": {},
   "outputs": [
    {
     "data": {
      "text/plain": [
       "[({'1776'}, {'3148'}),\n",
       " ({'3148'}, {'1776'}),\n",
       " ({'2758', '2856'}, {'1501'}),\n",
       " ({'1501', '2758'}, {'2856'}),\n",
       " ({'2856'}, {'1501'}),\n",
       " ({'1501'}, {'2856'}),\n",
       " ({'133'}, {'137'}),\n",
       " ({'1743'}, {'1755'}),\n",
       " ({'1501', '2856'}, {'2758'}),\n",
       " ({'1659'}, {'1919'})]"
      ]
     },
     "execution_count": 18,
     "metadata": {},
     "output_type": "execute_result"
    }
   ],
   "source": [
    "# Assuming 'rules_df' is your DataFrame containing the association rules\n",
    "\n",
    "# Sort rules by confidence and lift in descending order\n",
    "sorted_rules_df = rules.sort_values(by=['confidence', 'lift'], ascending=False)\n",
    "\n",
    "# Select top 5 rules\n",
    "top_rules_df = sorted_rules_df.head(10)\n",
    "\n",
    "# Convert antecedents and consequents into a list of tuples, ready for the GA\n",
    "rules_to_hide = [(set(a), set(c)) for a, c in zip(top_rules_df['antecedents'], top_rules_df['consequents'])]\n",
    "rules_to_hide"
   ]
  },
  {
   "cell_type": "code",
   "execution_count": 19,
   "metadata": {},
   "outputs": [
    {
     "name": "stdout",
     "output_type": "stream",
     "text": [
      "    antecedents consequents\n",
      "0        {1776}      {3148}\n",
      "1        {3148}      {1776}\n",
      "2  {2856, 2758}      {1501}\n",
      "3  {2758, 1501}      {2856}\n",
      "4        {2856}      {1501}\n",
      "5        {1501}      {2856}\n",
      "6         {133}       {137}\n",
      "7        {1743}      {1755}\n",
      "8  {2856, 1501}      {2758}\n",
      "9        {1659}      {1919}\n"
     ]
    }
   ],
   "source": [
    "\n",
    "# after making into frozen set make into dataframe\n",
    "\n",
    "rules_to_hide_df = pd.DataFrame(rules_to_hide, columns=['antecedents', 'consequents'])\n",
    "print(rules_to_hide_df)\n",
    "\n",
    "# instead of sets make into frozen sets\n",
    "rules_to_hide_df['antecedents'] = rules_to_hide_df['antecedents'].apply(lambda x: frozenset(x))\n",
    "rules_to_hide_df['consequents'] = rules_to_hide_df['consequents'].apply(lambda x: frozenset(x))\n"
   ]
  },
  {
   "cell_type": "code",
   "execution_count": 20,
   "metadata": {},
   "outputs": [
    {
     "data": {
      "text/html": [
       "<div>\n",
       "<style scoped>\n",
       "    .dataframe tbody tr th:only-of-type {\n",
       "        vertical-align: middle;\n",
       "    }\n",
       "\n",
       "    .dataframe tbody tr th {\n",
       "        vertical-align: top;\n",
       "    }\n",
       "\n",
       "    .dataframe thead th {\n",
       "        text-align: right;\n",
       "    }\n",
       "</style>\n",
       "<table border=\"1\" class=\"dataframe\">\n",
       "  <thead>\n",
       "    <tr style=\"text-align: right;\">\n",
       "      <th></th>\n",
       "      <th>antecedents</th>\n",
       "      <th>consequents</th>\n",
       "    </tr>\n",
       "  </thead>\n",
       "  <tbody>\n",
       "    <tr>\n",
       "      <th>0</th>\n",
       "      <td>(1776)</td>\n",
       "      <td>(3148)</td>\n",
       "    </tr>\n",
       "    <tr>\n",
       "      <th>1</th>\n",
       "      <td>(3148)</td>\n",
       "      <td>(1776)</td>\n",
       "    </tr>\n",
       "    <tr>\n",
       "      <th>2</th>\n",
       "      <td>(2856, 2758)</td>\n",
       "      <td>(1501)</td>\n",
       "    </tr>\n",
       "    <tr>\n",
       "      <th>3</th>\n",
       "      <td>(2758, 1501)</td>\n",
       "      <td>(2856)</td>\n",
       "    </tr>\n",
       "    <tr>\n",
       "      <th>4</th>\n",
       "      <td>(2856)</td>\n",
       "      <td>(1501)</td>\n",
       "    </tr>\n",
       "    <tr>\n",
       "      <th>5</th>\n",
       "      <td>(1501)</td>\n",
       "      <td>(2856)</td>\n",
       "    </tr>\n",
       "    <tr>\n",
       "      <th>6</th>\n",
       "      <td>(133)</td>\n",
       "      <td>(137)</td>\n",
       "    </tr>\n",
       "    <tr>\n",
       "      <th>7</th>\n",
       "      <td>(1743)</td>\n",
       "      <td>(1755)</td>\n",
       "    </tr>\n",
       "    <tr>\n",
       "      <th>8</th>\n",
       "      <td>(2856, 1501)</td>\n",
       "      <td>(2758)</td>\n",
       "    </tr>\n",
       "    <tr>\n",
       "      <th>9</th>\n",
       "      <td>(1659)</td>\n",
       "      <td>(1919)</td>\n",
       "    </tr>\n",
       "  </tbody>\n",
       "</table>\n",
       "</div>"
      ],
      "text/plain": [
       "    antecedents consequents\n",
       "0        (1776)      (3148)\n",
       "1        (3148)      (1776)\n",
       "2  (2856, 2758)      (1501)\n",
       "3  (2758, 1501)      (2856)\n",
       "4        (2856)      (1501)\n",
       "5        (1501)      (2856)\n",
       "6         (133)       (137)\n",
       "7        (1743)      (1755)\n",
       "8  (2856, 1501)      (2758)\n",
       "9        (1659)      (1919)"
      ]
     },
     "execution_count": 20,
     "metadata": {},
     "output_type": "execute_result"
    }
   ],
   "source": [
    "rules_to_hide_df\n",
    "    "
   ]
  },
  {
   "cell_type": "code",
   "execution_count": 21,
   "metadata": {},
   "outputs": [],
   "source": [
    "transactions_sets = transactions['ItemName'].str.split(', ')\n",
    "transactions_sets = transactions_sets.apply(lambda x: set(x))\n",
    "# into a list\n",
    "transactions_sets = transactions_sets.to_list()\n",
    "\n",
    "transactions_lists = [list(transaction_set) for transaction_set in transactions_sets]\n",
    "# transactions_lists\n",
    "\n",
    "#  assign unique number for each item that represents the item\n",
    "# unique_items = sorted(set(item for transaction in transactions_lists for item in transaction))\n",
    "# item_to_index = {item: i for i, item in enumerate(unique_items)}\n",
    "# index_to_item = {i: item for item, i in item_to_index.items()}\n",
    "# transactions_indexed = [[item_to_index[item] for item in transaction] for transaction in transactions_lists]\n",
    "\n",
    "# transactions_indexed\n"
   ]
  },
  {
   "cell_type": "code",
   "execution_count": 22,
   "metadata": {},
   "outputs": [],
   "source": [
    "# len(transactions_lists)"
   ]
  },
  {
   "cell_type": "code",
   "execution_count": 23,
   "metadata": {},
   "outputs": [
    {
     "name": "stdout",
     "output_type": "stream",
     "text": [
      "gen\tnevals\tavg    \tstd     \tmin    \tmax   \n",
      "0  \t300   \t20.6307\t0.103654\t20.3527\t20.921\n",
      "1  \t267   \t20.732 \t0.0849993\t20.4573\t20.952\n",
      "2  \t251   \t20.8145\t0.0786779\t20.5373\t21.077\n",
      "3  \t254   \t20.8851\t0.0661384\t20.6273\t21.077\n",
      "4  \t253   \t20.9487\t0.0708069\t20.772 \t21.114\n",
      "5  \t265   \t21.0157\t0.0625304\t20.818 \t21.192\n",
      "6  \t255   \t21.0698\t0.065882 \t20.89  \t21.255\n",
      "7  \t235   \t21.1263\t0.0590534\t20.9413\t21.307\n",
      "8  \t246   \t21.17  \t0.059434 \t20.9433\t21.336\n",
      "9  \t258   \t21.2145\t0.0648109\t21.022 \t21.399\n",
      "10 \t244   \t21.2651\t0.0609485\t21.0775\t21.41 \n",
      "11 \t252   \t21.3101\t0.058829 \t21.081 \t21.454\n",
      "12 \t238   \t21.349 \t0.0566163\t21.121 \t21.488\n",
      "13 \t260   \t21.3816\t0.0535821\t21.164 \t21.496\n",
      "14 \t269   \t21.4166\t0.0617799\t21.214 \t21.566\n",
      "15 \t241   \t21.4488\t0.0577354\t21.234 \t21.573\n",
      "16 \t254   \t21.4855\t0.0583552\t21.309 \t21.602\n",
      "17 \t243   \t21.526 \t0.0510421\t21.32  \t21.638\n",
      "18 \t260   \t21.5517\t0.0536827\t21.344 \t21.651\n",
      "19 \t261   \t21.5733\t0.0602219\t21.3693\t21.711\n",
      "20 \t262   \t21.6042\t0.0577558\t21.364 \t21.724\n",
      "21 \t247   \t21.6358\t0.0544275\t21.399 \t21.744\n",
      "22 \t261   \t21.6616\t0.0546997\t21.489 \t21.7783\n",
      "23 \t235   \t21.6887\t0.0554195\t21.502 \t21.81  \n",
      "24 \t250   \t21.707 \t0.0635126\t21.4493\t21.803 \n",
      "25 \t252   \t21.7382\t0.0560512\t21.522 \t21.847 \n",
      "26 \t269   \t21.759 \t0.0620431\t21.488 \t21.876 \n",
      "27 \t257   \t21.7821\t0.0608466\t21.5743\t21.878 \n",
      "28 \t249   \t21.8099\t0.0559888\t21.583 \t21.908 \n",
      "29 \t248   \t21.8326\t0.0584763\t21.649 \t21.928 \n",
      "30 \t261   \t21.8566\t0.0614569\t21.635 \t21.946 \n",
      "31 \t243   \t21.8774\t0.0633617\t21.575 \t21.96  \n",
      "32 \t247   \t21.8998\t0.0614436\t21.67  \t21.989 \n",
      "33 \t237   \t21.9239\t0.0548472\t21.677 \t22     \n",
      "34 \t256   \t21.936 \t0.0635893\t21.735 \t22.027 \n",
      "35 \t267   \t21.9525\t0.0636034\t21.754 \t22.048 \n",
      "36 \t239   \t21.9685\t0.0663741\t21.758 \t22.048 \n",
      "37 \t239   \t21.9843\t0.066341 \t21.771 \t22.073 \n",
      "38 \t250   \t21.9985\t0.0647231\t21.7573\t22.086 \n",
      "39 \t260   \t22.0193\t0.0667646\t21.7713\t22.111 \n",
      "40 \t268   \t22.0354\t0.0669536\t21.801 \t22.124 \n",
      "41 \t268   \t22.0493\t0.0687125\t21.7933\t22.132 \n",
      "42 \t247   \t22.0618\t0.0687897\t21.844 \t22.171 \n",
      "43 \t257   \t22.0771\t0.0681136\t21.8477\t22.171 \n",
      "44 \t249   \t22.089 \t0.0720182\t21.839 \t22.187 \n",
      "45 \t259   \t22.113 \t0.065508 \t21.8727\t22.191 \n",
      "46 \t253   \t22.1207\t0.0699655\t21.8873\t22.193 \n",
      "47 \t247   \t22.1356\t0.0667808\t21.922 \t22.195 \n",
      "48 \t245   \t22.1468\t0.0674673\t21.88  \t22.2103\n",
      "49 \t252   \t22.1567\t0.0671497\t21.9403\t22.2123\n",
      "50 \t252   \t22.1592\t0.0717157\t21.859 \t22.217 \n",
      "51 \t253   \t22.1671\t0.0707635\t21.883 \t22.225 \n",
      "52 \t276   \t22.189 \t0.0556074\t21.9343\t22.235 \n",
      "53 \t255   \t22.1829\t0.0682093\t21.9443\t22.235 \n",
      "54 \t242   \t22.1959\t0.0606675\t21.984 \t22.257 \n",
      "55 \t244   \t22.1978\t0.0637647\t21.97  \t22.249 \n",
      "56 \t255   \t22.197 \t0.0707846\t21.937 \t22.253 \n",
      "57 \t251   \t22.1973\t0.0767683\t21.9143\t22.261 \n",
      "58 \t251   \t22.2073\t0.0701941\t21.9263\t22.263 \n",
      "59 \t243   \t22.2125\t0.0721486\t21.9833\t22.265 \n",
      "60 \t241   \t22.2232\t0.0690682\t22.0053\t22.271 \n",
      "61 \t273   \t22.2214\t0.0731563\t21.926 \t22.275 \n",
      "62 \t239   \t22.2377\t0.063847 \t21.9725\t22.277 \n",
      "63 \t241   \t22.2305\t0.0764997\t21.925 \t22.281 \n",
      "64 \t249   \t22.2393\t0.0713541\t21.997 \t22.281 \n",
      "65 \t251   \t22.244 \t0.0677694\t21.981 \t22.281 \n",
      "66 \t262   \t22.2458\t0.0689942\t22.012 \t22.283 \n",
      "67 \t258   \t22.2417\t0.0760897\t22.017 \t22.285 \n",
      "68 \t254   \t22.2445\t0.0721332\t22     \t22.285 \n",
      "69 \t252   \t22.2449\t0.0773334\t22.035 \t22.285 \n",
      "70 \t249   \t22.2483\t0.0718616\t21.9903\t22.287 \n",
      "71 \t246   \t22.2494\t0.0729807\t22.027 \t22.287 \n",
      "72 \t256   \t22.2554\t0.0665976\t22.0213\t22.289 \n",
      "73 \t255   \t22.2556\t0.0711783\t21.9343\t22.291 \n",
      "74 \t269   \t22.2504\t0.0717103\t21.98  \t22.291 \n",
      "75 \t260   \t22.2517\t0.0729629\t22.02  \t22.291 \n",
      "76 \t253   \t22.2511\t0.0741475\t21.996 \t22.291 \n",
      "77 \t242   \t22.2497\t0.0768697\t22.009 \t22.291 \n",
      "78 \t264   \t22.2562\t0.0710238\t21.981 \t22.291 \n",
      "79 \t248   \t22.2581\t0.0703922\t22     \t22.291 \n",
      "80 \t256   \t22.2556\t0.0715561\t22.0535\t22.291 \n",
      "81 \t252   \t22.2595\t0.0691532\t22.022 \t22.291 \n",
      "82 \t239   \t22.259 \t0.0684357\t21.9935\t22.291 \n",
      "83 \t247   \t22.2538\t0.0767824\t21.9973\t22.291 \n",
      "84 \t251   \t22.2548\t0.0740683\t21.995 \t22.291 \n",
      "85 \t251   \t22.2546\t0.0723129\t22.017 \t22.291 \n",
      "86 \t262   \t22.2535\t0.0752341\t22.013 \t22.291 \n",
      "87 \t252   \t22.2618\t0.0678771\t21.998 \t22.291 \n",
      "88 \t257   \t22.2601\t0.0692158\t21.9663\t22.291 \n",
      "89 \t255   \t22.2602\t0.0696869\t22.017 \t22.291 \n",
      "90 \t245   \t22.2656\t0.0643755\t22.005 \t22.291 \n",
      "91 \t254   \t22.2522\t0.0751229\t21.987 \t22.291 \n",
      "92 \t267   \t22.2592\t0.0672272\t22.0383\t22.291 \n",
      "93 \t275   \t22.2636\t0.0664062\t21.9863\t22.291 \n",
      "94 \t250   \t22.2486\t0.0768137\t21.9913\t22.291 \n",
      "95 \t258   \t22.2495\t0.0785119\t22.015 \t22.291 \n",
      "96 \t250   \t22.2498\t0.0783166\t22.013 \t22.291 \n",
      "97 \t250   \t22.2505\t0.0764908\t22.0223\t22.291 \n",
      "98 \t249   \t22.2643\t0.0642767\t22.052 \t22.291 \n",
      "99 \t247   \t22.2521\t0.0758031\t21.995 \t22.291 \n",
      "100\t247   \t22.258 \t0.0697225\t22.0335\t22.291 \n",
      "101\t248   \t22.2564\t0.0709862\t22.012 \t22.291 \n",
      "102\t249   \t22.2603\t0.067431 \t22.001 \t22.291 \n",
      "103\t237   \t22.2623\t0.0642594\t22.039 \t22.291 \n",
      "104\t238   \t22.2549\t0.0730406\t21.976 \t22.291 \n",
      "105\t261   \t22.2553\t0.0714235\t21.972 \t22.291 \n",
      "106\t254   \t22.2588\t0.0704112\t22.005 \t22.291 \n",
      "107\t269   \t22.2551\t0.0744395\t22.01  \t22.291 \n",
      "108\t260   \t22.2555\t0.0717102\t22.031 \t22.291 \n",
      "109\t240   \t22.2624\t0.0665176\t22.027 \t22.291 \n",
      "110\t259   \t22.26  \t0.0686532\t21.977 \t22.291 \n",
      "111\t256   \t22.2562\t0.0730096\t21.988 \t22.291 \n",
      "112\t262   \t22.2528\t0.0735708\t22.0213\t22.291 \n",
      "113\t244   \t22.2526\t0.0749378\t22.006 \t22.291 \n",
      "114\t251   \t22.2509\t0.0768716\t21.992 \t22.291 \n",
      "115\t254   \t22.2544\t0.0746931\t22.034 \t22.291 \n",
      "116\t241   \t22.2537\t0.0785868\t21.961 \t22.291 \n",
      "117\t260   \t22.2547\t0.0713214\t22.029 \t22.291 \n",
      "118\t258   \t22.2526\t0.0766017\t21.9923\t22.291 \n",
      "119\t240   \t22.2601\t0.0695269\t22.004 \t22.291 \n",
      "120\t242   \t22.2511\t0.0757213\t22.022 \t22.291 \n",
      "121\t257   \t22.2531\t0.0767711\t21.975 \t22.291 \n",
      "122\t246   \t22.2631\t0.0644975\t22.0415\t22.291 \n",
      "123\t260   \t22.2464\t0.0839533\t21.9853\t22.291 \n",
      "124\t252   \t22.2499\t0.0792878\t21.9773\t22.291 \n",
      "125\t255   \t22.2556\t0.0728217\t22.033 \t22.291 \n",
      "126\t249   \t22.2567\t0.0720815\t22.0305\t22.291 \n",
      "127\t249   \t22.2548\t0.0730018\t22.016 \t22.291 \n",
      "128\t264   \t22.2541\t0.0724974\t22.044 \t22.291 \n",
      "129\t255   \t22.2624\t0.0672612\t21.959 \t22.291 \n",
      "130\t249   \t22.2582\t0.0714594\t22.019 \t22.291 \n",
      "131\t250   \t22.2544\t0.0742102\t22     \t22.291 \n",
      "132\t261   \t22.2559\t0.0724798\t22.0133\t22.291 \n",
      "133\t253   \t22.2566\t0.072172 \t21.988 \t22.291 \n",
      "134\t254   \t22.2529\t0.075808 \t22.02  \t22.291 \n",
      "135\t265   \t22.2565\t0.0709201\t22.01  \t22.291 \n",
      "136\t244   \t22.256 \t0.0741719\t21.966 \t22.291 \n",
      "137\t244   \t22.2575\t0.073485 \t22.021 \t22.291 \n",
      "138\t254   \t22.2619\t0.0687333\t21.952 \t22.291 \n",
      "139\t250   \t22.2571\t0.0697843\t22.015 \t22.291 \n",
      "140\t257   \t22.256 \t0.0722927\t22.0283\t22.291 \n",
      "141\t260   \t22.2527\t0.0733859\t21.999 \t22.291 \n",
      "142\t254   \t22.2594\t0.0688082\t22.021 \t22.291 \n",
      "143\t258   \t22.2572\t0.0700215\t21.9693\t22.291 \n",
      "144\t265   \t22.2531\t0.0755729\t22.036 \t22.291 \n",
      "145\t242   \t22.2556\t0.0733242\t21.992 \t22.291 \n",
      "146\t255   \t22.2553\t0.0727654\t22.0263\t22.291 \n",
      "147\t251   \t22.253 \t0.075027 \t21.995 \t22.291 \n",
      "148\t240   \t22.249 \t0.0782952\t21.986 \t22.291 \n",
      "149\t241   \t22.2566\t0.0713418\t22.008 \t22.291 \n",
      "150\t231   \t22.2582\t0.0708903\t22.014 \t22.291 \n",
      "151\t250   \t22.2523\t0.076993 \t22.001 \t22.291 \n",
      "152\t249   \t22.2585\t0.069999 \t22.023 \t22.291 \n",
      "153\t271   \t22.2602\t0.0686887\t22.012 \t22.291 \n",
      "154\t258   \t22.2566\t0.0755223\t22.024 \t22.291 \n",
      "155\t233   \t22.2559\t0.0743368\t22.001 \t22.291 \n",
      "156\t265   \t22.259 \t0.0712564\t22.025 \t22.291 \n",
      "157\t248   \t22.2585\t0.0695939\t21.9963\t22.291 \n",
      "158\t261   \t22.263 \t0.0692717\t22.018 \t22.291 \n",
      "159\t261   \t22.2529\t0.075772 \t22.006 \t22.291 \n",
      "160\t245   \t22.2588\t0.0718206\t21.985 \t22.291 \n",
      "161\t251   \t22.2569\t0.0711722\t22.011 \t22.291 \n",
      "162\t261   \t22.2581\t0.0708235\t21.9933\t22.311 \n",
      "163\t260   \t22.2599\t0.0692975\t22.016 \t22.309 \n",
      "164\t276   \t22.2545\t0.07431  \t22.019 \t22.325 \n",
      "165\t251   \t22.2606\t0.070384 \t22.017 \t22.329 \n",
      "166\t254   \t22.2545\t0.0772584\t22.029 \t22.329 \n",
      "167\t240   \t22.2677\t0.0735683\t21.985 \t22.343 \n",
      "168\t253   \t22.2737\t0.079575 \t22.015 \t22.347 \n",
      "169\t249   \t22.2884\t0.075908 \t22.022 \t22.361 \n",
      "170\t253   \t22.3083\t0.0672876\t22.077 \t22.375 \n",
      "171\t252   \t22.3049\t0.0803843\t22.0543\t22.375 \n",
      "172\t252   \t22.3159\t0.0756052\t22.0883\t22.381 \n",
      "173\t253   \t22.3256\t0.0737969\t22.0803\t22.381 \n",
      "174\t263   \t22.3276\t0.0797296\t22.052 \t22.389 \n",
      "175\t244   \t22.3443\t0.0722274\t22.0745\t22.391 \n",
      "176\t269   \t22.3416\t0.0778711\t22.103 \t22.407 \n",
      "177\t246   \t22.356 \t0.0706578\t22.0625\t22.409 \n",
      "178\t260   \t22.3565\t0.0757382\t22.0905\t22.413 \n",
      "179\t258   \t22.3631\t0.0748097\t22.1283\t22.415 \n",
      "180\t257   \t22.3626\t0.0800619\t22.0795\t22.419 \n",
      "181\t269   \t22.3643\t0.0826725\t22.0793\t22.427 \n",
      "182\t256   \t22.3697\t0.0785728\t22.1403\t22.427 \n",
      "183\t241   \t22.3729\t0.0846287\t22.125 \t22.431 \n",
      "184\t243   \t22.3879\t0.0720124\t22.132 \t22.433 \n",
      "185\t245   \t22.3848\t0.0784693\t22.1313\t22.435 \n",
      "186\t250   \t22.394 \t0.0768581\t22.14  \t22.441 \n",
      "187\t248   \t22.3947\t0.0763079\t22.104 \t22.443 \n",
      "188\t256   \t22.401 \t0.0737472\t22.1383\t22.449 \n",
      "189\t251   \t22.4022\t0.078097 \t22.127 \t22.451 \n",
      "190\t256   \t22.4094\t0.0715825\t22.151 \t22.451 \n",
      "191\t255   \t22.4041\t0.0819348\t22.105 \t22.455 \n",
      "192\t254   \t22.4139\t0.0741982\t22.1385\t22.459 \n",
      "193\t251   \t22.4143\t0.0768894\t22.184 \t22.463 \n",
      "194\t252   \t22.4203\t0.0713101\t22.209 \t22.465 \n",
      "195\t240   \t22.4131\t0.0821065\t22.165 \t22.465 \n",
      "196\t241   \t22.4303\t0.0699034\t22.1813\t22.467 \n",
      "197\t255   \t22.4248\t0.0780489\t22.129 \t22.467 \n",
      "198\t244   \t22.4238\t0.0803719\t22.19  \t22.467 \n",
      "199\t247   \t22.428 \t0.0786364\t22.145 \t22.469 \n",
      "200\t266   \t22.4246\t0.0832749\t22.131 \t22.469 \n",
      "\n",
      "Analysis of Trade-off:\n",
      "Average Confidence Reduction: -0.06666666666666643\n",
      "Dataset Utility Preservation: -71.72666666666667\n"
     ]
    }
   ],
   "source": [
    "import cProfile\n",
    "\n",
    "import random\n",
    "from collections import defaultdict\n",
    "from deap import base, creator, tools, algorithms\n",
    "import numpy\n",
    "import multiprocessing\n",
    "\n",
    "# Load dataset and target association rules\n",
    "transactions = transactions_lists.copy()\n",
    "\n",
    "target_rules = rules_to_hide.copy()\n",
    "\n",
    "# Define utility functions\n",
    "def get_transactions_with(items, transactions):\n",
    "    return [t for t in transactions if all(item in t for item in items)]\n",
    "\n",
    "def calculate_rule_confidence(rule, transactions):\n",
    "    lhs, rhs = rule\n",
    "    lhs_transactions = get_transactions_with(lhs, transactions)\n",
    "    rhs_transactions = get_transactions_with(rhs, transactions)\n",
    "    lhs_and_rhs_transactions = get_transactions_with(lhs.union(rhs), transactions)\n",
    "    if len(lhs_transactions) == 0:\n",
    "        return 0\n",
    "    return len(lhs_and_rhs_transactions) / len(lhs_transactions)\n",
    "\n",
    "def apply_modifications(transactions, individual):\n",
    "    modified_transactions = []\n",
    "    for transaction in transactions:\n",
    "        modified_transaction = transaction.copy()  # Start with a copy of the original transaction\n",
    "        for rule in target_rules:\n",
    "            lhs, rhs = rule\n",
    "            for item in transaction:  # Iterate over the original transaction to avoid iteration issues\n",
    "                if item in lhs or item in rhs:\n",
    "                    modification_index = transactions.index(transaction) * len(transaction) + transaction.index(item)\n",
    "                    modification = individual[modification_index]\n",
    "                    if modification == 1 and item in lhs and item in modified_transaction:\n",
    "                        modified_transaction.remove(item)\n",
    "                    elif modification == 2 and item in rhs and item in modified_transaction:\n",
    "                        modified_transaction.remove(item)\n",
    "                    elif modification == 3:\n",
    "                        if item in lhs and item in modified_transaction:\n",
    "                            modified_transaction.remove(item)\n",
    "                        if item in rhs and item in modified_transaction:  # Check again as it may have been removed\n",
    "                            modified_transaction.remove(item)\n",
    "        modified_transactions.append(modified_transaction)\n",
    "    return modified_transactions\n",
    "\n",
    "\n",
    "# Define fitness function\n",
    "creator.create(\"FitnessMax\", base.Fitness, weights=(1.0, 1.0))\n",
    "creator.create(\"Individual\", list, fitness=creator.FitnessMax)\n",
    "\n",
    "alpha = 0.7\n",
    "beta = 0.3\n",
    "# max_modifications = sum(len(t) for t in transactions)\n",
    "max_modifications = len(transactions_lists)\n",
    "# target_confidence = 0.03  # Adjust this value to set the desired maximum confidence for the target rules\n",
    "lower_target_confidence = 0.1  # Example lower bound\n",
    "upper_target_confidence = 0.4  # Example upper bound\n",
    "\n",
    "\n",
    "\n",
    "\n",
    "\n",
    "def evaluate_individual(individual):\n",
    "    modified_dataset = apply_modifications(transactions, individual)\n",
    "    new_confidences = [calculate_rule_confidence(rule, modified_dataset) for rule in target_rules]\n",
    "    \n",
    "    def confidence_penalty(confidence):\n",
    "        if lower_target_confidence <= confidence <= upper_target_confidence:\n",
    "            return 0  # No penalty if within the target range\n",
    "        elif confidence < lower_target_confidence:\n",
    "            return lower_target_confidence - confidence  # Penalty for being below the range\n",
    "        else:\n",
    "            return confidence - upper_target_confidence  # Penalty for being above the range\n",
    "\n",
    "    avg_penalty = sum(confidence_penalty(conf) for conf in new_confidences) / len(new_confidences)\n",
    "    \n",
    "    num_modifications = sum([individual[i] != 0 for i in range(len(individual))])\n",
    "    utility_score = num_modifications / max_modifications\n",
    "    \n",
    "    # Adjust alpha and beta as necessary to balance between penalty and utility preservation\n",
    "    combined_score = (1 - avg_penalty) * alpha + utility_score * beta\n",
    "    \n",
    "    return combined_score, combined_score\n",
    "\n",
    "# Define genetic operators\n",
    "toolbox = base.Toolbox()\n",
    "\n",
    "# pool = multiprocessing.Pool(processes=3)\n",
    "# toolbox.register(\"map\", pool.map)\n",
    "\n",
    "toolbox.register(\"attr_int\", random.randint, 0, 3)  # 0: do nothing, 1: remove 'a', 2: remove 'b', 3: remove both\n",
    "toolbox.register(\"individual\", tools.initRepeat, creator.Individual, toolbox.attr_int, n=len(transactions) * max(len(t) for t in transactions))\n",
    "toolbox.register(\"population\", tools.initRepeat, list, toolbox.individual)\n",
    "toolbox.register(\"evaluate\", evaluate_individual)\n",
    "toolbox.register(\"mate\", tools.cxTwoPoint)\n",
    "toolbox.register(\"mutate\", tools.mutUniformInt, low=0, up=3, indpb=0.1)\n",
    "toolbox.register(\"select\", tools.selTournament, tournsize=4)\n",
    "\n",
    "# Run genetic algorithm\n",
    "population_size = 300\n",
    "max_generations = 200\n",
    "pop = toolbox.population(n=population_size)\n",
    "stats = tools.Statistics(lambda ind: ind.fitness.values)\n",
    "stats.register(\"avg\", numpy.mean)\n",
    "stats.register(\"std\", numpy.std)\n",
    "stats.register(\"min\", numpy.min)\n",
    "stats.register(\"max\", numpy.max)\n",
    "\n",
    "pop, log = algorithms.eaSimple(pop, toolbox, cxpb=0.8, mutpb=0.2, ngen=max_generations, stats=stats, verbose=True)\n",
    "\n",
    "# pool.close()\n",
    "\n",
    "# Find best individual\n",
    "best_individual = tools.selBest(pop, 1)[0]\n",
    "\n",
    "# Apply modifications to dataset\n",
    "modified_dataset = apply_modifications(transactions, best_individual)\n",
    "\n",
    "# Calculate resulting rule confidences\n",
    "new_confidences = [calculate_rule_confidence(rule, modified_dataset) for rule in target_rules]\n",
    "\n",
    "# Output results\n",
    "# print(\"Modifications:\")\n",
    "# for i, transaction in enumerate(transactions):\n",
    "#     modified_transaction = apply_modifications([transaction], best_individual)[0]\n",
    "#     print(f\"Transaction {i + 1}: {transaction} -> {modified_transaction}\")\n",
    "\n",
    "# After finding the best individual\n",
    "modified_txn_final = apply_modifications(transactions, best_individual)\n",
    "\n",
    "# print(\"Modifications:\")\n",
    "# for i, (original, modified) in enumerate(zip(transactions, modified_txn_final)):\n",
    "#     print(f\"Transaction {i + 1}: {original} -> {modified}\")\n",
    "\n",
    "\n",
    "# print(\"\\nResulting Rule Confidences:\")\n",
    "# for rule, new_confidence in zip(target_rules, new_confidences):\n",
    "#     # print(f\"{rule}: {new_confidence:.2f}\")\n",
    "#     print(f\"{rule}: {new_confidence}\")\n",
    "target_confidence = lower_target_confidence\n",
    "print(\"\\nAnalysis of Trade-off:\")\n",
    "avg_new_confidence = sum(new_confidences) / len(new_confidences)\n",
    "num_modifications = sum([best_individual[i] != 0 for i in range(len(best_individual))])\n",
    "print(f\"Average Confidence Reduction: {(1 - avg_new_confidence / target_confidence)}\")\n",
    "print(f\"Dataset Utility Preservation: {(max_modifications - num_modifications )/ max_modifications}\")\n"
   ]
  },
  {
   "cell_type": "code",
   "execution_count": 24,
   "metadata": {},
   "outputs": [
    {
     "data": {
      "text/plain": [
       "(150, (150, 1))"
      ]
     },
     "execution_count": 24,
     "metadata": {},
     "output_type": "execute_result"
    }
   ],
   "source": [
    "len(modified_txn_final), transactions_final.shape"
   ]
  },
  {
   "cell_type": "code",
   "execution_count": 25,
   "metadata": {},
   "outputs": [],
   "source": [
    "# # save this as txt file\n",
    "# with open('modified_txn_final.txt', 'w') as f:\n",
    "#     for item in modified_txn_final:\n",
    "#         f.write(\"%s\\n\" % item)"
   ]
  },
  {
   "cell_type": "code",
   "execution_count": 26,
   "metadata": {},
   "outputs": [],
   "source": [
    "modified_txn_final_copy = modified_txn_final.copy()\n"
   ]
  },
  {
   "cell_type": "code",
   "execution_count": 27,
   "metadata": {},
   "outputs": [
    {
     "data": {
      "text/html": [
       "<div>\n",
       "<style scoped>\n",
       "    .dataframe tbody tr th:only-of-type {\n",
       "        vertical-align: middle;\n",
       "    }\n",
       "\n",
       "    .dataframe tbody tr th {\n",
       "        vertical-align: top;\n",
       "    }\n",
       "\n",
       "    .dataframe thead th {\n",
       "        text-align: right;\n",
       "    }\n",
       "</style>\n",
       "<table border=\"1\" class=\"dataframe\">\n",
       "  <thead>\n",
       "    <tr style=\"text-align: right;\">\n",
       "      <th></th>\n",
       "      <th>0</th>\n",
       "      <th>1</th>\n",
       "      <th>2</th>\n",
       "      <th>3</th>\n",
       "      <th>4</th>\n",
       "      <th>5</th>\n",
       "      <th>6</th>\n",
       "      <th>7</th>\n",
       "      <th>8</th>\n",
       "      <th>9</th>\n",
       "      <th>...</th>\n",
       "      <th>77</th>\n",
       "      <th>78</th>\n",
       "      <th>79</th>\n",
       "      <th>80</th>\n",
       "      <th>81</th>\n",
       "      <th>82</th>\n",
       "      <th>83</th>\n",
       "      <th>84</th>\n",
       "      <th>85</th>\n",
       "      <th>86</th>\n",
       "    </tr>\n",
       "  </thead>\n",
       "  <tbody>\n",
       "    <tr>\n",
       "      <th>0</th>\n",
       "      <td>1358</td>\n",
       "      <td>1561</td>\n",
       "      <td>1791</td>\n",
       "      <td>817</td>\n",
       "      <td>3869</td>\n",
       "      <td>1359</td>\n",
       "      <td>3867</td>\n",
       "      <td>3530</td>\n",
       "      <td>1558</td>\n",
       "      <td>None</td>\n",
       "      <td>...</td>\n",
       "      <td>None</td>\n",
       "      <td>None</td>\n",
       "      <td>None</td>\n",
       "      <td>None</td>\n",
       "      <td>None</td>\n",
       "      <td>None</td>\n",
       "      <td>None</td>\n",
       "      <td>None</td>\n",
       "      <td>None</td>\n",
       "      <td>None</td>\n",
       "    </tr>\n",
       "    <tr>\n",
       "      <th>1</th>\n",
       "      <td>3784</td>\n",
       "      <td>2684</td>\n",
       "      <td>3431</td>\n",
       "      <td>2181</td>\n",
       "      <td>1428</td>\n",
       "      <td>1019</td>\n",
       "      <td>1564</td>\n",
       "      <td>2063</td>\n",
       "      <td>1165</td>\n",
       "      <td>2115</td>\n",
       "      <td>...</td>\n",
       "      <td>None</td>\n",
       "      <td>None</td>\n",
       "      <td>None</td>\n",
       "      <td>None</td>\n",
       "      <td>None</td>\n",
       "      <td>None</td>\n",
       "      <td>None</td>\n",
       "      <td>None</td>\n",
       "      <td>None</td>\n",
       "      <td>None</td>\n",
       "    </tr>\n",
       "    <tr>\n",
       "      <th>2</th>\n",
       "      <td>528</td>\n",
       "      <td>3702</td>\n",
       "      <td>1722</td>\n",
       "      <td>1004</td>\n",
       "      <td>1658</td>\n",
       "      <td>3564</td>\n",
       "      <td>2153</td>\n",
       "      <td>2667</td>\n",
       "      <td>1660</td>\n",
       "      <td>1661</td>\n",
       "      <td>...</td>\n",
       "      <td>None</td>\n",
       "      <td>None</td>\n",
       "      <td>None</td>\n",
       "      <td>None</td>\n",
       "      <td>None</td>\n",
       "      <td>None</td>\n",
       "      <td>None</td>\n",
       "      <td>None</td>\n",
       "      <td>None</td>\n",
       "      <td>None</td>\n",
       "    </tr>\n",
       "    <tr>\n",
       "      <th>3</th>\n",
       "      <td>3547</td>\n",
       "      <td>1364</td>\n",
       "      <td>3758</td>\n",
       "      <td>1592</td>\n",
       "      <td>3682</td>\n",
       "      <td>672</td>\n",
       "      <td>3765</td>\n",
       "      <td>680</td>\n",
       "      <td>2518</td>\n",
       "      <td>741</td>\n",
       "      <td>...</td>\n",
       "      <td>None</td>\n",
       "      <td>None</td>\n",
       "      <td>None</td>\n",
       "      <td>None</td>\n",
       "      <td>None</td>\n",
       "      <td>None</td>\n",
       "      <td>None</td>\n",
       "      <td>None</td>\n",
       "      <td>None</td>\n",
       "      <td>None</td>\n",
       "    </tr>\n",
       "    <tr>\n",
       "      <th>4</th>\n",
       "      <td>3754</td>\n",
       "      <td>2984</td>\n",
       "      <td>111</td>\n",
       "      <td>1216</td>\n",
       "      <td>104</td>\n",
       "      <td>2746</td>\n",
       "      <td>790</td>\n",
       "      <td>3303</td>\n",
       "      <td>1419</td>\n",
       "      <td>3601</td>\n",
       "      <td>...</td>\n",
       "      <td>None</td>\n",
       "      <td>None</td>\n",
       "      <td>None</td>\n",
       "      <td>None</td>\n",
       "      <td>None</td>\n",
       "      <td>None</td>\n",
       "      <td>None</td>\n",
       "      <td>None</td>\n",
       "      <td>None</td>\n",
       "      <td>None</td>\n",
       "    </tr>\n",
       "    <tr>\n",
       "      <th>...</th>\n",
       "      <td>...</td>\n",
       "      <td>...</td>\n",
       "      <td>...</td>\n",
       "      <td>...</td>\n",
       "      <td>...</td>\n",
       "      <td>...</td>\n",
       "      <td>...</td>\n",
       "      <td>...</td>\n",
       "      <td>...</td>\n",
       "      <td>...</td>\n",
       "      <td>...</td>\n",
       "      <td>...</td>\n",
       "      <td>...</td>\n",
       "      <td>...</td>\n",
       "      <td>...</td>\n",
       "      <td>...</td>\n",
       "      <td>...</td>\n",
       "      <td>...</td>\n",
       "      <td>...</td>\n",
       "      <td>...</td>\n",
       "      <td>...</td>\n",
       "    </tr>\n",
       "    <tr>\n",
       "      <th>145</th>\n",
       "      <td>3088</td>\n",
       "      <td>1927</td>\n",
       "      <td>3216</td>\n",
       "      <td>583</td>\n",
       "      <td>2236</td>\n",
       "      <td>705</td>\n",
       "      <td>2562</td>\n",
       "      <td>1961</td>\n",
       "      <td>3213</td>\n",
       "      <td>3219</td>\n",
       "      <td>...</td>\n",
       "      <td>None</td>\n",
       "      <td>None</td>\n",
       "      <td>None</td>\n",
       "      <td>None</td>\n",
       "      <td>None</td>\n",
       "      <td>None</td>\n",
       "      <td>None</td>\n",
       "      <td>None</td>\n",
       "      <td>None</td>\n",
       "      <td>None</td>\n",
       "    </tr>\n",
       "    <tr>\n",
       "      <th>146</th>\n",
       "      <td>1527</td>\n",
       "      <td>976</td>\n",
       "      <td>2804</td>\n",
       "      <td>1932</td>\n",
       "      <td>2595</td>\n",
       "      <td>704</td>\n",
       "      <td>2750</td>\n",
       "      <td>973</td>\n",
       "      <td>111</td>\n",
       "      <td>1937</td>\n",
       "      <td>...</td>\n",
       "      <td>None</td>\n",
       "      <td>None</td>\n",
       "      <td>None</td>\n",
       "      <td>None</td>\n",
       "      <td>None</td>\n",
       "      <td>None</td>\n",
       "      <td>None</td>\n",
       "      <td>None</td>\n",
       "      <td>None</td>\n",
       "      <td>None</td>\n",
       "    </tr>\n",
       "    <tr>\n",
       "      <th>147</th>\n",
       "      <td>359</td>\n",
       "      <td>2764</td>\n",
       "      <td>3357</td>\n",
       "      <td>1939</td>\n",
       "      <td>1932</td>\n",
       "      <td>189</td>\n",
       "      <td>2722</td>\n",
       "      <td>1592</td>\n",
       "      <td>3384</td>\n",
       "      <td>2611</td>\n",
       "      <td>...</td>\n",
       "      <td>None</td>\n",
       "      <td>None</td>\n",
       "      <td>None</td>\n",
       "      <td>None</td>\n",
       "      <td>None</td>\n",
       "      <td>None</td>\n",
       "      <td>None</td>\n",
       "      <td>None</td>\n",
       "      <td>None</td>\n",
       "      <td>None</td>\n",
       "    </tr>\n",
       "    <tr>\n",
       "      <th>148</th>\n",
       "      <td>3290</td>\n",
       "      <td>93</td>\n",
       "      <td>475</td>\n",
       "      <td>2331</td>\n",
       "      <td>1572</td>\n",
       "      <td>3749</td>\n",
       "      <td>2016</td>\n",
       "      <td>2115</td>\n",
       "      <td>95</td>\n",
       "      <td>2375</td>\n",
       "      <td>...</td>\n",
       "      <td>None</td>\n",
       "      <td>None</td>\n",
       "      <td>None</td>\n",
       "      <td>None</td>\n",
       "      <td>None</td>\n",
       "      <td>None</td>\n",
       "      <td>None</td>\n",
       "      <td>None</td>\n",
       "      <td>None</td>\n",
       "      <td>None</td>\n",
       "    </tr>\n",
       "    <tr>\n",
       "      <th>149</th>\n",
       "      <td>1600</td>\n",
       "      <td>3733</td>\n",
       "      <td>2988</td>\n",
       "      <td>123</td>\n",
       "      <td>1721</td>\n",
       "      <td>1743</td>\n",
       "      <td>2307</td>\n",
       "      <td>3072</td>\n",
       "      <td>3071</td>\n",
       "      <td>3095</td>\n",
       "      <td>...</td>\n",
       "      <td>None</td>\n",
       "      <td>None</td>\n",
       "      <td>None</td>\n",
       "      <td>None</td>\n",
       "      <td>None</td>\n",
       "      <td>None</td>\n",
       "      <td>None</td>\n",
       "      <td>None</td>\n",
       "      <td>None</td>\n",
       "      <td>None</td>\n",
       "    </tr>\n",
       "  </tbody>\n",
       "</table>\n",
       "<p>150 rows × 87 columns</p>\n",
       "</div>"
      ],
      "text/plain": [
       "       0     1     2     3     4     5     6     7     8     9   ...    77  \\\n",
       "0    1358  1561  1791   817  3869  1359  3867  3530  1558  None  ...  None   \n",
       "1    3784  2684  3431  2181  1428  1019  1564  2063  1165  2115  ...  None   \n",
       "2     528  3702  1722  1004  1658  3564  2153  2667  1660  1661  ...  None   \n",
       "3    3547  1364  3758  1592  3682   672  3765   680  2518   741  ...  None   \n",
       "4    3754  2984   111  1216   104  2746   790  3303  1419  3601  ...  None   \n",
       "..    ...   ...   ...   ...   ...   ...   ...   ...   ...   ...  ...   ...   \n",
       "145  3088  1927  3216   583  2236   705  2562  1961  3213  3219  ...  None   \n",
       "146  1527   976  2804  1932  2595   704  2750   973   111  1937  ...  None   \n",
       "147   359  2764  3357  1939  1932   189  2722  1592  3384  2611  ...  None   \n",
       "148  3290    93   475  2331  1572  3749  2016  2115    95  2375  ...  None   \n",
       "149  1600  3733  2988   123  1721  1743  2307  3072  3071  3095  ...  None   \n",
       "\n",
       "       78    79    80    81    82    83    84    85    86  \n",
       "0    None  None  None  None  None  None  None  None  None  \n",
       "1    None  None  None  None  None  None  None  None  None  \n",
       "2    None  None  None  None  None  None  None  None  None  \n",
       "3    None  None  None  None  None  None  None  None  None  \n",
       "4    None  None  None  None  None  None  None  None  None  \n",
       "..    ...   ...   ...   ...   ...   ...   ...   ...   ...  \n",
       "145  None  None  None  None  None  None  None  None  None  \n",
       "146  None  None  None  None  None  None  None  None  None  \n",
       "147  None  None  None  None  None  None  None  None  None  \n",
       "148  None  None  None  None  None  None  None  None  None  \n",
       "149  None  None  None  None  None  None  None  None  None  \n",
       "\n",
       "[150 rows x 87 columns]"
      ]
     },
     "execution_count": 27,
     "metadata": {},
     "output_type": "execute_result"
    }
   ],
   "source": [
    "modified_txn_final_copy = pd.DataFrame(modified_txn_final_copy)\n",
    "modified_txn_final_copy"
   ]
  },
  {
   "cell_type": "code",
   "execution_count": 28,
   "metadata": {},
   "outputs": [],
   "source": [
    "item_df_2 = modified_txn_final_copy.copy()\n"
   ]
  },
  {
   "cell_type": "code",
   "execution_count": 29,
   "metadata": {},
   "outputs": [
    {
     "data": {
      "text/html": [
       "<div>\n",
       "<style scoped>\n",
       "    .dataframe tbody tr th:only-of-type {\n",
       "        vertical-align: middle;\n",
       "    }\n",
       "\n",
       "    .dataframe tbody tr th {\n",
       "        vertical-align: top;\n",
       "    }\n",
       "\n",
       "    .dataframe thead th {\n",
       "        text-align: right;\n",
       "    }\n",
       "</style>\n",
       "<table border=\"1\" class=\"dataframe\">\n",
       "  <thead>\n",
       "    <tr style=\"text-align: right;\">\n",
       "      <th></th>\n",
       "      <th>1</th>\n",
       "      <th>10</th>\n",
       "      <th>100</th>\n",
       "      <th>1001</th>\n",
       "      <th>1002</th>\n",
       "      <th>1003</th>\n",
       "      <th>1004</th>\n",
       "      <th>1006</th>\n",
       "      <th>1007</th>\n",
       "      <th>101</th>\n",
       "      <th>...</th>\n",
       "      <th>973</th>\n",
       "      <th>975</th>\n",
       "      <th>976</th>\n",
       "      <th>979</th>\n",
       "      <th>98</th>\n",
       "      <th>981</th>\n",
       "      <th>984</th>\n",
       "      <th>992</th>\n",
       "      <th>997</th>\n",
       "      <th>998</th>\n",
       "    </tr>\n",
       "  </thead>\n",
       "  <tbody>\n",
       "    <tr>\n",
       "      <th>0</th>\n",
       "      <td>False</td>\n",
       "      <td>False</td>\n",
       "      <td>False</td>\n",
       "      <td>False</td>\n",
       "      <td>False</td>\n",
       "      <td>False</td>\n",
       "      <td>False</td>\n",
       "      <td>False</td>\n",
       "      <td>False</td>\n",
       "      <td>False</td>\n",
       "      <td>...</td>\n",
       "      <td>False</td>\n",
       "      <td>False</td>\n",
       "      <td>False</td>\n",
       "      <td>False</td>\n",
       "      <td>False</td>\n",
       "      <td>False</td>\n",
       "      <td>False</td>\n",
       "      <td>False</td>\n",
       "      <td>False</td>\n",
       "      <td>False</td>\n",
       "    </tr>\n",
       "    <tr>\n",
       "      <th>1</th>\n",
       "      <td>False</td>\n",
       "      <td>False</td>\n",
       "      <td>False</td>\n",
       "      <td>False</td>\n",
       "      <td>False</td>\n",
       "      <td>False</td>\n",
       "      <td>False</td>\n",
       "      <td>False</td>\n",
       "      <td>False</td>\n",
       "      <td>False</td>\n",
       "      <td>...</td>\n",
       "      <td>False</td>\n",
       "      <td>False</td>\n",
       "      <td>False</td>\n",
       "      <td>False</td>\n",
       "      <td>False</td>\n",
       "      <td>False</td>\n",
       "      <td>False</td>\n",
       "      <td>False</td>\n",
       "      <td>False</td>\n",
       "      <td>False</td>\n",
       "    </tr>\n",
       "    <tr>\n",
       "      <th>2</th>\n",
       "      <td>False</td>\n",
       "      <td>False</td>\n",
       "      <td>False</td>\n",
       "      <td>False</td>\n",
       "      <td>False</td>\n",
       "      <td>False</td>\n",
       "      <td>True</td>\n",
       "      <td>False</td>\n",
       "      <td>False</td>\n",
       "      <td>False</td>\n",
       "      <td>...</td>\n",
       "      <td>False</td>\n",
       "      <td>False</td>\n",
       "      <td>False</td>\n",
       "      <td>False</td>\n",
       "      <td>False</td>\n",
       "      <td>False</td>\n",
       "      <td>False</td>\n",
       "      <td>False</td>\n",
       "      <td>True</td>\n",
       "      <td>False</td>\n",
       "    </tr>\n",
       "    <tr>\n",
       "      <th>3</th>\n",
       "      <td>False</td>\n",
       "      <td>False</td>\n",
       "      <td>False</td>\n",
       "      <td>False</td>\n",
       "      <td>False</td>\n",
       "      <td>False</td>\n",
       "      <td>False</td>\n",
       "      <td>False</td>\n",
       "      <td>False</td>\n",
       "      <td>False</td>\n",
       "      <td>...</td>\n",
       "      <td>False</td>\n",
       "      <td>False</td>\n",
       "      <td>False</td>\n",
       "      <td>False</td>\n",
       "      <td>False</td>\n",
       "      <td>False</td>\n",
       "      <td>False</td>\n",
       "      <td>False</td>\n",
       "      <td>False</td>\n",
       "      <td>False</td>\n",
       "    </tr>\n",
       "    <tr>\n",
       "      <th>4</th>\n",
       "      <td>False</td>\n",
       "      <td>False</td>\n",
       "      <td>False</td>\n",
       "      <td>False</td>\n",
       "      <td>False</td>\n",
       "      <td>False</td>\n",
       "      <td>False</td>\n",
       "      <td>False</td>\n",
       "      <td>False</td>\n",
       "      <td>False</td>\n",
       "      <td>...</td>\n",
       "      <td>False</td>\n",
       "      <td>False</td>\n",
       "      <td>False</td>\n",
       "      <td>False</td>\n",
       "      <td>False</td>\n",
       "      <td>False</td>\n",
       "      <td>False</td>\n",
       "      <td>False</td>\n",
       "      <td>False</td>\n",
       "      <td>False</td>\n",
       "    </tr>\n",
       "  </tbody>\n",
       "</table>\n",
       "<p>5 rows × 1485 columns</p>\n",
       "</div>"
      ],
      "text/plain": [
       "       1     10    100   1001   1002   1003   1004   1006   1007    101  ...  \\\n",
       "0  False  False  False  False  False  False  False  False  False  False  ...   \n",
       "1  False  False  False  False  False  False  False  False  False  False  ...   \n",
       "2  False  False  False  False  False  False   True  False  False  False  ...   \n",
       "3  False  False  False  False  False  False  False  False  False  False  ...   \n",
       "4  False  False  False  False  False  False  False  False  False  False  ...   \n",
       "\n",
       "     973    975    976    979     98    981    984    992    997    998  \n",
       "0  False  False  False  False  False  False  False  False  False  False  \n",
       "1  False  False  False  False  False  False  False  False  False  False  \n",
       "2  False  False  False  False  False  False  False  False   True  False  \n",
       "3  False  False  False  False  False  False  False  False  False  False  \n",
       "4  False  False  False  False  False  False  False  False  False  False  \n",
       "\n",
       "[5 rows x 1485 columns]"
      ]
     },
     "execution_count": 29,
     "metadata": {},
     "output_type": "execute_result"
    }
   ],
   "source": [
    "df_encoded_2 = pd.get_dummies(item_df_2, prefix='', prefix_sep='').groupby(level=0, axis=1).max()\n",
    "df_encoded_2.head()"
   ]
  },
  {
   "cell_type": "code",
   "execution_count": 30,
   "metadata": {},
   "outputs": [],
   "source": [
    "df_binary_2 = df_encoded_2.copy()\n",
    "df_binary_2 = df_binary_2.astype('bool').astype('int')"
   ]
  },
  {
   "cell_type": "code",
   "execution_count": 31,
   "metadata": {},
   "outputs": [],
   "source": [
    "# # df_binary_1.shape, df_binary_2.shape\n",
    "# # get the lenght of eaach row\n",
    "# print(df_binary_1.shape[1], df_binary_2.shape[1])\n",
    "# print(df_binary_1.sum(axis=1).sum(), df_binary_2.sum(axis=1).sum())\n",
    "# differnce = df_binary_1.shape[1] - df_binary_2.shape[1]\n",
    "# # utility_preservation = df_binary_2.sum(axis=1).sum() / df_binary_1.sum(axis=1).sum()\n",
    "# no_colums_df_1 = df_binary_1.shape[1]\n",
    "# no_colums_df_2 = df_binary_2.shape[1]\n",
    "\n",
    "# utility_preservation = 1 - (no_colums_df_1 - no_colums_df_2) / no_colums_df_1\n",
    "# utility_preservation,differnce\n"
   ]
  },
  {
   "cell_type": "code",
   "execution_count": 32,
   "metadata": {},
   "outputs": [
    {
     "data": {
      "text/html": [
       "<div>\n",
       "<style scoped>\n",
       "    .dataframe tbody tr th:only-of-type {\n",
       "        vertical-align: middle;\n",
       "    }\n",
       "\n",
       "    .dataframe tbody tr th {\n",
       "        vertical-align: top;\n",
       "    }\n",
       "\n",
       "    .dataframe thead th {\n",
       "        text-align: right;\n",
       "    }\n",
       "</style>\n",
       "<table border=\"1\" class=\"dataframe\">\n",
       "  <thead>\n",
       "    <tr style=\"text-align: right;\">\n",
       "      <th></th>\n",
       "      <th>0</th>\n",
       "      <th>1</th>\n",
       "      <th>2</th>\n",
       "      <th>3</th>\n",
       "      <th>4</th>\n",
       "      <th>5</th>\n",
       "      <th>6</th>\n",
       "      <th>7</th>\n",
       "      <th>8</th>\n",
       "      <th>9</th>\n",
       "      <th>...</th>\n",
       "      <th>79</th>\n",
       "      <th>80</th>\n",
       "      <th>81</th>\n",
       "      <th>82</th>\n",
       "      <th>83</th>\n",
       "      <th>84</th>\n",
       "      <th>85</th>\n",
       "      <th>86</th>\n",
       "      <th>87</th>\n",
       "      <th>88</th>\n",
       "    </tr>\n",
       "  </thead>\n",
       "  <tbody>\n",
       "    <tr>\n",
       "      <th>0</th>\n",
       "      <td>1359</td>\n",
       "      <td>1791</td>\n",
       "      <td>817</td>\n",
       "      <td>3867</td>\n",
       "      <td>1561</td>\n",
       "      <td>1358</td>\n",
       "      <td>3530</td>\n",
       "      <td>3869</td>\n",
       "      <td>1558</td>\n",
       "      <td>None</td>\n",
       "      <td>...</td>\n",
       "      <td>None</td>\n",
       "      <td>None</td>\n",
       "      <td>None</td>\n",
       "      <td>None</td>\n",
       "      <td>None</td>\n",
       "      <td>None</td>\n",
       "      <td>None</td>\n",
       "      <td>None</td>\n",
       "      <td>None</td>\n",
       "      <td>None</td>\n",
       "    </tr>\n",
       "    <tr>\n",
       "      <th>1</th>\n",
       "      <td>1564</td>\n",
       "      <td>2181</td>\n",
       "      <td>2751</td>\n",
       "      <td>3431</td>\n",
       "      <td>1019</td>\n",
       "      <td>2063</td>\n",
       "      <td>2990</td>\n",
       "      <td>1992</td>\n",
       "      <td>1428</td>\n",
       "      <td>3784</td>\n",
       "      <td>...</td>\n",
       "      <td>None</td>\n",
       "      <td>None</td>\n",
       "      <td>None</td>\n",
       "      <td>None</td>\n",
       "      <td>None</td>\n",
       "      <td>None</td>\n",
       "      <td>None</td>\n",
       "      <td>None</td>\n",
       "      <td>None</td>\n",
       "      <td>None</td>\n",
       "    </tr>\n",
       "    <tr>\n",
       "      <th>2</th>\n",
       "      <td>3702</td>\n",
       "      <td>1755</td>\n",
       "      <td>1642</td>\n",
       "      <td>1764</td>\n",
       "      <td>2153</td>\n",
       "      <td>43</td>\n",
       "      <td>1022</td>\n",
       "      <td>412</td>\n",
       "      <td>1658</td>\n",
       "      <td>724</td>\n",
       "      <td>...</td>\n",
       "      <td>None</td>\n",
       "      <td>None</td>\n",
       "      <td>None</td>\n",
       "      <td>None</td>\n",
       "      <td>None</td>\n",
       "      <td>None</td>\n",
       "      <td>None</td>\n",
       "      <td>None</td>\n",
       "      <td>None</td>\n",
       "      <td>None</td>\n",
       "    </tr>\n",
       "    <tr>\n",
       "      <th>3</th>\n",
       "      <td>680</td>\n",
       "      <td>2758</td>\n",
       "      <td>3765</td>\n",
       "      <td>3758</td>\n",
       "      <td>672</td>\n",
       "      <td>2518</td>\n",
       "      <td>2856</td>\n",
       "      <td>2997</td>\n",
       "      <td>1592</td>\n",
       "      <td>1501</td>\n",
       "      <td>...</td>\n",
       "      <td>None</td>\n",
       "      <td>None</td>\n",
       "      <td>None</td>\n",
       "      <td>None</td>\n",
       "      <td>None</td>\n",
       "      <td>None</td>\n",
       "      <td>None</td>\n",
       "      <td>None</td>\n",
       "      <td>None</td>\n",
       "      <td>None</td>\n",
       "    </tr>\n",
       "    <tr>\n",
       "      <th>4</th>\n",
       "      <td>2931</td>\n",
       "      <td>522</td>\n",
       "      <td>580</td>\n",
       "      <td>3754</td>\n",
       "      <td>1419</td>\n",
       "      <td>1216</td>\n",
       "      <td>3745</td>\n",
       "      <td>111</td>\n",
       "      <td>3668</td>\n",
       "      <td>2298</td>\n",
       "      <td>...</td>\n",
       "      <td>None</td>\n",
       "      <td>None</td>\n",
       "      <td>None</td>\n",
       "      <td>None</td>\n",
       "      <td>None</td>\n",
       "      <td>None</td>\n",
       "      <td>None</td>\n",
       "      <td>None</td>\n",
       "      <td>None</td>\n",
       "      <td>None</td>\n",
       "    </tr>\n",
       "    <tr>\n",
       "      <th>...</th>\n",
       "      <td>...</td>\n",
       "      <td>...</td>\n",
       "      <td>...</td>\n",
       "      <td>...</td>\n",
       "      <td>...</td>\n",
       "      <td>...</td>\n",
       "      <td>...</td>\n",
       "      <td>...</td>\n",
       "      <td>...</td>\n",
       "      <td>...</td>\n",
       "      <td>...</td>\n",
       "      <td>...</td>\n",
       "      <td>...</td>\n",
       "      <td>...</td>\n",
       "      <td>...</td>\n",
       "      <td>...</td>\n",
       "      <td>...</td>\n",
       "      <td>...</td>\n",
       "      <td>...</td>\n",
       "      <td>...</td>\n",
       "      <td>...</td>\n",
       "    </tr>\n",
       "    <tr>\n",
       "      <th>145</th>\n",
       "      <td>3219</td>\n",
       "      <td>3088</td>\n",
       "      <td>2236</td>\n",
       "      <td>705</td>\n",
       "      <td>583</td>\n",
       "      <td>1961</td>\n",
       "      <td>2562</td>\n",
       "      <td>3216</td>\n",
       "      <td>3213</td>\n",
       "      <td>1927</td>\n",
       "      <td>...</td>\n",
       "      <td>None</td>\n",
       "      <td>None</td>\n",
       "      <td>None</td>\n",
       "      <td>None</td>\n",
       "      <td>None</td>\n",
       "      <td>None</td>\n",
       "      <td>None</td>\n",
       "      <td>None</td>\n",
       "      <td>None</td>\n",
       "      <td>None</td>\n",
       "    </tr>\n",
       "    <tr>\n",
       "      <th>146</th>\n",
       "      <td>2262</td>\n",
       "      <td>668</td>\n",
       "      <td>778</td>\n",
       "      <td>975</td>\n",
       "      <td>2040</td>\n",
       "      <td>209</td>\n",
       "      <td>3476</td>\n",
       "      <td>705</td>\n",
       "      <td>522</td>\n",
       "      <td>3308</td>\n",
       "      <td>...</td>\n",
       "      <td>None</td>\n",
       "      <td>None</td>\n",
       "      <td>None</td>\n",
       "      <td>None</td>\n",
       "      <td>None</td>\n",
       "      <td>None</td>\n",
       "      <td>None</td>\n",
       "      <td>None</td>\n",
       "      <td>None</td>\n",
       "      <td>None</td>\n",
       "    </tr>\n",
       "    <tr>\n",
       "      <th>147</th>\n",
       "      <td>2761</td>\n",
       "      <td>1913</td>\n",
       "      <td>828</td>\n",
       "      <td>3447</td>\n",
       "      <td>2518</td>\n",
       "      <td>2605</td>\n",
       "      <td>3384</td>\n",
       "      <td>1358</td>\n",
       "      <td>2768</td>\n",
       "      <td>792</td>\n",
       "      <td>...</td>\n",
       "      <td>None</td>\n",
       "      <td>None</td>\n",
       "      <td>None</td>\n",
       "      <td>None</td>\n",
       "      <td>None</td>\n",
       "      <td>None</td>\n",
       "      <td>None</td>\n",
       "      <td>None</td>\n",
       "      <td>None</td>\n",
       "      <td>None</td>\n",
       "    </tr>\n",
       "    <tr>\n",
       "      <th>148</th>\n",
       "      <td>3594</td>\n",
       "      <td>3747</td>\n",
       "      <td>200</td>\n",
       "      <td>2331</td>\n",
       "      <td>2613</td>\n",
       "      <td>95</td>\n",
       "      <td>2332</td>\n",
       "      <td>93</td>\n",
       "      <td>3749</td>\n",
       "      <td>2115</td>\n",
       "      <td>...</td>\n",
       "      <td>None</td>\n",
       "      <td>None</td>\n",
       "      <td>None</td>\n",
       "      <td>None</td>\n",
       "      <td>None</td>\n",
       "      <td>None</td>\n",
       "      <td>None</td>\n",
       "      <td>None</td>\n",
       "      <td>None</td>\n",
       "      <td>None</td>\n",
       "    </tr>\n",
       "    <tr>\n",
       "      <th>149</th>\n",
       "      <td>123</td>\n",
       "      <td>1599</td>\n",
       "      <td>1600</td>\n",
       "      <td>2988</td>\n",
       "      <td>3733</td>\n",
       "      <td>3072</td>\n",
       "      <td>1755</td>\n",
       "      <td>3071</td>\n",
       "      <td>1721</td>\n",
       "      <td>3735</td>\n",
       "      <td>...</td>\n",
       "      <td>None</td>\n",
       "      <td>None</td>\n",
       "      <td>None</td>\n",
       "      <td>None</td>\n",
       "      <td>None</td>\n",
       "      <td>None</td>\n",
       "      <td>None</td>\n",
       "      <td>None</td>\n",
       "      <td>None</td>\n",
       "      <td>None</td>\n",
       "    </tr>\n",
       "  </tbody>\n",
       "</table>\n",
       "<p>150 rows × 89 columns</p>\n",
       "</div>"
      ],
      "text/plain": [
       "       0     1     2     3     4     5     6     7     8     9   ...    79  \\\n",
       "0    1359  1791   817  3867  1561  1358  3530  3869  1558  None  ...  None   \n",
       "1    1564  2181  2751  3431  1019  2063  2990  1992  1428  3784  ...  None   \n",
       "2    3702  1755  1642  1764  2153    43  1022   412  1658   724  ...  None   \n",
       "3     680  2758  3765  3758   672  2518  2856  2997  1592  1501  ...  None   \n",
       "4    2931   522   580  3754  1419  1216  3745   111  3668  2298  ...  None   \n",
       "..    ...   ...   ...   ...   ...   ...   ...   ...   ...   ...  ...   ...   \n",
       "145  3219  3088  2236   705   583  1961  2562  3216  3213  1927  ...  None   \n",
       "146  2262   668   778   975  2040   209  3476   705   522  3308  ...  None   \n",
       "147  2761  1913   828  3447  2518  2605  3384  1358  2768   792  ...  None   \n",
       "148  3594  3747   200  2331  2613    95  2332    93  3749  2115  ...  None   \n",
       "149   123  1599  1600  2988  3733  3072  1755  3071  1721  3735  ...  None   \n",
       "\n",
       "       80    81    82    83    84    85    86    87    88  \n",
       "0    None  None  None  None  None  None  None  None  None  \n",
       "1    None  None  None  None  None  None  None  None  None  \n",
       "2    None  None  None  None  None  None  None  None  None  \n",
       "3    None  None  None  None  None  None  None  None  None  \n",
       "4    None  None  None  None  None  None  None  None  None  \n",
       "..    ...   ...   ...   ...   ...   ...   ...   ...   ...  \n",
       "145  None  None  None  None  None  None  None  None  None  \n",
       "146  None  None  None  None  None  None  None  None  None  \n",
       "147  None  None  None  None  None  None  None  None  None  \n",
       "148  None  None  None  None  None  None  None  None  None  \n",
       "149  None  None  None  None  None  None  None  None  None  \n",
       "\n",
       "[150 rows x 89 columns]"
      ]
     },
     "execution_count": 32,
     "metadata": {},
     "output_type": "execute_result"
    }
   ],
   "source": [
    "items_df"
   ]
  },
  {
   "cell_type": "code",
   "execution_count": 33,
   "metadata": {},
   "outputs": [
    {
     "name": "stdout",
     "output_type": "stream",
     "text": [
      "Association Rules:\n",
      "  antecedents consequents  antecedent support  consequent support   support  \\\n",
      "0       (726)      (1532)            0.040000            0.053333  0.033333   \n",
      "1      (1532)       (726)            0.053333            0.040000  0.033333   \n",
      "2      (1600)      (1599)            0.060000            0.040000  0.033333   \n",
      "3      (1599)      (1600)            0.040000            0.060000  0.033333   \n",
      "4      (1942)      (1928)            0.040000            0.060000  0.033333   \n",
      "\n",
      "   confidence       lift  leverage  conviction  zhangs_metric  \n",
      "0    0.833333  15.625000  0.031200        5.68       0.975000  \n",
      "1    0.625000  15.625000  0.031200        2.56       0.988732  \n",
      "2    0.555556  13.888889  0.030933        2.16       0.987234  \n",
      "3    0.833333  13.888889  0.030933        5.64       0.966667  \n",
      "4    0.833333  13.888889  0.030933        5.64       0.966667  \n"
     ]
    }
   ],
   "source": [
    "from mlxtend.frequent_patterns import apriori, association_rules\n",
    "\n",
    "def mine_association_rules(transactions_df, min_support=0.03, min_confidence=0.5):\n",
    "    \"\"\"\n",
    "    This function encodes the transactions into boolean values, performs association rule mining,\n",
    "    and returns the resulting rules.\n",
    "    \n",
    "    :param transactions_df: DataFrame with transactions where each item is represented in its own column.\n",
    "    :param min_support: The minimum support for an itemset to be considered frequent.\n",
    "    :param min_confidence: The minimum confidence for a rule to be considered.\n",
    "    :return: DataFrame containing the association rules.\n",
    "    \"\"\"\n",
    "    # Convert items to boolean columns\n",
    "    # df_encoded = df_encoded\n",
    "    \n",
    "    # Perform association rule mining\n",
    "    frequent_itemsets = apriori(df_encoded_2, min_support=min_support, use_colnames=True)\n",
    "    rules = association_rules(frequent_itemsets, metric=\"confidence\", min_threshold=min_confidence)\n",
    "    \n",
    "    return rules\n",
    "\n",
    "# Now, use the function and display the association rules\n",
    "rules_after_hidden = mine_association_rules(item_df_2)\n",
    "print(\"Association Rules:\")\n",
    "print(rules_after_hidden.head())"
   ]
  },
  {
   "cell_type": "code",
   "execution_count": 34,
   "metadata": {},
   "outputs": [
    {
     "data": {
      "text/plain": [
       "(16, 39)"
      ]
     },
     "execution_count": 34,
     "metadata": {},
     "output_type": "execute_result"
    }
   ],
   "source": [
    "len(rules_after_hidden),len(rules)"
   ]
  },
  {
   "cell_type": "code",
   "execution_count": 35,
   "metadata": {},
   "outputs": [],
   "source": [
    "# print(df_binary_1.shape[1], df_binary_2.shape[1])\n",
    "# print(df_binary_1.sum(axis=1).sum(), df_binary_2.sum(axis=1).sum())\n",
    "# differnce = df_binary_1.shape[1] - df_binary_2.shape[1]\n",
    "# # utility_preservation = df_binary_2.sum(axis=1).sum() / df_binary_1.sum(axis=1).sum()\n",
    "# no_colums_df_1 = df_binary_1.shape[1]\n",
    "# no_colums_df_2 = df_binary_2.shape[1]\n",
    "\n",
    "# utility_preservation = 1 - (no_colums_df_1 - no_colums_df_2) / no_colums_df_1\n",
    "# print(\"no of rules before hidden\",len(rules))\n",
    "# print(\"no of rules after hidden\",len(rules_after_hidden))\n",
    "# print(\"utility_preservation\",utility_preservation)\n",
    "# print(\"differnce\",differnce)\n"
   ]
  },
  {
   "cell_type": "code",
   "execution_count": 36,
   "metadata": {},
   "outputs": [],
   "source": [
    "sorted_rules_df_2 = rules_after_hidden.sort_values(by=['confidence', 'lift'], ascending=False)"
   ]
  },
  {
   "cell_type": "code",
   "execution_count": 37,
   "metadata": {},
   "outputs": [],
   "source": [
    "# Convert 'antecedents' and 'consequents' to frozenset for both dataframes\n",
    "sorted_rules_df['antecedents'] = sorted_rules_df['antecedents'].apply(frozenset)\n",
    "sorted_rules_df['consequents'] = sorted_rules_df['consequents'].apply(frozenset)\n",
    "sorted_rules_df_2['antecedents'] = sorted_rules_df_2['antecedents'].apply(frozenset)\n",
    "sorted_rules_df_2['consequents'] = sorted_rules_df_2['consequents'].apply(frozenset)\n"
   ]
  },
  {
   "cell_type": "code",
   "execution_count": 67,
   "metadata": {},
   "outputs": [],
   "source": [
    "\n",
    "# Merge both dataframes to find common entries\n",
    "common_entries = pd.merge(sorted_rules_df, sorted_rules_df_2, on=['antecedents', 'consequents'])\n",
    "\n",
    "# Find entries unique to sorted_rules_df\n",
    "unique_sorted_rules_df = sorted_rules_df[~sorted_rules_df[['antecedents', 'consequents']].apply(frozenset, axis=1).isin(\n",
    "    sorted_rules_df_2[['antecedents', 'consequents']].apply(frozenset, axis=1))]\n",
    "\n",
    "# Find entries unique to sorted_rules_df_2\n",
    "unique_sorted_rules_df_2 = sorted_rules_df_2[~sorted_rules_df_2[['antecedents', 'consequents']].apply(frozenset, axis=1).isin(\n",
    "    sorted_rules_df[['antecedents', 'consequents']].apply(frozenset, axis=1))]\n",
    "\n",
    "# compare the rules in the unique_sorted_rules_df_2 and rules_to_hide_df and get their data like support, confidence, lift\n",
    "\n",
    "hidden_rules_data_df = pd.merge(common_entries, rules_to_hide_df, on=['antecedents', 'consequents'])\n",
    "\n",
    "\n"
   ]
  },
  {
   "cell_type": "code",
   "execution_count": 68,
   "metadata": {},
   "outputs": [
    {
     "data": {
      "text/html": [
       "<div>\n",
       "<style scoped>\n",
       "    .dataframe tbody tr th:only-of-type {\n",
       "        vertical-align: middle;\n",
       "    }\n",
       "\n",
       "    .dataframe tbody tr th {\n",
       "        vertical-align: top;\n",
       "    }\n",
       "\n",
       "    .dataframe thead th {\n",
       "        text-align: right;\n",
       "    }\n",
       "</style>\n",
       "<table border=\"1\" class=\"dataframe\">\n",
       "  <thead>\n",
       "    <tr style=\"text-align: right;\">\n",
       "      <th></th>\n",
       "      <th>antecedents</th>\n",
       "      <th>consequents</th>\n",
       "      <th>antecedent support_x</th>\n",
       "      <th>consequent support_x</th>\n",
       "      <th>support_x</th>\n",
       "      <th>confidence_x</th>\n",
       "      <th>lift_x</th>\n",
       "      <th>leverage_x</th>\n",
       "      <th>conviction_x</th>\n",
       "      <th>zhangs_metric_x</th>\n",
       "      <th>antecedent support_y</th>\n",
       "      <th>consequent support_y</th>\n",
       "      <th>support_y</th>\n",
       "      <th>confidence_y</th>\n",
       "      <th>lift_y</th>\n",
       "      <th>leverage_y</th>\n",
       "      <th>conviction_y</th>\n",
       "      <th>zhangs_metric_y</th>\n",
       "    </tr>\n",
       "  </thead>\n",
       "  <tbody>\n",
       "  </tbody>\n",
       "</table>\n",
       "</div>"
      ],
      "text/plain": [
       "Empty DataFrame\n",
       "Columns: [antecedents, consequents, antecedent support_x, consequent support_x, support_x, confidence_x, lift_x, leverage_x, conviction_x, zhangs_metric_x, antecedent support_y, consequent support_y, support_y, confidence_y, lift_y, leverage_y, conviction_y, zhangs_metric_y]\n",
       "Index: []"
      ]
     },
     "execution_count": 68,
     "metadata": {},
     "output_type": "execute_result"
    }
   ],
   "source": [
    "    \n"
   ]
  },
  {
   "cell_type": "code",
   "execution_count": 61,
   "metadata": {},
   "outputs": [
    {
     "name": "stdout",
     "output_type": "stream",
     "text": [
      "shapes before and after (150, 1486) (150, 1485)\n",
      "no of rules before hidden 39\n",
      "no of rules after hidden 16\n",
      "rules lost ratio 41.02564102564102\n",
      "difference in total items in each row 63\n",
      "utility_preservation 0.9800443458980045\n",
      "differnce in rules 23\n",
      "Hidden rules presnt after hiding 0\n"
     ]
    }
   ],
   "source": [
    "\n",
    "print(\"shapes before and after\",df_binary_1.shape, df_binary_2.shape)\n",
    "# print(df_binary_1.sum(axis=1).sum(), df_binary_2.sum(axis=1).sum())\n",
    "\n",
    "# utility_preservation = df_binary_2.sum(axis=1).sum() / df_binary_1.sum(axis=1).sum()\n",
    "no_colums_df_1 = df_binary_1.shape[1]\n",
    "no_colums_df_2 = df_binary_2.shape[1]\n",
    "\n",
    "# difference in lengths of each rows and its sum\n",
    "diff = 0\n",
    "for i in range(df_binary_1.shape[0]):\n",
    "    diff += abs(df_binary_1.iloc[i].sum() - df_binary_2.iloc[i].sum())\n",
    "\n",
    "total = 0\n",
    "for i in range(df_binary_1.shape[0]):\n",
    "    total += df_binary_1.iloc[i].sum()\n",
    "    \n",
    "\n",
    "utility_preservation = 1 - (diff / total)\n",
    "print(\"no of rules before hidden\",len(rules))\n",
    "print(\"no of rules after hidden\",len(rules_after_hidden))\n",
    "print(\"rules lost ratio\",(len(rules_after_hidden) / len(rules)) * 100)\n",
    "print(\"difference in total items in each row\",diff)\n",
    "print(\"utility_preservation\",utility_preservation)\n",
    "print(\"differnce in rules\",len(rules) - len(rules_after_hidden))\n",
    "print(\"Hidden rules presnt after hiding\",len(hidden_rules_data_df))\n"
   ]
  },
  {
   "cell_type": "code",
   "execution_count": 66,
   "metadata": {},
   "outputs": [
    {
     "data": {
      "application/vnd.plotly.v1+json": {
       "config": {
        "plotlyServerURL": "https://plot.ly"
       },
       "data": [
        {
         "marker": {
          "color": "red",
          "opacity": 0.5,
          "size": 5
         },
         "mode": "markers",
         "name": "Common",
         "type": "scatter3d",
         "x": [
          0.03333333333333333,
          0.03333333333333333,
          0.03333333333333333,
          0.03333333333333333,
          0.03333333333333333,
          0.03333333333333333,
          0.03333333333333333,
          0.04,
          0.03333333333333333,
          0.03333333333333333,
          0.03333333333333333,
          0.03333333333333333,
          0.03333333333333333,
          0.03333333333333333,
          0.03333333333333333,
          0.04
         ],
         "y": [
          0.8333333333333333,
          0.8333333333333333,
          0.8333333333333333,
          0.8333333333333333,
          0.7142857142857142,
          0.7142857142857142,
          0.7142857142857142,
          0.6666666666666667,
          0.625,
          0.625,
          0.625,
          0.5555555555555556,
          0.5555555555555556,
          0.5555555555555556,
          0.5555555555555556,
          0.5454545454545454
         ],
         "z": [
          17.857142857142854,
          15.624999999999998,
          13.888888888888888,
          13.888888888888888,
          17.857142857142854,
          13.39285714285714,
          11.904761904761903,
          9.090909090909092,
          15.625,
          13.392857142857142,
          10.416666666666668,
          13.88888888888889,
          13.88888888888889,
          11.904761904761905,
          10.416666666666666,
          9.09090909090909
         ]
        },
        {
         "marker": {
          "color": "blue",
          "opacity": 0.5,
          "size": 5
         },
         "mode": "markers",
         "name": "hidden",
         "type": "scatter3d",
         "x": [
          0.03333333333333333,
          0.03333333333333333,
          0.04,
          0.04,
          0.04666666666666667,
          0.04666666666666667,
          0.04,
          0.04,
          0.04,
          0.03333333333333333,
          0.03333333333333333,
          0.03333333333333333,
          0.03333333333333333,
          0.03333333333333333,
          0.04,
          0.04,
          0.04,
          0.04,
          0.03333333333333333,
          0.04,
          0.03333333333333333,
          0.04,
          0.03333333333333333
         ],
         "y": [
          1,
          1,
          1,
          1,
          0.875,
          0.875,
          0.8571428571428571,
          0.8571428571428571,
          0.8571428571428571,
          0.8333333333333333,
          0.8333333333333333,
          0.8333333333333333,
          0.8333333333333333,
          0.8333333333333333,
          0.75,
          0.75,
          0.75,
          0.75,
          0.7142857142857142,
          0.6666666666666667,
          0.625,
          0.6,
          0.5
         ],
         "z": [
          30,
          30,
          18.75,
          18.75,
          16.40625,
          16.40625,
          12.857142857142856,
          7.563025210084033,
          7.563025210084033,
          20.833333333333332,
          20.833333333333332,
          12.499999999999998,
          7.352941176470588,
          7.352941176470588,
          18.75,
          18.75,
          6.61764705882353,
          6.61764705882353,
          6.302521008403361,
          5.882352941176472,
          5.514705882352941,
          12.857142857142856,
          12.5
         ]
        },
        {
         "marker": {
          "color": "green",
          "opacity": 0.5,
          "size": 5
         },
         "mode": "markers",
         "name": "df_2",
         "type": "scatter3d",
         "x": [],
         "y": [],
         "z": []
        }
       ],
       "layout": {
        "margin": {
         "b": 0,
         "l": 0,
         "r": 0,
         "t": 0
        },
        "scene": {
         "xaxis": {
          "title": {
           "text": "Support"
          }
         },
         "yaxis": {
          "title": {
           "text": "Confidence"
          }
         },
         "zaxis": {
          "title": {
           "text": "Lift"
          }
         }
        },
        "template": {
         "data": {
          "bar": [
           {
            "error_x": {
             "color": "#2a3f5f"
            },
            "error_y": {
             "color": "#2a3f5f"
            },
            "marker": {
             "line": {
              "color": "#E5ECF6",
              "width": 0.5
             },
             "pattern": {
              "fillmode": "overlay",
              "size": 10,
              "solidity": 0.2
             }
            },
            "type": "bar"
           }
          ],
          "barpolar": [
           {
            "marker": {
             "line": {
              "color": "#E5ECF6",
              "width": 0.5
             },
             "pattern": {
              "fillmode": "overlay",
              "size": 10,
              "solidity": 0.2
             }
            },
            "type": "barpolar"
           }
          ],
          "carpet": [
           {
            "aaxis": {
             "endlinecolor": "#2a3f5f",
             "gridcolor": "white",
             "linecolor": "white",
             "minorgridcolor": "white",
             "startlinecolor": "#2a3f5f"
            },
            "baxis": {
             "endlinecolor": "#2a3f5f",
             "gridcolor": "white",
             "linecolor": "white",
             "minorgridcolor": "white",
             "startlinecolor": "#2a3f5f"
            },
            "type": "carpet"
           }
          ],
          "choropleth": [
           {
            "colorbar": {
             "outlinewidth": 0,
             "ticks": ""
            },
            "type": "choropleth"
           }
          ],
          "contour": [
           {
            "colorbar": {
             "outlinewidth": 0,
             "ticks": ""
            },
            "colorscale": [
             [
              0,
              "#0d0887"
             ],
             [
              0.1111111111111111,
              "#46039f"
             ],
             [
              0.2222222222222222,
              "#7201a8"
             ],
             [
              0.3333333333333333,
              "#9c179e"
             ],
             [
              0.4444444444444444,
              "#bd3786"
             ],
             [
              0.5555555555555556,
              "#d8576b"
             ],
             [
              0.6666666666666666,
              "#ed7953"
             ],
             [
              0.7777777777777778,
              "#fb9f3a"
             ],
             [
              0.8888888888888888,
              "#fdca26"
             ],
             [
              1,
              "#f0f921"
             ]
            ],
            "type": "contour"
           }
          ],
          "contourcarpet": [
           {
            "colorbar": {
             "outlinewidth": 0,
             "ticks": ""
            },
            "type": "contourcarpet"
           }
          ],
          "heatmap": [
           {
            "colorbar": {
             "outlinewidth": 0,
             "ticks": ""
            },
            "colorscale": [
             [
              0,
              "#0d0887"
             ],
             [
              0.1111111111111111,
              "#46039f"
             ],
             [
              0.2222222222222222,
              "#7201a8"
             ],
             [
              0.3333333333333333,
              "#9c179e"
             ],
             [
              0.4444444444444444,
              "#bd3786"
             ],
             [
              0.5555555555555556,
              "#d8576b"
             ],
             [
              0.6666666666666666,
              "#ed7953"
             ],
             [
              0.7777777777777778,
              "#fb9f3a"
             ],
             [
              0.8888888888888888,
              "#fdca26"
             ],
             [
              1,
              "#f0f921"
             ]
            ],
            "type": "heatmap"
           }
          ],
          "heatmapgl": [
           {
            "colorbar": {
             "outlinewidth": 0,
             "ticks": ""
            },
            "colorscale": [
             [
              0,
              "#0d0887"
             ],
             [
              0.1111111111111111,
              "#46039f"
             ],
             [
              0.2222222222222222,
              "#7201a8"
             ],
             [
              0.3333333333333333,
              "#9c179e"
             ],
             [
              0.4444444444444444,
              "#bd3786"
             ],
             [
              0.5555555555555556,
              "#d8576b"
             ],
             [
              0.6666666666666666,
              "#ed7953"
             ],
             [
              0.7777777777777778,
              "#fb9f3a"
             ],
             [
              0.8888888888888888,
              "#fdca26"
             ],
             [
              1,
              "#f0f921"
             ]
            ],
            "type": "heatmapgl"
           }
          ],
          "histogram": [
           {
            "marker": {
             "pattern": {
              "fillmode": "overlay",
              "size": 10,
              "solidity": 0.2
             }
            },
            "type": "histogram"
           }
          ],
          "histogram2d": [
           {
            "colorbar": {
             "outlinewidth": 0,
             "ticks": ""
            },
            "colorscale": [
             [
              0,
              "#0d0887"
             ],
             [
              0.1111111111111111,
              "#46039f"
             ],
             [
              0.2222222222222222,
              "#7201a8"
             ],
             [
              0.3333333333333333,
              "#9c179e"
             ],
             [
              0.4444444444444444,
              "#bd3786"
             ],
             [
              0.5555555555555556,
              "#d8576b"
             ],
             [
              0.6666666666666666,
              "#ed7953"
             ],
             [
              0.7777777777777778,
              "#fb9f3a"
             ],
             [
              0.8888888888888888,
              "#fdca26"
             ],
             [
              1,
              "#f0f921"
             ]
            ],
            "type": "histogram2d"
           }
          ],
          "histogram2dcontour": [
           {
            "colorbar": {
             "outlinewidth": 0,
             "ticks": ""
            },
            "colorscale": [
             [
              0,
              "#0d0887"
             ],
             [
              0.1111111111111111,
              "#46039f"
             ],
             [
              0.2222222222222222,
              "#7201a8"
             ],
             [
              0.3333333333333333,
              "#9c179e"
             ],
             [
              0.4444444444444444,
              "#bd3786"
             ],
             [
              0.5555555555555556,
              "#d8576b"
             ],
             [
              0.6666666666666666,
              "#ed7953"
             ],
             [
              0.7777777777777778,
              "#fb9f3a"
             ],
             [
              0.8888888888888888,
              "#fdca26"
             ],
             [
              1,
              "#f0f921"
             ]
            ],
            "type": "histogram2dcontour"
           }
          ],
          "mesh3d": [
           {
            "colorbar": {
             "outlinewidth": 0,
             "ticks": ""
            },
            "type": "mesh3d"
           }
          ],
          "parcoords": [
           {
            "line": {
             "colorbar": {
              "outlinewidth": 0,
              "ticks": ""
             }
            },
            "type": "parcoords"
           }
          ],
          "pie": [
           {
            "automargin": true,
            "type": "pie"
           }
          ],
          "scatter": [
           {
            "fillpattern": {
             "fillmode": "overlay",
             "size": 10,
             "solidity": 0.2
            },
            "type": "scatter"
           }
          ],
          "scatter3d": [
           {
            "line": {
             "colorbar": {
              "outlinewidth": 0,
              "ticks": ""
             }
            },
            "marker": {
             "colorbar": {
              "outlinewidth": 0,
              "ticks": ""
             }
            },
            "type": "scatter3d"
           }
          ],
          "scattercarpet": [
           {
            "marker": {
             "colorbar": {
              "outlinewidth": 0,
              "ticks": ""
             }
            },
            "type": "scattercarpet"
           }
          ],
          "scattergeo": [
           {
            "marker": {
             "colorbar": {
              "outlinewidth": 0,
              "ticks": ""
             }
            },
            "type": "scattergeo"
           }
          ],
          "scattergl": [
           {
            "marker": {
             "colorbar": {
              "outlinewidth": 0,
              "ticks": ""
             }
            },
            "type": "scattergl"
           }
          ],
          "scattermapbox": [
           {
            "marker": {
             "colorbar": {
              "outlinewidth": 0,
              "ticks": ""
             }
            },
            "type": "scattermapbox"
           }
          ],
          "scatterpolar": [
           {
            "marker": {
             "colorbar": {
              "outlinewidth": 0,
              "ticks": ""
             }
            },
            "type": "scatterpolar"
           }
          ],
          "scatterpolargl": [
           {
            "marker": {
             "colorbar": {
              "outlinewidth": 0,
              "ticks": ""
             }
            },
            "type": "scatterpolargl"
           }
          ],
          "scatterternary": [
           {
            "marker": {
             "colorbar": {
              "outlinewidth": 0,
              "ticks": ""
             }
            },
            "type": "scatterternary"
           }
          ],
          "surface": [
           {
            "colorbar": {
             "outlinewidth": 0,
             "ticks": ""
            },
            "colorscale": [
             [
              0,
              "#0d0887"
             ],
             [
              0.1111111111111111,
              "#46039f"
             ],
             [
              0.2222222222222222,
              "#7201a8"
             ],
             [
              0.3333333333333333,
              "#9c179e"
             ],
             [
              0.4444444444444444,
              "#bd3786"
             ],
             [
              0.5555555555555556,
              "#d8576b"
             ],
             [
              0.6666666666666666,
              "#ed7953"
             ],
             [
              0.7777777777777778,
              "#fb9f3a"
             ],
             [
              0.8888888888888888,
              "#fdca26"
             ],
             [
              1,
              "#f0f921"
             ]
            ],
            "type": "surface"
           }
          ],
          "table": [
           {
            "cells": {
             "fill": {
              "color": "#EBF0F8"
             },
             "line": {
              "color": "white"
             }
            },
            "header": {
             "fill": {
              "color": "#C8D4E3"
             },
             "line": {
              "color": "white"
             }
            },
            "type": "table"
           }
          ]
         },
         "layout": {
          "annotationdefaults": {
           "arrowcolor": "#2a3f5f",
           "arrowhead": 0,
           "arrowwidth": 1
          },
          "autotypenumbers": "strict",
          "coloraxis": {
           "colorbar": {
            "outlinewidth": 0,
            "ticks": ""
           }
          },
          "colorscale": {
           "diverging": [
            [
             0,
             "#8e0152"
            ],
            [
             0.1,
             "#c51b7d"
            ],
            [
             0.2,
             "#de77ae"
            ],
            [
             0.3,
             "#f1b6da"
            ],
            [
             0.4,
             "#fde0ef"
            ],
            [
             0.5,
             "#f7f7f7"
            ],
            [
             0.6,
             "#e6f5d0"
            ],
            [
             0.7,
             "#b8e186"
            ],
            [
             0.8,
             "#7fbc41"
            ],
            [
             0.9,
             "#4d9221"
            ],
            [
             1,
             "#276419"
            ]
           ],
           "sequential": [
            [
             0,
             "#0d0887"
            ],
            [
             0.1111111111111111,
             "#46039f"
            ],
            [
             0.2222222222222222,
             "#7201a8"
            ],
            [
             0.3333333333333333,
             "#9c179e"
            ],
            [
             0.4444444444444444,
             "#bd3786"
            ],
            [
             0.5555555555555556,
             "#d8576b"
            ],
            [
             0.6666666666666666,
             "#ed7953"
            ],
            [
             0.7777777777777778,
             "#fb9f3a"
            ],
            [
             0.8888888888888888,
             "#fdca26"
            ],
            [
             1,
             "#f0f921"
            ]
           ],
           "sequentialminus": [
            [
             0,
             "#0d0887"
            ],
            [
             0.1111111111111111,
             "#46039f"
            ],
            [
             0.2222222222222222,
             "#7201a8"
            ],
            [
             0.3333333333333333,
             "#9c179e"
            ],
            [
             0.4444444444444444,
             "#bd3786"
            ],
            [
             0.5555555555555556,
             "#d8576b"
            ],
            [
             0.6666666666666666,
             "#ed7953"
            ],
            [
             0.7777777777777778,
             "#fb9f3a"
            ],
            [
             0.8888888888888888,
             "#fdca26"
            ],
            [
             1,
             "#f0f921"
            ]
           ]
          },
          "colorway": [
           "#636efa",
           "#EF553B",
           "#00cc96",
           "#ab63fa",
           "#FFA15A",
           "#19d3f3",
           "#FF6692",
           "#B6E880",
           "#FF97FF",
           "#FECB52"
          ],
          "font": {
           "color": "#2a3f5f"
          },
          "geo": {
           "bgcolor": "white",
           "lakecolor": "white",
           "landcolor": "#E5ECF6",
           "showlakes": true,
           "showland": true,
           "subunitcolor": "white"
          },
          "hoverlabel": {
           "align": "left"
          },
          "hovermode": "closest",
          "mapbox": {
           "style": "light"
          },
          "paper_bgcolor": "white",
          "plot_bgcolor": "#E5ECF6",
          "polar": {
           "angularaxis": {
            "gridcolor": "white",
            "linecolor": "white",
            "ticks": ""
           },
           "bgcolor": "#E5ECF6",
           "radialaxis": {
            "gridcolor": "white",
            "linecolor": "white",
            "ticks": ""
           }
          },
          "scene": {
           "xaxis": {
            "backgroundcolor": "#E5ECF6",
            "gridcolor": "white",
            "gridwidth": 2,
            "linecolor": "white",
            "showbackground": true,
            "ticks": "",
            "zerolinecolor": "white"
           },
           "yaxis": {
            "backgroundcolor": "#E5ECF6",
            "gridcolor": "white",
            "gridwidth": 2,
            "linecolor": "white",
            "showbackground": true,
            "ticks": "",
            "zerolinecolor": "white"
           },
           "zaxis": {
            "backgroundcolor": "#E5ECF6",
            "gridcolor": "white",
            "gridwidth": 2,
            "linecolor": "white",
            "showbackground": true,
            "ticks": "",
            "zerolinecolor": "white"
           }
          },
          "shapedefaults": {
           "line": {
            "color": "#2a3f5f"
           }
          },
          "ternary": {
           "aaxis": {
            "gridcolor": "white",
            "linecolor": "white",
            "ticks": ""
           },
           "baxis": {
            "gridcolor": "white",
            "linecolor": "white",
            "ticks": ""
           },
           "bgcolor": "#E5ECF6",
           "caxis": {
            "gridcolor": "white",
            "linecolor": "white",
            "ticks": ""
           }
          },
          "title": {
           "x": 0.05
          },
          "xaxis": {
           "automargin": true,
           "gridcolor": "white",
           "linecolor": "white",
           "ticks": "",
           "title": {
            "standoff": 15
           },
           "zerolinecolor": "white",
           "zerolinewidth": 2
          },
          "yaxis": {
           "automargin": true,
           "gridcolor": "white",
           "linecolor": "white",
           "ticks": "",
           "title": {
            "standoff": 15
           },
           "zerolinecolor": "white",
           "zerolinewidth": 2
          }
         }
        },
        "title": {
         "text": "3D Scatter Plot of Association Rules"
        }
       }
      },
      "text/html": [
       "<div>                            <div id=\"e9711292-d7f2-4ec0-9f99-192a28ede1b2\" class=\"plotly-graph-div\" style=\"height:525px; width:100%;\"></div>            <script type=\"text/javascript\">                require([\"plotly\"], function(Plotly) {                    window.PLOTLYENV=window.PLOTLYENV || {};                                    if (document.getElementById(\"e9711292-d7f2-4ec0-9f99-192a28ede1b2\")) {                    Plotly.newPlot(                        \"e9711292-d7f2-4ec0-9f99-192a28ede1b2\",                        [{\"marker\":{\"color\":\"red\",\"opacity\":0.5,\"size\":5},\"mode\":\"markers\",\"name\":\"Common\",\"x\":[0.03333333333333333,0.03333333333333333,0.03333333333333333,0.03333333333333333,0.03333333333333333,0.03333333333333333,0.03333333333333333,0.04,0.03333333333333333,0.03333333333333333,0.03333333333333333,0.03333333333333333,0.03333333333333333,0.03333333333333333,0.03333333333333333,0.04],\"y\":[0.8333333333333333,0.8333333333333333,0.8333333333333333,0.8333333333333333,0.7142857142857142,0.7142857142857142,0.7142857142857142,0.6666666666666667,0.625,0.625,0.625,0.5555555555555556,0.5555555555555556,0.5555555555555556,0.5555555555555556,0.5454545454545454],\"z\":[17.857142857142854,15.624999999999998,13.888888888888888,13.888888888888888,17.857142857142854,13.39285714285714,11.904761904761903,9.090909090909092,15.625,13.392857142857142,10.416666666666668,13.88888888888889,13.88888888888889,11.904761904761905,10.416666666666666,9.09090909090909],\"type\":\"scatter3d\"},{\"marker\":{\"color\":\"blue\",\"opacity\":0.5,\"size\":5},\"mode\":\"markers\",\"name\":\"hidden\",\"x\":[0.03333333333333333,0.03333333333333333,0.04,0.04,0.04666666666666667,0.04666666666666667,0.04,0.04,0.04,0.03333333333333333,0.03333333333333333,0.03333333333333333,0.03333333333333333,0.03333333333333333,0.04,0.04,0.04,0.04,0.03333333333333333,0.04,0.03333333333333333,0.04,0.03333333333333333],\"y\":[1.0,1.0,1.0,1.0,0.875,0.875,0.8571428571428571,0.8571428571428571,0.8571428571428571,0.8333333333333333,0.8333333333333333,0.8333333333333333,0.8333333333333333,0.8333333333333333,0.75,0.75,0.75,0.75,0.7142857142857142,0.6666666666666667,0.625,0.6,0.5],\"z\":[30.0,30.0,18.75,18.75,16.40625,16.40625,12.857142857142856,7.563025210084033,7.563025210084033,20.833333333333332,20.833333333333332,12.499999999999998,7.352941176470588,7.352941176470588,18.75,18.75,6.61764705882353,6.61764705882353,6.302521008403361,5.882352941176472,5.514705882352941,12.857142857142856,12.5],\"type\":\"scatter3d\"},{\"marker\":{\"color\":\"green\",\"opacity\":0.5,\"size\":5},\"mode\":\"markers\",\"name\":\"df_2\",\"x\":[],\"y\":[],\"z\":[],\"type\":\"scatter3d\"}],                        {\"template\":{\"data\":{\"histogram2dcontour\":[{\"type\":\"histogram2dcontour\",\"colorbar\":{\"outlinewidth\":0,\"ticks\":\"\"},\"colorscale\":[[0.0,\"#0d0887\"],[0.1111111111111111,\"#46039f\"],[0.2222222222222222,\"#7201a8\"],[0.3333333333333333,\"#9c179e\"],[0.4444444444444444,\"#bd3786\"],[0.5555555555555556,\"#d8576b\"],[0.6666666666666666,\"#ed7953\"],[0.7777777777777778,\"#fb9f3a\"],[0.8888888888888888,\"#fdca26\"],[1.0,\"#f0f921\"]]}],\"choropleth\":[{\"type\":\"choropleth\",\"colorbar\":{\"outlinewidth\":0,\"ticks\":\"\"}}],\"histogram2d\":[{\"type\":\"histogram2d\",\"colorbar\":{\"outlinewidth\":0,\"ticks\":\"\"},\"colorscale\":[[0.0,\"#0d0887\"],[0.1111111111111111,\"#46039f\"],[0.2222222222222222,\"#7201a8\"],[0.3333333333333333,\"#9c179e\"],[0.4444444444444444,\"#bd3786\"],[0.5555555555555556,\"#d8576b\"],[0.6666666666666666,\"#ed7953\"],[0.7777777777777778,\"#fb9f3a\"],[0.8888888888888888,\"#fdca26\"],[1.0,\"#f0f921\"]]}],\"heatmap\":[{\"type\":\"heatmap\",\"colorbar\":{\"outlinewidth\":0,\"ticks\":\"\"},\"colorscale\":[[0.0,\"#0d0887\"],[0.1111111111111111,\"#46039f\"],[0.2222222222222222,\"#7201a8\"],[0.3333333333333333,\"#9c179e\"],[0.4444444444444444,\"#bd3786\"],[0.5555555555555556,\"#d8576b\"],[0.6666666666666666,\"#ed7953\"],[0.7777777777777778,\"#fb9f3a\"],[0.8888888888888888,\"#fdca26\"],[1.0,\"#f0f921\"]]}],\"heatmapgl\":[{\"type\":\"heatmapgl\",\"colorbar\":{\"outlinewidth\":0,\"ticks\":\"\"},\"colorscale\":[[0.0,\"#0d0887\"],[0.1111111111111111,\"#46039f\"],[0.2222222222222222,\"#7201a8\"],[0.3333333333333333,\"#9c179e\"],[0.4444444444444444,\"#bd3786\"],[0.5555555555555556,\"#d8576b\"],[0.6666666666666666,\"#ed7953\"],[0.7777777777777778,\"#fb9f3a\"],[0.8888888888888888,\"#fdca26\"],[1.0,\"#f0f921\"]]}],\"contourcarpet\":[{\"type\":\"contourcarpet\",\"colorbar\":{\"outlinewidth\":0,\"ticks\":\"\"}}],\"contour\":[{\"type\":\"contour\",\"colorbar\":{\"outlinewidth\":0,\"ticks\":\"\"},\"colorscale\":[[0.0,\"#0d0887\"],[0.1111111111111111,\"#46039f\"],[0.2222222222222222,\"#7201a8\"],[0.3333333333333333,\"#9c179e\"],[0.4444444444444444,\"#bd3786\"],[0.5555555555555556,\"#d8576b\"],[0.6666666666666666,\"#ed7953\"],[0.7777777777777778,\"#fb9f3a\"],[0.8888888888888888,\"#fdca26\"],[1.0,\"#f0f921\"]]}],\"surface\":[{\"type\":\"surface\",\"colorbar\":{\"outlinewidth\":0,\"ticks\":\"\"},\"colorscale\":[[0.0,\"#0d0887\"],[0.1111111111111111,\"#46039f\"],[0.2222222222222222,\"#7201a8\"],[0.3333333333333333,\"#9c179e\"],[0.4444444444444444,\"#bd3786\"],[0.5555555555555556,\"#d8576b\"],[0.6666666666666666,\"#ed7953\"],[0.7777777777777778,\"#fb9f3a\"],[0.8888888888888888,\"#fdca26\"],[1.0,\"#f0f921\"]]}],\"mesh3d\":[{\"type\":\"mesh3d\",\"colorbar\":{\"outlinewidth\":0,\"ticks\":\"\"}}],\"scatter\":[{\"fillpattern\":{\"fillmode\":\"overlay\",\"size\":10,\"solidity\":0.2},\"type\":\"scatter\"}],\"parcoords\":[{\"type\":\"parcoords\",\"line\":{\"colorbar\":{\"outlinewidth\":0,\"ticks\":\"\"}}}],\"scatterpolargl\":[{\"type\":\"scatterpolargl\",\"marker\":{\"colorbar\":{\"outlinewidth\":0,\"ticks\":\"\"}}}],\"bar\":[{\"error_x\":{\"color\":\"#2a3f5f\"},\"error_y\":{\"color\":\"#2a3f5f\"},\"marker\":{\"line\":{\"color\":\"#E5ECF6\",\"width\":0.5},\"pattern\":{\"fillmode\":\"overlay\",\"size\":10,\"solidity\":0.2}},\"type\":\"bar\"}],\"scattergeo\":[{\"type\":\"scattergeo\",\"marker\":{\"colorbar\":{\"outlinewidth\":0,\"ticks\":\"\"}}}],\"scatterpolar\":[{\"type\":\"scatterpolar\",\"marker\":{\"colorbar\":{\"outlinewidth\":0,\"ticks\":\"\"}}}],\"histogram\":[{\"marker\":{\"pattern\":{\"fillmode\":\"overlay\",\"size\":10,\"solidity\":0.2}},\"type\":\"histogram\"}],\"scattergl\":[{\"type\":\"scattergl\",\"marker\":{\"colorbar\":{\"outlinewidth\":0,\"ticks\":\"\"}}}],\"scatter3d\":[{\"type\":\"scatter3d\",\"line\":{\"colorbar\":{\"outlinewidth\":0,\"ticks\":\"\"}},\"marker\":{\"colorbar\":{\"outlinewidth\":0,\"ticks\":\"\"}}}],\"scattermapbox\":[{\"type\":\"scattermapbox\",\"marker\":{\"colorbar\":{\"outlinewidth\":0,\"ticks\":\"\"}}}],\"scatterternary\":[{\"type\":\"scatterternary\",\"marker\":{\"colorbar\":{\"outlinewidth\":0,\"ticks\":\"\"}}}],\"scattercarpet\":[{\"type\":\"scattercarpet\",\"marker\":{\"colorbar\":{\"outlinewidth\":0,\"ticks\":\"\"}}}],\"carpet\":[{\"aaxis\":{\"endlinecolor\":\"#2a3f5f\",\"gridcolor\":\"white\",\"linecolor\":\"white\",\"minorgridcolor\":\"white\",\"startlinecolor\":\"#2a3f5f\"},\"baxis\":{\"endlinecolor\":\"#2a3f5f\",\"gridcolor\":\"white\",\"linecolor\":\"white\",\"minorgridcolor\":\"white\",\"startlinecolor\":\"#2a3f5f\"},\"type\":\"carpet\"}],\"table\":[{\"cells\":{\"fill\":{\"color\":\"#EBF0F8\"},\"line\":{\"color\":\"white\"}},\"header\":{\"fill\":{\"color\":\"#C8D4E3\"},\"line\":{\"color\":\"white\"}},\"type\":\"table\"}],\"barpolar\":[{\"marker\":{\"line\":{\"color\":\"#E5ECF6\",\"width\":0.5},\"pattern\":{\"fillmode\":\"overlay\",\"size\":10,\"solidity\":0.2}},\"type\":\"barpolar\"}],\"pie\":[{\"automargin\":true,\"type\":\"pie\"}]},\"layout\":{\"autotypenumbers\":\"strict\",\"colorway\":[\"#636efa\",\"#EF553B\",\"#00cc96\",\"#ab63fa\",\"#FFA15A\",\"#19d3f3\",\"#FF6692\",\"#B6E880\",\"#FF97FF\",\"#FECB52\"],\"font\":{\"color\":\"#2a3f5f\"},\"hovermode\":\"closest\",\"hoverlabel\":{\"align\":\"left\"},\"paper_bgcolor\":\"white\",\"plot_bgcolor\":\"#E5ECF6\",\"polar\":{\"bgcolor\":\"#E5ECF6\",\"angularaxis\":{\"gridcolor\":\"white\",\"linecolor\":\"white\",\"ticks\":\"\"},\"radialaxis\":{\"gridcolor\":\"white\",\"linecolor\":\"white\",\"ticks\":\"\"}},\"ternary\":{\"bgcolor\":\"#E5ECF6\",\"aaxis\":{\"gridcolor\":\"white\",\"linecolor\":\"white\",\"ticks\":\"\"},\"baxis\":{\"gridcolor\":\"white\",\"linecolor\":\"white\",\"ticks\":\"\"},\"caxis\":{\"gridcolor\":\"white\",\"linecolor\":\"white\",\"ticks\":\"\"}},\"coloraxis\":{\"colorbar\":{\"outlinewidth\":0,\"ticks\":\"\"}},\"colorscale\":{\"sequential\":[[0.0,\"#0d0887\"],[0.1111111111111111,\"#46039f\"],[0.2222222222222222,\"#7201a8\"],[0.3333333333333333,\"#9c179e\"],[0.4444444444444444,\"#bd3786\"],[0.5555555555555556,\"#d8576b\"],[0.6666666666666666,\"#ed7953\"],[0.7777777777777778,\"#fb9f3a\"],[0.8888888888888888,\"#fdca26\"],[1.0,\"#f0f921\"]],\"sequentialminus\":[[0.0,\"#0d0887\"],[0.1111111111111111,\"#46039f\"],[0.2222222222222222,\"#7201a8\"],[0.3333333333333333,\"#9c179e\"],[0.4444444444444444,\"#bd3786\"],[0.5555555555555556,\"#d8576b\"],[0.6666666666666666,\"#ed7953\"],[0.7777777777777778,\"#fb9f3a\"],[0.8888888888888888,\"#fdca26\"],[1.0,\"#f0f921\"]],\"diverging\":[[0,\"#8e0152\"],[0.1,\"#c51b7d\"],[0.2,\"#de77ae\"],[0.3,\"#f1b6da\"],[0.4,\"#fde0ef\"],[0.5,\"#f7f7f7\"],[0.6,\"#e6f5d0\"],[0.7,\"#b8e186\"],[0.8,\"#7fbc41\"],[0.9,\"#4d9221\"],[1,\"#276419\"]]},\"xaxis\":{\"gridcolor\":\"white\",\"linecolor\":\"white\",\"ticks\":\"\",\"title\":{\"standoff\":15},\"zerolinecolor\":\"white\",\"automargin\":true,\"zerolinewidth\":2},\"yaxis\":{\"gridcolor\":\"white\",\"linecolor\":\"white\",\"ticks\":\"\",\"title\":{\"standoff\":15},\"zerolinecolor\":\"white\",\"automargin\":true,\"zerolinewidth\":2},\"scene\":{\"xaxis\":{\"backgroundcolor\":\"#E5ECF6\",\"gridcolor\":\"white\",\"linecolor\":\"white\",\"showbackground\":true,\"ticks\":\"\",\"zerolinecolor\":\"white\",\"gridwidth\":2},\"yaxis\":{\"backgroundcolor\":\"#E5ECF6\",\"gridcolor\":\"white\",\"linecolor\":\"white\",\"showbackground\":true,\"ticks\":\"\",\"zerolinecolor\":\"white\",\"gridwidth\":2},\"zaxis\":{\"backgroundcolor\":\"#E5ECF6\",\"gridcolor\":\"white\",\"linecolor\":\"white\",\"showbackground\":true,\"ticks\":\"\",\"zerolinecolor\":\"white\",\"gridwidth\":2}},\"shapedefaults\":{\"line\":{\"color\":\"#2a3f5f\"}},\"annotationdefaults\":{\"arrowcolor\":\"#2a3f5f\",\"arrowhead\":0,\"arrowwidth\":1},\"geo\":{\"bgcolor\":\"white\",\"landcolor\":\"#E5ECF6\",\"subunitcolor\":\"white\",\"showland\":true,\"showlakes\":true,\"lakecolor\":\"white\"},\"title\":{\"x\":0.05},\"mapbox\":{\"style\":\"light\"}}},\"margin\":{\"l\":0,\"r\":0,\"b\":0,\"t\":0},\"title\":{\"text\":\"3D Scatter Plot of Association Rules\"},\"scene\":{\"xaxis\":{\"title\":{\"text\":\"Support\"}},\"yaxis\":{\"title\":{\"text\":\"Confidence\"}},\"zaxis\":{\"title\":{\"text\":\"Lift\"}}}},                        {\"responsive\": true}                    ).then(function(){\n",
       "                            \n",
       "var gd = document.getElementById('e9711292-d7f2-4ec0-9f99-192a28ede1b2');\n",
       "var x = new MutationObserver(function (mutations, observer) {{\n",
       "        var display = window.getComputedStyle(gd).display;\n",
       "        if (!display || display === 'none') {{\n",
       "            console.log([gd, 'removed!']);\n",
       "            Plotly.purge(gd);\n",
       "            observer.disconnect();\n",
       "        }}\n",
       "}});\n",
       "\n",
       "// Listen for the removal of the full notebook cells\n",
       "var notebookContainer = gd.closest('#notebook-container');\n",
       "if (notebookContainer) {{\n",
       "    x.observe(notebookContainer, {childList: true});\n",
       "}}\n",
       "\n",
       "// Listen for the clearing of the current output cell\n",
       "var outputEl = gd.closest('.output');\n",
       "if (outputEl) {{\n",
       "    x.observe(outputEl, {childList: true});\n",
       "}}\n",
       "\n",
       "                        })                };                });            </script>        </div>"
      ]
     },
     "metadata": {},
     "output_type": "display_data"
    }
   ],
   "source": [
    "import plotly.graph_objects as go\n",
    "\n",
    "# Initialize the 3D scatter plot\n",
    "fig = go.Figure()\n",
    "\n",
    "# Add the common entries scatter plot\n",
    "fig.add_trace(go.Scatter3d(\n",
    "    x=common_entries['support_x'],\n",
    "    y=common_entries['confidence_x'],\n",
    "    z=common_entries['lift_x'],\n",
    "    mode='markers',\n",
    "    marker=dict(size=5, color='red', opacity=0.5),\n",
    "    name='Common'\n",
    "))\n",
    "\n",
    "# Add the unique to sorted_rules_df scatter plot\n",
    "fig.add_trace(go.Scatter3d(\n",
    "    x=unique_sorted_rules_df['support'],\n",
    "    y=unique_sorted_rules_df['confidence'],\n",
    "    z=unique_sorted_rules_df['lift'],\n",
    "    mode='markers',\n",
    "    marker=dict(size=5, color='blue', opacity=0.5),\n",
    "    name='hidden'\n",
    "))\n",
    "\n",
    "# Add the unique to sorted_rules_df_2 scatter plot\n",
    "fig.add_trace(go.Scatter3d(\n",
    "    x=unique_sorted_rules_df_2['support'],\n",
    "    y=unique_sorted_rules_df_2['confidence'],\n",
    "    z=unique_sorted_rules_df_2['lift'],\n",
    "    mode='markers',\n",
    "    marker=dict(size=5, color='green', opacity=0.5),\n",
    "    name='df_2'\n",
    "))\n",
    "\n",
    "# Set the layout for the plot\n",
    "fig.update_layout(\n",
    "    title='3D Scatter Plot of Association Rules',\n",
    "    scene=dict(\n",
    "        xaxis_title='Support',\n",
    "        yaxis_title='Confidence',\n",
    "        zaxis_title='Lift'\n",
    "    ),\n",
    "    margin=dict(l=0, r=0, b=0, t=0)\n",
    ")\n",
    "\n",
    "# Show the plot\n",
    "fig.show()\n"
   ]
  },
  {
   "cell_type": "code",
   "execution_count": 57,
   "metadata": {},
   "outputs": [
    {
     "data": {
      "image/png": "[encoded data removed]",
      "text/plain": [
       "<Figure size 1000x600 with 1 Axes>"
      ]
     },
     "metadata": {},
     "output_type": "display_data"
    }
   ],
   "source": [
    "# Plotting the number of rules found for different support levels and confidence levels\n",
    "\n",
    "import numpy as np\n",
    "import matplotlib.pyplot as plt\n",
    "from mlxtend.frequent_patterns import apriori, association_rules\n",
    "\n",
    "# Assuming df_binary_1 and df_binary_2 are your dataframes with binary encoded data\n",
    "\n",
    "# Define a range of minimum support values and confidence levels\n",
    "min_support_values = [0.03]\n",
    "confidence_levels = np.arange(0.5, 1.0, 0.1)\n",
    "\n",
    "# Initialize dictionaries to store the number of rules for each dataframe\n",
    "rules_count_1 = {s: [] for s in min_support_values}\n",
    "rules_count_2 = {s: [] for s in min_support_values}\n",
    "\n",
    "# Function to compute rules\n",
    "def compute_rules(df_binary, rules_count):\n",
    "    for min_support in min_support_values:\n",
    "        # Apply the Apriori algorithm to find frequent itemsets\n",
    "        frequent_itemsets = apriori(df_binary, min_support=min_support, use_colnames=True)\n",
    "\n",
    "        for conf in confidence_levels:\n",
    "            # Generate association rules\n",
    "            rules = association_rules(frequent_itemsets, metric=\"confidence\", min_threshold=conf)\n",
    "            # Count the number of rules\n",
    "            rules_count[min_support].append(len(rules))\n",
    "\n",
    "# Compute rules for both dataframes\n",
    "compute_rules(df_binary_1, rules_count_1)\n",
    "compute_rules(df_binary_2, rules_count_2)\n",
    "\n",
    "# Plotting the results on the same graph\n",
    "plt.figure(figsize=(10, 6))\n",
    "\n",
    "for min_support, counts in rules_count_1.items():\n",
    "    plt.plot(confidence_levels, counts, marker='o', label=f'DF1 Support {min_support*100}%')\n",
    "\n",
    "for min_support, counts in rules_count_2.items():\n",
    "    plt.plot(confidence_levels, counts, marker='^', label=f'DF2 Support {min_support*100}%')\n",
    "\n",
    "plt.title('Apriori algorithm with different support levels for two datasets')\n",
    "plt.xlabel('Confidence levels')\n",
    "plt.ylabel('Number of rules found')\n",
    "plt.xticks(confidence_levels)\n",
    "plt.legend()\n",
    "plt.grid(True)\n",
    "plt.show()\n"
   ]
  },
  {
   "cell_type": "code",
   "execution_count": 43,
   "metadata": {},
   "outputs": [
    {
     "name": "stdout",
     "output_type": "stream",
     "text": [
      "23\n"
     ]
    },
    {
     "data": {
      "text/plain": [
       "41.02564102564102"
      ]
     },
     "execution_count": 43,
     "metadata": {},
     "output_type": "execute_result"
    }
   ],
   "source": [
    "# utiltiy function\n",
    "print(len(unique_sorted_rules_df))\n",
    "utility = 1 - (len(unique_sorted_rules_df)/len(rules))\n",
    "utility*100"
   ]
  },
  {
   "cell_type": "code",
   "execution_count": 44,
   "metadata": {},
   "outputs": [
    {
     "data": {
      "text/plain": [
       "23"
      ]
     },
     "execution_count": 44,
     "metadata": {},
     "output_type": "execute_result"
    }
   ],
   "source": [
    "# no of rules hidden\n",
    "len(unique_sorted_rules_df)"
   ]
  },
  {
   "cell_type": "code",
   "execution_count": 45,
   "metadata": {},
   "outputs": [
    {
     "data": {
      "text/plain": [
       "0"
      ]
     },
     "execution_count": 45,
     "metadata": {},
     "output_type": "execute_result"
    }
   ],
   "source": [
    "# new rules\n",
    "len(unique_sorted_rules_df_2)"
   ]
  },
  {
   "cell_type": "code",
   "execution_count": 70,
   "metadata": {},
   "outputs": [
    {
     "data": {
      "application/vnd.plotly.v1+json": {
       "config": {
        "plotlyServerURL": "https://plot.ly"
       },
       "data": [
        {
         "customdata": [
          [
           "133",
           "137"
          ],
          [
           "137",
           "133"
          ],
          [
           "134",
           "137"
          ],
          [
           "137",
           "134"
          ],
          [
           "1501",
           "2758"
          ],
          [
           "2856",
           "1501"
          ],
          [
           "1501",
           "2856"
          ],
          [
           "726",
           "1532"
          ],
          [
           "1532",
           "726"
          ],
          [
           "1600",
           "1599"
          ],
          [
           "1599",
           "1600"
          ],
          [
           "1659",
           "1919"
          ],
          [
           "1919",
           "1659"
          ],
          [
           "1743",
           "1755"
          ],
          [
           "1754",
           "1755"
          ],
          [
           "1764",
           "1755"
          ],
          [
           "1766",
           "1755"
          ],
          [
           "1768",
           "1755"
          ],
          [
           "1935",
           "1755"
          ],
          [
           "1776",
           "3148"
          ],
          [
           "3148",
           "1776"
          ],
          [
           "1942",
           "1928"
          ],
          [
           "1928",
           "1942"
          ],
          [
           "1934",
           "1939"
          ],
          [
           "1939",
           "1934"
          ],
          [
           "260",
           "2804"
          ],
          [
           "2804",
           "260"
          ],
          [
           "2670",
           "432"
          ],
          [
           "432",
           "2670"
          ],
          [
           "2856",
           "2758"
          ],
          [
           "3756",
           "3742"
          ],
          [
           "3742",
           "3756"
          ],
          [
           "3760",
           "3756"
          ],
          [
           "3756",
           "3760"
          ],
          [
           "2758, 2856",
           "1501"
          ],
          [
           "1501, 2856",
           "2758"
          ],
          [
           "1501, 2758",
           "2856"
          ],
          [
           "2856",
           "1501, 2758"
          ],
          [
           "1501",
           "2758, 2856"
          ]
         ],
         "hovertemplate": "Dataset=Before Sanitization<br>support=%{x}<br>confidence=%{y}<br>lift=%{z}<br>antecedents=%{customdata[0]}<br>consequents=%{customdata[1]}<extra></extra>",
         "legendgroup": "Before Sanitization",
         "marker": {
          "color": "#636efa",
          "symbol": "circle"
         },
         "mode": "markers",
         "name": "Before Sanitization",
         "scene": "scene",
         "showlegend": true,
         "type": "scatter3d",
         "x": [
          0.04,
          0.04,
          0.03333333333333333,
          0.03333333333333333,
          0.04,
          0.04666666666666667,
          0.04666666666666667,
          0.03333333333333333,
          0.03333333333333333,
          0.03333333333333333,
          0.03333333333333333,
          0.03333333333333333,
          0.03333333333333333,
          0.04,
          0.03333333333333333,
          0.03333333333333333,
          0.03333333333333333,
          0.03333333333333333,
          0.04,
          0.03333333333333333,
          0.03333333333333333,
          0.03333333333333333,
          0.03333333333333333,
          0.03333333333333333,
          0.03333333333333333,
          0.04,
          0.04,
          0.03333333333333333,
          0.03333333333333333,
          0.04,
          0.03333333333333333,
          0.03333333333333333,
          0.03333333333333333,
          0.03333333333333333,
          0.04,
          0.04,
          0.04,
          0.04,
          0.04
         ],
         "y": [
          0.8571428571428571,
          0.6,
          0.8333333333333333,
          0.5,
          0.75,
          0.875,
          0.875,
          0.8333333333333333,
          0.625,
          0.5555555555555556,
          0.8333333333333333,
          0.8333333333333333,
          0.8333333333333333,
          0.8571428571428571,
          0.8333333333333333,
          0.7142857142857142,
          0.625,
          0.8333333333333333,
          0.6666666666666667,
          1,
          1,
          0.8333333333333333,
          0.5555555555555556,
          0.7142857142857142,
          0.625,
          0.6666666666666667,
          0.5454545454545454,
          0.7142857142857142,
          0.8333333333333333,
          0.75,
          0.5555555555555556,
          0.7142857142857142,
          0.625,
          0.5555555555555556,
          1,
          0.8571428571428571,
          1,
          0.75,
          0.75
         ],
         "z": [
          12.857142857142856,
          12.857142857142856,
          12.499999999999998,
          12.5,
          6.61764705882353,
          16.40625,
          16.40625,
          15.624999999999998,
          15.625,
          13.88888888888889,
          13.888888888888888,
          20.833333333333332,
          20.833333333333332,
          7.563025210084033,
          7.352941176470588,
          6.302521008403361,
          5.514705882352941,
          7.352941176470588,
          5.882352941176472,
          30,
          30,
          13.888888888888888,
          13.88888888888889,
          13.39285714285714,
          13.392857142857142,
          9.090909090909092,
          9.09090909090909,
          17.857142857142854,
          17.857142857142854,
          6.61764705882353,
          11.904761904761905,
          11.904761904761903,
          10.416666666666668,
          10.416666666666666,
          18.75,
          7.563025210084033,
          18.75,
          18.75,
          18.75
         ]
        },
        {
         "customdata": [
          [
           "726",
           "1532"
          ],
          [
           "1532",
           "726"
          ],
          [
           "1600",
           "1599"
          ],
          [
           "1599",
           "1600"
          ],
          [
           "1942",
           "1928"
          ],
          [
           "1928",
           "1942"
          ],
          [
           "1934",
           "1939"
          ],
          [
           "1939",
           "1934"
          ],
          [
           "260",
           "2804"
          ],
          [
           "2804",
           "260"
          ],
          [
           "2670",
           "432"
          ],
          [
           "432",
           "2670"
          ],
          [
           "3756",
           "3742"
          ],
          [
           "3742",
           "3756"
          ],
          [
           "3760",
           "3756"
          ],
          [
           "3756",
           "3760"
          ]
         ],
         "hovertemplate": "Dataset=After Sanitization<br>support=%{x}<br>confidence=%{y}<br>lift=%{z}<br>antecedents=%{customdata[0]}<br>consequents=%{customdata[1]}<extra></extra>",
         "legendgroup": "After Sanitization",
         "marker": {
          "color": "#EF553B",
          "symbol": "circle"
         },
         "mode": "markers",
         "name": "After Sanitization",
         "scene": "scene",
         "showlegend": true,
         "type": "scatter3d",
         "x": [
          0.03333333333333333,
          0.03333333333333333,
          0.03333333333333333,
          0.03333333333333333,
          0.03333333333333333,
          0.03333333333333333,
          0.03333333333333333,
          0.03333333333333333,
          0.04,
          0.04,
          0.03333333333333333,
          0.03333333333333333,
          0.03333333333333333,
          0.03333333333333333,
          0.03333333333333333,
          0.03333333333333333
         ],
         "y": [
          0.8333333333333333,
          0.625,
          0.5555555555555556,
          0.8333333333333333,
          0.8333333333333333,
          0.5555555555555556,
          0.7142857142857142,
          0.625,
          0.6666666666666667,
          0.5454545454545454,
          0.7142857142857142,
          0.8333333333333333,
          0.5555555555555556,
          0.7142857142857142,
          0.625,
          0.5555555555555556
         ],
         "z": [
          15.624999999999998,
          15.625,
          13.88888888888889,
          13.888888888888888,
          13.888888888888888,
          13.88888888888889,
          13.39285714285714,
          13.392857142857142,
          9.090909090909092,
          9.09090909090909,
          17.857142857142854,
          17.857142857142854,
          11.904761904761905,
          11.904761904761903,
          10.416666666666668,
          10.416666666666666
         ]
        }
       ],
       "layout": {
        "legend": {
         "title": {
          "text": "Dataset"
         },
         "tracegroupgap": 0
        },
        "margin": {
         "t": 60
        },
        "scene": {
         "domain": {
          "x": [
           0,
           1
          ],
          "y": [
           0,
           1
          ]
         },
         "xaxis": {
          "title": {
           "text": "support"
          }
         },
         "yaxis": {
          "title": {
           "text": "confidence"
          }
         },
         "zaxis": {
          "title": {
           "text": "lift"
          }
         }
        },
        "template": {
         "data": {
          "bar": [
           {
            "error_x": {
             "color": "#2a3f5f"
            },
            "error_y": {
             "color": "#2a3f5f"
            },
            "marker": {
             "line": {
              "color": "#E5ECF6",
              "width": 0.5
             },
             "pattern": {
              "fillmode": "overlay",
              "size": 10,
              "solidity": 0.2
             }
            },
            "type": "bar"
           }
          ],
          "barpolar": [
           {
            "marker": {
             "line": {
              "color": "#E5ECF6",
              "width": 0.5
             },
             "pattern": {
              "fillmode": "overlay",
              "size": 10,
              "solidity": 0.2
             }
            },
            "type": "barpolar"
           }
          ],
          "carpet": [
           {
            "aaxis": {
             "endlinecolor": "#2a3f5f",
             "gridcolor": "white",
             "linecolor": "white",
             "minorgridcolor": "white",
             "startlinecolor": "#2a3f5f"
            },
            "baxis": {
             "endlinecolor": "#2a3f5f",
             "gridcolor": "white",
             "linecolor": "white",
             "minorgridcolor": "white",
             "startlinecolor": "#2a3f5f"
            },
            "type": "carpet"
           }
          ],
          "choropleth": [
           {
            "colorbar": {
             "outlinewidth": 0,
             "ticks": ""
            },
            "type": "choropleth"
           }
          ],
          "contour": [
           {
            "colorbar": {
             "outlinewidth": 0,
             "ticks": ""
            },
            "colorscale": [
             [
              0,
              "#0d0887"
             ],
             [
              0.1111111111111111,
              "#46039f"
             ],
             [
              0.2222222222222222,
              "#7201a8"
             ],
             [
              0.3333333333333333,
              "#9c179e"
             ],
             [
              0.4444444444444444,
              "#bd3786"
             ],
             [
              0.5555555555555556,
              "#d8576b"
             ],
             [
              0.6666666666666666,
              "#ed7953"
             ],
             [
              0.7777777777777778,
              "#fb9f3a"
             ],
             [
              0.8888888888888888,
              "#fdca26"
             ],
             [
              1,
              "#f0f921"
             ]
            ],
            "type": "contour"
           }
          ],
          "contourcarpet": [
           {
            "colorbar": {
             "outlinewidth": 0,
             "ticks": ""
            },
            "type": "contourcarpet"
           }
          ],
          "heatmap": [
           {
            "colorbar": {
             "outlinewidth": 0,
             "ticks": ""
            },
            "colorscale": [
             [
              0,
              "#0d0887"
             ],
             [
              0.1111111111111111,
              "#46039f"
             ],
             [
              0.2222222222222222,
              "#7201a8"
             ],
             [
              0.3333333333333333,
              "#9c179e"
             ],
             [
              0.4444444444444444,
              "#bd3786"
             ],
             [
              0.5555555555555556,
              "#d8576b"
             ],
             [
              0.6666666666666666,
              "#ed7953"
             ],
             [
              0.7777777777777778,
              "#fb9f3a"
             ],
             [
              0.8888888888888888,
              "#fdca26"
             ],
             [
              1,
              "#f0f921"
             ]
            ],
            "type": "heatmap"
           }
          ],
          "heatmapgl": [
           {
            "colorbar": {
             "outlinewidth": 0,
             "ticks": ""
            },
            "colorscale": [
             [
              0,
              "#0d0887"
             ],
             [
              0.1111111111111111,
              "#46039f"
             ],
             [
              0.2222222222222222,
              "#7201a8"
             ],
             [
              0.3333333333333333,
              "#9c179e"
             ],
             [
              0.4444444444444444,
              "#bd3786"
             ],
             [
              0.5555555555555556,
              "#d8576b"
             ],
             [
              0.6666666666666666,
              "#ed7953"
             ],
             [
              0.7777777777777778,
              "#fb9f3a"
             ],
             [
              0.8888888888888888,
              "#fdca26"
             ],
             [
              1,
              "#f0f921"
             ]
            ],
            "type": "heatmapgl"
           }
          ],
          "histogram": [
           {
            "marker": {
             "pattern": {
              "fillmode": "overlay",
              "size": 10,
              "solidity": 0.2
             }
            },
            "type": "histogram"
           }
          ],
          "histogram2d": [
           {
            "colorbar": {
             "outlinewidth": 0,
             "ticks": ""
            },
            "colorscale": [
             [
              0,
              "#0d0887"
             ],
             [
              0.1111111111111111,
              "#46039f"
             ],
             [
              0.2222222222222222,
              "#7201a8"
             ],
             [
              0.3333333333333333,
              "#9c179e"
             ],
             [
              0.4444444444444444,
              "#bd3786"
             ],
             [
              0.5555555555555556,
              "#d8576b"
             ],
             [
              0.6666666666666666,
              "#ed7953"
             ],
             [
              0.7777777777777778,
              "#fb9f3a"
             ],
             [
              0.8888888888888888,
              "#fdca26"
             ],
             [
              1,
              "#f0f921"
             ]
            ],
            "type": "histogram2d"
           }
          ],
          "histogram2dcontour": [
           {
            "colorbar": {
             "outlinewidth": 0,
             "ticks": ""
            },
            "colorscale": [
             [
              0,
              "#0d0887"
             ],
             [
              0.1111111111111111,
              "#46039f"
             ],
             [
              0.2222222222222222,
              "#7201a8"
             ],
             [
              0.3333333333333333,
              "#9c179e"
             ],
             [
              0.4444444444444444,
              "#bd3786"
             ],
             [
              0.5555555555555556,
              "#d8576b"
             ],
             [
              0.6666666666666666,
              "#ed7953"
             ],
             [
              0.7777777777777778,
              "#fb9f3a"
             ],
             [
              0.8888888888888888,
              "#fdca26"
             ],
             [
              1,
              "#f0f921"
             ]
            ],
            "type": "histogram2dcontour"
           }
          ],
          "mesh3d": [
           {
            "colorbar": {
             "outlinewidth": 0,
             "ticks": ""
            },
            "type": "mesh3d"
           }
          ],
          "parcoords": [
           {
            "line": {
             "colorbar": {
              "outlinewidth": 0,
              "ticks": ""
             }
            },
            "type": "parcoords"
           }
          ],
          "pie": [
           {
            "automargin": true,
            "type": "pie"
           }
          ],
          "scatter": [
           {
            "fillpattern": {
             "fillmode": "overlay",
             "size": 10,
             "solidity": 0.2
            },
            "type": "scatter"
           }
          ],
          "scatter3d": [
           {
            "line": {
             "colorbar": {
              "outlinewidth": 0,
              "ticks": ""
             }
            },
            "marker": {
             "colorbar": {
              "outlinewidth": 0,
              "ticks": ""
             }
            },
            "type": "scatter3d"
           }
          ],
          "scattercarpet": [
           {
            "marker": {
             "colorbar": {
              "outlinewidth": 0,
              "ticks": ""
             }
            },
            "type": "scattercarpet"
           }
          ],
          "scattergeo": [
           {
            "marker": {
             "colorbar": {
              "outlinewidth": 0,
              "ticks": ""
             }
            },
            "type": "scattergeo"
           }
          ],
          "scattergl": [
           {
            "marker": {
             "colorbar": {
              "outlinewidth": 0,
              "ticks": ""
             }
            },
            "type": "scattergl"
           }
          ],
          "scattermapbox": [
           {
            "marker": {
             "colorbar": {
              "outlinewidth": 0,
              "ticks": ""
             }
            },
            "type": "scattermapbox"
           }
          ],
          "scatterpolar": [
           {
            "marker": {
             "colorbar": {
              "outlinewidth": 0,
              "ticks": ""
             }
            },
            "type": "scatterpolar"
           }
          ],
          "scatterpolargl": [
           {
            "marker": {
             "colorbar": {
              "outlinewidth": 0,
              "ticks": ""
             }
            },
            "type": "scatterpolargl"
           }
          ],
          "scatterternary": [
           {
            "marker": {
             "colorbar": {
              "outlinewidth": 0,
              "ticks": ""
             }
            },
            "type": "scatterternary"
           }
          ],
          "surface": [
           {
            "colorbar": {
             "outlinewidth": 0,
             "ticks": ""
            },
            "colorscale": [
             [
              0,
              "#0d0887"
             ],
             [
              0.1111111111111111,
              "#46039f"
             ],
             [
              0.2222222222222222,
              "#7201a8"
             ],
             [
              0.3333333333333333,
              "#9c179e"
             ],
             [
              0.4444444444444444,
              "#bd3786"
             ],
             [
              0.5555555555555556,
              "#d8576b"
             ],
             [
              0.6666666666666666,
              "#ed7953"
             ],
             [
              0.7777777777777778,
              "#fb9f3a"
             ],
             [
              0.8888888888888888,
              "#fdca26"
             ],
             [
              1,
              "#f0f921"
             ]
            ],
            "type": "surface"
           }
          ],
          "table": [
           {
            "cells": {
             "fill": {
              "color": "#EBF0F8"
             },
             "line": {
              "color": "white"
             }
            },
            "header": {
             "fill": {
              "color": "#C8D4E3"
             },
             "line": {
              "color": "white"
             }
            },
            "type": "table"
           }
          ]
         },
         "layout": {
          "annotationdefaults": {
           "arrowcolor": "#2a3f5f",
           "arrowhead": 0,
           "arrowwidth": 1
          },
          "autotypenumbers": "strict",
          "coloraxis": {
           "colorbar": {
            "outlinewidth": 0,
            "ticks": ""
           }
          },
          "colorscale": {
           "diverging": [
            [
             0,
             "#8e0152"
            ],
            [
             0.1,
             "#c51b7d"
            ],
            [
             0.2,
             "#de77ae"
            ],
            [
             0.3,
             "#f1b6da"
            ],
            [
             0.4,
             "#fde0ef"
            ],
            [
             0.5,
             "#f7f7f7"
            ],
            [
             0.6,
             "#e6f5d0"
            ],
            [
             0.7,
             "#b8e186"
            ],
            [
             0.8,
             "#7fbc41"
            ],
            [
             0.9,
             "#4d9221"
            ],
            [
             1,
             "#276419"
            ]
           ],
           "sequential": [
            [
             0,
             "#0d0887"
            ],
            [
             0.1111111111111111,
             "#46039f"
            ],
            [
             0.2222222222222222,
             "#7201a8"
            ],
            [
             0.3333333333333333,
             "#9c179e"
            ],
            [
             0.4444444444444444,
             "#bd3786"
            ],
            [
             0.5555555555555556,
             "#d8576b"
            ],
            [
             0.6666666666666666,
             "#ed7953"
            ],
            [
             0.7777777777777778,
             "#fb9f3a"
            ],
            [
             0.8888888888888888,
             "#fdca26"
            ],
            [
             1,
             "#f0f921"
            ]
           ],
           "sequentialminus": [
            [
             0,
             "#0d0887"
            ],
            [
             0.1111111111111111,
             "#46039f"
            ],
            [
             0.2222222222222222,
             "#7201a8"
            ],
            [
             0.3333333333333333,
             "#9c179e"
            ],
            [
             0.4444444444444444,
             "#bd3786"
            ],
            [
             0.5555555555555556,
             "#d8576b"
            ],
            [
             0.6666666666666666,
             "#ed7953"
            ],
            [
             0.7777777777777778,
             "#fb9f3a"
            ],
            [
             0.8888888888888888,
             "#fdca26"
            ],
            [
             1,
             "#f0f921"
            ]
           ]
          },
          "colorway": [
           "#636efa",
           "#EF553B",
           "#00cc96",
           "#ab63fa",
           "#FFA15A",
           "#19d3f3",
           "#FF6692",
           "#B6E880",
           "#FF97FF",
           "#FECB52"
          ],
          "font": {
           "color": "#2a3f5f"
          },
          "geo": {
           "bgcolor": "white",
           "lakecolor": "white",
           "landcolor": "#E5ECF6",
           "showlakes": true,
           "showland": true,
           "subunitcolor": "white"
          },
          "hoverlabel": {
           "align": "left"
          },
          "hovermode": "closest",
          "mapbox": {
           "style": "light"
          },
          "paper_bgcolor": "white",
          "plot_bgcolor": "#E5ECF6",
          "polar": {
           "angularaxis": {
            "gridcolor": "white",
            "linecolor": "white",
            "ticks": ""
           },
           "bgcolor": "#E5ECF6",
           "radialaxis": {
            "gridcolor": "white",
            "linecolor": "white",
            "ticks": ""
           }
          },
          "scene": {
           "xaxis": {
            "backgroundcolor": "#E5ECF6",
            "gridcolor": "white",
            "gridwidth": 2,
            "linecolor": "white",
            "showbackground": true,
            "ticks": "",
            "zerolinecolor": "white"
           },
           "yaxis": {
            "backgroundcolor": "#E5ECF6",
            "gridcolor": "white",
            "gridwidth": 2,
            "linecolor": "white",
            "showbackground": true,
            "ticks": "",
            "zerolinecolor": "white"
           },
           "zaxis": {
            "backgroundcolor": "#E5ECF6",
            "gridcolor": "white",
            "gridwidth": 2,
            "linecolor": "white",
            "showbackground": true,
            "ticks": "",
            "zerolinecolor": "white"
           }
          },
          "shapedefaults": {
           "line": {
            "color": "#2a3f5f"
           }
          },
          "ternary": {
           "aaxis": {
            "gridcolor": "white",
            "linecolor": "white",
            "ticks": ""
           },
           "baxis": {
            "gridcolor": "white",
            "linecolor": "white",
            "ticks": ""
           },
           "bgcolor": "#E5ECF6",
           "caxis": {
            "gridcolor": "white",
            "linecolor": "white",
            "ticks": ""
           }
          },
          "title": {
           "x": 0.05
          },
          "xaxis": {
           "automargin": true,
           "gridcolor": "white",
           "linecolor": "white",
           "ticks": "",
           "title": {
            "standoff": 15
           },
           "zerolinecolor": "white",
           "zerolinewidth": 2
          },
          "yaxis": {
           "automargin": true,
           "gridcolor": "white",
           "linecolor": "white",
           "ticks": "",
           "title": {
            "standoff": 15
           },
           "zerolinecolor": "white",
           "zerolinewidth": 2
          }
         }
        }
       }
      },
      "text/html": [
       "<div>                            <div id=\"aa6b7afe-2a6c-48ee-ad5b-40e4d5fbaebb\" class=\"plotly-graph-div\" style=\"height:525px; width:100%;\"></div>            <script type=\"text/javascript\">                require([\"plotly\"], function(Plotly) {                    window.PLOTLYENV=window.PLOTLYENV || {};                                    if (document.getElementById(\"aa6b7afe-2a6c-48ee-ad5b-40e4d5fbaebb\")) {                    Plotly.newPlot(                        \"aa6b7afe-2a6c-48ee-ad5b-40e4d5fbaebb\",                        [{\"customdata\":[[\"133\",\"137\"],[\"137\",\"133\"],[\"134\",\"137\"],[\"137\",\"134\"],[\"1501\",\"2758\"],[\"2856\",\"1501\"],[\"1501\",\"2856\"],[\"726\",\"1532\"],[\"1532\",\"726\"],[\"1600\",\"1599\"],[\"1599\",\"1600\"],[\"1659\",\"1919\"],[\"1919\",\"1659\"],[\"1743\",\"1755\"],[\"1754\",\"1755\"],[\"1764\",\"1755\"],[\"1766\",\"1755\"],[\"1768\",\"1755\"],[\"1935\",\"1755\"],[\"1776\",\"3148\"],[\"3148\",\"1776\"],[\"1942\",\"1928\"],[\"1928\",\"1942\"],[\"1934\",\"1939\"],[\"1939\",\"1934\"],[\"260\",\"2804\"],[\"2804\",\"260\"],[\"2670\",\"432\"],[\"432\",\"2670\"],[\"2856\",\"2758\"],[\"3756\",\"3742\"],[\"3742\",\"3756\"],[\"3760\",\"3756\"],[\"3756\",\"3760\"],[\"2758, 2856\",\"1501\"],[\"1501, 2856\",\"2758\"],[\"1501, 2758\",\"2856\"],[\"2856\",\"1501, 2758\"],[\"1501\",\"2758, 2856\"]],\"hovertemplate\":\"Dataset=Before Sanitization\\u003cbr\\u003esupport=%{x}\\u003cbr\\u003econfidence=%{y}\\u003cbr\\u003elift=%{z}\\u003cbr\\u003eantecedents=%{customdata[0]}\\u003cbr\\u003econsequents=%{customdata[1]}\\u003cextra\\u003e\\u003c\\u002fextra\\u003e\",\"legendgroup\":\"Before Sanitization\",\"marker\":{\"color\":\"#636efa\",\"symbol\":\"circle\"},\"mode\":\"markers\",\"name\":\"Before Sanitization\",\"scene\":\"scene\",\"showlegend\":true,\"x\":[0.04,0.04,0.03333333333333333,0.03333333333333333,0.04,0.04666666666666667,0.04666666666666667,0.03333333333333333,0.03333333333333333,0.03333333333333333,0.03333333333333333,0.03333333333333333,0.03333333333333333,0.04,0.03333333333333333,0.03333333333333333,0.03333333333333333,0.03333333333333333,0.04,0.03333333333333333,0.03333333333333333,0.03333333333333333,0.03333333333333333,0.03333333333333333,0.03333333333333333,0.04,0.04,0.03333333333333333,0.03333333333333333,0.04,0.03333333333333333,0.03333333333333333,0.03333333333333333,0.03333333333333333,0.04,0.04,0.04,0.04,0.04],\"y\":[0.8571428571428571,0.6,0.8333333333333333,0.5,0.75,0.875,0.875,0.8333333333333333,0.625,0.5555555555555556,0.8333333333333333,0.8333333333333333,0.8333333333333333,0.8571428571428571,0.8333333333333333,0.7142857142857142,0.625,0.8333333333333333,0.6666666666666667,1.0,1.0,0.8333333333333333,0.5555555555555556,0.7142857142857142,0.625,0.6666666666666667,0.5454545454545454,0.7142857142857142,0.8333333333333333,0.75,0.5555555555555556,0.7142857142857142,0.625,0.5555555555555556,1.0,0.8571428571428571,1.0,0.75,0.75],\"z\":[12.857142857142856,12.857142857142856,12.499999999999998,12.5,6.61764705882353,16.40625,16.40625,15.624999999999998,15.625,13.88888888888889,13.888888888888888,20.833333333333332,20.833333333333332,7.563025210084033,7.352941176470588,6.302521008403361,5.514705882352941,7.352941176470588,5.882352941176472,30.0,30.0,13.888888888888888,13.88888888888889,13.39285714285714,13.392857142857142,9.090909090909092,9.09090909090909,17.857142857142854,17.857142857142854,6.61764705882353,11.904761904761905,11.904761904761903,10.416666666666668,10.416666666666666,18.75,7.563025210084033,18.75,18.75,18.75],\"type\":\"scatter3d\"},{\"customdata\":[[\"726\",\"1532\"],[\"1532\",\"726\"],[\"1600\",\"1599\"],[\"1599\",\"1600\"],[\"1942\",\"1928\"],[\"1928\",\"1942\"],[\"1934\",\"1939\"],[\"1939\",\"1934\"],[\"260\",\"2804\"],[\"2804\",\"260\"],[\"2670\",\"432\"],[\"432\",\"2670\"],[\"3756\",\"3742\"],[\"3742\",\"3756\"],[\"3760\",\"3756\"],[\"3756\",\"3760\"]],\"hovertemplate\":\"Dataset=After Sanitization\\u003cbr\\u003esupport=%{x}\\u003cbr\\u003econfidence=%{y}\\u003cbr\\u003elift=%{z}\\u003cbr\\u003eantecedents=%{customdata[0]}\\u003cbr\\u003econsequents=%{customdata[1]}\\u003cextra\\u003e\\u003c\\u002fextra\\u003e\",\"legendgroup\":\"After Sanitization\",\"marker\":{\"color\":\"#EF553B\",\"symbol\":\"circle\"},\"mode\":\"markers\",\"name\":\"After Sanitization\",\"scene\":\"scene\",\"showlegend\":true,\"x\":[0.03333333333333333,0.03333333333333333,0.03333333333333333,0.03333333333333333,0.03333333333333333,0.03333333333333333,0.03333333333333333,0.03333333333333333,0.04,0.04,0.03333333333333333,0.03333333333333333,0.03333333333333333,0.03333333333333333,0.03333333333333333,0.03333333333333333],\"y\":[0.8333333333333333,0.625,0.5555555555555556,0.8333333333333333,0.8333333333333333,0.5555555555555556,0.7142857142857142,0.625,0.6666666666666667,0.5454545454545454,0.7142857142857142,0.8333333333333333,0.5555555555555556,0.7142857142857142,0.625,0.5555555555555556],\"z\":[15.624999999999998,15.625,13.88888888888889,13.888888888888888,13.888888888888888,13.88888888888889,13.39285714285714,13.392857142857142,9.090909090909092,9.09090909090909,17.857142857142854,17.857142857142854,11.904761904761905,11.904761904761903,10.416666666666668,10.416666666666666],\"type\":\"scatter3d\"}],                        {\"template\":{\"data\":{\"histogram2dcontour\":[{\"type\":\"histogram2dcontour\",\"colorbar\":{\"outlinewidth\":0,\"ticks\":\"\"},\"colorscale\":[[0.0,\"#0d0887\"],[0.1111111111111111,\"#46039f\"],[0.2222222222222222,\"#7201a8\"],[0.3333333333333333,\"#9c179e\"],[0.4444444444444444,\"#bd3786\"],[0.5555555555555556,\"#d8576b\"],[0.6666666666666666,\"#ed7953\"],[0.7777777777777778,\"#fb9f3a\"],[0.8888888888888888,\"#fdca26\"],[1.0,\"#f0f921\"]]}],\"choropleth\":[{\"type\":\"choropleth\",\"colorbar\":{\"outlinewidth\":0,\"ticks\":\"\"}}],\"histogram2d\":[{\"type\":\"histogram2d\",\"colorbar\":{\"outlinewidth\":0,\"ticks\":\"\"},\"colorscale\":[[0.0,\"#0d0887\"],[0.1111111111111111,\"#46039f\"],[0.2222222222222222,\"#7201a8\"],[0.3333333333333333,\"#9c179e\"],[0.4444444444444444,\"#bd3786\"],[0.5555555555555556,\"#d8576b\"],[0.6666666666666666,\"#ed7953\"],[0.7777777777777778,\"#fb9f3a\"],[0.8888888888888888,\"#fdca26\"],[1.0,\"#f0f921\"]]}],\"heatmap\":[{\"type\":\"heatmap\",\"colorbar\":{\"outlinewidth\":0,\"ticks\":\"\"},\"colorscale\":[[0.0,\"#0d0887\"],[0.1111111111111111,\"#46039f\"],[0.2222222222222222,\"#7201a8\"],[0.3333333333333333,\"#9c179e\"],[0.4444444444444444,\"#bd3786\"],[0.5555555555555556,\"#d8576b\"],[0.6666666666666666,\"#ed7953\"],[0.7777777777777778,\"#fb9f3a\"],[0.8888888888888888,\"#fdca26\"],[1.0,\"#f0f921\"]]}],\"heatmapgl\":[{\"type\":\"heatmapgl\",\"colorbar\":{\"outlinewidth\":0,\"ticks\":\"\"},\"colorscale\":[[0.0,\"#0d0887\"],[0.1111111111111111,\"#46039f\"],[0.2222222222222222,\"#7201a8\"],[0.3333333333333333,\"#9c179e\"],[0.4444444444444444,\"#bd3786\"],[0.5555555555555556,\"#d8576b\"],[0.6666666666666666,\"#ed7953\"],[0.7777777777777778,\"#fb9f3a\"],[0.8888888888888888,\"#fdca26\"],[1.0,\"#f0f921\"]]}],\"contourcarpet\":[{\"type\":\"contourcarpet\",\"colorbar\":{\"outlinewidth\":0,\"ticks\":\"\"}}],\"contour\":[{\"type\":\"contour\",\"colorbar\":{\"outlinewidth\":0,\"ticks\":\"\"},\"colorscale\":[[0.0,\"#0d0887\"],[0.1111111111111111,\"#46039f\"],[0.2222222222222222,\"#7201a8\"],[0.3333333333333333,\"#9c179e\"],[0.4444444444444444,\"#bd3786\"],[0.5555555555555556,\"#d8576b\"],[0.6666666666666666,\"#ed7953\"],[0.7777777777777778,\"#fb9f3a\"],[0.8888888888888888,\"#fdca26\"],[1.0,\"#f0f921\"]]}],\"surface\":[{\"type\":\"surface\",\"colorbar\":{\"outlinewidth\":0,\"ticks\":\"\"},\"colorscale\":[[0.0,\"#0d0887\"],[0.1111111111111111,\"#46039f\"],[0.2222222222222222,\"#7201a8\"],[0.3333333333333333,\"#9c179e\"],[0.4444444444444444,\"#bd3786\"],[0.5555555555555556,\"#d8576b\"],[0.6666666666666666,\"#ed7953\"],[0.7777777777777778,\"#fb9f3a\"],[0.8888888888888888,\"#fdca26\"],[1.0,\"#f0f921\"]]}],\"mesh3d\":[{\"type\":\"mesh3d\",\"colorbar\":{\"outlinewidth\":0,\"ticks\":\"\"}}],\"scatter\":[{\"fillpattern\":{\"fillmode\":\"overlay\",\"size\":10,\"solidity\":0.2},\"type\":\"scatter\"}],\"parcoords\":[{\"type\":\"parcoords\",\"line\":{\"colorbar\":{\"outlinewidth\":0,\"ticks\":\"\"}}}],\"scatterpolargl\":[{\"type\":\"scatterpolargl\",\"marker\":{\"colorbar\":{\"outlinewidth\":0,\"ticks\":\"\"}}}],\"bar\":[{\"error_x\":{\"color\":\"#2a3f5f\"},\"error_y\":{\"color\":\"#2a3f5f\"},\"marker\":{\"line\":{\"color\":\"#E5ECF6\",\"width\":0.5},\"pattern\":{\"fillmode\":\"overlay\",\"size\":10,\"solidity\":0.2}},\"type\":\"bar\"}],\"scattergeo\":[{\"type\":\"scattergeo\",\"marker\":{\"colorbar\":{\"outlinewidth\":0,\"ticks\":\"\"}}}],\"scatterpolar\":[{\"type\":\"scatterpolar\",\"marker\":{\"colorbar\":{\"outlinewidth\":0,\"ticks\":\"\"}}}],\"histogram\":[{\"marker\":{\"pattern\":{\"fillmode\":\"overlay\",\"size\":10,\"solidity\":0.2}},\"type\":\"histogram\"}],\"scattergl\":[{\"type\":\"scattergl\",\"marker\":{\"colorbar\":{\"outlinewidth\":0,\"ticks\":\"\"}}}],\"scatter3d\":[{\"type\":\"scatter3d\",\"line\":{\"colorbar\":{\"outlinewidth\":0,\"ticks\":\"\"}},\"marker\":{\"colorbar\":{\"outlinewidth\":0,\"ticks\":\"\"}}}],\"scattermapbox\":[{\"type\":\"scattermapbox\",\"marker\":{\"colorbar\":{\"outlinewidth\":0,\"ticks\":\"\"}}}],\"scatterternary\":[{\"type\":\"scatterternary\",\"marker\":{\"colorbar\":{\"outlinewidth\":0,\"ticks\":\"\"}}}],\"scattercarpet\":[{\"type\":\"scattercarpet\",\"marker\":{\"colorbar\":{\"outlinewidth\":0,\"ticks\":\"\"}}}],\"carpet\":[{\"aaxis\":{\"endlinecolor\":\"#2a3f5f\",\"gridcolor\":\"white\",\"linecolor\":\"white\",\"minorgridcolor\":\"white\",\"startlinecolor\":\"#2a3f5f\"},\"baxis\":{\"endlinecolor\":\"#2a3f5f\",\"gridcolor\":\"white\",\"linecolor\":\"white\",\"minorgridcolor\":\"white\",\"startlinecolor\":\"#2a3f5f\"},\"type\":\"carpet\"}],\"table\":[{\"cells\":{\"fill\":{\"color\":\"#EBF0F8\"},\"line\":{\"color\":\"white\"}},\"header\":{\"fill\":{\"color\":\"#C8D4E3\"},\"line\":{\"color\":\"white\"}},\"type\":\"table\"}],\"barpolar\":[{\"marker\":{\"line\":{\"color\":\"#E5ECF6\",\"width\":0.5},\"pattern\":{\"fillmode\":\"overlay\",\"size\":10,\"solidity\":0.2}},\"type\":\"barpolar\"}],\"pie\":[{\"automargin\":true,\"type\":\"pie\"}]},\"layout\":{\"autotypenumbers\":\"strict\",\"colorway\":[\"#636efa\",\"#EF553B\",\"#00cc96\",\"#ab63fa\",\"#FFA15A\",\"#19d3f3\",\"#FF6692\",\"#B6E880\",\"#FF97FF\",\"#FECB52\"],\"font\":{\"color\":\"#2a3f5f\"},\"hovermode\":\"closest\",\"hoverlabel\":{\"align\":\"left\"},\"paper_bgcolor\":\"white\",\"plot_bgcolor\":\"#E5ECF6\",\"polar\":{\"bgcolor\":\"#E5ECF6\",\"angularaxis\":{\"gridcolor\":\"white\",\"linecolor\":\"white\",\"ticks\":\"\"},\"radialaxis\":{\"gridcolor\":\"white\",\"linecolor\":\"white\",\"ticks\":\"\"}},\"ternary\":{\"bgcolor\":\"#E5ECF6\",\"aaxis\":{\"gridcolor\":\"white\",\"linecolor\":\"white\",\"ticks\":\"\"},\"baxis\":{\"gridcolor\":\"white\",\"linecolor\":\"white\",\"ticks\":\"\"},\"caxis\":{\"gridcolor\":\"white\",\"linecolor\":\"white\",\"ticks\":\"\"}},\"coloraxis\":{\"colorbar\":{\"outlinewidth\":0,\"ticks\":\"\"}},\"colorscale\":{\"sequential\":[[0.0,\"#0d0887\"],[0.1111111111111111,\"#46039f\"],[0.2222222222222222,\"#7201a8\"],[0.3333333333333333,\"#9c179e\"],[0.4444444444444444,\"#bd3786\"],[0.5555555555555556,\"#d8576b\"],[0.6666666666666666,\"#ed7953\"],[0.7777777777777778,\"#fb9f3a\"],[0.8888888888888888,\"#fdca26\"],[1.0,\"#f0f921\"]],\"sequentialminus\":[[0.0,\"#0d0887\"],[0.1111111111111111,\"#46039f\"],[0.2222222222222222,\"#7201a8\"],[0.3333333333333333,\"#9c179e\"],[0.4444444444444444,\"#bd3786\"],[0.5555555555555556,\"#d8576b\"],[0.6666666666666666,\"#ed7953\"],[0.7777777777777778,\"#fb9f3a\"],[0.8888888888888888,\"#fdca26\"],[1.0,\"#f0f921\"]],\"diverging\":[[0,\"#8e0152\"],[0.1,\"#c51b7d\"],[0.2,\"#de77ae\"],[0.3,\"#f1b6da\"],[0.4,\"#fde0ef\"],[0.5,\"#f7f7f7\"],[0.6,\"#e6f5d0\"],[0.7,\"#b8e186\"],[0.8,\"#7fbc41\"],[0.9,\"#4d9221\"],[1,\"#276419\"]]},\"xaxis\":{\"gridcolor\":\"white\",\"linecolor\":\"white\",\"ticks\":\"\",\"title\":{\"standoff\":15},\"zerolinecolor\":\"white\",\"automargin\":true,\"zerolinewidth\":2},\"yaxis\":{\"gridcolor\":\"white\",\"linecolor\":\"white\",\"ticks\":\"\",\"title\":{\"standoff\":15},\"zerolinecolor\":\"white\",\"automargin\":true,\"zerolinewidth\":2},\"scene\":{\"xaxis\":{\"backgroundcolor\":\"#E5ECF6\",\"gridcolor\":\"white\",\"linecolor\":\"white\",\"showbackground\":true,\"ticks\":\"\",\"zerolinecolor\":\"white\",\"gridwidth\":2},\"yaxis\":{\"backgroundcolor\":\"#E5ECF6\",\"gridcolor\":\"white\",\"linecolor\":\"white\",\"showbackground\":true,\"ticks\":\"\",\"zerolinecolor\":\"white\",\"gridwidth\":2},\"zaxis\":{\"backgroundcolor\":\"#E5ECF6\",\"gridcolor\":\"white\",\"linecolor\":\"white\",\"showbackground\":true,\"ticks\":\"\",\"zerolinecolor\":\"white\",\"gridwidth\":2}},\"shapedefaults\":{\"line\":{\"color\":\"#2a3f5f\"}},\"annotationdefaults\":{\"arrowcolor\":\"#2a3f5f\",\"arrowhead\":0,\"arrowwidth\":1},\"geo\":{\"bgcolor\":\"white\",\"landcolor\":\"#E5ECF6\",\"subunitcolor\":\"white\",\"showland\":true,\"showlakes\":true,\"lakecolor\":\"white\"},\"title\":{\"x\":0.05},\"mapbox\":{\"style\":\"light\"}}},\"scene\":{\"domain\":{\"x\":[0.0,1.0],\"y\":[0.0,1.0]},\"xaxis\":{\"title\":{\"text\":\"support\"}},\"yaxis\":{\"title\":{\"text\":\"confidence\"}},\"zaxis\":{\"title\":{\"text\":\"lift\"}}},\"legend\":{\"title\":{\"text\":\"Dataset\"},\"tracegroupgap\":0},\"margin\":{\"t\":60}},                        {\"responsive\": true}                    ).then(function(){\n",
       "                            \n",
       "var gd = document.getElementById('aa6b7afe-2a6c-48ee-ad5b-40e4d5fbaebb');\n",
       "var x = new MutationObserver(function (mutations, observer) {{\n",
       "        var display = window.getComputedStyle(gd).display;\n",
       "        if (!display || display === 'none') {{\n",
       "            console.log([gd, 'removed!']);\n",
       "            Plotly.purge(gd);\n",
       "            observer.disconnect();\n",
       "        }}\n",
       "}});\n",
       "\n",
       "// Listen for the removal of the full notebook cells\n",
       "var notebookContainer = gd.closest('#notebook-container');\n",
       "if (notebookContainer) {{\n",
       "    x.observe(notebookContainer, {childList: true});\n",
       "}}\n",
       "\n",
       "// Listen for the clearing of the current output cell\n",
       "var outputEl = gd.closest('.output');\n",
       "if (outputEl) {{\n",
       "    x.observe(outputEl, {childList: true});\n",
       "}}\n",
       "\n",
       "                        })                };                });            </script>        </div>"
      ]
     },
     "metadata": {},
     "output_type": "display_data"
    }
   ],
   "source": [
    "import pandas as pd\n",
    "\n",
    "# Function to convert frozensets to a string representation\n",
    "def frozenset_to_string(frozenset_column):\n",
    "    return frozenset_column.apply(lambda x: ', '.join(x))\n",
    "\n",
    "# Apply the conversion to both DataFrames\n",
    "rules['antecedents'] = frozenset_to_string(rules['antecedents'])\n",
    "rules['consequents'] = frozenset_to_string(rules['consequents'])\n",
    "rules_after_hidden['antecedents'] = frozenset_to_string(rules_after_hidden['antecedents'])\n",
    "rules_after_hidden['consequents'] = frozenset_to_string(rules_after_hidden['consequents'])\n",
    "\n",
    "# Add a column to distinguish between the two sets of rules\n",
    "rules['Dataset'] = 'Before Sanitization'\n",
    "rules_after_hidden['Dataset'] = 'After Sanitization'\n",
    "\n",
    "# Combine the two DataFrames for plotting\n",
    "combined_rules = pd.concat([rules, rules_after_hidden])\n",
    "\n",
    "# Now, you should be able to plot without errors\n",
    "import plotly.express as px\n",
    "\n",
    "fig = px.scatter_3d(combined_rules,\n",
    "                    x='support',\n",
    "                    y='confidence',\n",
    "                    z='lift',\n",
    "                    color='Dataset',\n",
    "                    hover_data=['antecedents', 'consequents'])\n",
    "\n",
    "fig.show()\n"
   ]
  },
  {
   "cell_type": "code",
   "execution_count": 46,
   "metadata": {},
   "outputs": [
    {
     "data": {
      "text/plain": [
       "23"
      ]
     },
     "execution_count": 46,
     "metadata": {},
     "output_type": "execute_result"
    }
   ],
   "source": [
    "len(rules)-len(rules_after_hidden)"
   ]
  },
  {
   "cell_type": "code",
   "execution_count": 47,
   "metadata": {},
   "outputs": [],
   "source": [
    "rules_after_hiding= rules_after_hidden.copy()"
   ]
  },
  {
   "cell_type": "code",
   "execution_count": 48,
   "metadata": {},
   "outputs": [
    {
     "data": {
      "application/vnd.plotly.v1+json": {
       "config": {
        "plotlyServerURL": "https://plot.ly"
       },
       "data": [
        {
         "hoverinfo": "text+name",
         "marker": {
          "color": "blue",
          "size": 5
         },
         "mode": "markers",
         "name": "Before Hiding Only",
         "text": [
          "['133'] -> ['137']",
          "['137'] -> ['133']",
          "['134'] -> ['137']",
          "['137'] -> ['134']",
          "['1501'] -> ['2758']",
          "['2856'] -> ['1501']",
          "['1501'] -> ['2856']",
          "['1659'] -> ['1919']",
          "['1919'] -> ['1659']",
          "['1743'] -> ['1755']",
          "['1754'] -> ['1755']",
          "['1764'] -> ['1755']",
          "['1766'] -> ['1755']",
          "['1768'] -> ['1755']",
          "['1935'] -> ['1755']",
          "['1776'] -> ['3148']",
          "['3148'] -> ['1776']",
          "['2856'] -> ['2758']",
          "['2758', '2856'] -> ['1501']",
          "['1501', '2856'] -> ['2758']",
          "['1501', '2758'] -> ['2856']",
          "['2856'] -> ['1501', '2758']",
          "['1501'] -> ['2758', '2856']"
         ],
         "type": "scatter3d",
         "x": [
          0.04,
          0.04,
          0.03333333333333333,
          0.03333333333333333,
          0.04,
          0.04666666666666667,
          0.04666666666666667,
          0.03333333333333333,
          0.03333333333333333,
          0.04,
          0.03333333333333333,
          0.03333333333333333,
          0.03333333333333333,
          0.03333333333333333,
          0.04,
          0.03333333333333333,
          0.03333333333333333,
          0.04,
          0.04,
          0.04,
          0.04,
          0.04,
          0.04
         ],
         "y": [
          0.8571428571428571,
          0.6,
          0.8333333333333333,
          0.5,
          0.75,
          0.875,
          0.875,
          0.8333333333333333,
          0.8333333333333333,
          0.8571428571428571,
          0.8333333333333333,
          0.7142857142857142,
          0.625,
          0.8333333333333333,
          0.6666666666666667,
          1,
          1,
          0.75,
          1,
          0.8571428571428571,
          1,
          0.75,
          0.75
         ],
         "z": [
          12.857142857142856,
          12.857142857142856,
          12.499999999999998,
          12.5,
          6.61764705882353,
          16.40625,
          16.40625,
          20.833333333333332,
          20.833333333333332,
          7.563025210084033,
          7.352941176470588,
          6.302521008403361,
          5.514705882352941,
          7.352941176470588,
          5.882352941176472,
          30,
          30,
          6.61764705882353,
          18.75,
          7.563025210084033,
          18.75,
          18.75,
          18.75
         ]
        },
        {
         "hoverinfo": "text+name",
         "marker": {
          "color": "red",
          "size": 5
         },
         "mode": "markers",
         "name": "After Hiding Only",
         "text": [],
         "type": "scatter3d",
         "x": [],
         "y": [],
         "z": []
        },
        {
         "hoverinfo": "text+name",
         "marker": {
          "color": "green",
          "size": 5
         },
         "mode": "markers",
         "name": "Common",
         "text": [
          "['726'] -> ['1532']",
          "['1532'] -> ['726']",
          "['1600'] -> ['1599']",
          "['1599'] -> ['1600']",
          "['1942'] -> ['1928']",
          "['1928'] -> ['1942']",
          "['1934'] -> ['1939']",
          "['1939'] -> ['1934']",
          "['260'] -> ['2804']",
          "['2804'] -> ['260']",
          "['2670'] -> ['432']",
          "['432'] -> ['2670']",
          "['3756'] -> ['3742']",
          "['3742'] -> ['3756']",
          "['3760'] -> ['3756']",
          "['3756'] -> ['3760']",
          "['726'] -> ['1532']",
          "['1532'] -> ['726']",
          "['1600'] -> ['1599']",
          "['1599'] -> ['1600']",
          "['1942'] -> ['1928']",
          "['1928'] -> ['1942']",
          "['1934'] -> ['1939']",
          "['1939'] -> ['1934']",
          "['260'] -> ['2804']",
          "['2804'] -> ['260']",
          "['2670'] -> ['432']",
          "['432'] -> ['2670']",
          "['3756'] -> ['3742']",
          "['3742'] -> ['3756']",
          "['3760'] -> ['3756']",
          "['3756'] -> ['3760']"
         ],
         "type": "scatter3d",
         "x": [
          0.03333333333333333,
          0.03333333333333333,
          0.03333333333333333,
          0.03333333333333333,
          0.03333333333333333,
          0.03333333333333333,
          0.03333333333333333,
          0.03333333333333333,
          0.04,
          0.04,
          0.03333333333333333,
          0.03333333333333333,
          0.03333333333333333,
          0.03333333333333333,
          0.03333333333333333,
          0.03333333333333333,
          0.03333333333333333,
          0.03333333333333333,
          0.03333333333333333,
          0.03333333333333333,
          0.03333333333333333,
          0.03333333333333333,
          0.03333333333333333,
          0.03333333333333333,
          0.04,
          0.04,
          0.03333333333333333,
          0.03333333333333333,
          0.03333333333333333,
          0.03333333333333333,
          0.03333333333333333,
          0.03333333333333333
         ],
         "y": [
          0.8333333333333333,
          0.625,
          0.5555555555555556,
          0.8333333333333333,
          0.8333333333333333,
          0.5555555555555556,
          0.7142857142857142,
          0.625,
          0.6666666666666667,
          0.5454545454545454,
          0.7142857142857142,
          0.8333333333333333,
          0.5555555555555556,
          0.7142857142857142,
          0.625,
          0.5555555555555556,
          0.8333333333333333,
          0.625,
          0.5555555555555556,
          0.8333333333333333,
          0.8333333333333333,
          0.5555555555555556,
          0.7142857142857142,
          0.625,
          0.6666666666666667,
          0.5454545454545454,
          0.7142857142857142,
          0.8333333333333333,
          0.5555555555555556,
          0.7142857142857142,
          0.625,
          0.5555555555555556
         ],
         "z": [
          15.624999999999998,
          15.625,
          13.88888888888889,
          13.888888888888888,
          13.888888888888888,
          13.88888888888889,
          13.39285714285714,
          13.392857142857142,
          9.090909090909092,
          9.09090909090909,
          17.857142857142854,
          17.857142857142854,
          11.904761904761905,
          11.904761904761903,
          10.416666666666668,
          10.416666666666666,
          15.624999999999998,
          15.625,
          13.88888888888889,
          13.888888888888888,
          13.888888888888888,
          13.88888888888889,
          13.39285714285714,
          13.392857142857142,
          9.090909090909092,
          9.09090909090909,
          17.857142857142854,
          17.857142857142854,
          11.904761904761905,
          11.904761904761903,
          10.416666666666668,
          10.416666666666666
         ]
        }
       ],
       "layout": {
        "legend": {
         "title": {
          "text": "Rule Type"
         }
        },
        "scene": {
         "xaxis": {
          "title": {
           "text": "Support"
          }
         },
         "yaxis": {
          "title": {
           "text": "Confidence"
          }
         },
         "zaxis": {
          "title": {
           "text": "Lift"
          }
         }
        },
        "template": {
         "data": {
          "bar": [
           {
            "error_x": {
             "color": "#2a3f5f"
            },
            "error_y": {
             "color": "#2a3f5f"
            },
            "marker": {
             "line": {
              "color": "#E5ECF6",
              "width": 0.5
             },
             "pattern": {
              "fillmode": "overlay",
              "size": 10,
              "solidity": 0.2
             }
            },
            "type": "bar"
           }
          ],
          "barpolar": [
           {
            "marker": {
             "line": {
              "color": "#E5ECF6",
              "width": 0.5
             },
             "pattern": {
              "fillmode": "overlay",
              "size": 10,
              "solidity": 0.2
             }
            },
            "type": "barpolar"
           }
          ],
          "carpet": [
           {
            "aaxis": {
             "endlinecolor": "#2a3f5f",
             "gridcolor": "white",
             "linecolor": "white",
             "minorgridcolor": "white",
             "startlinecolor": "#2a3f5f"
            },
            "baxis": {
             "endlinecolor": "#2a3f5f",
             "gridcolor": "white",
             "linecolor": "white",
             "minorgridcolor": "white",
             "startlinecolor": "#2a3f5f"
            },
            "type": "carpet"
           }
          ],
          "choropleth": [
           {
            "colorbar": {
             "outlinewidth": 0,
             "ticks": ""
            },
            "type": "choropleth"
           }
          ],
          "contour": [
           {
            "colorbar": {
             "outlinewidth": 0,
             "ticks": ""
            },
            "colorscale": [
             [
              0,
              "#0d0887"
             ],
             [
              0.1111111111111111,
              "#46039f"
             ],
             [
              0.2222222222222222,
              "#7201a8"
             ],
             [
              0.3333333333333333,
              "#9c179e"
             ],
             [
              0.4444444444444444,
              "#bd3786"
             ],
             [
              0.5555555555555556,
              "#d8576b"
             ],
             [
              0.6666666666666666,
              "#ed7953"
             ],
             [
              0.7777777777777778,
              "#fb9f3a"
             ],
             [
              0.8888888888888888,
              "#fdca26"
             ],
             [
              1,
              "#f0f921"
             ]
            ],
            "type": "contour"
           }
          ],
          "contourcarpet": [
           {
            "colorbar": {
             "outlinewidth": 0,
             "ticks": ""
            },
            "type": "contourcarpet"
           }
          ],
          "heatmap": [
           {
            "colorbar": {
             "outlinewidth": 0,
             "ticks": ""
            },
            "colorscale": [
             [
              0,
              "#0d0887"
             ],
             [
              0.1111111111111111,
              "#46039f"
             ],
             [
              0.2222222222222222,
              "#7201a8"
             ],
             [
              0.3333333333333333,
              "#9c179e"
             ],
             [
              0.4444444444444444,
              "#bd3786"
             ],
             [
              0.5555555555555556,
              "#d8576b"
             ],
             [
              0.6666666666666666,
              "#ed7953"
             ],
             [
              0.7777777777777778,
              "#fb9f3a"
             ],
             [
              0.8888888888888888,
              "#fdca26"
             ],
             [
              1,
              "#f0f921"
             ]
            ],
            "type": "heatmap"
           }
          ],
          "heatmapgl": [
           {
            "colorbar": {
             "outlinewidth": 0,
             "ticks": ""
            },
            "colorscale": [
             [
              0,
              "#0d0887"
             ],
             [
              0.1111111111111111,
              "#46039f"
             ],
             [
              0.2222222222222222,
              "#7201a8"
             ],
             [
              0.3333333333333333,
              "#9c179e"
             ],
             [
              0.4444444444444444,
              "#bd3786"
             ],
             [
              0.5555555555555556,
              "#d8576b"
             ],
             [
              0.6666666666666666,
              "#ed7953"
             ],
             [
              0.7777777777777778,
              "#fb9f3a"
             ],
             [
              0.8888888888888888,
              "#fdca26"
             ],
             [
              1,
              "#f0f921"
             ]
            ],
            "type": "heatmapgl"
           }
          ],
          "histogram": [
           {
            "marker": {
             "pattern": {
              "fillmode": "overlay",
              "size": 10,
              "solidity": 0.2
             }
            },
            "type": "histogram"
           }
          ],
          "histogram2d": [
           {
            "colorbar": {
             "outlinewidth": 0,
             "ticks": ""
            },
            "colorscale": [
             [
              0,
              "#0d0887"
             ],
             [
              0.1111111111111111,
              "#46039f"
             ],
             [
              0.2222222222222222,
              "#7201a8"
             ],
             [
              0.3333333333333333,
              "#9c179e"
             ],
             [
              0.4444444444444444,
              "#bd3786"
             ],
             [
              0.5555555555555556,
              "#d8576b"
             ],
             [
              0.6666666666666666,
              "#ed7953"
             ],
             [
              0.7777777777777778,
              "#fb9f3a"
             ],
             [
              0.8888888888888888,
              "#fdca26"
             ],
             [
              1,
              "#f0f921"
             ]
            ],
            "type": "histogram2d"
           }
          ],
          "histogram2dcontour": [
           {
            "colorbar": {
             "outlinewidth": 0,
             "ticks": ""
            },
            "colorscale": [
             [
              0,
              "#0d0887"
             ],
             [
              0.1111111111111111,
              "#46039f"
             ],
             [
              0.2222222222222222,
              "#7201a8"
             ],
             [
              0.3333333333333333,
              "#9c179e"
             ],
             [
              0.4444444444444444,
              "#bd3786"
             ],
             [
              0.5555555555555556,
              "#d8576b"
             ],
             [
              0.6666666666666666,
              "#ed7953"
             ],
             [
              0.7777777777777778,
              "#fb9f3a"
             ],
             [
              0.8888888888888888,
              "#fdca26"
             ],
             [
              1,
              "#f0f921"
             ]
            ],
            "type": "histogram2dcontour"
           }
          ],
          "mesh3d": [
           {
            "colorbar": {
             "outlinewidth": 0,
             "ticks": ""
            },
            "type": "mesh3d"
           }
          ],
          "parcoords": [
           {
            "line": {
             "colorbar": {
              "outlinewidth": 0,
              "ticks": ""
             }
            },
            "type": "parcoords"
           }
          ],
          "pie": [
           {
            "automargin": true,
            "type": "pie"
           }
          ],
          "scatter": [
           {
            "fillpattern": {
             "fillmode": "overlay",
             "size": 10,
             "solidity": 0.2
            },
            "type": "scatter"
           }
          ],
          "scatter3d": [
           {
            "line": {
             "colorbar": {
              "outlinewidth": 0,
              "ticks": ""
             }
            },
            "marker": {
             "colorbar": {
              "outlinewidth": 0,
              "ticks": ""
             }
            },
            "type": "scatter3d"
           }
          ],
          "scattercarpet": [
           {
            "marker": {
             "colorbar": {
              "outlinewidth": 0,
              "ticks": ""
             }
            },
            "type": "scattercarpet"
           }
          ],
          "scattergeo": [
           {
            "marker": {
             "colorbar": {
              "outlinewidth": 0,
              "ticks": ""
             }
            },
            "type": "scattergeo"
           }
          ],
          "scattergl": [
           {
            "marker": {
             "colorbar": {
              "outlinewidth": 0,
              "ticks": ""
             }
            },
            "type": "scattergl"
           }
          ],
          "scattermapbox": [
           {
            "marker": {
             "colorbar": {
              "outlinewidth": 0,
              "ticks": ""
             }
            },
            "type": "scattermapbox"
           }
          ],
          "scatterpolar": [
           {
            "marker": {
             "colorbar": {
              "outlinewidth": 0,
              "ticks": ""
             }
            },
            "type": "scatterpolar"
           }
          ],
          "scatterpolargl": [
           {
            "marker": {
             "colorbar": {
              "outlinewidth": 0,
              "ticks": ""
             }
            },
            "type": "scatterpolargl"
           }
          ],
          "scatterternary": [
           {
            "marker": {
             "colorbar": {
              "outlinewidth": 0,
              "ticks": ""
             }
            },
            "type": "scatterternary"
           }
          ],
          "surface": [
           {
            "colorbar": {
             "outlinewidth": 0,
             "ticks": ""
            },
            "colorscale": [
             [
              0,
              "#0d0887"
             ],
             [
              0.1111111111111111,
              "#46039f"
             ],
             [
              0.2222222222222222,
              "#7201a8"
             ],
             [
              0.3333333333333333,
              "#9c179e"
             ],
             [
              0.4444444444444444,
              "#bd3786"
             ],
             [
              0.5555555555555556,
              "#d8576b"
             ],
             [
              0.6666666666666666,
              "#ed7953"
             ],
             [
              0.7777777777777778,
              "#fb9f3a"
             ],
             [
              0.8888888888888888,
              "#fdca26"
             ],
             [
              1,
              "#f0f921"
             ]
            ],
            "type": "surface"
           }
          ],
          "table": [
           {
            "cells": {
             "fill": {
              "color": "#EBF0F8"
             },
             "line": {
              "color": "white"
             }
            },
            "header": {
             "fill": {
              "color": "#C8D4E3"
             },
             "line": {
              "color": "white"
             }
            },
            "type": "table"
           }
          ]
         },
         "layout": {
          "annotationdefaults": {
           "arrowcolor": "#2a3f5f",
           "arrowhead": 0,
           "arrowwidth": 1
          },
          "autotypenumbers": "strict",
          "coloraxis": {
           "colorbar": {
            "outlinewidth": 0,
            "ticks": ""
           }
          },
          "colorscale": {
           "diverging": [
            [
             0,
             "#8e0152"
            ],
            [
             0.1,
             "#c51b7d"
            ],
            [
             0.2,
             "#de77ae"
            ],
            [
             0.3,
             "#f1b6da"
            ],
            [
             0.4,
             "#fde0ef"
            ],
            [
             0.5,
             "#f7f7f7"
            ],
            [
             0.6,
             "#e6f5d0"
            ],
            [
             0.7,
             "#b8e186"
            ],
            [
             0.8,
             "#7fbc41"
            ],
            [
             0.9,
             "#4d9221"
            ],
            [
             1,
             "#276419"
            ]
           ],
           "sequential": [
            [
             0,
             "#0d0887"
            ],
            [
             0.1111111111111111,
             "#46039f"
            ],
            [
             0.2222222222222222,
             "#7201a8"
            ],
            [
             0.3333333333333333,
             "#9c179e"
            ],
            [
             0.4444444444444444,
             "#bd3786"
            ],
            [
             0.5555555555555556,
             "#d8576b"
            ],
            [
             0.6666666666666666,
             "#ed7953"
            ],
            [
             0.7777777777777778,
             "#fb9f3a"
            ],
            [
             0.8888888888888888,
             "#fdca26"
            ],
            [
             1,
             "#f0f921"
            ]
           ],
           "sequentialminus": [
            [
             0,
             "#0d0887"
            ],
            [
             0.1111111111111111,
             "#46039f"
            ],
            [
             0.2222222222222222,
             "#7201a8"
            ],
            [
             0.3333333333333333,
             "#9c179e"
            ],
            [
             0.4444444444444444,
             "#bd3786"
            ],
            [
             0.5555555555555556,
             "#d8576b"
            ],
            [
             0.6666666666666666,
             "#ed7953"
            ],
            [
             0.7777777777777778,
             "#fb9f3a"
            ],
            [
             0.8888888888888888,
             "#fdca26"
            ],
            [
             1,
             "#f0f921"
            ]
           ]
          },
          "colorway": [
           "#636efa",
           "#EF553B",
           "#00cc96",
           "#ab63fa",
           "#FFA15A",
           "#19d3f3",
           "#FF6692",
           "#B6E880",
           "#FF97FF",
           "#FECB52"
          ],
          "font": {
           "color": "#2a3f5f"
          },
          "geo": {
           "bgcolor": "white",
           "lakecolor": "white",
           "landcolor": "#E5ECF6",
           "showlakes": true,
           "showland": true,
           "subunitcolor": "white"
          },
          "hoverlabel": {
           "align": "left"
          },
          "hovermode": "closest",
          "mapbox": {
           "style": "light"
          },
          "paper_bgcolor": "white",
          "plot_bgcolor": "#E5ECF6",
          "polar": {
           "angularaxis": {
            "gridcolor": "white",
            "linecolor": "white",
            "ticks": ""
           },
           "bgcolor": "#E5ECF6",
           "radialaxis": {
            "gridcolor": "white",
            "linecolor": "white",
            "ticks": ""
           }
          },
          "scene": {
           "xaxis": {
            "backgroundcolor": "#E5ECF6",
            "gridcolor": "white",
            "gridwidth": 2,
            "linecolor": "white",
            "showbackground": true,
            "ticks": "",
            "zerolinecolor": "white"
           },
           "yaxis": {
            "backgroundcolor": "#E5ECF6",
            "gridcolor": "white",
            "gridwidth": 2,
            "linecolor": "white",
            "showbackground": true,
            "ticks": "",
            "zerolinecolor": "white"
           },
           "zaxis": {
            "backgroundcolor": "#E5ECF6",
            "gridcolor": "white",
            "gridwidth": 2,
            "linecolor": "white",
            "showbackground": true,
            "ticks": "",
            "zerolinecolor": "white"
           }
          },
          "shapedefaults": {
           "line": {
            "color": "#2a3f5f"
           }
          },
          "ternary": {
           "aaxis": {
            "gridcolor": "white",
            "linecolor": "white",
            "ticks": ""
           },
           "baxis": {
            "gridcolor": "white",
            "linecolor": "white",
            "ticks": ""
           },
           "bgcolor": "#E5ECF6",
           "caxis": {
            "gridcolor": "white",
            "linecolor": "white",
            "ticks": ""
           }
          },
          "title": {
           "x": 0.05
          },
          "xaxis": {
           "automargin": true,
           "gridcolor": "white",
           "linecolor": "white",
           "ticks": "",
           "title": {
            "standoff": 15
           },
           "zerolinecolor": "white",
           "zerolinewidth": 2
          },
          "yaxis": {
           "automargin": true,
           "gridcolor": "white",
           "linecolor": "white",
           "ticks": "",
           "title": {
            "standoff": 15
           },
           "zerolinecolor": "white",
           "zerolinewidth": 2
          }
         }
        },
        "title": {
         "text": "Association Rules: Support, Confidence, and Lift Comparison"
        }
       }
      },
      "text/html": [
       "<div>                            <div id=\"d952ce68-c046-4918-8838-887f7807b0c1\" class=\"plotly-graph-div\" style=\"height:525px; width:100%;\"></div>            <script type=\"text/javascript\">                require([\"plotly\"], function(Plotly) {                    window.PLOTLYENV=window.PLOTLYENV || {};                                    if (document.getElementById(\"d952ce68-c046-4918-8838-887f7807b0c1\")) {                    Plotly.newPlot(                        \"d952ce68-c046-4918-8838-887f7807b0c1\",                        [{\"hoverinfo\":\"text+name\",\"marker\":{\"color\":\"blue\",\"size\":5},\"mode\":\"markers\",\"name\":\"Before Hiding Only\",\"text\":[\"['133'] -\\u003e ['137']\",\"['137'] -\\u003e ['133']\",\"['134'] -\\u003e ['137']\",\"['137'] -\\u003e ['134']\",\"['1501'] -\\u003e ['2758']\",\"['2856'] -\\u003e ['1501']\",\"['1501'] -\\u003e ['2856']\",\"['1659'] -\\u003e ['1919']\",\"['1919'] -\\u003e ['1659']\",\"['1743'] -\\u003e ['1755']\",\"['1754'] -\\u003e ['1755']\",\"['1764'] -\\u003e ['1755']\",\"['1766'] -\\u003e ['1755']\",\"['1768'] -\\u003e ['1755']\",\"['1935'] -\\u003e ['1755']\",\"['1776'] -\\u003e ['3148']\",\"['3148'] -\\u003e ['1776']\",\"['2856'] -\\u003e ['2758']\",\"['2758', '2856'] -\\u003e ['1501']\",\"['1501', '2856'] -\\u003e ['2758']\",\"['1501', '2758'] -\\u003e ['2856']\",\"['2856'] -\\u003e ['1501', '2758']\",\"['1501'] -\\u003e ['2758', '2856']\"],\"x\":[0.04,0.04,0.03333333333333333,0.03333333333333333,0.04,0.04666666666666667,0.04666666666666667,0.03333333333333333,0.03333333333333333,0.04,0.03333333333333333,0.03333333333333333,0.03333333333333333,0.03333333333333333,0.04,0.03333333333333333,0.03333333333333333,0.04,0.04,0.04,0.04,0.04,0.04],\"y\":[0.8571428571428571,0.6,0.8333333333333333,0.5,0.75,0.875,0.875,0.8333333333333333,0.8333333333333333,0.8571428571428571,0.8333333333333333,0.7142857142857142,0.625,0.8333333333333333,0.6666666666666667,1.0,1.0,0.75,1.0,0.8571428571428571,1.0,0.75,0.75],\"z\":[12.857142857142856,12.857142857142856,12.499999999999998,12.5,6.61764705882353,16.40625,16.40625,20.833333333333332,20.833333333333332,7.563025210084033,7.352941176470588,6.302521008403361,5.514705882352941,7.352941176470588,5.882352941176472,30.0,30.0,6.61764705882353,18.75,7.563025210084033,18.75,18.75,18.75],\"type\":\"scatter3d\"},{\"hoverinfo\":\"text+name\",\"marker\":{\"color\":\"red\",\"size\":5},\"mode\":\"markers\",\"name\":\"After Hiding Only\",\"text\":[],\"x\":[],\"y\":[],\"z\":[],\"type\":\"scatter3d\"},{\"hoverinfo\":\"text+name\",\"marker\":{\"color\":\"green\",\"size\":5},\"mode\":\"markers\",\"name\":\"Common\",\"text\":[\"['726'] -\\u003e ['1532']\",\"['1532'] -\\u003e ['726']\",\"['1600'] -\\u003e ['1599']\",\"['1599'] -\\u003e ['1600']\",\"['1942'] -\\u003e ['1928']\",\"['1928'] -\\u003e ['1942']\",\"['1934'] -\\u003e ['1939']\",\"['1939'] -\\u003e ['1934']\",\"['260'] -\\u003e ['2804']\",\"['2804'] -\\u003e ['260']\",\"['2670'] -\\u003e ['432']\",\"['432'] -\\u003e ['2670']\",\"['3756'] -\\u003e ['3742']\",\"['3742'] -\\u003e ['3756']\",\"['3760'] -\\u003e ['3756']\",\"['3756'] -\\u003e ['3760']\",\"['726'] -\\u003e ['1532']\",\"['1532'] -\\u003e ['726']\",\"['1600'] -\\u003e ['1599']\",\"['1599'] -\\u003e ['1600']\",\"['1942'] -\\u003e ['1928']\",\"['1928'] -\\u003e ['1942']\",\"['1934'] -\\u003e ['1939']\",\"['1939'] -\\u003e ['1934']\",\"['260'] -\\u003e ['2804']\",\"['2804'] -\\u003e ['260']\",\"['2670'] -\\u003e ['432']\",\"['432'] -\\u003e ['2670']\",\"['3756'] -\\u003e ['3742']\",\"['3742'] -\\u003e ['3756']\",\"['3760'] -\\u003e ['3756']\",\"['3756'] -\\u003e ['3760']\"],\"x\":[0.03333333333333333,0.03333333333333333,0.03333333333333333,0.03333333333333333,0.03333333333333333,0.03333333333333333,0.03333333333333333,0.03333333333333333,0.04,0.04,0.03333333333333333,0.03333333333333333,0.03333333333333333,0.03333333333333333,0.03333333333333333,0.03333333333333333,0.03333333333333333,0.03333333333333333,0.03333333333333333,0.03333333333333333,0.03333333333333333,0.03333333333333333,0.03333333333333333,0.03333333333333333,0.04,0.04,0.03333333333333333,0.03333333333333333,0.03333333333333333,0.03333333333333333,0.03333333333333333,0.03333333333333333],\"y\":[0.8333333333333333,0.625,0.5555555555555556,0.8333333333333333,0.8333333333333333,0.5555555555555556,0.7142857142857142,0.625,0.6666666666666667,0.5454545454545454,0.7142857142857142,0.8333333333333333,0.5555555555555556,0.7142857142857142,0.625,0.5555555555555556,0.8333333333333333,0.625,0.5555555555555556,0.8333333333333333,0.8333333333333333,0.5555555555555556,0.7142857142857142,0.625,0.6666666666666667,0.5454545454545454,0.7142857142857142,0.8333333333333333,0.5555555555555556,0.7142857142857142,0.625,0.5555555555555556],\"z\":[15.624999999999998,15.625,13.88888888888889,13.888888888888888,13.888888888888888,13.88888888888889,13.39285714285714,13.392857142857142,9.090909090909092,9.09090909090909,17.857142857142854,17.857142857142854,11.904761904761905,11.904761904761903,10.416666666666668,10.416666666666666,15.624999999999998,15.625,13.88888888888889,13.888888888888888,13.888888888888888,13.88888888888889,13.39285714285714,13.392857142857142,9.090909090909092,9.09090909090909,17.857142857142854,17.857142857142854,11.904761904761905,11.904761904761903,10.416666666666668,10.416666666666666],\"type\":\"scatter3d\"}],                        {\"template\":{\"data\":{\"histogram2dcontour\":[{\"type\":\"histogram2dcontour\",\"colorbar\":{\"outlinewidth\":0,\"ticks\":\"\"},\"colorscale\":[[0.0,\"#0d0887\"],[0.1111111111111111,\"#46039f\"],[0.2222222222222222,\"#7201a8\"],[0.3333333333333333,\"#9c179e\"],[0.4444444444444444,\"#bd3786\"],[0.5555555555555556,\"#d8576b\"],[0.6666666666666666,\"#ed7953\"],[0.7777777777777778,\"#fb9f3a\"],[0.8888888888888888,\"#fdca26\"],[1.0,\"#f0f921\"]]}],\"choropleth\":[{\"type\":\"choropleth\",\"colorbar\":{\"outlinewidth\":0,\"ticks\":\"\"}}],\"histogram2d\":[{\"type\":\"histogram2d\",\"colorbar\":{\"outlinewidth\":0,\"ticks\":\"\"},\"colorscale\":[[0.0,\"#0d0887\"],[0.1111111111111111,\"#46039f\"],[0.2222222222222222,\"#7201a8\"],[0.3333333333333333,\"#9c179e\"],[0.4444444444444444,\"#bd3786\"],[0.5555555555555556,\"#d8576b\"],[0.6666666666666666,\"#ed7953\"],[0.7777777777777778,\"#fb9f3a\"],[0.8888888888888888,\"#fdca26\"],[1.0,\"#f0f921\"]]}],\"heatmap\":[{\"type\":\"heatmap\",\"colorbar\":{\"outlinewidth\":0,\"ticks\":\"\"},\"colorscale\":[[0.0,\"#0d0887\"],[0.1111111111111111,\"#46039f\"],[0.2222222222222222,\"#7201a8\"],[0.3333333333333333,\"#9c179e\"],[0.4444444444444444,\"#bd3786\"],[0.5555555555555556,\"#d8576b\"],[0.6666666666666666,\"#ed7953\"],[0.7777777777777778,\"#fb9f3a\"],[0.8888888888888888,\"#fdca26\"],[1.0,\"#f0f921\"]]}],\"heatmapgl\":[{\"type\":\"heatmapgl\",\"colorbar\":{\"outlinewidth\":0,\"ticks\":\"\"},\"colorscale\":[[0.0,\"#0d0887\"],[0.1111111111111111,\"#46039f\"],[0.2222222222222222,\"#7201a8\"],[0.3333333333333333,\"#9c179e\"],[0.4444444444444444,\"#bd3786\"],[0.5555555555555556,\"#d8576b\"],[0.6666666666666666,\"#ed7953\"],[0.7777777777777778,\"#fb9f3a\"],[0.8888888888888888,\"#fdca26\"],[1.0,\"#f0f921\"]]}],\"contourcarpet\":[{\"type\":\"contourcarpet\",\"colorbar\":{\"outlinewidth\":0,\"ticks\":\"\"}}],\"contour\":[{\"type\":\"contour\",\"colorbar\":{\"outlinewidth\":0,\"ticks\":\"\"},\"colorscale\":[[0.0,\"#0d0887\"],[0.1111111111111111,\"#46039f\"],[0.2222222222222222,\"#7201a8\"],[0.3333333333333333,\"#9c179e\"],[0.4444444444444444,\"#bd3786\"],[0.5555555555555556,\"#d8576b\"],[0.6666666666666666,\"#ed7953\"],[0.7777777777777778,\"#fb9f3a\"],[0.8888888888888888,\"#fdca26\"],[1.0,\"#f0f921\"]]}],\"surface\":[{\"type\":\"surface\",\"colorbar\":{\"outlinewidth\":0,\"ticks\":\"\"},\"colorscale\":[[0.0,\"#0d0887\"],[0.1111111111111111,\"#46039f\"],[0.2222222222222222,\"#7201a8\"],[0.3333333333333333,\"#9c179e\"],[0.4444444444444444,\"#bd3786\"],[0.5555555555555556,\"#d8576b\"],[0.6666666666666666,\"#ed7953\"],[0.7777777777777778,\"#fb9f3a\"],[0.8888888888888888,\"#fdca26\"],[1.0,\"#f0f921\"]]}],\"mesh3d\":[{\"type\":\"mesh3d\",\"colorbar\":{\"outlinewidth\":0,\"ticks\":\"\"}}],\"scatter\":[{\"fillpattern\":{\"fillmode\":\"overlay\",\"size\":10,\"solidity\":0.2},\"type\":\"scatter\"}],\"parcoords\":[{\"type\":\"parcoords\",\"line\":{\"colorbar\":{\"outlinewidth\":0,\"ticks\":\"\"}}}],\"scatterpolargl\":[{\"type\":\"scatterpolargl\",\"marker\":{\"colorbar\":{\"outlinewidth\":0,\"ticks\":\"\"}}}],\"bar\":[{\"error_x\":{\"color\":\"#2a3f5f\"},\"error_y\":{\"color\":\"#2a3f5f\"},\"marker\":{\"line\":{\"color\":\"#E5ECF6\",\"width\":0.5},\"pattern\":{\"fillmode\":\"overlay\",\"size\":10,\"solidity\":0.2}},\"type\":\"bar\"}],\"scattergeo\":[{\"type\":\"scattergeo\",\"marker\":{\"colorbar\":{\"outlinewidth\":0,\"ticks\":\"\"}}}],\"scatterpolar\":[{\"type\":\"scatterpolar\",\"marker\":{\"colorbar\":{\"outlinewidth\":0,\"ticks\":\"\"}}}],\"histogram\":[{\"marker\":{\"pattern\":{\"fillmode\":\"overlay\",\"size\":10,\"solidity\":0.2}},\"type\":\"histogram\"}],\"scattergl\":[{\"type\":\"scattergl\",\"marker\":{\"colorbar\":{\"outlinewidth\":0,\"ticks\":\"\"}}}],\"scatter3d\":[{\"type\":\"scatter3d\",\"line\":{\"colorbar\":{\"outlinewidth\":0,\"ticks\":\"\"}},\"marker\":{\"colorbar\":{\"outlinewidth\":0,\"ticks\":\"\"}}}],\"scattermapbox\":[{\"type\":\"scattermapbox\",\"marker\":{\"colorbar\":{\"outlinewidth\":0,\"ticks\":\"\"}}}],\"scatterternary\":[{\"type\":\"scatterternary\",\"marker\":{\"colorbar\":{\"outlinewidth\":0,\"ticks\":\"\"}}}],\"scattercarpet\":[{\"type\":\"scattercarpet\",\"marker\":{\"colorbar\":{\"outlinewidth\":0,\"ticks\":\"\"}}}],\"carpet\":[{\"aaxis\":{\"endlinecolor\":\"#2a3f5f\",\"gridcolor\":\"white\",\"linecolor\":\"white\",\"minorgridcolor\":\"white\",\"startlinecolor\":\"#2a3f5f\"},\"baxis\":{\"endlinecolor\":\"#2a3f5f\",\"gridcolor\":\"white\",\"linecolor\":\"white\",\"minorgridcolor\":\"white\",\"startlinecolor\":\"#2a3f5f\"},\"type\":\"carpet\"}],\"table\":[{\"cells\":{\"fill\":{\"color\":\"#EBF0F8\"},\"line\":{\"color\":\"white\"}},\"header\":{\"fill\":{\"color\":\"#C8D4E3\"},\"line\":{\"color\":\"white\"}},\"type\":\"table\"}],\"barpolar\":[{\"marker\":{\"line\":{\"color\":\"#E5ECF6\",\"width\":0.5},\"pattern\":{\"fillmode\":\"overlay\",\"size\":10,\"solidity\":0.2}},\"type\":\"barpolar\"}],\"pie\":[{\"automargin\":true,\"type\":\"pie\"}]},\"layout\":{\"autotypenumbers\":\"strict\",\"colorway\":[\"#636efa\",\"#EF553B\",\"#00cc96\",\"#ab63fa\",\"#FFA15A\",\"#19d3f3\",\"#FF6692\",\"#B6E880\",\"#FF97FF\",\"#FECB52\"],\"font\":{\"color\":\"#2a3f5f\"},\"hovermode\":\"closest\",\"hoverlabel\":{\"align\":\"left\"},\"paper_bgcolor\":\"white\",\"plot_bgcolor\":\"#E5ECF6\",\"polar\":{\"bgcolor\":\"#E5ECF6\",\"angularaxis\":{\"gridcolor\":\"white\",\"linecolor\":\"white\",\"ticks\":\"\"},\"radialaxis\":{\"gridcolor\":\"white\",\"linecolor\":\"white\",\"ticks\":\"\"}},\"ternary\":{\"bgcolor\":\"#E5ECF6\",\"aaxis\":{\"gridcolor\":\"white\",\"linecolor\":\"white\",\"ticks\":\"\"},\"baxis\":{\"gridcolor\":\"white\",\"linecolor\":\"white\",\"ticks\":\"\"},\"caxis\":{\"gridcolor\":\"white\",\"linecolor\":\"white\",\"ticks\":\"\"}},\"coloraxis\":{\"colorbar\":{\"outlinewidth\":0,\"ticks\":\"\"}},\"colorscale\":{\"sequential\":[[0.0,\"#0d0887\"],[0.1111111111111111,\"#46039f\"],[0.2222222222222222,\"#7201a8\"],[0.3333333333333333,\"#9c179e\"],[0.4444444444444444,\"#bd3786\"],[0.5555555555555556,\"#d8576b\"],[0.6666666666666666,\"#ed7953\"],[0.7777777777777778,\"#fb9f3a\"],[0.8888888888888888,\"#fdca26\"],[1.0,\"#f0f921\"]],\"sequentialminus\":[[0.0,\"#0d0887\"],[0.1111111111111111,\"#46039f\"],[0.2222222222222222,\"#7201a8\"],[0.3333333333333333,\"#9c179e\"],[0.4444444444444444,\"#bd3786\"],[0.5555555555555556,\"#d8576b\"],[0.6666666666666666,\"#ed7953\"],[0.7777777777777778,\"#fb9f3a\"],[0.8888888888888888,\"#fdca26\"],[1.0,\"#f0f921\"]],\"diverging\":[[0,\"#8e0152\"],[0.1,\"#c51b7d\"],[0.2,\"#de77ae\"],[0.3,\"#f1b6da\"],[0.4,\"#fde0ef\"],[0.5,\"#f7f7f7\"],[0.6,\"#e6f5d0\"],[0.7,\"#b8e186\"],[0.8,\"#7fbc41\"],[0.9,\"#4d9221\"],[1,\"#276419\"]]},\"xaxis\":{\"gridcolor\":\"white\",\"linecolor\":\"white\",\"ticks\":\"\",\"title\":{\"standoff\":15},\"zerolinecolor\":\"white\",\"automargin\":true,\"zerolinewidth\":2},\"yaxis\":{\"gridcolor\":\"white\",\"linecolor\":\"white\",\"ticks\":\"\",\"title\":{\"standoff\":15},\"zerolinecolor\":\"white\",\"automargin\":true,\"zerolinewidth\":2},\"scene\":{\"xaxis\":{\"backgroundcolor\":\"#E5ECF6\",\"gridcolor\":\"white\",\"linecolor\":\"white\",\"showbackground\":true,\"ticks\":\"\",\"zerolinecolor\":\"white\",\"gridwidth\":2},\"yaxis\":{\"backgroundcolor\":\"#E5ECF6\",\"gridcolor\":\"white\",\"linecolor\":\"white\",\"showbackground\":true,\"ticks\":\"\",\"zerolinecolor\":\"white\",\"gridwidth\":2},\"zaxis\":{\"backgroundcolor\":\"#E5ECF6\",\"gridcolor\":\"white\",\"linecolor\":\"white\",\"showbackground\":true,\"ticks\":\"\",\"zerolinecolor\":\"white\",\"gridwidth\":2}},\"shapedefaults\":{\"line\":{\"color\":\"#2a3f5f\"}},\"annotationdefaults\":{\"arrowcolor\":\"#2a3f5f\",\"arrowhead\":0,\"arrowwidth\":1},\"geo\":{\"bgcolor\":\"white\",\"landcolor\":\"#E5ECF6\",\"subunitcolor\":\"white\",\"showland\":true,\"showlakes\":true,\"lakecolor\":\"white\"},\"title\":{\"x\":0.05},\"mapbox\":{\"style\":\"light\"}}},\"title\":{\"text\":\"Association Rules: Support, Confidence, and Lift Comparison\"},\"scene\":{\"xaxis\":{\"title\":{\"text\":\"Support\"}},\"yaxis\":{\"title\":{\"text\":\"Confidence\"}},\"zaxis\":{\"title\":{\"text\":\"Lift\"}}},\"legend\":{\"title\":{\"text\":\"Rule Type\"}}},                        {\"responsive\": true}                    ).then(function(){\n",
       "                            \n",
       "var gd = document.getElementById('d952ce68-c046-4918-8838-887f7807b0c1');\n",
       "var x = new MutationObserver(function (mutations, observer) {{\n",
       "        var display = window.getComputedStyle(gd).display;\n",
       "        if (!display || display === 'none') {{\n",
       "            console.log([gd, 'removed!']);\n",
       "            Plotly.purge(gd);\n",
       "            observer.disconnect();\n",
       "        }}\n",
       "}});\n",
       "\n",
       "// Listen for the removal of the full notebook cells\n",
       "var notebookContainer = gd.closest('#notebook-container');\n",
       "if (notebookContainer) {{\n",
       "    x.observe(notebookContainer, {childList: true});\n",
       "}}\n",
       "\n",
       "// Listen for the clearing of the current output cell\n",
       "var outputEl = gd.closest('.output');\n",
       "if (outputEl) {{\n",
       "    x.observe(outputEl, {childList: true});\n",
       "}}\n",
       "\n",
       "                        })                };                });            </script>        </div>"
      ]
     },
     "metadata": {},
     "output_type": "display_data"
    }
   ],
   "source": [
    "import pandas as pd\n",
    "import plotly.graph_objects as go\n",
    "\n",
    "# in each atecedents and consequents sort them firt in their own list and then sort the list\n",
    "rules['antecedents'] = rules['antecedents'].apply(lambda x: sorted(list(x)))\n",
    "rules['consequents'] = rules['consequents'].apply(lambda x: sorted(list(x)))\n",
    "\n",
    "rules_after_hiding['antecedents'] = rules_after_hiding['antecedents'].apply(lambda x: sorted(list(x)))\n",
    "rules_after_hiding['consequents'] = rules_after_hiding['consequents'].apply(lambda x: sorted(list(x)))\n",
    "\n",
    "# Convert 'antecedents' and 'consequents' to strings for comparison\n",
    "rules['rule'] = rules['antecedents'].astype(str) + ' -> ' + rules['consequents'].astype(str)\n",
    "rules_after_hiding['rule'] = rules_after_hiding['antecedents'].astype(str) + ' -> ' + rules_after_hiding['consequents'].astype(str)\n",
    "\n",
    "# Identify common rules\n",
    "common_rules = set(rules['rule']).intersection(set(rules_after_hiding['rule']))\n",
    "\n",
    "# Mark rules as 'Common', 'Before Hiding Only', or 'After Hiding Only'\n",
    "rules['Rule Type'] = rules['rule'].apply(lambda x: 'Common' if x in common_rules else 'Before Hiding Only')\n",
    "rules_after_hiding['Rule Type'] = rules_after_hiding['rule'].apply(lambda x: 'Common' if x in common_rules else 'After Hiding Only')\n",
    "\n",
    "# Prepare plot data\n",
    "plot_data = pd.concat([rules, rules_after_hiding])\n",
    "\n",
    "# Color mapping\n",
    "color_map = {\n",
    "    'Before Hiding Only': 'blue',\n",
    "    'After Hiding Only': 'red',\n",
    "    'Common': 'green'\n",
    "}\n",
    "\n",
    "# Plot\n",
    "fig = go.Figure()\n",
    "\n",
    "for rule_type, color in color_map.items():\n",
    "    subset = plot_data[plot_data['Rule Type'] == rule_type]\n",
    "    fig.add_trace(go.Scatter3d(x=subset['support'], y=subset['confidence'], z=subset['lift'],\n",
    "                               mode='markers',\n",
    "                               marker=dict(size=5, color=color),\n",
    "                               name=rule_type,\n",
    "                               text=subset['rule'],  # Use the rule column for hover text\n",
    "                               hoverinfo='text+name'))\n",
    "\n",
    "# Layout\n",
    "fig.update_layout(title='Association Rules: Support, Confidence, and Lift Comparison',\n",
    "                  scene=dict(\n",
    "                      xaxis_title='Support',\n",
    "                      yaxis_title='Confidence',\n",
    "                      zaxis_title='Lift'\n",
    "                  ),\n",
    "                  legend_title=\"Rule Type\")\n",
    "\n",
    "fig.show()\n"
   ]
  }
 ],
 "metadata": {
  "kernelspec": {
   "display_name": "Python 3 (ipykernel)",
   "language": "python",
   "name": "python3"
  },
  "language_info": {
   "codemirror_mode": {
    "name": "ipython",
    "version": 3
   },
   "file_extension": ".py",
   "mimetype": "text/x-python",
   "name": "python",
   "nbconvert_exporter": "python",
   "pygments_lexer": "ipython3",
   "version": "3.9.0"
  }
 },
 "nbformat": 4,
 "nbformat_minor": 2
}
