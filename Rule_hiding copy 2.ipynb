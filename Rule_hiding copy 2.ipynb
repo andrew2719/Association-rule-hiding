{
 "cells": [
  {
   "cell_type": "code",
   "execution_count": 1,
   "metadata": {},
   "outputs": [],
   "source": [
    "# Data Handling\n",
    "#===================\n",
    "import pandas as pd\n",
    "\n",
    "# Data Handling\n",
    "#===================\n",
    "from mlxtend.frequent_patterns import apriori, association_rules\n",
    "\n",
    "# Visualization\n",
    "#===================\n",
    "import matplotlib.pyplot as plt\n",
    "import seaborn as sns\n",
    "import plotly.express as px\n",
    "import os\n",
    "# Warnings\n",
    "#===================\n",
    "import warnings\n",
    "warnings.filterwarnings('ignore')"
   ]
  },
  {
   "cell_type": "code",
   "execution_count": 2,
   "metadata": {},
   "outputs": [],
   "source": [
    "# print(os.listdir(\"../datasets/walmart\"))\n",
    "# path = \"../datasets/walmart/\""
   ]
  },
  {
   "cell_type": "code",
   "execution_count": 3,
   "metadata": {},
   "outputs": [
    {
     "data": {
      "text/html": [
       "<div>\n",
       "<style scoped>\n",
       "    .dataframe tbody tr th:only-of-type {\n",
       "        vertical-align: middle;\n",
       "    }\n",
       "\n",
       "    .dataframe tbody tr th {\n",
       "        vertical-align: top;\n",
       "    }\n",
       "\n",
       "    .dataframe thead th {\n",
       "        text-align: right;\n",
       "    }\n",
       "</style>\n",
       "<table border=\"1\" class=\"dataframe\">\n",
       "  <thead>\n",
       "    <tr style=\"text-align: right;\">\n",
       "      <th></th>\n",
       "      <th>BillNo</th>\n",
       "      <th>Itemname</th>\n",
       "      <th>Quantity</th>\n",
       "      <th>Date</th>\n",
       "      <th>Price</th>\n",
       "      <th>CustomerID</th>\n",
       "      <th>Country</th>\n",
       "    </tr>\n",
       "  </thead>\n",
       "  <tbody>\n",
       "    <tr>\n",
       "      <th>0</th>\n",
       "      <td>536365</td>\n",
       "      <td>WHITE HANGING HEART T-LIGHT HOLDER</td>\n",
       "      <td>6</td>\n",
       "      <td>01.12.2010 08:26</td>\n",
       "      <td>2.55</td>\n",
       "      <td>17850.0</td>\n",
       "      <td>United Kingdom</td>\n",
       "    </tr>\n",
       "    <tr>\n",
       "      <th>1</th>\n",
       "      <td>536365</td>\n",
       "      <td>WHITE METAL LANTERN</td>\n",
       "      <td>6</td>\n",
       "      <td>01.12.2010 08:26</td>\n",
       "      <td>3.39</td>\n",
       "      <td>17850.0</td>\n",
       "      <td>United Kingdom</td>\n",
       "    </tr>\n",
       "    <tr>\n",
       "      <th>2</th>\n",
       "      <td>536365</td>\n",
       "      <td>CREAM CUPID HEARTS COAT HANGER</td>\n",
       "      <td>8</td>\n",
       "      <td>01.12.2010 08:26</td>\n",
       "      <td>2.75</td>\n",
       "      <td>17850.0</td>\n",
       "      <td>United Kingdom</td>\n",
       "    </tr>\n",
       "    <tr>\n",
       "      <th>3</th>\n",
       "      <td>536365</td>\n",
       "      <td>KNITTED UNION FLAG HOT WATER BOTTLE</td>\n",
       "      <td>6</td>\n",
       "      <td>01.12.2010 08:26</td>\n",
       "      <td>3.39</td>\n",
       "      <td>17850.0</td>\n",
       "      <td>United Kingdom</td>\n",
       "    </tr>\n",
       "    <tr>\n",
       "      <th>4</th>\n",
       "      <td>536365</td>\n",
       "      <td>RED WOOLLY HOTTIE WHITE HEART.</td>\n",
       "      <td>6</td>\n",
       "      <td>01.12.2010 08:26</td>\n",
       "      <td>3.39</td>\n",
       "      <td>17850.0</td>\n",
       "      <td>United Kingdom</td>\n",
       "    </tr>\n",
       "  </tbody>\n",
       "</table>\n",
       "</div>"
      ],
      "text/plain": [
       "   BillNo                             Itemname  Quantity              Date  \\\n",
       "0  536365   WHITE HANGING HEART T-LIGHT HOLDER         6  01.12.2010 08:26   \n",
       "1  536365                  WHITE METAL LANTERN         6  01.12.2010 08:26   \n",
       "2  536365       CREAM CUPID HEARTS COAT HANGER         8  01.12.2010 08:26   \n",
       "3  536365  KNITTED UNION FLAG HOT WATER BOTTLE         6  01.12.2010 08:26   \n",
       "4  536365       RED WOOLLY HOTTIE WHITE HEART.         6  01.12.2010 08:26   \n",
       "\n",
       "   Price  CustomerID         Country  \n",
       "0   2.55     17850.0  United Kingdom  \n",
       "1   3.39     17850.0  United Kingdom  \n",
       "2   2.75     17850.0  United Kingdom  \n",
       "3   3.39     17850.0  United Kingdom  \n",
       "4   3.39     17850.0  United Kingdom  "
      ]
     },
     "execution_count": 3,
     "metadata": {},
     "output_type": "execute_result"
    }
   ],
   "source": [
    "df = pd.read_csv('Assignment-1_Data.csv',sep=';',decimal=',',low_memory=False)\n",
    "df.head()"
   ]
  },
  {
   "cell_type": "code",
   "execution_count": 4,
   "metadata": {},
   "outputs": [
    {
     "name": "stdout",
     "output_type": "stream",
     "text": [
      "##################################################\n",
      "                Dataset Information\n",
      "##################################################\n",
      "The Dataset has 7 columns and 522064 rows.\n",
      "The DataFrame has 5286 duplicated values and 135496 missing values.\n",
      "<class 'pandas.core.frame.DataFrame'>\n",
      "RangeIndex: 522064 entries, 0 to 522063\n",
      "Data columns (total 7 columns):\n",
      " #   Column      Non-Null Count   Dtype  \n",
      "---  ------      --------------   -----  \n",
      " 0   BillNo      522064 non-null  object \n",
      " 1   Itemname    520609 non-null  object \n",
      " 2   Quantity    522064 non-null  int64  \n",
      " 3   Date        522064 non-null  object \n",
      " 4   Price       522064 non-null  float64\n",
      " 5   CustomerID  388023 non-null  float64\n",
      " 6   Country     522064 non-null  object \n",
      "dtypes: float64(2), int64(1), object(4)\n",
      "memory usage: 27.9+ MB\n",
      "None\n"
     ]
    }
   ],
   "source": [
    "print(\"#\" * 50)\n",
    "print(\" \" * 15, \"Dataset Information\")\n",
    "print(\"#\" * 50)\n",
    "print(\"The Dataset has {} columns and {} rows.\".format(df.shape[1], df.shape[0]))\n",
    "print(\"The DataFrame has {} duplicated values and {} missing values.\".format(df.duplicated().sum(), df.isnull().sum().sum()))\n",
    "print(df.info())"
   ]
  },
  {
   "cell_type": "code",
   "execution_count": 5,
   "metadata": {},
   "outputs": [
    {
     "data": {
      "text/plain": [
       "(516778, 7)"
      ]
     },
     "execution_count": 5,
     "metadata": {},
     "output_type": "execute_result"
    }
   ],
   "source": [
    "df.drop_duplicates(inplace=True)\n",
    "# get the no of rows and columns\n",
    "df.shape"
   ]
  },
  {
   "cell_type": "code",
   "execution_count": 6,
   "metadata": {},
   "outputs": [
    {
     "name": "stdout",
     "output_type": "stream",
     "text": [
      "##############################\n",
      "      Null Distribution\n",
      "##############################\n"
     ]
    },
    {
     "data": {
      "text/html": [
       "<style type=\"text/css\">\n",
       "#T_8b10b_row0_col0, #T_8b10b_row0_col1 {\n",
       "  background-color: #00441b;\n",
       "  color: #f1f1f1;\n",
       "}\n",
       "#T_8b10b_row1_col0, #T_8b10b_row1_col1 {\n",
       "  background-color: #44034f;\n",
       "  color: #f1f1f1;\n",
       "}\n",
       "#T_8b10b_row2_col0, #T_8b10b_row2_col1, #T_8b10b_row3_col0, #T_8b10b_row3_col1, #T_8b10b_row4_col0, #T_8b10b_row4_col1, #T_8b10b_row5_col0, #T_8b10b_row5_col1, #T_8b10b_row6_col0, #T_8b10b_row6_col1 {\n",
       "  background-color: #40004b;\n",
       "  color: #f1f1f1;\n",
       "}\n",
       "</style>\n",
       "<table id=\"T_8b10b\">\n",
       "  <thead>\n",
       "    <tr>\n",
       "      <th class=\"blank level0\" >&nbsp;</th>\n",
       "      <th id=\"T_8b10b_level0_col0\" class=\"col_heading level0 col0\" >count</th>\n",
       "      <th id=\"T_8b10b_level0_col1\" class=\"col_heading level0 col1\" >%</th>\n",
       "    </tr>\n",
       "  </thead>\n",
       "  <tbody>\n",
       "    <tr>\n",
       "      <th id=\"T_8b10b_level0_row0\" class=\"row_heading level0 row0\" >CustomerID</th>\n",
       "      <td id=\"T_8b10b_row0_col0\" class=\"data row0 col0\" >133967</td>\n",
       "      <td id=\"T_8b10b_row0_col1\" class=\"data row0 col1\" >25.923511</td>\n",
       "    </tr>\n",
       "    <tr>\n",
       "      <th id=\"T_8b10b_level0_row1\" class=\"row_heading level0 row1\" >Itemname</th>\n",
       "      <td id=\"T_8b10b_row1_col0\" class=\"data row1 col0\" >1455</td>\n",
       "      <td id=\"T_8b10b_row1_col1\" class=\"data row1 col1\" >0.281552</td>\n",
       "    </tr>\n",
       "    <tr>\n",
       "      <th id=\"T_8b10b_level0_row2\" class=\"row_heading level0 row2\" >BillNo</th>\n",
       "      <td id=\"T_8b10b_row2_col0\" class=\"data row2 col0\" >0</td>\n",
       "      <td id=\"T_8b10b_row2_col1\" class=\"data row2 col1\" >0.000000</td>\n",
       "    </tr>\n",
       "    <tr>\n",
       "      <th id=\"T_8b10b_level0_row3\" class=\"row_heading level0 row3\" >Quantity</th>\n",
       "      <td id=\"T_8b10b_row3_col0\" class=\"data row3 col0\" >0</td>\n",
       "      <td id=\"T_8b10b_row3_col1\" class=\"data row3 col1\" >0.000000</td>\n",
       "    </tr>\n",
       "    <tr>\n",
       "      <th id=\"T_8b10b_level0_row4\" class=\"row_heading level0 row4\" >Date</th>\n",
       "      <td id=\"T_8b10b_row4_col0\" class=\"data row4 col0\" >0</td>\n",
       "      <td id=\"T_8b10b_row4_col1\" class=\"data row4 col1\" >0.000000</td>\n",
       "    </tr>\n",
       "    <tr>\n",
       "      <th id=\"T_8b10b_level0_row5\" class=\"row_heading level0 row5\" >Price</th>\n",
       "      <td id=\"T_8b10b_row5_col0\" class=\"data row5 col0\" >0</td>\n",
       "      <td id=\"T_8b10b_row5_col1\" class=\"data row5 col1\" >0.000000</td>\n",
       "    </tr>\n",
       "    <tr>\n",
       "      <th id=\"T_8b10b_level0_row6\" class=\"row_heading level0 row6\" >Country</th>\n",
       "      <td id=\"T_8b10b_row6_col0\" class=\"data row6 col0\" >0</td>\n",
       "      <td id=\"T_8b10b_row6_col1\" class=\"data row6 col1\" >0.000000</td>\n",
       "    </tr>\n",
       "  </tbody>\n",
       "</table>\n"
      ],
      "text/plain": [
       "<pandas.io.formats.style.Styler at 0x2aa9d330850>"
      ]
     },
     "execution_count": 6,
     "metadata": {},
     "output_type": "execute_result"
    }
   ],
   "source": [
    "print(\"#\" * 30)\n",
    "print(\" \" * 5, \"Null Distribution\")\n",
    "print(\"#\" * 30)\n",
    "null = df.isnull().sum().to_frame().rename(columns = {0:'count'})\n",
    "null['%'] = (null['count'] / len(df)) * 100.\n",
    "null = null.sort_values(by = '%', ascending = False)\n",
    "null.style.background_gradient(cmap = 'PRGn')"
   ]
  },
  {
   "cell_type": "code",
   "execution_count": 7,
   "metadata": {},
   "outputs": [],
   "source": [
    "df.dropna(subset=['CustomerID', 'Itemname'], inplace=True)\n",
    "df = df.rename(columns={'Itemname': 'ItemName'})\n",
    "df['ItemName'] = df['ItemName'].str.lower()\n",
    "df['CustomerID'] = df['CustomerID'].astype('int')"
   ]
  },
  {
   "cell_type": "code",
   "execution_count": 8,
   "metadata": {},
   "outputs": [
    {
     "data": {
      "text/html": [
       "<div>\n",
       "<style scoped>\n",
       "    .dataframe tbody tr th:only-of-type {\n",
       "        vertical-align: middle;\n",
       "    }\n",
       "\n",
       "    .dataframe tbody tr th {\n",
       "        vertical-align: top;\n",
       "    }\n",
       "\n",
       "    .dataframe thead th {\n",
       "        text-align: right;\n",
       "    }\n",
       "</style>\n",
       "<table border=\"1\" class=\"dataframe\">\n",
       "  <thead>\n",
       "    <tr style=\"text-align: right;\">\n",
       "      <th></th>\n",
       "      <th>ItemName</th>\n",
       "      <th>Count</th>\n",
       "    </tr>\n",
       "  </thead>\n",
       "  <tbody>\n",
       "    <tr>\n",
       "      <th>0</th>\n",
       "      <td>white hanging heart t-light holder</td>\n",
       "      <td>1964</td>\n",
       "    </tr>\n",
       "    <tr>\n",
       "      <th>1</th>\n",
       "      <td>regency cakestand 3 tier</td>\n",
       "      <td>1634</td>\n",
       "    </tr>\n",
       "    <tr>\n",
       "      <th>2</th>\n",
       "      <td>jumbo bag red retrospot</td>\n",
       "      <td>1588</td>\n",
       "    </tr>\n",
       "    <tr>\n",
       "      <th>3</th>\n",
       "      <td>assorted colour bird ornament</td>\n",
       "      <td>1378</td>\n",
       "    </tr>\n",
       "    <tr>\n",
       "      <th>4</th>\n",
       "      <td>party bunting</td>\n",
       "      <td>1362</td>\n",
       "    </tr>\n",
       "  </tbody>\n",
       "</table>\n",
       "</div>"
      ],
      "text/plain": [
       "                             ItemName  Count\n",
       "0  white hanging heart t-light holder   1964\n",
       "1            regency cakestand 3 tier   1634\n",
       "2             jumbo bag red retrospot   1588\n",
       "3       assorted colour bird ornament   1378\n",
       "4                       party bunting   1362"
      ]
     },
     "execution_count": 8,
     "metadata": {},
     "output_type": "execute_result"
    }
   ],
   "source": [
    "item_counts = df['ItemName'].value_counts().to_frame().reset_index()\n",
    "item_counts.columns = ['ItemName', 'Count']\n",
    "item_counts.head()"
   ]
  },
  {
   "cell_type": "code",
   "execution_count": 9,
   "metadata": {},
   "outputs": [
    {
     "data": {
      "text/html": [
       "<div>\n",
       "<style scoped>\n",
       "    .dataframe tbody tr th:only-of-type {\n",
       "        vertical-align: middle;\n",
       "    }\n",
       "\n",
       "    .dataframe tbody tr th {\n",
       "        vertical-align: top;\n",
       "    }\n",
       "\n",
       "    .dataframe thead th {\n",
       "        text-align: right;\n",
       "    }\n",
       "</style>\n",
       "<table border=\"1\" class=\"dataframe\">\n",
       "  <thead>\n",
       "    <tr style=\"text-align: right;\">\n",
       "      <th></th>\n",
       "      <th>ItemName</th>\n",
       "    </tr>\n",
       "  </thead>\n",
       "  <tbody>\n",
       "    <tr>\n",
       "      <th>0</th>\n",
       "      <td>white hanging heart t-light holder, white meta...</td>\n",
       "    </tr>\n",
       "    <tr>\n",
       "      <th>1</th>\n",
       "      <td>hand warmer union jack, hand warmer red polka dot</td>\n",
       "    </tr>\n",
       "    <tr>\n",
       "      <th>2</th>\n",
       "      <td>assorted colour bird ornament, poppy's playhou...</td>\n",
       "    </tr>\n",
       "    <tr>\n",
       "      <th>3</th>\n",
       "      <td>jam making set with jars, red coat rack paris ...</td>\n",
       "    </tr>\n",
       "    <tr>\n",
       "      <th>4</th>\n",
       "      <td>bath building block word</td>\n",
       "    </tr>\n",
       "  </tbody>\n",
       "</table>\n",
       "</div>"
      ],
      "text/plain": [
       "                                            ItemName\n",
       "0  white hanging heart t-light holder, white meta...\n",
       "1  hand warmer union jack, hand warmer red polka dot\n",
       "2  assorted colour bird ornament, poppy's playhou...\n",
       "3  jam making set with jars, red coat rack paris ...\n",
       "4                           bath building block word"
      ]
     },
     "execution_count": 9,
     "metadata": {},
     "output_type": "execute_result"
    }
   ],
   "source": [
    "transactions_original = df.groupby(['BillNo', 'Date'])['ItemName'].apply(lambda x: ', '.join(x)).reset_index()\n",
    "\n",
    "transactions_original.drop(columns=['BillNo', 'Date'], inplace=True)\n",
    "\n",
    "transactions_original.head()\n",
    "# transactions_original"
   ]
  },
  {
   "cell_type": "code",
   "execution_count": 10,
   "metadata": {},
   "outputs": [
    {
     "data": {
      "text/html": [
       "<div>\n",
       "<style scoped>\n",
       "    .dataframe tbody tr th:only-of-type {\n",
       "        vertical-align: middle;\n",
       "    }\n",
       "\n",
       "    .dataframe tbody tr th {\n",
       "        vertical-align: top;\n",
       "    }\n",
       "\n",
       "    .dataframe thead th {\n",
       "        text-align: right;\n",
       "    }\n",
       "</style>\n",
       "<table border=\"1\" class=\"dataframe\">\n",
       "  <thead>\n",
       "    <tr style=\"text-align: right;\">\n",
       "      <th></th>\n",
       "      <th>ItemName</th>\n",
       "    </tr>\n",
       "  </thead>\n",
       "  <tbody>\n",
       "    <tr>\n",
       "      <th>0</th>\n",
       "      <td>1558, 3869, 3867, 1791, 1358, 817, 3530, 1561,...</td>\n",
       "    </tr>\n",
       "    <tr>\n",
       "      <th>1</th>\n",
       "      <td>961, 1564, 3784, 2183, 540, 2684, 1728, 2751, ...</td>\n",
       "    </tr>\n",
       "    <tr>\n",
       "      <th>2</th>\n",
       "      <td>1658, 997, 43, 724, 1755, 1022, 528, 1661, 412...</td>\n",
       "    </tr>\n",
       "    <tr>\n",
       "      <th>3</th>\n",
       "      <td>680, 3682, 3758, 2997, 2518, 1592, 1501, 2856,...</td>\n",
       "    </tr>\n",
       "    <tr>\n",
       "      <th>4</th>\n",
       "      <td>2298, 580, 1422, 111, 790, 2994, 3754, 3318, 1...</td>\n",
       "    </tr>\n",
       "  </tbody>\n",
       "</table>\n",
       "</div>"
      ],
      "text/plain": [
       "                                            ItemName\n",
       "0  1558, 3869, 3867, 1791, 1358, 817, 3530, 1561,...\n",
       "1  961, 1564, 3784, 2183, 540, 2684, 1728, 2751, ...\n",
       "2  1658, 997, 43, 724, 1755, 1022, 528, 1661, 412...\n",
       "3  680, 3682, 3758, 2997, 2518, 1592, 1501, 2856,...\n",
       "4  2298, 580, 1422, 111, 790, 2994, 3754, 3318, 1..."
      ]
     },
     "execution_count": 10,
     "metadata": {},
     "output_type": "execute_result"
    }
   ],
   "source": [
    "transactions = transactions_original.copy()\n",
    "transactions_sets = transactions['ItemName'].str.split(', ')\n",
    "transactions_sets = transactions_sets.apply(lambda x: set(x))\n",
    "# into a list\n",
    "transactions_sets = transactions_sets.to_list()\n",
    "\n",
    "transactions_lists = [list(transaction_set) for transaction_set in transactions_sets]\n",
    "\n",
    "#  assign unique number for each item that represents the item\n",
    "unique_items = sorted(set(item for transaction in transactions_lists for item in transaction))\n",
    "\n",
    "# instead of int make those unique numbers as string\n",
    "item_to_index = {item: i for i, item in enumerate(unique_items)}\n",
    "index_to_item = {i: item for item, i in item_to_index.items()}\n",
    "transactions_indexed = [[item_to_index[item] for item in transaction] for transaction in transactions_lists]\n",
    "\n",
    "transactions_str = [', '.join(map(str, transaction)) for transaction in transactions_indexed]\n",
    "\n",
    "# Create a new dataframe with these strings\n",
    "transactions_final = pd.DataFrame(transactions_str, columns=['ItemName'])\n",
    "\n",
    "# Display the head of the new dataframe\n",
    "# transactions_final.head()\n",
    "# randomly sample 100 transactions\n",
    "transactions_final = transactions_final.sample(150, random_state=42)\n",
    "\n",
    "# index the dataset\n",
    "transactions_final.index = range(150)\n",
    "# Display the head of the new dataframe\n",
    "transactions_final.head()\n",
    "\n",
    "\n"
   ]
  },
  {
   "cell_type": "code",
   "execution_count": 11,
   "metadata": {},
   "outputs": [],
   "source": [
    "transactions = transactions_final.copy()"
   ]
  },
  {
   "cell_type": "code",
   "execution_count": 12,
   "metadata": {},
   "outputs": [
    {
     "name": "stdout",
     "output_type": "stream",
     "text": [
      "       0     1     2     3     4     5     6     7     8     9   ...    79  \\\n",
      "0    1558  3869  3867  1791  1358   817  3530  1561  1359  None  ...  None   \n",
      "1     961  1564  3784  2183   540  2684  1728  2751  2181  2115  ...  None   \n",
      "2    1658   997    43   724  1755  1022   528  1661   412  3751  ...  None   \n",
      "3     680  3682  3758  2997  2518  1592  1501  2856  3547  3765  ...  None   \n",
      "4    2298   580  1422   111   790  2994  3754  3318   137  3745  ...  None   \n",
      "..    ...   ...   ...   ...   ...   ...   ...   ...   ...   ...  ...   ...   \n",
      "145  3219  1927  3213  3088   583  3216   705  1961  2562  2236  ...  None   \n",
      "146   209  3810  2594  3308   975  2090  2670   432   111  1527  ...  None   \n",
      "147  2518  1939  1358  3175  3253  1932  2764  2611   359  1558  ...  None   \n",
      "148   214  1951  3290  3594  2375   547  2332    95   475   200  ...  None   \n",
      "149  1759  3733  2988  1599  3735  3071  1754  1755  1743  1721  ...  None   \n",
      "\n",
      "       80    81    82    83    84    85    86    87    88  \n",
      "0    None  None  None  None  None  None  None  None  None  \n",
      "1    None  None  None  None  None  None  None  None  None  \n",
      "2    None  None  None  None  None  None  None  None  None  \n",
      "3    None  None  None  None  None  None  None  None  None  \n",
      "4    None  None  None  None  None  None  None  None  None  \n",
      "..    ...   ...   ...   ...   ...   ...   ...   ...   ...  \n",
      "145  None  None  None  None  None  None  None  None  None  \n",
      "146  None  None  None  None  None  None  None  None  None  \n",
      "147  None  None  None  None  None  None  None  None  None  \n",
      "148  None  None  None  None  None  None  None  None  None  \n",
      "149  None  None  None  None  None  None  None  None  None  \n",
      "\n",
      "[150 rows x 89 columns]\n"
     ]
    }
   ],
   "source": [
    "items_df = transactions['ItemName'].str.split(', ', expand=True).applymap(lambda x: x.strip() if x else x)\n",
    "\n",
    "# items_df.shape\n",
    "print(items_df)"
   ]
  },
  {
   "cell_type": "code",
   "execution_count": 13,
   "metadata": {},
   "outputs": [
    {
     "data": {
      "text/html": [
       "<div>\n",
       "<style scoped>\n",
       "    .dataframe tbody tr th:only-of-type {\n",
       "        vertical-align: middle;\n",
       "    }\n",
       "\n",
       "    .dataframe tbody tr th {\n",
       "        vertical-align: top;\n",
       "    }\n",
       "\n",
       "    .dataframe thead th {\n",
       "        text-align: right;\n",
       "    }\n",
       "</style>\n",
       "<table border=\"1\" class=\"dataframe\">\n",
       "  <thead>\n",
       "    <tr style=\"text-align: right;\">\n",
       "      <th></th>\n",
       "      <th>1</th>\n",
       "      <th>10</th>\n",
       "      <th>100</th>\n",
       "      <th>1001</th>\n",
       "      <th>1002</th>\n",
       "      <th>1003</th>\n",
       "      <th>1004</th>\n",
       "      <th>1006</th>\n",
       "      <th>1007</th>\n",
       "      <th>101</th>\n",
       "      <th>...</th>\n",
       "      <th>973</th>\n",
       "      <th>975</th>\n",
       "      <th>976</th>\n",
       "      <th>979</th>\n",
       "      <th>98</th>\n",
       "      <th>981</th>\n",
       "      <th>984</th>\n",
       "      <th>992</th>\n",
       "      <th>997</th>\n",
       "      <th>998</th>\n",
       "    </tr>\n",
       "  </thead>\n",
       "  <tbody>\n",
       "    <tr>\n",
       "      <th>0</th>\n",
       "      <td>False</td>\n",
       "      <td>False</td>\n",
       "      <td>False</td>\n",
       "      <td>False</td>\n",
       "      <td>False</td>\n",
       "      <td>False</td>\n",
       "      <td>False</td>\n",
       "      <td>False</td>\n",
       "      <td>False</td>\n",
       "      <td>False</td>\n",
       "      <td>...</td>\n",
       "      <td>False</td>\n",
       "      <td>False</td>\n",
       "      <td>False</td>\n",
       "      <td>False</td>\n",
       "      <td>False</td>\n",
       "      <td>False</td>\n",
       "      <td>False</td>\n",
       "      <td>False</td>\n",
       "      <td>False</td>\n",
       "      <td>False</td>\n",
       "    </tr>\n",
       "    <tr>\n",
       "      <th>1</th>\n",
       "      <td>False</td>\n",
       "      <td>False</td>\n",
       "      <td>False</td>\n",
       "      <td>False</td>\n",
       "      <td>False</td>\n",
       "      <td>False</td>\n",
       "      <td>False</td>\n",
       "      <td>False</td>\n",
       "      <td>False</td>\n",
       "      <td>False</td>\n",
       "      <td>...</td>\n",
       "      <td>False</td>\n",
       "      <td>False</td>\n",
       "      <td>False</td>\n",
       "      <td>False</td>\n",
       "      <td>False</td>\n",
       "      <td>False</td>\n",
       "      <td>False</td>\n",
       "      <td>False</td>\n",
       "      <td>False</td>\n",
       "      <td>False</td>\n",
       "    </tr>\n",
       "    <tr>\n",
       "      <th>2</th>\n",
       "      <td>False</td>\n",
       "      <td>False</td>\n",
       "      <td>False</td>\n",
       "      <td>False</td>\n",
       "      <td>False</td>\n",
       "      <td>False</td>\n",
       "      <td>True</td>\n",
       "      <td>False</td>\n",
       "      <td>False</td>\n",
       "      <td>False</td>\n",
       "      <td>...</td>\n",
       "      <td>False</td>\n",
       "      <td>False</td>\n",
       "      <td>False</td>\n",
       "      <td>False</td>\n",
       "      <td>False</td>\n",
       "      <td>False</td>\n",
       "      <td>False</td>\n",
       "      <td>False</td>\n",
       "      <td>True</td>\n",
       "      <td>False</td>\n",
       "    </tr>\n",
       "    <tr>\n",
       "      <th>3</th>\n",
       "      <td>False</td>\n",
       "      <td>False</td>\n",
       "      <td>False</td>\n",
       "      <td>False</td>\n",
       "      <td>False</td>\n",
       "      <td>False</td>\n",
       "      <td>False</td>\n",
       "      <td>False</td>\n",
       "      <td>False</td>\n",
       "      <td>False</td>\n",
       "      <td>...</td>\n",
       "      <td>False</td>\n",
       "      <td>False</td>\n",
       "      <td>False</td>\n",
       "      <td>False</td>\n",
       "      <td>False</td>\n",
       "      <td>False</td>\n",
       "      <td>False</td>\n",
       "      <td>False</td>\n",
       "      <td>False</td>\n",
       "      <td>False</td>\n",
       "    </tr>\n",
       "    <tr>\n",
       "      <th>4</th>\n",
       "      <td>False</td>\n",
       "      <td>False</td>\n",
       "      <td>False</td>\n",
       "      <td>False</td>\n",
       "      <td>False</td>\n",
       "      <td>False</td>\n",
       "      <td>False</td>\n",
       "      <td>False</td>\n",
       "      <td>False</td>\n",
       "      <td>False</td>\n",
       "      <td>...</td>\n",
       "      <td>False</td>\n",
       "      <td>False</td>\n",
       "      <td>False</td>\n",
       "      <td>False</td>\n",
       "      <td>False</td>\n",
       "      <td>False</td>\n",
       "      <td>False</td>\n",
       "      <td>False</td>\n",
       "      <td>False</td>\n",
       "      <td>False</td>\n",
       "    </tr>\n",
       "  </tbody>\n",
       "</table>\n",
       "<p>5 rows × 1486 columns</p>\n",
       "</div>"
      ],
      "text/plain": [
       "       1     10    100   1001   1002   1003   1004   1006   1007    101  ...  \\\n",
       "0  False  False  False  False  False  False  False  False  False  False  ...   \n",
       "1  False  False  False  False  False  False  False  False  False  False  ...   \n",
       "2  False  False  False  False  False  False   True  False  False  False  ...   \n",
       "3  False  False  False  False  False  False  False  False  False  False  ...   \n",
       "4  False  False  False  False  False  False  False  False  False  False  ...   \n",
       "\n",
       "     973    975    976    979     98    981    984    992    997    998  \n",
       "0  False  False  False  False  False  False  False  False  False  False  \n",
       "1  False  False  False  False  False  False  False  False  False  False  \n",
       "2  False  False  False  False  False  False  False  False   True  False  \n",
       "3  False  False  False  False  False  False  False  False  False  False  \n",
       "4  False  False  False  False  False  False  False  False  False  False  \n",
       "\n",
       "[5 rows x 1486 columns]"
      ]
     },
     "execution_count": 13,
     "metadata": {},
     "output_type": "execute_result"
    }
   ],
   "source": [
    "# Convert items to boolean columns\n",
    "df_encoded_1 = pd.get_dummies(items_df, prefix='', prefix_sep='').groupby(level=0, axis=1).max()\n",
    "df_encoded_1.head()"
   ]
  },
  {
   "cell_type": "code",
   "execution_count": 14,
   "metadata": {},
   "outputs": [
    {
     "data": {
      "text/html": [
       "<div>\n",
       "<style scoped>\n",
       "    .dataframe tbody tr th:only-of-type {\n",
       "        vertical-align: middle;\n",
       "    }\n",
       "\n",
       "    .dataframe tbody tr th {\n",
       "        vertical-align: top;\n",
       "    }\n",
       "\n",
       "    .dataframe thead th {\n",
       "        text-align: right;\n",
       "    }\n",
       "</style>\n",
       "<table border=\"1\" class=\"dataframe\">\n",
       "  <thead>\n",
       "    <tr style=\"text-align: right;\">\n",
       "      <th></th>\n",
       "      <th>1</th>\n",
       "      <th>10</th>\n",
       "      <th>100</th>\n",
       "      <th>1001</th>\n",
       "      <th>1002</th>\n",
       "      <th>1003</th>\n",
       "      <th>1004</th>\n",
       "      <th>1006</th>\n",
       "      <th>1007</th>\n",
       "      <th>101</th>\n",
       "      <th>...</th>\n",
       "      <th>973</th>\n",
       "      <th>975</th>\n",
       "      <th>976</th>\n",
       "      <th>979</th>\n",
       "      <th>98</th>\n",
       "      <th>981</th>\n",
       "      <th>984</th>\n",
       "      <th>992</th>\n",
       "      <th>997</th>\n",
       "      <th>998</th>\n",
       "    </tr>\n",
       "  </thead>\n",
       "  <tbody>\n",
       "    <tr>\n",
       "      <th>0</th>\n",
       "      <td>0</td>\n",
       "      <td>0</td>\n",
       "      <td>0</td>\n",
       "      <td>0</td>\n",
       "      <td>0</td>\n",
       "      <td>0</td>\n",
       "      <td>0</td>\n",
       "      <td>0</td>\n",
       "      <td>0</td>\n",
       "      <td>0</td>\n",
       "      <td>...</td>\n",
       "      <td>0</td>\n",
       "      <td>0</td>\n",
       "      <td>0</td>\n",
       "      <td>0</td>\n",
       "      <td>0</td>\n",
       "      <td>0</td>\n",
       "      <td>0</td>\n",
       "      <td>0</td>\n",
       "      <td>0</td>\n",
       "      <td>0</td>\n",
       "    </tr>\n",
       "    <tr>\n",
       "      <th>1</th>\n",
       "      <td>0</td>\n",
       "      <td>0</td>\n",
       "      <td>0</td>\n",
       "      <td>0</td>\n",
       "      <td>0</td>\n",
       "      <td>0</td>\n",
       "      <td>0</td>\n",
       "      <td>0</td>\n",
       "      <td>0</td>\n",
       "      <td>0</td>\n",
       "      <td>...</td>\n",
       "      <td>0</td>\n",
       "      <td>0</td>\n",
       "      <td>0</td>\n",
       "      <td>0</td>\n",
       "      <td>0</td>\n",
       "      <td>0</td>\n",
       "      <td>0</td>\n",
       "      <td>0</td>\n",
       "      <td>0</td>\n",
       "      <td>0</td>\n",
       "    </tr>\n",
       "    <tr>\n",
       "      <th>2</th>\n",
       "      <td>0</td>\n",
       "      <td>0</td>\n",
       "      <td>0</td>\n",
       "      <td>0</td>\n",
       "      <td>0</td>\n",
       "      <td>0</td>\n",
       "      <td>1</td>\n",
       "      <td>0</td>\n",
       "      <td>0</td>\n",
       "      <td>0</td>\n",
       "      <td>...</td>\n",
       "      <td>0</td>\n",
       "      <td>0</td>\n",
       "      <td>0</td>\n",
       "      <td>0</td>\n",
       "      <td>0</td>\n",
       "      <td>0</td>\n",
       "      <td>0</td>\n",
       "      <td>0</td>\n",
       "      <td>1</td>\n",
       "      <td>0</td>\n",
       "    </tr>\n",
       "    <tr>\n",
       "      <th>3</th>\n",
       "      <td>0</td>\n",
       "      <td>0</td>\n",
       "      <td>0</td>\n",
       "      <td>0</td>\n",
       "      <td>0</td>\n",
       "      <td>0</td>\n",
       "      <td>0</td>\n",
       "      <td>0</td>\n",
       "      <td>0</td>\n",
       "      <td>0</td>\n",
       "      <td>...</td>\n",
       "      <td>0</td>\n",
       "      <td>0</td>\n",
       "      <td>0</td>\n",
       "      <td>0</td>\n",
       "      <td>0</td>\n",
       "      <td>0</td>\n",
       "      <td>0</td>\n",
       "      <td>0</td>\n",
       "      <td>0</td>\n",
       "      <td>0</td>\n",
       "    </tr>\n",
       "    <tr>\n",
       "      <th>4</th>\n",
       "      <td>0</td>\n",
       "      <td>0</td>\n",
       "      <td>0</td>\n",
       "      <td>0</td>\n",
       "      <td>0</td>\n",
       "      <td>0</td>\n",
       "      <td>0</td>\n",
       "      <td>0</td>\n",
       "      <td>0</td>\n",
       "      <td>0</td>\n",
       "      <td>...</td>\n",
       "      <td>0</td>\n",
       "      <td>0</td>\n",
       "      <td>0</td>\n",
       "      <td>0</td>\n",
       "      <td>0</td>\n",
       "      <td>0</td>\n",
       "      <td>0</td>\n",
       "      <td>0</td>\n",
       "      <td>0</td>\n",
       "      <td>0</td>\n",
       "    </tr>\n",
       "  </tbody>\n",
       "</table>\n",
       "<p>5 rows × 1486 columns</p>\n",
       "</div>"
      ],
      "text/plain": [
       "   1  10  100  1001  1002  1003  1004  1006  1007  101  ...  973  975  976  \\\n",
       "0  0   0    0     0     0     0     0     0     0    0  ...    0    0    0   \n",
       "1  0   0    0     0     0     0     0     0     0    0  ...    0    0    0   \n",
       "2  0   0    0     0     0     0     1     0     0    0  ...    0    0    0   \n",
       "3  0   0    0     0     0     0     0     0     0    0  ...    0    0    0   \n",
       "4  0   0    0     0     0     0     0     0     0    0  ...    0    0    0   \n",
       "\n",
       "   979  98  981  984  992  997  998  \n",
       "0    0   0    0    0    0    0    0  \n",
       "1    0   0    0    0    0    0    0  \n",
       "2    0   0    0    0    0    1    0  \n",
       "3    0   0    0    0    0    0    0  \n",
       "4    0   0    0    0    0    0    0  \n",
       "\n",
       "[5 rows x 1486 columns]"
      ]
     },
     "execution_count": 14,
     "metadata": {},
     "output_type": "execute_result"
    }
   ],
   "source": [
    "df_binary_1 = df_encoded_1.copy()\n",
    "# conver true to 1 flase to 0\n",
    "df_binary_1 = df_binary_1.astype('bool').astype('int')\n",
    "df_binary_1.head()"
   ]
  },
  {
   "cell_type": "code",
   "execution_count": 15,
   "metadata": {},
   "outputs": [
    {
     "name": "stdout",
     "output_type": "stream",
     "text": [
      "Association Rules:\n",
      "  antecedents consequents  antecedent support  consequent support   support  \\\n",
      "0      (2808)       (104)            0.053333            0.066667  0.026667   \n",
      "1      (2421)      (1192)            0.053333            0.040000  0.026667   \n",
      "2      (1192)      (2421)            0.040000            0.053333  0.026667   \n",
      "3       (133)       (134)            0.046667            0.040000  0.026667   \n",
      "4       (134)       (133)            0.040000            0.046667  0.026667   \n",
      "\n",
      "   confidence       lift  leverage  conviction  zhangs_metric  \n",
      "0    0.500000   7.500000  0.023111    1.866667       0.915493  \n",
      "1    0.500000  12.500000  0.024533    1.920000       0.971831  \n",
      "2    0.666667  12.500000  0.024533    2.840000       0.958333  \n",
      "3    0.571429  14.285714  0.024800    2.240000       0.975524  \n",
      "4    0.666667  14.285714  0.024800    2.860000       0.968750  \n"
     ]
    }
   ],
   "source": [
    "from mlxtend.frequent_patterns import apriori, association_rules\n",
    "\n",
    "def mine_association_rules(transactions_df, min_support=0.025, min_confidence=0.5):\n",
    "    \"\"\"\n",
    "    This function encodes the transactions into boolean values, performs association rule mining,\n",
    "    and returns the resulting rules.\n",
    "    \n",
    "    :param transactions_df: DataFrame with transactions where each item is represented in its own column.\n",
    "    :param min_support: The minimum support for an itemset to be considered frequent.\n",
    "    :param min_confidence: The minimum confidence for a rule to be considered.\n",
    "    :return: DataFrame containing the association rules.\n",
    "    \"\"\"\n",
    "    # Convert items to boolean columns\n",
    "    # df_encoded = df_encoded\n",
    "    \n",
    "    # Perform association rule mining\n",
    "    frequent_itemsets = apriori(df_encoded_1, min_support=min_support, use_colnames=True)\n",
    "    rules = association_rules(frequent_itemsets, metric=\"confidence\", min_threshold=min_confidence)\n",
    "    \n",
    "    return rules\n",
    "\n",
    "# Now, use the function and display the association rules\n",
    "rules = mine_association_rules(items_df)\n",
    "print(\"Association Rules:\")\n",
    "print(rules.head())"
   ]
  },
  {
   "cell_type": "code",
   "execution_count": 16,
   "metadata": {},
   "outputs": [
    {
     "data": {
      "text/plain": [
       "106"
      ]
     },
     "execution_count": 16,
     "metadata": {},
     "output_type": "execute_result"
    }
   ],
   "source": [
    "len(rules)"
   ]
  },
  {
   "cell_type": "code",
   "execution_count": 17,
   "metadata": {},
   "outputs": [
    {
     "data": {
      "image/png": "[encoded data removed]",
      "text/plain": [
       "<Figure size 1200x800 with 1 Axes>"
      ]
     },
     "metadata": {},
     "output_type": "display_data"
    }
   ],
   "source": [
    "# Set the plot size\n",
    "plt.figure(figsize=(12, 8))\n",
    "\n",
    "# Set the background color\n",
    "plt.axes().set_facecolor('#e1f7fc')  \n",
    "\n",
    "# Plot scatterplot for Support vs. Confidence\n",
    "sns.scatterplot(\n",
    "    x=\"support\",\n",
    "    y=\"confidence\",\n",
    "    size=\"lift\",\n",
    "    data=rules,\n",
    "    hue=\"lift\",\n",
    "    palette=\"inferno\", # Color palette\n",
    "    sizes=(20, 200),\n",
    "    alpha=0.6,  # Transparency\n",
    "    edgecolor=None  # Remove edge color for smoother appearance\n",
    ")\n",
    "\n",
    "# Customize the plot\n",
    "plt.title('Support vs. Confidence', color='#9B60A1', fontweight='bold')  # #9B60A1 is purple\n",
    "plt.xlabel('Support', color='#9B60A1', fontweight='bold')  \n",
    "plt.ylabel('Confidence', color='#9B60A1', fontweight='bold')  \n",
    "legend = plt.legend(title='Lift', loc='upper right', bbox_to_anchor=(1.25, 1))\n",
    "plt.setp(legend.get_texts(), color='#9B60A1')\n",
    "\n",
    "# Show the plot\n",
    "plt.show()"
   ]
  },
  {
   "cell_type": "code",
   "execution_count": 18,
   "metadata": {},
   "outputs": [
    {
     "data": {
      "text/plain": [
       "[({'2189'}, {'773'}),\n",
       " ({'773'}, {'2189'}),\n",
       " ({'1776'}, {'3148'}),\n",
       " ({'3148'}, {'1776'}),\n",
       " ({'3846'}, {'2571'}),\n",
       " ({'984'}, {'3308'}),\n",
       " ({'1358'}, {'1359'}),\n",
       " ({'3090'}, {'3093'}),\n",
       " ({'136'}, {'133'}),\n",
       " ({'3251'}, {'3237'}),\n",
       " ({'186'}, {'172'}),\n",
       " ({'3660'}, {'828'}),\n",
       " ({'2758', '2856'}, {'1501'}),\n",
       " ({'1501', '2758'}, {'2856'}),\n",
       " ({'587'}, {'3694'})]"
      ]
     },
     "execution_count": 18,
     "metadata": {},
     "output_type": "execute_result"
    }
   ],
   "source": [
    "# Assuming 'rules_df' is your DataFrame containing the association rules\n",
    "\n",
    "# Sort rules by confidence and lift in descending order\n",
    "sorted_rules_df = rules.sort_values(by=['confidence', 'lift'], ascending=False)\n",
    "\n",
    "# Select top 5 rules\n",
    "top_rules_df = sorted_rules_df.head(15)\n",
    "\n",
    "# Convert antecedents and consequents into a list of tuples, ready for the GA\n",
    "rules_to_hide = [(set(a), set(c)) for a, c in zip(top_rules_df['antecedents'], top_rules_df['consequents'])]\n",
    "rules_to_hide"
   ]
  },
  {
   "cell_type": "code",
   "execution_count": 19,
   "metadata": {},
   "outputs": [
    {
     "name": "stdout",
     "output_type": "stream",
     "text": [
      "     antecedents consequents\n",
      "0         {2189}       {773}\n",
      "1          {773}      {2189}\n",
      "2         {1776}      {3148}\n",
      "3         {3148}      {1776}\n",
      "4         {3846}      {2571}\n",
      "5          {984}      {3308}\n",
      "6         {1358}      {1359}\n",
      "7         {3090}      {3093}\n",
      "8          {136}       {133}\n",
      "9         {3251}      {3237}\n",
      "10         {186}       {172}\n",
      "11        {3660}       {828}\n",
      "12  {2856, 2758}      {1501}\n",
      "13  {2758, 1501}      {2856}\n",
      "14         {587}      {3694}\n"
     ]
    }
   ],
   "source": [
    "\n",
    "# after making into frozen set make into dataframe\n",
    "\n",
    "rules_to_hide_df = pd.DataFrame(rules_to_hide, columns=['antecedents', 'consequents'])\n",
    "print(rules_to_hide_df)\n",
    "\n",
    "# instead of sets make into frozen sets\n",
    "rules_to_hide_df['antecedents'] = rules_to_hide_df['antecedents'].apply(lambda x: frozenset(x))\n",
    "rules_to_hide_df['consequents'] = rules_to_hide_df['consequents'].apply(lambda x: frozenset(x))\n"
   ]
  },
  {
   "cell_type": "code",
   "execution_count": 20,
   "metadata": {},
   "outputs": [
    {
     "data": {
      "text/html": [
       "<div>\n",
       "<style scoped>\n",
       "    .dataframe tbody tr th:only-of-type {\n",
       "        vertical-align: middle;\n",
       "    }\n",
       "\n",
       "    .dataframe tbody tr th {\n",
       "        vertical-align: top;\n",
       "    }\n",
       "\n",
       "    .dataframe thead th {\n",
       "        text-align: right;\n",
       "    }\n",
       "</style>\n",
       "<table border=\"1\" class=\"dataframe\">\n",
       "  <thead>\n",
       "    <tr style=\"text-align: right;\">\n",
       "      <th></th>\n",
       "      <th>antecedents</th>\n",
       "      <th>consequents</th>\n",
       "    </tr>\n",
       "  </thead>\n",
       "  <tbody>\n",
       "    <tr>\n",
       "      <th>0</th>\n",
       "      <td>(2189)</td>\n",
       "      <td>(773)</td>\n",
       "    </tr>\n",
       "    <tr>\n",
       "      <th>1</th>\n",
       "      <td>(773)</td>\n",
       "      <td>(2189)</td>\n",
       "    </tr>\n",
       "    <tr>\n",
       "      <th>2</th>\n",
       "      <td>(1776)</td>\n",
       "      <td>(3148)</td>\n",
       "    </tr>\n",
       "    <tr>\n",
       "      <th>3</th>\n",
       "      <td>(3148)</td>\n",
       "      <td>(1776)</td>\n",
       "    </tr>\n",
       "    <tr>\n",
       "      <th>4</th>\n",
       "      <td>(3846)</td>\n",
       "      <td>(2571)</td>\n",
       "    </tr>\n",
       "    <tr>\n",
       "      <th>5</th>\n",
       "      <td>(984)</td>\n",
       "      <td>(3308)</td>\n",
       "    </tr>\n",
       "    <tr>\n",
       "      <th>6</th>\n",
       "      <td>(1358)</td>\n",
       "      <td>(1359)</td>\n",
       "    </tr>\n",
       "    <tr>\n",
       "      <th>7</th>\n",
       "      <td>(3090)</td>\n",
       "      <td>(3093)</td>\n",
       "    </tr>\n",
       "    <tr>\n",
       "      <th>8</th>\n",
       "      <td>(136)</td>\n",
       "      <td>(133)</td>\n",
       "    </tr>\n",
       "    <tr>\n",
       "      <th>9</th>\n",
       "      <td>(3251)</td>\n",
       "      <td>(3237)</td>\n",
       "    </tr>\n",
       "    <tr>\n",
       "      <th>10</th>\n",
       "      <td>(186)</td>\n",
       "      <td>(172)</td>\n",
       "    </tr>\n",
       "    <tr>\n",
       "      <th>11</th>\n",
       "      <td>(3660)</td>\n",
       "      <td>(828)</td>\n",
       "    </tr>\n",
       "    <tr>\n",
       "      <th>12</th>\n",
       "      <td>(2856, 2758)</td>\n",
       "      <td>(1501)</td>\n",
       "    </tr>\n",
       "    <tr>\n",
       "      <th>13</th>\n",
       "      <td>(2758, 1501)</td>\n",
       "      <td>(2856)</td>\n",
       "    </tr>\n",
       "    <tr>\n",
       "      <th>14</th>\n",
       "      <td>(587)</td>\n",
       "      <td>(3694)</td>\n",
       "    </tr>\n",
       "  </tbody>\n",
       "</table>\n",
       "</div>"
      ],
      "text/plain": [
       "     antecedents consequents\n",
       "0         (2189)       (773)\n",
       "1          (773)      (2189)\n",
       "2         (1776)      (3148)\n",
       "3         (3148)      (1776)\n",
       "4         (3846)      (2571)\n",
       "5          (984)      (3308)\n",
       "6         (1358)      (1359)\n",
       "7         (3090)      (3093)\n",
       "8          (136)       (133)\n",
       "9         (3251)      (3237)\n",
       "10         (186)       (172)\n",
       "11        (3660)       (828)\n",
       "12  (2856, 2758)      (1501)\n",
       "13  (2758, 1501)      (2856)\n",
       "14         (587)      (3694)"
      ]
     },
     "execution_count": 20,
     "metadata": {},
     "output_type": "execute_result"
    }
   ],
   "source": [
    "rules_to_hide_df\n",
    "    "
   ]
  },
  {
   "cell_type": "code",
   "execution_count": 21,
   "metadata": {},
   "outputs": [],
   "source": [
    "transactions_sets = transactions['ItemName'].str.split(', ')\n",
    "transactions_sets = transactions_sets.apply(lambda x: set(x))\n",
    "# into a list\n",
    "transactions_sets = transactions_sets.to_list()\n",
    "\n",
    "transactions_lists = [list(transaction_set) for transaction_set in transactions_sets]\n",
    "# transactions_lists\n",
    "\n",
    "#  assign unique number for each item that represents the item\n",
    "# unique_items = sorted(set(item for transaction in transactions_lists for item in transaction))\n",
    "# item_to_index = {item: i for i, item in enumerate(unique_items)}\n",
    "# index_to_item = {i: item for item, i in item_to_index.items()}\n",
    "# transactions_indexed = [[item_to_index[item] for item in transaction] for transaction in transactions_lists]\n",
    "\n",
    "# transactions_indexed\n"
   ]
  },
  {
   "cell_type": "code",
   "execution_count": 22,
   "metadata": {},
   "outputs": [],
   "source": [
    "# len(transactions_lists)"
   ]
  },
  {
   "cell_type": "code",
   "execution_count": 23,
   "metadata": {},
   "outputs": [
    {
     "name": "stdout",
     "output_type": "stream",
     "text": [
      "gen\tnevals\tavg    \tstd     \tmin    \tmax    \n",
      "0  \t300   \t20.5722\t0.106141\t20.2733\t20.8783\n",
      "1  \t260   \t20.6811\t0.0911135\t20.4547\t20.9671\n",
      "2  \t259   \t20.768 \t0.0814428\t20.582 \t21.0207\n",
      "3  \t254   \t20.8459\t0.0737669\t20.6198\t21.0153\n",
      "4  \t267   \t20.9103\t0.0621162\t20.7396\t21.09  \n"
     ]
    },
    {
     "ename": "KeyboardInterrupt",
     "evalue": "",
     "output_type": "error",
     "traceback": [
      "\u001b[1;31m---------------------------------------------------------------------------\u001b[0m",
      "\u001b[1;31mKeyboardInterrupt\u001b[0m                         Traceback (most recent call last)",
      "Cell \u001b[1;32mIn[23], line 112\u001b[0m\n\u001b[0;32m    109\u001b[0m stats\u001b[38;5;241m.\u001b[39mregister(\u001b[38;5;124m\"\u001b[39m\u001b[38;5;124mmin\u001b[39m\u001b[38;5;124m\"\u001b[39m, numpy\u001b[38;5;241m.\u001b[39mmin)\n\u001b[0;32m    110\u001b[0m stats\u001b[38;5;241m.\u001b[39mregister(\u001b[38;5;124m\"\u001b[39m\u001b[38;5;124mmax\u001b[39m\u001b[38;5;124m\"\u001b[39m, numpy\u001b[38;5;241m.\u001b[39mmax)\n\u001b[1;32m--> 112\u001b[0m pop, log \u001b[38;5;241m=\u001b[39m \u001b[43malgorithms\u001b[49m\u001b[38;5;241;43m.\u001b[39;49m\u001b[43meaSimple\u001b[49m\u001b[43m(\u001b[49m\u001b[43mpop\u001b[49m\u001b[43m,\u001b[49m\u001b[43m \u001b[49m\u001b[43mtoolbox\u001b[49m\u001b[43m,\u001b[49m\u001b[43m \u001b[49m\u001b[43mcxpb\u001b[49m\u001b[38;5;241;43m=\u001b[39;49m\u001b[38;5;241;43m0.8\u001b[39;49m\u001b[43m,\u001b[49m\u001b[43m \u001b[49m\u001b[43mmutpb\u001b[49m\u001b[38;5;241;43m=\u001b[39;49m\u001b[38;5;241;43m0.2\u001b[39;49m\u001b[43m,\u001b[49m\u001b[43m \u001b[49m\u001b[43mngen\u001b[49m\u001b[38;5;241;43m=\u001b[39;49m\u001b[43mmax_generations\u001b[49m\u001b[43m,\u001b[49m\u001b[43m \u001b[49m\u001b[43mstats\u001b[49m\u001b[38;5;241;43m=\u001b[39;49m\u001b[43mstats\u001b[49m\u001b[43m,\u001b[49m\u001b[43m \u001b[49m\u001b[43mverbose\u001b[49m\u001b[38;5;241;43m=\u001b[39;49m\u001b[38;5;28;43;01mTrue\u001b[39;49;00m\u001b[43m)\u001b[49m\n\u001b[0;32m    114\u001b[0m \u001b[38;5;66;03m# pool.close()\u001b[39;00m\n\u001b[0;32m    115\u001b[0m \n\u001b[0;32m    116\u001b[0m \u001b[38;5;66;03m# Find best individual\u001b[39;00m\n\u001b[0;32m    117\u001b[0m best_individual \u001b[38;5;241m=\u001b[39m tools\u001b[38;5;241m.\u001b[39mselBest(pop, \u001b[38;5;241m1\u001b[39m)[\u001b[38;5;241m0\u001b[39m]\n",
      "File \u001b[1;32mc:\\users\\andrew-blaze\\appdata\\local\\programs\\python\\python39\\lib\\site-packages\\deap\\algorithms.py:173\u001b[0m, in \u001b[0;36meaSimple\u001b[1;34m(population, toolbox, cxpb, mutpb, ngen, stats, halloffame, verbose)\u001b[0m\n\u001b[0;32m    171\u001b[0m invalid_ind \u001b[38;5;241m=\u001b[39m [ind \u001b[38;5;28;01mfor\u001b[39;00m ind \u001b[38;5;129;01min\u001b[39;00m offspring \u001b[38;5;28;01mif\u001b[39;00m \u001b[38;5;129;01mnot\u001b[39;00m ind\u001b[38;5;241m.\u001b[39mfitness\u001b[38;5;241m.\u001b[39mvalid]\n\u001b[0;32m    172\u001b[0m fitnesses \u001b[38;5;241m=\u001b[39m toolbox\u001b[38;5;241m.\u001b[39mmap(toolbox\u001b[38;5;241m.\u001b[39mevaluate, invalid_ind)\n\u001b[1;32m--> 173\u001b[0m \u001b[38;5;28;01mfor\u001b[39;00m ind, fit \u001b[38;5;129;01min\u001b[39;00m \u001b[38;5;28mzip\u001b[39m(invalid_ind, fitnesses):\n\u001b[0;32m    174\u001b[0m     ind\u001b[38;5;241m.\u001b[39mfitness\u001b[38;5;241m.\u001b[39mvalues \u001b[38;5;241m=\u001b[39m fit\n\u001b[0;32m    176\u001b[0m \u001b[38;5;66;03m# Update the hall of fame with the generated individuals\u001b[39;00m\n",
      "Cell \u001b[1;32mIn[23], line 68\u001b[0m, in \u001b[0;36mevaluate_individual\u001b[1;34m(individual)\u001b[0m\n\u001b[0;32m     66\u001b[0m \u001b[38;5;28;01mdef\u001b[39;00m \u001b[38;5;21mevaluate_individual\u001b[39m(individual):\n\u001b[0;32m     67\u001b[0m     modified_dataset \u001b[38;5;241m=\u001b[39m apply_modifications(transactions, individual)\n\u001b[1;32m---> 68\u001b[0m     new_confidences \u001b[38;5;241m=\u001b[39m [calculate_rule_confidence(rule, modified_dataset) \u001b[38;5;28;01mfor\u001b[39;00m rule \u001b[38;5;129;01min\u001b[39;00m target_rules]\n\u001b[0;32m     70\u001b[0m     \u001b[38;5;28;01mdef\u001b[39;00m \u001b[38;5;21mconfidence_penalty\u001b[39m(confidence):\n\u001b[0;32m     71\u001b[0m         \u001b[38;5;28;01mif\u001b[39;00m lower_target_confidence \u001b[38;5;241m<\u001b[39m\u001b[38;5;241m=\u001b[39m confidence \u001b[38;5;241m<\u001b[39m\u001b[38;5;241m=\u001b[39m upper_target_confidence:\n",
      "Cell \u001b[1;32mIn[23], line 68\u001b[0m, in \u001b[0;36m<listcomp>\u001b[1;34m(.0)\u001b[0m\n\u001b[0;32m     66\u001b[0m \u001b[38;5;28;01mdef\u001b[39;00m \u001b[38;5;21mevaluate_individual\u001b[39m(individual):\n\u001b[0;32m     67\u001b[0m     modified_dataset \u001b[38;5;241m=\u001b[39m apply_modifications(transactions, individual)\n\u001b[1;32m---> 68\u001b[0m     new_confidences \u001b[38;5;241m=\u001b[39m [\u001b[43mcalculate_rule_confidence\u001b[49m\u001b[43m(\u001b[49m\u001b[43mrule\u001b[49m\u001b[43m,\u001b[49m\u001b[43m \u001b[49m\u001b[43mmodified_dataset\u001b[49m\u001b[43m)\u001b[49m \u001b[38;5;28;01mfor\u001b[39;00m rule \u001b[38;5;129;01min\u001b[39;00m target_rules]\n\u001b[0;32m     70\u001b[0m     \u001b[38;5;28;01mdef\u001b[39;00m \u001b[38;5;21mconfidence_penalty\u001b[39m(confidence):\n\u001b[0;32m     71\u001b[0m         \u001b[38;5;28;01mif\u001b[39;00m lower_target_confidence \u001b[38;5;241m<\u001b[39m\u001b[38;5;241m=\u001b[39m confidence \u001b[38;5;241m<\u001b[39m\u001b[38;5;241m=\u001b[39m upper_target_confidence:\n",
      "Cell \u001b[1;32mIn[23], line 20\u001b[0m, in \u001b[0;36mcalculate_rule_confidence\u001b[1;34m(rule, transactions)\u001b[0m\n\u001b[0;32m     18\u001b[0m \u001b[38;5;28;01mdef\u001b[39;00m \u001b[38;5;21mcalculate_rule_confidence\u001b[39m(rule, transactions):\n\u001b[0;32m     19\u001b[0m     lhs, rhs \u001b[38;5;241m=\u001b[39m rule\n\u001b[1;32m---> 20\u001b[0m     lhs_transactions \u001b[38;5;241m=\u001b[39m \u001b[43mget_transactions_with\u001b[49m\u001b[43m(\u001b[49m\u001b[43mlhs\u001b[49m\u001b[43m,\u001b[49m\u001b[43m \u001b[49m\u001b[43mtransactions\u001b[49m\u001b[43m)\u001b[49m\n\u001b[0;32m     21\u001b[0m     rhs_transactions \u001b[38;5;241m=\u001b[39m get_transactions_with(rhs, transactions)\n\u001b[0;32m     22\u001b[0m     lhs_and_rhs_transactions \u001b[38;5;241m=\u001b[39m get_transactions_with(lhs\u001b[38;5;241m.\u001b[39munion(rhs), transactions)\n",
      "Cell \u001b[1;32mIn[23], line 16\u001b[0m, in \u001b[0;36mget_transactions_with\u001b[1;34m(items, transactions)\u001b[0m\n\u001b[0;32m     15\u001b[0m \u001b[38;5;28;01mdef\u001b[39;00m \u001b[38;5;21mget_transactions_with\u001b[39m(items, transactions):\n\u001b[1;32m---> 16\u001b[0m     \u001b[38;5;28;01mreturn\u001b[39;00m [t \u001b[38;5;28;01mfor\u001b[39;00m t \u001b[38;5;129;01min\u001b[39;00m transactions \u001b[38;5;28;01mif\u001b[39;00m \u001b[38;5;28mall\u001b[39m(item \u001b[38;5;129;01min\u001b[39;00m t \u001b[38;5;28;01mfor\u001b[39;00m item \u001b[38;5;129;01min\u001b[39;00m items)]\n",
      "Cell \u001b[1;32mIn[23], line 16\u001b[0m, in \u001b[0;36m<listcomp>\u001b[1;34m(.0)\u001b[0m\n\u001b[0;32m     15\u001b[0m \u001b[38;5;28;01mdef\u001b[39;00m \u001b[38;5;21mget_transactions_with\u001b[39m(items, transactions):\n\u001b[1;32m---> 16\u001b[0m     \u001b[38;5;28;01mreturn\u001b[39;00m [t \u001b[38;5;28;01mfor\u001b[39;00m t \u001b[38;5;129;01min\u001b[39;00m transactions \u001b[38;5;28;01mif\u001b[39;00m \u001b[38;5;28mall\u001b[39m(item \u001b[38;5;129;01min\u001b[39;00m t \u001b[38;5;28;01mfor\u001b[39;00m item \u001b[38;5;129;01min\u001b[39;00m items)]\n",
      "\u001b[1;31mKeyboardInterrupt\u001b[0m: "
     ]
    }
   ],
   "source": [
    "import cProfile\n",
    "\n",
    "import random\n",
    "from collections import defaultdict\n",
    "from deap import base, creator, tools, algorithms\n",
    "import numpy\n",
    "import multiprocessing\n",
    "\n",
    "# Load dataset and target association rules\n",
    "transactions = transactions_lists.copy()\n",
    "\n",
    "target_rules = rules_to_hide.copy()\n",
    "\n",
    "# Define utility functions\n",
    "def get_transactions_with(items, transactions):\n",
    "    return [t for t in transactions if all(item in t for item in items)]\n",
    "\n",
    "def calculate_rule_confidence(rule, transactions):\n",
    "    lhs, rhs = rule\n",
    "    lhs_transactions = get_transactions_with(lhs, transactions)\n",
    "    rhs_transactions = get_transactions_with(rhs, transactions)\n",
    "    lhs_and_rhs_transactions = get_transactions_with(lhs.union(rhs), transactions)\n",
    "    if len(lhs_transactions) == 0:\n",
    "        return 0\n",
    "    return len(lhs_and_rhs_transactions) / len(lhs_transactions)\n",
    "\n",
    "def apply_modifications(transactions, individual):\n",
    "    modified_transactions = []\n",
    "    for transaction in transactions:\n",
    "        modified_transaction = transaction.copy()  # Start with a copy of the original transaction\n",
    "        for rule in target_rules:\n",
    "            lhs, rhs = rule\n",
    "            for item in transaction:  # Iterate over the original transaction to avoid iteration issues\n",
    "                if item in lhs or item in rhs:\n",
    "                    modification_index = transactions.index(transaction) * len(transaction) + transaction.index(item)\n",
    "                    modification = individual[modification_index]\n",
    "                    if modification == 1 and item in lhs and item in modified_transaction:\n",
    "                        modified_transaction.remove(item)\n",
    "                    elif modification == 2 and item in rhs and item in modified_transaction:\n",
    "                        modified_transaction.remove(item)\n",
    "                    elif modification == 3:\n",
    "                        if item in lhs and item in modified_transaction:\n",
    "                            modified_transaction.remove(item)\n",
    "                        if item in rhs and item in modified_transaction:  # Check again as it may have been removed\n",
    "                            modified_transaction.remove(item)\n",
    "        modified_transactions.append(modified_transaction)\n",
    "    return modified_transactions\n",
    "\n",
    "\n",
    "# Define fitness function\n",
    "creator.create(\"FitnessMax\", base.Fitness, weights=(1.0, 1.0))\n",
    "creator.create(\"Individual\", list, fitness=creator.FitnessMax)\n",
    "\n",
    "alpha = 0.7\n",
    "beta = 0.3\n",
    "# max_modifications = sum(len(t) for t in transactions)\n",
    "max_modifications = len(transactions_lists)\n",
    "# target_confidence = 0.03  # Adjust this value to set the desired maximum confidence for the target rules\n",
    "lower_target_confidence = 0.1  # Example lower bound\n",
    "upper_target_confidence = 0.4  # Example upper bound\n",
    "\n",
    "\n",
    "\n",
    "\n",
    "\n",
    "def evaluate_individual(individual):\n",
    "    modified_dataset = apply_modifications(transactions, individual)\n",
    "    new_confidences = [calculate_rule_confidence(rule, modified_dataset) for rule in target_rules]\n",
    "    \n",
    "    def confidence_penalty(confidence):\n",
    "        if lower_target_confidence <= confidence <= upper_target_confidence:\n",
    "            return 0  # No penalty if within the target range\n",
    "        elif confidence < lower_target_confidence:\n",
    "            return lower_target_confidence - confidence  # Penalty for being below the range\n",
    "        else:\n",
    "            return confidence - upper_target_confidence  # Penalty for being above the range\n",
    "\n",
    "    avg_penalty = sum(confidence_penalty(conf) for conf in new_confidences) / len(new_confidences)\n",
    "    \n",
    "    num_modifications = sum([individual[i] != 0 for i in range(len(individual))])\n",
    "    utility_score = num_modifications / max_modifications\n",
    "    \n",
    "    # Adjust alpha and beta as necessary to balance between penalty and utility preservation\n",
    "    combined_score = (1 - avg_penalty) * alpha + utility_score * beta\n",
    "    \n",
    "    return combined_score, combined_score\n",
    "\n",
    "# Define genetic operators\n",
    "toolbox = base.Toolbox()\n",
    "\n",
    "# pool = multiprocessing.Pool(processes=3)\n",
    "# toolbox.register(\"map\", pool.map)\n",
    "\n",
    "toolbox.register(\"attr_int\", random.randint, 0, 3)  # 0: do nothing, 1: remove 'a', 2: remove 'b', 3: remove both\n",
    "toolbox.register(\"individual\", tools.initRepeat, creator.Individual, toolbox.attr_int, n=len(transactions) * max(len(t) for t in transactions))\n",
    "toolbox.register(\"population\", tools.initRepeat, list, toolbox.individual)\n",
    "toolbox.register(\"evaluate\", evaluate_individual)\n",
    "toolbox.register(\"mate\", tools.cxTwoPoint)\n",
    "toolbox.register(\"mutate\", tools.mutUniformInt, low=0, up=3, indpb=0.1)\n",
    "toolbox.register(\"select\", tools.selTournament, tournsize=4)\n",
    "\n",
    "# Run genetic algorithm\n",
    "population_size = 300\n",
    "max_generations = 200\n",
    "pop = toolbox.population(n=population_size)\n",
    "stats = tools.Statistics(lambda ind: ind.fitness.values)\n",
    "stats.register(\"avg\", numpy.mean)\n",
    "stats.register(\"std\", numpy.std)\n",
    "stats.register(\"min\", numpy.min)\n",
    "stats.register(\"max\", numpy.max)\n",
    "\n",
    "pop, log = algorithms.eaSimple(pop, toolbox, cxpb=0.8, mutpb=0.2, ngen=max_generations, stats=stats, verbose=True)\n",
    "\n",
    "# pool.close()\n",
    "\n",
    "# Find best individual\n",
    "best_individual = tools.selBest(pop, 1)[0]\n",
    "\n",
    "# Apply modifications to dataset\n",
    "modified_dataset = apply_modifications(transactions, best_individual)\n",
    "\n",
    "# Calculate resulting rule confidences\n",
    "new_confidences = [calculate_rule_confidence(rule, modified_dataset) for rule in target_rules]\n",
    "\n",
    "# Output results\n",
    "# print(\"Modifications:\")\n",
    "# for i, transaction in enumerate(transactions):\n",
    "#     modified_transaction = apply_modifications([transaction], best_individual)[0]\n",
    "#     print(f\"Transaction {i + 1}: {transaction} -> {modified_transaction}\")\n",
    "\n",
    "# After finding the best individual\n",
    "modified_txn_final = apply_modifications(transactions, best_individual)\n",
    "\n",
    "# print(\"Modifications:\")\n",
    "# for i, (original, modified) in enumerate(zip(transactions, modified_txn_final)):\n",
    "#     print(f\"Transaction {i + 1}: {original} -> {modified}\")\n",
    "\n",
    "\n",
    "# print(\"\\nResulting Rule Confidences:\")\n",
    "# for rule, new_confidence in zip(target_rules, new_confidences):\n",
    "#     # print(f\"{rule}: {new_confidence:.2f}\")\n",
    "#     print(f\"{rule}: {new_confidence}\")\n",
    "target_confidence = lower_target_confidence\n",
    "print(\"\\nAnalysis of Trade-off:\")\n",
    "avg_new_confidence = sum(new_confidences) / len(new_confidences)\n",
    "num_modifications = sum([best_individual[i] != 0 for i in range(len(best_individual))])\n",
    "print(f\"Average Confidence Reduction: {(1 - avg_new_confidence / target_confidence)}\")\n",
    "print(f\"Dataset Utility Preservation: {(max_modifications - num_modifications )/ max_modifications}\")\n"
   ]
  },
  {
   "cell_type": "code",
   "execution_count": null,
   "metadata": {},
   "outputs": [
    {
     "data": {
      "text/plain": [
       "(150, (150, 1))"
      ]
     },
     "execution_count": 23,
     "metadata": {},
     "output_type": "execute_result"
    }
   ],
   "source": [
    "len(modified_txn_final), transactions_final.shape"
   ]
  },
  {
   "cell_type": "code",
   "execution_count": null,
   "metadata": {},
   "outputs": [],
   "source": [
    "# # save this as txt file\n",
    "# with open('modified_txn_final.txt', 'w') as f:\n",
    "#     for item in modified_txn_final:\n",
    "#         f.write(\"%s\\n\" % item)"
   ]
  },
  {
   "cell_type": "code",
   "execution_count": null,
   "metadata": {},
   "outputs": [],
   "source": [
    "modified_txn_final_copy = modified_txn_final.copy()\n"
   ]
  },
  {
   "cell_type": "code",
   "execution_count": null,
   "metadata": {},
   "outputs": [
    {
     "data": {
      "text/html": [
       "<div>\n",
       "<style scoped>\n",
       "    .dataframe tbody tr th:only-of-type {\n",
       "        vertical-align: middle;\n",
       "    }\n",
       "\n",
       "    .dataframe tbody tr th {\n",
       "        vertical-align: top;\n",
       "    }\n",
       "\n",
       "    .dataframe thead th {\n",
       "        text-align: right;\n",
       "    }\n",
       "</style>\n",
       "<table border=\"1\" class=\"dataframe\">\n",
       "  <thead>\n",
       "    <tr style=\"text-align: right;\">\n",
       "      <th></th>\n",
       "      <th>0</th>\n",
       "      <th>1</th>\n",
       "      <th>2</th>\n",
       "      <th>3</th>\n",
       "      <th>4</th>\n",
       "      <th>5</th>\n",
       "      <th>6</th>\n",
       "      <th>7</th>\n",
       "      <th>8</th>\n",
       "      <th>9</th>\n",
       "      <th>...</th>\n",
       "      <th>72</th>\n",
       "      <th>73</th>\n",
       "      <th>74</th>\n",
       "      <th>75</th>\n",
       "      <th>76</th>\n",
       "      <th>77</th>\n",
       "      <th>78</th>\n",
       "      <th>79</th>\n",
       "      <th>80</th>\n",
       "      <th>81</th>\n",
       "    </tr>\n",
       "  </thead>\n",
       "  <tbody>\n",
       "    <tr>\n",
       "      <th>0</th>\n",
       "      <td>3869</td>\n",
       "      <td>817</td>\n",
       "      <td>3530</td>\n",
       "      <td>1358</td>\n",
       "      <td>1791</td>\n",
       "      <td>1561</td>\n",
       "      <td>3867</td>\n",
       "      <td>1558</td>\n",
       "      <td>1359</td>\n",
       "      <td>None</td>\n",
       "      <td>...</td>\n",
       "      <td>None</td>\n",
       "      <td>None</td>\n",
       "      <td>None</td>\n",
       "      <td>None</td>\n",
       "      <td>None</td>\n",
       "      <td>None</td>\n",
       "      <td>None</td>\n",
       "      <td>None</td>\n",
       "      <td>None</td>\n",
       "      <td>None</td>\n",
       "    </tr>\n",
       "    <tr>\n",
       "      <th>1</th>\n",
       "      <td>2684</td>\n",
       "      <td>212</td>\n",
       "      <td>2990</td>\n",
       "      <td>1564</td>\n",
       "      <td>2115</td>\n",
       "      <td>1992</td>\n",
       "      <td>2751</td>\n",
       "      <td>1428</td>\n",
       "      <td>2063</td>\n",
       "      <td>540</td>\n",
       "      <td>...</td>\n",
       "      <td>None</td>\n",
       "      <td>None</td>\n",
       "      <td>None</td>\n",
       "      <td>None</td>\n",
       "      <td>None</td>\n",
       "      <td>None</td>\n",
       "      <td>None</td>\n",
       "      <td>None</td>\n",
       "      <td>None</td>\n",
       "      <td>None</td>\n",
       "    </tr>\n",
       "    <tr>\n",
       "      <th>2</th>\n",
       "      <td>1658</td>\n",
       "      <td>3564</td>\n",
       "      <td>3376</td>\n",
       "      <td>1659</td>\n",
       "      <td>1764</td>\n",
       "      <td>1754</td>\n",
       "      <td>3702</td>\n",
       "      <td>412</td>\n",
       "      <td>1722</td>\n",
       "      <td>2667</td>\n",
       "      <td>...</td>\n",
       "      <td>None</td>\n",
       "      <td>None</td>\n",
       "      <td>None</td>\n",
       "      <td>None</td>\n",
       "      <td>None</td>\n",
       "      <td>None</td>\n",
       "      <td>None</td>\n",
       "      <td>None</td>\n",
       "      <td>None</td>\n",
       "      <td>None</td>\n",
       "    </tr>\n",
       "    <tr>\n",
       "      <th>3</th>\n",
       "      <td>3547</td>\n",
       "      <td>2991</td>\n",
       "      <td>3682</td>\n",
       "      <td>1364</td>\n",
       "      <td>741</td>\n",
       "      <td>672</td>\n",
       "      <td>3758</td>\n",
       "      <td>3556</td>\n",
       "      <td>2518</td>\n",
       "      <td>3765</td>\n",
       "      <td>...</td>\n",
       "      <td>None</td>\n",
       "      <td>None</td>\n",
       "      <td>None</td>\n",
       "      <td>None</td>\n",
       "      <td>None</td>\n",
       "      <td>None</td>\n",
       "      <td>None</td>\n",
       "      <td>None</td>\n",
       "      <td>None</td>\n",
       "      <td>None</td>\n",
       "    </tr>\n",
       "    <tr>\n",
       "      <th>4</th>\n",
       "      <td>3303</td>\n",
       "      <td>790</td>\n",
       "      <td>2994</td>\n",
       "      <td>3745</td>\n",
       "      <td>3583</td>\n",
       "      <td>522</td>\n",
       "      <td>3668</td>\n",
       "      <td>2984</td>\n",
       "      <td>2746</td>\n",
       "      <td>3041</td>\n",
       "      <td>...</td>\n",
       "      <td>None</td>\n",
       "      <td>None</td>\n",
       "      <td>None</td>\n",
       "      <td>None</td>\n",
       "      <td>None</td>\n",
       "      <td>None</td>\n",
       "      <td>None</td>\n",
       "      <td>None</td>\n",
       "      <td>None</td>\n",
       "      <td>None</td>\n",
       "    </tr>\n",
       "    <tr>\n",
       "      <th>...</th>\n",
       "      <td>...</td>\n",
       "      <td>...</td>\n",
       "      <td>...</td>\n",
       "      <td>...</td>\n",
       "      <td>...</td>\n",
       "      <td>...</td>\n",
       "      <td>...</td>\n",
       "      <td>...</td>\n",
       "      <td>...</td>\n",
       "      <td>...</td>\n",
       "      <td>...</td>\n",
       "      <td>...</td>\n",
       "      <td>...</td>\n",
       "      <td>...</td>\n",
       "      <td>...</td>\n",
       "      <td>...</td>\n",
       "      <td>...</td>\n",
       "      <td>...</td>\n",
       "      <td>...</td>\n",
       "      <td>...</td>\n",
       "      <td>...</td>\n",
       "    </tr>\n",
       "    <tr>\n",
       "      <th>145</th>\n",
       "      <td>705</td>\n",
       "      <td>2236</td>\n",
       "      <td>3088</td>\n",
       "      <td>2562</td>\n",
       "      <td>3216</td>\n",
       "      <td>1927</td>\n",
       "      <td>3219</td>\n",
       "      <td>583</td>\n",
       "      <td>3213</td>\n",
       "      <td>2264</td>\n",
       "      <td>...</td>\n",
       "      <td>None</td>\n",
       "      <td>None</td>\n",
       "      <td>None</td>\n",
       "      <td>None</td>\n",
       "      <td>None</td>\n",
       "      <td>None</td>\n",
       "      <td>None</td>\n",
       "      <td>None</td>\n",
       "      <td>None</td>\n",
       "      <td>None</td>\n",
       "    </tr>\n",
       "    <tr>\n",
       "      <th>146</th>\n",
       "      <td>3303</td>\n",
       "      <td>3408</td>\n",
       "      <td>3407</td>\n",
       "      <td>1527</td>\n",
       "      <td>668</td>\n",
       "      <td>984</td>\n",
       "      <td>522</td>\n",
       "      <td>2660</td>\n",
       "      <td>2594</td>\n",
       "      <td>2595</td>\n",
       "      <td>...</td>\n",
       "      <td>None</td>\n",
       "      <td>None</td>\n",
       "      <td>None</td>\n",
       "      <td>None</td>\n",
       "      <td>None</td>\n",
       "      <td>None</td>\n",
       "      <td>None</td>\n",
       "      <td>None</td>\n",
       "      <td>None</td>\n",
       "      <td>None</td>\n",
       "    </tr>\n",
       "    <tr>\n",
       "      <th>147</th>\n",
       "      <td>3175</td>\n",
       "      <td>2761</td>\n",
       "      <td>1519</td>\n",
       "      <td>3756</td>\n",
       "      <td>2518</td>\n",
       "      <td>189</td>\n",
       "      <td>2722</td>\n",
       "      <td>1913</td>\n",
       "      <td>2759</td>\n",
       "      <td>686</td>\n",
       "      <td>...</td>\n",
       "      <td>None</td>\n",
       "      <td>None</td>\n",
       "      <td>None</td>\n",
       "      <td>None</td>\n",
       "      <td>None</td>\n",
       "      <td>None</td>\n",
       "      <td>None</td>\n",
       "      <td>None</td>\n",
       "      <td>None</td>\n",
       "      <td>None</td>\n",
       "    </tr>\n",
       "    <tr>\n",
       "      <th>148</th>\n",
       "      <td>1288</td>\n",
       "      <td>95</td>\n",
       "      <td>3749</td>\n",
       "      <td>2331</td>\n",
       "      <td>2332</td>\n",
       "      <td>1951</td>\n",
       "      <td>214</td>\n",
       "      <td>1572</td>\n",
       "      <td>2115</td>\n",
       "      <td>3747</td>\n",
       "      <td>...</td>\n",
       "      <td>None</td>\n",
       "      <td>None</td>\n",
       "      <td>None</td>\n",
       "      <td>None</td>\n",
       "      <td>None</td>\n",
       "      <td>None</td>\n",
       "      <td>None</td>\n",
       "      <td>None</td>\n",
       "      <td>None</td>\n",
       "      <td>None</td>\n",
       "    </tr>\n",
       "    <tr>\n",
       "      <th>149</th>\n",
       "      <td>1743</td>\n",
       "      <td>2307</td>\n",
       "      <td>3724</td>\n",
       "      <td>1754</td>\n",
       "      <td>1753</td>\n",
       "      <td>1600</td>\n",
       "      <td>3733</td>\n",
       "      <td>1721</td>\n",
       "      <td>3735</td>\n",
       "      <td>2988</td>\n",
       "      <td>...</td>\n",
       "      <td>None</td>\n",
       "      <td>None</td>\n",
       "      <td>None</td>\n",
       "      <td>None</td>\n",
       "      <td>None</td>\n",
       "      <td>None</td>\n",
       "      <td>None</td>\n",
       "      <td>None</td>\n",
       "      <td>None</td>\n",
       "      <td>None</td>\n",
       "    </tr>\n",
       "  </tbody>\n",
       "</table>\n",
       "<p>150 rows × 82 columns</p>\n",
       "</div>"
      ],
      "text/plain": [
       "       0     1     2     3     4     5     6     7     8     9   ...    72  \\\n",
       "0    3869   817  3530  1358  1791  1561  3867  1558  1359  None  ...  None   \n",
       "1    2684   212  2990  1564  2115  1992  2751  1428  2063   540  ...  None   \n",
       "2    1658  3564  3376  1659  1764  1754  3702   412  1722  2667  ...  None   \n",
       "3    3547  2991  3682  1364   741   672  3758  3556  2518  3765  ...  None   \n",
       "4    3303   790  2994  3745  3583   522  3668  2984  2746  3041  ...  None   \n",
       "..    ...   ...   ...   ...   ...   ...   ...   ...   ...   ...  ...   ...   \n",
       "145   705  2236  3088  2562  3216  1927  3219   583  3213  2264  ...  None   \n",
       "146  3303  3408  3407  1527   668   984   522  2660  2594  2595  ...  None   \n",
       "147  3175  2761  1519  3756  2518   189  2722  1913  2759   686  ...  None   \n",
       "148  1288    95  3749  2331  2332  1951   214  1572  2115  3747  ...  None   \n",
       "149  1743  2307  3724  1754  1753  1600  3733  1721  3735  2988  ...  None   \n",
       "\n",
       "       73    74    75    76    77    78    79    80    81  \n",
       "0    None  None  None  None  None  None  None  None  None  \n",
       "1    None  None  None  None  None  None  None  None  None  \n",
       "2    None  None  None  None  None  None  None  None  None  \n",
       "3    None  None  None  None  None  None  None  None  None  \n",
       "4    None  None  None  None  None  None  None  None  None  \n",
       "..    ...   ...   ...   ...   ...   ...   ...   ...   ...  \n",
       "145  None  None  None  None  None  None  None  None  None  \n",
       "146  None  None  None  None  None  None  None  None  None  \n",
       "147  None  None  None  None  None  None  None  None  None  \n",
       "148  None  None  None  None  None  None  None  None  None  \n",
       "149  None  None  None  None  None  None  None  None  None  \n",
       "\n",
       "[150 rows x 82 columns]"
      ]
     },
     "execution_count": 26,
     "metadata": {},
     "output_type": "execute_result"
    }
   ],
   "source": [
    "modified_txn_final_copy = pd.DataFrame(modified_txn_final_copy)\n",
    "modified_txn_final_copy"
   ]
  },
  {
   "cell_type": "code",
   "execution_count": null,
   "metadata": {},
   "outputs": [],
   "source": [
    "item_df_2 = modified_txn_final_copy.copy()\n"
   ]
  },
  {
   "cell_type": "code",
   "execution_count": null,
   "metadata": {},
   "outputs": [
    {
     "data": {
      "text/html": [
       "<div>\n",
       "<style scoped>\n",
       "    .dataframe tbody tr th:only-of-type {\n",
       "        vertical-align: middle;\n",
       "    }\n",
       "\n",
       "    .dataframe tbody tr th {\n",
       "        vertical-align: top;\n",
       "    }\n",
       "\n",
       "    .dataframe thead th {\n",
       "        text-align: right;\n",
       "    }\n",
       "</style>\n",
       "<table border=\"1\" class=\"dataframe\">\n",
       "  <thead>\n",
       "    <tr style=\"text-align: right;\">\n",
       "      <th></th>\n",
       "      <th>1</th>\n",
       "      <th>10</th>\n",
       "      <th>100</th>\n",
       "      <th>1001</th>\n",
       "      <th>1002</th>\n",
       "      <th>1003</th>\n",
       "      <th>1004</th>\n",
       "      <th>1006</th>\n",
       "      <th>1007</th>\n",
       "      <th>101</th>\n",
       "      <th>...</th>\n",
       "      <th>973</th>\n",
       "      <th>975</th>\n",
       "      <th>976</th>\n",
       "      <th>979</th>\n",
       "      <th>98</th>\n",
       "      <th>981</th>\n",
       "      <th>984</th>\n",
       "      <th>992</th>\n",
       "      <th>997</th>\n",
       "      <th>998</th>\n",
       "    </tr>\n",
       "  </thead>\n",
       "  <tbody>\n",
       "    <tr>\n",
       "      <th>0</th>\n",
       "      <td>False</td>\n",
       "      <td>False</td>\n",
       "      <td>False</td>\n",
       "      <td>False</td>\n",
       "      <td>False</td>\n",
       "      <td>False</td>\n",
       "      <td>False</td>\n",
       "      <td>False</td>\n",
       "      <td>False</td>\n",
       "      <td>False</td>\n",
       "      <td>...</td>\n",
       "      <td>False</td>\n",
       "      <td>False</td>\n",
       "      <td>False</td>\n",
       "      <td>False</td>\n",
       "      <td>False</td>\n",
       "      <td>False</td>\n",
       "      <td>False</td>\n",
       "      <td>False</td>\n",
       "      <td>False</td>\n",
       "      <td>False</td>\n",
       "    </tr>\n",
       "    <tr>\n",
       "      <th>1</th>\n",
       "      <td>False</td>\n",
       "      <td>False</td>\n",
       "      <td>False</td>\n",
       "      <td>False</td>\n",
       "      <td>False</td>\n",
       "      <td>False</td>\n",
       "      <td>False</td>\n",
       "      <td>False</td>\n",
       "      <td>False</td>\n",
       "      <td>False</td>\n",
       "      <td>...</td>\n",
       "      <td>False</td>\n",
       "      <td>False</td>\n",
       "      <td>False</td>\n",
       "      <td>False</td>\n",
       "      <td>False</td>\n",
       "      <td>False</td>\n",
       "      <td>False</td>\n",
       "      <td>False</td>\n",
       "      <td>False</td>\n",
       "      <td>False</td>\n",
       "    </tr>\n",
       "    <tr>\n",
       "      <th>2</th>\n",
       "      <td>False</td>\n",
       "      <td>False</td>\n",
       "      <td>False</td>\n",
       "      <td>False</td>\n",
       "      <td>False</td>\n",
       "      <td>False</td>\n",
       "      <td>True</td>\n",
       "      <td>False</td>\n",
       "      <td>False</td>\n",
       "      <td>False</td>\n",
       "      <td>...</td>\n",
       "      <td>False</td>\n",
       "      <td>False</td>\n",
       "      <td>False</td>\n",
       "      <td>False</td>\n",
       "      <td>False</td>\n",
       "      <td>False</td>\n",
       "      <td>False</td>\n",
       "      <td>False</td>\n",
       "      <td>True</td>\n",
       "      <td>False</td>\n",
       "    </tr>\n",
       "    <tr>\n",
       "      <th>3</th>\n",
       "      <td>False</td>\n",
       "      <td>False</td>\n",
       "      <td>False</td>\n",
       "      <td>False</td>\n",
       "      <td>False</td>\n",
       "      <td>False</td>\n",
       "      <td>False</td>\n",
       "      <td>False</td>\n",
       "      <td>False</td>\n",
       "      <td>False</td>\n",
       "      <td>...</td>\n",
       "      <td>False</td>\n",
       "      <td>False</td>\n",
       "      <td>False</td>\n",
       "      <td>False</td>\n",
       "      <td>False</td>\n",
       "      <td>False</td>\n",
       "      <td>False</td>\n",
       "      <td>False</td>\n",
       "      <td>False</td>\n",
       "      <td>False</td>\n",
       "    </tr>\n",
       "    <tr>\n",
       "      <th>4</th>\n",
       "      <td>False</td>\n",
       "      <td>False</td>\n",
       "      <td>False</td>\n",
       "      <td>False</td>\n",
       "      <td>False</td>\n",
       "      <td>False</td>\n",
       "      <td>False</td>\n",
       "      <td>False</td>\n",
       "      <td>False</td>\n",
       "      <td>False</td>\n",
       "      <td>...</td>\n",
       "      <td>False</td>\n",
       "      <td>False</td>\n",
       "      <td>False</td>\n",
       "      <td>False</td>\n",
       "      <td>False</td>\n",
       "      <td>False</td>\n",
       "      <td>False</td>\n",
       "      <td>False</td>\n",
       "      <td>False</td>\n",
       "      <td>False</td>\n",
       "    </tr>\n",
       "  </tbody>\n",
       "</table>\n",
       "<p>5 rows × 1483 columns</p>\n",
       "</div>"
      ],
      "text/plain": [
       "       1     10    100   1001   1002   1003   1004   1006   1007    101  ...  \\\n",
       "0  False  False  False  False  False  False  False  False  False  False  ...   \n",
       "1  False  False  False  False  False  False  False  False  False  False  ...   \n",
       "2  False  False  False  False  False  False   True  False  False  False  ...   \n",
       "3  False  False  False  False  False  False  False  False  False  False  ...   \n",
       "4  False  False  False  False  False  False  False  False  False  False  ...   \n",
       "\n",
       "     973    975    976    979     98    981    984    992    997    998  \n",
       "0  False  False  False  False  False  False  False  False  False  False  \n",
       "1  False  False  False  False  False  False  False  False  False  False  \n",
       "2  False  False  False  False  False  False  False  False   True  False  \n",
       "3  False  False  False  False  False  False  False  False  False  False  \n",
       "4  False  False  False  False  False  False  False  False  False  False  \n",
       "\n",
       "[5 rows x 1483 columns]"
      ]
     },
     "execution_count": 28,
     "metadata": {},
     "output_type": "execute_result"
    }
   ],
   "source": [
    "df_encoded_2 = pd.get_dummies(item_df_2, prefix='', prefix_sep='').groupby(level=0, axis=1).max()\n",
    "df_encoded_2.head()"
   ]
  },
  {
   "cell_type": "code",
   "execution_count": null,
   "metadata": {},
   "outputs": [],
   "source": [
    "df_binary_2 = df_encoded_2.copy()\n",
    "df_binary_2 = df_binary_2.astype('bool').astype('int')"
   ]
  },
  {
   "cell_type": "code",
   "execution_count": null,
   "metadata": {},
   "outputs": [],
   "source": [
    "# # df_binary_1.shape, df_binary_2.shape\n",
    "# # get the lenght of eaach row\n",
    "# print(df_binary_1.shape[1], df_binary_2.shape[1])\n",
    "# print(df_binary_1.sum(axis=1).sum(), df_binary_2.sum(axis=1).sum())\n",
    "# differnce = df_binary_1.shape[1] - df_binary_2.shape[1]\n",
    "# # utility_preservation = df_binary_2.sum(axis=1).sum() / df_binary_1.sum(axis=1).sum()\n",
    "# no_colums_df_1 = df_binary_1.shape[1]\n",
    "# no_colums_df_2 = df_binary_2.shape[1]\n",
    "\n",
    "# utility_preservation = 1 - (no_colums_df_1 - no_colums_df_2) / no_colums_df_1\n",
    "# utility_preservation,differnce\n"
   ]
  },
  {
   "cell_type": "code",
   "execution_count": null,
   "metadata": {},
   "outputs": [
    {
     "data": {
      "text/html": [
       "<div>\n",
       "<style scoped>\n",
       "    .dataframe tbody tr th:only-of-type {\n",
       "        vertical-align: middle;\n",
       "    }\n",
       "\n",
       "    .dataframe tbody tr th {\n",
       "        vertical-align: top;\n",
       "    }\n",
       "\n",
       "    .dataframe thead th {\n",
       "        text-align: right;\n",
       "    }\n",
       "</style>\n",
       "<table border=\"1\" class=\"dataframe\">\n",
       "  <thead>\n",
       "    <tr style=\"text-align: right;\">\n",
       "      <th></th>\n",
       "      <th>0</th>\n",
       "      <th>1</th>\n",
       "      <th>2</th>\n",
       "      <th>3</th>\n",
       "      <th>4</th>\n",
       "      <th>5</th>\n",
       "      <th>6</th>\n",
       "      <th>7</th>\n",
       "      <th>8</th>\n",
       "      <th>9</th>\n",
       "      <th>...</th>\n",
       "      <th>79</th>\n",
       "      <th>80</th>\n",
       "      <th>81</th>\n",
       "      <th>82</th>\n",
       "      <th>83</th>\n",
       "      <th>84</th>\n",
       "      <th>85</th>\n",
       "      <th>86</th>\n",
       "      <th>87</th>\n",
       "      <th>88</th>\n",
       "    </tr>\n",
       "  </thead>\n",
       "  <tbody>\n",
       "    <tr>\n",
       "      <th>0</th>\n",
       "      <td>1358</td>\n",
       "      <td>3869</td>\n",
       "      <td>1561</td>\n",
       "      <td>1558</td>\n",
       "      <td>3867</td>\n",
       "      <td>3530</td>\n",
       "      <td>1791</td>\n",
       "      <td>1359</td>\n",
       "      <td>817</td>\n",
       "      <td>None</td>\n",
       "      <td>...</td>\n",
       "      <td>None</td>\n",
       "      <td>None</td>\n",
       "      <td>None</td>\n",
       "      <td>None</td>\n",
       "      <td>None</td>\n",
       "      <td>None</td>\n",
       "      <td>None</td>\n",
       "      <td>None</td>\n",
       "      <td>None</td>\n",
       "      <td>None</td>\n",
       "    </tr>\n",
       "    <tr>\n",
       "      <th>1</th>\n",
       "      <td>1992</td>\n",
       "      <td>540</td>\n",
       "      <td>2063</td>\n",
       "      <td>1564</td>\n",
       "      <td>212</td>\n",
       "      <td>1019</td>\n",
       "      <td>3784</td>\n",
       "      <td>1428</td>\n",
       "      <td>2115</td>\n",
       "      <td>2183</td>\n",
       "      <td>...</td>\n",
       "      <td>None</td>\n",
       "      <td>None</td>\n",
       "      <td>None</td>\n",
       "      <td>None</td>\n",
       "      <td>None</td>\n",
       "      <td>None</td>\n",
       "      <td>None</td>\n",
       "      <td>None</td>\n",
       "      <td>None</td>\n",
       "      <td>None</td>\n",
       "    </tr>\n",
       "    <tr>\n",
       "      <th>2</th>\n",
       "      <td>1755</td>\n",
       "      <td>2667</td>\n",
       "      <td>1722</td>\n",
       "      <td>2153</td>\n",
       "      <td>1658</td>\n",
       "      <td>412</td>\n",
       "      <td>1764</td>\n",
       "      <td>724</td>\n",
       "      <td>3564</td>\n",
       "      <td>3751</td>\n",
       "      <td>...</td>\n",
       "      <td>None</td>\n",
       "      <td>None</td>\n",
       "      <td>None</td>\n",
       "      <td>None</td>\n",
       "      <td>None</td>\n",
       "      <td>None</td>\n",
       "      <td>None</td>\n",
       "      <td>None</td>\n",
       "      <td>None</td>\n",
       "      <td>None</td>\n",
       "    </tr>\n",
       "    <tr>\n",
       "      <th>3</th>\n",
       "      <td>3547</td>\n",
       "      <td>672</td>\n",
       "      <td>2997</td>\n",
       "      <td>3758</td>\n",
       "      <td>1592</td>\n",
       "      <td>680</td>\n",
       "      <td>2758</td>\n",
       "      <td>1501</td>\n",
       "      <td>2518</td>\n",
       "      <td>3765</td>\n",
       "      <td>...</td>\n",
       "      <td>None</td>\n",
       "      <td>None</td>\n",
       "      <td>None</td>\n",
       "      <td>None</td>\n",
       "      <td>None</td>\n",
       "      <td>None</td>\n",
       "      <td>None</td>\n",
       "      <td>None</td>\n",
       "      <td>None</td>\n",
       "      <td>None</td>\n",
       "    </tr>\n",
       "    <tr>\n",
       "      <th>4</th>\n",
       "      <td>580</td>\n",
       "      <td>2298</td>\n",
       "      <td>3745</td>\n",
       "      <td>104</td>\n",
       "      <td>1422</td>\n",
       "      <td>3303</td>\n",
       "      <td>111</td>\n",
       "      <td>2746</td>\n",
       "      <td>3754</td>\n",
       "      <td>3583</td>\n",
       "      <td>...</td>\n",
       "      <td>None</td>\n",
       "      <td>None</td>\n",
       "      <td>None</td>\n",
       "      <td>None</td>\n",
       "      <td>None</td>\n",
       "      <td>None</td>\n",
       "      <td>None</td>\n",
       "      <td>None</td>\n",
       "      <td>None</td>\n",
       "      <td>None</td>\n",
       "    </tr>\n",
       "    <tr>\n",
       "      <th>...</th>\n",
       "      <td>...</td>\n",
       "      <td>...</td>\n",
       "      <td>...</td>\n",
       "      <td>...</td>\n",
       "      <td>...</td>\n",
       "      <td>...</td>\n",
       "      <td>...</td>\n",
       "      <td>...</td>\n",
       "      <td>...</td>\n",
       "      <td>...</td>\n",
       "      <td>...</td>\n",
       "      <td>...</td>\n",
       "      <td>...</td>\n",
       "      <td>...</td>\n",
       "      <td>...</td>\n",
       "      <td>...</td>\n",
       "      <td>...</td>\n",
       "      <td>...</td>\n",
       "      <td>...</td>\n",
       "      <td>...</td>\n",
       "      <td>...</td>\n",
       "    </tr>\n",
       "    <tr>\n",
       "      <th>145</th>\n",
       "      <td>3219</td>\n",
       "      <td>2236</td>\n",
       "      <td>705</td>\n",
       "      <td>3088</td>\n",
       "      <td>3216</td>\n",
       "      <td>3213</td>\n",
       "      <td>2562</td>\n",
       "      <td>1961</td>\n",
       "      <td>1927</td>\n",
       "      <td>2264</td>\n",
       "      <td>...</td>\n",
       "      <td>None</td>\n",
       "      <td>None</td>\n",
       "      <td>None</td>\n",
       "      <td>None</td>\n",
       "      <td>None</td>\n",
       "      <td>None</td>\n",
       "      <td>None</td>\n",
       "      <td>None</td>\n",
       "      <td>None</td>\n",
       "      <td>None</td>\n",
       "    </tr>\n",
       "    <tr>\n",
       "      <th>146</th>\n",
       "      <td>705</td>\n",
       "      <td>975</td>\n",
       "      <td>2750</td>\n",
       "      <td>2040</td>\n",
       "      <td>2918</td>\n",
       "      <td>2389</td>\n",
       "      <td>3407</td>\n",
       "      <td>3476</td>\n",
       "      <td>2804</td>\n",
       "      <td>2593</td>\n",
       "      <td>...</td>\n",
       "      <td>None</td>\n",
       "      <td>None</td>\n",
       "      <td>None</td>\n",
       "      <td>None</td>\n",
       "      <td>None</td>\n",
       "      <td>None</td>\n",
       "      <td>None</td>\n",
       "      <td>None</td>\n",
       "      <td>None</td>\n",
       "      <td>None</td>\n",
       "    </tr>\n",
       "    <tr>\n",
       "      <th>147</th>\n",
       "      <td>1558</td>\n",
       "      <td>3760</td>\n",
       "      <td>2761</td>\n",
       "      <td>189</td>\n",
       "      <td>1934</td>\n",
       "      <td>2518</td>\n",
       "      <td>3378</td>\n",
       "      <td>1592</td>\n",
       "      <td>2758</td>\n",
       "      <td>3756</td>\n",
       "      <td>...</td>\n",
       "      <td>None</td>\n",
       "      <td>None</td>\n",
       "      <td>None</td>\n",
       "      <td>None</td>\n",
       "      <td>None</td>\n",
       "      <td>None</td>\n",
       "      <td>None</td>\n",
       "      <td>None</td>\n",
       "      <td>None</td>\n",
       "      <td>None</td>\n",
       "    </tr>\n",
       "    <tr>\n",
       "      <th>148</th>\n",
       "      <td>200</td>\n",
       "      <td>95</td>\n",
       "      <td>3594</td>\n",
       "      <td>233</td>\n",
       "      <td>2375</td>\n",
       "      <td>475</td>\n",
       "      <td>1951</td>\n",
       "      <td>93</td>\n",
       "      <td>2115</td>\n",
       "      <td>2613</td>\n",
       "      <td>...</td>\n",
       "      <td>None</td>\n",
       "      <td>None</td>\n",
       "      <td>None</td>\n",
       "      <td>None</td>\n",
       "      <td>None</td>\n",
       "      <td>None</td>\n",
       "      <td>None</td>\n",
       "      <td>None</td>\n",
       "      <td>None</td>\n",
       "      <td>None</td>\n",
       "    </tr>\n",
       "    <tr>\n",
       "      <th>149</th>\n",
       "      <td>3733</td>\n",
       "      <td>2307</td>\n",
       "      <td>3735</td>\n",
       "      <td>123</td>\n",
       "      <td>1755</td>\n",
       "      <td>1600</td>\n",
       "      <td>3072</td>\n",
       "      <td>3071</td>\n",
       "      <td>3095</td>\n",
       "      <td>1721</td>\n",
       "      <td>...</td>\n",
       "      <td>None</td>\n",
       "      <td>None</td>\n",
       "      <td>None</td>\n",
       "      <td>None</td>\n",
       "      <td>None</td>\n",
       "      <td>None</td>\n",
       "      <td>None</td>\n",
       "      <td>None</td>\n",
       "      <td>None</td>\n",
       "      <td>None</td>\n",
       "    </tr>\n",
       "  </tbody>\n",
       "</table>\n",
       "<p>150 rows × 89 columns</p>\n",
       "</div>"
      ],
      "text/plain": [
       "       0     1     2     3     4     5     6     7     8     9   ...    79  \\\n",
       "0    1358  3869  1561  1558  3867  3530  1791  1359   817  None  ...  None   \n",
       "1    1992   540  2063  1564   212  1019  3784  1428  2115  2183  ...  None   \n",
       "2    1755  2667  1722  2153  1658   412  1764   724  3564  3751  ...  None   \n",
       "3    3547   672  2997  3758  1592   680  2758  1501  2518  3765  ...  None   \n",
       "4     580  2298  3745   104  1422  3303   111  2746  3754  3583  ...  None   \n",
       "..    ...   ...   ...   ...   ...   ...   ...   ...   ...   ...  ...   ...   \n",
       "145  3219  2236   705  3088  3216  3213  2562  1961  1927  2264  ...  None   \n",
       "146   705   975  2750  2040  2918  2389  3407  3476  2804  2593  ...  None   \n",
       "147  1558  3760  2761   189  1934  2518  3378  1592  2758  3756  ...  None   \n",
       "148   200    95  3594   233  2375   475  1951    93  2115  2613  ...  None   \n",
       "149  3733  2307  3735   123  1755  1600  3072  3071  3095  1721  ...  None   \n",
       "\n",
       "       80    81    82    83    84    85    86    87    88  \n",
       "0    None  None  None  None  None  None  None  None  None  \n",
       "1    None  None  None  None  None  None  None  None  None  \n",
       "2    None  None  None  None  None  None  None  None  None  \n",
       "3    None  None  None  None  None  None  None  None  None  \n",
       "4    None  None  None  None  None  None  None  None  None  \n",
       "..    ...   ...   ...   ...   ...   ...   ...   ...   ...  \n",
       "145  None  None  None  None  None  None  None  None  None  \n",
       "146  None  None  None  None  None  None  None  None  None  \n",
       "147  None  None  None  None  None  None  None  None  None  \n",
       "148  None  None  None  None  None  None  None  None  None  \n",
       "149  None  None  None  None  None  None  None  None  None  \n",
       "\n",
       "[150 rows x 89 columns]"
      ]
     },
     "execution_count": 31,
     "metadata": {},
     "output_type": "execute_result"
    }
   ],
   "source": [
    "items_df"
   ]
  },
  {
   "cell_type": "code",
   "execution_count": null,
   "metadata": {},
   "outputs": [
    {
     "name": "stdout",
     "output_type": "stream",
     "text": [
      "Association Rules:\n",
      "  antecedents consequents  antecedent support  consequent support   support  \\\n",
      "0      (2808)       (104)            0.053333            0.066667  0.026667   \n",
      "1      (2421)      (1192)            0.053333            0.040000  0.026667   \n",
      "2      (1192)      (2421)            0.040000            0.053333  0.026667   \n",
      "3       (137)       (134)            0.066667            0.040000  0.033333   \n",
      "4       (134)       (137)            0.040000            0.066667  0.033333   \n",
      "\n",
      "   confidence  lift  leverage  conviction  zhangs_metric  \n",
      "0    0.500000   7.5  0.023111    1.866667       0.915493  \n",
      "1    0.500000  12.5  0.024533    1.920000       0.971831  \n",
      "2    0.666667  12.5  0.024533    2.840000       0.958333  \n",
      "3    0.500000  12.5  0.030667    1.920000       0.985714  \n",
      "4    0.833333  12.5  0.030667    5.600000       0.958333  \n"
     ]
    }
   ],
   "source": [
    "from mlxtend.frequent_patterns import apriori, association_rules\n",
    "\n",
    "def mine_association_rules(transactions_df, min_support=0.025, min_confidence=0.5):\n",
    "    \"\"\"\n",
    "    This function encodes the transactions into boolean values, performs association rule mining,\n",
    "    and returns the resulting rules.\n",
    "    \n",
    "    :param transactions_df: DataFrame with transactions where each item is represented in its own column.\n",
    "    :param min_support: The minimum support for an itemset to be considered frequent.\n",
    "    :param min_confidence: The minimum confidence for a rule to be considered.\n",
    "    :return: DataFrame containing the association rules.\n",
    "    \"\"\"\n",
    "    # Convert items to boolean columns\n",
    "    # df_encoded = df_encoded\n",
    "    \n",
    "    # Perform association rule mining\n",
    "    frequent_itemsets = apriori(df_encoded_2, min_support=min_support, use_colnames=True)\n",
    "    rules = association_rules(frequent_itemsets, metric=\"confidence\", min_threshold=min_confidence)\n",
    "    \n",
    "    return rules\n",
    "\n",
    "# Now, use the function and display the association rules\n",
    "rules_after_hidden = mine_association_rules(item_df_2)\n",
    "print(\"Association Rules:\")\n",
    "print(rules_after_hidden.head())"
   ]
  },
  {
   "cell_type": "code",
   "execution_count": null,
   "metadata": {},
   "outputs": [
    {
     "data": {
      "text/plain": [
       "(57, 106)"
      ]
     },
     "execution_count": 33,
     "metadata": {},
     "output_type": "execute_result"
    }
   ],
   "source": [
    "len(rules_after_hidden),len(rules)"
   ]
  },
  {
   "cell_type": "code",
   "execution_count": null,
   "metadata": {},
   "outputs": [],
   "source": [
    "# print(df_binary_1.shape[1], df_binary_2.shape[1])\n",
    "# print(df_binary_1.sum(axis=1).sum(), df_binary_2.sum(axis=1).sum())\n",
    "# differnce = df_binary_1.shape[1] - df_binary_2.shape[1]\n",
    "# # utility_preservation = df_binary_2.sum(axis=1).sum() / df_binary_1.sum(axis=1).sum()\n",
    "# no_colums_df_1 = df_binary_1.shape[1]\n",
    "# no_colums_df_2 = df_binary_2.shape[1]\n",
    "\n",
    "# utility_preservation = 1 - (no_colums_df_1 - no_colums_df_2) / no_colums_df_1\n",
    "# print(\"no of rules before hidden\",len(rules))\n",
    "# print(\"no of rules after hidden\",len(rules_after_hidden))\n",
    "# print(\"utility_preservation\",utility_preservation)\n",
    "# print(\"differnce\",differnce)\n"
   ]
  },
  {
   "cell_type": "code",
   "execution_count": null,
   "metadata": {},
   "outputs": [],
   "source": [
    "sorted_rules_df_2 = rules_after_hidden.sort_values(by=['confidence', 'lift'], ascending=False)"
   ]
  },
  {
   "cell_type": "code",
   "execution_count": null,
   "metadata": {},
   "outputs": [],
   "source": [
    "# Convert 'antecedents' and 'consequents' to frozenset for both dataframes\n",
    "sorted_rules_df['antecedents'] = sorted_rules_df['antecedents'].apply(frozenset)\n",
    "sorted_rules_df['consequents'] = sorted_rules_df['consequents'].apply(frozenset)\n",
    "sorted_rules_df_2['antecedents'] = sorted_rules_df_2['antecedents'].apply(frozenset)\n",
    "sorted_rules_df_2['consequents'] = sorted_rules_df_2['consequents'].apply(frozenset)\n"
   ]
  },
  {
   "cell_type": "code",
   "execution_count": null,
   "metadata": {},
   "outputs": [],
   "source": [
    "\n",
    "# Merge both dataframes to find common entries\n",
    "common_entries = pd.merge(sorted_rules_df, sorted_rules_df_2, on=['antecedents', 'consequents'])\n",
    "\n",
    "# Find entries unique to sorted_rules_df\n",
    "unique_sorted_rules_df = sorted_rules_df[~sorted_rules_df[['antecedents', 'consequents']].apply(frozenset, axis=1).isin(\n",
    "    sorted_rules_df_2[['antecedents', 'consequents']].apply(frozenset, axis=1))]\n",
    "\n",
    "# Find entries unique to sorted_rules_df_2\n",
    "unique_sorted_rules_df_2 = sorted_rules_df_2[~sorted_rules_df_2[['antecedents', 'consequents']].apply(frozenset, axis=1).isin(\n",
    "    sorted_rules_df[['antecedents', 'consequents']].apply(frozenset, axis=1))]\n",
    "\n",
    "# compare the rules in the unique_sorted_rules_df_2 and rules_to_hide_df and get their data like support, confidence, lift\n",
    "\n",
    "hidden_rules_data_df = pd.merge(common_entries, rules_to_hide_df, on=['antecedents', 'consequents'])\n",
    "\n",
    "\n"
   ]
  },
  {
   "cell_type": "code",
   "execution_count": null,
   "metadata": {},
   "outputs": [
    {
     "data": {
      "text/html": [
       "<div>\n",
       "<style scoped>\n",
       "    .dataframe tbody tr th:only-of-type {\n",
       "        vertical-align: middle;\n",
       "    }\n",
       "\n",
       "    .dataframe tbody tr th {\n",
       "        vertical-align: top;\n",
       "    }\n",
       "\n",
       "    .dataframe thead th {\n",
       "        text-align: right;\n",
       "    }\n",
       "</style>\n",
       "<table border=\"1\" class=\"dataframe\">\n",
       "  <thead>\n",
       "    <tr style=\"text-align: right;\">\n",
       "      <th></th>\n",
       "      <th>antecedents</th>\n",
       "      <th>consequents</th>\n",
       "      <th>antecedent support_x</th>\n",
       "      <th>consequent support_x</th>\n",
       "      <th>support_x</th>\n",
       "      <th>confidence_x</th>\n",
       "      <th>lift_x</th>\n",
       "      <th>leverage_x</th>\n",
       "      <th>conviction_x</th>\n",
       "      <th>zhangs_metric_x</th>\n",
       "      <th>antecedent support_y</th>\n",
       "      <th>consequent support_y</th>\n",
       "      <th>support_y</th>\n",
       "      <th>confidence_y</th>\n",
       "      <th>lift_y</th>\n",
       "      <th>leverage_y</th>\n",
       "      <th>conviction_y</th>\n",
       "      <th>zhangs_metric_y</th>\n",
       "    </tr>\n",
       "  </thead>\n",
       "  <tbody>\n",
       "  </tbody>\n",
       "</table>\n",
       "</div>"
      ],
      "text/plain": [
       "Empty DataFrame\n",
       "Columns: [antecedents, consequents, antecedent support_x, consequent support_x, support_x, confidence_x, lift_x, leverage_x, conviction_x, zhangs_metric_x, antecedent support_y, consequent support_y, support_y, confidence_y, lift_y, leverage_y, conviction_y, zhangs_metric_y]\n",
       "Index: []"
      ]
     },
     "execution_count": 49,
     "metadata": {},
     "output_type": "execute_result"
    }
   ],
   "source": [
    "hidden_rules_data_df"
   ]
  },
  {
   "cell_type": "code",
   "execution_count": null,
   "metadata": {},
   "outputs": [
    {
     "name": "stdout",
     "output_type": "stream",
     "text": [
      "shapes before and after (150, 1486) (150, 1483)\n",
      "no of rules before hidden 106\n",
      "no of rules after hidden 57\n",
      "rules lost ratio 53.77358490566038\n",
      "difference in total items in each row 100\n",
      "utility_preservation 0.968324358568261\n",
      "differnce in rules 49\n",
      "Hidden rules presnt after hiding 0\n"
     ]
    }
   ],
   "source": [
    "\n",
    "\n",
    "print(\"shapes before and after\",df_binary_1.shape, df_binary_2.shape)\n",
    "# print(df_binary_1.sum(axis=1).sum(), df_binary_2.sum(axis=1).sum())\n",
    "\n",
    "# utility_preservation = df_binary_2.sum(axis=1).sum() / df_binary_1.sum(axis=1).sum()\n",
    "no_colums_df_1 = df_binary_1.shape[1]\n",
    "no_colums_df_2 = df_binary_2.shape[1]\n",
    "\n",
    "# difference in lengths of each rows and its sum\n",
    "diff = 0\n",
    "for i in range(df_binary_1.shape[0]):\n",
    "    diff += abs(df_binary_1.iloc[i].sum() - df_binary_2.iloc[i].sum())\n",
    "\n",
    "total = 0\n",
    "for i in range(df_binary_1.shape[0]):\n",
    "    total += df_binary_1.iloc[i].sum()\n",
    "    \n",
    "\n",
    "utility_preservation = 1 - (diff / total)\n",
    "print(\"no of rules before hidden\",len(rules))\n",
    "print(\"no of rules after hidden\",len(rules_after_hidden))\n",
    "print(\"rules lost ratio\",(len(rules_after_hidden) / len(rules)) * 100)\n",
    "print(\"difference in total items in each row\",diff)\n",
    "print(\"utility_preservation\",utility_preservation)\n",
    "print(\"differnce in rules\",len(rules) - len(rules_after_hidden))\n",
    "print(\"Hidden rules presnt after hiding\",len(hidden_rules_data_df))\n"
   ]
  },
  {
   "cell_type": "code",
   "execution_count": null,
   "metadata": {},
   "outputs": [
    {
     "data": {
      "text/html": [
       "<div>\n",
       "<style scoped>\n",
       "    .dataframe tbody tr th:only-of-type {\n",
       "        vertical-align: middle;\n",
       "    }\n",
       "\n",
       "    .dataframe tbody tr th {\n",
       "        vertical-align: top;\n",
       "    }\n",
       "\n",
       "    .dataframe thead th {\n",
       "        text-align: right;\n",
       "    }\n",
       "</style>\n",
       "<table border=\"1\" class=\"dataframe\">\n",
       "  <thead>\n",
       "    <tr style=\"text-align: right;\">\n",
       "      <th></th>\n",
       "      <th>antecedents</th>\n",
       "      <th>consequents</th>\n",
       "      <th>antecedent support</th>\n",
       "      <th>consequent support</th>\n",
       "      <th>support</th>\n",
       "      <th>confidence</th>\n",
       "      <th>lift</th>\n",
       "      <th>leverage</th>\n",
       "      <th>conviction</th>\n",
       "      <th>zhangs_metric</th>\n",
       "    </tr>\n",
       "  </thead>\n",
       "  <tbody>\n",
       "  </tbody>\n",
       "</table>\n",
       "</div>"
      ],
      "text/plain": [
       "Empty DataFrame\n",
       "Columns: [antecedents, consequents, antecedent support, consequent support, support, confidence, lift, leverage, conviction, zhangs_metric]\n",
       "Index: []"
      ]
     },
     "execution_count": 38,
     "metadata": {},
     "output_type": "execute_result"
    }
   ],
   "source": [
    "hidden_rules_data_df"
   ]
  },
  {
   "cell_type": "code",
   "execution_count": null,
   "metadata": {},
   "outputs": [
    {
     "data": {
      "application/vnd.plotly.v1+json": {
       "config": {
        "plotlyServerURL": "https://plot.ly"
       },
       "data": [
        {
         "marker": {
          "color": "red",
          "opacity": 0.5,
          "size": 5
         },
         "mode": "markers",
         "name": "Common",
         "type": "scatter3d",
         "x": [
          0.02666666666666667,
          0.02666666666666667,
          0.04,
          0.03333333333333333,
          0.03333333333333333,
          0.03333333333333333,
          0.03333333333333333,
          0.03333333333333333,
          0.03333333333333333,
          0.03333333333333333,
          0.03333333333333333,
          0.03333333333333333,
          0.02666666666666667,
          0.02666666666666667,
          0.02666666666666667,
          0.02666666666666667,
          0.02666666666666667,
          0.02666666666666667,
          0.03333333333333333,
          0.03333333333333333,
          0.03333333333333333,
          0.03333333333333333,
          0.02666666666666667,
          0.02666666666666667,
          0.02666666666666667,
          0.02666666666666667,
          0.02666666666666667,
          0.02666666666666667,
          0.02666666666666667,
          0.02666666666666667,
          0.02666666666666667,
          0.02666666666666667,
          0.02666666666666667,
          0.02666666666666667,
          0.04,
          0.04,
          0.03333333333333333,
          0.03333333333333333,
          0.03333333333333333,
          0.03333333333333333,
          0.02666666666666667,
          0.02666666666666667,
          0.02666666666666667,
          0.03333333333333333,
          0.03333333333333333,
          0.03333333333333333,
          0.03333333333333333,
          0.04,
          0.02666666666666667,
          0.03333333333333333,
          0.02666666666666667,
          0.02666666666666667,
          0.02666666666666667,
          0.02666666666666667,
          0.02666666666666667,
          0.02666666666666667,
          0.02666666666666667
         ],
         "y": [
          1,
          1,
          0.8571428571428571,
          0.8333333333333333,
          0.8333333333333333,
          0.8333333333333333,
          0.8333333333333333,
          0.8333333333333333,
          0.8333333333333333,
          0.8333333333333333,
          0.8333333333333333,
          0.8333333333333333,
          0.8,
          0.8,
          0.8,
          0.8,
          0.8,
          0.8,
          0.7142857142857142,
          0.7142857142857142,
          0.7142857142857142,
          0.7142857142857142,
          0.6666666666666667,
          0.6666666666666667,
          0.6666666666666667,
          0.6666666666666667,
          0.6666666666666667,
          0.6666666666666667,
          0.6666666666666667,
          0.6666666666666667,
          0.6666666666666667,
          0.6666666666666667,
          0.6666666666666667,
          0.6666666666666667,
          0.6666666666666667,
          0.6666666666666667,
          0.625,
          0.625,
          0.625,
          0.625,
          0.5714285714285714,
          0.5714285714285714,
          0.5714285714285714,
          0.5555555555555556,
          0.5555555555555556,
          0.5555555555555556,
          0.5555555555555556,
          0.5454545454545454,
          0.5,
          0.5,
          0.5,
          0.5,
          0.5,
          0.5,
          0.5,
          0.5,
          0.5
         ],
         "z": [
          8.823529411764707,
          8.823529411764707,
          7.563025210084033,
          20.833333333333332,
          20.833333333333332,
          17.857142857142854,
          15.624999999999998,
          13.888888888888888,
          13.888888888888888,
          12.499999999999998,
          7.352941176470588,
          7.352941176470588,
          24,
          24,
          20,
          12,
          7.058823529411765,
          7.058823529411765,
          17.857142857142854,
          13.39285714285714,
          11.904761904761903,
          6.302521008403361,
          20.000000000000004,
          16.666666666666668,
          16.666666666666668,
          16.666666666666668,
          16.666666666666668,
          14.285714285714286,
          14.285714285714286,
          12.5,
          12.5,
          12.5,
          12.5,
          12.5,
          9.090909090909092,
          5.882352941176472,
          15.625,
          13.392857142857142,
          10.416666666666668,
          5.514705882352941,
          14.285714285714285,
          14.285714285714285,
          10.714285714285714,
          13.88888888888889,
          13.88888888888889,
          11.904761904761905,
          10.416666666666666,
          9.09090909090909,
          12.5,
          12.5,
          12.5,
          12.5,
          12.5,
          12.5,
          10.714285714285714,
          7.5,
          7.5
         ]
        },
        {
         "marker": {
          "color": "blue",
          "opacity": 0.5,
          "size": 5
         },
         "mode": "markers",
         "name": "hidden",
         "type": "scatter3d",
         "x": [
          0.02666666666666667,
          0.02666666666666667,
          0.03333333333333333,
          0.03333333333333333,
          0.02666666666666667,
          0.02666666666666667,
          0.02666666666666667,
          0.02666666666666667,
          0.02666666666666667,
          0.02666666666666667,
          0.02666666666666667,
          0.02666666666666667,
          0.04,
          0.04,
          0.02666666666666667,
          0.04666666666666667,
          0.04666666666666667,
          0.04,
          0.04,
          0.02666666666666667,
          0.02666666666666667,
          0.02666666666666667,
          0.02666666666666667,
          0.04,
          0.04,
          0.04,
          0.04,
          0.02666666666666667,
          0.02666666666666667,
          0.02666666666666667,
          0.02666666666666667,
          0.02666666666666667,
          0.02666666666666667,
          0.04,
          0.02666666666666667,
          0.02666666666666667,
          0.02666666666666667,
          0.02666666666666667,
          0.02666666666666667,
          0.02666666666666667,
          0.02666666666666667,
          0.02666666666666667,
          0.02666666666666667,
          0.02666666666666667,
          0.02666666666666667,
          0.02666666666666667,
          0.02666666666666667,
          0.02666666666666667,
          0.02666666666666667
         ],
         "y": [
          1,
          1,
          1,
          1,
          1,
          1,
          1,
          1,
          1,
          1,
          1,
          1,
          1,
          1,
          1,
          0.875,
          0.875,
          0.8571428571428571,
          0.8571428571428571,
          0.8,
          0.8,
          0.8,
          0.8,
          0.75,
          0.75,
          0.75,
          0.75,
          0.6666666666666667,
          0.6666666666666667,
          0.6666666666666667,
          0.6666666666666667,
          0.6666666666666667,
          0.6666666666666667,
          0.6,
          0.5714285714285714,
          0.5714285714285714,
          0.5714285714285714,
          0.5714285714285714,
          0.5,
          0.5,
          0.5,
          0.5,
          0.5,
          0.5,
          0.5,
          0.5,
          0.5,
          0.5,
          0.5
         ],
         "z": [
          37.5,
          37.5,
          30,
          30,
          30,
          30,
          25,
          25,
          21.428571428571427,
          21.428571428571427,
          18.75,
          18.75,
          18.75,
          18.75,
          9.375,
          16.40625,
          16.40625,
          12.857142857142856,
          7.563025210084033,
          30,
          30,
          15,
          15,
          18.75,
          18.75,
          6.61764705882353,
          6.61764705882353,
          25,
          25,
          14.285714285714286,
          12.5,
          6.25,
          6.25,
          12.857142857142856,
          21.428571428571427,
          21.428571428571427,
          14.285714285714285,
          10.714285714285714,
          18.75,
          18.75,
          15,
          15,
          12.5,
          10.714285714285714,
          9.375,
          9.375,
          9.375,
          9.375,
          4.6875
         ]
        },
        {
         "marker": {
          "color": "green",
          "opacity": 0.5,
          "size": 5
         },
         "mode": "markers",
         "name": "df_2",
         "type": "scatter3d",
         "x": [],
         "y": [],
         "z": []
        }
       ],
       "layout": {
        "margin": {
         "b": 0,
         "l": 0,
         "r": 0,
         "t": 0
        },
        "scene": {
         "xaxis": {
          "title": {
           "text": "Support"
          }
         },
         "yaxis": {
          "title": {
           "text": "Confidence"
          }
         },
         "zaxis": {
          "title": {
           "text": "Lift"
          }
         }
        },
        "template": {
         "data": {
          "bar": [
           {
            "error_x": {
             "color": "#2a3f5f"
            },
            "error_y": {
             "color": "#2a3f5f"
            },
            "marker": {
             "line": {
              "color": "#E5ECF6",
              "width": 0.5
             },
             "pattern": {
              "fillmode": "overlay",
              "size": 10,
              "solidity": 0.2
             }
            },
            "type": "bar"
           }
          ],
          "barpolar": [
           {
            "marker": {
             "line": {
              "color": "#E5ECF6",
              "width": 0.5
             },
             "pattern": {
              "fillmode": "overlay",
              "size": 10,
              "solidity": 0.2
             }
            },
            "type": "barpolar"
           }
          ],
          "carpet": [
           {
            "aaxis": {
             "endlinecolor": "#2a3f5f",
             "gridcolor": "white",
             "linecolor": "white",
             "minorgridcolor": "white",
             "startlinecolor": "#2a3f5f"
            },
            "baxis": {
             "endlinecolor": "#2a3f5f",
             "gridcolor": "white",
             "linecolor": "white",
             "minorgridcolor": "white",
             "startlinecolor": "#2a3f5f"
            },
            "type": "carpet"
           }
          ],
          "choropleth": [
           {
            "colorbar": {
             "outlinewidth": 0,
             "ticks": ""
            },
            "type": "choropleth"
           }
          ],
          "contour": [
           {
            "colorbar": {
             "outlinewidth": 0,
             "ticks": ""
            },
            "colorscale": [
             [
              0,
              "#0d0887"
             ],
             [
              0.1111111111111111,
              "#46039f"
             ],
             [
              0.2222222222222222,
              "#7201a8"
             ],
             [
              0.3333333333333333,
              "#9c179e"
             ],
             [
              0.4444444444444444,
              "#bd3786"
             ],
             [
              0.5555555555555556,
              "#d8576b"
             ],
             [
              0.6666666666666666,
              "#ed7953"
             ],
             [
              0.7777777777777778,
              "#fb9f3a"
             ],
             [
              0.8888888888888888,
              "#fdca26"
             ],
             [
              1,
              "#f0f921"
             ]
            ],
            "type": "contour"
           }
          ],
          "contourcarpet": [
           {
            "colorbar": {
             "outlinewidth": 0,
             "ticks": ""
            },
            "type": "contourcarpet"
           }
          ],
          "heatmap": [
           {
            "colorbar": {
             "outlinewidth": 0,
             "ticks": ""
            },
            "colorscale": [
             [
              0,
              "#0d0887"
             ],
             [
              0.1111111111111111,
              "#46039f"
             ],
             [
              0.2222222222222222,
              "#7201a8"
             ],
             [
              0.3333333333333333,
              "#9c179e"
             ],
             [
              0.4444444444444444,
              "#bd3786"
             ],
             [
              0.5555555555555556,
              "#d8576b"
             ],
             [
              0.6666666666666666,
              "#ed7953"
             ],
             [
              0.7777777777777778,
              "#fb9f3a"
             ],
             [
              0.8888888888888888,
              "#fdca26"
             ],
             [
              1,
              "#f0f921"
             ]
            ],
            "type": "heatmap"
           }
          ],
          "heatmapgl": [
           {
            "colorbar": {
             "outlinewidth": 0,
             "ticks": ""
            },
            "colorscale": [
             [
              0,
              "#0d0887"
             ],
             [
              0.1111111111111111,
              "#46039f"
             ],
             [
              0.2222222222222222,
              "#7201a8"
             ],
             [
              0.3333333333333333,
              "#9c179e"
             ],
             [
              0.4444444444444444,
              "#bd3786"
             ],
             [
              0.5555555555555556,
              "#d8576b"
             ],
             [
              0.6666666666666666,
              "#ed7953"
             ],
             [
              0.7777777777777778,
              "#fb9f3a"
             ],
             [
              0.8888888888888888,
              "#fdca26"
             ],
             [
              1,
              "#f0f921"
             ]
            ],
            "type": "heatmapgl"
           }
          ],
          "histogram": [
           {
            "marker": {
             "pattern": {
              "fillmode": "overlay",
              "size": 10,
              "solidity": 0.2
             }
            },
            "type": "histogram"
           }
          ],
          "histogram2d": [
           {
            "colorbar": {
             "outlinewidth": 0,
             "ticks": ""
            },
            "colorscale": [
             [
              0,
              "#0d0887"
             ],
             [
              0.1111111111111111,
              "#46039f"
             ],
             [
              0.2222222222222222,
              "#7201a8"
             ],
             [
              0.3333333333333333,
              "#9c179e"
             ],
             [
              0.4444444444444444,
              "#bd3786"
             ],
             [
              0.5555555555555556,
              "#d8576b"
             ],
             [
              0.6666666666666666,
              "#ed7953"
             ],
             [
              0.7777777777777778,
              "#fb9f3a"
             ],
             [
              0.8888888888888888,
              "#fdca26"
             ],
             [
              1,
              "#f0f921"
             ]
            ],
            "type": "histogram2d"
           }
          ],
          "histogram2dcontour": [
           {
            "colorbar": {
             "outlinewidth": 0,
             "ticks": ""
            },
            "colorscale": [
             [
              0,
              "#0d0887"
             ],
             [
              0.1111111111111111,
              "#46039f"
             ],
             [
              0.2222222222222222,
              "#7201a8"
             ],
             [
              0.3333333333333333,
              "#9c179e"
             ],
             [
              0.4444444444444444,
              "#bd3786"
             ],
             [
              0.5555555555555556,
              "#d8576b"
             ],
             [
              0.6666666666666666,
              "#ed7953"
             ],
             [
              0.7777777777777778,
              "#fb9f3a"
             ],
             [
              0.8888888888888888,
              "#fdca26"
             ],
             [
              1,
              "#f0f921"
             ]
            ],
            "type": "histogram2dcontour"
           }
          ],
          "mesh3d": [
           {
            "colorbar": {
             "outlinewidth": 0,
             "ticks": ""
            },
            "type": "mesh3d"
           }
          ],
          "parcoords": [
           {
            "line": {
             "colorbar": {
              "outlinewidth": 0,
              "ticks": ""
             }
            },
            "type": "parcoords"
           }
          ],
          "pie": [
           {
            "automargin": true,
            "type": "pie"
           }
          ],
          "scatter": [
           {
            "fillpattern": {
             "fillmode": "overlay",
             "size": 10,
             "solidity": 0.2
            },
            "type": "scatter"
           }
          ],
          "scatter3d": [
           {
            "line": {
             "colorbar": {
              "outlinewidth": 0,
              "ticks": ""
             }
            },
            "marker": {
             "colorbar": {
              "outlinewidth": 0,
              "ticks": ""
             }
            },
            "type": "scatter3d"
           }
          ],
          "scattercarpet": [
           {
            "marker": {
             "colorbar": {
              "outlinewidth": 0,
              "ticks": ""
             }
            },
            "type": "scattercarpet"
           }
          ],
          "scattergeo": [
           {
            "marker": {
             "colorbar": {
              "outlinewidth": 0,
              "ticks": ""
             }
            },
            "type": "scattergeo"
           }
          ],
          "scattergl": [
           {
            "marker": {
             "colorbar": {
              "outlinewidth": 0,
              "ticks": ""
             }
            },
            "type": "scattergl"
           }
          ],
          "scattermapbox": [
           {
            "marker": {
             "colorbar": {
              "outlinewidth": 0,
              "ticks": ""
             }
            },
            "type": "scattermapbox"
           }
          ],
          "scatterpolar": [
           {
            "marker": {
             "colorbar": {
              "outlinewidth": 0,
              "ticks": ""
             }
            },
            "type": "scatterpolar"
           }
          ],
          "scatterpolargl": [
           {
            "marker": {
             "colorbar": {
              "outlinewidth": 0,
              "ticks": ""
             }
            },
            "type": "scatterpolargl"
           }
          ],
          "scatterternary": [
           {
            "marker": {
             "colorbar": {
              "outlinewidth": 0,
              "ticks": ""
             }
            },
            "type": "scatterternary"
           }
          ],
          "surface": [
           {
            "colorbar": {
             "outlinewidth": 0,
             "ticks": ""
            },
            "colorscale": [
             [
              0,
              "#0d0887"
             ],
             [
              0.1111111111111111,
              "#46039f"
             ],
             [
              0.2222222222222222,
              "#7201a8"
             ],
             [
              0.3333333333333333,
              "#9c179e"
             ],
             [
              0.4444444444444444,
              "#bd3786"
             ],
             [
              0.5555555555555556,
              "#d8576b"
             ],
             [
              0.6666666666666666,
              "#ed7953"
             ],
             [
              0.7777777777777778,
              "#fb9f3a"
             ],
             [
              0.8888888888888888,
              "#fdca26"
             ],
             [
              1,
              "#f0f921"
             ]
            ],
            "type": "surface"
           }
          ],
          "table": [
           {
            "cells": {
             "fill": {
              "color": "#EBF0F8"
             },
             "line": {
              "color": "white"
             }
            },
            "header": {
             "fill": {
              "color": "#C8D4E3"
             },
             "line": {
              "color": "white"
             }
            },
            "type": "table"
           }
          ]
         },
         "layout": {
          "annotationdefaults": {
           "arrowcolor": "#2a3f5f",
           "arrowhead": 0,
           "arrowwidth": 1
          },
          "autotypenumbers": "strict",
          "coloraxis": {
           "colorbar": {
            "outlinewidth": 0,
            "ticks": ""
           }
          },
          "colorscale": {
           "diverging": [
            [
             0,
             "#8e0152"
            ],
            [
             0.1,
             "#c51b7d"
            ],
            [
             0.2,
             "#de77ae"
            ],
            [
             0.3,
             "#f1b6da"
            ],
            [
             0.4,
             "#fde0ef"
            ],
            [
             0.5,
             "#f7f7f7"
            ],
            [
             0.6,
             "#e6f5d0"
            ],
            [
             0.7,
             "#b8e186"
            ],
            [
             0.8,
             "#7fbc41"
            ],
            [
             0.9,
             "#4d9221"
            ],
            [
             1,
             "#276419"
            ]
           ],
           "sequential": [
            [
             0,
             "#0d0887"
            ],
            [
             0.1111111111111111,
             "#46039f"
            ],
            [
             0.2222222222222222,
             "#7201a8"
            ],
            [
             0.3333333333333333,
             "#9c179e"
            ],
            [
             0.4444444444444444,
             "#bd3786"
            ],
            [
             0.5555555555555556,
             "#d8576b"
            ],
            [
             0.6666666666666666,
             "#ed7953"
            ],
            [
             0.7777777777777778,
             "#fb9f3a"
            ],
            [
             0.8888888888888888,
             "#fdca26"
            ],
            [
             1,
             "#f0f921"
            ]
           ],
           "sequentialminus": [
            [
             0,
             "#0d0887"
            ],
            [
             0.1111111111111111,
             "#46039f"
            ],
            [
             0.2222222222222222,
             "#7201a8"
            ],
            [
             0.3333333333333333,
             "#9c179e"
            ],
            [
             0.4444444444444444,
             "#bd3786"
            ],
            [
             0.5555555555555556,
             "#d8576b"
            ],
            [
             0.6666666666666666,
             "#ed7953"
            ],
            [
             0.7777777777777778,
             "#fb9f3a"
            ],
            [
             0.8888888888888888,
             "#fdca26"
            ],
            [
             1,
             "#f0f921"
            ]
           ]
          },
          "colorway": [
           "#636efa",
           "#EF553B",
           "#00cc96",
           "#ab63fa",
           "#FFA15A",
           "#19d3f3",
           "#FF6692",
           "#B6E880",
           "#FF97FF",
           "#FECB52"
          ],
          "font": {
           "color": "#2a3f5f"
          },
          "geo": {
           "bgcolor": "white",
           "lakecolor": "white",
           "landcolor": "#E5ECF6",
           "showlakes": true,
           "showland": true,
           "subunitcolor": "white"
          },
          "hoverlabel": {
           "align": "left"
          },
          "hovermode": "closest",
          "mapbox": {
           "style": "light"
          },
          "paper_bgcolor": "white",
          "plot_bgcolor": "#E5ECF6",
          "polar": {
           "angularaxis": {
            "gridcolor": "white",
            "linecolor": "white",
            "ticks": ""
           },
           "bgcolor": "#E5ECF6",
           "radialaxis": {
            "gridcolor": "white",
            "linecolor": "white",
            "ticks": ""
           }
          },
          "scene": {
           "xaxis": {
            "backgroundcolor": "#E5ECF6",
            "gridcolor": "white",
            "gridwidth": 2,
            "linecolor": "white",
            "showbackground": true,
            "ticks": "",
            "zerolinecolor": "white"
           },
           "yaxis": {
            "backgroundcolor": "#E5ECF6",
            "gridcolor": "white",
            "gridwidth": 2,
            "linecolor": "white",
            "showbackground": true,
            "ticks": "",
            "zerolinecolor": "white"
           },
           "zaxis": {
            "backgroundcolor": "#E5ECF6",
            "gridcolor": "white",
            "gridwidth": 2,
            "linecolor": "white",
            "showbackground": true,
            "ticks": "",
            "zerolinecolor": "white"
           }
          },
          "shapedefaults": {
           "line": {
            "color": "#2a3f5f"
           }
          },
          "ternary": {
           "aaxis": {
            "gridcolor": "white",
            "linecolor": "white",
            "ticks": ""
           },
           "baxis": {
            "gridcolor": "white",
            "linecolor": "white",
            "ticks": ""
           },
           "bgcolor": "#E5ECF6",
           "caxis": {
            "gridcolor": "white",
            "linecolor": "white",
            "ticks": ""
           }
          },
          "title": {
           "x": 0.05
          },
          "xaxis": {
           "automargin": true,
           "gridcolor": "white",
           "linecolor": "white",
           "ticks": "",
           "title": {
            "standoff": 15
           },
           "zerolinecolor": "white",
           "zerolinewidth": 2
          },
          "yaxis": {
           "automargin": true,
           "gridcolor": "white",
           "linecolor": "white",
           "ticks": "",
           "title": {
            "standoff": 15
           },
           "zerolinecolor": "white",
           "zerolinewidth": 2
          }
         }
        },
        "title": {
         "text": "3D Scatter Plot of Association Rules"
        }
       }
      },
      "text/html": [
       "<div>                            <div id=\"dd66af18-f9a8-4ce1-a6ce-ecdfc2a9e063\" class=\"plotly-graph-div\" style=\"height:525px; width:100%;\"></div>            <script type=\"text/javascript\">                require([\"plotly\"], function(Plotly) {                    window.PLOTLYENV=window.PLOTLYENV || {};                                    if (document.getElementById(\"dd66af18-f9a8-4ce1-a6ce-ecdfc2a9e063\")) {                    Plotly.newPlot(                        \"dd66af18-f9a8-4ce1-a6ce-ecdfc2a9e063\",                        [{\"marker\":{\"color\":\"red\",\"opacity\":0.5,\"size\":5},\"mode\":\"markers\",\"name\":\"Common\",\"x\":[0.02666666666666667,0.02666666666666667,0.04,0.03333333333333333,0.03333333333333333,0.03333333333333333,0.03333333333333333,0.03333333333333333,0.03333333333333333,0.03333333333333333,0.03333333333333333,0.03333333333333333,0.02666666666666667,0.02666666666666667,0.02666666666666667,0.02666666666666667,0.02666666666666667,0.02666666666666667,0.03333333333333333,0.03333333333333333,0.03333333333333333,0.03333333333333333,0.02666666666666667,0.02666666666666667,0.02666666666666667,0.02666666666666667,0.02666666666666667,0.02666666666666667,0.02666666666666667,0.02666666666666667,0.02666666666666667,0.02666666666666667,0.02666666666666667,0.02666666666666667,0.04,0.04,0.03333333333333333,0.03333333333333333,0.03333333333333333,0.03333333333333333,0.02666666666666667,0.02666666666666667,0.02666666666666667,0.03333333333333333,0.03333333333333333,0.03333333333333333,0.03333333333333333,0.04,0.02666666666666667,0.03333333333333333,0.02666666666666667,0.02666666666666667,0.02666666666666667,0.02666666666666667,0.02666666666666667,0.02666666666666667,0.02666666666666667],\"y\":[1.0,1.0,0.8571428571428571,0.8333333333333333,0.8333333333333333,0.8333333333333333,0.8333333333333333,0.8333333333333333,0.8333333333333333,0.8333333333333333,0.8333333333333333,0.8333333333333333,0.8,0.8,0.8,0.8,0.8,0.8,0.7142857142857142,0.7142857142857142,0.7142857142857142,0.7142857142857142,0.6666666666666667,0.6666666666666667,0.6666666666666667,0.6666666666666667,0.6666666666666667,0.6666666666666667,0.6666666666666667,0.6666666666666667,0.6666666666666667,0.6666666666666667,0.6666666666666667,0.6666666666666667,0.6666666666666667,0.6666666666666667,0.625,0.625,0.625,0.625,0.5714285714285714,0.5714285714285714,0.5714285714285714,0.5555555555555556,0.5555555555555556,0.5555555555555556,0.5555555555555556,0.5454545454545454,0.5,0.5,0.5,0.5,0.5,0.5,0.5,0.5,0.5],\"z\":[8.823529411764707,8.823529411764707,7.563025210084033,20.833333333333332,20.833333333333332,17.857142857142854,15.624999999999998,13.888888888888888,13.888888888888888,12.499999999999998,7.352941176470588,7.352941176470588,24.0,24.0,20.0,12.0,7.058823529411765,7.058823529411765,17.857142857142854,13.39285714285714,11.904761904761903,6.302521008403361,20.000000000000004,16.666666666666668,16.666666666666668,16.666666666666668,16.666666666666668,14.285714285714286,14.285714285714286,12.5,12.5,12.5,12.5,12.5,9.090909090909092,5.882352941176472,15.625,13.392857142857142,10.416666666666668,5.514705882352941,14.285714285714285,14.285714285714285,10.714285714285714,13.88888888888889,13.88888888888889,11.904761904761905,10.416666666666666,9.09090909090909,12.5,12.5,12.5,12.5,12.5,12.5,10.714285714285714,7.5,7.5],\"type\":\"scatter3d\"},{\"marker\":{\"color\":\"blue\",\"opacity\":0.5,\"size\":5},\"mode\":\"markers\",\"name\":\"hidden\",\"x\":[0.02666666666666667,0.02666666666666667,0.03333333333333333,0.03333333333333333,0.02666666666666667,0.02666666666666667,0.02666666666666667,0.02666666666666667,0.02666666666666667,0.02666666666666667,0.02666666666666667,0.02666666666666667,0.04,0.04,0.02666666666666667,0.04666666666666667,0.04666666666666667,0.04,0.04,0.02666666666666667,0.02666666666666667,0.02666666666666667,0.02666666666666667,0.04,0.04,0.04,0.04,0.02666666666666667,0.02666666666666667,0.02666666666666667,0.02666666666666667,0.02666666666666667,0.02666666666666667,0.04,0.02666666666666667,0.02666666666666667,0.02666666666666667,0.02666666666666667,0.02666666666666667,0.02666666666666667,0.02666666666666667,0.02666666666666667,0.02666666666666667,0.02666666666666667,0.02666666666666667,0.02666666666666667,0.02666666666666667,0.02666666666666667,0.02666666666666667],\"y\":[1.0,1.0,1.0,1.0,1.0,1.0,1.0,1.0,1.0,1.0,1.0,1.0,1.0,1.0,1.0,0.875,0.875,0.8571428571428571,0.8571428571428571,0.8,0.8,0.8,0.8,0.75,0.75,0.75,0.75,0.6666666666666667,0.6666666666666667,0.6666666666666667,0.6666666666666667,0.6666666666666667,0.6666666666666667,0.6,0.5714285714285714,0.5714285714285714,0.5714285714285714,0.5714285714285714,0.5,0.5,0.5,0.5,0.5,0.5,0.5,0.5,0.5,0.5,0.5],\"z\":[37.5,37.5,30.0,30.0,30.0,30.0,25.0,25.0,21.428571428571427,21.428571428571427,18.75,18.75,18.75,18.75,9.375,16.40625,16.40625,12.857142857142856,7.563025210084033,30.0,30.0,15.0,15.0,18.75,18.75,6.61764705882353,6.61764705882353,25.0,25.0,14.285714285714286,12.5,6.25,6.25,12.857142857142856,21.428571428571427,21.428571428571427,14.285714285714285,10.714285714285714,18.75,18.75,15.0,15.0,12.5,10.714285714285714,9.375,9.375,9.375,9.375,4.6875],\"type\":\"scatter3d\"},{\"marker\":{\"color\":\"green\",\"opacity\":0.5,\"size\":5},\"mode\":\"markers\",\"name\":\"df_2\",\"x\":[],\"y\":[],\"z\":[],\"type\":\"scatter3d\"}],                        {\"template\":{\"data\":{\"histogram2dcontour\":[{\"type\":\"histogram2dcontour\",\"colorbar\":{\"outlinewidth\":0,\"ticks\":\"\"},\"colorscale\":[[0.0,\"#0d0887\"],[0.1111111111111111,\"#46039f\"],[0.2222222222222222,\"#7201a8\"],[0.3333333333333333,\"#9c179e\"],[0.4444444444444444,\"#bd3786\"],[0.5555555555555556,\"#d8576b\"],[0.6666666666666666,\"#ed7953\"],[0.7777777777777778,\"#fb9f3a\"],[0.8888888888888888,\"#fdca26\"],[1.0,\"#f0f921\"]]}],\"choropleth\":[{\"type\":\"choropleth\",\"colorbar\":{\"outlinewidth\":0,\"ticks\":\"\"}}],\"histogram2d\":[{\"type\":\"histogram2d\",\"colorbar\":{\"outlinewidth\":0,\"ticks\":\"\"},\"colorscale\":[[0.0,\"#0d0887\"],[0.1111111111111111,\"#46039f\"],[0.2222222222222222,\"#7201a8\"],[0.3333333333333333,\"#9c179e\"],[0.4444444444444444,\"#bd3786\"],[0.5555555555555556,\"#d8576b\"],[0.6666666666666666,\"#ed7953\"],[0.7777777777777778,\"#fb9f3a\"],[0.8888888888888888,\"#fdca26\"],[1.0,\"#f0f921\"]]}],\"heatmap\":[{\"type\":\"heatmap\",\"colorbar\":{\"outlinewidth\":0,\"ticks\":\"\"},\"colorscale\":[[0.0,\"#0d0887\"],[0.1111111111111111,\"#46039f\"],[0.2222222222222222,\"#7201a8\"],[0.3333333333333333,\"#9c179e\"],[0.4444444444444444,\"#bd3786\"],[0.5555555555555556,\"#d8576b\"],[0.6666666666666666,\"#ed7953\"],[0.7777777777777778,\"#fb9f3a\"],[0.8888888888888888,\"#fdca26\"],[1.0,\"#f0f921\"]]}],\"heatmapgl\":[{\"type\":\"heatmapgl\",\"colorbar\":{\"outlinewidth\":0,\"ticks\":\"\"},\"colorscale\":[[0.0,\"#0d0887\"],[0.1111111111111111,\"#46039f\"],[0.2222222222222222,\"#7201a8\"],[0.3333333333333333,\"#9c179e\"],[0.4444444444444444,\"#bd3786\"],[0.5555555555555556,\"#d8576b\"],[0.6666666666666666,\"#ed7953\"],[0.7777777777777778,\"#fb9f3a\"],[0.8888888888888888,\"#fdca26\"],[1.0,\"#f0f921\"]]}],\"contourcarpet\":[{\"type\":\"contourcarpet\",\"colorbar\":{\"outlinewidth\":0,\"ticks\":\"\"}}],\"contour\":[{\"type\":\"contour\",\"colorbar\":{\"outlinewidth\":0,\"ticks\":\"\"},\"colorscale\":[[0.0,\"#0d0887\"],[0.1111111111111111,\"#46039f\"],[0.2222222222222222,\"#7201a8\"],[0.3333333333333333,\"#9c179e\"],[0.4444444444444444,\"#bd3786\"],[0.5555555555555556,\"#d8576b\"],[0.6666666666666666,\"#ed7953\"],[0.7777777777777778,\"#fb9f3a\"],[0.8888888888888888,\"#fdca26\"],[1.0,\"#f0f921\"]]}],\"surface\":[{\"type\":\"surface\",\"colorbar\":{\"outlinewidth\":0,\"ticks\":\"\"},\"colorscale\":[[0.0,\"#0d0887\"],[0.1111111111111111,\"#46039f\"],[0.2222222222222222,\"#7201a8\"],[0.3333333333333333,\"#9c179e\"],[0.4444444444444444,\"#bd3786\"],[0.5555555555555556,\"#d8576b\"],[0.6666666666666666,\"#ed7953\"],[0.7777777777777778,\"#fb9f3a\"],[0.8888888888888888,\"#fdca26\"],[1.0,\"#f0f921\"]]}],\"mesh3d\":[{\"type\":\"mesh3d\",\"colorbar\":{\"outlinewidth\":0,\"ticks\":\"\"}}],\"scatter\":[{\"fillpattern\":{\"fillmode\":\"overlay\",\"size\":10,\"solidity\":0.2},\"type\":\"scatter\"}],\"parcoords\":[{\"type\":\"parcoords\",\"line\":{\"colorbar\":{\"outlinewidth\":0,\"ticks\":\"\"}}}],\"scatterpolargl\":[{\"type\":\"scatterpolargl\",\"marker\":{\"colorbar\":{\"outlinewidth\":0,\"ticks\":\"\"}}}],\"bar\":[{\"error_x\":{\"color\":\"#2a3f5f\"},\"error_y\":{\"color\":\"#2a3f5f\"},\"marker\":{\"line\":{\"color\":\"#E5ECF6\",\"width\":0.5},\"pattern\":{\"fillmode\":\"overlay\",\"size\":10,\"solidity\":0.2}},\"type\":\"bar\"}],\"scattergeo\":[{\"type\":\"scattergeo\",\"marker\":{\"colorbar\":{\"outlinewidth\":0,\"ticks\":\"\"}}}],\"scatterpolar\":[{\"type\":\"scatterpolar\",\"marker\":{\"colorbar\":{\"outlinewidth\":0,\"ticks\":\"\"}}}],\"histogram\":[{\"marker\":{\"pattern\":{\"fillmode\":\"overlay\",\"size\":10,\"solidity\":0.2}},\"type\":\"histogram\"}],\"scattergl\":[{\"type\":\"scattergl\",\"marker\":{\"colorbar\":{\"outlinewidth\":0,\"ticks\":\"\"}}}],\"scatter3d\":[{\"type\":\"scatter3d\",\"line\":{\"colorbar\":{\"outlinewidth\":0,\"ticks\":\"\"}},\"marker\":{\"colorbar\":{\"outlinewidth\":0,\"ticks\":\"\"}}}],\"scattermapbox\":[{\"type\":\"scattermapbox\",\"marker\":{\"colorbar\":{\"outlinewidth\":0,\"ticks\":\"\"}}}],\"scatterternary\":[{\"type\":\"scatterternary\",\"marker\":{\"colorbar\":{\"outlinewidth\":0,\"ticks\":\"\"}}}],\"scattercarpet\":[{\"type\":\"scattercarpet\",\"marker\":{\"colorbar\":{\"outlinewidth\":0,\"ticks\":\"\"}}}],\"carpet\":[{\"aaxis\":{\"endlinecolor\":\"#2a3f5f\",\"gridcolor\":\"white\",\"linecolor\":\"white\",\"minorgridcolor\":\"white\",\"startlinecolor\":\"#2a3f5f\"},\"baxis\":{\"endlinecolor\":\"#2a3f5f\",\"gridcolor\":\"white\",\"linecolor\":\"white\",\"minorgridcolor\":\"white\",\"startlinecolor\":\"#2a3f5f\"},\"type\":\"carpet\"}],\"table\":[{\"cells\":{\"fill\":{\"color\":\"#EBF0F8\"},\"line\":{\"color\":\"white\"}},\"header\":{\"fill\":{\"color\":\"#C8D4E3\"},\"line\":{\"color\":\"white\"}},\"type\":\"table\"}],\"barpolar\":[{\"marker\":{\"line\":{\"color\":\"#E5ECF6\",\"width\":0.5},\"pattern\":{\"fillmode\":\"overlay\",\"size\":10,\"solidity\":0.2}},\"type\":\"barpolar\"}],\"pie\":[{\"automargin\":true,\"type\":\"pie\"}]},\"layout\":{\"autotypenumbers\":\"strict\",\"colorway\":[\"#636efa\",\"#EF553B\",\"#00cc96\",\"#ab63fa\",\"#FFA15A\",\"#19d3f3\",\"#FF6692\",\"#B6E880\",\"#FF97FF\",\"#FECB52\"],\"font\":{\"color\":\"#2a3f5f\"},\"hovermode\":\"closest\",\"hoverlabel\":{\"align\":\"left\"},\"paper_bgcolor\":\"white\",\"plot_bgcolor\":\"#E5ECF6\",\"polar\":{\"bgcolor\":\"#E5ECF6\",\"angularaxis\":{\"gridcolor\":\"white\",\"linecolor\":\"white\",\"ticks\":\"\"},\"radialaxis\":{\"gridcolor\":\"white\",\"linecolor\":\"white\",\"ticks\":\"\"}},\"ternary\":{\"bgcolor\":\"#E5ECF6\",\"aaxis\":{\"gridcolor\":\"white\",\"linecolor\":\"white\",\"ticks\":\"\"},\"baxis\":{\"gridcolor\":\"white\",\"linecolor\":\"white\",\"ticks\":\"\"},\"caxis\":{\"gridcolor\":\"white\",\"linecolor\":\"white\",\"ticks\":\"\"}},\"coloraxis\":{\"colorbar\":{\"outlinewidth\":0,\"ticks\":\"\"}},\"colorscale\":{\"sequential\":[[0.0,\"#0d0887\"],[0.1111111111111111,\"#46039f\"],[0.2222222222222222,\"#7201a8\"],[0.3333333333333333,\"#9c179e\"],[0.4444444444444444,\"#bd3786\"],[0.5555555555555556,\"#d8576b\"],[0.6666666666666666,\"#ed7953\"],[0.7777777777777778,\"#fb9f3a\"],[0.8888888888888888,\"#fdca26\"],[1.0,\"#f0f921\"]],\"sequentialminus\":[[0.0,\"#0d0887\"],[0.1111111111111111,\"#46039f\"],[0.2222222222222222,\"#7201a8\"],[0.3333333333333333,\"#9c179e\"],[0.4444444444444444,\"#bd3786\"],[0.5555555555555556,\"#d8576b\"],[0.6666666666666666,\"#ed7953\"],[0.7777777777777778,\"#fb9f3a\"],[0.8888888888888888,\"#fdca26\"],[1.0,\"#f0f921\"]],\"diverging\":[[0,\"#8e0152\"],[0.1,\"#c51b7d\"],[0.2,\"#de77ae\"],[0.3,\"#f1b6da\"],[0.4,\"#fde0ef\"],[0.5,\"#f7f7f7\"],[0.6,\"#e6f5d0\"],[0.7,\"#b8e186\"],[0.8,\"#7fbc41\"],[0.9,\"#4d9221\"],[1,\"#276419\"]]},\"xaxis\":{\"gridcolor\":\"white\",\"linecolor\":\"white\",\"ticks\":\"\",\"title\":{\"standoff\":15},\"zerolinecolor\":\"white\",\"automargin\":true,\"zerolinewidth\":2},\"yaxis\":{\"gridcolor\":\"white\",\"linecolor\":\"white\",\"ticks\":\"\",\"title\":{\"standoff\":15},\"zerolinecolor\":\"white\",\"automargin\":true,\"zerolinewidth\":2},\"scene\":{\"xaxis\":{\"backgroundcolor\":\"#E5ECF6\",\"gridcolor\":\"white\",\"linecolor\":\"white\",\"showbackground\":true,\"ticks\":\"\",\"zerolinecolor\":\"white\",\"gridwidth\":2},\"yaxis\":{\"backgroundcolor\":\"#E5ECF6\",\"gridcolor\":\"white\",\"linecolor\":\"white\",\"showbackground\":true,\"ticks\":\"\",\"zerolinecolor\":\"white\",\"gridwidth\":2},\"zaxis\":{\"backgroundcolor\":\"#E5ECF6\",\"gridcolor\":\"white\",\"linecolor\":\"white\",\"showbackground\":true,\"ticks\":\"\",\"zerolinecolor\":\"white\",\"gridwidth\":2}},\"shapedefaults\":{\"line\":{\"color\":\"#2a3f5f\"}},\"annotationdefaults\":{\"arrowcolor\":\"#2a3f5f\",\"arrowhead\":0,\"arrowwidth\":1},\"geo\":{\"bgcolor\":\"white\",\"landcolor\":\"#E5ECF6\",\"subunitcolor\":\"white\",\"showland\":true,\"showlakes\":true,\"lakecolor\":\"white\"},\"title\":{\"x\":0.05},\"mapbox\":{\"style\":\"light\"}}},\"margin\":{\"l\":0,\"r\":0,\"b\":0,\"t\":0},\"title\":{\"text\":\"3D Scatter Plot of Association Rules\"},\"scene\":{\"xaxis\":{\"title\":{\"text\":\"Support\"}},\"yaxis\":{\"title\":{\"text\":\"Confidence\"}},\"zaxis\":{\"title\":{\"text\":\"Lift\"}}}},                        {\"responsive\": true}                    ).then(function(){\n",
       "                            \n",
       "var gd = document.getElementById('dd66af18-f9a8-4ce1-a6ce-ecdfc2a9e063');\n",
       "var x = new MutationObserver(function (mutations, observer) {{\n",
       "        var display = window.getComputedStyle(gd).display;\n",
       "        if (!display || display === 'none') {{\n",
       "            console.log([gd, 'removed!']);\n",
       "            Plotly.purge(gd);\n",
       "            observer.disconnect();\n",
       "        }}\n",
       "}});\n",
       "\n",
       "// Listen for the removal of the full notebook cells\n",
       "var notebookContainer = gd.closest('#notebook-container');\n",
       "if (notebookContainer) {{\n",
       "    x.observe(notebookContainer, {childList: true});\n",
       "}}\n",
       "\n",
       "// Listen for the clearing of the current output cell\n",
       "var outputEl = gd.closest('.output');\n",
       "if (outputEl) {{\n",
       "    x.observe(outputEl, {childList: true});\n",
       "}}\n",
       "\n",
       "                        })                };                });            </script>        </div>"
      ]
     },
     "metadata": {},
     "output_type": "display_data"
    }
   ],
   "source": [
    "import plotly.graph_objects as go\n",
    "\n",
    "# Initialize the 3D scatter plot\n",
    "fig = go.Figure()\n",
    "\n",
    "# Add the common entries scatter plot\n",
    "fig.add_trace(go.Scatter3d(\n",
    "    x=common_entries['support_x'],\n",
    "    y=common_entries['confidence_x'],\n",
    "    z=common_entries['lift_x'],\n",
    "    mode='markers',\n",
    "    marker=dict(size=5, color='red', opacity=0.5),\n",
    "    name='Common'\n",
    "))\n",
    "\n",
    "# Add the unique to sorted_rules_df scatter plot\n",
    "fig.add_trace(go.Scatter3d(\n",
    "    x=unique_sorted_rules_df['support'],\n",
    "    y=unique_sorted_rules_df['confidence'],\n",
    "    z=unique_sorted_rules_df['lift'],\n",
    "    mode='markers',\n",
    "    marker=dict(size=5, color='blue', opacity=0.5),\n",
    "    name='hidden'\n",
    "))\n",
    "\n",
    "# Add the unique to sorted_rules_df_2 scatter plot\n",
    "fig.add_trace(go.Scatter3d(\n",
    "    x=unique_sorted_rules_df_2['support'],\n",
    "    y=unique_sorted_rules_df_2['confidence'],\n",
    "    z=unique_sorted_rules_df_2['lift'],\n",
    "    mode='markers',\n",
    "    marker=dict(size=5, color='green', opacity=0.5),\n",
    "    name='df_2'\n",
    "))\n",
    "\n",
    "# Set the layout for the plot\n",
    "fig.update_layout(\n",
    "    title='3D Scatter Plot of Association Rules',\n",
    "    scene=dict(\n",
    "        xaxis_title='Support',\n",
    "        yaxis_title='Confidence',\n",
    "        zaxis_title='Lift'\n",
    "    ),\n",
    "    margin=dict(l=0, r=0, b=0, t=0)\n",
    ")\n",
    "\n",
    "# Show the plot\n",
    "fig.show()\n"
   ]
  },
  {
   "cell_type": "code",
   "execution_count": null,
   "metadata": {},
   "outputs": [
    {
     "data": {
      "image/png": "[encoded data removed]",
      "text/plain": [
       "<Figure size 1000x600 with 1 Axes>"
      ]
     },
     "metadata": {},
     "output_type": "display_data"
    }
   ],
   "source": [
    "# Plotting the number of rules found for different support levels and confidence levels\n",
    "\n",
    "import numpy as np\n",
    "import matplotlib.pyplot as plt\n",
    "from mlxtend.frequent_patterns import apriori, association_rules\n",
    "\n",
    "# Assuming df_binary_1 and df_binary_2 are your dataframes with binary encoded data\n",
    "\n",
    "# Define a range of minimum support values and confidence levels\n",
    "min_support_values = [0.025]\n",
    "confidence_levels = np.arange(0.5, 1.0, 0.1)\n",
    "\n",
    "# Initialize dictionaries to store the number of rules for each dataframe\n",
    "rules_count_1 = {s: [] for s in min_support_values}\n",
    "rules_count_2 = {s: [] for s in min_support_values}\n",
    "\n",
    "# Function to compute rules\n",
    "def compute_rules(df_binary, rules_count):\n",
    "    for min_support in min_support_values:\n",
    "        # Apply the Apriori algorithm to find frequent itemsets\n",
    "        frequent_itemsets = apriori(df_binary, min_support=min_support, use_colnames=True)\n",
    "\n",
    "        for conf in confidence_levels:\n",
    "            # Generate association rules\n",
    "            rules = association_rules(frequent_itemsets, metric=\"confidence\", min_threshold=conf)\n",
    "            # Count the number of rules\n",
    "            rules_count[min_support].append(len(rules))\n",
    "\n",
    "# Compute rules for both dataframes\n",
    "compute_rules(df_binary_1, rules_count_1)\n",
    "compute_rules(df_binary_2, rules_count_2)\n",
    "\n",
    "# Plotting the results on the same graph\n",
    "plt.figure(figsize=(10, 6))\n",
    "\n",
    "for min_support, counts in rules_count_1.items():\n",
    "    plt.plot(confidence_levels, counts, marker='o', label=f'DF1 Support {min_support*100}%')\n",
    "\n",
    "for min_support, counts in rules_count_2.items():\n",
    "    plt.plot(confidence_levels, counts, marker='^', label=f'DF2 Support {min_support*100}%')\n",
    "\n",
    "plt.title('Apriori algorithm with different support levels for two datasets')\n",
    "plt.xlabel('Confidence levels')\n",
    "plt.ylabel('Number of rules found')\n",
    "plt.xticks(confidence_levels)\n",
    "plt.legend()\n",
    "plt.grid(True)\n",
    "plt.show()\n"
   ]
  },
  {
   "cell_type": "code",
   "execution_count": null,
   "metadata": {},
   "outputs": [
    {
     "name": "stdout",
     "output_type": "stream",
     "text": [
      "597\n"
     ]
    },
    {
     "data": {
      "text/plain": [
       "44.309701492537314"
      ]
     },
     "execution_count": 154,
     "metadata": {},
     "output_type": "execute_result"
    }
   ],
   "source": [
    "# utiltiy function\n",
    "print(len(unique_sorted_rules_df))\n",
    "utility = 1 - (len(unique_sorted_rules_df)/len(rules))\n",
    "utility*100"
   ]
  },
  {
   "cell_type": "code",
   "execution_count": null,
   "metadata": {},
   "outputs": [
    {
     "data": {
      "text/plain": [
       "48"
      ]
     },
     "execution_count": 94,
     "metadata": {},
     "output_type": "execute_result"
    }
   ],
   "source": [
    "# no of rules hidden\n",
    "len(unique_sorted_rules_df)"
   ]
  },
  {
   "cell_type": "code",
   "execution_count": null,
   "metadata": {},
   "outputs": [
    {
     "data": {
      "text/plain": [
       "0"
      ]
     },
     "execution_count": 149,
     "metadata": {},
     "output_type": "execute_result"
    }
   ],
   "source": [
    "# new rules\n",
    "len(unique_sorted_rules_df_2)"
   ]
  },
  {
   "cell_type": "code",
   "execution_count": null,
   "metadata": {},
   "outputs": [
    {
     "data": {
      "text/plain": [
       "0.006711409395973256"
      ]
     },
     "execution_count": 150,
     "metadata": {},
     "output_type": "execute_result"
    }
   ],
   "source": [
    "\n",
    "\n"
   ]
  },
  {
   "cell_type": "code",
   "execution_count": null,
   "metadata": {},
   "outputs": [
    {
     "data": {
      "text/plain": [
       "597"
      ]
     },
     "execution_count": 151,
     "metadata": {},
     "output_type": "execute_result"
    }
   ],
   "source": [
    "len(rules)-len(rules_after_hidden)"
   ]
  },
  {
   "cell_type": "code",
   "execution_count": null,
   "metadata": {},
   "outputs": [],
   "source": [
    "rules_after_hiding= rules_after_hidden.copy()"
   ]
  },
  {
   "cell_type": "code",
   "execution_count": null,
   "metadata": {},
   "outputs": [
    {
     "data": {
      "application/vnd.plotly.v1+json": {
       "config": {
        "plotlyServerURL": "https://plot.ly"
       },
       "data": [
        {
         "customdata": [
          [
           "2808",
           "104"
          ],
          [
           "2421",
           "1192"
          ],
          [
           "1192",
           "2421"
          ],
          [
           "133",
           "134"
          ],
          [
           "134",
           "133"
          ],
          [
           "136",
           "133"
          ],
          [
           "133",
           "136"
          ],
          [
           "133",
           "137"
          ],
          [
           "137",
           "133"
          ],
          [
           "137",
           "134"
          ],
          [
           "134",
           "137"
          ],
          [
           "1358",
           "1359"
          ],
          [
           "1359",
           "1358"
          ],
          [
           "3709",
           "137"
          ],
          [
           "2006",
           "1377"
          ],
          [
           "1377",
           "2006"
          ],
          [
           "1377",
           "828"
          ],
          [
           "828",
           "1377"
          ],
          [
           "1501",
           "2758"
          ],
          [
           "2856",
           "1501"
          ],
          [
           "1501",
           "2856"
          ],
          [
           "1532",
           "2571"
          ],
          [
           "2571",
           "1532"
          ],
          [
           "1532",
           "302"
          ],
          [
           "302",
           "1532"
          ],
          [
           "726",
           "1532"
          ],
          [
           "1532",
           "726"
          ],
          [
           "1532",
           "828"
          ],
          [
           "828",
           "1532"
          ],
          [
           "1600",
           "1599"
          ],
          [
           "1599",
           "1600"
          ],
          [
           "828",
           "1648"
          ],
          [
           "1648",
           "828"
          ],
          [
           "1653",
           "828"
          ],
          [
           "828",
           "1653"
          ],
          [
           "1659",
           "1919"
          ],
          [
           "1919",
           "1659"
          ],
          [
           "1659",
           "519"
          ],
          [
           "519",
           "1659"
          ],
          [
           "186",
           "172"
          ],
          [
           "172",
           "186"
          ],
          [
           "1743",
           "1755"
          ],
          [
           "1753",
           "1755"
          ],
          [
           "1754",
           "1755"
          ],
          [
           "1756",
           "1755"
          ],
          [
           "1764",
           "1755"
          ],
          [
           "1765",
           "1755"
          ],
          [
           "1766",
           "1755"
          ],
          [
           "1768",
           "1755"
          ],
          [
           "1935",
           "1755"
          ],
          [
           "2667",
           "1755"
          ],
          [
           "1776",
           "3148"
          ],
          [
           "3148",
           "1776"
          ],
          [
           "1937",
           "1927"
          ],
          [
           "1927",
           "1937"
          ],
          [
           "1927",
           "1939"
          ],
          [
           "1939",
           "1927"
          ],
          [
           "1928",
           "1942"
          ],
          [
           "1942",
           "1928"
          ],
          [
           "1932",
           "1939"
          ],
          [
           "1939",
           "1932"
          ],
          [
           "1937",
           "1934"
          ],
          [
           "1934",
           "1937"
          ],
          [
           "1934",
           "1939"
          ],
          [
           "1939",
           "1934"
          ],
          [
           "1937",
           "668"
          ],
          [
           "668",
           "1937"
          ],
          [
           "2093",
           "3445"
          ],
          [
           "3445",
           "2093"
          ],
          [
           "2150",
           "828"
          ],
          [
           "828",
           "2150"
          ],
          [
           "2189",
           "773"
          ],
          [
           "773",
           "2189"
          ],
          [
           "2312",
           "2307"
          ],
          [
           "2421",
           "2437"
          ],
          [
           "2437",
           "2421"
          ],
          [
           "2571",
           "3846"
          ],
          [
           "3846",
           "2571"
          ],
          [
           "260",
           "2804"
          ],
          [
           "2804",
           "260"
          ],
          [
           "2670",
           "432"
          ],
          [
           "432",
           "2670"
          ],
          [
           "2690",
           "3694"
          ],
          [
           "2856",
           "2758"
          ],
          [
           "2992",
           "3694"
          ],
          [
           "3067",
           "3694"
          ],
          [
           "3090",
           "3093"
          ],
          [
           "3093",
           "3090"
          ],
          [
           "3237",
           "3251"
          ],
          [
           "3251",
           "3237"
          ],
          [
           "3308",
           "984"
          ],
          [
           "984",
           "3308"
          ],
          [
           "3660",
           "828"
          ],
          [
           "828",
           "3660"
          ],
          [
           "587",
           "3694"
          ],
          [
           "3742",
           "3756"
          ],
          [
           "3756",
           "3742"
          ],
          [
           "3760",
           "3756"
          ],
          [
           "3756",
           "3760"
          ],
          [
           "731",
           "732"
          ],
          [
           "732",
           "731"
          ],
          [
           "2856, 2758",
           "1501"
          ],
          [
           "1501, 2758",
           "2856"
          ],
          [
           "2856, 1501",
           "2758"
          ],
          [
           "2856",
           "1501, 2758"
          ],
          [
           "1501",
           "2856, 2758"
          ]
         ],
         "hovertemplate": "Dataset=Before Sanitization<br>support=%{x}<br>confidence=%{y}<br>lift=%{z}<br>antecedents=%{customdata[0]}<br>consequents=%{customdata[1]}<extra></extra>",
         "legendgroup": "Before Sanitization",
         "marker": {
          "color": "#636efa",
          "symbol": "circle"
         },
         "mode": "markers",
         "name": "Before Sanitization",
         "scene": "scene",
         "showlegend": true,
         "type": "scatter3d",
         "x": [
          0.02666666666666667,
          0.02666666666666667,
          0.02666666666666667,
          0.02666666666666667,
          0.02666666666666667,
          0.02666666666666667,
          0.02666666666666667,
          0.04,
          0.04,
          0.03333333333333333,
          0.03333333333333333,
          0.02666666666666667,
          0.02666666666666667,
          0.02666666666666667,
          0.02666666666666667,
          0.02666666666666667,
          0.02666666666666667,
          0.02666666666666667,
          0.04,
          0.04666666666666667,
          0.04666666666666667,
          0.02666666666666667,
          0.02666666666666667,
          0.02666666666666667,
          0.02666666666666667,
          0.03333333333333333,
          0.03333333333333333,
          0.02666666666666667,
          0.02666666666666667,
          0.03333333333333333,
          0.03333333333333333,
          0.02666666666666667,
          0.02666666666666667,
          0.02666666666666667,
          0.02666666666666667,
          0.03333333333333333,
          0.03333333333333333,
          0.02666666666666667,
          0.02666666666666667,
          0.02666666666666667,
          0.02666666666666667,
          0.04,
          0.02666666666666667,
          0.03333333333333333,
          0.02666666666666667,
          0.03333333333333333,
          0.02666666666666667,
          0.03333333333333333,
          0.03333333333333333,
          0.04,
          0.02666666666666667,
          0.03333333333333333,
          0.03333333333333333,
          0.02666666666666667,
          0.02666666666666667,
          0.02666666666666667,
          0.02666666666666667,
          0.03333333333333333,
          0.03333333333333333,
          0.02666666666666667,
          0.02666666666666667,
          0.02666666666666667,
          0.02666666666666667,
          0.03333333333333333,
          0.03333333333333333,
          0.02666666666666667,
          0.02666666666666667,
          0.02666666666666667,
          0.02666666666666667,
          0.02666666666666667,
          0.02666666666666667,
          0.02666666666666667,
          0.02666666666666667,
          0.02666666666666667,
          0.02666666666666667,
          0.02666666666666667,
          0.02666666666666667,
          0.02666666666666667,
          0.04,
          0.04,
          0.03333333333333333,
          0.03333333333333333,
          0.02666666666666667,
          0.04,
          0.02666666666666667,
          0.02666666666666667,
          0.02666666666666667,
          0.02666666666666667,
          0.02666666666666667,
          0.02666666666666667,
          0.02666666666666667,
          0.02666666666666667,
          0.02666666666666667,
          0.02666666666666667,
          0.02666666666666667,
          0.03333333333333333,
          0.03333333333333333,
          0.03333333333333333,
          0.03333333333333333,
          0.02666666666666667,
          0.02666666666666667,
          0.04,
          0.04,
          0.04,
          0.04,
          0.04
         ],
         "y": [
          0.5,
          0.5,
          0.6666666666666667,
          0.5714285714285714,
          0.6666666666666667,
          1,
          0.5714285714285714,
          0.8571428571428571,
          0.6,
          0.5,
          0.8333333333333333,
          1,
          0.6666666666666667,
          0.8,
          0.6666666666666667,
          0.5,
          0.5,
          0.5,
          0.75,
          0.875,
          0.875,
          0.5,
          0.8,
          0.5,
          0.5714285714285714,
          0.8333333333333333,
          0.625,
          0.5,
          0.5,
          0.5555555555555556,
          0.8333333333333333,
          0.5,
          0.5714285714285714,
          0.6666666666666667,
          0.5,
          0.8333333333333333,
          0.8333333333333333,
          0.6666666666666667,
          0.8,
          1,
          0.5,
          0.8571428571428571,
          1,
          0.8333333333333333,
          1,
          0.7142857142857142,
          0.8,
          0.625,
          0.8333333333333333,
          0.6666666666666667,
          0.8,
          1,
          1,
          0.6666666666666667,
          0.6666666666666667,
          0.6666666666666667,
          0.5,
          0.5555555555555556,
          0.8333333333333333,
          0.6666666666666667,
          0.5,
          0.6666666666666667,
          0.5714285714285714,
          0.7142857142857142,
          0.625,
          0.6666666666666667,
          0.6666666666666667,
          0.8,
          0.8,
          0.8,
          0.5,
          1,
          1,
          0.5,
          0.5,
          0.6666666666666667,
          0.8,
          1,
          0.6666666666666667,
          0.5454545454545454,
          0.7142857142857142,
          0.8333333333333333,
          0.6666666666666667,
          0.75,
          0.5,
          0.6666666666666667,
          1,
          0.6666666666666667,
          0.5714285714285714,
          1,
          0.8,
          1,
          1,
          0.5,
          1,
          0.7142857142857142,
          0.5555555555555556,
          0.625,
          0.5555555555555556,
          0.5714285714285714,
          0.6666666666666667,
          1,
          1,
          0.8571428571428571,
          0.75,
          0.75
         ],
         "z": [
          7.5,
          12.5,
          12.5,
          14.285714285714285,
          14.285714285714286,
          21.428571428571427,
          21.428571428571427,
          12.857142857142856,
          12.857142857142856,
          12.5,
          12.499999999999998,
          25,
          25,
          12,
          12.5,
          12.5,
          9.375,
          9.375,
          6.61764705882353,
          16.40625,
          16.40625,
          15,
          15,
          10.714285714285714,
          10.714285714285714,
          15.624999999999998,
          15.625,
          9.375,
          9.375,
          13.88888888888889,
          13.888888888888888,
          10.714285714285714,
          10.714285714285714,
          12.5,
          12.5,
          20.833333333333332,
          20.833333333333332,
          20.000000000000004,
          20,
          18.75,
          18.75,
          7.563025210084033,
          8.823529411764707,
          7.352941176470588,
          8.823529411764707,
          6.302521008403361,
          7.058823529411765,
          5.514705882352941,
          7.352941176470588,
          5.882352941176472,
          7.058823529411765,
          30,
          30,
          16.666666666666668,
          16.666666666666668,
          12.5,
          12.5,
          13.88888888888889,
          13.888888888888888,
          12.5,
          12.5,
          14.285714285714286,
          14.285714285714285,
          13.39285714285714,
          13.392857142857142,
          16.666666666666668,
          16.666666666666668,
          24,
          24,
          15,
          15,
          37.5,
          37.5,
          7.5,
          12.5,
          12.5,
          30,
          30,
          9.090909090909092,
          9.09090909090909,
          17.857142857142854,
          17.857142857142854,
          6.25,
          6.61764705882353,
          4.6875,
          6.25,
          25,
          25,
          21.428571428571427,
          21.428571428571427,
          30,
          30,
          18.75,
          18.75,
          9.375,
          11.904761904761903,
          11.904761904761905,
          10.416666666666668,
          10.416666666666666,
          14.285714285714285,
          14.285714285714286,
          18.75,
          18.75,
          7.563025210084033,
          18.75,
          18.75
         ]
        },
        {
         "customdata": [
          [
           "2808",
           "104"
          ],
          [
           "2421",
           "1192"
          ],
          [
           "1192",
           "2421"
          ],
          [
           "137",
           "134"
          ],
          [
           "134",
           "137"
          ],
          [
           "3709",
           "137"
          ],
          [
           "2006",
           "1377"
          ],
          [
           "1377",
           "2006"
          ],
          [
           "1532",
           "302"
          ],
          [
           "302",
           "1532"
          ],
          [
           "726",
           "1532"
          ],
          [
           "1532",
           "726"
          ],
          [
           "1600",
           "1599"
          ],
          [
           "1599",
           "1600"
          ],
          [
           "1659",
           "1919"
          ],
          [
           "1919",
           "1659"
          ],
          [
           "1659",
           "519"
          ],
          [
           "519",
           "1659"
          ],
          [
           "1743",
           "1755"
          ],
          [
           "1753",
           "1755"
          ],
          [
           "1754",
           "1755"
          ],
          [
           "1756",
           "1755"
          ],
          [
           "1764",
           "1755"
          ],
          [
           "1765",
           "1755"
          ],
          [
           "1766",
           "1755"
          ],
          [
           "1768",
           "1755"
          ],
          [
           "1935",
           "1755"
          ],
          [
           "2667",
           "1755"
          ],
          [
           "1937",
           "1927"
          ],
          [
           "1927",
           "1937"
          ],
          [
           "1927",
           "1939"
          ],
          [
           "1939",
           "1927"
          ],
          [
           "1928",
           "1942"
          ],
          [
           "1942",
           "1928"
          ],
          [
           "1932",
           "1939"
          ],
          [
           "1939",
           "1932"
          ],
          [
           "1937",
           "1934"
          ],
          [
           "1934",
           "1937"
          ],
          [
           "1934",
           "1939"
          ],
          [
           "1939",
           "1934"
          ],
          [
           "1937",
           "668"
          ],
          [
           "668",
           "1937"
          ],
          [
           "2093",
           "3445"
          ],
          [
           "3445",
           "2093"
          ],
          [
           "2312",
           "2307"
          ],
          [
           "2421",
           "2437"
          ],
          [
           "2437",
           "2421"
          ],
          [
           "260",
           "2804"
          ],
          [
           "2804",
           "260"
          ],
          [
           "2670",
           "432"
          ],
          [
           "432",
           "2670"
          ],
          [
           "3742",
           "3756"
          ],
          [
           "3756",
           "3742"
          ],
          [
           "3760",
           "3756"
          ],
          [
           "3756",
           "3760"
          ],
          [
           "731",
           "732"
          ],
          [
           "732",
           "731"
          ]
         ],
         "hovertemplate": "Dataset=After Sanitization<br>support=%{x}<br>confidence=%{y}<br>lift=%{z}<br>antecedents=%{customdata[0]}<br>consequents=%{customdata[1]}<extra></extra>",
         "legendgroup": "After Sanitization",
         "marker": {
          "color": "#EF553B",
          "symbol": "circle"
         },
         "mode": "markers",
         "name": "After Sanitization",
         "scene": "scene",
         "showlegend": true,
         "type": "scatter3d",
         "x": [
          0.02666666666666667,
          0.02666666666666667,
          0.02666666666666667,
          0.03333333333333333,
          0.03333333333333333,
          0.02666666666666667,
          0.02666666666666667,
          0.02666666666666667,
          0.02666666666666667,
          0.02666666666666667,
          0.03333333333333333,
          0.03333333333333333,
          0.03333333333333333,
          0.03333333333333333,
          0.03333333333333333,
          0.03333333333333333,
          0.02666666666666667,
          0.02666666666666667,
          0.04,
          0.02666666666666667,
          0.03333333333333333,
          0.02666666666666667,
          0.03333333333333333,
          0.02666666666666667,
          0.03333333333333333,
          0.03333333333333333,
          0.04,
          0.02666666666666667,
          0.02666666666666667,
          0.02666666666666667,
          0.02666666666666667,
          0.02666666666666667,
          0.03333333333333333,
          0.03333333333333333,
          0.02666666666666667,
          0.02666666666666667,
          0.02666666666666667,
          0.02666666666666667,
          0.03333333333333333,
          0.03333333333333333,
          0.02666666666666667,
          0.02666666666666667,
          0.02666666666666667,
          0.02666666666666667,
          0.02666666666666667,
          0.02666666666666667,
          0.02666666666666667,
          0.04,
          0.04,
          0.03333333333333333,
          0.03333333333333333,
          0.03333333333333333,
          0.03333333333333333,
          0.03333333333333333,
          0.03333333333333333,
          0.02666666666666667,
          0.02666666666666667
         ],
         "y": [
          0.5,
          0.5,
          0.6666666666666667,
          0.5,
          0.8333333333333333,
          0.8,
          0.6666666666666667,
          0.5,
          0.5,
          0.5714285714285714,
          0.8333333333333333,
          0.625,
          0.5555555555555556,
          0.8333333333333333,
          0.8333333333333333,
          0.8333333333333333,
          0.6666666666666667,
          0.8,
          0.8571428571428571,
          1,
          0.8333333333333333,
          1,
          0.7142857142857142,
          0.8,
          0.625,
          0.8333333333333333,
          0.6666666666666667,
          0.8,
          0.6666666666666667,
          0.6666666666666667,
          0.6666666666666667,
          0.5,
          0.5555555555555556,
          0.8333333333333333,
          0.6666666666666667,
          0.5,
          0.6666666666666667,
          0.5714285714285714,
          0.7142857142857142,
          0.625,
          0.6666666666666667,
          0.6666666666666667,
          0.8,
          0.8,
          0.5,
          0.5,
          0.6666666666666667,
          0.6666666666666667,
          0.5454545454545454,
          0.7142857142857142,
          0.8333333333333333,
          0.7142857142857142,
          0.5555555555555556,
          0.625,
          0.5555555555555556,
          0.5714285714285714,
          0.6666666666666667
         ],
         "z": [
          7.5,
          12.5,
          12.5,
          12.5,
          12.499999999999998,
          12,
          12.5,
          12.5,
          10.714285714285714,
          10.714285714285714,
          15.624999999999998,
          15.625,
          13.88888888888889,
          13.888888888888888,
          20.833333333333332,
          20.833333333333332,
          20.000000000000004,
          20,
          7.563025210084033,
          8.823529411764707,
          7.352941176470588,
          8.823529411764707,
          6.302521008403361,
          7.058823529411765,
          5.514705882352941,
          7.352941176470588,
          5.882352941176472,
          7.058823529411765,
          16.666666666666668,
          16.666666666666668,
          12.5,
          12.5,
          13.88888888888889,
          13.888888888888888,
          12.5,
          12.5,
          14.285714285714286,
          14.285714285714285,
          13.39285714285714,
          13.392857142857142,
          16.666666666666668,
          16.666666666666668,
          24,
          24,
          7.5,
          12.5,
          12.5,
          9.090909090909092,
          9.09090909090909,
          17.857142857142854,
          17.857142857142854,
          11.904761904761903,
          11.904761904761905,
          10.416666666666668,
          10.416666666666666,
          14.285714285714285,
          14.285714285714286
         ]
        }
       ],
       "layout": {
        "legend": {
         "title": {
          "text": "Dataset"
         },
         "tracegroupgap": 0
        },
        "margin": {
         "t": 60
        },
        "scene": {
         "domain": {
          "x": [
           0,
           1
          ],
          "y": [
           0,
           1
          ]
         },
         "xaxis": {
          "title": {
           "text": "support"
          }
         },
         "yaxis": {
          "title": {
           "text": "confidence"
          }
         },
         "zaxis": {
          "title": {
           "text": "lift"
          }
         }
        },
        "template": {
         "data": {
          "bar": [
           {
            "error_x": {
             "color": "#2a3f5f"
            },
            "error_y": {
             "color": "#2a3f5f"
            },
            "marker": {
             "line": {
              "color": "#E5ECF6",
              "width": 0.5
             },
             "pattern": {
              "fillmode": "overlay",
              "size": 10,
              "solidity": 0.2
             }
            },
            "type": "bar"
           }
          ],
          "barpolar": [
           {
            "marker": {
             "line": {
              "color": "#E5ECF6",
              "width": 0.5
             },
             "pattern": {
              "fillmode": "overlay",
              "size": 10,
              "solidity": 0.2
             }
            },
            "type": "barpolar"
           }
          ],
          "carpet": [
           {
            "aaxis": {
             "endlinecolor": "#2a3f5f",
             "gridcolor": "white",
             "linecolor": "white",
             "minorgridcolor": "white",
             "startlinecolor": "#2a3f5f"
            },
            "baxis": {
             "endlinecolor": "#2a3f5f",
             "gridcolor": "white",
             "linecolor": "white",
             "minorgridcolor": "white",
             "startlinecolor": "#2a3f5f"
            },
            "type": "carpet"
           }
          ],
          "choropleth": [
           {
            "colorbar": {
             "outlinewidth": 0,
             "ticks": ""
            },
            "type": "choropleth"
           }
          ],
          "contour": [
           {
            "colorbar": {
             "outlinewidth": 0,
             "ticks": ""
            },
            "colorscale": [
             [
              0,
              "#0d0887"
             ],
             [
              0.1111111111111111,
              "#46039f"
             ],
             [
              0.2222222222222222,
              "#7201a8"
             ],
             [
              0.3333333333333333,
              "#9c179e"
             ],
             [
              0.4444444444444444,
              "#bd3786"
             ],
             [
              0.5555555555555556,
              "#d8576b"
             ],
             [
              0.6666666666666666,
              "#ed7953"
             ],
             [
              0.7777777777777778,
              "#fb9f3a"
             ],
             [
              0.8888888888888888,
              "#fdca26"
             ],
             [
              1,
              "#f0f921"
             ]
            ],
            "type": "contour"
           }
          ],
          "contourcarpet": [
           {
            "colorbar": {
             "outlinewidth": 0,
             "ticks": ""
            },
            "type": "contourcarpet"
           }
          ],
          "heatmap": [
           {
            "colorbar": {
             "outlinewidth": 0,
             "ticks": ""
            },
            "colorscale": [
             [
              0,
              "#0d0887"
             ],
             [
              0.1111111111111111,
              "#46039f"
             ],
             [
              0.2222222222222222,
              "#7201a8"
             ],
             [
              0.3333333333333333,
              "#9c179e"
             ],
             [
              0.4444444444444444,
              "#bd3786"
             ],
             [
              0.5555555555555556,
              "#d8576b"
             ],
             [
              0.6666666666666666,
              "#ed7953"
             ],
             [
              0.7777777777777778,
              "#fb9f3a"
             ],
             [
              0.8888888888888888,
              "#fdca26"
             ],
             [
              1,
              "#f0f921"
             ]
            ],
            "type": "heatmap"
           }
          ],
          "heatmapgl": [
           {
            "colorbar": {
             "outlinewidth": 0,
             "ticks": ""
            },
            "colorscale": [
             [
              0,
              "#0d0887"
             ],
             [
              0.1111111111111111,
              "#46039f"
             ],
             [
              0.2222222222222222,
              "#7201a8"
             ],
             [
              0.3333333333333333,
              "#9c179e"
             ],
             [
              0.4444444444444444,
              "#bd3786"
             ],
             [
              0.5555555555555556,
              "#d8576b"
             ],
             [
              0.6666666666666666,
              "#ed7953"
             ],
             [
              0.7777777777777778,
              "#fb9f3a"
             ],
             [
              0.8888888888888888,
              "#fdca26"
             ],
             [
              1,
              "#f0f921"
             ]
            ],
            "type": "heatmapgl"
           }
          ],
          "histogram": [
           {
            "marker": {
             "pattern": {
              "fillmode": "overlay",
              "size": 10,
              "solidity": 0.2
             }
            },
            "type": "histogram"
           }
          ],
          "histogram2d": [
           {
            "colorbar": {
             "outlinewidth": 0,
             "ticks": ""
            },
            "colorscale": [
             [
              0,
              "#0d0887"
             ],
             [
              0.1111111111111111,
              "#46039f"
             ],
             [
              0.2222222222222222,
              "#7201a8"
             ],
             [
              0.3333333333333333,
              "#9c179e"
             ],
             [
              0.4444444444444444,
              "#bd3786"
             ],
             [
              0.5555555555555556,
              "#d8576b"
             ],
             [
              0.6666666666666666,
              "#ed7953"
             ],
             [
              0.7777777777777778,
              "#fb9f3a"
             ],
             [
              0.8888888888888888,
              "#fdca26"
             ],
             [
              1,
              "#f0f921"
             ]
            ],
            "type": "histogram2d"
           }
          ],
          "histogram2dcontour": [
           {
            "colorbar": {
             "outlinewidth": 0,
             "ticks": ""
            },
            "colorscale": [
             [
              0,
              "#0d0887"
             ],
             [
              0.1111111111111111,
              "#46039f"
             ],
             [
              0.2222222222222222,
              "#7201a8"
             ],
             [
              0.3333333333333333,
              "#9c179e"
             ],
             [
              0.4444444444444444,
              "#bd3786"
             ],
             [
              0.5555555555555556,
              "#d8576b"
             ],
             [
              0.6666666666666666,
              "#ed7953"
             ],
             [
              0.7777777777777778,
              "#fb9f3a"
             ],
             [
              0.8888888888888888,
              "#fdca26"
             ],
             [
              1,
              "#f0f921"
             ]
            ],
            "type": "histogram2dcontour"
           }
          ],
          "mesh3d": [
           {
            "colorbar": {
             "outlinewidth": 0,
             "ticks": ""
            },
            "type": "mesh3d"
           }
          ],
          "parcoords": [
           {
            "line": {
             "colorbar": {
              "outlinewidth": 0,
              "ticks": ""
             }
            },
            "type": "parcoords"
           }
          ],
          "pie": [
           {
            "automargin": true,
            "type": "pie"
           }
          ],
          "scatter": [
           {
            "fillpattern": {
             "fillmode": "overlay",
             "size": 10,
             "solidity": 0.2
            },
            "type": "scatter"
           }
          ],
          "scatter3d": [
           {
            "line": {
             "colorbar": {
              "outlinewidth": 0,
              "ticks": ""
             }
            },
            "marker": {
             "colorbar": {
              "outlinewidth": 0,
              "ticks": ""
             }
            },
            "type": "scatter3d"
           }
          ],
          "scattercarpet": [
           {
            "marker": {
             "colorbar": {
              "outlinewidth": 0,
              "ticks": ""
             }
            },
            "type": "scattercarpet"
           }
          ],
          "scattergeo": [
           {
            "marker": {
             "colorbar": {
              "outlinewidth": 0,
              "ticks": ""
             }
            },
            "type": "scattergeo"
           }
          ],
          "scattergl": [
           {
            "marker": {
             "colorbar": {
              "outlinewidth": 0,
              "ticks": ""
             }
            },
            "type": "scattergl"
           }
          ],
          "scattermapbox": [
           {
            "marker": {
             "colorbar": {
              "outlinewidth": 0,
              "ticks": ""
             }
            },
            "type": "scattermapbox"
           }
          ],
          "scatterpolar": [
           {
            "marker": {
             "colorbar": {
              "outlinewidth": 0,
              "ticks": ""
             }
            },
            "type": "scatterpolar"
           }
          ],
          "scatterpolargl": [
           {
            "marker": {
             "colorbar": {
              "outlinewidth": 0,
              "ticks": ""
             }
            },
            "type": "scatterpolargl"
           }
          ],
          "scatterternary": [
           {
            "marker": {
             "colorbar": {
              "outlinewidth": 0,
              "ticks": ""
             }
            },
            "type": "scatterternary"
           }
          ],
          "surface": [
           {
            "colorbar": {
             "outlinewidth": 0,
             "ticks": ""
            },
            "colorscale": [
             [
              0,
              "#0d0887"
             ],
             [
              0.1111111111111111,
              "#46039f"
             ],
             [
              0.2222222222222222,
              "#7201a8"
             ],
             [
              0.3333333333333333,
              "#9c179e"
             ],
             [
              0.4444444444444444,
              "#bd3786"
             ],
             [
              0.5555555555555556,
              "#d8576b"
             ],
             [
              0.6666666666666666,
              "#ed7953"
             ],
             [
              0.7777777777777778,
              "#fb9f3a"
             ],
             [
              0.8888888888888888,
              "#fdca26"
             ],
             [
              1,
              "#f0f921"
             ]
            ],
            "type": "surface"
           }
          ],
          "table": [
           {
            "cells": {
             "fill": {
              "color": "#EBF0F8"
             },
             "line": {
              "color": "white"
             }
            },
            "header": {
             "fill": {
              "color": "#C8D4E3"
             },
             "line": {
              "color": "white"
             }
            },
            "type": "table"
           }
          ]
         },
         "layout": {
          "annotationdefaults": {
           "arrowcolor": "#2a3f5f",
           "arrowhead": 0,
           "arrowwidth": 1
          },
          "autotypenumbers": "strict",
          "coloraxis": {
           "colorbar": {
            "outlinewidth": 0,
            "ticks": ""
           }
          },
          "colorscale": {
           "diverging": [
            [
             0,
             "#8e0152"
            ],
            [
             0.1,
             "#c51b7d"
            ],
            [
             0.2,
             "#de77ae"
            ],
            [
             0.3,
             "#f1b6da"
            ],
            [
             0.4,
             "#fde0ef"
            ],
            [
             0.5,
             "#f7f7f7"
            ],
            [
             0.6,
             "#e6f5d0"
            ],
            [
             0.7,
             "#b8e186"
            ],
            [
             0.8,
             "#7fbc41"
            ],
            [
             0.9,
             "#4d9221"
            ],
            [
             1,
             "#276419"
            ]
           ],
           "sequential": [
            [
             0,
             "#0d0887"
            ],
            [
             0.1111111111111111,
             "#46039f"
            ],
            [
             0.2222222222222222,
             "#7201a8"
            ],
            [
             0.3333333333333333,
             "#9c179e"
            ],
            [
             0.4444444444444444,
             "#bd3786"
            ],
            [
             0.5555555555555556,
             "#d8576b"
            ],
            [
             0.6666666666666666,
             "#ed7953"
            ],
            [
             0.7777777777777778,
             "#fb9f3a"
            ],
            [
             0.8888888888888888,
             "#fdca26"
            ],
            [
             1,
             "#f0f921"
            ]
           ],
           "sequentialminus": [
            [
             0,
             "#0d0887"
            ],
            [
             0.1111111111111111,
             "#46039f"
            ],
            [
             0.2222222222222222,
             "#7201a8"
            ],
            [
             0.3333333333333333,
             "#9c179e"
            ],
            [
             0.4444444444444444,
             "#bd3786"
            ],
            [
             0.5555555555555556,
             "#d8576b"
            ],
            [
             0.6666666666666666,
             "#ed7953"
            ],
            [
             0.7777777777777778,
             "#fb9f3a"
            ],
            [
             0.8888888888888888,
             "#fdca26"
            ],
            [
             1,
             "#f0f921"
            ]
           ]
          },
          "colorway": [
           "#636efa",
           "#EF553B",
           "#00cc96",
           "#ab63fa",
           "#FFA15A",
           "#19d3f3",
           "#FF6692",
           "#B6E880",
           "#FF97FF",
           "#FECB52"
          ],
          "font": {
           "color": "#2a3f5f"
          },
          "geo": {
           "bgcolor": "white",
           "lakecolor": "white",
           "landcolor": "#E5ECF6",
           "showlakes": true,
           "showland": true,
           "subunitcolor": "white"
          },
          "hoverlabel": {
           "align": "left"
          },
          "hovermode": "closest",
          "mapbox": {
           "style": "light"
          },
          "paper_bgcolor": "white",
          "plot_bgcolor": "#E5ECF6",
          "polar": {
           "angularaxis": {
            "gridcolor": "white",
            "linecolor": "white",
            "ticks": ""
           },
           "bgcolor": "#E5ECF6",
           "radialaxis": {
            "gridcolor": "white",
            "linecolor": "white",
            "ticks": ""
           }
          },
          "scene": {
           "xaxis": {
            "backgroundcolor": "#E5ECF6",
            "gridcolor": "white",
            "gridwidth": 2,
            "linecolor": "white",
            "showbackground": true,
            "ticks": "",
            "zerolinecolor": "white"
           },
           "yaxis": {
            "backgroundcolor": "#E5ECF6",
            "gridcolor": "white",
            "gridwidth": 2,
            "linecolor": "white",
            "showbackground": true,
            "ticks": "",
            "zerolinecolor": "white"
           },
           "zaxis": {
            "backgroundcolor": "#E5ECF6",
            "gridcolor": "white",
            "gridwidth": 2,
            "linecolor": "white",
            "showbackground": true,
            "ticks": "",
            "zerolinecolor": "white"
           }
          },
          "shapedefaults": {
           "line": {
            "color": "#2a3f5f"
           }
          },
          "ternary": {
           "aaxis": {
            "gridcolor": "white",
            "linecolor": "white",
            "ticks": ""
           },
           "baxis": {
            "gridcolor": "white",
            "linecolor": "white",
            "ticks": ""
           },
           "bgcolor": "#E5ECF6",
           "caxis": {
            "gridcolor": "white",
            "linecolor": "white",
            "ticks": ""
           }
          },
          "title": {
           "x": 0.05
          },
          "xaxis": {
           "automargin": true,
           "gridcolor": "white",
           "linecolor": "white",
           "ticks": "",
           "title": {
            "standoff": 15
           },
           "zerolinecolor": "white",
           "zerolinewidth": 2
          },
          "yaxis": {
           "automargin": true,
           "gridcolor": "white",
           "linecolor": "white",
           "ticks": "",
           "title": {
            "standoff": 15
           },
           "zerolinecolor": "white",
           "zerolinewidth": 2
          }
         }
        }
       }
      },
      "text/html": [
       "<div>                            <div id=\"9b5cff27-1c9e-450f-bd93-8d07facc48dd\" class=\"plotly-graph-div\" style=\"height:525px; width:100%;\"></div>            <script type=\"text/javascript\">                require([\"plotly\"], function(Plotly) {                    window.PLOTLYENV=window.PLOTLYENV || {};                                    if (document.getElementById(\"9b5cff27-1c9e-450f-bd93-8d07facc48dd\")) {                    Plotly.newPlot(                        \"9b5cff27-1c9e-450f-bd93-8d07facc48dd\",                        [{\"customdata\":[[\"2808\",\"104\"],[\"2421\",\"1192\"],[\"1192\",\"2421\"],[\"133\",\"134\"],[\"134\",\"133\"],[\"136\",\"133\"],[\"133\",\"136\"],[\"133\",\"137\"],[\"137\",\"133\"],[\"137\",\"134\"],[\"134\",\"137\"],[\"1358\",\"1359\"],[\"1359\",\"1358\"],[\"3709\",\"137\"],[\"2006\",\"1377\"],[\"1377\",\"2006\"],[\"1377\",\"828\"],[\"828\",\"1377\"],[\"1501\",\"2758\"],[\"2856\",\"1501\"],[\"1501\",\"2856\"],[\"1532\",\"2571\"],[\"2571\",\"1532\"],[\"1532\",\"302\"],[\"302\",\"1532\"],[\"726\",\"1532\"],[\"1532\",\"726\"],[\"1532\",\"828\"],[\"828\",\"1532\"],[\"1600\",\"1599\"],[\"1599\",\"1600\"],[\"828\",\"1648\"],[\"1648\",\"828\"],[\"1653\",\"828\"],[\"828\",\"1653\"],[\"1659\",\"1919\"],[\"1919\",\"1659\"],[\"1659\",\"519\"],[\"519\",\"1659\"],[\"186\",\"172\"],[\"172\",\"186\"],[\"1743\",\"1755\"],[\"1753\",\"1755\"],[\"1754\",\"1755\"],[\"1756\",\"1755\"],[\"1764\",\"1755\"],[\"1765\",\"1755\"],[\"1766\",\"1755\"],[\"1768\",\"1755\"],[\"1935\",\"1755\"],[\"2667\",\"1755\"],[\"1776\",\"3148\"],[\"3148\",\"1776\"],[\"1937\",\"1927\"],[\"1927\",\"1937\"],[\"1927\",\"1939\"],[\"1939\",\"1927\"],[\"1928\",\"1942\"],[\"1942\",\"1928\"],[\"1932\",\"1939\"],[\"1939\",\"1932\"],[\"1937\",\"1934\"],[\"1934\",\"1937\"],[\"1934\",\"1939\"],[\"1939\",\"1934\"],[\"1937\",\"668\"],[\"668\",\"1937\"],[\"2093\",\"3445\"],[\"3445\",\"2093\"],[\"2150\",\"828\"],[\"828\",\"2150\"],[\"2189\",\"773\"],[\"773\",\"2189\"],[\"2312\",\"2307\"],[\"2421\",\"2437\"],[\"2437\",\"2421\"],[\"2571\",\"3846\"],[\"3846\",\"2571\"],[\"260\",\"2804\"],[\"2804\",\"260\"],[\"2670\",\"432\"],[\"432\",\"2670\"],[\"2690\",\"3694\"],[\"2856\",\"2758\"],[\"2992\",\"3694\"],[\"3067\",\"3694\"],[\"3090\",\"3093\"],[\"3093\",\"3090\"],[\"3237\",\"3251\"],[\"3251\",\"3237\"],[\"3308\",\"984\"],[\"984\",\"3308\"],[\"3660\",\"828\"],[\"828\",\"3660\"],[\"587\",\"3694\"],[\"3742\",\"3756\"],[\"3756\",\"3742\"],[\"3760\",\"3756\"],[\"3756\",\"3760\"],[\"731\",\"732\"],[\"732\",\"731\"],[\"2856, 2758\",\"1501\"],[\"1501, 2758\",\"2856\"],[\"2856, 1501\",\"2758\"],[\"2856\",\"1501, 2758\"],[\"1501\",\"2856, 2758\"]],\"hovertemplate\":\"Dataset=Before Sanitization\\u003cbr\\u003esupport=%{x}\\u003cbr\\u003econfidence=%{y}\\u003cbr\\u003elift=%{z}\\u003cbr\\u003eantecedents=%{customdata[0]}\\u003cbr\\u003econsequents=%{customdata[1]}\\u003cextra\\u003e\\u003c\\u002fextra\\u003e\",\"legendgroup\":\"Before Sanitization\",\"marker\":{\"color\":\"#636efa\",\"symbol\":\"circle\"},\"mode\":\"markers\",\"name\":\"Before Sanitization\",\"scene\":\"scene\",\"showlegend\":true,\"x\":[0.02666666666666667,0.02666666666666667,0.02666666666666667,0.02666666666666667,0.02666666666666667,0.02666666666666667,0.02666666666666667,0.04,0.04,0.03333333333333333,0.03333333333333333,0.02666666666666667,0.02666666666666667,0.02666666666666667,0.02666666666666667,0.02666666666666667,0.02666666666666667,0.02666666666666667,0.04,0.04666666666666667,0.04666666666666667,0.02666666666666667,0.02666666666666667,0.02666666666666667,0.02666666666666667,0.03333333333333333,0.03333333333333333,0.02666666666666667,0.02666666666666667,0.03333333333333333,0.03333333333333333,0.02666666666666667,0.02666666666666667,0.02666666666666667,0.02666666666666667,0.03333333333333333,0.03333333333333333,0.02666666666666667,0.02666666666666667,0.02666666666666667,0.02666666666666667,0.04,0.02666666666666667,0.03333333333333333,0.02666666666666667,0.03333333333333333,0.02666666666666667,0.03333333333333333,0.03333333333333333,0.04,0.02666666666666667,0.03333333333333333,0.03333333333333333,0.02666666666666667,0.02666666666666667,0.02666666666666667,0.02666666666666667,0.03333333333333333,0.03333333333333333,0.02666666666666667,0.02666666666666667,0.02666666666666667,0.02666666666666667,0.03333333333333333,0.03333333333333333,0.02666666666666667,0.02666666666666667,0.02666666666666667,0.02666666666666667,0.02666666666666667,0.02666666666666667,0.02666666666666667,0.02666666666666667,0.02666666666666667,0.02666666666666667,0.02666666666666667,0.02666666666666667,0.02666666666666667,0.04,0.04,0.03333333333333333,0.03333333333333333,0.02666666666666667,0.04,0.02666666666666667,0.02666666666666667,0.02666666666666667,0.02666666666666667,0.02666666666666667,0.02666666666666667,0.02666666666666667,0.02666666666666667,0.02666666666666667,0.02666666666666667,0.02666666666666667,0.03333333333333333,0.03333333333333333,0.03333333333333333,0.03333333333333333,0.02666666666666667,0.02666666666666667,0.04,0.04,0.04,0.04,0.04],\"y\":[0.5,0.5,0.6666666666666667,0.5714285714285714,0.6666666666666667,1.0,0.5714285714285714,0.8571428571428571,0.6,0.5,0.8333333333333333,1.0,0.6666666666666667,0.8,0.6666666666666667,0.5,0.5,0.5,0.75,0.875,0.875,0.5,0.8,0.5,0.5714285714285714,0.8333333333333333,0.625,0.5,0.5,0.5555555555555556,0.8333333333333333,0.5,0.5714285714285714,0.6666666666666667,0.5,0.8333333333333333,0.8333333333333333,0.6666666666666667,0.8,1.0,0.5,0.8571428571428571,1.0,0.8333333333333333,1.0,0.7142857142857142,0.8,0.625,0.8333333333333333,0.6666666666666667,0.8,1.0,1.0,0.6666666666666667,0.6666666666666667,0.6666666666666667,0.5,0.5555555555555556,0.8333333333333333,0.6666666666666667,0.5,0.6666666666666667,0.5714285714285714,0.7142857142857142,0.625,0.6666666666666667,0.6666666666666667,0.8,0.8,0.8,0.5,1.0,1.0,0.5,0.5,0.6666666666666667,0.8,1.0,0.6666666666666667,0.5454545454545454,0.7142857142857142,0.8333333333333333,0.6666666666666667,0.75,0.5,0.6666666666666667,1.0,0.6666666666666667,0.5714285714285714,1.0,0.8,1.0,1.0,0.5,1.0,0.7142857142857142,0.5555555555555556,0.625,0.5555555555555556,0.5714285714285714,0.6666666666666667,1.0,1.0,0.8571428571428571,0.75,0.75],\"z\":[7.5,12.5,12.5,14.285714285714285,14.285714285714286,21.428571428571427,21.428571428571427,12.857142857142856,12.857142857142856,12.5,12.499999999999998,25.0,25.0,12.0,12.5,12.5,9.375,9.375,6.61764705882353,16.40625,16.40625,15.0,15.0,10.714285714285714,10.714285714285714,15.624999999999998,15.625,9.375,9.375,13.88888888888889,13.888888888888888,10.714285714285714,10.714285714285714,12.5,12.5,20.833333333333332,20.833333333333332,20.000000000000004,20.0,18.75,18.75,7.563025210084033,8.823529411764707,7.352941176470588,8.823529411764707,6.302521008403361,7.058823529411765,5.514705882352941,7.352941176470588,5.882352941176472,7.058823529411765,30.0,30.0,16.666666666666668,16.666666666666668,12.5,12.5,13.88888888888889,13.888888888888888,12.5,12.5,14.285714285714286,14.285714285714285,13.39285714285714,13.392857142857142,16.666666666666668,16.666666666666668,24.0,24.0,15.0,15.0,37.5,37.5,7.5,12.5,12.5,30.0,30.0,9.090909090909092,9.09090909090909,17.857142857142854,17.857142857142854,6.25,6.61764705882353,4.6875,6.25,25.0,25.0,21.428571428571427,21.428571428571427,30.0,30.0,18.75,18.75,9.375,11.904761904761903,11.904761904761905,10.416666666666668,10.416666666666666,14.285714285714285,14.285714285714286,18.75,18.75,7.563025210084033,18.75,18.75],\"type\":\"scatter3d\"},{\"customdata\":[[\"2808\",\"104\"],[\"2421\",\"1192\"],[\"1192\",\"2421\"],[\"137\",\"134\"],[\"134\",\"137\"],[\"3709\",\"137\"],[\"2006\",\"1377\"],[\"1377\",\"2006\"],[\"1532\",\"302\"],[\"302\",\"1532\"],[\"726\",\"1532\"],[\"1532\",\"726\"],[\"1600\",\"1599\"],[\"1599\",\"1600\"],[\"1659\",\"1919\"],[\"1919\",\"1659\"],[\"1659\",\"519\"],[\"519\",\"1659\"],[\"1743\",\"1755\"],[\"1753\",\"1755\"],[\"1754\",\"1755\"],[\"1756\",\"1755\"],[\"1764\",\"1755\"],[\"1765\",\"1755\"],[\"1766\",\"1755\"],[\"1768\",\"1755\"],[\"1935\",\"1755\"],[\"2667\",\"1755\"],[\"1937\",\"1927\"],[\"1927\",\"1937\"],[\"1927\",\"1939\"],[\"1939\",\"1927\"],[\"1928\",\"1942\"],[\"1942\",\"1928\"],[\"1932\",\"1939\"],[\"1939\",\"1932\"],[\"1937\",\"1934\"],[\"1934\",\"1937\"],[\"1934\",\"1939\"],[\"1939\",\"1934\"],[\"1937\",\"668\"],[\"668\",\"1937\"],[\"2093\",\"3445\"],[\"3445\",\"2093\"],[\"2312\",\"2307\"],[\"2421\",\"2437\"],[\"2437\",\"2421\"],[\"260\",\"2804\"],[\"2804\",\"260\"],[\"2670\",\"432\"],[\"432\",\"2670\"],[\"3742\",\"3756\"],[\"3756\",\"3742\"],[\"3760\",\"3756\"],[\"3756\",\"3760\"],[\"731\",\"732\"],[\"732\",\"731\"]],\"hovertemplate\":\"Dataset=After Sanitization\\u003cbr\\u003esupport=%{x}\\u003cbr\\u003econfidence=%{y}\\u003cbr\\u003elift=%{z}\\u003cbr\\u003eantecedents=%{customdata[0]}\\u003cbr\\u003econsequents=%{customdata[1]}\\u003cextra\\u003e\\u003c\\u002fextra\\u003e\",\"legendgroup\":\"After Sanitization\",\"marker\":{\"color\":\"#EF553B\",\"symbol\":\"circle\"},\"mode\":\"markers\",\"name\":\"After Sanitization\",\"scene\":\"scene\",\"showlegend\":true,\"x\":[0.02666666666666667,0.02666666666666667,0.02666666666666667,0.03333333333333333,0.03333333333333333,0.02666666666666667,0.02666666666666667,0.02666666666666667,0.02666666666666667,0.02666666666666667,0.03333333333333333,0.03333333333333333,0.03333333333333333,0.03333333333333333,0.03333333333333333,0.03333333333333333,0.02666666666666667,0.02666666666666667,0.04,0.02666666666666667,0.03333333333333333,0.02666666666666667,0.03333333333333333,0.02666666666666667,0.03333333333333333,0.03333333333333333,0.04,0.02666666666666667,0.02666666666666667,0.02666666666666667,0.02666666666666667,0.02666666666666667,0.03333333333333333,0.03333333333333333,0.02666666666666667,0.02666666666666667,0.02666666666666667,0.02666666666666667,0.03333333333333333,0.03333333333333333,0.02666666666666667,0.02666666666666667,0.02666666666666667,0.02666666666666667,0.02666666666666667,0.02666666666666667,0.02666666666666667,0.04,0.04,0.03333333333333333,0.03333333333333333,0.03333333333333333,0.03333333333333333,0.03333333333333333,0.03333333333333333,0.02666666666666667,0.02666666666666667],\"y\":[0.5,0.5,0.6666666666666667,0.5,0.8333333333333333,0.8,0.6666666666666667,0.5,0.5,0.5714285714285714,0.8333333333333333,0.625,0.5555555555555556,0.8333333333333333,0.8333333333333333,0.8333333333333333,0.6666666666666667,0.8,0.8571428571428571,1.0,0.8333333333333333,1.0,0.7142857142857142,0.8,0.625,0.8333333333333333,0.6666666666666667,0.8,0.6666666666666667,0.6666666666666667,0.6666666666666667,0.5,0.5555555555555556,0.8333333333333333,0.6666666666666667,0.5,0.6666666666666667,0.5714285714285714,0.7142857142857142,0.625,0.6666666666666667,0.6666666666666667,0.8,0.8,0.5,0.5,0.6666666666666667,0.6666666666666667,0.5454545454545454,0.7142857142857142,0.8333333333333333,0.7142857142857142,0.5555555555555556,0.625,0.5555555555555556,0.5714285714285714,0.6666666666666667],\"z\":[7.5,12.5,12.5,12.5,12.499999999999998,12.0,12.5,12.5,10.714285714285714,10.714285714285714,15.624999999999998,15.625,13.88888888888889,13.888888888888888,20.833333333333332,20.833333333333332,20.000000000000004,20.0,7.563025210084033,8.823529411764707,7.352941176470588,8.823529411764707,6.302521008403361,7.058823529411765,5.514705882352941,7.352941176470588,5.882352941176472,7.058823529411765,16.666666666666668,16.666666666666668,12.5,12.5,13.88888888888889,13.888888888888888,12.5,12.5,14.285714285714286,14.285714285714285,13.39285714285714,13.392857142857142,16.666666666666668,16.666666666666668,24.0,24.0,7.5,12.5,12.5,9.090909090909092,9.09090909090909,17.857142857142854,17.857142857142854,11.904761904761903,11.904761904761905,10.416666666666668,10.416666666666666,14.285714285714285,14.285714285714286],\"type\":\"scatter3d\"}],                        {\"template\":{\"data\":{\"histogram2dcontour\":[{\"type\":\"histogram2dcontour\",\"colorbar\":{\"outlinewidth\":0,\"ticks\":\"\"},\"colorscale\":[[0.0,\"#0d0887\"],[0.1111111111111111,\"#46039f\"],[0.2222222222222222,\"#7201a8\"],[0.3333333333333333,\"#9c179e\"],[0.4444444444444444,\"#bd3786\"],[0.5555555555555556,\"#d8576b\"],[0.6666666666666666,\"#ed7953\"],[0.7777777777777778,\"#fb9f3a\"],[0.8888888888888888,\"#fdca26\"],[1.0,\"#f0f921\"]]}],\"choropleth\":[{\"type\":\"choropleth\",\"colorbar\":{\"outlinewidth\":0,\"ticks\":\"\"}}],\"histogram2d\":[{\"type\":\"histogram2d\",\"colorbar\":{\"outlinewidth\":0,\"ticks\":\"\"},\"colorscale\":[[0.0,\"#0d0887\"],[0.1111111111111111,\"#46039f\"],[0.2222222222222222,\"#7201a8\"],[0.3333333333333333,\"#9c179e\"],[0.4444444444444444,\"#bd3786\"],[0.5555555555555556,\"#d8576b\"],[0.6666666666666666,\"#ed7953\"],[0.7777777777777778,\"#fb9f3a\"],[0.8888888888888888,\"#fdca26\"],[1.0,\"#f0f921\"]]}],\"heatmap\":[{\"type\":\"heatmap\",\"colorbar\":{\"outlinewidth\":0,\"ticks\":\"\"},\"colorscale\":[[0.0,\"#0d0887\"],[0.1111111111111111,\"#46039f\"],[0.2222222222222222,\"#7201a8\"],[0.3333333333333333,\"#9c179e\"],[0.4444444444444444,\"#bd3786\"],[0.5555555555555556,\"#d8576b\"],[0.6666666666666666,\"#ed7953\"],[0.7777777777777778,\"#fb9f3a\"],[0.8888888888888888,\"#fdca26\"],[1.0,\"#f0f921\"]]}],\"heatmapgl\":[{\"type\":\"heatmapgl\",\"colorbar\":{\"outlinewidth\":0,\"ticks\":\"\"},\"colorscale\":[[0.0,\"#0d0887\"],[0.1111111111111111,\"#46039f\"],[0.2222222222222222,\"#7201a8\"],[0.3333333333333333,\"#9c179e\"],[0.4444444444444444,\"#bd3786\"],[0.5555555555555556,\"#d8576b\"],[0.6666666666666666,\"#ed7953\"],[0.7777777777777778,\"#fb9f3a\"],[0.8888888888888888,\"#fdca26\"],[1.0,\"#f0f921\"]]}],\"contourcarpet\":[{\"type\":\"contourcarpet\",\"colorbar\":{\"outlinewidth\":0,\"ticks\":\"\"}}],\"contour\":[{\"type\":\"contour\",\"colorbar\":{\"outlinewidth\":0,\"ticks\":\"\"},\"colorscale\":[[0.0,\"#0d0887\"],[0.1111111111111111,\"#46039f\"],[0.2222222222222222,\"#7201a8\"],[0.3333333333333333,\"#9c179e\"],[0.4444444444444444,\"#bd3786\"],[0.5555555555555556,\"#d8576b\"],[0.6666666666666666,\"#ed7953\"],[0.7777777777777778,\"#fb9f3a\"],[0.8888888888888888,\"#fdca26\"],[1.0,\"#f0f921\"]]}],\"surface\":[{\"type\":\"surface\",\"colorbar\":{\"outlinewidth\":0,\"ticks\":\"\"},\"colorscale\":[[0.0,\"#0d0887\"],[0.1111111111111111,\"#46039f\"],[0.2222222222222222,\"#7201a8\"],[0.3333333333333333,\"#9c179e\"],[0.4444444444444444,\"#bd3786\"],[0.5555555555555556,\"#d8576b\"],[0.6666666666666666,\"#ed7953\"],[0.7777777777777778,\"#fb9f3a\"],[0.8888888888888888,\"#fdca26\"],[1.0,\"#f0f921\"]]}],\"mesh3d\":[{\"type\":\"mesh3d\",\"colorbar\":{\"outlinewidth\":0,\"ticks\":\"\"}}],\"scatter\":[{\"fillpattern\":{\"fillmode\":\"overlay\",\"size\":10,\"solidity\":0.2},\"type\":\"scatter\"}],\"parcoords\":[{\"type\":\"parcoords\",\"line\":{\"colorbar\":{\"outlinewidth\":0,\"ticks\":\"\"}}}],\"scatterpolargl\":[{\"type\":\"scatterpolargl\",\"marker\":{\"colorbar\":{\"outlinewidth\":0,\"ticks\":\"\"}}}],\"bar\":[{\"error_x\":{\"color\":\"#2a3f5f\"},\"error_y\":{\"color\":\"#2a3f5f\"},\"marker\":{\"line\":{\"color\":\"#E5ECF6\",\"width\":0.5},\"pattern\":{\"fillmode\":\"overlay\",\"size\":10,\"solidity\":0.2}},\"type\":\"bar\"}],\"scattergeo\":[{\"type\":\"scattergeo\",\"marker\":{\"colorbar\":{\"outlinewidth\":0,\"ticks\":\"\"}}}],\"scatterpolar\":[{\"type\":\"scatterpolar\",\"marker\":{\"colorbar\":{\"outlinewidth\":0,\"ticks\":\"\"}}}],\"histogram\":[{\"marker\":{\"pattern\":{\"fillmode\":\"overlay\",\"size\":10,\"solidity\":0.2}},\"type\":\"histogram\"}],\"scattergl\":[{\"type\":\"scattergl\",\"marker\":{\"colorbar\":{\"outlinewidth\":0,\"ticks\":\"\"}}}],\"scatter3d\":[{\"type\":\"scatter3d\",\"line\":{\"colorbar\":{\"outlinewidth\":0,\"ticks\":\"\"}},\"marker\":{\"colorbar\":{\"outlinewidth\":0,\"ticks\":\"\"}}}],\"scattermapbox\":[{\"type\":\"scattermapbox\",\"marker\":{\"colorbar\":{\"outlinewidth\":0,\"ticks\":\"\"}}}],\"scatterternary\":[{\"type\":\"scatterternary\",\"marker\":{\"colorbar\":{\"outlinewidth\":0,\"ticks\":\"\"}}}],\"scattercarpet\":[{\"type\":\"scattercarpet\",\"marker\":{\"colorbar\":{\"outlinewidth\":0,\"ticks\":\"\"}}}],\"carpet\":[{\"aaxis\":{\"endlinecolor\":\"#2a3f5f\",\"gridcolor\":\"white\",\"linecolor\":\"white\",\"minorgridcolor\":\"white\",\"startlinecolor\":\"#2a3f5f\"},\"baxis\":{\"endlinecolor\":\"#2a3f5f\",\"gridcolor\":\"white\",\"linecolor\":\"white\",\"minorgridcolor\":\"white\",\"startlinecolor\":\"#2a3f5f\"},\"type\":\"carpet\"}],\"table\":[{\"cells\":{\"fill\":{\"color\":\"#EBF0F8\"},\"line\":{\"color\":\"white\"}},\"header\":{\"fill\":{\"color\":\"#C8D4E3\"},\"line\":{\"color\":\"white\"}},\"type\":\"table\"}],\"barpolar\":[{\"marker\":{\"line\":{\"color\":\"#E5ECF6\",\"width\":0.5},\"pattern\":{\"fillmode\":\"overlay\",\"size\":10,\"solidity\":0.2}},\"type\":\"barpolar\"}],\"pie\":[{\"automargin\":true,\"type\":\"pie\"}]},\"layout\":{\"autotypenumbers\":\"strict\",\"colorway\":[\"#636efa\",\"#EF553B\",\"#00cc96\",\"#ab63fa\",\"#FFA15A\",\"#19d3f3\",\"#FF6692\",\"#B6E880\",\"#FF97FF\",\"#FECB52\"],\"font\":{\"color\":\"#2a3f5f\"},\"hovermode\":\"closest\",\"hoverlabel\":{\"align\":\"left\"},\"paper_bgcolor\":\"white\",\"plot_bgcolor\":\"#E5ECF6\",\"polar\":{\"bgcolor\":\"#E5ECF6\",\"angularaxis\":{\"gridcolor\":\"white\",\"linecolor\":\"white\",\"ticks\":\"\"},\"radialaxis\":{\"gridcolor\":\"white\",\"linecolor\":\"white\",\"ticks\":\"\"}},\"ternary\":{\"bgcolor\":\"#E5ECF6\",\"aaxis\":{\"gridcolor\":\"white\",\"linecolor\":\"white\",\"ticks\":\"\"},\"baxis\":{\"gridcolor\":\"white\",\"linecolor\":\"white\",\"ticks\":\"\"},\"caxis\":{\"gridcolor\":\"white\",\"linecolor\":\"white\",\"ticks\":\"\"}},\"coloraxis\":{\"colorbar\":{\"outlinewidth\":0,\"ticks\":\"\"}},\"colorscale\":{\"sequential\":[[0.0,\"#0d0887\"],[0.1111111111111111,\"#46039f\"],[0.2222222222222222,\"#7201a8\"],[0.3333333333333333,\"#9c179e\"],[0.4444444444444444,\"#bd3786\"],[0.5555555555555556,\"#d8576b\"],[0.6666666666666666,\"#ed7953\"],[0.7777777777777778,\"#fb9f3a\"],[0.8888888888888888,\"#fdca26\"],[1.0,\"#f0f921\"]],\"sequentialminus\":[[0.0,\"#0d0887\"],[0.1111111111111111,\"#46039f\"],[0.2222222222222222,\"#7201a8\"],[0.3333333333333333,\"#9c179e\"],[0.4444444444444444,\"#bd3786\"],[0.5555555555555556,\"#d8576b\"],[0.6666666666666666,\"#ed7953\"],[0.7777777777777778,\"#fb9f3a\"],[0.8888888888888888,\"#fdca26\"],[1.0,\"#f0f921\"]],\"diverging\":[[0,\"#8e0152\"],[0.1,\"#c51b7d\"],[0.2,\"#de77ae\"],[0.3,\"#f1b6da\"],[0.4,\"#fde0ef\"],[0.5,\"#f7f7f7\"],[0.6,\"#e6f5d0\"],[0.7,\"#b8e186\"],[0.8,\"#7fbc41\"],[0.9,\"#4d9221\"],[1,\"#276419\"]]},\"xaxis\":{\"gridcolor\":\"white\",\"linecolor\":\"white\",\"ticks\":\"\",\"title\":{\"standoff\":15},\"zerolinecolor\":\"white\",\"automargin\":true,\"zerolinewidth\":2},\"yaxis\":{\"gridcolor\":\"white\",\"linecolor\":\"white\",\"ticks\":\"\",\"title\":{\"standoff\":15},\"zerolinecolor\":\"white\",\"automargin\":true,\"zerolinewidth\":2},\"scene\":{\"xaxis\":{\"backgroundcolor\":\"#E5ECF6\",\"gridcolor\":\"white\",\"linecolor\":\"white\",\"showbackground\":true,\"ticks\":\"\",\"zerolinecolor\":\"white\",\"gridwidth\":2},\"yaxis\":{\"backgroundcolor\":\"#E5ECF6\",\"gridcolor\":\"white\",\"linecolor\":\"white\",\"showbackground\":true,\"ticks\":\"\",\"zerolinecolor\":\"white\",\"gridwidth\":2},\"zaxis\":{\"backgroundcolor\":\"#E5ECF6\",\"gridcolor\":\"white\",\"linecolor\":\"white\",\"showbackground\":true,\"ticks\":\"\",\"zerolinecolor\":\"white\",\"gridwidth\":2}},\"shapedefaults\":{\"line\":{\"color\":\"#2a3f5f\"}},\"annotationdefaults\":{\"arrowcolor\":\"#2a3f5f\",\"arrowhead\":0,\"arrowwidth\":1},\"geo\":{\"bgcolor\":\"white\",\"landcolor\":\"#E5ECF6\",\"subunitcolor\":\"white\",\"showland\":true,\"showlakes\":true,\"lakecolor\":\"white\"},\"title\":{\"x\":0.05},\"mapbox\":{\"style\":\"light\"}}},\"scene\":{\"domain\":{\"x\":[0.0,1.0],\"y\":[0.0,1.0]},\"xaxis\":{\"title\":{\"text\":\"support\"}},\"yaxis\":{\"title\":{\"text\":\"confidence\"}},\"zaxis\":{\"title\":{\"text\":\"lift\"}}},\"legend\":{\"title\":{\"text\":\"Dataset\"},\"tracegroupgap\":0},\"margin\":{\"t\":60}},                        {\"responsive\": true}                    ).then(function(){\n",
       "                            \n",
       "var gd = document.getElementById('9b5cff27-1c9e-450f-bd93-8d07facc48dd');\n",
       "var x = new MutationObserver(function (mutations, observer) {{\n",
       "        var display = window.getComputedStyle(gd).display;\n",
       "        if (!display || display === 'none') {{\n",
       "            console.log([gd, 'removed!']);\n",
       "            Plotly.purge(gd);\n",
       "            observer.disconnect();\n",
       "        }}\n",
       "}});\n",
       "\n",
       "// Listen for the removal of the full notebook cells\n",
       "var notebookContainer = gd.closest('#notebook-container');\n",
       "if (notebookContainer) {{\n",
       "    x.observe(notebookContainer, {childList: true});\n",
       "}}\n",
       "\n",
       "// Listen for the clearing of the current output cell\n",
       "var outputEl = gd.closest('.output');\n",
       "if (outputEl) {{\n",
       "    x.observe(outputEl, {childList: true});\n",
       "}}\n",
       "\n",
       "                        })                };                });            </script>        </div>"
      ]
     },
     "metadata": {},
     "output_type": "display_data"
    }
   ],
   "source": [
    "import pandas as pd\n",
    "\n",
    "# Function to convert frozensets to a string representation\n",
    "def frozenset_to_string(frozenset_column):\n",
    "    return frozenset_column.apply(lambda x: ', '.join(x))\n",
    "\n",
    "# Apply the conversion to both DataFrames\n",
    "rules['antecedents'] = frozenset_to_string(rules['antecedents'])\n",
    "rules['consequents'] = frozenset_to_string(rules['consequents'])\n",
    "rules_after_hidden['antecedents'] = frozenset_to_string(rules_after_hidden['antecedents'])\n",
    "rules_after_hidden['consequents'] = frozenset_to_string(rules_after_hidden['consequents'])\n",
    "\n",
    "# Add a column to distinguish between the two sets of rules\n",
    "rules['Dataset'] = 'Before Sanitization'\n",
    "rules_after_hidden['Dataset'] = 'After Sanitization'\n",
    "\n",
    "# Combine the two DataFrames for plotting\n",
    "combined_rules = pd.concat([rules, rules_after_hidden])\n",
    "\n",
    "# Now, you should be able to plot without errors\n",
    "import plotly.express as px\n",
    "\n",
    "fig = px.scatter_3d(combined_rules,\n",
    "                    x='support',\n",
    "                    y='confidence',\n",
    "                    z='lift',\n",
    "                    color='Dataset',\n",
    "                    hover_data=['antecedents', 'consequents'])\n",
    "\n",
    "fig.show()\n"
   ]
  }
 ],
 "metadata": {
  "kernelspec": {
   "display_name": "Python 3 (ipykernel)",
   "language": "python",
   "name": "python3"
  },
  "language_info": {
   "codemirror_mode": {
    "name": "ipython",
    "version": 3
   },
   "file_extension": ".py",
   "mimetype": "text/x-python",
   "name": "python",
   "nbconvert_exporter": "python",
   "pygments_lexer": "ipython3",
   "version": "3.9.0"
  }
 },
 "nbformat": 4,
 "nbformat_minor": 2
}
